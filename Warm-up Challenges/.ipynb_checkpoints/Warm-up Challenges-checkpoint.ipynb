{
 "cells": [
  {
   "cell_type": "code",
   "execution_count": 21,
   "id": "0a88b3a9",
   "metadata": {
    "scrolled": true
   },
   "outputs": [],
   "source": [
    "# https://stackoverflow.com/a/49444359/11493297\n",
    "# !pip install jupyterthemes\n",
    "!jt -t oceans16"
   ]
  },
  {
   "cell_type": "markdown",
   "id": "91d5ae05",
   "metadata": {},
   "source": [
    "# [Sales by Match](https://www.hackerrank.com/challenges/sock-merchant/problem?h_l=interview&isFullScreen=true&playlist_slugs%5B%5D=interview-preparation-kit&playlist_slugs%5B%5D=warmup)"
   ]
  },
  {
   "cell_type": "code",
   "execution_count": 2,
   "id": "97cbba35",
   "metadata": {},
   "outputs": [
    {
     "data": {
      "text/plain": [
       "6"
      ]
     },
     "execution_count": 2,
     "metadata": {},
     "output_type": "execute_result"
    }
   ],
   "source": [
    "def find_pairs(n, ar, res=0):\n",
    "    for i in list(set(ar)):\n",
    "        pairs = ar.count(i)\n",
    "        res += pairs-pairs%2\n",
    "    return res//2\n",
    "\n",
    "ar = [6, 5, 2, 3, 5, 2, 2, 1, 1, 5, 1, 3, 3, 3, 5]\n",
    "n = len(ar)\n",
    "find_pairs(n, ar)"
   ]
  },
  {
   "cell_type": "markdown",
   "id": "a29e0763",
   "metadata": {},
   "source": [
    "# [Counting Valleys](https://www.hackerrank.com/challenges/counting-valleys/problem?isFullScreen=true&h_l=interview&playlist_slugs%5B%5D=interview-preparation-kit&playlist_slugs%5B%5D=warmup)"
   ]
  },
  {
   "cell_type": "code",
   "execution_count": 1,
   "id": "33f14805",
   "metadata": {
    "scrolled": true
   },
   "outputs": [
    {
     "data": {
      "text/plain": [
       "2"
      ]
     },
     "execution_count": 1,
     "metadata": {},
     "output_type": "execute_result"
    }
   ],
   "source": [
    "# https://www.youtube.com/watch?v=aisHQWphVsQ\n",
    "\n",
    "def countingValleys(steps, path):\n",
    "    count = valley = 0\n",
    "    for i in path:\n",
    "        if i == 'U':\n",
    "            count +=1\n",
    "        else:\n",
    "            count -=1\n",
    "        if count == 0 and i == 'U':\n",
    "            valley += 1\n",
    "    return valley\n",
    "    \n",
    "path = 'DDUUDDUDUUUD'\n",
    "steps = len(path)\n",
    "countingValleys(steps, path)"
   ]
  },
  {
   "cell_type": "markdown",
   "id": "534c611b",
   "metadata": {},
   "source": [
    "# [Jumping on the Clouds](https://www.hackerrank.com/challenges/jumping-on-the-clouds/problem?isFullScreen=true&h_l=interview&playlist_slugs%5B%5D=interview-preparation-kit&playlist_slugs%5B%5D=warmup)"
   ]
  },
  {
   "cell_type": "code",
   "execution_count": 1,
   "id": "3e4e0bea",
   "metadata": {},
   "outputs": [],
   "source": [
    "# def jumpingOnClouds(c, n):\n",
    "#     index = jumps = 0\n",
    "#     while index < n-1:\n",
    "#         print(index)\n",
    "#         if index +2 < n and c[index +2] == 0:\n",
    "#             jumps += 1\n",
    "#             index += 2\n",
    "#         elif index +1 < n and c[index +1] == 0:\n",
    "#             jumps += 1\n",
    "#             index += 1\n",
    "#     return jumps\n",
    "    \n",
    "# c = [0, 1, 0, 0, 0, 0, 1]\n",
    "# n = len(c)\n",
    "# jumpingOnClouds(c, n)\n",
    "\n",
    "# # Restart if stuck in infinite loop"
   ]
  },
  {
   "cell_type": "code",
   "execution_count": 20,
   "id": "eade73dd",
   "metadata": {},
   "outputs": [
    {
     "name": "stdout",
     "output_type": "stream",
     "text": [
      "None\n"
     ]
    }
   ],
   "source": [
    "def jumpingOnClouds(c):\n",
    "    index = jumps = 0\n",
    "    while index < n-1:\n",
    "        if index +2 < n and c[index +2] == 0:\n",
    "            jumps += 1\n",
    "            index += 2\n",
    "        elif index +1 < n and c[index +1] == 0:\n",
    "            jumps += 1\n",
    "            index += 1\n",
    "        else:\n",
    "            return jumps\n",
    "    \n",
    "c = [0, 0, 0, 0, 1, 0]\n",
    "# c = [0, 1, 0, 0, 0, 0, 1]\n",
    "\n",
    "n = len(c)\n",
    "res = jumpingOnClouds(c)\n",
    "print(res)\n",
    "\n",
    "# ---------------------------------\n",
    "# https://live.upgrad.com/_join/2xEyJqXPmW3FzVG1EYBSaGW3NVmson0L \n",
    "# ... sir didn't reply answer \n",
    "# https://course.upgrad.com/v/course/4458/question/631556"
   ]
  },
  {
   "cell_type": "markdown",
   "id": "4c2b1cae",
   "metadata": {},
   "source": [
    "# [Repeated String](https://www.hackerrank.com/challenges/repeated-string/problem?isFullScreen=true&h_l=interview&playlist_slugs%5B%5D=interview-preparation-kit&playlist_slugs%5B%5D=warmup)"
   ]
  },
  {
   "cell_type": "code",
   "execution_count": 91,
   "id": "c4a396c5",
   "metadata": {},
   "outputs": [
    {
     "name": "stdout",
     "output_type": "stream",
     "text": [
      "abaabaaba + a, (3 x 2) + 1 = 7\n"
     ]
    },
    {
     "data": {
      "text/plain": [
       "7"
      ]
     },
     "execution_count": 91,
     "metadata": {},
     "output_type": "execute_result"
    }
   ],
   "source": [
    "def repeatedString(s, n):\n",
    "    nsq = n // len(s)\n",
    "    qc = s.count('a')\n",
    "\n",
    "    nsr = n % len(s)\n",
    "    sr = s[:nsr]\n",
    "    rc = sr.count('a')\n",
    "\n",
    "    print(f'{nsq*s} + {sr}, ({nsq} x {qc}) + {rc} = {nsq*qc + rc}')\n",
    "    return nsq*qc + rc\n",
    "\n",
    "s = 'aba'\n",
    "n = 10\n",
    "repeatedString(s, n)"
   ]
  },
  {
   "cell_type": "code",
   "execution_count": 1,
   "id": "b05ecc66",
   "metadata": {},
   "outputs": [
    {
     "data": {
      "text/plain": [
       "7"
      ]
     },
     "execution_count": 1,
     "metadata": {},
     "output_type": "execute_result"
    }
   ],
   "source": [
    "def repeatedString(s, n):\n",
    "    return (s*n)[:n].count('a')\n",
    "    \n",
    "s = 'aba'\n",
    "n = 10\n",
    "repeatedString(s, n)"
   ]
  },
  {
   "cell_type": "code",
   "execution_count": 2,
   "id": "a3b3bbf0",
   "metadata": {},
   "outputs": [
    {
     "data": {
      "text/plain": [
       "7"
      ]
     },
     "execution_count": 2,
     "metadata": {},
     "output_type": "execute_result"
    }
   ],
   "source": [
    "def repeatedString(s, n):\n",
    "    i = j = c = 0\n",
    "    while i < n:\n",
    "        if 'a' == s[j]:\n",
    "            c += 1\n",
    "        i += 1\n",
    "        j += 1\n",
    "        if j > len(s) -1:\n",
    "            j = 0\n",
    "    return c\n",
    "    \n",
    "s = 'aba'\n",
    "n = 10\n",
    "repeatedString(s, n)"
   ]
  },
  {
   "cell_type": "code",
   "execution_count": 40,
   "id": "032f508d",
   "metadata": {},
   "outputs": [
    {
     "data": {
      "text/plain": [
       "(112436, True)"
      ]
     },
     "execution_count": 40,
     "metadata": {},
     "output_type": "execute_result"
    }
   ],
   "source": [
    "def repeatedString(s, n):\n",
    "    x = n//len(s)\n",
    "    c = s.count('a')\n",
    "    y = n%len(s)\n",
    "    z = s[:y].count('a')\n",
    "    return z + x*c\n",
    "\n",
    "s = 'jdiacikk' \n",
    "n = 899491\n",
    "r = repeatedString(s, n)\n",
    "r, r == 112436"
   ]
  },
  {
   "cell_type": "code",
   "execution_count": null,
   "id": "c8bb9c31",
   "metadata": {},
   "outputs": [],
   "source": []
  }
 ],
 "metadata": {
  "kernelspec": {
   "display_name": "Python 3 (ipykernel)",
   "language": "python",
   "name": "python3"
  },
  "language_info": {
   "codemirror_mode": {
    "name": "ipython",
    "version": 3
   },
   "file_extension": ".py",
   "mimetype": "text/x-python",
   "name": "python",
   "nbconvert_exporter": "python",
   "pygments_lexer": "ipython3",
   "version": "3.9.13"
  }
 },
 "nbformat": 4,
 "nbformat_minor": 5
}
