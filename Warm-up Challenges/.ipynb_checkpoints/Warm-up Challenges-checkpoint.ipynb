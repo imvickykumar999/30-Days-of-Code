{
 "cells": [
  {
   "cell_type": "markdown",
   "id": "91d5ae05",
   "metadata": {},
   "source": [
    "# [Sales by Match](https://www.hackerrank.com/challenges/sock-merchant/problem?h_l=interview&isFullScreen=true&playlist_slugs%5B%5D=interview-preparation-kit&playlist_slugs%5B%5D=warmup)"
   ]
  },
  {
   "cell_type": "code",
   "execution_count": 85,
   "id": "97cbba35",
   "metadata": {},
   "outputs": [
    {
     "data": {
      "text/plain": [
       "6"
      ]
     },
     "execution_count": 85,
     "metadata": {},
     "output_type": "execute_result"
    }
   ],
   "source": [
    "def find_pairs(n, ar, res=0):\n",
    "    for i in list(set(ar)):\n",
    "        pairs = ar.count(i)\n",
    "        res += pairs-pairs%2\n",
    "    return res//2\n",
    "\n",
    "ar = [6, 5, 2, 3, 5, 2, 2, 1, 1, 5, 1, 3, 3, 3, 5]\n",
    "n = len(ar)\n",
    "find_pairs(n, ar)"
   ]
  },
  {
   "cell_type": "code",
   "execution_count": 86,
   "id": "0a88b3a9",
   "metadata": {
    "scrolled": true
   },
   "outputs": [],
   "source": [
    "# https://stackoverflow.com/a/49444359/11493297\n",
    "# !pip install jupyterthemes\n",
    "# !jt -t oceans16"
   ]
  },
  {
   "cell_type": "markdown",
   "id": "a29e0763",
   "metadata": {},
   "source": [
    "# [Counting Valleys](https://www.hackerrank.com/challenges/counting-valleys/problem?isFullScreen=true&h_l=interview&playlist_slugs%5B%5D=interview-preparation-kit&playlist_slugs%5B%5D=warmup)"
   ]
  },
  {
   "cell_type": "code",
   "execution_count": 89,
   "id": "33f14805",
   "metadata": {
    "scrolled": true
   },
   "outputs": [
    {
     "data": {
      "text/plain": [
       "2"
      ]
     },
     "execution_count": 89,
     "metadata": {},
     "output_type": "execute_result"
    }
   ],
   "source": [
    "# https://www.youtube.com/watch?v=aisHQWphVsQ\n",
    "\n",
    "def countingValleys(steps, path):\n",
    "    count = valley = 0\n",
    "    for i in path:\n",
    "        if i == 'U':\n",
    "            count +=1\n",
    "        else:\n",
    "            count -=1\n",
    "        if count == 0 and i == 'U':\n",
    "            valley += 1\n",
    "    return valley\n",
    "    \n",
    "path = 'DDUUDDUDUUUD'\n",
    "steps = len(path)\n",
    "countingValleys(steps, path)"
   ]
  },
  {
   "cell_type": "code",
   "execution_count": null,
   "id": "bebb51f0",
   "metadata": {},
   "outputs": [],
   "source": []
  }
 ],
 "metadata": {
  "kernelspec": {
   "display_name": "Python 3 (ipykernel)",
   "language": "python",
   "name": "python3"
  },
  "language_info": {
   "codemirror_mode": {
    "name": "ipython",
    "version": 3
   },
   "file_extension": ".py",
   "mimetype": "text/x-python",
   "name": "python",
   "nbconvert_exporter": "python",
   "pygments_lexer": "ipython3",
   "version": "3.9.13"
  }
 },
 "nbformat": 4,
 "nbformat_minor": 5
}
