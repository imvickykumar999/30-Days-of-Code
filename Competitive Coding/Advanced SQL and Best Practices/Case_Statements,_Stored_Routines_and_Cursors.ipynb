{
  "nbformat": 4,
  "nbformat_minor": 0,
  "metadata": {
    "colab": {
      "provenance": []
    },
    "kernelspec": {
      "name": "python3",
      "display_name": "Python 3"
    },
    "language_info": {
      "name": "python"
    }
  },
  "cells": [
    {
      "cell_type": "markdown",
      "source": [
        "# Case Statements - I"
      ],
      "metadata": {
        "id": "k7CPFg_nOuE9"
      }
    },
    {
      "cell_type": "markdown",
      "source": [
        "Case Statement\n",
        "--------\n",
        "\n",
        "Which of the following describes a case statement?\n",
        "\n",
        "    It is a way to establish a loop in SQL.\n",
        "\n",
        "    It is a way to establish an IF-THEN-ELSE in SQL.\n",
        "\n",
        "    It is a way to establish a data definition in SQL.\n",
        "\n",
        "    All of the above.\n",
        "\n",
        "------------\n",
        "\n",
        "    It is a way to establish an IF-THEN-ELSE in SQL.\n",
        "\n",
        "    ✓ Correct\n",
        "    Feedback:\n",
        "\n",
        "It is a Case statement that is used to define conditions in a query, just like an IF-THEN-ELSE statement in other programming languages."
      ],
      "metadata": {
        "id": "5g27r6V8OyR2"
      }
    },
    {
      "cell_type": "markdown",
      "source": [
        "Case Statement Output\n",
        "------------\n",
        "\n",
        "Consider a table named 'marks', which has nine columns, as shown below:\n",
        "\n",
        "name: Name of the student\n",
        "\n",
        "semester_1: Average marks in the first semester\n",
        "\n",
        "semester_2: Average marks in the second semester\n",
        "\n",
        "semester_3: Average marks in the third semester\n",
        "\n",
        "semester_4: Average marks in the fourth semester\n",
        "\n",
        "semester_5: Average marks in the fifth semester\n",
        "\n",
        "semester_6: Average marks in the sixth semester\n",
        "\n",
        "semester_7: Average marks in the seventh semester\n",
        "\n",
        "semester_8: Average marks in the eighth semester\n",
        "\n",
        "\n",
        "What will be the output of the SQL query mentioned below?\n",
        "\n",
        "    SELECT name,\n",
        "    ( CASE\n",
        "      WHEN semester_1 > semester_2 THEN 'Sem 1'\n",
        "      ELSE 'Sem 2'\n",
        "    END) AS 'Sem 1/2'\n",
        "    FROM marks;\n",
        "\n",
        "---------\n",
        "\n",
        "    The names of the students and the semester out of 1 and 2 in which a student scored more marks.\n",
        "\n",
        "    The names of the students, and 'Sem 2'.\n",
        "\n",
        "    All student details and the semester out of 1 and 2 in which a student scored more marks.\n",
        "\n",
        "    All student details, and 'Sem 2'.\n",
        "\n",
        "-----------\n",
        "\n",
        "    The names of the students and the semester out of 1 and 2 in which a student scored more marks.\n",
        "\n",
        "    ✓ Correct\n",
        "    Feedback:\n",
        "\n",
        "The given query will return the name along with the output of the case statement.\n",
        "\n",
        "The case statement will output the semester out of 1 and 2 in which a student scored more marks."
      ],
      "metadata": {
        "id": "eiPRGRPhPCj3"
      }
    },
    {
      "cell_type": "markdown",
      "source": [
        "Tax Slabs\n",
        "---------\n",
        "\n",
        "**Description**\n",
        "\n",
        "Below is the table for the income tax slabs in India.\n",
        "\n",
        "**Tax Slabs**\n",
        "\n",
        "![ss](https://media-doselect.s3.amazonaws.com/generic/31wY3Y85eV5pRbWOvkLeXyxB3/Capture.PNG)\n",
        "\n",
        "Here are the annual salary details (in lakhs per annum) of 10 employees working at Google Hyderabad office.\n",
        "\n",
        "**Salaries**\n",
        "\n",
        "![ss](https://media-doselect.s3.amazonaws.com/generic/RXwYK8preqN497wgz8Ze0oy4v/Capture.PNG)\n",
        "\n",
        "Add another column to output the tax slabs along with the given data.\n",
        "\n",
        "**Note**: Consider the name of the column having the salaries as 'salary'.\n",
        "\n",
        "**Sample Output**\n",
        "\n",
        "![ss](https://media-doselect.s3.amazonaws.com/generic/bZapa8k1rE3M97zqj74pRRbA/Capture.PNG)\n",
        "\n",
        "-----------\n",
        "\n",
        "    use upgrad;\n",
        "\n",
        "    select *,\n",
        "      (case\n",
        "        when salary <= 2.5 then 'A'\n",
        "            when salary > 2.5 and salary <= 5 then 'B'\n",
        "            when salary > 5 and salary <= 10 then 'C'\n",
        "            when salary > 10 then 'D'\n",
        "      end) as 'Tax Slab'\n",
        "    from salaries;"
      ],
      "metadata": {
        "id": "sktVcKkNPg6U"
      }
    },
    {
      "cell_type": "markdown",
      "source": [
        "# Case Statements - II"
      ],
      "metadata": {
        "id": "_0HMCcacRn70"
      }
    },
    {
      "cell_type": "markdown",
      "source": [
        "Tax Slabs - 2\n",
        "--------\n",
        "\n",
        "**Description**\n",
        "\n",
        "Below is the table for calculating income tax rates for the income tax slabs in India.\n",
        "\n",
        "**Tax Rates**\n",
        "\n",
        "![ss](https://media-doselect.s3.amazonaws.com/generic/xxE222o0LAybBJBrAGyEvVwe/Capture.PNG)\n",
        "\n",
        "Here are the annual salary details (in lakhs per annum) of 10 employees working at Google Hyderabad office.\n",
        "\n",
        "**Salaries**\n",
        "\n",
        "![ss](https://media-doselect.s3.amazonaws.com/generic/RXwYK8preqN497wgz8Ze0oy4v/Capture.PNG)\n",
        "\n",
        "Add another column to output the income tax to be paid by each employee.\n",
        "\n",
        "Make sure to round off the tax amounts to the nearest integer.\n",
        "\n",
        "Also, display the tax amount as 0 if the annual salary is less than or equal to 2.5 lakhs per annum.\n",
        "\n",
        "**Note**: Consider the name of the column having the salaries as 'salary'.\n",
        "\n",
        "**Sample Output**\n",
        "\n",
        "![ss](https://media-doselect.s3.amazonaws.com/generic/yvK3o8P8axjVWW2BjZAvzp7wg/Capture.PNG)\n",
        "\n",
        "------------\n",
        "\n",
        "    use upgrad;\n",
        "\n",
        "    select *,\n",
        "    round(case\n",
        "    when salary <= 2.5\n",
        "    then 0\n",
        "    when salary > 2.5 and salary <= 5\n",
        "    then 0.05 * (salary - 2.5) * pow(10,5)\n",
        "    when salary > 5 and salary <= 10\n",
        "    then (0.125 + 0.2 * (salary - 5)) * pow(10,5)\n",
        "    when salary > 10\n",
        "    then (1.125 + 0.3 * (salary - 10)) * pow(10,5) end) as 'Tax Amounts'\n",
        "    from salaries;"
      ],
      "metadata": {
        "id": "XBYa3erhR8sl"
      }
    },
    {
      "cell_type": "markdown",
      "source": [
        "# User-defined functions (**`UDFs`**)"
      ],
      "metadata": {
        "id": "PFT6pEvYUqFC"
      }
    },
    {
      "cell_type": "markdown",
      "source": [
        "Number of Return Values\n",
        "----------\n",
        "\n",
        "How many values can be returned from a given stored function?\n",
        "\n",
        "    0\n",
        "\n",
        "    1\n",
        "\n",
        "    2\n",
        "\n",
        "    More than 2\n",
        "\n",
        "-----\n",
        "\n",
        "    1\n",
        "\n",
        "    ✓ Correct\n",
        "    Feedback:\n",
        "\n",
        "A stored function `returns` one and only **one** value."
      ],
      "metadata": {
        "id": "vO4uNULyUm0d"
      }
    },
    {
      "cell_type": "markdown",
      "source": [
        "The Deterministic Keyword\n",
        "---------\n",
        "\n",
        "Stored functions always return the same result for the same input parameters by default.\n",
        "\n",
        "    True\n",
        "\n",
        "    False\n",
        "\n",
        "-----\n",
        "\n",
        "    False\n",
        "\n",
        "    ✓ Correct\n",
        "    Feedback:\n",
        "\n",
        "You need to specify the Deterministic keyword to ensure that the output is the same for the same input values.\n",
        "\n",
        "This is disabled in MySQL by default."
      ],
      "metadata": {
        "id": "IcmnwgxlVTNG"
      }
    },
    {
      "cell_type": "markdown",
      "source": [
        "UDFs vs Case Statements\n",
        "-------\n",
        "\n",
        "You learnt how to categorise orders based on the profit or loss incurred.\n",
        "\n",
        "This problem statement was solved using two methods - case statements and UDFs.\n",
        "\n",
        "Are there any advantages of using one method over the other?\n",
        "\n",
        "If so, what are they?\n",
        "\n",
        "----------\n",
        "\n",
        "`Suggested Answer`\n",
        "\n",
        "- A case statement is preferable if you just need to categorise existing data values based on certain parameters.\n",
        "\n",
        "- A UDF using case statements is preferable if you need to categorise existing as well as incoming data values based on certain parameters."
      ],
      "metadata": {
        "id": "6t4iHG-cVlSF"
      }
    },
    {
      "cell_type": "markdown",
      "source": [
        "# Stored Procedures"
      ],
      "metadata": {
        "id": "Oz8qD4aGV2Jj"
      }
    },
    {
      "cell_type": "markdown",
      "source": [
        "The **differences** between `UDFs and stored procedures` are summarised in the table given below.\n",
        "\n",
        "UDF\t| Stored Procedure\n",
        "--- | ---\n",
        "1. It supports only the input parameter, not the output.\t| 1. It supports input, output and input-output parameters.\n",
        "2. It cannot call a stored procedure.\t| 2. It can call a UDF.\n",
        "3. It can be called using any SELECT statement.\t| 3. It can be called using only a CALL statement.\n",
        "4. It must return a value.\t| 4. It need not return a value.\n",
        "5. Only the 'select' operation is allowed.\t| 5. All database operations are allowed.\n"
      ],
      "metadata": {
        "id": "DRHbBJWRWFyq"
      }
    },
    {
      "cell_type": "markdown",
      "source": [
        "# Cursors\n",
        "\n",
        "`Cursors`: A cursor is used to individually process each row that is returned in a query."
      ],
      "metadata": {
        "id": "XlAbCGX4Wrz-"
      }
    },
    {
      "cell_type": "markdown",
      "source": [
        "Cursors in Real Life\n",
        "-------\n",
        "\n",
        "In the video, Professor Ramanathan mentioned that you can use cursors in loan processing when you want to implement checks\n",
        "\n",
        "and perform the required action for each loan applicant.\n",
        "\n",
        "Can you think of another example where you can use cursors?\n",
        "\n",
        "--------\n",
        "\n",
        "`Suggested Answer`\n",
        "\n",
        "You can use cursors for bank account transactions to move money back and forth between the bank and a customer's account in that bank in real-time.\n",
        "\n",
        "You can do this individually for each customer at all times, by processing each banking request individually."
      ],
      "metadata": {
        "id": "IzI-L7TZWt58"
      }
    },
    {
      "cell_type": "code",
      "execution_count": null,
      "metadata": {
        "id": "IRbuDyENOCnY"
      },
      "outputs": [],
      "source": []
    }
  ]
}