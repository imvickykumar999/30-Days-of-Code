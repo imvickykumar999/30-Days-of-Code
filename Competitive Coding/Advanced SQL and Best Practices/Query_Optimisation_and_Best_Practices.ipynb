{
  "nbformat": 4,
  "nbformat_minor": 0,
  "metadata": {
    "colab": {
      "provenance": []
    },
    "kernelspec": {
      "name": "python3",
      "display_name": "Python 3"
    },
    "language_info": {
      "name": "python"
    }
  },
  "cells": [
    {
      "cell_type": "markdown",
      "source": [
        "# Indexing - I"
      ],
      "metadata": {
        "id": "_WpNogstX_Z5"
      }
    },
    {
      "cell_type": "markdown",
      "source": [
        "Storage of Indexes\n",
        "--------\n",
        "\n",
        "State whether the following statement is true or false:\n",
        "\n",
        "- Indexes require disk space for storage.\n",
        "\n",
        "    True\n",
        "\n",
        "    False\n",
        "\n",
        "-----\n",
        "\n",
        "    True\n",
        "\n",
        "    ✓ Correct\n",
        "    Feedback:\n",
        "\n",
        "Although you cannot view indexes whenever you execute queries, they occupy some storage space.\n",
        "\n",
        "Indexes are internal to the database engine."
      ],
      "metadata": {
        "id": "Ka5UBMghbk6k"
      }
    },
    {
      "cell_type": "markdown",
      "source": [
        "Employee Index\n",
        "-------\n",
        "\n",
        "Which of the following does the index for the 'Employee' table contain?\n",
        "\n",
        "    Employee Id and Salary\n",
        "\n",
        "    Employee Id and the location of disk space for the 'Employee' table\n",
        "\n",
        "    Employee Id and the location of disk space for the particular record\n",
        "\n",
        "    Employee Id and Date of birth\n",
        "\n",
        "-------\n",
        "\n",
        "    Employee Id and the location of disk space for the particular record\n",
        "\n",
        "    ✓ Correct\n",
        "    Feedback:\n",
        "\n",
        "Recall the definition of an index as discussed by the professor in the video above"
      ],
      "metadata": {
        "id": "qshDJJQObtwe"
      }
    },
    {
      "cell_type": "markdown",
      "source": [
        "# Indexing - II"
      ],
      "metadata": {
        "id": "9PDSm6Thce4F"
      }
    },
    {
      "cell_type": "markdown",
      "source": [
        "Indices\n",
        "------\n",
        "\n",
        "Which of the following SQL commands works efficiently when you are using indices?\n",
        "\n",
        "    SELECT\n",
        "\n",
        "    FROM\n",
        "\n",
        "    DROP\n",
        "\n",
        "    WHERE\n",
        "\n",
        "--------\n",
        "\n",
        "    WHERE\n",
        "\n",
        "    ✓ Correct\n",
        "    Feedback:\n",
        "\n",
        "The 'where' clause will look up each row and decide whether to return it or not based on the filter condition(s).\n",
        "\n",
        "However, using an index will enable you to get the exact rows that you need without processing the entire table row by row."
      ],
      "metadata": {
        "id": "m4RaWtGdcBdN"
      }
    },
    {
      "cell_type": "markdown",
      "source": [
        "DDL\n",
        "-----\n",
        "\n",
        "Which of the following DDL statement can be used to explicitly create an index?\n",
        "\n",
        "    CREATE INDEX\n",
        "\n",
        "    CREATE FILTER\n",
        "\n",
        "    MAKE INDEX\n",
        "\n",
        "    MAKE FILTER\n",
        "\n",
        "-------\n",
        "\n",
        "    CREATE INDEX\n",
        "\n",
        "    ✓ Correct\n",
        "    Feedback:\n",
        "\n",
        "The CREATE INDEX command is used for creating an index in SQL."
      ],
      "metadata": {
        "id": "gYQP7Xs9cNlO"
      }
    },
    {
      "cell_type": "markdown",
      "source": [
        "# Clustered vs Non-Clustered Indexing\n",
        "\n",
        "The major **`differences`** between these are summarised in the table given below.\n",
        "\n",
        "<br>\n",
        "\n",
        "Clustered Index\t| Non-Clustered Index\n",
        "---- | ---\n",
        "1. This is mostly the primary key of the table.\t| 1. This is a combination of one or more columns of the table.\n",
        "2. It is present within the table.\t| 2. The unique list of keys is present outside the table.\n",
        "3. It does not require a separate mapping.\t| 3. The external table points to different sections of the main table.\n",
        "4. It is relatively faster.\t| 4. It is relatively slower."
      ],
      "metadata": {
        "id": "iNiy_v9JclNZ"
      }
    },
    {
      "cell_type": "code",
      "source": [],
      "metadata": {
        "id": "XiNCozgGbr2c"
      },
      "execution_count": null,
      "outputs": []
    }
  ]
}