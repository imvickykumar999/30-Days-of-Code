{
  "nbformat": 4,
  "nbformat_minor": 0,
  "metadata": {
    "colab": {
      "provenance": []
    },
    "kernelspec": {
      "name": "python3",
      "display_name": "Python 3"
    },
    "language_info": {
      "name": "python"
    }
  },
  "cells": [
    {
      "cell_type": "markdown",
      "source": [
        "# Rank Functions - I"
      ],
      "metadata": {
        "id": "FK2L0KK1fD5X"
      }
    },
    {
      "cell_type": "markdown",
      "source": [
        "Most Available Products\n",
        "--------\n",
        "\n",
        "**Description**\n",
        "\n",
        "Given a table named `products` with the following columns.\n",
        "\n",
        "![ss](https://media-doselect.s3.amazonaws.com/generic/9dZa9a5VYWbkAz1P8NpxkONj/Capture.PNG)\n",
        "\n",
        "Write a query to retrieve the ranks of the products in decreasing order of their quantities in stock.\n",
        "\n",
        "**Sample Output**\n",
        "\n",
        "![ss](https://media-doselect.s3.amazonaws.com/generic/nO7YZ8Y5V9YJnpR0P9wa7edP3/Capture.PNG)\n",
        "\n",
        "---------\n",
        "\n",
        "    use upgrad;\n",
        "\n",
        "    select quantityInStock,\n",
        "    rank() over (order by quantityInStock desc) as quantityRank\n",
        "    from products;"
      ],
      "metadata": {
        "id": "XXtjphWBeiq2"
      }
    },
    {
      "cell_type": "markdown",
      "source": [
        "# Rank Functions - II\n",
        "\n",
        "There are different types of rank functions, which are as follows:\n",
        "\n",
        "- **RANK**(): Rank of the current row within its partition, with gaps\n",
        "- **DENSE_RANK**(): Rank of the current row within its partition, without gaps\n",
        "- **PERCENT_RANK**(): Percentage rank value, which always lies between 0 and 1\n",
        "\n",
        "\n",
        "    CBSE Marks (12th)\n",
        "\n",
        "Name | Marks (out of 500)\t| Rank | Dense Rank\n",
        "--- | --- | --- | ---\n",
        "Shubham Agarwal\t| 495 |\t1\t| 1\n",
        "Paritosh Sinha | 495 | 1 | 1\n",
        "Dilip Kumar\t| 492\t| 3\t| 2\n",
        "\n",
        "<br>\n",
        "\n",
        "------\n",
        "\n",
        "Notice how Dilip's rank is 3 but his dense rank is 2.\n",
        "\n",
        "This is because the rank increases whenever the previous entries have similar values."
      ],
      "metadata": {
        "id": "SFA_SVoPfpZM"
      }
    },
    {
      "cell_type": "markdown",
      "source": [
        "Rank Functions\n",
        "--------\n",
        "\n",
        "Which of the following is `not` a rank function in MySQL Workbench?\n",
        "\n",
        "    RANK()\n",
        "\n",
        "    DENSE_RANK()\n",
        "\n",
        "    PRECEDING_RANK()\n",
        "\n",
        "    PERCENT_RANK()\n",
        "\n",
        "---------\n",
        "\n",
        "    PRECEDING_RANK()\n",
        "\n",
        "    ✓ Correct\n",
        "    Feedback:\n",
        "\n",
        "There is no such function as `PRECEDING_RANK()` in MySQL Workbench."
      ],
      "metadata": {
        "id": "aGwYr7dwDOIm"
      }
    },
    {
      "cell_type": "markdown",
      "source": [
        "Movie Ranks\n",
        "-------\n",
        "\n",
        "Given below is a table containing the top 10 movies according to their IMDb ratings.\n",
        "\n",
        "![ss](https://upww.screenrec.com/images/f_ZmE0SGYJh7TNbBD6zp1acLntuyUK2vif.png)\n",
        "\n",
        "Find the values (A, B).\n",
        "\n",
        "    (5, 6)\n",
        "\n",
        "    (5, 9)\n",
        "\n",
        "    (6, 6)\n",
        "\n",
        "    (6, 9)\n",
        "\n",
        "-----------\n",
        "\n",
        "    (5, 9)\n",
        "\n",
        "    ✓ Correct\n",
        "    Feedback:\n",
        "\n",
        "Dense ranks are tightly packed; they have to be `consecutive`.\n",
        "\n",
        "The values of the ranks depend on the number of similarly valued entries in a table, and they need not be consecutive.\n",
        "\n",
        "Since there are four entries with rank 5, the next different entry would have a rank of **5 + 4 = 9**."
      ],
      "metadata": {
        "id": "9foZpDGHDm7O"
      }
    },
    {
      "cell_type": "markdown",
      "source": [
        "# Rank Functions - III\n",
        "\n",
        "You can use the 'row number' function for the following use cases:\n",
        "\n",
        "- To determine the top 10 selling products out of a large variety of products\n",
        "- To determine the top three winners in a car race\n",
        "- To find the top five areas in different cities in terms of GDP growth"
      ],
      "metadata": {
        "id": "i5R4EohqE5d7"
      }
    },
    {
      "cell_type": "markdown",
      "source": [
        "# Partitioning"
      ],
      "metadata": {
        "id": "0bHcJ-R4K8Ws"
      }
    },
    {
      "cell_type": "markdown",
      "source": [
        "Window Functions\n",
        "--------\n",
        "\n",
        "Which of the following statements is true for window functions?\n",
        "\n",
        "More than one option may be correct.\n",
        "\n",
        "-------------\n",
        "\n",
        "    They compute a value for each and every row in the window.\n",
        "\n",
        "    ✓ Correct\n",
        "    Feedback:\n",
        "\n",
        "Window functions are run repeatedly for every value in the table.\n",
        "\n",
        "-------------\n",
        "\n",
        "    They reduce the result set based on the aggregation.\n",
        "\n",
        "-----------\n",
        "\n",
        "    They require the 'over' clause.\n",
        "\n",
        "    ✓ Correct\n",
        "    Feedback:\n",
        "\n",
        "You must use the ‘over’ clause whenever you use any window function.\n",
        "\n",
        "----------\n",
        "\n",
        "    Window partitions can be defined to form groups of rows.\n",
        "\n",
        "    ✓ Correct\n",
        "    Feedback:\n",
        "\n",
        "Partitions are used to perform window functions on segmented groups,\n",
        "\n",
        "for deriving further insights from data.\n",
        "\n",
        "-----------"
      ],
      "metadata": {
        "id": "_oSdQ4MrNDK8"
      }
    },
    {
      "cell_type": "markdown",
      "source": [
        "Individual and Total Order Amounts\n",
        "----------\n",
        "\n",
        "**Description**\n",
        "\n",
        "Given a table named orderdetails with the following columns\n",
        "\n",
        "**Orderdetails**\n",
        "\n",
        "![ss](https://media-doselect.s3.amazonaws.com/generic/a7KbMGebq3dONQeR035JaBOQ4/order_id_table.PNG)\n",
        "\n",
        "There are some orders that have multiple order amounts corresponding to the same order.\n",
        "\n",
        "Write a query to retrieve the individual and total order amounts for each order along with the order numbers.\n",
        "\n",
        "Order the values in the increasing order of the order numbers.\n",
        "\n",
        "For similar order numbers, arrange the individual order amounts in the decreasing order.\n",
        "\n",
        "**Expected Output**\n",
        "\n",
        "![ss](https://media-doselect.s3.amazonaws.com/generic/A0yRR8L9njvkZWw8q73oaRQPb/Capture.PNG)\n",
        "\n",
        "--------\n",
        "\n",
        "    use upgrad;\n",
        "\n",
        "    select orderNumber, quantityOrdered * priceEach as individualOrderAmount,\n",
        "    sum(quantityOrdered * priceEach) over (partition by orderNumber) as totalOrderAmount\n",
        "    from orderdetails\n",
        "    order by orderNumber, individualOrderAmount desc;"
      ],
      "metadata": {
        "id": "_X1HoNyYNor5"
      }
    },
    {
      "cell_type": "markdown",
      "source": [
        "# Named Windows\n",
        "\n",
        "The order in which the various SQL statements appear in a query is as follows:\n",
        "\n",
        "1. SELECT\n",
        "2. FROM\n",
        "3. JOIN\n",
        "4. WHERE\n",
        "5. GROUP BY\n",
        "6. HAVING\n",
        "7. WINDOW\n",
        "8. ORDER BY"
      ],
      "metadata": {
        "id": "dXX_OGSPUJPC"
      }
    },
    {
      "cell_type": "markdown",
      "source": [
        "Using Named Windows\n",
        "--------\n",
        "\n",
        "Rewrite the following query using a named window:\n",
        "\n",
        "    SELECT *,\n",
        "    RANK() OVER (\n",
        "      PARTITION BY ship_mode\n",
        "      ORDER BY COUNT(*)) 'Rank',\n",
        "    DENSE_RANK() OVER (\n",
        "      PARTITION BY ship_mode\n",
        "      ORDER BY COUNT(*)) 'Dense Rank',\n",
        "    PERCENT_RANK() OVER (\n",
        "      PARTITION BY ship_mode\n",
        "      ORDER BY COUNT(*)) 'Percent Rank'\n",
        "    FROM shipping_dimen;\n",
        "\n",
        "---------\n",
        "\n",
        "`Suggested Answer`\n",
        "\n",
        "You can include the entire clause containing the 'partition by' and 'order by' keywords in a named window as follows:\n",
        "\n",
        "    SELECT *,\n",
        "    RANK() OVER w 'Rank',\n",
        "    DENSE_RANK() OVER w 'Dense Rank',\n",
        "    PERCENT_RANK() OVER w 'Percent Rank'\n",
        "    FROM shipping_dimen\n",
        "    WINDOW w AS (\n",
        "      PARTITION BY ship_mode\n",
        "      ORDER BY COUNT(*)\n",
        "    );"
      ],
      "metadata": {
        "id": "ABhZsQdlWPex"
      }
    },
    {
      "cell_type": "markdown",
      "source": [
        "# Frames - I"
      ],
      "metadata": {
        "id": "PA64ZN4sYjB3"
      }
    },
    {
      "cell_type": "markdown",
      "source": [
        "Kohli - The Batting Behemoth\n",
        "------\n",
        "\n",
        "The table given below contains the runs scored by Virat Kohli over the time period 2015-2019.\n",
        "\n",
        "It also contains the moving averages of the runs (rounded to the nearest integer) calculated using the 'unbounded preceding' keywords in SQL.\n",
        "\n",
        "Identify the year that contains the incorrect value for the moving average.\n",
        "\n",
        "**`Kohli Batting`**\n",
        "\n",
        "![ss](https://images.upgrad.com/d37f6d12-657a-43d5-ba84-12f8578d0037-Capture.PNG)\n",
        "\n",
        "    2016\n",
        "\n",
        "    2017\n",
        "\n",
        "    2018\n",
        "\n",
        "    2019\n",
        "\n",
        "---------\n",
        "\n",
        "    2018\n",
        "\n",
        "    ✓ Correct\n",
        "    Feedback:\n",
        "\n",
        "The moving average for the year 2018 would be the average of 623, 739, 1,460 and 1202, which is 1,006.\n",
        "\n",
        "Note that the averages have increased over the years, which indicates an upward trend in Virat's batting performance."
      ],
      "metadata": {
        "id": "8oc2NVI3iAJ0"
      }
    },
    {
      "cell_type": "markdown",
      "source": [
        "Kohli in ODIs\n",
        "----------\n",
        "\n",
        "**Description**\n",
        "\n",
        "The table given below contains the number of runs scored by Virat Kohli over the time period 2008-2019.\n",
        "\n",
        "Add another column which displays the 5-year moving average of the number of runs scored.\n",
        "\n",
        "**Kohli_Batting**\n",
        "\n",
        "![ss](https://media-doselect.s3.amazonaws.com/generic/9Gr8R2XwWG3dAnL3Zzj3dZoOr/Capture.PNG)\n",
        "\n",
        "**Sample Output**\n",
        "\n",
        "![ss](https://media-doselect.s3.amazonaws.com/generic/ygQMBXpjLK7WX2w75NvOM4qjM/Sample%20Output.PNG)\n",
        "\n",
        "------\n",
        "\n",
        "    use upgrad;\n",
        "\n",
        "    select *, avg(runs) over (order by year rows 4 preceding) '5 Year Moving Average'\n",
        "    from kohli_batting;"
      ],
      "metadata": {
        "id": "_nFqalV8iXCq"
      }
    },
    {
      "cell_type": "markdown",
      "source": [
        "# Frames - II\n",
        "\n",
        "![ss](https://images.upgrad.com/cd42f8f5-8974-452e-9fc5-d85c0d75c376-Capture.PNG)"
      ],
      "metadata": {
        "id": "Hml_Lcg8F5dz"
      }
    },
    {
      "cell_type": "markdown",
      "source": [
        "Defining Frames - 1\n",
        "------\n",
        "\n",
        "Consider the example given in the video.\n",
        "\n",
        "![ss](https://images.upgrad.com/b3ba2173-4272-495e-aba4-e3961098cc10-Capture.PNG)\n",
        "\n",
        "What is the range of rows that will be selected if you write the following frame clause?\n",
        "\n",
        "(Assume that the current row is Row 6)\n",
        "\n",
        "    ORDER BY X ROWS 4 FOLLOWING\n",
        "\n",
        "--------\n",
        "\n",
        "    Row 6 to Row 9\n",
        "\n",
        "    Row 7 to Row 10\n",
        "\n",
        "    Row 6 to Row 3\n",
        "\n",
        "    Row 5 to Row 2\n",
        "\n",
        "-------------\n",
        "\n",
        "    Row 7 to Row 10\n",
        "\n",
        "    ✓ Correct\n",
        "    Feedback:\n",
        "\n",
        "The given frame clause will select rows after Row 6 since the FOLLOWING keyword has been used.\n",
        "\n",
        "Also, the current row will not be included while setting up the frame."
      ],
      "metadata": {
        "id": "pPYdZTWCGjbr"
      }
    },
    {
      "cell_type": "markdown",
      "source": [
        "Defining Frames - 2\n",
        "---------\n",
        "\n",
        "Consider the example given in the video.\n",
        "\n",
        "![ss](https://images.upgrad.com/b3ba2173-4272-495e-aba4-e3961098cc10-Capture.PNG)\n",
        "\n",
        "What is the range of rows that will be selected if you write the following frame clause?\n",
        "\n",
        "(Assume that the current row is Row 6)\n",
        "\n",
        "    ORDER BY X ROWS\n",
        "    BETWEEN 2 PRECEDING AND 3 FOLLOWING\n",
        "\n",
        "---------\n",
        "\n",
        "    Row 3 to Row 8\n",
        "\n",
        "    Row 4 to Row 8\n",
        "\n",
        "    Row 4 to Row 9\n",
        "\n",
        "    Row 5 to Row 9\n",
        "\n",
        "----------\n",
        "\n",
        "    Row 4 to Row 9\n",
        "\n",
        "    ✓ Correct\n",
        "    Feedback:\n",
        "\n",
        "'2 PRECEDING' means the frame clause will select Row 5 and Row 4.\n",
        "\n",
        "'3 FOLLOWING' means that Rows 7, 8 and 9 will also be selected.\n",
        "\n",
        "It goes without saying that the current row, Row 6, is included in the frame."
      ],
      "metadata": {
        "id": "t3jYaLtUG-po"
      }
    },
    {
      "cell_type": "markdown",
      "source": [
        "Defining Frames - 3\n",
        "-----------\n",
        "\n",
        "Consider the example given in the video.\n",
        "\n",
        "![ss](https://images.upgrad.com/b3ba2173-4272-495e-aba4-e3961098cc10-Capture.PNG)\n",
        "\n",
        "What is the range of rows that will be selected if you write the following frame clause?\n",
        "\n",
        "(Assume that the current row is Row 6)\n",
        "\n",
        "    ORDER BY X DESC ROWS\n",
        "    BETWEEN UNBOUNDED PRECEDING AND 2 FOLLOWING\n",
        "\n",
        "----------\n",
        "\n",
        "    Row 1 to Row 8\n",
        "\n",
        "    Row 4 to Row 11\n",
        "\n",
        "    Row 1 to Row 11\n",
        "\n",
        "    Row 1 to Row 7\n",
        "\n",
        "---------\n",
        "\n",
        "    Row 4 to Row 11\n",
        "\n",
        "    ✓ Correct\n",
        "    Feedback:\n",
        "\n",
        "Since the DESC keyword has been used, the order of the rows on which the frame will be created will be reversed."
      ],
      "metadata": {
        "id": "DBFPgOXgHaR2"
      }
    },
    {
      "cell_type": "markdown",
      "source": [
        "Customer Frequency\n",
        "-----------\n",
        "\n",
        "Can you think of a way to determine the difference between two consecutive orders made by a particular customer?\n",
        "\n",
        "----------\n",
        "\n",
        "**`Suggested Answer`**\n",
        "\n",
        "You can apply a row number function to the table to get index values for each row.\n",
        "\n",
        "Now, apply a self join on the table to get two sets of row number values.\n",
        "\n",
        "Finally, you can apply the required computation to get the next date of order in the same row as the current one.\n",
        "\n",
        "There is a much easier method, which has been explained in the rest of the video."
      ],
      "metadata": {
        "id": "fJX9c8bvIF4z"
      }
    },
    {
      "cell_type": "markdown",
      "source": [
        "# Lead and Lag Functions\n",
        "\n",
        "The syntax for using the 'lead' and 'lag' functions are as follows:\n",
        "\n",
        "    LEAD(expr[, offset[, default]])\n",
        "      OVER (Window_specification | Window_name)\n",
        "\n",
        "    LAG(expr[, offset[, default]])\n",
        "      OVER (Window_specification | Window_name)"
      ],
      "metadata": {
        "id": "tqOKNyvBK2yH"
      }
    },
    {
      "cell_type": "code",
      "source": [],
      "metadata": {
        "id": "q9p4ftmiGGR2"
      },
      "execution_count": null,
      "outputs": []
    }
  ]
}