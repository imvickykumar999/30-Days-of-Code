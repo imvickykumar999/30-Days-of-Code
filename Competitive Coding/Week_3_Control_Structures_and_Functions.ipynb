{
  "nbformat": 4,
  "nbformat_minor": 0,
  "metadata": {
    "colab": {
      "provenance": []
    },
    "kernelspec": {
      "name": "python3",
      "display_name": "Python 3"
    },
    "language_info": {
      "name": "python"
    }
  },
  "cells": [
    {
      "cell_type": "markdown",
      "source": [
        "https://colab.research.google.com/drive/1cKRh00gIElps3UvbLBaGSBESg_kqHwsY"
      ],
      "metadata": {
        "id": "fhqQN6fMwTlS"
      }
    },
    {
      "cell_type": "markdown",
      "source": [
        "If-Else\n",
        "--------------\n",
        "\n",
        "Description\n",
        "\n",
        "Write a code to check if the string in input_str starts with a vowel or not. Print capital YES or NO.\n",
        "\n",
        "\n",
        "\n",
        "For example, if input_str = 'analytics' then, your output should print 'YES'.\n",
        "\n",
        "\n",
        "\n",
        "Sample Input:\n",
        "\n",
        "alpha\n",
        "\n",
        "\n",
        "\n",
        "Sample Output:\n",
        "\n",
        "YES"
      ],
      "metadata": {
        "id": "A-6oKZgu5scT"
      }
    },
    {
      "cell_type": "code",
      "execution_count": null,
      "metadata": {
        "id": "laa42-M9v-fB"
      },
      "outputs": [],
      "source": [
        "import ast,sys\n",
        "input_str = sys.stdin.read()\n",
        "\n",
        "if input_str[0] in ['a','e','i','o','u','A','E','I','O','U']:\n",
        "    print('YES')\n",
        "else:\n",
        "    print('NO')"
      ]
    },
    {
      "cell_type": "code",
      "source": [
        "import ast,sys\n",
        "input_str = sys.stdin.read()\n",
        "\n",
        "#Write your code here\n",
        "#Use capital YES or NO\n",
        "if input_str[0].lower() in 'aeiou':\n",
        "    print('YES')\n",
        "else:\n",
        "    print('NO')"
      ],
      "metadata": {
        "id": "DZTVEGLnwVn-"
      },
      "execution_count": null,
      "outputs": []
    },
    {
      "cell_type": "markdown",
      "source": [
        "![](https://images.upgrad.com/68c9686b-cfb0-4d0b-827d-772862e7c793-Two-Buttons.jpg)"
      ],
      "metadata": {
        "id": "dL35Ng-Q50mJ"
      }
    },
    {
      "cell_type": "markdown",
      "source": [
        "Iterations\n",
        "-------------\n",
        "\n",
        "Description\n",
        "\n",
        "\n",
        "You are given a list of string elements and asked to return a list which contains each element of the string in title case or in other words first character of the string would be in upper case and remaining all characters in lower case\n",
        "\n",
        "\n",
        "\n",
        "Sample Input:\n",
        "\n",
        "\n",
        "\n",
        "['VARMA', 'raj', 'Gupta', 'SaNdeeP']\n",
        "\n",
        "\n",
        "\n",
        "\n",
        "\n",
        "\n",
        "\n",
        "Sample Output\n",
        "\n",
        "\n",
        "\n",
        "['Varma', 'Raj', 'Gupta', 'Sandeep']"
      ],
      "metadata": {
        "id": "yn3m71wm7N06"
      }
    },
    {
      "cell_type": "code",
      "source": [
        "import ast,sys\n",
        "input_str = sys.stdin.read()\n",
        "input_list = ast.literal_eval(input_str)\n",
        "\n",
        "updated_list= []\n",
        "\n",
        "for i in input_list:\n",
        "    updated_list.append(i.capitalize())\n",
        "    \n",
        "print(updated_list)\n"
      ],
      "metadata": {
        "id": "uuriWA9I54iC"
      },
      "execution_count": null,
      "outputs": []
    },
    {
      "cell_type": "code",
      "source": [
        "import ast,sys\n",
        "input_str = sys.stdin.read()\n",
        "input_list = ast.literal_eval(input_str)\n",
        "\n",
        "# Type your code here\n",
        "output_list=[]\n",
        "for i in input_list:\n",
        "    output_list.append(i[0].upper() + i[1:].lower())\n",
        "print(output_list)"
      ],
      "metadata": {
        "id": "UKBKnpEf8j7T"
      },
      "execution_count": null,
      "outputs": []
    },
    {
      "cell_type": "markdown",
      "source": [
        "List Comprehension\n",
        "----------\n",
        "\n",
        "Description\n",
        "\n",
        "You are given an integer 'n' as the input. Create a list comprehension containing the squares of the integers from 1 till n^2 (including 1 and n), and print the list. \n",
        "\n",
        "\n",
        "\n",
        "\n",
        "\n",
        "\n",
        "\n",
        "For example, if the input is 4, the output should be a list as follows:\n",
        "\n",
        "[1, 4, 9, 16]\n",
        "\n",
        "\n",
        "\n",
        "\n",
        "The input integer 'n' is stored in the variable 'n'. "
      ],
      "metadata": {
        "id": "G1iJ5wap8lfK"
      }
    },
    {
      "cell_type": "code",
      "source": [
        "import ast, sys\n",
        "n = int(input())\n",
        "final_list = [n**2 for n in range(1,n+1)]\n",
        "print(final_list)\n"
      ],
      "metadata": {
        "id": "O6xR6XECf15f"
      },
      "execution_count": null,
      "outputs": []
    },
    {
      "cell_type": "code",
      "source": [
        "import ast, sys\n",
        "n = int(input())\n",
        "\n",
        "\n",
        "# Write your code here (remember to print the list)\n",
        "print([i*i for i in range(1,n+1)])\n"
      ],
      "metadata": {
        "id": "BO7gAPOUf4l0"
      },
      "execution_count": null,
      "outputs": []
    },
    {
      "cell_type": "markdown",
      "source": [
        "List Comprehensions\n",
        "---------\n",
        "\n",
        "Description\n",
        "\n",
        "Extract the words that start with a vowel from a list input_list=[wood, old, apple, big, item, euphoria] using list comprehensions.\n",
        "\n",
        "\n",
        "\n",
        "Sample Input:\n",
        "\n",
        "['wood','old','apple','big','item','euphoria']\n",
        "\n",
        "\n",
        "\n",
        "Sample Output:\n",
        "\n",
        "﻿['old', 'apple', 'item', 'euphoria']"
      ],
      "metadata": {
        "id": "8QyAQCLRf6QI"
      }
    },
    {
      "cell_type": "code",
      "source": [
        "import ast,sys\n",
        "input_str = sys.stdin.read()\n",
        "input_list = ast.literal_eval(input_str)\n",
        "\n",
        "final=[word for word in input_list if word[0].lower() in 'aeiou']\n",
        "print(final)"
      ],
      "metadata": {
        "id": "VOodwMJUgEt1"
      },
      "execution_count": null,
      "outputs": []
    },
    {
      "cell_type": "code",
      "source": [
        "import ast,sys\n",
        "input_str = sys.stdin.read()\n",
        "input_list = ast.literal_eval(input_str)\n",
        "\n",
        "list_vowel = [i for i in input_list if i[0] in 'aeiou']\n",
        "\n",
        "print(list_vowel)"
      ],
      "metadata": {
        "id": "N8XeDvStgJ6Q"
      },
      "execution_count": null,
      "outputs": []
    },
    {
      "cell_type": "markdown",
      "source": [
        "Function\n",
        "-------\n",
        "\n",
        "Description\n",
        "\n",
        "Create a function squared(), which takes x and y as arguments and returns the x**y value. For e.g., if x = 2 and y = 3 , then the output is 8.\n",
        "\n",
        "\n",
        "\n",
        "Sample Input:\n",
        "\n",
        "['6','7']\n",
        "\n",
        "\n",
        "\n",
        "Sample Output:\n",
        "\n",
        "﻿279936"
      ],
      "metadata": {
        "id": "NzuEIqY-gKb4"
      }
    },
    {
      "cell_type": "code",
      "source": [
        "import ast,sys\n",
        "input_str = sys.stdin.read()\n",
        "input_list = ast.literal_eval(input_str)\n",
        "x = int(input_list[0])\n",
        "y = int(input_list[1])\n",
        "\n",
        "def squared(x,y):\n",
        "   \n",
        "   return x**y\n",
        "print(squared(x,y))"
      ],
      "metadata": {
        "id": "--WweG7Ugpp-"
      },
      "execution_count": null,
      "outputs": []
    },
    {
      "cell_type": "code",
      "source": [
        "import ast,sys\n",
        "input_str = sys.stdin.read()\n",
        "input_list = ast.literal_eval(input_str)\n",
        "x = int(input_list[0])\n",
        "y = int(input_list[1])\n",
        "\n",
        "#Write your code here\n",
        "def squared(x,y):\n",
        "    return x**y\n",
        "    \n",
        "print(squared(x,y))"
      ],
      "metadata": {
        "id": "Gjq9XA9WgvdZ"
      },
      "execution_count": null,
      "outputs": []
    },
    {
      "cell_type": "markdown",
      "source": [
        "Lambda\n",
        "------------\n",
        "\n",
        "Description\n",
        "\n",
        "Create a lambda function 'greater', which takes two arguments x and y and return x if x>y otherwise y.\n",
        "\n",
        "If x = 2 and y= 3, then the output should be 3.\n",
        "\n",
        "\n",
        "\n",
        "Sample Input:\n",
        "\n",
        "['9','3']\n",
        "\n",
        "\n",
        "\n",
        "Sample Output:\n",
        "\n",
        "﻿9"
      ],
      "metadata": {
        "id": "tqz6CZJcgv8w"
      }
    },
    {
      "cell_type": "code",
      "source": [
        "import ast,sys\n",
        "input_str = sys.stdin.read()\n",
        "input_list = ast.literal_eval(input_str)\n",
        "a = int(input_list[0])\n",
        "b = int(input_list[1])\n",
        "\n",
        "greater = lambda a,b: a if a>b else b\n",
        "\n",
        "print(greater(a,b))"
      ],
      "metadata": {
        "id": "c0DLgWFYg1bv"
      },
      "execution_count": null,
      "outputs": []
    },
    {
      "cell_type": "code",
      "source": [
        "import ast,sys\n",
        "input_str = sys.stdin.read()\n",
        "input_list = ast.literal_eval(input_str)\n",
        "a = int(input_list[0])\n",
        "b = int(input_list[1])\n",
        "\n",
        "#Write your code here\n",
        "greater = lambda a,b : a if a>b else b\n",
        "    \n",
        "print(greater(a,b))"
      ],
      "metadata": {
        "id": "kW1wlebhg3aK"
      },
      "execution_count": null,
      "outputs": []
    },
    {
      "cell_type": "markdown",
      "source": [
        "Map Function\n",
        "---------\n",
        "\n",
        "Description\n",
        "\n",
        "Using the function Map, count the number of words that start with ‘S’ in input_list.\n",
        "\n",
        "\n",
        "\n",
        "Sample Input:\n",
        "\n",
        "['Santa Cruz','Santa fe','Mumbai','Delhi']\n",
        "\n",
        "\n",
        "\n",
        "Sample Output:\n",
        "\n",
        "2"
      ],
      "metadata": {
        "id": "npXhKdp9g5aS"
      }
    },
    {
      "cell_type": "code",
      "source": [
        "import ast,sys\n",
        "input_str = sys.stdin.read()\n",
        "input_list = ast.literal_eval(input_str)\n",
        "\n",
        "count = sum(map(lambda x: x[0] == 'S', input_list))\n",
        "print(count)"
      ],
      "metadata": {
        "id": "Fozw7uLunh7r"
      },
      "execution_count": null,
      "outputs": []
    },
    {
      "cell_type": "code",
      "source": [
        "import ast,sys\n",
        "input_str = sys.stdin.read()\n",
        "input_list = ast.literal_eval(input_str)\n",
        "\n",
        "count = len([x for x in list(map((lambda x: x[0].lower() == 's'), input_list)) if x])\n",
        "print(count)"
      ],
      "metadata": {
        "id": "2miBM0FxnlLH"
      },
      "execution_count": null,
      "outputs": []
    },
    {
      "cell_type": "markdown",
      "source": [
        "Map Function\n",
        "----\n",
        "\n",
        "Description\n",
        "\n",
        "Create a list ‘name’ consisting of the combination of the first name and the second name from list 1 and 2 respectively. \n",
        "\n",
        "For e.g. if the input list is:\n",
        "\n",
        "    [ ['Ankur', 'Avik', 'Kiran', 'Nitin'], ['Narang', 'Sarkar', 'R', 'Sareen']]\n",
        "\n",
        "the output list should be the list:\n",
        "\n",
        "    ['Ankur Narang', 'Avik Sarkar', 'Kiran R', 'Nitin Sareen']\n",
        "\n",
        "Note: Add a space between first name and last name."
      ],
      "metadata": {
        "id": "P6v2uaEQnpIp"
      }
    },
    {
      "cell_type": "code",
      "source": [
        "import ast,sys\n",
        "input_str = sys.stdin.read()\n",
        "input_list = ast.literal_eval(input_str)\n",
        "first_name = input_list[0]\n",
        "last_name = input_list[1]\n",
        "\n",
        "name = list(map(lambda x,y: x+ \" \" + y, first_name,last_name))\n",
        "\n",
        "print(list(name))"
      ],
      "metadata": {
        "id": "JzLmZO8TnzTm"
      },
      "execution_count": null,
      "outputs": []
    },
    {
      "cell_type": "code",
      "source": [
        "import ast,sys\n",
        "input_str = sys.stdin.read()\n",
        "input_list = ast.literal_eval(input_str)\n",
        "first_name = input_list[0]\n",
        "last_name = input_list[1]\n",
        "\n",
        "name = list(map((lambda x,y: f'{x} {y}'), first_name, last_name))\n",
        "print(name)"
      ],
      "metadata": {
        "id": "4NTOLi4Fn2X-"
      },
      "execution_count": null,
      "outputs": []
    },
    {
      "cell_type": "markdown",
      "source": [
        "Filter Function\n",
        "----------\n",
        "\n",
        "Description\n",
        "\n",
        "Extract a list of numbers that are multiples of 5 from a list of integers named input_list.\n",
        "\n",
        "\n",
        "\n",
        "Sample Input:\n",
        "\n",
        "    [1, 2, 3, 4, 5, 6, 7, 8, 9, 10, 11, 12, 13, 14, 15, 16, 17, 18, 19, 20, 21, 22, 23, 24, 25, 26, 27, 28, 29, 30, 31, 32, 33, 34, 35, 36, 37, 38, 39, 40, 41, 42, 43, 44, 45, 46, 47, 48, 49, 50]\n",
        "\n",
        "\n",
        "\n",
        "Sample Output:\n",
        "\n",
        "    [5, 10, 15, 20, 25, 30, 35, 40, 45, 50]\n",
        "\n",
        "\n",
        "\n",
        "Note: Use the filter() function."
      ],
      "metadata": {
        "id": "PZFu8TGnn4EC"
      }
    },
    {
      "cell_type": "code",
      "source": [
        "import ast,sys\n",
        "input_str = sys.stdin.read()\n",
        "input_list = ast.literal_eval(input_str)\n",
        "\n",
        "\n",
        "list_answer = list(filter(lambda x: x%5 == 0, input_list))\n",
        "\n",
        "print(list_answer)"
      ],
      "metadata": {
        "id": "Sl6vpH0BrRTd"
      },
      "execution_count": null,
      "outputs": []
    },
    {
      "cell_type": "code",
      "source": [
        "import ast,sys\n",
        "input_str = sys.stdin.read()\n",
        "input_list = ast.literal_eval(input_str)\n",
        "\n",
        "list_answer = [i for i in input_list if not i%5]\n",
        "print(list_answer)"
      ],
      "metadata": {
        "id": "FAvffqwjrWlW"
      },
      "execution_count": null,
      "outputs": []
    },
    {
      "cell_type": "markdown",
      "source": [
        "Filter Function\n",
        "--------\n",
        "\n",
        "Description\n",
        "\n",
        "    You are given a list of strings such as input_list = ['hdjk', 'salsap', 'sherpa'].\n",
        "\n",
        "\n",
        "\n",
        "Extract a list of names that start with an ‘s’ and end with a ‘p’ (both 's' and 'p' are lowercase) in input_list.\n",
        "\n",
        "\n",
        "\n",
        "Sample Input:\n",
        "\n",
        "    ['soap','sharp','shy','silent','ship','summer','sheep']\n",
        "\n",
        "\n",
        "\n",
        "Sample Output:\n",
        "\n",
        "    ['soap', 'sharp', 'ship', 'sheep']\n",
        "\n",
        "\n",
        "\n",
        "Note: Use the filter() function."
      ],
      "metadata": {
        "id": "VknGqaW5rX5g"
      }
    },
    {
      "cell_type": "code",
      "source": [
        "import ast,sys\n",
        "input_str = sys.stdin.read()\n",
        "input_list = ast.literal_eval(input_str)\n",
        "\n",
        "sp = list(filter(lambda x: (x[0]=='s') & (x[-1]=='p' ) , input_list))\n",
        "\n",
        "print(sp)"
      ],
      "metadata": {
        "id": "zcW5BwgmrgZH"
      },
      "execution_count": null,
      "outputs": []
    },
    {
      "cell_type": "code",
      "source": [
        "import ast,sys\n",
        "input_str = sys.stdin.read()\n",
        "input_list = ast.literal_eval(input_str)\n",
        "\n",
        "sp = list(filter(lambda x: x[0] == 's' and x[-1] == 'p', input_list))\n",
        "print(sp)"
      ],
      "metadata": {
        "id": "LnX9j_3RrkMw"
      },
      "execution_count": null,
      "outputs": []
    },
    {
      "cell_type": "markdown",
      "source": [
        "Reduce Function\n",
        "------------\n",
        "\n",
        "Description\n",
        "\n",
        "Using the Reduce function, concatenate a list of words in input_list, and print the output as a string.\n",
        "\n",
        "    If input_list = ['I','Love','Python'], the output should be the string 'I Love Python'.\n",
        "\n",
        "\n",
        "\n",
        "Sample Input:\n",
        "\n",
        "    ['All','you','have','to','fear','is','fear','itself']\n",
        "\n",
        "\n",
        "\n",
        "Sample Output:\n",
        "\n",
        "All you have to fear is fear itself"
      ],
      "metadata": {
        "id": "b8YS7a1UrlVU"
      }
    },
    {
      "cell_type": "code",
      "source": [
        "import ast,sys\n",
        "input_str = sys.stdin.read()\n",
        "input_list = ast.literal_eval(input_str)\n",
        "\n",
        "from functools import reduce\n",
        "\n",
        "string1 = str(reduce(lambda x,y: x + \" \" +y, input_list))\n",
        "print(string1)"
      ],
      "metadata": {
        "id": "kUslBt4mrsot"
      },
      "execution_count": null,
      "outputs": []
    },
    {
      "cell_type": "code",
      "source": [
        "import ast,sys\n",
        "input_str = sys.stdin.read()\n",
        "input_list = ast.literal_eval(input_str)\n",
        "\n",
        "from functools import reduce\n",
        "\n",
        "#write your code here.\n",
        "print(str(reduce(lambda x,y: x + \" \" +y, input_list)))"
      ],
      "metadata": {
        "id": "oyZKwT62rvVp"
      },
      "execution_count": null,
      "outputs": []
    },
    {
      "cell_type": "markdown",
      "source": [
        "Reduce Function\n",
        "------------\n",
        "\n",
        "Description\n",
        "\n",
        "You are given a list of numbers such as input_list = [31, 63, 76, 89]. Find and print the largest number in input_list using the reduce() function.\n",
        "\n",
        "\n",
        "\n",
        "Sample Input:\n",
        "\n",
        "    [65,76,87,23,12,90,99]\n",
        "\n",
        "\n",
        "\n",
        "Sample Output:\n",
        "\n",
        "99"
      ],
      "metadata": {
        "id": "kBgHz85IrwtY"
      }
    },
    {
      "cell_type": "code",
      "source": [
        "import ast,sys\n",
        "input_str = sys.stdin.read()\n",
        "input_list = ast.literal_eval(input_str)\n",
        "from functools import reduce\n",
        "\n",
        "answer = reduce(lambda a,b : a if a > b else b,input_list)\n",
        "\n",
        "print(answer)"
      ],
      "metadata": {
        "id": "qXn4TIzar2nQ"
      },
      "execution_count": null,
      "outputs": []
    },
    {
      "cell_type": "code",
      "source": [
        "import ast,sys\n",
        "input_str = sys.stdin.read()\n",
        "input_list = ast.literal_eval(input_str)\n",
        "from functools import reduce\n",
        "\n",
        "answer = reduce(lambda x, y: x if x > y else y,input_list)\n",
        "print(answer)"
      ],
      "metadata": {
        "id": "H2iwDv53r5ff"
      },
      "execution_count": null,
      "outputs": []
    },
    {
      "cell_type": "markdown",
      "source": [
        "# end"
      ],
      "metadata": {
        "id": "KHaXTzhNr6qw"
      }
    },
    {
      "cell_type": "code",
      "source": [],
      "metadata": {
        "id": "FaVJB6DHr7jo"
      },
      "execution_count": null,
      "outputs": []
    }
  ]
}