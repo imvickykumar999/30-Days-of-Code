{
  "nbformat": 4,
  "nbformat_minor": 0,
  "metadata": {
    "colab": {
      "provenance": []
    },
    "kernelspec": {
      "name": "python3",
      "display_name": "Python 3"
    },
    "language_info": {
      "name": "python"
    }
  },
  "cells": [
    {
      "cell_type": "markdown",
      "source": [
        "https://colab.research.google.com/drive/1cKRh00gIElps3UvbLBaGSBESg_kqHwsY"
      ],
      "metadata": {
        "id": "fhqQN6fMwTlS"
      }
    },
    {
      "cell_type": "markdown",
      "source": [
        "If-Else\n",
        "--------------\n",
        "\n",
        "Description\n",
        "\n",
        "Write a code to check if the string in input_str starts with a vowel or not. Print capital YES or NO.\n",
        "\n",
        "\n",
        "\n",
        "For example, if input_str = 'analytics' then, your output should print 'YES'.\n",
        "\n",
        "\n",
        "\n",
        "Sample Input:\n",
        "\n",
        "alpha\n",
        "\n",
        "\n",
        "\n",
        "Sample Output:\n",
        "\n",
        "YES"
      ],
      "metadata": {
        "id": "A-6oKZgu5scT"
      }
    },
    {
      "cell_type": "code",
      "execution_count": null,
      "metadata": {
        "id": "laa42-M9v-fB"
      },
      "outputs": [],
      "source": [
        "import ast,sys\n",
        "input_str = sys.stdin.read()\n",
        "\n",
        "if input_str[0] in ['a','e','i','o','u','A','E','I','O','U']:\n",
        "    print('YES')\n",
        "else:\n",
        "    print('NO')"
      ]
    },
    {
      "cell_type": "code",
      "source": [
        "import ast,sys\n",
        "input_str = sys.stdin.read()\n",
        "\n",
        "#Write your code here\n",
        "#Use capital YES or NO\n",
        "if input_str[0].lower() in 'aeiou':\n",
        "    print('YES')\n",
        "else:\n",
        "    print('NO')"
      ],
      "metadata": {
        "id": "DZTVEGLnwVn-"
      },
      "execution_count": null,
      "outputs": []
    },
    {
      "cell_type": "markdown",
      "source": [
        "![](https://images.upgrad.com/68c9686b-cfb0-4d0b-827d-772862e7c793-Two-Buttons.jpg)"
      ],
      "metadata": {
        "id": "dL35Ng-Q50mJ"
      }
    },
    {
      "cell_type": "markdown",
      "source": [
        "Iterations\n",
        "-------------\n",
        "\n",
        "Description\n",
        "\n",
        "\n",
        "You are given a list of string elements and asked to return a list which contains each element of the string in title case or in other words first character of the string would be in upper case and remaining all characters in lower case\n",
        "\n",
        "\n",
        "\n",
        "Sample Input:\n",
        "\n",
        "\n",
        "\n",
        "['VARMA', 'raj', 'Gupta', 'SaNdeeP']\n",
        "\n",
        "\n",
        "\n",
        "\n",
        "\n",
        "\n",
        "\n",
        "Sample Output\n",
        "\n",
        "\n",
        "\n",
        "['Varma', 'Raj', 'Gupta', 'Sandeep']"
      ],
      "metadata": {
        "id": "yn3m71wm7N06"
      }
    },
    {
      "cell_type": "code",
      "source": [
        "import ast,sys\n",
        "input_str = sys.stdin.read()\n",
        "input_list = ast.literal_eval(input_str)\n",
        "\n",
        "updated_list= []\n",
        "\n",
        "for i in input_list:\n",
        "    updated_list.append(i.capitalize())\n",
        "    \n",
        "print(updated_list)\n"
      ],
      "metadata": {
        "id": "uuriWA9I54iC"
      },
      "execution_count": null,
      "outputs": []
    },
    {
      "cell_type": "code",
      "source": [
        "import ast,sys\n",
        "input_str = sys.stdin.read()\n",
        "input_list = ast.literal_eval(input_str)\n",
        "\n",
        "# Type your code here\n",
        "output_list=[]\n",
        "for i in input_list:\n",
        "    output_list.append(i[0].upper() + i[1:].lower())\n",
        "print(output_list)"
      ],
      "metadata": {
        "id": "UKBKnpEf8j7T"
      },
      "execution_count": null,
      "outputs": []
    },
    {
      "cell_type": "markdown",
      "source": [
        "List Comprehension\n",
        "----------\n",
        "\n",
        "Description\n",
        "\n",
        "You are given an integer 'n' as the input. Create a list comprehension containing the squares of the integers from 1 till n^2 (including 1 and n), and print the list. \n",
        "\n",
        "\n",
        "\n",
        "\n",
        "\n",
        "\n",
        "\n",
        "For example, if the input is 4, the output should be a list as follows:\n",
        "\n",
        "[1, 4, 9, 16]\n",
        "\n",
        "\n",
        "\n",
        "\n",
        "The input integer 'n' is stored in the variable 'n'. "
      ],
      "metadata": {
        "id": "G1iJ5wap8lfK"
      }
    },
    {
      "cell_type": "code",
      "source": [
        "import ast, sys\n",
        "n = int(input())\n",
        "final_list = [n**2 for n in range(1,n+1)]\n",
        "print(final_list)\n"
      ],
      "metadata": {
        "id": "O6xR6XECf15f"
      },
      "execution_count": null,
      "outputs": []
    },
    {
      "cell_type": "code",
      "source": [
        "import ast, sys\n",
        "n = int(input())\n",
        "\n",
        "\n",
        "# Write your code here (remember to print the list)\n",
        "print([i*i for i in range(1,n+1)])\n"
      ],
      "metadata": {
        "id": "BO7gAPOUf4l0"
      },
      "execution_count": null,
      "outputs": []
    },
    {
      "cell_type": "markdown",
      "source": [
        "List Comprehensions\n",
        "---------\n",
        "\n",
        "Description\n",
        "\n",
        "Extract the words that start with a vowel from a list input_list=[wood, old, apple, big, item, euphoria] using list comprehensions.\n",
        "\n",
        "\n",
        "\n",
        "Sample Input:\n",
        "\n",
        "['wood','old','apple','big','item','euphoria']\n",
        "\n",
        "\n",
        "\n",
        "Sample Output:\n",
        "\n",
        "﻿['old', 'apple', 'item', 'euphoria']"
      ],
      "metadata": {
        "id": "8QyAQCLRf6QI"
      }
    },
    {
      "cell_type": "code",
      "source": [
        "import ast,sys\n",
        "input_str = sys.stdin.read()\n",
        "input_list = ast.literal_eval(input_str)\n",
        "\n",
        "final=[word for word in input_list if word[0].lower() in 'aeiou']\n",
        "print(final)"
      ],
      "metadata": {
        "id": "VOodwMJUgEt1"
      },
      "execution_count": null,
      "outputs": []
    },
    {
      "cell_type": "code",
      "source": [
        "import ast,sys\n",
        "input_str = sys.stdin.read()\n",
        "input_list = ast.literal_eval(input_str)\n",
        "\n",
        "list_vowel = [i for i in input_list if i[0] in 'aeiou']\n",
        "\n",
        "print(list_vowel)"
      ],
      "metadata": {
        "id": "N8XeDvStgJ6Q"
      },
      "execution_count": null,
      "outputs": []
    },
    {
      "cell_type": "markdown",
      "source": [
        "Function\n",
        "-------\n",
        "\n",
        "Description\n",
        "\n",
        "Create a function squared(), which takes x and y as arguments and returns the x**y value. For e.g., if x = 2 and y = 3 , then the output is 8.\n",
        "\n",
        "\n",
        "\n",
        "Sample Input:\n",
        "\n",
        "['6','7']\n",
        "\n",
        "\n",
        "\n",
        "Sample Output:\n",
        "\n",
        "﻿279936"
      ],
      "metadata": {
        "id": "NzuEIqY-gKb4"
      }
    },
    {
      "cell_type": "code",
      "source": [
        "import ast,sys\n",
        "input_str = sys.stdin.read()\n",
        "input_list = ast.literal_eval(input_str)\n",
        "x = int(input_list[0])\n",
        "y = int(input_list[1])\n",
        "\n",
        "def squared(x,y):\n",
        "   \n",
        "   return x**y\n",
        "print(squared(x,y))"
      ],
      "metadata": {
        "id": "--WweG7Ugpp-"
      },
      "execution_count": null,
      "outputs": []
    },
    {
      "cell_type": "code",
      "source": [
        "import ast,sys\n",
        "input_str = sys.stdin.read()\n",
        "input_list = ast.literal_eval(input_str)\n",
        "x = int(input_list[0])\n",
        "y = int(input_list[1])\n",
        "\n",
        "#Write your code here\n",
        "def squared(x,y):\n",
        "    return x**y\n",
        "    \n",
        "print(squared(x,y))"
      ],
      "metadata": {
        "id": "Gjq9XA9WgvdZ"
      },
      "execution_count": null,
      "outputs": []
    },
    {
      "cell_type": "markdown",
      "source": [
        "Lambda\n",
        "------------\n",
        "\n",
        "Description\n",
        "\n",
        "Create a lambda function 'greater', which takes two arguments x and y and return x if x>y otherwise y.\n",
        "\n",
        "If x = 2 and y= 3, then the output should be 3.\n",
        "\n",
        "\n",
        "\n",
        "Sample Input:\n",
        "\n",
        "['9','3']\n",
        "\n",
        "\n",
        "\n",
        "Sample Output:\n",
        "\n",
        "﻿9"
      ],
      "metadata": {
        "id": "tqz6CZJcgv8w"
      }
    },
    {
      "cell_type": "code",
      "source": [
        "import ast,sys\n",
        "input_str = sys.stdin.read()\n",
        "input_list = ast.literal_eval(input_str)\n",
        "a = int(input_list[0])\n",
        "b = int(input_list[1])\n",
        "\n",
        "greater = lambda a,b: a if a>b else b\n",
        "\n",
        "print(greater(a,b))"
      ],
      "metadata": {
        "id": "c0DLgWFYg1bv"
      },
      "execution_count": null,
      "outputs": []
    },
    {
      "cell_type": "code",
      "source": [
        "import ast,sys\n",
        "input_str = sys.stdin.read()\n",
        "input_list = ast.literal_eval(input_str)\n",
        "a = int(input_list[0])\n",
        "b = int(input_list[1])\n",
        "\n",
        "#Write your code here\n",
        "greater = lambda a,b : a if a>b else b\n",
        "    \n",
        "print(greater(a,b))"
      ],
      "metadata": {
        "id": "kW1wlebhg3aK"
      },
      "execution_count": null,
      "outputs": []
    },
    {
      "cell_type": "markdown",
      "source": [
        "Map Function\n",
        "---------\n",
        "\n",
        "Description\n",
        "\n",
        "Using the function Map, count the number of words that start with ‘S’ in input_list.\n",
        "\n",
        "\n",
        "\n",
        "Sample Input:\n",
        "\n",
        "['Santa Cruz','Santa fe','Mumbai','Delhi']\n",
        "\n",
        "\n",
        "\n",
        "Sample Output:\n",
        "\n",
        "2"
      ],
      "metadata": {
        "id": "npXhKdp9g5aS"
      }
    },
    {
      "cell_type": "code",
      "source": [
        "import ast,sys\n",
        "input_str = sys.stdin.read()\n",
        "input_list = ast.literal_eval(input_str)\n",
        "\n",
        "count = sum(map(lambda x: x[0] == 'S', input_list))\n",
        "print(count)"
      ],
      "metadata": {
        "id": "Fozw7uLunh7r"
      },
      "execution_count": null,
      "outputs": []
    },
    {
      "cell_type": "code",
      "source": [
        "import ast,sys\n",
        "input_str = sys.stdin.read()\n",
        "input_list = ast.literal_eval(input_str)\n",
        "\n",
        "count = len([x for x in list(map((lambda x: x[0].lower() == 's'), input_list)) if x])\n",
        "print(count)"
      ],
      "metadata": {
        "id": "2miBM0FxnlLH"
      },
      "execution_count": null,
      "outputs": []
    },
    {
      "cell_type": "markdown",
      "source": [
        "Map Function\n",
        "----\n",
        "\n",
        "Description\n",
        "\n",
        "Create a list ‘name’ consisting of the combination of the first name and the second name from list 1 and 2 respectively. \n",
        "\n",
        "For e.g. if the input list is:\n",
        "\n",
        "    [ ['Ankur', 'Avik', 'Kiran', 'Nitin'], ['Narang', 'Sarkar', 'R', 'Sareen']]\n",
        "\n",
        "the output list should be the list:\n",
        "\n",
        "    ['Ankur Narang', 'Avik Sarkar', 'Kiran R', 'Nitin Sareen']\n",
        "\n",
        "Note: Add a space between first name and last name."
      ],
      "metadata": {
        "id": "P6v2uaEQnpIp"
      }
    },
    {
      "cell_type": "code",
      "source": [
        "import ast,sys\n",
        "input_str = sys.stdin.read()\n",
        "input_list = ast.literal_eval(input_str)\n",
        "\n",
        "first_name = input_list[0]\n",
        "last_name = input_list[1]\n",
        "\n",
        "name = list(map(lambda x,y: x+ \" \" + y, first_name,last_name))\n",
        "\n",
        "print(list(name))"
      ],
      "metadata": {
        "id": "JzLmZO8TnzTm"
      },
      "execution_count": null,
      "outputs": []
    },
    {
      "cell_type": "code",
      "source": [
        "# import ast,sys\n",
        "# input_str = sys.stdin.read()\n",
        "# input_list = ast.literal_eval(input_str)\n",
        "\n",
        "input_list = [['Ankur', 'Avik', 'Kiran', 'Nitin'], ['Narang', 'Sarkar', 'R', 'Sareen']]\n",
        "\n",
        "first_name = input_list[0]\n",
        "last_name = input_list[1]\n",
        "\n",
        "name = list(map((lambda x,y: f'{x} {y}'), first_name, last_name))\n",
        "print(name)"
      ],
      "metadata": {
        "colab": {
          "base_uri": "https://localhost:8080/"
        },
        "id": "4NTOLi4Fn2X-",
        "outputId": "f2b16354-d921-4202-ab8d-c619ac7f24c0"
      },
      "execution_count": null,
      "outputs": [
        {
          "output_type": "stream",
          "name": "stdout",
          "text": [
            "['Ankur Narang', 'Avik Sarkar', 'Kiran R', 'Nitin Sareen']\n"
          ]
        }
      ]
    },
    {
      "cell_type": "code",
      "source": [
        "list2d = [['Ankur', 'Avik', 'Kiran', 'Nitin'], ['Narang', 'Sarkar', 'R', 'Sareen']]\n",
        "x=[]\n",
        "\n",
        "for i,j in zip(list2d[0], list2d[1]):\n",
        "  x.append(f'{i} {j}')\n",
        "\n",
        "print(x)"
      ],
      "metadata": {
        "colab": {
          "base_uri": "https://localhost:8080/"
        },
        "id": "FhA2f5fg1tam",
        "outputId": "0183006f-1e4f-492d-b680-931a757c2b1e"
      },
      "execution_count": null,
      "outputs": [
        {
          "output_type": "stream",
          "name": "stdout",
          "text": [
            "['Ankur Narang', 'Avik Sarkar', 'Kiran R', 'Nitin Sareen']\n"
          ]
        }
      ]
    },
    {
      "cell_type": "code",
      "source": [
        "print([f'{x} {y}' for x,y in zip(list2d[0], list2d[1])])"
      ],
      "metadata": {
        "colab": {
          "base_uri": "https://localhost:8080/"
        },
        "id": "_EWj6B6z2y9W",
        "outputId": "d42d85ad-6044-4420-8ca5-19da4e6cbbd6"
      },
      "execution_count": null,
      "outputs": [
        {
          "output_type": "stream",
          "name": "stdout",
          "text": [
            "['Ankur Narang', 'Avik Sarkar', 'Kiran R', 'Nitin Sareen']\n"
          ]
        }
      ]
    },
    {
      "cell_type": "markdown",
      "source": [
        "Filter Function\n",
        "----------\n",
        "\n",
        "Description\n",
        "\n",
        "Extract a list of numbers that are multiples of 5 from a list of integers named input_list.\n",
        "\n",
        "\n",
        "\n",
        "Sample Input:\n",
        "\n",
        "    [1, 2, 3, 4, 5, 6, 7, 8, 9, 10, 11, 12, 13, 14, 15, 16, 17, 18, 19, 20, 21, 22, 23, 24, 25, 26, 27, 28, 29, 30, 31, 32, 33, 34, 35, 36, 37, 38, 39, 40, 41, 42, 43, 44, 45, 46, 47, 48, 49, 50]\n",
        "\n",
        "\n",
        "\n",
        "Sample Output:\n",
        "\n",
        "    [5, 10, 15, 20, 25, 30, 35, 40, 45, 50]\n",
        "\n",
        "\n",
        "\n",
        "Note: Use the filter() function."
      ],
      "metadata": {
        "id": "PZFu8TGnn4EC"
      }
    },
    {
      "cell_type": "code",
      "source": [
        "import ast,sys\n",
        "input_str = sys.stdin.read()\n",
        "input_list = ast.literal_eval(input_str)\n",
        "\n",
        "\n",
        "list_answer = list(filter(lambda x: x%5 == 0, input_list))\n",
        "\n",
        "print(list_answer)"
      ],
      "metadata": {
        "id": "Sl6vpH0BrRTd"
      },
      "execution_count": null,
      "outputs": []
    },
    {
      "cell_type": "code",
      "source": [
        "import ast,sys\n",
        "input_str = sys.stdin.read()\n",
        "input_list = ast.literal_eval(input_str)\n",
        "\n",
        "list_answer = [i for i in input_list if not i%5]\n",
        "print(list_answer)"
      ],
      "metadata": {
        "id": "FAvffqwjrWlW"
      },
      "execution_count": null,
      "outputs": []
    },
    {
      "cell_type": "markdown",
      "source": [
        "Filter Function\n",
        "--------\n",
        "\n",
        "Description\n",
        "\n",
        "    You are given a list of strings such as input_list = ['hdjk', 'salsap', 'sherpa'].\n",
        "\n",
        "\n",
        "\n",
        "Extract a list of names that start with an ‘s’ and end with a ‘p’ (both 's' and 'p' are lowercase) in input_list.\n",
        "\n",
        "\n",
        "\n",
        "Sample Input:\n",
        "\n",
        "    ['soap','sharp','shy','silent','ship','summer','sheep']\n",
        "\n",
        "\n",
        "\n",
        "Sample Output:\n",
        "\n",
        "    ['soap', 'sharp', 'ship', 'sheep']\n",
        "\n",
        "\n",
        "\n",
        "Note: Use the filter() function."
      ],
      "metadata": {
        "id": "VknGqaW5rX5g"
      }
    },
    {
      "cell_type": "code",
      "source": [
        "import ast,sys\n",
        "input_str = sys.stdin.read()\n",
        "input_list = ast.literal_eval(input_str)\n",
        "\n",
        "sp = list(filter(lambda x: (x[0]=='s') & (x[-1]=='p' ) , input_list))\n",
        "\n",
        "print(sp)"
      ],
      "metadata": {
        "id": "zcW5BwgmrgZH"
      },
      "execution_count": null,
      "outputs": []
    },
    {
      "cell_type": "code",
      "source": [
        "import ast,sys\n",
        "input_str = sys.stdin.read()\n",
        "input_list = ast.literal_eval(input_str)\n",
        "\n",
        "sp = list(filter(lambda x: x[0] == 's' and x[-1] == 'p', input_list))\n",
        "print(sp)"
      ],
      "metadata": {
        "id": "LnX9j_3RrkMw"
      },
      "execution_count": null,
      "outputs": []
    },
    {
      "cell_type": "markdown",
      "source": [
        "Reduce Function\n",
        "------------\n",
        "\n",
        "Description\n",
        "\n",
        "Using the Reduce function, concatenate a list of words in input_list, and print the output as a string.\n",
        "\n",
        "    If input_list = ['I','Love','Python'], the output should be the string 'I Love Python'.\n",
        "\n",
        "\n",
        "\n",
        "Sample Input:\n",
        "\n",
        "    ['All','you','have','to','fear','is','fear','itself']\n",
        "\n",
        "\n",
        "\n",
        "Sample Output:\n",
        "\n",
        "All you have to fear is fear itself"
      ],
      "metadata": {
        "id": "b8YS7a1UrlVU"
      }
    },
    {
      "cell_type": "code",
      "source": [
        "import ast,sys\n",
        "input_str = sys.stdin.read()\n",
        "input_list = ast.literal_eval(input_str)\n",
        "\n",
        "from functools import reduce\n",
        "\n",
        "string1 = str(reduce(lambda x,y: x + \" \" +y, input_list))\n",
        "print(string1)"
      ],
      "metadata": {
        "id": "kUslBt4mrsot"
      },
      "execution_count": null,
      "outputs": []
    },
    {
      "cell_type": "code",
      "source": [
        "import ast,sys\n",
        "input_str = sys.stdin.read()\n",
        "input_list = ast.literal_eval(input_str)\n",
        "\n",
        "from functools import reduce\n",
        "\n",
        "#write your code here.\n",
        "print(str(reduce(lambda x,y: x + \" \" +y, input_list)))"
      ],
      "metadata": {
        "id": "oyZKwT62rvVp"
      },
      "execution_count": null,
      "outputs": []
    },
    {
      "cell_type": "markdown",
      "source": [
        "Reduce Function\n",
        "------------\n",
        "\n",
        "Description\n",
        "\n",
        "You are given a list of numbers such as input_list = [31, 63, 76, 89]. Find and print the largest number in input_list using the reduce() function.\n",
        "\n",
        "\n",
        "\n",
        "Sample Input:\n",
        "\n",
        "    [65,76,87,23,12,90,99]\n",
        "\n",
        "\n",
        "\n",
        "Sample Output:\n",
        "\n",
        "99"
      ],
      "metadata": {
        "id": "kBgHz85IrwtY"
      }
    },
    {
      "cell_type": "code",
      "source": [
        "import ast,sys\n",
        "input_str = sys.stdin.read()\n",
        "input_list = ast.literal_eval(input_str)\n",
        "from functools import reduce\n",
        "\n",
        "answer = reduce(lambda a,b : a if a > b else b,input_list)\n",
        "\n",
        "print(answer)"
      ],
      "metadata": {
        "id": "qXn4TIzar2nQ"
      },
      "execution_count": null,
      "outputs": []
    },
    {
      "cell_type": "code",
      "source": [
        "import ast,sys\n",
        "input_str = sys.stdin.read()\n",
        "input_list = ast.literal_eval(input_str)\n",
        "from functools import reduce\n",
        "\n",
        "answer = reduce(lambda x, y: x if x > y else y,input_list)\n",
        "print(answer)"
      ],
      "metadata": {
        "id": "H2iwDv53r5ff"
      },
      "execution_count": null,
      "outputs": []
    },
    {
      "cell_type": "markdown",
      "source": [
        "# MCQs"
      ],
      "metadata": {
        "id": "KHaXTzhNr6qw"
      }
    },
    {
      "cell_type": "code",
      "source": [
        "input_string = \"I love Python\"\n",
        "k = [(i.upper(), len(i)) for i in input_string.split(' ')]\n",
        "print(k)"
      ],
      "metadata": {
        "id": "FaVJB6DHr7jo",
        "colab": {
          "base_uri": "https://localhost:8080/"
        },
        "outputId": "f2dd0d04-caf0-4d56-fc17-1343585e1910"
      },
      "execution_count": null,
      "outputs": [
        {
          "output_type": "stream",
          "name": "stdout",
          "text": [
            "[('I', 1), ('LOVE', 4), ('PYTHON', 6)]\n"
          ]
        }
      ]
    },
    {
      "cell_type": "code",
      "source": [
        "var = [i**2 for i in range(5)]\n",
        "print(var)"
      ],
      "metadata": {
        "colab": {
          "base_uri": "https://localhost:8080/"
        },
        "id": "Upz9gB4qsJAT",
        "outputId": "e3e364a1-34ad-46d8-e752-bafef9879fb7"
      },
      "execution_count": null,
      "outputs": [
        {
          "output_type": "stream",
          "name": "stdout",
          "text": [
            "[0, 1, 4, 9, 16]\n"
          ]
        }
      ]
    },
    {
      "cell_type": "code",
      "source": [
        "l1=[1,2,3,7]\n",
        "l2=[4,5,6,9]\n",
        "[x+y for x in l1 for y in l2]"
      ],
      "metadata": {
        "colab": {
          "base_uri": "https://localhost:8080/"
        },
        "id": "UoYOvL_L0YV3",
        "outputId": "aa1fefa6-9d62-47a1-8c5b-9a2fdd4dfacb"
      },
      "execution_count": null,
      "outputs": [
        {
          "output_type": "execute_result",
          "data": {
            "text/plain": [
              "[5, 6, 7, 10, 6, 7, 8, 11, 7, 8, 9, 12, 11, 12, 13, 16]"
            ]
          },
          "metadata": {},
          "execution_count": 9
        }
      ]
    },
    {
      "cell_type": "code",
      "source": [
        "def function(n):\n",
        "  n=n+1\n",
        " \n",
        "n=2\n",
        "print(function(2))"
      ],
      "metadata": {
        "colab": {
          "base_uri": "https://localhost:8080/"
        },
        "id": "u8PsRzPn0hc9",
        "outputId": "c5cda228-90c3-4394-8cb9-1244906ecb50"
      },
      "execution_count": null,
      "outputs": [
        {
          "output_type": "stream",
          "name": "stdout",
          "text": [
            "None\n"
          ]
        }
      ]
    },
    {
      "cell_type": "code",
      "source": [
        "x=10\n",
        "def func(x):\n",
        "   x=20\n",
        "print(x)\n",
        " \n",
        "print(x)"
      ],
      "metadata": {
        "colab": {
          "base_uri": "https://localhost:8080/"
        },
        "id": "o1vvYuPU025j",
        "outputId": "437a58b0-8dcb-4435-d78a-806cadf3b983"
      },
      "execution_count": null,
      "outputs": [
        {
          "output_type": "stream",
          "name": "stdout",
          "text": [
            "10\n",
            "10\n"
          ]
        }
      ]
    },
    {
      "cell_type": "code",
      "source": [
        "def samplefunc(msg,i=3):\n",
        "  print(msg*i)\n",
        " \n",
        "samplefunc('python',4)\n",
        "samplefunc('program')"
      ],
      "metadata": {
        "colab": {
          "base_uri": "https://localhost:8080/"
        },
        "id": "PTcuy2rx08F0",
        "outputId": "8d6e5e08-10f4-4966-fa8d-7dc221feaab9"
      },
      "execution_count": null,
      "outputs": [
        {
          "output_type": "stream",
          "name": "stdout",
          "text": [
            "pythonpythonpythonpython\n",
            "programprogramprogram\n"
          ]
        }
      ]
    },
    {
      "cell_type": "code",
      "source": [
        "f=lambda x:bool(x%2)\n",
        "print(f(100)* f(101))"
      ],
      "metadata": {
        "colab": {
          "base_uri": "https://localhost:8080/"
        },
        "id": "fgFSzOKx1ArY",
        "outputId": "05022892-f09e-4863-ece2-618056abc139"
      },
      "execution_count": null,
      "outputs": [
        {
          "output_type": "stream",
          "name": "stdout",
          "text": [
            "0\n"
          ]
        }
      ]
    },
    {
      "cell_type": "code",
      "source": [
        "l=(1, -2, -3, 4, 5)\n",
        "def f1(x):\n",
        "    return x//2\n",
        "m1=map(f1, l)\n",
        "print(list(m1))"
      ],
      "metadata": {
        "colab": {
          "base_uri": "https://localhost:8080/"
        },
        "id": "LDynjR3e1Vth",
        "outputId": "29281e29-2a2d-4700-bc2b-58a861837cc1"
      },
      "execution_count": null,
      "outputs": [
        {
          "output_type": "stream",
          "name": "stdout",
          "text": [
            "[0, -1, -2, 2, 2]\n"
          ]
        }
      ]
    },
    {
      "cell_type": "code",
      "source": [
        "from functools import reduce\n",
        "numbers = [-1, 2, -5, 3, 8,-2, 1,-4,-2]\n",
        "sum = reduce(lambda x, y: x + y, numbers)\n",
        "print(sum)"
      ],
      "metadata": {
        "colab": {
          "base_uri": "https://localhost:8080/"
        },
        "id": "_DSCoEu71dmz",
        "outputId": "f8a1e184-88f8-460e-dda6-2311a8257c13"
      },
      "execution_count": null,
      "outputs": [
        {
          "output_type": "stream",
          "name": "stdout",
          "text": [
            "0\n"
          ]
        }
      ]
    },
    {
      "cell_type": "code",
      "source": [
        "sample=[-4,2,5,-3]\n",
        "ans=map(lambda x: x*2, sample)\n",
        "print(ans)"
      ],
      "metadata": {
        "colab": {
          "base_uri": "https://localhost:8080/"
        },
        "id": "eqtc8_ga1-Sq",
        "outputId": "a9554898-427c-4152-c8a4-3ffe079516ab"
      },
      "execution_count": null,
      "outputs": [
        {
          "output_type": "stream",
          "name": "stdout",
          "text": [
            "<map object at 0x7f7a4c574250>\n"
          ]
        }
      ]
    },
    {
      "cell_type": "code",
      "source": [
        "from functools import reduce\n",
        "\n",
        "try:\n",
        "  print(list(reduce(lambda x,y:x+y,range(5,15))))\n",
        "except Exception as e:\n",
        "  print(e)\n",
        "\n",
        "\n",
        "from functools import reduce\n",
        "lis=[reduce(lambda x,y:x+y,range(5,15))]\n",
        "print(lis)"
      ],
      "metadata": {
        "colab": {
          "base_uri": "https://localhost:8080/"
        },
        "id": "ZNPsOvtI2Dx7",
        "outputId": "8ff26f8d-8d68-40d5-d4bb-be4ddef24401"
      },
      "execution_count": null,
      "outputs": [
        {
          "output_type": "stream",
          "name": "stdout",
          "text": [
            "'int' object is not iterable\n",
            "[95]\n"
          ]
        }
      ]
    },
    {
      "cell_type": "markdown",
      "source": [
        "-------------------\n",
        "\n",
        "`Q.` `12/14).`\n",
        "\n",
        "    Is the output of the following two code snippets the same?\n",
        "\n",
        "    Are they logically the same for any values in ‘lis’?\n",
        "\n",
        "-----------------"
      ],
      "metadata": {
        "id": "kGUBAajj3ix-"
      }
    },
    {
      "cell_type": "code",
      "source": [
        "import functools\n",
        "lis=[1, 2, 3, 4, 5]\n",
        "m=functools.reduce(lambda x, y:x if x<y else y, lis)\n",
        "print(m)"
      ],
      "metadata": {
        "colab": {
          "base_uri": "https://localhost:8080/"
        },
        "id": "_Nf0pWMm2Ldi",
        "outputId": "896a3456-b657-4d92-f57e-ae61cde95ce4"
      },
      "execution_count": null,
      "outputs": [
        {
          "output_type": "stream",
          "name": "stdout",
          "text": [
            "1\n"
          ]
        }
      ]
    },
    {
      "cell_type": "code",
      "source": [
        "lis=[1, 2, 3, 4, 5]\n",
        "c=lis[0]\n",
        "for i in range(len(lis)-1):\n",
        "  if lis[i]<c:\n",
        "      c=lis[i]\n",
        "print(c)"
      ],
      "metadata": {
        "colab": {
          "base_uri": "https://localhost:8080/"
        },
        "id": "26H3gFKT2vkz",
        "outputId": "db13ecc8-9831-4aa7-d634-cfcbcce0228a"
      },
      "execution_count": null,
      "outputs": [
        {
          "output_type": "stream",
          "name": "stdout",
          "text": [
            "1\n"
          ]
        }
      ]
    },
    {
      "cell_type": "markdown",
      "source": [
        "-----------------\n",
        "\n",
        "`Y, Y`\n",
        "\n",
        "`✕ Incorrect`\n",
        "\n",
        "    Feedback:\n",
        "\n",
        "    This is an incorrect answer! \n",
        "    Try for lis = [5, 2, 3, 4, 1].\n",
        "\n",
        "------------------\n",
        "\n",
        "`Y, N`\n",
        "\n",
        "`✓ Correct`\n",
        "\n",
        "    Feedback:\n",
        "    \n",
        "    This is the correct answer! \n",
        "    Both the functions appear to be used \n",
        "    to find the smallest element of the list. \n",
        "    But, the second code misses on \n",
        "    iterating the last element of the list.\n",
        "\n",
        "------------------"
      ],
      "metadata": {
        "id": "u41qFOYn4L1K"
      }
    },
    {
      "cell_type": "code",
      "source": [
        "letters = ('d','i','a','s')\n",
        "ans = list(map(lambda word: f\"{word}x\", letters))\n",
        "print(ans)"
      ],
      "metadata": {
        "colab": {
          "base_uri": "https://localhost:8080/"
        },
        "id": "mMHEmtcS2v7z",
        "outputId": "ac79be88-aed5-4099-b1b8-060fbbfe0c46"
      },
      "execution_count": null,
      "outputs": [
        {
          "output_type": "stream",
          "name": "stdout",
          "text": [
            "['dx', 'ix', 'ax', 'sx']\n"
          ]
        }
      ]
    },
    {
      "cell_type": "code",
      "source": [
        "# Read the following code. \n",
        "# Select from the given options the length \n",
        "# of the list printed.\n",
        "\n",
        "\n",
        "def sf(a):\n",
        "    return a%4==0 and a%8!=0\n",
        "m=filter(sf, range(10, 31))\n",
        "print(list(m))\n",
        "\n",
        "\n",
        "# This is the correct answer! \n",
        "# The list elements here will be [12, 20, 28] \n",
        "# because they are the numbers divisible by 4 \n",
        "# and not divisible by 8 within the given range."
      ],
      "metadata": {
        "colab": {
          "base_uri": "https://localhost:8080/"
        },
        "id": "RzhQwn7A3Y3E",
        "outputId": "32f9691d-558e-4606-ec8a-fe1c3f7de02c"
      },
      "execution_count": null,
      "outputs": [
        {
          "output_type": "stream",
          "name": "stdout",
          "text": [
            "[12, 20, 28]\n"
          ]
        }
      ]
    },
    {
      "cell_type": "markdown",
      "source": [
        "# Practice Questions - I\n",
        "---------------"
      ],
      "metadata": {
        "id": "fggGRTCQ57RV"
      }
    },
    {
      "cell_type": "markdown",
      "source": [
        "Even numbers in a list\n",
        "---------\n",
        "\n",
        "Description\n",
        "\n",
        "`Given a list of integers, write a python code to find all the even numbers present in the list.`\n",
        "\n",
        "\n",
        "Note: Try using lambda and filter functions to solve the problem.\n",
        "\n",
        "\n",
        "\n",
        "    Input: A list of integers\n",
        "\n",
        "    Output: A list of integers\n",
        "\n",
        "\n",
        "\n",
        "----------------------------------------------------------------------\n",
        "\n",
        "\n",
        "\n",
        "    Sample input: \n",
        "    [5, 7, 22, 97, 54, 62, 77, 23, 73, 61] \n",
        "\n",
        "    Sample output: \n",
        "    [22, 54, 62]\n",
        "\n",
        "\n",
        "\n",
        "----------------------------------------------------------------------\n",
        "\n",
        "\n",
        "\n",
        "    Sample input: \n",
        "    [500, 789, 2112, 9097, 5894, 9062, 8977, 1223, 773, 600]\n",
        "\n",
        "    Sample output: \n",
        "    [500, 2112, 5894, 9062, 600]\n",
        "\n",
        "\n",
        "\n",
        "----------------------------------------------------------------------"
      ],
      "metadata": {
        "id": "Q5W9AIZ16Eqx"
      }
    },
    {
      "cell_type": "code",
      "source": [
        "import ast\n",
        "\n",
        "#read the input here\n",
        "input_list = ast.literal_eval(input())\n",
        "\n",
        "#since the result is a subset of the input list, we will use the filter function. \n",
        "#instead of for loop, we will use the lambda function.  \n",
        "final_list = list(filter(lambda x: (x%2 == 0) , input_list)) \n",
        "print(final_list)\n",
        "\n"
      ],
      "metadata": {
        "id": "h-aR_33n5H17"
      },
      "execution_count": 6,
      "outputs": []
    },
    {
      "cell_type": "code",
      "source": [
        "#take input here using ast sys\n",
        "import ast\n",
        "\n",
        "# write the code here\n",
        "inp = ast.literal_eval(input())\n",
        "print([i for i in inp if not i%2])\n"
      ],
      "metadata": {
        "id": "wzUnWDh7bFLo"
      },
      "execution_count": 7,
      "outputs": []
    },
    {
      "cell_type": "markdown",
      "source": [
        "Triple the list elements\n",
        "------------\n",
        "\n",
        "Description\n",
        "\n",
        "`Given a list of integers, write a python code to triple all the values in the list.`\n",
        "\n",
        "\n",
        "\n",
        "Note: Try using lambda and map functions to solve the problem.\n",
        "\n",
        "\n",
        "\n",
        "    Input: A list of integers\n",
        "\n",
        "    Output: A list of integers\n",
        "\n",
        "\n",
        "\n",
        "----------------------------------------------------------------------\n",
        "\n",
        "\n",
        "\n",
        "    Sample input: \n",
        "    [5, 7, 22, 97, 54, 62, 77, 23, 73, 61]\n",
        "\n",
        "    Output: \n",
        "    [15, 21, 66, 291, 162, 186, 231, 69, 219, 183]\n",
        "\n",
        "\n",
        "\n",
        "----------------------------------------------------------------------\n",
        "\n",
        "\n",
        "\n",
        "    Sample input: \n",
        "    [15, 71, 2, 9, 5, 6, 11, 3, 7, 6]\n",
        "\n",
        "    Output: \n",
        "    [45, 213, 6, 27, 15, 18, 33, 9, 21, 18]\n",
        "\n",
        "\n",
        "\n",
        "----------------------------------------------------------------------"
      ],
      "metadata": {
        "id": "iMPol0oEcgfu"
      }
    },
    {
      "cell_type": "code",
      "source": [
        "import ast\n",
        "\n",
        "#read the input here.\n",
        "input_list = ast.literal_eval(input())\n",
        "\n",
        "\n",
        "#mapping lambda function to each element of the input_list\n",
        "final_list = list(map(lambda x: x*3, input_list)) \n",
        "print(final_list)\n"
      ],
      "metadata": {
        "id": "QCxs6oHfbL9P"
      },
      "execution_count": 10,
      "outputs": []
    },
    {
      "cell_type": "code",
      "source": [
        "#take input here using ast sys\n",
        "import ast\n",
        "\n",
        "# write the code here\n",
        "inp = ast.literal_eval(input())\n",
        "\n",
        "print([i*3 for i in inp])\n"
      ],
      "metadata": {
        "id": "DLps4vCwdFd4"
      },
      "execution_count": null,
      "outputs": []
    },
    {
      "cell_type": "markdown",
      "source": [
        "Encrypt elements in a list\n",
        "---------\n",
        "\n",
        "Description\n",
        "\n",
        "`A company stores the names of their employees in a list. They want to encrypt the names so that no one can read them and the data stays safe. One of the steps in encrypting is to reverse each name in the list and convert them to uppercase and your task is to write a Python code to execute the same.`\n",
        "\n",
        "\n",
        "\n",
        "Note: Use lambda and map functions.\n",
        "\n",
        "\n",
        "\n",
        "Input: A list of names\n",
        "\n",
        "Output: A list of encrypted names\n",
        "\n",
        "\n",
        "\n",
        "----------------------------------------------------------------------\n",
        "\n",
        "\n",
        "\n",
        "    Sample input: ['Ronaldo', 'Cristiano', 'Rakesh', 'Ronak']\n",
        "\n",
        "    Sample output: ['ODLANOR', 'ONAITSIRC', 'HSEKAR', 'KANOR']\n",
        "\n",
        "\n",
        "\n",
        "----------------------------------------------------------------------\n",
        "\n",
        "\n",
        "\n",
        "    Sample input: ['Abhay', 'Aravind', 'Desilva', 'Darpan']\n",
        "\n",
        "    Sample output: ['YAHBA', 'DNIVARA', 'AVLISED', 'NAPRAD']\n",
        "\n",
        "\n",
        "\n",
        "----------------------------------------------------------------------"
      ],
      "metadata": {
        "id": "vI-OBRQ6gFO_"
      }
    },
    {
      "cell_type": "code",
      "source": [
        "inp = ['Ronaldo', 'Cristiano', 'Rakesh', 'Ronak']\n",
        "list(map(lambda x: x[::-1].upper(), inp))"
      ],
      "metadata": {
        "colab": {
          "base_uri": "https://localhost:8080/"
        },
        "id": "ooIag1UygSxh",
        "outputId": "30102380-e09b-44d7-e97b-8286e3843065"
      },
      "execution_count": 11,
      "outputs": [
        {
          "output_type": "execute_result",
          "data": {
            "text/plain": [
              "['ODLANOR', 'ONAITSIRC', 'HSEKAR', 'KANOR']"
            ]
          },
          "metadata": {},
          "execution_count": 11
        }
      ]
    },
    {
      "cell_type": "code",
      "source": [
        "import ast\n",
        "\n",
        "#read the input here.\n",
        "input_lst = input()\n",
        "names= ast.literal_eval(input_lst)\n",
        "  \n",
        "#here, we intend to change all names by reversing the string and converting  them to upper case\n",
        "encode_names = list(map(lambda name: str.upper(name[::-1]), names)) \n",
        "  \n",
        "print(encode_names)\n"
      ],
      "metadata": {
        "id": "-F1Sy4rEg6jT"
      },
      "execution_count": null,
      "outputs": []
    },
    {
      "cell_type": "code",
      "source": [
        "#take input here using ast sys\n",
        "import ast\n",
        "\n",
        "# write the code here\n",
        "inp = ast.literal_eval(input())\n",
        "print(list(map(lambda x: x[::-1].upper(), inp)))"
      ],
      "metadata": {
        "id": "tWA-WbQ8hQLu"
      },
      "execution_count": null,
      "outputs": []
    },
    {
      "cell_type": "markdown",
      "source": [
        "# Practice Questions - II\n",
        "\n",
        "-----\n",
        "\n",
        "https://jovian.com/sethuaswinkumar/week-3-practice-questions-and-solutions\n"
      ],
      "metadata": {
        "id": "vgq4WrPyhRJo"
      }
    },
    {
      "cell_type": "markdown",
      "source": [
        "Sorting a dictionary\n",
        "---------\n",
        "\n",
        "Description\n",
        "\n",
        "`Given is a list consisting of dictionary elements. Each dictionary contains the name of a student as a first item and his/her corresponding rank as the second item. Your task is to write a Python program to print the list (dictionary elements) in a sorted ascending order according to student ranks. In case the rank of two or more students are the same, then sort them in ascending order (alphabetically) according to their names.`\n",
        "\n",
        "\n",
        "\n",
        "Note: Use the sorted() function to solve the question.\n",
        "\n",
        "\n",
        "\n",
        "    Input: Dictionary\n",
        "\n",
        "    Output: Dictionary\n",
        "\n",
        "\n",
        "\n",
        "----------------------------------------------------------------------\n",
        "\n",
        "\n",
        "\n",
        "    Sample input: [{ \"name\" : \"Arpit\", \"rank\" : 20}, { \"name\" : \"Manjeet\", \"rank\" : 20 },{ \"name\" : \"Aravind\" , \"rank\" : 19 }]\n",
        "\n",
        "    Sample output: [{ \"name\" : \"Aravind\" , \"rank\" : 19 }, { \"name\" : \"Arpit\", \"rank\" : 20}, { \"name\" : \"Manjeet\", \"rank\" : 20 },]\n",
        "\n",
        "\n",
        "\n",
        "----------------------------------------------------------------------\n",
        "\n",
        "\n",
        "\n",
        "    Sample input: [{ \"name\" : \"Mohan\", \"rank\" : 2}, { \"name\" : \"Mandeep\", \"rank\" : 2 }, { \"name\" : \"Merut\" , \"rank\" : 2 }]\n",
        "\n",
        "\n",
        "\n",
        "    Sample output: [{'name': 'Mandeep', 'rank': 2}, {'name': 'Merut', 'rank': 2}, {'name': 'Mohan', 'rank': 2}]\n",
        "\n",
        "\n",
        "\n",
        "----------------------------------------------------------------------"
      ],
      "metadata": {
        "id": "lVDlDsoihqJW"
      }
    },
    {
      "cell_type": "code",
      "source": [
        "inp = [{ \"name\" : \"Arpit\", \"rank\" : 20}, { \"name\" : \"Manjeet\", \"rank\" : 20 },{ \"name\" : \"Aravind\" , \"rank\" : 19 }]\n",
        "sorted(inp, key = lambda x: (x[\"rank\"], x[\"name\"]))"
      ],
      "metadata": {
        "colab": {
          "base_uri": "https://localhost:8080/"
        },
        "id": "0bFDt6Kphnmv",
        "outputId": "a2599c30-af27-4afb-c475-3127856484bd"
      },
      "execution_count": 15,
      "outputs": [
        {
          "output_type": "execute_result",
          "data": {
            "text/plain": [
              "[{'name': 'Aravind', 'rank': 19},\n",
              " {'name': 'Arpit', 'rank': 20},\n",
              " {'name': 'Manjeet', 'rank': 20}]"
            ]
          },
          "metadata": {},
          "execution_count": 15
        }
      ]
    },
    {
      "cell_type": "code",
      "source": [
        "import ast\n",
        "\n",
        "#read the input here.\n",
        "list_of_dict = ast.literal_eval(input())\n",
        "\n",
        "#sort the dictionary based on the rank and then by name\n",
        "print(sorted(list_of_dict, key = lambda dictionary: (dictionary['rank'], dictionary['name'])))\n"
      ],
      "metadata": {
        "id": "DPvfhMJ9h9BV"
      },
      "execution_count": null,
      "outputs": []
    },
    {
      "cell_type": "code",
      "source": [
        "import ast\n",
        "input_dict = ast.literal_eval(input())\n",
        "\n",
        "sorted_dict = sorted(input_dict,key=lambda x: (x[\"rank\"],x[\"name\"]))\n",
        "print(sorted_dict)"
      ],
      "metadata": {
        "id": "UrCvNH2pkGzW"
      },
      "execution_count": null,
      "outputs": []
    },
    {
      "cell_type": "markdown",
      "source": [
        "Intersection of lists\n",
        "------------\n",
        "\n",
        "Description\n",
        "\n",
        "`In ‘ABC’ university, company ‘XYZ’ conducted three rounds of interviews to recruit students. Those students who passed all the rounds were selected. The company released the results for each round in a separate list. Your task is to write a Python code to display the list of the students who passed all the three rounds.`\n",
        "\n",
        "------------------\n",
        "\n",
        "Note: \n",
        "\n",
        "a. Name of the person can be given in uppercase or lowercase.\n",
        "\n",
        "\n",
        " b. Print the names in lowercase in the output.\n",
        "\n",
        "-------------\n",
        "\n",
        "    Input: List\n",
        "\n",
        "    List\n",
        "\n",
        "    List\n",
        "\n",
        "\n",
        "\n",
        "    Output: List\n",
        "\n",
        "\n",
        "\n",
        "----------------------------------------------------------------------\n",
        "\n",
        "\n",
        "\n",
        "    Sample input: ['Arkam', 'Bairstow', 'Cairy', 'Darpan'] \n",
        "\n",
        "    ['ARKAM', 'Bairstow', 'Cairy', 'Darpan', 'Dhoni', 'Sachin']\n",
        "\n",
        "    ['arkam', 'bairstow', 'Cheteshwar', 'Dinesh']\n",
        "\n",
        "            \n",
        "\n",
        "    Sample output: ['arkam', 'bairstow']\n",
        "\n",
        "\n",
        "\n",
        "----------------------------------------------------------------------\n",
        "\n",
        "\n",
        "\n",
        "    Sample input: ['Pranay', 'Aditya', 'Deepesh', 'Sandesh']\n",
        "\n",
        "    ['Pranoy', 'Surya', 'Cairy', 'Vignesh', 'ADITYA', 'SANDesh']\n",
        "\n",
        "    ['Vardhan', 'Shailesh', 'aditya', 'sandesh']\n",
        "\n",
        "            \n",
        "\n",
        "    Sample output: ['aditya', 'sandesh']\n",
        "\n",
        "\n",
        "\n",
        "----------------------------------------------------------------------\n",
        "\n",
        "    Sample input: ['Siddharth', 'Gaurav', 'Prasad', 'Kuldeep', 'karna']\n",
        "\n",
        "    ['siddharth', 'Gaurav', 'Prasad', 'Kuldeep', 'karna']\n",
        "\n",
        "    ['Siddharth', 'gaurav', 'PRASAD', 'KuLDEEp', 'KARNA']\n",
        "\n",
        "\n",
        "\n",
        "    Sample output: ['siddharth', 'gaurav', 'prasad', 'kuldeep', 'karna']\n"
      ],
      "metadata": {
        "id": "UtXLM-cLkIDn"
      }
    },
    {
      "cell_type": "code",
      "source": [
        "import ast\n",
        "\n",
        "#read the input here.\n",
        "input_lst = input()\n",
        "round_1 = ast.literal_eval(input_lst )\n",
        "\n",
        "#read the input here.\n",
        "input_lst = input()\n",
        "round_2= ast.literal_eval(input_lst )\n",
        "\n",
        "#read the input here.\n",
        "input_lst = input()\n",
        "round_3= ast.literal_eval(input_lst )\n",
        "\n",
        "\n",
        "\n",
        "def interSection(list1,list2): \n",
        "\n",
        "    #convert all the names to lowercase so that casing does not become a problem.\n",
        "\n",
        "    list1 = list(map(lambda name: name.lower(), list1))\n",
        "    list2 = list(map(lambda name: name.lower(), list2))\n",
        "\n",
        "    #use the filter function as the final list  is a subset.\n",
        "    #check for values that are present in both list1 and list2.\n",
        "\n",
        "    result = list(filter(lambda x: x in list1, list2))\n",
        "    return result\n",
        "\n",
        "\n",
        "intersection_round1_round2 = interSection(round_1,round_2)\n",
        "\n",
        "final_result = interSection(intersection_round1_round2,round_3)\n",
        "\n",
        "print(final_result)\n"
      ],
      "metadata": {
        "id": "hJn8fe_0pRZk"
      },
      "execution_count": null,
      "outputs": []
    },
    {
      "cell_type": "code",
      "source": [
        "import ast\n",
        "list1 = ast.literal_eval(input())\n",
        "list2 = ast.literal_eval(input())\n",
        "list3 = ast.literal_eval(input())\n",
        "\n",
        "R1 = list(map(lambda x: x.lower(),list1))\n",
        "R2 = list(map(lambda x: x.lower(),list2))\n",
        "R3 = list(map(lambda x: x.lower(),list3))\n",
        "\n",
        "final_list = []\n",
        "for i in R1:\n",
        "    if (i in R2) and (i in R3):\n",
        "        final_list.append(i)\n",
        "\n",
        "print(final_list)"
      ],
      "metadata": {
        "id": "3Pc1Q4WineqT"
      },
      "execution_count": null,
      "outputs": []
    },
    {
      "cell_type": "code",
      "source": [
        "import ast\n",
        "list1 = ast.literal_eval(input())\n",
        "list2 = ast.literal_eval(input())\n",
        "list3 = ast.literal_eval(input())\n",
        "\n",
        "round1 = [i.lower() for i in list1]\n",
        "round2 = [i.lower() for i in list2]\n",
        "round3 = [i.lower() for i in list3]\n",
        "\n",
        "finalist = [i for i in round1 if (i in round2) and (i in round3)]\n",
        "\n",
        "print(finalist)"
      ],
      "metadata": {
        "id": "UttmPTiHuRtR"
      },
      "execution_count": null,
      "outputs": []
    },
    {
      "cell_type": "code",
      "source": [
        "# this cell is rejected...\n",
        "\n",
        "# inp1 = ['Arkam', 'Bairstow', 'Cairy', 'Darpan'] \n",
        "# inp2 = ['ARKAM', 'Bairstow', 'Cairy', 'Darpan', 'Dhoni', 'Sachin']\n",
        "# inp3 = ['arkam', 'bairstow', 'Cheteshwar', 'Dinesh']\n",
        "\n",
        "# list(set.intersection(set([i.lower() for i in inp1]), set([i.lower() for i in inp2]), set([i.lower() for i in inp3])))"
      ],
      "metadata": {
        "colab": {
          "base_uri": "https://localhost:8080/"
        },
        "id": "UGYbwwwgkU2T",
        "outputId": "7c255e7b-d445-4a1b-a842-c84fac66a60c"
      },
      "execution_count": 21,
      "outputs": [
        {
          "output_type": "execute_result",
          "data": {
            "text/plain": [
              "['bairstow', 'arkam']"
            ]
          },
          "metadata": {},
          "execution_count": 21
        }
      ]
    },
    {
      "cell_type": "markdown",
      "source": [
        "Sorting a list of dictionary elements\n",
        "------------\n",
        "\n",
        "Description\n",
        "\n",
        "`A teacher decided to divide the class into groups to conduct fun activities. Each group had one or more members in it. The data is provided in the form of a list with dictionary elements. The key and value in each dictionary correspond to the student’s roll number and his/her name.`\n",
        "\n",
        "-------------------\n",
        "\n",
        "\n",
        "`In case the length of two or more dictionaries are the same, then the dictionary that occurs first in the input list will also appear first among the other dictionaries of the same length.`\n",
        "\n",
        "-----------------------\n",
        "\n",
        "\n",
        "`Your task is to write a Python program to sort the list in descending order with respect to the group strength.`\n",
        "\n",
        "---------------------\n",
        "\n",
        "Note: Use lambda and sorted functions to solve the question.\n",
        "\n",
        "\n",
        "\n",
        "    Input: List\n",
        "\n",
        "    Output: List\n",
        "\n",
        "\n",
        "\n",
        "----------------------------------------------------------------------\n",
        "\n",
        "\n",
        "\n",
        "    Sample input: [{4: 'Viking', 9: 'Happy', 10: 'Tony', 2: 'Rogers'}, {12: 'Vikram', 19: 'Vipan'}, {3: 'Kohli'}, {1: 'Ronaldo', 29: 'Harish', 7: 'Ganesh'}]\n",
        "\n",
        "\n",
        "\n",
        "    Sample output: [{4: 'Viking', 9: 'Happy', 10: 'Tony', 2: 'Rogers'}, {1: 'Ronaldo', 29: 'Harish', 7: 'Ganesh'}, {12: 'Vikram', 19: 'Vipan'}, {3: 'Kohli'}]\n",
        "\n",
        "\n",
        "\n",
        "----------------------------------------------------------------------\n",
        "\n",
        "\n",
        "\n",
        "    Sample input: [{14: 'Darpan', 19: 'Harry', 10: 'Julia'}, {12: 'Ethan', 19: 'Rogers'}, {3: 'Kohli', 1: 'Neymar', 29: 'Sachin', 7: 'Ramesh'}]\n",
        "\n",
        "\n",
        "\n",
        "    Sample output: [{3: 'Kohli', 1: 'Neymar', 29: 'Sachin', 7: 'Ramesh'}, {14: 'Darpan', 19: 'Harry', 10: 'Julia'}, {12: 'Ethan', 19: 'Rogers'}]\n",
        "\n",
        "\n",
        "\n",
        "----------------------------------------------------------------------\n",
        "\n",
        "Execution Time Limit\n",
        "10 seconds"
      ],
      "metadata": {
        "id": "YIOIZoYioBbR"
      }
    },
    {
      "cell_type": "code",
      "source": [
        "import ast\n",
        "\n",
        "#read the list.\n",
        "input_list= input()\n",
        "input_list= ast.literal_eval(input_list)\n",
        "\n",
        "# performing sort using sorted(), lambda for filtering. \n",
        "res = sorted(input_list, key=lambda sub: len(sub), reverse = True) \n",
        "  \n",
        "# printing result \n",
        "print(res)\n"
      ],
      "metadata": {
        "id": "0bL8uU-HleGZ"
      },
      "execution_count": 24,
      "outputs": []
    },
    {
      "cell_type": "code",
      "source": [
        "import ast\n",
        "input_list = ast.literal_eval(input())\n",
        "\n",
        "sorted_list = sorted(input_list, key=lambda x:len(x),reverse=True)\n",
        "print(sorted_list)"
      ],
      "metadata": {
        "colab": {
          "base_uri": "https://localhost:8080/"
        },
        "id": "uShSAYWhlSX5",
        "outputId": "e4dd8bdc-0c8a-4055-baa1-782b7454369d"
      },
      "execution_count": 33,
      "outputs": [
        {
          "output_type": "stream",
          "name": "stdout",
          "text": [
            "[{4: 'Viking', 9: 'Happy', 10: 'Tony', 2: 'Rogers'}, {12: 'Vikram', 19: 'Vipan'}, {3: 'Kohli'}, {1: 'Ronaldo', 29: 'Harish', 7: 'Ganesh'}]\n",
            "[{4: 'Viking', 9: 'Happy', 10: 'Tony', 2: 'Rogers'}, {1: 'Ronaldo', 29: 'Harish', 7: 'Ganesh'}, {12: 'Vikram', 19: 'Vipan'}, {3: 'Kohli'}]\n"
          ]
        }
      ]
    },
    {
      "cell_type": "code",
      "source": [],
      "metadata": {
        "id": "qhH4-vNLo_U8"
      },
      "execution_count": null,
      "outputs": []
    }
  ]
}