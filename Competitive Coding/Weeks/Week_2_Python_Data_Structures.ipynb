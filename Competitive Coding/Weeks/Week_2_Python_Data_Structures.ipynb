{
  "nbformat": 4,
  "nbformat_minor": 0,
  "metadata": {
    "colab": {
      "provenance": []
    },
    "kernelspec": {
      "name": "python3",
      "display_name": "Python 3"
    },
    "language_info": {
      "name": "python"
    }
  },
  "cells": [
    {
      "cell_type": "markdown",
      "source": [
        "https://colab.research.google.com/drive/1Lf4Ry5sg0Lz3skq8XXO8kmVYg7dhbDqC#scrollTo=XahRinBwrnnl"
      ],
      "metadata": {
        "id": "O8U89hmTrxNb"
      }
    },
    {
      "cell_type": "markdown",
      "source": [
        "List_remove_append\n",
        "-------\n",
        "\n",
        "Description\n",
        "\n",
        "Remove SPSS from input_list=['SAS', 'R', 'PYTHON', 'SPSS'] and add 'SPARK' in its place.\n",
        "\n",
        "\n",
        "\n",
        "Sample Input:\n",
        "\n",
        "['SAS', 'R', 'PYTHON', 'SPSS']\n",
        "\n",
        "\n",
        "\n",
        "Sample Output:\n",
        "\n",
        "['SAS', 'R', 'PYTHON', 'SPARK']"
      ],
      "metadata": {
        "id": "VQTv_A2brxep"
      }
    },
    {
      "cell_type": "code",
      "execution_count": null,
      "metadata": {
        "id": "XahRinBwrnnl"
      },
      "outputs": [],
      "source": [
        "import ast,sys\n",
        "input_list = (sys.stdin.read()).split(',')\n",
        "input_list.remove('SPSS')\n",
        "input_list.append('SPARK')\n",
        "print(input_list)"
      ]
    },
    {
      "cell_type": "code",
      "source": [
        "import ast,sys\n",
        "input_list = (sys.stdin.read()).split(',')\n",
        "# Write code to remove 'SPSS'\n",
        "# Write code to append 'SPARK'\n",
        "input_list.remove('SPSS')\n",
        "input_list.append('SPARK')\n",
        "print(input_list)"
      ],
      "metadata": {
        "id": "kIPsXQljr5f7"
      },
      "execution_count": null,
      "outputs": []
    },
    {
      "cell_type": "markdown",
      "source": [
        "List to String\n",
        "----------\n",
        "\n",
        "Description\n",
        "\n",
        "Convert a list ['Pythons syntax is easy to learn', 'Pythons syntax is very clear'] to a string using ‘&’. The sample output of this string will be:\n",
        "Pythons syntax is easy to learn & Pythons syntax is very clear\n",
        "\n",
        "Note that there is a space on both sides of '&' (as usual in English sentences)."
      ],
      "metadata": {
        "id": "5fiWQD-er6DK"
      }
    },
    {
      "cell_type": "code",
      "source": [
        "import ast,sys\n",
        "input_str = (sys.stdin.read()).split(',')\n",
        "\n",
        "string_1 = ' & '.join(input_str)\n",
        "print(string_1)"
      ],
      "metadata": {
        "id": "g8whwNfAr9y3"
      },
      "execution_count": null,
      "outputs": []
    },
    {
      "cell_type": "code",
      "source": [
        "import ast,sys\n",
        "input_str = (sys.stdin.read()).split(',')\n",
        "\n",
        "string_1 = ' & '.join(input_str)\n",
        "print(string_1)"
      ],
      "metadata": {
        "id": "Sxio-LYbsAAA"
      },
      "execution_count": null,
      "outputs": []
    },
    {
      "cell_type": "markdown",
      "source": [
        "String Split\n",
        "--------\n",
        "\n",
        "Description\n",
        "\n",
        "Split the string input_str = 'Kumar_Ravi_003' to the person's second name, first name and unique customer code. In this example, second_name= 'Kumar', first_name= 'Ravi', customer_code = '003'.\n",
        "\n",
        "\n",
        "\n",
        "A sample output of the input 'Kumar_Ravi_003' is:\n",
        "\n",
        "Ravi\n",
        "Kumar\n",
        "003\n",
        " \n",
        "\n",
        "Note that you need to print in the order first name, last name and customer code."
      ],
      "metadata": {
        "id": "LRjo6LC7sAns"
      }
    },
    {
      "cell_type": "code",
      "source": [
        "import ast,sys\n",
        "input_str = sys.stdin.read()\n",
        "first_name = input_str.split(\"_\")[1]\n",
        "second_name = input_str.split(\"_\")[0]\n",
        "customer_code = input_str.split(\"_\")[2]\n",
        "print(first_name)\n",
        "print(second_name)\n",
        "print(customer_code)"
      ],
      "metadata": {
        "id": "4krn4UnOsE8M"
      },
      "execution_count": null,
      "outputs": []
    },
    {
      "cell_type": "code",
      "source": [
        "import ast,sys\n",
        "input_str = sys.stdin.read().split('_')\n",
        "first_name = input_str[1]\n",
        "second_name = input_str[0]\n",
        "customer_code = input_str[2]\n",
        "print(first_name)\n",
        "print(second_name)\n",
        "print(customer_code)"
      ],
      "metadata": {
        "id": "srbyMOyNsG-3"
      },
      "execution_count": null,
      "outputs": []
    },
    {
      "cell_type": "markdown",
      "source": [
        "Tuple\n",
        "----\n",
        "\n",
        "Description\n",
        "\n",
        "Add the element ‘Python’ to a tuple input_tuple = ('Monty Python', 'British', 1969). Since tuples are immutable, one way to do this is to convert the tuple to a list, add the element, and convert it back to a tuple.\n",
        "\n",
        "\n",
        "\n",
        "Sample Input:\n",
        "\n",
        "('Monty Python', 'British', 1969)\n",
        "\n",
        "\n",
        "\n",
        "Sample Output:\n",
        "\n",
        "﻿('Monty Python', 'British', 1969, 'Python')"
      ],
      "metadata": {
        "id": "wWtS717gsHmr"
      }
    },
    {
      "cell_type": "code",
      "source": [
        "import ast,sys\n",
        "input_str = sys.stdin.read()\n",
        "input_tuple = ast.literal_eval(input_str)\n",
        "list_1 = list(input_tuple)\n",
        "list_1.append('Python')\n",
        "tuple_2 = tuple(list_1)\n",
        "print(tuple_2)"
      ],
      "metadata": {
        "id": "-P8prvfesPC4"
      },
      "execution_count": null,
      "outputs": []
    },
    {
      "cell_type": "code",
      "source": [
        "import ast,sys\n",
        "input_str = sys.stdin.read()\n",
        "input_tuple = ast.literal_eval(input_str)\n",
        "\n",
        "# Write your code here\n",
        "tuple_2 = list(input_tuple)\n",
        "tuple_2.append('Python')\n",
        "\n",
        "# Make sure to name the final tuple 'tuple_2'\n",
        "print(tuple(tuple_2))"
      ],
      "metadata": {
        "id": "VX6aRoA9sRsh"
      },
      "execution_count": null,
      "outputs": []
    },
    {
      "cell_type": "markdown",
      "source": [
        "Sets Practice\n",
        "--------\n",
        "\n",
        "Description\n",
        "\n",
        "Let’s say you have two lists A and B. Identify the elements which are common in the two lists A and B and return them in a sorted manner. For example \n",
        "\n",
        "\n",
        "\n",
        "Sample Input :\n",
        "\n",
        "A = [5, 1, 3, 4, 4, 5, 6, 7]\n",
        "\n",
        "B = [3, 3, 5, 5, 1 ,7 ,2]\n",
        "\n",
        "\n",
        "\n",
        "Sample Output:\n",
        "\n",
        "[1,3,5,7]\n",
        "\n",
        "\n",
        "\n",
        "If you observe the sample output here you can see that \n",
        "\n",
        "Though value 5 is repeated twice in both lists, in the final output it is present only once.\n",
        "The values are returned in a sorted manner with values increasing."
      ],
      "metadata": {
        "id": "Gh8HhE9WsSZI"
      }
    },
    {
      "cell_type": "code",
      "source": [
        "import ast,sys\n",
        "input_str = sys.stdin.read()\n",
        "input_list = ast.literal_eval(input_str)\n",
        "list_1 = input_list[0]\n",
        "list_2 = input_list[1]\n",
        "\n",
        "set_1 = set(list_1)\n",
        "set_2 = set(list_2)\n",
        "set_3 = set_1.intersection(set_2)\n",
        "answer= sorted(list(set_3))\n",
        "print(answer)\n"
      ],
      "metadata": {
        "id": "nOGZgW8Bsb1b"
      },
      "execution_count": null,
      "outputs": []
    },
    {
      "cell_type": "code",
      "source": [
        "import ast,sys\n",
        "input_str = sys.stdin.read()\n",
        "input_list = ast.literal_eval(input_str)\n",
        "list_1 = set(input_list[0])\n",
        "list_2 = set(input_list[1])\n",
        "\n",
        "#Type your answer here\n",
        "answer = list(list_1.intersection(list_2))\n",
        "print(answer)\n"
      ],
      "metadata": {
        "id": "kQ4TKshusejo"
      },
      "execution_count": null,
      "outputs": []
    },
    {
      "cell_type": "markdown",
      "source": [
        "Dictionary Coding\n",
        "-----------\n",
        "\n",
        "Description\n",
        "\n",
        "Write code to fetch the profession of the employee with Employee id - 104 from an employee input given in the form of a dictionary where key represent employ id and values represent the name, age, and profession (in the same order).\n",
        "\n",
        "\n",
        "\n",
        "Sample input:\n",
        "\n",
        "Employee_data = { 101:['Shiva', 24, 'Content Strategist'] ,102:['Udit',25,'Content Strategist'], 103:['Sonam', 28,'Sr Manager'], 104:['Ansari',29,'Product Lead' ],105:['Huzefa',32,'Project Manager' ]}\n",
        "\n",
        "\n",
        "\n",
        "Sample output:\n",
        "\n",
        "'Product Lead'\n",
        "\n",
        "\n",
        "\n",
        "Note: Assume that employee data would be available in the data provided to you "
      ],
      "metadata": {
        "id": "VLk031TOsfRo"
      }
    },
    {
      "cell_type": "code",
      "source": [
        "import ast,sys\n",
        "input_str = sys.stdin.read()\n",
        "input_dict = ast.literal_eval(input_str)\n",
        "Employee_list = list( input_dict[104])\n",
        "profession = Employee_list[2]\n",
        "print(profession)\n"
      ],
      "metadata": {
        "id": "Sne3rGSrsw_5"
      },
      "execution_count": null,
      "outputs": []
    },
    {
      "cell_type": "code",
      "source": [
        "import ast,sys\n",
        "input_str = sys.stdin.read()\n",
        "input_dict = ast.literal_eval(input_str)\n",
        "\n",
        "#Type you answer here\n",
        "profession=input_dict[104][2]\n",
        "print(profession)\n"
      ],
      "metadata": {
        "id": "guU-fzFnszg6"
      },
      "execution_count": null,
      "outputs": []
    },
    {
      "cell_type": "markdown",
      "source": [
        "Dict_Error\n",
        "-----------\n",
        "\n",
        "Description\n",
        "\n",
        "From a Dictionary input_dict={'Name': 'Monty', 'Profession': 'Singer' }, get the value of a key ‘Label’ which is not a part of the dictionary, in such a way that Python doesn't hit an error. If the key does not exist in the dictionary, Python should return 'NA'.\n",
        "\n",
        "\n",
        "\n",
        "Sample Input:\n",
        "\n",
        "{'Name': 'Monty', 'Profession': 'Singer' }\n",
        "\n",
        "\n",
        "\n",
        "Sample Output:\n",
        "\n",
        "NA"
      ],
      "metadata": {
        "id": "5YRPHBlts0Nv"
      }
    },
    {
      "cell_type": "code",
      "source": [
        "import ast,sys\n",
        "input_str = sys.stdin.read()\n",
        "input_dict = ast.literal_eval(input_str)\n",
        "\n",
        "answer = input_dict.get('Label','NA')\n",
        "\n",
        "print(answer)"
      ],
      "metadata": {
        "id": "pFPR6kn6s5RE"
      },
      "execution_count": null,
      "outputs": []
    },
    {
      "cell_type": "code",
      "source": [
        "import ast,sys\n",
        "input_str = sys.stdin.read()\n",
        "input_dict = ast.literal_eval(input_str)\n",
        "\n",
        "\n",
        "# Type your answer here\n",
        "try:\n",
        "    answer=input_dict['Label']\n",
        "except:\n",
        "    print('NA')"
      ],
      "metadata": {
        "id": "rGqIWaPdtAjm"
      },
      "execution_count": null,
      "outputs": []
    },
    {
      "cell_type": "markdown",
      "source": [
        "List of Values in a Dictionary.\n",
        "------------\n",
        "\n",
        "Description\n",
        "\n",
        "Create a SORTED list of all values from the dictionary input_dict = {'Jack Dorsey' : 'Twitter' , 'Tim Cook' : 'Apple','Jeff Bezos' : 'Amazon' ,'Mukesh Ambani' : 'RJIO'}\n",
        "\n",
        "\n",
        "\n",
        "Sample Input:\n",
        "\n",
        "{'Jack Dorsey' : 'Twitter' , 'Tim Cook' : 'Apple','Jeff Bezos' : 'Amazon' ,'Mukesh Ambani' : 'RJIO'}\n",
        "\n",
        "\n",
        "\n",
        "Sample Output:\n",
        "\n",
        "﻿['Amazon', 'Apple', 'RJIO', 'Twitter']"
      ],
      "metadata": {
        "id": "3Vw0s0IktCB6"
      }
    },
    {
      "cell_type": "code",
      "source": [
        "import ast,sys\n",
        "input_str = sys.stdin.read()\n",
        "input_dict = ast.literal_eval(input_str)\n",
        "value_list = input_dict\n",
        "print(sorted(value_list.values()))\n"
      ],
      "metadata": {
        "id": "JIFdbii8tEmx"
      },
      "execution_count": null,
      "outputs": []
    },
    {
      "cell_type": "code",
      "source": [
        "import ast,sys\n",
        "input_str = sys.stdin.read()\n",
        "input_dict = ast.literal_eval(input_str)\n",
        "\n",
        "#type your answer here\n",
        "print(sorted(input_dict.values()))"
      ],
      "metadata": {
        "id": "NsB0WrNktHSk"
      },
      "execution_count": null,
      "outputs": []
    },
    {
      "cell_type": "markdown",
      "source": [
        "List sum\n",
        "-----------\n",
        "\n",
        "Description\n",
        "\n",
        "Suppose you want to know the total score of the Indian cricket team in a given match. To do so, your task is to find the sum of all the scores of the Indian team players. The scores are provided as a list, with each element as an individual score of the players. Also, there is a condition that if the number of elements in the list is more than 11, then it is an invalid input and the output should be -1.\n",
        "\n",
        "\n",
        "\n",
        "--------------------------------------------------------------------------------------------\n",
        "\n",
        "\n",
        "\n",
        "Input - List\n",
        "\n",
        "Output - An integer\n",
        "\n",
        "\n",
        "\n",
        "--------------------------------------------------------------------------------------------\n",
        "\n",
        "\n",
        "\n",
        "Sample Input : [11, 13, 101, 14, 33, 141]\n",
        "\n",
        "Sample Output : 313\n",
        "\n",
        "\n",
        "\n",
        "---------------------------------------------------------------------------------------------\n",
        "\n",
        "\n",
        "\n",
        "Sample Input : [11, 13, 101, 14, 33, 141, 12, 144, 54, 67, 8, 11]\n",
        "\n",
        "Sample Output : -1\n",
        "\n",
        "\n",
        "---------------------------------------------------------------------------------------------\n",
        "\n",
        "\n",
        "\n",
        "Sample Input : [100, 80, 30, 10, 0, 1, 2, 0]\n",
        "\n",
        "Sample Output : 223\n",
        "\n",
        "\n",
        "\n",
        "---------------------------------------------------------------------------------------------"
      ],
      "metadata": {
        "id": "SGyJ96QYtIgu"
      }
    },
    {
      "cell_type": "code",
      "source": [
        "import ast\n",
        "\n",
        "#Take scores list as input\n",
        "scores=ast.literal_eval(input())\n",
        "\n",
        "#Function for calculating the total scores that takes the scores list as an argument\n",
        "\n",
        "def calc_score(scores):\n",
        "\n",
        "#If the number of score entries in the list is greater than 11, return -1\n",
        "    if len(scores)>11:\n",
        "        return(-1)\n",
        "        \n",
        "#calculate the sum of scores\n",
        "    else:\n",
        "        return(sum(scores))\n",
        "\n",
        "print(calc_score(scores))\n"
      ],
      "metadata": {
        "id": "haONP14StgF0"
      },
      "execution_count": null,
      "outputs": []
    },
    {
      "cell_type": "code",
      "source": [
        "import ast\n",
        "\n",
        "#Take input \n",
        "inp = input()\n",
        "inp = ast.literal_eval(inp)\n",
        "\n",
        "#Write your code here\n",
        "if len(inp)>11:\n",
        "    print(-1)\n",
        "else:\n",
        "    print(sum(inp))"
      ],
      "metadata": {
        "id": "_6PVRvnrtouA"
      },
      "execution_count": null,
      "outputs": []
    },
    {
      "cell_type": "markdown",
      "source": [
        "Length of list elements\n",
        "--------------\n",
        "\n",
        "Description\n",
        "\n",
        "Given a list of strings, write a program to find the number of strings whose length is greater than or equal to K, where K is a positive integer.\n",
        "\n",
        "\n",
        "\n",
        "Input - List of strings and an integer\n",
        "\n",
        "﻿Output - Integer\n",
        "\n",
        "\n",
        "\n",
        "--------------------------------------------------------------------------------\n",
        "\n",
        "\n",
        "\n",
        "Sample Input :\n",
        "\n",
        "[Mumbai, Hyderabad, Calicut, Chennai]\n",
        "\n",
        "  9\n",
        "\n",
        "\n",
        "\n",
        "Sample Output: 1\n",
        "\n",
        "\n",
        "\n",
        "-------------------------------------------------------------------------------\n",
        "\n",
        "\n",
        "\n",
        "Sample Input :\n",
        "\n",
        "[Datascience, Data Analyst, Programmer, Manager]\n",
        "\n",
        "  8\n",
        "\n",
        "\n",
        "\n",
        "Sample Output : 3"
      ],
      "metadata": {
        "id": "Ln25wZa7tqRp"
      }
    },
    {
      "cell_type": "code",
      "source": [
        "import ast\n",
        "\n",
        "#Take input\n",
        "input_list = ast.literal_eval(input())\n",
        "K= int(input())\n",
        "\n",
        "# Initialising a count variagble that tracks the number of elements in the list\n",
        "# with length >k\n",
        "count = 0\n",
        "\n",
        "#Looping through the list and check the length of each element. Increase the count by 1 if the \n",
        "#length is greater than K\n",
        "for i in input_list:\n",
        "\tif len(i)>=K:\n",
        "\t    count=count+1\n",
        "\t    \n",
        "print(count)\n"
      ],
      "metadata": {
        "id": "QiZ5m4trtxsg"
      },
      "execution_count": null,
      "outputs": []
    },
    {
      "cell_type": "code",
      "source": [
        "import ast\n",
        "inp1 = ast.literal_eval(input())\n",
        "inp2 = ast.literal_eval(input())\n",
        "c=0\n",
        "\n",
        "for i in inp1:\n",
        "  if len(i)>=inp2:\n",
        "    c+=1\n",
        "print(c)"
      ],
      "metadata": {
        "id": "Na_bVIqSt0yA"
      },
      "execution_count": null,
      "outputs": []
    },
    {
      "cell_type": "markdown",
      "source": [
        "Increment list elements\n",
        "-------------\n",
        "\n",
        "Description\n",
        "\n",
        "Given a list of strings, increment the value of the numeric strings by 'k’. \n",
        "\n",
        "\n",
        "\n",
        "Hint: The function isdigit() may be useful here.\n",
        "\n",
        "\n",
        "\n",
        "---------------------------------------------------------------------------------------------\n",
        "\n",
        "\n",
        "\n",
        "Input - A list in the first line and an integer in the second line\n",
        "\n",
        "Output - A list\n",
        "\n",
        "---------------------------------------------------------------------------------------------\n",
        "\n",
        "Sample Input :\n",
        "\n",
        "['Python', '123', 'Data']\n",
        "\n",
        "  4\n",
        "\n",
        "\n",
        "Sample Output : ['Python', '127', 'Data']\n",
        "\n",
        "\n",
        "\n",
        "---------------------------------------------------------------------------------------------\n",
        "\n",
        "Sample Input :\n",
        "\n",
        "['upGrad', '1991', 'Mumbai']\n",
        "\n",
        "  0\n",
        "\n",
        "\n",
        "\n",
        "Sample Output : ['upGrad', '1991', 'Mumbai']\n",
        "\n",
        "\n",
        "\n",
        "---------------------------------------------------------------------------------------------\n",
        "\n",
        "Sample Input :\n",
        "\n",
        "['Data Science', '100', '10']\n",
        "\n",
        "  10\n",
        "\n",
        "\n",
        "\n",
        "Sample Output : ['Data Science', '110', '20']"
      ],
      "metadata": {
        "id": "W9GKW0gCt1qm"
      }
    },
    {
      "cell_type": "code",
      "source": [
        "import ast\n",
        "#reading the input list\n",
        "input_list = ast.literal_eval(input())\n",
        "K = int(input())\n",
        "\n",
        "# Function that takes the input list and increment value as an argument \n",
        "def check(L, K):\n",
        "    for i in range(len(L)):\n",
        "        # incrementing on testing for digit, increment by K or else continue the loop \n",
        "        if L[i].isdigit(): \n",
        "            L[i] = str(int(L[i])+K)\n",
        "        else: \n",
        "            continue\n",
        "    return L\n",
        "\n",
        "\n",
        "#calling the function\n",
        "transformed_list = check(input_list, K)\n",
        "\n",
        "#print the result\n",
        "print(transformed_list)\n"
      ],
      "metadata": {
        "id": "MfRycNEJt8AY"
      },
      "execution_count": null,
      "outputs": []
    },
    {
      "cell_type": "code",
      "source": [
        "#Input has been taken for you\n",
        "import ast\n",
        "input_list = ast.literal_eval(input())\n",
        "K = int(input())\n",
        "\n",
        "#write the code\n",
        "for i in range(len(input_list)):\n",
        "  if input_list[i].isdigit():\n",
        "    input_list[i] = str(int(input_list[i]) + K)\n",
        "    \n",
        "print(input_list)"
      ],
      "metadata": {
        "id": "ncGETpbpuJDA"
      },
      "execution_count": null,
      "outputs": []
    },
    {
      "cell_type": "markdown",
      "source": [
        "Slicing a list\n",
        "---------\n",
        "\n",
        "Description\n",
        "\n",
        "Given a list of strings and an integer K, write a python code to print all the elements from the K th position till the end of the list.\n",
        "\n",
        "\n",
        "\n",
        "Note: Assume that K (a positive integer) will always be less than or equal to the length of the list\n",
        "\n",
        "\n",
        "Input - A list of strings in the first line and an integer in the second line of the input.\n",
        "\n",
        "Output - A list\n",
        "\n",
        "\n",
        "\n",
        "--------------------------------------------------------------------------------------------------------\n",
        "\n",
        "\n",
        "\n",
        "Sample Input :\n",
        "\n",
        "['Mumbai', 'Delhi', 'Australia', 'Nigeria', 'USA', 'London', 'Canada']\n",
        "\n",
        "2\n",
        "\n",
        "\n",
        "\n",
        "Sample Output : ['Delhi', 'Australia', 'Nigeria', 'USA', 'London', 'Canada']\n",
        "\n",
        "\n",
        "\n",
        "--------------------------------------------------------------------------------------------------------\n",
        "\n",
        "\n",
        "\n",
        "Sample Input :\n",
        "\n",
        "['Chennai', 'Vizag', 'Austria', 'Germany', 'Japan']\n",
        "\n",
        "3\n",
        "\n",
        "\n",
        "\n",
        "Sample Output : ['Austria', 'Germany', 'Japan']"
      ],
      "metadata": {
        "id": "RlIA162VuMCM"
      }
    },
    {
      "cell_type": "code",
      "source": [
        "#taking the input from user\n",
        "import ast\n",
        "input_lst = input()\n",
        "test_lst = ast.literal_eval(input_lst)\n",
        "K= input()\n",
        "K= int(K)\n",
        "\n",
        "print(test_lst[K-1:len(test_lst)])\n"
      ],
      "metadata": {
        "id": "Q40Qq3fuuJVj"
      },
      "execution_count": null,
      "outputs": []
    },
    {
      "cell_type": "code",
      "source": [
        "#read the input using the ast sys\n",
        "import ast\n",
        "\n",
        "#Write the code here\n",
        "inp1 = ast.literal_eval(input())\n",
        "inp2 = ast.literal_eval(input())\n",
        "\n",
        "print(inp1[inp2-1:])"
      ],
      "metadata": {
        "id": "2f2IVnRRuUkr"
      },
      "execution_count": null,
      "outputs": []
    },
    {
      "cell_type": "markdown",
      "source": [
        "Substring with maximum uppercase characters\n",
        "-----------------\n",
        "\n",
        "Description\n",
        "\n",
        "Given a string, write a Python program to find the largest substring of uppercase characters and print the length of that substring. Check the sample inputs and outputs for a better understanding.\n",
        "\n",
        "\n",
        "\n",
        "---------------------------------------------------------------------------------------------------\n",
        "\n",
        "Input - String\n",
        "\n",
        "Output - String\n",
        "\n",
        "---------------------------------------------------------------------------------------------------\n",
        "\n",
        "\n",
        "\n",
        "Sample Input - I lovE PRogrAMMING\n",
        "\n",
        "Sample Output - 6\n",
        "\n",
        "\n",
        "\n",
        "Explanation - AMMING is the largest substring with all characters in uppercase continuously \n",
        "\n",
        "\n",
        "\n",
        "-----------------------------------------------------------------------------------------------------\n",
        "\n",
        "Sample Input - MuMbaI is in MAHArashTRA\n",
        "\n",
        "Sample Output - 4\n",
        "\n",
        "\n",
        "\n",
        "Explanation - MAHA is the largest substring with all characters in uppercase continuously.\n",
        "\n",
        "\n",
        "\n",
        "---------------------------------------------------------------------------------------------------\n",
        "\n",
        "Sample Input - India WOn the WOrLD CUP\n",
        "\n",
        "Sample Output - 3\n",
        "\n",
        "\n",
        "\n",
        "Explanation - CUP is the largest substring with all characters in uppercase continuously."
      ],
      "metadata": {
        "id": "eNoNfHbNuVoL"
      }
    },
    {
      "cell_type": "code",
      "source": [
        "#read the string\n",
        "test_str = input()\n",
        "\n",
        "# when a character in the string is a uppercase, cnt will count the number of #continuous uppercase characters from that index\n",
        "cnt=0\n",
        "# max_run stores the final maximum count which is to be displayed as answer\n",
        "max_run=0\n",
        "\n",
        "for i in range(0,len(test_str)):\n",
        "    # updating run count on uppercase \n",
        "    if test_str[i].isupper():\n",
        "        cnt=cnt+1\n",
        "    # on encountering lowercase, update the cnt with 0 and start counting the continuous uppercase run again. max_run  already has the count of this run stored.\n",
        "    #updating the value of max_run with cnt, if the current ‘cnt’ is greater than the previous ‘max_run’\n",
        "    else:\n",
        "        if cnt>=max_run:\n",
        "            max_run=cnt\n",
        "        cnt=0\n",
        "#for boundary cases - when there is a potential longest substring at the end of the string        \n",
        "if cnt>=max_run:\n",
        "    max_run=cnt\n",
        "    \n",
        "# printing result \n",
        "print(max_run)\n"
      ],
      "metadata": {
        "id": "uAHfAE4UujXe"
      },
      "execution_count": null,
      "outputs": []
    },
    {
      "cell_type": "code",
      "source": [
        "import ast \n",
        "string = input() \n",
        "count = 0 \n",
        "L = [] \n",
        "\n",
        "for i in string: \n",
        "  if i.isupper(): \n",
        "    count+=1 \n",
        "    L.append(count) \n",
        "  else: \n",
        "    count=0 \n",
        "    \n",
        "print(max(L))"
      ],
      "metadata": {
        "id": "pZmEZdtqupPi"
      },
      "execution_count": null,
      "outputs": []
    },
    {
      "cell_type": "markdown",
      "source": [
        "Sorting list of tuples\n",
        "----------------\n",
        "\n",
        "Description\n",
        "\n",
        "A class of students attempt an exam in two parts: ‘Aptitude’ and ‘Physics'. The marks of all the students are stored as a list of tuples, and each student’s marks (in Aptitude and Physics) are stored in each tuple. Your task is to write a Python program to sort the list of tuples in decreasing order of the Physics scores of the students.\n",
        "\n",
        "\n",
        "\n",
        "Note - Marks of both the subjects are ranged between 1-100, and no two students have scored the same marks in Physics.\n",
        "\n",
        "\n",
        "\n",
        "---------------------------------------------------------------------------------------------------\n",
        "\n",
        "Input - List of tuples\n",
        "\n",
        "Output - List of tuples\n",
        "\n",
        "\n",
        "\n",
        "---------------------------------------------------------------------------------------------------\n",
        "\n",
        "\n",
        "\n",
        "Sample Input - [(45,77), (88,87), (67,98), (33,31)]\n",
        "\n",
        "\n",
        "\n",
        "In (45,77), which is the first element in the list, 45 and 77 are the scores of a student in aptitude and physics respectively.\n",
        "\n",
        "\n",
        "\n",
        "Sample Output - [ (67,98), (88,87), (45,77),(33,31)]\n",
        "\n",
        "\n",
        "\n",
        "---------------------------------------------------------------------------------------------------\n",
        "\n",
        "\n",
        "\n",
        "Sample Input - [(45,23), (45,88), (45,98), (45,44)]\n",
        "\n",
        "\n",
        "\n",
        "Sample Output - [ (45,98), (45,88), (45,44),(45,23)]\n",
        "\n",
        "\n",
        "\n",
        "---------------------------------------------------------------------------------------------------\n",
        "\n",
        "\n",
        "\n",
        "Sample Input - [(55,77), (34,90), (67,100), (90,0)]\n",
        "\n",
        "\n",
        "\n",
        "Sample Output - [ (67,100), (34,90), (55,77),(90,0)]"
      ],
      "metadata": {
        "id": "zmcwY7NFuqKG"
      }
    },
    {
      "cell_type": "code",
      "source": [
        "import ast\n",
        "\n",
        "#Take input\n",
        "input_list = input()\n",
        "tup = ast.literal_eval(input_list)\n",
        "    \n",
        "# Function to sort the list by second item of tuple \n",
        "def sort(tuples): \n",
        "    return sorted(tuples, key=last , reverse=True) \n",
        "    \n",
        "# key is set to sort using second element of tuple  \n",
        "def last(n): \n",
        "    return n[-1]   \n",
        " \n",
        "# printing the sorted list of tuples \n",
        "print(sort(tup))\n"
      ],
      "metadata": {
        "id": "RJALo4Lzuw4c"
      },
      "execution_count": null,
      "outputs": []
    },
    {
      "cell_type": "code",
      "source": [
        "#Take input \n",
        "import ast\n",
        "inp = ast.literal_eval(input())\n",
        "\n",
        "#write your code here\n",
        "print(sorted(inp, key=lambda inp: inp[1], reverse=True))"
      ],
      "metadata": {
        "id": "ZlzoCeaNuz-P"
      },
      "execution_count": null,
      "outputs": []
    },
    {
      "cell_type": "markdown",
      "source": [
        "Divisibility check\n",
        "--------------\n",
        "\n",
        "Description\n",
        "\n",
        "Given an integer ‘n’, your task is to write a Python code to find whether ‘n’ is divisible by all its digits or not. If they divide the number, then the number ‘n’ is a happy number. Otherwise, it is a sad number.\n",
        "\n",
        "The number ‘n’ may be provided with commas. At first, you have to clean the number (by removing the commas involved) and then check whether the number is happy or sad.\n",
        "\n",
        "\n",
        "---------------------------------------------------------------------------------------------------\n",
        "\n",
        "\n",
        "\n",
        "Input - String\n",
        "\n",
        "Output - String\n",
        "\n",
        "\n",
        "\n",
        "---------------------------------------------------------------------------------------------------\n",
        "\n",
        "Sample Input - 2,128\n",
        "\n",
        "Sample Output - Happy Number\n",
        "\n",
        "\n",
        "\n",
        "---------------------------------------------------------------------------------------------------\n",
        "\n",
        "\n",
        "\n",
        "Sample Input - 256\n",
        "\n",
        "Sample Output - Sad Number\n",
        "\n",
        "\n",
        "\n",
        "---------------------------------------------------------------------------------------------------\n",
        "\n",
        "\n",
        "\n",
        "Sample Input - 1124\n",
        "\n",
        "Sample Output - Happy Number\n",
        "\n",
        "\n",
        "\n",
        "---------------------------------------------------------------------------------------------------\n",
        "\n",
        "Execution Time Limit\n",
        "10 seconds"
      ],
      "metadata": {
        "id": "PIbjMAwtu0oX"
      }
    },
    {
      "cell_type": "code",
      "source": [
        "# reading input\n",
        "test_str = input()\n",
        "\n",
        "#replace special characters in number, here it is comma (,)\n",
        "cleaned_test_str = test_str.replace(\",\",\"\")\n",
        "\n",
        "#convert to integer\n",
        "n = int(cleaned_test_str)\n",
        "\n",
        "# Function to check if all digits of n divide it or not\n",
        "def allDigitsDivide(n):\n",
        "    temp = n\n",
        "    while (temp > 0):\n",
        "        # Taking the digit of the number into a digit variable.\n",
        "        digit = temp % 10\n",
        "\n",
        "         #check if the digit is non-zero as any number dividing zero is invalid\n",
        "         #also check if it gives a remainder of zero when it divides n\n",
        "        if not(digit != 0 and n % digit == 0):\n",
        "\t        return False\n",
        "        temp = temp // 10\n",
        "    \n",
        "    #If the function did not return anything until the while loop is over, \n",
        "    #it means that the number was divisible by all of its digits.\n",
        "    return True\n",
        "    \n",
        "#call the allDigitsDivide function\n",
        "if (allDigitsDivide(n)):\n",
        "    print(\"Happy Number\")\n",
        "else:\n",
        "    print(\"Sad Number\" )\n"
      ],
      "metadata": {
        "id": "5DFAwAagu9F5"
      },
      "execution_count": null,
      "outputs": []
    },
    {
      "cell_type": "code",
      "source": [
        "# Take input as a string\n",
        "inp = input()\n",
        "\n",
        "# write your code here\n",
        "x = n = int(''.join(inp.split(',')))\n",
        "f=0\n",
        "\n",
        "while x:\n",
        "  r = x%10\n",
        "  if n%r:\n",
        "    f=1\n",
        "    break\n",
        "  x //= 10\n",
        "\n",
        "if f==0:\n",
        "  print('Happy Number')\n",
        "else:\n",
        "  print('Sad Number')\n",
        "  "
      ],
      "metadata": {
        "id": "Nz8MOtnivAOA"
      },
      "execution_count": null,
      "outputs": []
    },
    {
      "cell_type": "markdown",
      "source": [
        "Updating the dictionary keys\n",
        "--------------------\n",
        "\n",
        "Description\n",
        "\n",
        "You are provided with a dictionary containing the names of different football clubs as keys and the name of the main player of the corresponding team as values. When the main player of a team retires, one of their teammates steps up to fill in their role as the main player.\n",
        "\n",
        "\n",
        "You’re also provided with a list which contains the names of the football clubs for which the current main players are retiring and the names of the corresponding new main player. Your task is to update the values in the original dictionary with the names of the new main players.\n",
        "\n",
        "\n",
        "\n",
        "------------------------------------------------------------------------------------------------------\n",
        "\n",
        "\n",
        "\n",
        "Input - The input consists of a dictionary with different football clubs' names and their main player. In the next line, you will be provided with a list of the new players who have taken up the main roles.\n",
        "\n",
        "\n",
        "\n",
        "Output - Dictionary\n",
        "\n",
        "\n",
        "\n",
        "---------------------------------------------------------------------------------------------------\n",
        "\n",
        "\n",
        "\n",
        "Sample Input :\n",
        "\n",
        "{Barcelona:’Messi’ , ‘Real Madrid’: ‘Benzema’, ‘PSG’: ‘Neymar’ }\n",
        "\n",
        "[[‘Barcelona’, ‘Griezmann’], [‘PSG’, ‘Ramos’]]\n",
        "\n",
        "\n",
        "\n",
        "Sample Output: {Barcelona:‘Griezmann’, ‘Real Madrid’: ‘Benzema’, ‘PSG’: ‘Ramos’}\n",
        "\n",
        "\n",
        "\n",
        "---------------------------------------------------------------------------------------------------\n",
        "\n",
        "\n",
        "\n",
        "Sample Input:\n",
        "\n",
        "{Liverpool:’A’, ‘Real Madrid’: ‘B’, ‘Chelsea’: ‘C’ }\n",
        "\n",
        "[[Liverpool, ‘R’]]\n",
        "\n",
        "\n",
        "\n",
        "Sample Output: {Liverpool:’R’, ‘Real Madrid’: ‘B’, ‘Chelsea’: ‘C’ }\n",
        "\n",
        "\n",
        "\n",
        "\n",
        "\n",
        "---------------------------------------------------------------------------------------------------\n",
        "\n",
        "\n",
        "\n",
        "Sample Input :\n",
        "\n",
        " {Atletico Madrid : ’D’ , ‘Juventus’: ‘B’, ‘Chelsea’: ‘C’ }\n",
        "\n",
        "[[‘Juventus’, ‘G’], [‘Chelsea’, ‘H’]]\n",
        "\n",
        "\n",
        "\n",
        "Sample Output: {Atletico Madrid : ’D’, ‘Juventus’: ‘G’, ‘Chelsea’: ‘H’ }"
      ],
      "metadata": {
        "id": "KqZmIm1FvCRc"
      }
    },
    {
      "cell_type": "code",
      "source": [
        "import ast\n",
        "#reading the input dictionary\n",
        "input_dict = ast.literal_eval(input())\n",
        "\n",
        "#reading the input list\n",
        "input_list = ast.literal_eval(input())\n",
        "\n",
        "#Function to update the keys of the dictionary\n",
        "def check(d,l):\n",
        "    #loop through each key-value pair in the dictionary\n",
        "    for key in d.keys():\n",
        "        # loop through the list\n",
        "        for ele in l:\n",
        "            #check if any element of the sub list matches the key\n",
        "            if ele[0]==key:\n",
        "                #update the value\n",
        "                d[key] = ele[1] \n",
        "            else: \n",
        "                pass\n",
        "    return d\n",
        "\n",
        "#calling the function\n",
        "transformed_dictionary = check(input_dict, input_list)\n",
        "#print the result\n",
        "print(transformed_dictionary)\n"
      ],
      "metadata": {
        "id": "nzSHE569vSU3"
      },
      "execution_count": null,
      "outputs": []
    },
    {
      "cell_type": "code",
      "source": [
        "#Take input here\n",
        "#we will take input using ast sys\n",
        "import ast\n",
        "#reading the input dictionary\n",
        "input_dictionary = input()\n",
        "convert_dictionary = ast.literal_eval(input_dictionary)\n",
        "\n",
        "#reading the input list\n",
        "input_list = input()\n",
        "convert_list = ast.literal_eval(input_list)\n",
        "\n",
        "#Write code here\n",
        "for i in convert_list:\n",
        "  convert_dictionary[i[0]] = i[1]\n",
        "  \n",
        "print(convert_dictionary)"
      ],
      "metadata": {
        "id": "9W0LKYfhvVMg"
      },
      "execution_count": null,
      "outputs": []
    },
    {
      "cell_type": "markdown",
      "source": [
        "List average\n",
        "--------------\n",
        "\n",
        "Description\n",
        "\n",
        "Suppose you are working as a Marketing Lead in a company and you want to recruit new employees in your team (which already consists of 10 members) to carry out the company’s major project. You select the employees based on five parameters: A, B, C, D and E. The value of each parameter is represented on a scale of 1 to 10. The present average value of these parameters for your team is given to you in a list (in the same order). You recruit a person only if their scores do not reduce the average score of more than two parameters of your team. If they are recruited, print the output as ‘Selected’. If not, print the output as ‘Rejected’.\n",
        "\n",
        "\n",
        "\n",
        "--------------------------------------------------------------------------------------------------\n",
        "\n",
        "\n",
        "\n",
        "Input - Two lists, where the first list is the average scores of the team in the five parameters, and the second list is the scores of the new employee in all the five parameters. The parameter order is the same for both the lists, which is A, B, C, D and E.\n",
        "\n",
        "\n",
        "\n",
        "Output - String\n",
        "\n",
        "\n",
        "\n",
        "--------------------------------------------------------------------------------------------------\n",
        "\n",
        "\n",
        "\n",
        "Sample Input - [‘8’, ‘4’, ‘6’, ‘9’, ‘7’]\n",
        "\n",
        "  [‘1’, ‘1.1’, ‘1.2’, ‘1.2’, ‘2.3’]\n",
        "\n",
        "\n",
        "\n",
        "\n",
        "Sample Output - Rejected\n",
        "\n",
        "\n",
        "\n",
        "--------------------------------------------------------------------------------------------------\n",
        "\n",
        "\n",
        "\n",
        "Sample Input - [‘10’, ‘5’, ‘6’, ‘9’, ‘7’]\n",
        "\n",
        "  [‘10’, ‘ 9.8’, ‘7.2’, ‘1.66’, ‘4.3’]\n",
        "\n",
        "\n",
        "\n",
        "\n",
        "Sample Output - Selected\n",
        "\n",
        "\n",
        "\n",
        "--------------------------------------------------------------------------------------------------\n",
        "\n",
        "\n",
        "\n",
        "Sample Input - [‘8’, ‘5.66’, ‘6.5’, ‘10’, ‘10’]\n",
        "\n",
        "  [‘7’, ‘ 10’, ‘6’, ‘7’, ‘9’]\n",
        "\n",
        "\n",
        "\n",
        "\n",
        "Sample Output - Rejected"
      ],
      "metadata": {
        "id": "abMq9LTKvWoa"
      }
    },
    {
      "cell_type": "code",
      "source": [
        "import ast\n",
        "#taking the input from user which is the scores of the team\n",
        "input_list = input()\n",
        "team_list = ast.literal_eval(input_list)\n",
        "\n",
        "#taking the input from user which is the scores of the new employee\n",
        "input_list = input()\n",
        "new_member_list = ast.literal_eval(input_list)\n",
        "\n",
        "def check(team_list, new_member_list):\n",
        "    total = 0\n",
        "    #loop through every element of the list\n",
        "    for i in range (0, len(team_list)):\n",
        "        #calculate the average score after adding the new member score\n",
        "        #the 10 denotes the number of employees already existing\n",
        "        # after adding the new employee it becomes 11\n",
        "        average = (float(team_list[i])*10+float(new_member_list[i]))/11\n",
        "        #check if average is improved or not\n",
        "        if average>=float(team_list[i]):\n",
        "            #keep a count on the number of parameters\n",
        "            total+=1\n",
        "            \n",
        "    if total>=3:       \n",
        "        return \"Selected\"    \n",
        "    else:\n",
        "        return \"Rejected\"\n",
        "#calling the function\n",
        "validity = check(team_list, new_member_list)\n",
        "#print the result\n",
        "print(validity)"
      ],
      "metadata": {
        "id": "uDuQHJ32veV7"
      },
      "execution_count": null,
      "outputs": []
    },
    {
      "cell_type": "code",
      "source": [
        "import ast\n",
        "employee_list = ast.literal_eval(input())\n",
        "recruter_list = ast.literal_eval(input())\n",
        "\n",
        "count = 0\n",
        "for employee,recruter in zip(employee_list,recruter_list):\n",
        "    if float(recruter) > float(employee):\n",
        "        count += 1 \n",
        "\n",
        "if count >= 2:\n",
        "    print('Selected')\n",
        "else:\n",
        "    print(\"Rejected\")"
      ],
      "metadata": {
        "id": "IYFnXj45vjBa"
      },
      "execution_count": null,
      "outputs": []
    },
    {
      "cell_type": "markdown",
      "source": [
        "Merge dictionaries\n",
        "------------\n",
        "\n",
        "Description\n",
        "\n",
        "Write a python code to merge two dictionaries into a single dictionary.\n",
        "\n",
        "\n",
        "\n",
        "--------------------------------------------------------------------------------------------------\n",
        "\n",
        "\n",
        "\n",
        "Input: Two dictionaries, one in each line\n",
        "\n",
        "\n",
        "\n",
        "Output: A Dictionary\n",
        "\n",
        "\n",
        "\n",
        "--------------------------------------------------------------------------------------------------\n",
        "\n",
        "\n",
        "\n",
        "Sample Input :\n",
        "\n",
        "{'a': 10, 'b': 8}\n",
        "\n",
        "{'d': 6, 'c': 4}\n",
        "\n",
        "\n",
        "\n",
        "Sample Output : {'c': 4, 'a': 10, 'b': 8, 'd': 6}\n",
        "\n",
        "\n",
        "\n",
        "--------------------------------------------------------------------------------------------------\n",
        "\n",
        "\n",
        "\n",
        "Sample Input :\n",
        "\n",
        "{'a': 110, 'b': 88}\n",
        "\n",
        "{'d': 62, 'c': 44}\n",
        "\n",
        "\n",
        "\n",
        "Sample Output : {'a': 110, 'b': 88, 'd': 62, 'c': 44}\n",
        "\n",
        "\n",
        "\n",
        "--------------------------------------------------------------------------------------------------\n",
        "\n",
        "Execution Time Limit\n",
        "10 seconds"
      ],
      "metadata": {
        "id": "SbimYpRKvkmH"
      }
    },
    {
      "cell_type": "code",
      "source": [
        "import ast\n",
        "\n",
        "#taking the input from user\n",
        "input_dict1 = input()\n",
        "dict1= ast.literal_eval(input_dict1)\n",
        "input_dict2 = input()\n",
        "dict2= ast.literal_eval(input_dict2)\n",
        "\n",
        "#updating dict1 with dict2\n",
        "dict1.update(dict2)\n",
        "print(dict1)\n",
        "\n"
      ],
      "metadata": {
        "id": "olbPtn7VvtO4"
      },
      "execution_count": null,
      "outputs": []
    },
    {
      "cell_type": "code",
      "source": [
        "import ast\n",
        "\n",
        "dict1 = ast.literal_eval(input())\n",
        "dict2 = ast.literal_eval(input())\n",
        "\n",
        "dict1.update(dict2)\n",
        "print(dict1)"
      ],
      "metadata": {
        "id": "Ck3lTgMCvwHb"
      },
      "execution_count": null,
      "outputs": []
    },
    {
      "cell_type": "markdown",
      "source": [
        "# end"
      ],
      "metadata": {
        "id": "9GTYceO_vxPu"
      }
    },
    {
      "cell_type": "code",
      "source": [],
      "metadata": {
        "id": "0ZRIXkfkv10_"
      },
      "execution_count": null,
      "outputs": []
    }
  ]
}