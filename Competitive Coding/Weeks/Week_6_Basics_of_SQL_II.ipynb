{
  "cells": [
    {
      "cell_type": "markdown",
      "metadata": {
        "id": "tzVz-FQDy4J4"
      },
      "source": [
        "# SQL Statements and Operators\n",
        "\n",
        "---------"
      ]
    },
    {
      "cell_type": "markdown",
      "metadata": {
        "id": "6vktS4URwUif"
      },
      "source": [
        "Pattern Matching\n",
        "-----------\n",
        "\n",
        "What would be the output of the following query: 'select * from employee where first_name like \"%ee%\";'?\n",
        "\n",
        "---------------\n",
        "\n",
        "Answer:\n",
        "------------\n",
        "\n",
        "It will display the details of all the employees whose name contains ‘ee’.\n",
        "\n",
        "--------------\n",
        "\n",
        "Feedback:\n",
        "--------------\n",
        "\n",
        "The % character can replace any number of preceding and trailing characters.\n",
        "\n",
        "----------------"
      ]
    },
    {
      "cell_type": "markdown",
      "metadata": {
        "id": "Xc2fxj6ywnka"
      },
      "source": [
        "Reading the Documentation\n",
        "------------\n",
        "\n",
        "Refer to the MySQL documentation online and answer the following question:\n",
        "\n",
        "Which of the following wildcards are supported in SQL?\n",
        "\n",
        "-------------------\n",
        "\n",
        "Both % and _ (underscore)\n",
        "\n",
        "----------\n",
        "\n",
        "% is a multi-character wildcard, whereas _ is a single-character wildcard. For example, using \"_r%\" would return the words with the second character as r, followed by zero or more characters at the end.\n",
        "\n",
        "-----------------"
      ]
    },
    {
      "cell_type": "markdown",
      "metadata": {
        "id": "rMTHjhq3w2A_"
      },
      "source": [
        "Operators\n",
        "----------\n",
        "\n",
        "With SQL, how do you select all the records from a table named ‘employees’ where the ‘LastName’ is alphabetically between (and includes) ‘Joshi’ and ‘Sharma’?\n",
        "\n",
        "----------------\n",
        "\n",
        "select * from employees where LastName between ‘Joshi’ and ‘Sharma’;\n",
        "\n",
        "-----------------\n",
        "\n",
        "This query will return employees who have Joshi and Sharma as surnames, along with all the surnames that are in-between alphabetically.\n",
        "\n",
        "----------------"
      ]
    },
    {
      "cell_type": "markdown",
      "metadata": {
        "id": "3m0ocQS3xtJc"
      },
      "source": [
        "Operators\n",
        "--------\n",
        "\n",
        "Which of the queries given below would return the same output? \n",
        "\n",
        "More than one option may be correct.\n",
        "\n",
        "-----------------\n",
        "\n",
        "select * from employees where EmpID in (2,3,4, 5);\n",
        "\n",
        "select * from employees where EmpID between 2 and 5;\n",
        "\n",
        "select * from employees where EmpID >= 2 and EmpID <= 5;\n",
        "\n",
        "--------------\n",
        "\n",
        "Feedback:\n",
        "\n",
        "This query will return the details of the employees with employee ids 2, 3, 4 and 5.\n",
        "\n",
        "-------------------"
      ]
    },
    {
      "cell_type": "markdown",
      "metadata": {
        "id": "Q8CZlJQCx-r0"
      },
      "source": [
        "Basic Select\n",
        "------------\n",
        "\n",
        "Description\n",
        "\n",
        "Consider the following table employees containing the following columns:\n",
        "\n",
        "Employees\n",
        "\n",
        "![](https://media-doselect.s3.amazonaws.com/generic/OqNgkRAgJpJMpzxNJZMXNdYXR/Employee_Table.PNG)\n",
        "\n",
        "Write a query to determine the first names of all employees.\n",
        "\n",
        "----------------------\n",
        "\n",
        "Query\n",
        "--------\n",
        "\n",
        "    use upgrad;\n",
        "\n",
        "    # Write your code below\n",
        "    select firstname from Employees;"
      ]
    }
  ],
  "metadata": {
    "colab": {
      "provenance": []
    },
    "kernelspec": {
      "display_name": "Python 3",
      "name": "python3"
    },
    "language_info": {
      "name": "python"
    }
  },
  "nbformat": 4,
  "nbformat_minor": 0
}
