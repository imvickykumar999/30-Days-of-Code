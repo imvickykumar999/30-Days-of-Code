{
  "nbformat": 4,
  "nbformat_minor": 0,
  "metadata": {
    "colab": {
      "provenance": []
    },
    "kernelspec": {
      "name": "python3",
      "display_name": "Python 3"
    },
    "language_info": {
      "name": "python"
    }
  },
  "cells": [
    {
      "cell_type": "markdown",
      "source": [
        "# Pandas with Rajan Chettri\n",
        "\n",
        "------------\n",
        "\n",
        "### Code:\n",
        "\n",
        "https://docs.google.com/document/d/1EfzK5CwibnIG2Ns6gnXqJa_GD1WDet-dF6zkmsD0AoQ/edit\n",
        "\n",
        "-----------\n",
        "\n",
        "### Dataset:\n",
        "\n",
        "https://drive.google.com/file/d/1dia6j0I2aNg7m-CtmBwCID9f8HLKNSnp/view\n",
        "\n",
        "----------------"
      ],
      "metadata": {
        "id": "tQAkzBoSPqZs"
      }
    },
    {
      "cell_type": "markdown",
      "source": [
        "Loading a csv in Pandas\n",
        "----------\n",
        "\n",
        "Description\n",
        "\n",
        "Create a dataframe from the file ‘marks.csv’ and print the contents of the dataframe. Open the file from the link above and inspect the required elements in the file (header, separator, etc.). If the top row is a regular entry, do not load it as the column header.\n",
        "\n",
        "-----------------\n",
        "\n",
        "Execution Time Limit\n",
        "15 seconds"
      ],
      "metadata": {
        "id": "bxGcUBbrNUXi"
      }
    },
    {
      "cell_type": "code",
      "source": [
        "import numpy as np\n",
        "import pandas as pd\n",
        "\n",
        "# The file is stored at: 'https://media-doselect.s3.amazonaws.com/generic/A08MajL8qN4rq72EpVJbAP1Rw/marks_1.csv'\n",
        "# Provide your answer below\n",
        "df = pd.read_csv('https://media-doselect.s3.amazonaws.com/generic/A08MajL8qN4rq72EpVJbAP1Rw/marks_1.csv', header = None, sep = '|')\n",
        "\n",
        "print(df)"
      ],
      "metadata": {
        "colab": {
          "base_uri": "https://localhost:8080/"
        },
        "id": "p1U1RJXdTanC",
        "outputId": "97c3193f-f0cc-4661-9259-d4a74242d0aa"
      },
      "execution_count": null,
      "outputs": [
        {
          "output_type": "stream",
          "name": "stdout",
          "text": [
            "     0        1            2   3   4   5\n",
            "0    1   Akshay  Mathematics  50  40  80\n",
            "1    2   Mahima      English  40  33  83\n",
            "2    3    Vikas  Mathematics  50  42  84\n",
            "3    4  Abhinav      English  40  31  78\n",
            "4    5   Mahima      Science  50  40  80\n",
            "5    6   Akshay      Science  50  49  98\n",
            "6    7  Abhinav  Mathematics  50  47  94\n",
            "7    8    Vikas      Science  50  40  80\n",
            "8    9  Abhinav      Science  50  47  94\n",
            "9   10    Vikas      English  40  39  98\n",
            "10  11   Akshay      English  40  35  88\n",
            "11  12   Mahima  Mathematics  50  43  86\n"
          ]
        }
      ]
    },
    {
      "cell_type": "code",
      "execution_count": null,
      "metadata": {
        "id": "tdr52u_TNE8O",
        "colab": {
          "base_uri": "https://localhost:8080/"
        },
        "outputId": "19339104-f60f-4600-8ea8-8f8a33f20a2a"
      },
      "outputs": [
        {
          "output_type": "stream",
          "name": "stdout",
          "text": [
            "     0        1            2   3   4   5\n",
            "0    1   Akshay  Mathematics  50  40  80\n",
            "1    2   Mahima      English  40  33  83\n",
            "2    3    Vikas  Mathematics  50  42  84\n",
            "3    4  Abhinav      English  40  31  78\n",
            "4    5   Mahima      Science  50  40  80\n",
            "5    6   Akshay      Science  50  49  98\n",
            "6    7  Abhinav  Mathematics  50  47  94\n",
            "7    8    Vikas      Science  50  40  80\n",
            "8    9  Abhinav      Science  50  47  94\n",
            "9   10    Vikas      English  40  39  98\n",
            "10  11   Akshay      English  40  35  88\n",
            "11  12   Mahima  Mathematics  50  43  86\n"
          ]
        }
      ],
      "source": [
        "import numpy as np\n",
        "import pandas as pd\n",
        "\n",
        "# The file is stored at the following path:\n",
        "# url = 'https://media-doselect.s3.amazonaws.com/generic/A08MajL8qN4rq72EpVJbAP1Rw/marks_1.csv'\n",
        "url = 'marks_1.csv'\n",
        "\n",
        "# Provide your answer below\n",
        "df = pd.read_csv(url, delimiter='|', header=None)\n",
        "\n",
        "print(df)"
      ]
    },
    {
      "cell_type": "markdown",
      "source": [
        "Loading a csv with index\n",
        "--------\n",
        "\n",
        "Description\n",
        "\n",
        "Using the file ‘marks.csv’, create a dataframe as shown below.\n",
        "\n",
        "------------\n",
        "\n",
        "![ss](https://media-doselect.s3.amazonaws.com/generic/0rjOooeKe4RQwnebLP8pzOaPV/01.%20Coding%20Question.PNG)\n",
        "\n",
        "------------------\n",
        "\n",
        "`You must be able make the first column of the file as the index and name it 'S.No.'. Also, the columns must be renamed as shown in the image.`"
      ],
      "metadata": {
        "id": "FkHgsao2V8qB"
      }
    },
    {
      "cell_type": "code",
      "source": [
        "import numpy as np\n",
        "import pandas as pd\n",
        "\n",
        "# The file is stored at: 'https://media-doselect.s3.amazonaws.com/generic/A08MajL8qN4rq72EpVJbAP1Rw/marks_1.csv'\n",
        "# Provide your answer below\n",
        "df = pd.read_csv('https://media-doselect.s3.amazonaws.com/generic/A08MajL8qN4rq72EpVJbAP1Rw/marks_1.csv', header = None, sep = '|', index_col = 0)\n",
        "df.columns = ['Name', 'Subject', 'Maximum Marks', 'Marks Obtained', 'Percentage']\n",
        "df.index.name = 'S.No.'\n",
        "\n",
        "print(df)"
      ],
      "metadata": {
        "colab": {
          "base_uri": "https://localhost:8080/"
        },
        "id": "Zi4NRQUmaKRu",
        "outputId": "6d87581e-d1e6-43a6-c29a-b518f04845e2"
      },
      "execution_count": null,
      "outputs": [
        {
          "output_type": "stream",
          "name": "stdout",
          "text": [
            "          Name      Subject  Maximum Marks  Marks Obtained  Percentage\n",
            "S.No.                                                                 \n",
            "1       Akshay  Mathematics             50              40          80\n",
            "2       Mahima      English             40              33          83\n",
            "3        Vikas  Mathematics             50              42          84\n",
            "4      Abhinav      English             40              31          78\n",
            "5       Mahima      Science             50              40          80\n",
            "6       Akshay      Science             50              49          98\n",
            "7      Abhinav  Mathematics             50              47          94\n",
            "8        Vikas      Science             50              40          80\n",
            "9      Abhinav      Science             50              47          94\n",
            "10       Vikas      English             40              39          98\n",
            "11      Akshay      English             40              35          88\n",
            "12      Mahima  Mathematics             50              43          86\n"
          ]
        }
      ]
    },
    {
      "cell_type": "code",
      "source": [
        "import numpy as np\n",
        "import pandas as pd\n",
        "\n",
        "# The file is stored at the following path:\n",
        "url = 'https://media-doselect.s3.amazonaws.com/generic/A08MajL8qN4rq72EpVJbAP1Rw/marks_1.csv'\n",
        "\n",
        "# Provide your answer below\n",
        "lst = ['Name', 'Subject', 'Maximum Marks', \n",
        "       'Marks Obtained', 'Percentage']\n",
        "\n",
        "df = pd.read_csv(url, \n",
        "                 sep='|', \n",
        "                 index_col=0,\n",
        "                 header=None,\n",
        "                 )\n",
        "\n",
        "df.index.name = 'S.No.'\n",
        "df.columns = lst\n",
        "\n",
        "print(df)"
      ],
      "metadata": {
        "id": "qoqJTPN5NW3r",
        "colab": {
          "base_uri": "https://localhost:8080/"
        },
        "outputId": "a9e01292-ab3d-42ca-988e-6bc6b5db648d"
      },
      "execution_count": null,
      "outputs": [
        {
          "output_type": "stream",
          "name": "stdout",
          "text": [
            "          Name      Subject  Maximum Marks  Marks Obtained  Percentage\n",
            "S.No.                                                                 \n",
            "1       Akshay  Mathematics             50              40          80\n",
            "2       Mahima      English             40              33          83\n",
            "3        Vikas  Mathematics             50              42          84\n",
            "4      Abhinav      English             40              31          78\n",
            "5       Mahima      Science             50              40          80\n",
            "6       Akshay      Science             50              49          98\n",
            "7      Abhinav  Mathematics             50              47          94\n",
            "8        Vikas      Science             50              40          80\n",
            "9      Abhinav      Science             50              47          94\n",
            "10       Vikas      English             40              39          98\n",
            "11      Akshay      English             40              35          88\n",
            "12      Mahima  Mathematics             50              43          86\n"
          ]
        }
      ]
    },
    {
      "cell_type": "markdown",
      "source": [
        "Describing Data\n",
        "----------------\n",
        "\n",
        "`In the previous segment, you learnt how to load data into a dataframe and manipulate the indices and headers to represent the data in a meaningful manner. Let's first load the data that will be used in the demonstrations in this segment. You can use the Jupyter Notebook provided below to code along with the instructor.`"
      ],
      "metadata": {
        "id": "ILpMLjEsaYhE"
      }
    },
    {
      "cell_type": "markdown",
      "source": [
        "Hierarchical Indexing\n",
        "---------\n",
        "\n",
        "Description\n",
        "\n",
        "You are provided with the dataset of a company which has offices across three cities - Mumbai, Bangalore and New Delhi. The dataset contains the rating (out of 5) of all the employees from different departments (Finance, HR, Marketing and Sales). \n",
        "\n",
        "-----------------\n",
        "\n",
        "Create a hierarchical index based on two columns: Office and Department\n",
        "\n",
        "-------------\n",
        "\n",
        "Print the first 5 rows as the output. Refer to the image below for your reference.\n",
        "\n",
        "![ss](https://media-doselect.s3.amazonaws.com/generic/g7aveJBgGJKbypd7pz97GMgXR/04.%20Hierarchical%20Indexing.PNG)\n",
        "\n",
        "--------------------\n",
        "\n",
        "Note: You should not sort or modify values in other columns of the dataframe. Use sort_index(inplace=True) to club the same locations together."
      ],
      "metadata": {
        "id": "Ym4LUwjHNaji"
      }
    },
    {
      "cell_type": "code",
      "source": [
        "import numpy as np\n",
        "import pandas as pd\n",
        "\n",
        "# The file is stored at the following path:\n",
        "url = 'https://media-doselect.s3.amazonaws.com/generic/NMgEjwkAEGGQZBoNYGr9Ld7w0/rating.csv'\n",
        "df = pd.read_csv(url, index_col = [2,1])\n",
        "\n",
        "# Provide your answer below\n",
        "df.sort_index(inplace=True)\n",
        "\n",
        "print(df.head())\n",
        "# df.head()"
      ],
      "metadata": {
        "colab": {
          "base_uri": "https://localhost:8080/",
          "height": 213
        },
        "id": "AiX_zzm3NQPQ",
        "outputId": "06720952-2093-408f-caf7-2d373a31799a"
      },
      "execution_count": null,
      "outputs": [
        {
          "output_type": "execute_result",
          "data": {
            "text/plain": [
              "                         ID  Rating\n",
              "Office    Department               \n",
              "Bangalore Finance     U2F53     2.7\n",
              "          Finance     U1F53     3.7\n",
              "          Finance     U1F28     3.2\n",
              "          Finance     U1F15     3.3\n",
              "          Finance     U1F14     2.9"
            ],
            "text/html": [
              "\n",
              "  <div id=\"df-2d9d79ea-efd4-4e99-97e8-32e4393a775c\">\n",
              "    <div class=\"colab-df-container\">\n",
              "      <div>\n",
              "<style scoped>\n",
              "    .dataframe tbody tr th:only-of-type {\n",
              "        vertical-align: middle;\n",
              "    }\n",
              "\n",
              "    .dataframe tbody tr th {\n",
              "        vertical-align: top;\n",
              "    }\n",
              "\n",
              "    .dataframe thead th {\n",
              "        text-align: right;\n",
              "    }\n",
              "</style>\n",
              "<table border=\"1\" class=\"dataframe\">\n",
              "  <thead>\n",
              "    <tr style=\"text-align: right;\">\n",
              "      <th></th>\n",
              "      <th></th>\n",
              "      <th>ID</th>\n",
              "      <th>Rating</th>\n",
              "    </tr>\n",
              "    <tr>\n",
              "      <th>Office</th>\n",
              "      <th>Department</th>\n",
              "      <th></th>\n",
              "      <th></th>\n",
              "    </tr>\n",
              "  </thead>\n",
              "  <tbody>\n",
              "    <tr>\n",
              "      <th rowspan=\"5\" valign=\"top\">Bangalore</th>\n",
              "      <th>Finance</th>\n",
              "      <td>U2F53</td>\n",
              "      <td>2.7</td>\n",
              "    </tr>\n",
              "    <tr>\n",
              "      <th>Finance</th>\n",
              "      <td>U1F53</td>\n",
              "      <td>3.7</td>\n",
              "    </tr>\n",
              "    <tr>\n",
              "      <th>Finance</th>\n",
              "      <td>U1F28</td>\n",
              "      <td>3.2</td>\n",
              "    </tr>\n",
              "    <tr>\n",
              "      <th>Finance</th>\n",
              "      <td>U1F15</td>\n",
              "      <td>3.3</td>\n",
              "    </tr>\n",
              "    <tr>\n",
              "      <th>Finance</th>\n",
              "      <td>U1F14</td>\n",
              "      <td>2.9</td>\n",
              "    </tr>\n",
              "  </tbody>\n",
              "</table>\n",
              "</div>\n",
              "      <button class=\"colab-df-convert\" onclick=\"convertToInteractive('df-2d9d79ea-efd4-4e99-97e8-32e4393a775c')\"\n",
              "              title=\"Convert this dataframe to an interactive table.\"\n",
              "              style=\"display:none;\">\n",
              "        \n",
              "  <svg xmlns=\"http://www.w3.org/2000/svg\" height=\"24px\"viewBox=\"0 0 24 24\"\n",
              "       width=\"24px\">\n",
              "    <path d=\"M0 0h24v24H0V0z\" fill=\"none\"/>\n",
              "    <path d=\"M18.56 5.44l.94 2.06.94-2.06 2.06-.94-2.06-.94-.94-2.06-.94 2.06-2.06.94zm-11 1L8.5 8.5l.94-2.06 2.06-.94-2.06-.94L8.5 2.5l-.94 2.06-2.06.94zm10 10l.94 2.06.94-2.06 2.06-.94-2.06-.94-.94-2.06-.94 2.06-2.06.94z\"/><path d=\"M17.41 7.96l-1.37-1.37c-.4-.4-.92-.59-1.43-.59-.52 0-1.04.2-1.43.59L10.3 9.45l-7.72 7.72c-.78.78-.78 2.05 0 2.83L4 21.41c.39.39.9.59 1.41.59.51 0 1.02-.2 1.41-.59l7.78-7.78 2.81-2.81c.8-.78.8-2.07 0-2.86zM5.41 20L4 18.59l7.72-7.72 1.47 1.35L5.41 20z\"/>\n",
              "  </svg>\n",
              "      </button>\n",
              "      \n",
              "  <style>\n",
              "    .colab-df-container {\n",
              "      display:flex;\n",
              "      flex-wrap:wrap;\n",
              "      gap: 12px;\n",
              "    }\n",
              "\n",
              "    .colab-df-convert {\n",
              "      background-color: #E8F0FE;\n",
              "      border: none;\n",
              "      border-radius: 50%;\n",
              "      cursor: pointer;\n",
              "      display: none;\n",
              "      fill: #1967D2;\n",
              "      height: 32px;\n",
              "      padding: 0 0 0 0;\n",
              "      width: 32px;\n",
              "    }\n",
              "\n",
              "    .colab-df-convert:hover {\n",
              "      background-color: #E2EBFA;\n",
              "      box-shadow: 0px 1px 2px rgba(60, 64, 67, 0.3), 0px 1px 3px 1px rgba(60, 64, 67, 0.15);\n",
              "      fill: #174EA6;\n",
              "    }\n",
              "\n",
              "    [theme=dark] .colab-df-convert {\n",
              "      background-color: #3B4455;\n",
              "      fill: #D2E3FC;\n",
              "    }\n",
              "\n",
              "    [theme=dark] .colab-df-convert:hover {\n",
              "      background-color: #434B5C;\n",
              "      box-shadow: 0px 1px 3px 1px rgba(0, 0, 0, 0.15);\n",
              "      filter: drop-shadow(0px 1px 2px rgba(0, 0, 0, 0.3));\n",
              "      fill: #FFFFFF;\n",
              "    }\n",
              "  </style>\n",
              "\n",
              "      <script>\n",
              "        const buttonEl =\n",
              "          document.querySelector('#df-2d9d79ea-efd4-4e99-97e8-32e4393a775c button.colab-df-convert');\n",
              "        buttonEl.style.display =\n",
              "          google.colab.kernel.accessAllowed ? 'block' : 'none';\n",
              "\n",
              "        async function convertToInteractive(key) {\n",
              "          const element = document.querySelector('#df-2d9d79ea-efd4-4e99-97e8-32e4393a775c');\n",
              "          const dataTable =\n",
              "            await google.colab.kernel.invokeFunction('convertToInteractive',\n",
              "                                                     [key], {});\n",
              "          if (!dataTable) return;\n",
              "\n",
              "          const docLinkHtml = 'Like what you see? Visit the ' +\n",
              "            '<a target=\"_blank\" href=https://colab.research.google.com/notebooks/data_table.ipynb>data table notebook</a>'\n",
              "            + ' to learn more about interactive tables.';\n",
              "          element.innerHTML = '';\n",
              "          dataTable['output_type'] = 'display_data';\n",
              "          await google.colab.output.renderOutput(dataTable, element);\n",
              "          const docLink = document.createElement('div');\n",
              "          docLink.innerHTML = docLinkHtml;\n",
              "          element.appendChild(docLink);\n",
              "        }\n",
              "      </script>\n",
              "    </div>\n",
              "  </div>\n",
              "  "
            ]
          },
          "metadata": {},
          "execution_count": 26
        }
      ]
    },
    {
      "cell_type": "markdown",
      "source": [
        "# dataframe.info(): \n",
        "\n",
        "This method prints information about the dataframe, which includes the index data type and column data types, the count of non-null values and the memory used. \n",
        "\n",
        "---------------\n",
        "\n",
        "# dataframe.describe(): \n",
        "\n",
        "This function produces descriptive statistics for the dataframe, that is, the central tendency (mean, median, min, max, etc.), dispersion, etc. It analyses the data and generates output for both numeric and non-numeric data types accordingly. "
      ],
      "metadata": {
        "id": "jnoYuQHxTum5"
      }
    },
    {
      "cell_type": "code",
      "source": [
        "print(df.info())\n",
        "df.describe()"
      ],
      "metadata": {
        "colab": {
          "base_uri": "https://localhost:8080/",
          "height": 433
        },
        "id": "EGW7EcpBQjGY",
        "outputId": "a2183a3d-b650-47ec-f032-12b689f15047"
      },
      "execution_count": null,
      "outputs": [
        {
          "output_type": "stream",
          "name": "stdout",
          "text": [
            "<class 'pandas.core.frame.DataFrame'>\n",
            "MultiIndex: 533 entries, ('Bangalore', 'Finance') to ('New Delhi', 'Sales')\n",
            "Data columns (total 2 columns):\n",
            " #   Column  Non-Null Count  Dtype  \n",
            "---  ------  --------------  -----  \n",
            " 0   ID      533 non-null    object \n",
            " 1   Rating  524 non-null    float64\n",
            "dtypes: float64(1), object(1)\n",
            "memory usage: 9.8+ KB\n",
            "None\n"
          ]
        },
        {
          "output_type": "execute_result",
          "data": {
            "text/plain": [
              "           Rating\n",
              "count  524.000000\n",
              "mean     3.550191\n",
              "std      0.850430\n",
              "min      2.100000\n",
              "25%      2.800000\n",
              "50%      3.500000\n",
              "75%      4.300000\n",
              "max      5.000000"
            ],
            "text/html": [
              "\n",
              "  <div id=\"df-4ba25726-b202-4537-bd21-a8b9c5f165df\">\n",
              "    <div class=\"colab-df-container\">\n",
              "      <div>\n",
              "<style scoped>\n",
              "    .dataframe tbody tr th:only-of-type {\n",
              "        vertical-align: middle;\n",
              "    }\n",
              "\n",
              "    .dataframe tbody tr th {\n",
              "        vertical-align: top;\n",
              "    }\n",
              "\n",
              "    .dataframe thead th {\n",
              "        text-align: right;\n",
              "    }\n",
              "</style>\n",
              "<table border=\"1\" class=\"dataframe\">\n",
              "  <thead>\n",
              "    <tr style=\"text-align: right;\">\n",
              "      <th></th>\n",
              "      <th>Rating</th>\n",
              "    </tr>\n",
              "  </thead>\n",
              "  <tbody>\n",
              "    <tr>\n",
              "      <th>count</th>\n",
              "      <td>524.000000</td>\n",
              "    </tr>\n",
              "    <tr>\n",
              "      <th>mean</th>\n",
              "      <td>3.550191</td>\n",
              "    </tr>\n",
              "    <tr>\n",
              "      <th>std</th>\n",
              "      <td>0.850430</td>\n",
              "    </tr>\n",
              "    <tr>\n",
              "      <th>min</th>\n",
              "      <td>2.100000</td>\n",
              "    </tr>\n",
              "    <tr>\n",
              "      <th>25%</th>\n",
              "      <td>2.800000</td>\n",
              "    </tr>\n",
              "    <tr>\n",
              "      <th>50%</th>\n",
              "      <td>3.500000</td>\n",
              "    </tr>\n",
              "    <tr>\n",
              "      <th>75%</th>\n",
              "      <td>4.300000</td>\n",
              "    </tr>\n",
              "    <tr>\n",
              "      <th>max</th>\n",
              "      <td>5.000000</td>\n",
              "    </tr>\n",
              "  </tbody>\n",
              "</table>\n",
              "</div>\n",
              "      <button class=\"colab-df-convert\" onclick=\"convertToInteractive('df-4ba25726-b202-4537-bd21-a8b9c5f165df')\"\n",
              "              title=\"Convert this dataframe to an interactive table.\"\n",
              "              style=\"display:none;\">\n",
              "        \n",
              "  <svg xmlns=\"http://www.w3.org/2000/svg\" height=\"24px\"viewBox=\"0 0 24 24\"\n",
              "       width=\"24px\">\n",
              "    <path d=\"M0 0h24v24H0V0z\" fill=\"none\"/>\n",
              "    <path d=\"M18.56 5.44l.94 2.06.94-2.06 2.06-.94-2.06-.94-.94-2.06-.94 2.06-2.06.94zm-11 1L8.5 8.5l.94-2.06 2.06-.94-2.06-.94L8.5 2.5l-.94 2.06-2.06.94zm10 10l.94 2.06.94-2.06 2.06-.94-2.06-.94-.94-2.06-.94 2.06-2.06.94z\"/><path d=\"M17.41 7.96l-1.37-1.37c-.4-.4-.92-.59-1.43-.59-.52 0-1.04.2-1.43.59L10.3 9.45l-7.72 7.72c-.78.78-.78 2.05 0 2.83L4 21.41c.39.39.9.59 1.41.59.51 0 1.02-.2 1.41-.59l7.78-7.78 2.81-2.81c.8-.78.8-2.07 0-2.86zM5.41 20L4 18.59l7.72-7.72 1.47 1.35L5.41 20z\"/>\n",
              "  </svg>\n",
              "      </button>\n",
              "      \n",
              "  <style>\n",
              "    .colab-df-container {\n",
              "      display:flex;\n",
              "      flex-wrap:wrap;\n",
              "      gap: 12px;\n",
              "    }\n",
              "\n",
              "    .colab-df-convert {\n",
              "      background-color: #E8F0FE;\n",
              "      border: none;\n",
              "      border-radius: 50%;\n",
              "      cursor: pointer;\n",
              "      display: none;\n",
              "      fill: #1967D2;\n",
              "      height: 32px;\n",
              "      padding: 0 0 0 0;\n",
              "      width: 32px;\n",
              "    }\n",
              "\n",
              "    .colab-df-convert:hover {\n",
              "      background-color: #E2EBFA;\n",
              "      box-shadow: 0px 1px 2px rgba(60, 64, 67, 0.3), 0px 1px 3px 1px rgba(60, 64, 67, 0.15);\n",
              "      fill: #174EA6;\n",
              "    }\n",
              "\n",
              "    [theme=dark] .colab-df-convert {\n",
              "      background-color: #3B4455;\n",
              "      fill: #D2E3FC;\n",
              "    }\n",
              "\n",
              "    [theme=dark] .colab-df-convert:hover {\n",
              "      background-color: #434B5C;\n",
              "      box-shadow: 0px 1px 3px 1px rgba(0, 0, 0, 0.15);\n",
              "      filter: drop-shadow(0px 1px 2px rgba(0, 0, 0, 0.3));\n",
              "      fill: #FFFFFF;\n",
              "    }\n",
              "  </style>\n",
              "\n",
              "      <script>\n",
              "        const buttonEl =\n",
              "          document.querySelector('#df-4ba25726-b202-4537-bd21-a8b9c5f165df button.colab-df-convert');\n",
              "        buttonEl.style.display =\n",
              "          google.colab.kernel.accessAllowed ? 'block' : 'none';\n",
              "\n",
              "        async function convertToInteractive(key) {\n",
              "          const element = document.querySelector('#df-4ba25726-b202-4537-bd21-a8b9c5f165df');\n",
              "          const dataTable =\n",
              "            await google.colab.kernel.invokeFunction('convertToInteractive',\n",
              "                                                     [key], {});\n",
              "          if (!dataTable) return;\n",
              "\n",
              "          const docLinkHtml = 'Like what you see? Visit the ' +\n",
              "            '<a target=\"_blank\" href=https://colab.research.google.com/notebooks/data_table.ipynb>data table notebook</a>'\n",
              "            + ' to learn more about interactive tables.';\n",
              "          element.innerHTML = '';\n",
              "          dataTable['output_type'] = 'display_data';\n",
              "          await google.colab.output.renderOutput(dataTable, element);\n",
              "          const docLink = document.createElement('div');\n",
              "          docLink.innerHTML = docLinkHtml;\n",
              "          element.appendChild(docLink);\n",
              "        }\n",
              "      </script>\n",
              "    </div>\n",
              "  </div>\n",
              "  "
            ],
            "application/vnd.google.colaboratory.module+javascript": "\n      import \"https://ssl.gstatic.com/colaboratory/data_table/99dac6621f6ae8c4/data_table.js\";\n\n      window.createDataTable({\n        data: [[\"count\",\n{\n            'v': 524.0,\n            'f': \"524.0\",\n        }],\n [\"mean\",\n{\n            'v': 3.5501908396946567,\n            'f': \"3.5501908396946567\",\n        }],\n [\"std\",\n{\n            'v': 0.8504300800554716,\n            'f': \"0.8504300800554716\",\n        }],\n [\"min\",\n{\n            'v': 2.1,\n            'f': \"2.1\",\n        }],\n [\"25%\",\n{\n            'v': 2.8,\n            'f': \"2.8\",\n        }],\n [\"50%\",\n{\n            'v': 3.5,\n            'f': \"3.5\",\n        }],\n [\"75%\",\n{\n            'v': 4.3,\n            'f': \"4.3\",\n        }],\n [\"max\",\n{\n            'v': 5.0,\n            'f': \"5.0\",\n        }]],\n        columns: [[\"string\", \"index\"], [\"number\", \"Rating\"]],\n        columnOptions: [{\"width\": \"1px\", \"className\": \"index_column\"}],\n        rowsPerPage: 25,\n        helpUrl: \"https://colab.research.google.com/notebooks/data_table.ipynb\",\n        suppressOutputScrolling: true,\n        minimumWidth: undefined,\n      });\n    "
          },
          "metadata": {},
          "execution_count": 29
        }
      ]
    },
    {
      "cell_type": "code",
      "source": [
        "df['Rating'].plot(kind='box')\n",
        "\n",
        "# import matplotlib.pyplot as plt\n",
        "# plt.show()"
      ],
      "metadata": {
        "colab": {
          "base_uri": "https://localhost:8080/",
          "height": 282
        },
        "id": "beO8cKIBRVQm",
        "outputId": "dbc772b9-1c4c-4f8a-9388-9af5e8f36ac9"
      },
      "execution_count": null,
      "outputs": [
        {
          "output_type": "execute_result",
          "data": {
            "text/plain": [
              "<Axes: >"
            ]
          },
          "metadata": {},
          "execution_count": 33
        },
        {
          "output_type": "display_data",
          "data": {
            "text/plain": [
              "<Figure size 432x288 with 1 Axes>"
            ],
            "image/png": "[encoded data removed]"
          },
          "metadata": {
            "needs_background": "light"
          }
        }
      ]
    },
    {
      "cell_type": "markdown",
      "source": [
        "DataFrames\n",
        "-------------\n",
        "\n",
        "Description\n",
        "\n",
        "Given a dataframe 'df' use the following commands and analyse the result.\n",
        "\n",
        "    describe() \n",
        "    columns\n",
        "    shape"
      ],
      "metadata": {
        "id": "NtmRQ9dXWoEJ"
      }
    },
    {
      "cell_type": "code",
      "source": [
        "import numpy as np\n",
        "import pandas as pd\n",
        "\n",
        "df = pd.read_csv('https://query.data.world/s/vBDCsoHCytUSLKkLvq851k2b8JOCkF')\n",
        "print(df.describe())\n",
        "\n",
        "print(df.columns)\n",
        "print(df.shape)"
      ],
      "metadata": {
        "colab": {
          "base_uri": "https://localhost:8080/"
        },
        "id": "Rw9Va993TPA8",
        "outputId": "da1d5a0b-8758-42ef-bca9-e93794d3baf7"
      },
      "execution_count": null,
      "outputs": [
        {
          "output_type": "stream",
          "name": "stdout",
          "text": [
            "                X           Y        FFMC         DMC          DC         ISI  \\\n",
            "count  517.000000  517.000000  517.000000  517.000000  517.000000  517.000000   \n",
            "mean     4.669246    4.299807   90.644681  110.872340  547.940039    9.021663   \n",
            "std      2.313778    1.229900    5.520111   64.046482  248.066192    4.559477   \n",
            "min      1.000000    2.000000   18.700000    1.100000    7.900000    0.000000   \n",
            "25%      3.000000    4.000000   90.200000   68.600000  437.700000    6.500000   \n",
            "50%      4.000000    4.000000   91.600000  108.300000  664.200000    8.400000   \n",
            "75%      7.000000    5.000000   92.900000  142.400000  713.900000   10.800000   \n",
            "max      9.000000    9.000000   96.200000  291.300000  860.600000   56.100000   \n",
            "\n",
            "             temp          RH        wind        rain         area  \n",
            "count  517.000000  517.000000  517.000000  517.000000   517.000000  \n",
            "mean    18.889168   44.288201    4.017602    0.021663    12.847292  \n",
            "std      5.806625   16.317469    1.791653    0.295959    63.655818  \n",
            "min      2.200000   15.000000    0.400000    0.000000     0.000000  \n",
            "25%     15.500000   33.000000    2.700000    0.000000     0.000000  \n",
            "50%     19.300000   42.000000    4.000000    0.000000     0.520000  \n",
            "75%     22.800000   53.000000    4.900000    0.000000     6.570000  \n",
            "max     33.300000  100.000000    9.400000    6.400000  1090.840000  \n",
            "Index(['X', 'Y', 'month', 'day', 'FFMC', 'DMC', 'DC', 'ISI', 'temp', 'RH',\n",
            "       'wind', 'rain', 'area'],\n",
            "      dtype='object')\n",
            "(517, 13)\n"
          ]
        }
      ]
    },
    {
      "cell_type": "code",
      "source": [
        "! pip install jovian\n",
        "\n",
        "import jovian\n",
        "jovian.commit()"
      ],
      "metadata": {
        "colab": {
          "base_uri": "https://localhost:8080/",
          "height": 557
        },
        "id": "Xw6ZahFLW6gw",
        "outputId": "d2cad848-2c5d-40a4-937d-7363932d12ed"
      },
      "execution_count": null,
      "outputs": [
        {
          "output_type": "stream",
          "name": "stdout",
          "text": [
            "Looking in indexes: https://pypi.org/simple, https://us-python.pkg.dev/colab-wheels/public/simple/\n",
            "Collecting jovian\n",
            "  Downloading jovian-0.2.47-py2.py3-none-any.whl (68 kB)\n",
            "\u001b[2K     \u001b[90m━━━━━━━━━━━━━━━━━━━━━━━━━━━━━━━━━━━━━━━━\u001b[0m \u001b[32m68.6/68.6 KB\u001b[0m \u001b[31m3.1 MB/s\u001b[0m eta \u001b[36m0:00:00\u001b[0m\n",
            "\u001b[?25hRequirement already satisfied: click in /usr/local/lib/python3.9/dist-packages (from jovian) (8.1.3)\n",
            "Requirement already satisfied: pyyaml in /usr/local/lib/python3.9/dist-packages (from jovian) (6.0)\n",
            "Collecting uuid\n",
            "  Downloading uuid-1.30.tar.gz (5.8 kB)\n",
            "  Preparing metadata (setup.py) ... \u001b[?25l\u001b[?25hdone\n",
            "Requirement already satisfied: requests in /usr/local/lib/python3.9/dist-packages (from jovian) (2.27.1)\n",
            "Requirement already satisfied: idna<4,>=2.5 in /usr/local/lib/python3.9/dist-packages (from requests->jovian) (3.4)\n",
            "Requirement already satisfied: charset-normalizer~=2.0.0 in /usr/local/lib/python3.9/dist-packages (from requests->jovian) (2.0.12)\n",
            "Requirement already satisfied: certifi>=2017.4.17 in /usr/local/lib/python3.9/dist-packages (from requests->jovian) (2022.12.7)\n",
            "Requirement already satisfied: urllib3<1.27,>=1.21.1 in /usr/local/lib/python3.9/dist-packages (from requests->jovian) (1.26.15)\n",
            "Building wheels for collected packages: uuid\n",
            "  Building wheel for uuid (setup.py) ... \u001b[?25l\u001b[?25hdone\n",
            "  Created wheel for uuid: filename=uuid-1.30-py3-none-any.whl size=6502 sha256=42b813af50c8a7eb2c835cfd7021ee1c72e26eb6eb009e24f1adb7ef051b596f\n",
            "  Stored in directory: /root/.cache/pip/wheels/05/d7/b4/4795d29c6decfffbf64c63e58b6c8b8bbfd4751488617dcd7a\n",
            "Successfully built uuid\n",
            "Installing collected packages: uuid, jovian\n",
            "Successfully installed jovian-0.2.47 uuid-1.30\n"
          ]
        },
        {
          "output_type": "display_data",
          "data": {
            "application/vnd.colab-display-data+json": {
              "pip_warning": {
                "packages": [
                  "uuid"
                ]
              }
            }
          },
          "metadata": {}
        },
        {
          "output_type": "stream",
          "name": "stdout",
          "text": [
            "[jovian] Detected Colab notebook...\u001b[0m\n",
            "[jovian] jovian.commit() is no longer required on Google Colab. If you ran this notebook from Jovian, \n",
            "then just save this file in Colab using Ctrl+S/Cmd+S and it will be updated on Jovian. \n",
            "Also, you can also delete this cell, it's no longer necessary.\u001b[0m\n"
          ]
        }
      ]
    },
    {
      "cell_type": "markdown",
      "source": [
        "Selecting Columns of a Dataframe\n",
        "-----------\n",
        "\n",
        "Description\n",
        "\n",
        "Print out the columns `'month', 'day', 'temp', 'area'` from the dataframe `'df'`."
      ],
      "metadata": {
        "id": "oBY2Lrxrgohb"
      }
    },
    {
      "cell_type": "code",
      "source": [
        "import pandas as pd\n",
        "df = pd.read_csv('https://query.data.world/s/vBDCsoHCytUSLKkLvq851k2b8JOCkF')\n",
        "df_2 = df[['month','day','temp','area']]\n",
        "\n",
        "#Type your code for selecting columns 'month', 'day' , 'temp' , 'area'\n",
        "print(df_2.head(20))"
      ],
      "metadata": {
        "id": "cAjF3eToalAh",
        "colab": {
          "base_uri": "https://localhost:8080/"
        },
        "outputId": "73c6aa10-f531-45ca-8833-0b90d036262f"
      },
      "execution_count": null,
      "outputs": [
        {
          "output_type": "stream",
          "name": "stdout",
          "text": [
            "   month  day  temp  area\n",
            "0    mar  fri   8.2   0.0\n",
            "1    oct  tue  18.0   0.0\n",
            "2    oct  sat  14.6   0.0\n",
            "3    mar  fri   8.3   0.0\n",
            "4    mar  sun  11.4   0.0\n",
            "5    aug  sun  22.2   0.0\n",
            "6    aug  mon  24.1   0.0\n",
            "7    aug  mon   8.0   0.0\n",
            "8    sep  tue  13.1   0.0\n",
            "9    sep  sat  22.8   0.0\n",
            "10   sep  sat  17.8   0.0\n",
            "11   sep  sat  19.3   0.0\n",
            "12   aug  fri  17.0   0.0\n",
            "13   sep  mon  21.3   0.0\n",
            "14   sep  wed  26.4   0.0\n",
            "15   sep  fri  22.9   0.0\n",
            "16   mar  sat  15.1   0.0\n",
            "17   oct  mon  16.7   0.0\n",
            "18   mar  wed  15.9   0.0\n",
            "19   apr  sat   9.3   0.0\n"
          ]
        }
      ]
    },
    {
      "cell_type": "markdown",
      "source": [
        "Indexing Dataframes\n",
        "-----------\n",
        "\n",
        "Description\n",
        "\n",
        "Print only the even numbers of rows of the dataframe 'df'.\n",
        "\n",
        "------------\n",
        "\n",
        "Note: Don't include the row indexed zero."
      ],
      "metadata": {
        "id": "YYZff4vvh_J_"
      }
    },
    {
      "cell_type": "code",
      "source": [
        "import pandas as pd\n",
        "df = pd.read_csv('https://query.data.world/s/vBDCsoHCytUSLKkLvq851k2b8JOCkF')\n",
        "\n",
        "df_2 = df[2: :2]\n",
        "print(df_2.head(20))"
      ],
      "metadata": {
        "colab": {
          "base_uri": "https://localhost:8080/"
        },
        "id": "v2S20qhIdjfF",
        "outputId": "564bf3f5-8069-473a-e739-e5af6d156ad6"
      },
      "execution_count": null,
      "outputs": [
        {
          "output_type": "stream",
          "name": "stdout",
          "text": [
            "    X  Y month  day  FFMC    DMC     DC   ISI  temp  RH  wind  rain  area\n",
            "2   7  4   oct  sat  90.6   43.7  686.9   6.7  14.6  33   1.3   0.0   0.0\n",
            "4   8  6   mar  sun  89.3   51.3  102.2   9.6  11.4  99   1.8   0.0   0.0\n",
            "6   8  6   aug  mon  92.3   88.9  495.6   8.5  24.1  27   3.1   0.0   0.0\n",
            "8   8  6   sep  tue  91.0  129.5  692.6   7.0  13.1  63   5.4   0.0   0.0\n",
            "10  7  5   sep  sat  92.5   88.0  698.6   7.1  17.8  51   7.2   0.0   0.0\n",
            "12  6  5   aug  fri  63.5   70.8  665.3   0.8  17.0  72   6.7   0.0   0.0\n",
            "14  6  5   sep  wed  92.9  133.3  699.6   9.2  26.4  21   4.5   0.0   0.0\n",
            "16  5  5   mar  sat  91.7   35.8   80.8   7.8  15.1  27   5.4   0.0   0.0\n",
            "18  6  4   mar  wed  89.2   27.9   70.8   6.3  15.9  35   4.0   0.0   0.0\n",
            "20  6  4   sep  tue  91.0  129.5  692.6   7.0  18.3  40   2.7   0.0   0.0\n",
            "22  7  4   jun  sun  94.3   96.3  200.0  56.1  21.0  44   4.5   0.0   0.0\n",
            "24  7  4   aug  sat  93.5  139.4  594.2  20.3  23.7  32   5.8   0.0   0.0\n",
            "26  7  4   sep  fri  92.4  117.9  668.0  12.2  19.0  34   5.8   0.0   0.0\n",
            "28  6  3   sep  sat  93.4  145.4  721.4   8.1  30.2  24   2.7   0.0   0.0\n",
            "30  6  3   sep  fri  94.3   85.1  692.3  15.9  25.4  24   3.6   0.0   0.0\n",
            "32  6  3   sep  fri  88.6   69.7  706.8   5.8  20.6  37   1.8   0.0   0.0\n",
            "34  6  3   sep  mon  91.8   78.5  724.3   9.2  21.2  32   2.7   0.0   0.0\n",
            "36  6  3   oct  tue  90.6   35.4  669.1   6.7  21.7  24   4.5   0.0   0.0\n",
            "38  7  3   oct  sat  90.6   43.7  686.9   6.7  17.8  27   4.0   0.0   0.0\n",
            "40  4  4   jul  tue  79.5   60.6  366.7   1.5  23.3  37   3.1   0.0   0.0\n"
          ]
        }
      ]
    },
    {
      "cell_type": "markdown",
      "source": [
        "Indexing and Slicing\n",
        "-------------\n",
        "\n",
        "Take a look at the dataframe (‘df’) provided below.\n",
        "\n",
        "---------------\n",
        "\n",
        "![ss](https://images.upgrad.com/5b76cba2-c316-45e8-a646-5e5823fc2935-02.%20iloc%20vs%20loc.PNG)\n",
        "\n",
        "Which of the code(s) below will fetch the row containing the following data?\n",
        "\n",
        "    [S. No.: 3, Name: Vikas, Subject: Mathematics, Percentage: 84]\n",
        "\n",
        "------------------\n",
        "\n",
        "    df.loc[[2], [\"S.No.\", \"Name\", \"Subject\", \"Percentage\"]]\n",
        "\n",
        "    df.loc[[3], [\"Name\", \"Subject\", \"Percentage\"]] ✅\n",
        "\n",
        "    df.iloc[[3], [0, 1, 4]]\n",
        "\n",
        "    df.iloc[[2], [0, 1, 4]] ✅\n",
        "\n",
        "    df.loc[[2], [0, 1, 4]]"
      ],
      "metadata": {
        "id": "NnIqJInMk901"
      }
    },
    {
      "cell_type": "markdown",
      "source": [
        "-------------\n",
        "\n",
        "`You already know the basic conditional operators like \"<\" or \">\". There are a couple of other functions which might come in really handy while handling real-life datasets.`  \n",
        "\n",
        "### These are isin() and isna().\n",
        "\n",
        "\n",
        "- isin() : \n",
        "\n",
        "Similar to the membership operator in lists, this function can check if the given element \"is in\" the collection of elements provided. \n",
        "\n",
        "- isna() : \n",
        "\n",
        "It checks whether the given element is null/empty. \n",
        "\n",
        "------------"
      ],
      "metadata": {
        "id": "djTym5fc9gwn"
      }
    },
    {
      "cell_type": "markdown",
      "source": [
        "Applying Conditions on Dataframes\n",
        "-------\n",
        "\n",
        "Description\n",
        "\n",
        "Print all the columns and the rows where 'area' is greater than 0, 'wind' is greater than 1 and the 'temp' is greater than 15.\n"
      ],
      "metadata": {
        "id": "4Sgc643n-St3"
      }
    },
    {
      "cell_type": "code",
      "source": [
        "import pandas as pd\n",
        "df = pd.read_csv('https://query.data.world/s/vBDCsoHCytUSLKkLvq851k2b8JOCkF')\n",
        "\n",
        "df_2 = df[ (df['area'] > 0) & (df['wind'] > 1) & (df['temp'] > 15) ]\n",
        "print(df_2.head(20))"
      ],
      "metadata": {
        "colab": {
          "base_uri": "https://localhost:8080/"
        },
        "id": "_qfpUnL-7p2Q",
        "outputId": "4bed4215-9c8c-4d5e-b863-c0b7ecf6a550"
      },
      "execution_count": null,
      "outputs": [
        {
          "output_type": "stream",
          "name": "stdout",
          "text": [
            "     X  Y month  day  FFMC    DMC     DC   ISI  temp  RH  wind  rain  area\n",
            "138  9  9   jul  tue  85.8   48.3  313.4   3.9  18.0  42   2.7   0.0  0.36\n",
            "139  1  4   sep  tue  91.0  129.5  692.6   7.0  21.7  38   2.2   0.0  0.43\n",
            "140  2  5   sep  mon  90.9  126.5  686.5   7.0  21.9  39   1.8   0.0  0.47\n",
            "141  1  2   aug  wed  95.5   99.9  513.3  13.2  23.3  31   4.5   0.0  0.55\n",
            "142  8  6   aug  fri  90.1  108.0  529.8  12.5  21.2  51   8.9   0.0  0.61\n",
            "143  1  2   jul  sat  90.0   51.3  296.3   8.7  16.6  53   5.4   0.0  0.71\n",
            "144  2  5   aug  wed  95.5   99.9  513.3  13.2  23.8  32   5.4   0.0  0.77\n",
            "145  6  5   aug  thu  95.2  131.7  578.8  10.4  27.4  22   4.0   0.0  0.90\n",
            "147  8  3   sep  tue  84.4   73.4  671.9   3.2  24.2  28   3.6   0.0  0.96\n",
            "148  2  2   aug  tue  94.8  108.3  647.1  17.0  17.4  43   6.7   0.0  1.07\n",
            "149  8  6   sep  thu  93.7   80.9  685.2  17.9  23.7  25   4.5   0.0  1.12\n",
            "150  6  5   jun  fri  92.5   56.4  433.3   7.1  23.2  39   5.4   0.0  1.19\n",
            "151  9  9   jul  sun  90.1   68.6  355.2   7.2  24.8  29   2.2   0.0  1.36\n",
            "152  3  4   jul  sat  90.1   51.2  424.1   6.2  24.6  43   1.8   0.0  1.43\n",
            "153  5  4   sep  fri  94.3   85.1  692.3  15.9  20.1  47   4.9   0.0  1.46\n",
            "154  1  5   sep  sat  93.4  145.4  721.4   8.1  29.6  27   2.7   0.0  1.46\n",
            "155  7  4   aug  sun  94.8  108.3  647.1  17.0  16.4  47   1.3   0.0  1.56\n",
            "156  2  4   sep  sat  93.4  145.4  721.4   8.1  28.6  27   2.2   0.0  1.61\n",
            "157  2  2   aug  wed  92.1  111.2  654.1   9.6  18.4  45   3.6   0.0  1.63\n",
            "158  2  4   aug  wed  92.1  111.2  654.1   9.6  20.5  35   4.0   0.0  1.64\n"
          ]
        }
      ]
    },
    {
      "cell_type": "markdown",
      "source": [
        "Employee Training\n",
        "----------\n",
        "\n",
        "Description\n",
        "\n",
        "`You are provided with the dataset of a company which has offices across three cities - Mumbai, Bangalore and New Delhi. The dataset contains the rating (out of 5) of all the employees from different departments (Finance, HR, Marketing and Sales).`\n",
        "\n",
        "\n",
        "    The company has come up with a new policy that any individual with a \n",
        "    rating equal to or below 3.5 needs to attend a training. Using \n",
        "    dataframes, load the dataset and then derive the column ‘Training’ \n",
        "    which shows ‘Yes’ for people who require training and ‘No’ for those \n",
        "    who do not.\n",
        "\n",
        "\n",
        "\n",
        "`Print the first 5 rows as the output. Refer to the image below for your reference.`\n",
        "\n",
        "![ss](https://media-doselect.s3.amazonaws.com/generic/QRJ27vaKx7XVW3B2nag54Bepv/03.%20Employee%20Rating.PNG)\n",
        "\n",
        "------------\n",
        "\n",
        "Note: You should not sort or modify values in other columns of the dataframe."
      ],
      "metadata": {
        "id": "fkxgSoP9IBom"
      }
    },
    {
      "cell_type": "code",
      "source": [
        "import numpy as np\n",
        "import pandas as pd\n",
        "\n",
        "# The file is stored at the following path:\n",
        "url = 'https://media-doselect.s3.amazonaws.com/generic/NMgEjwkAEGGQZBoNYGr9Ld7w0/rating.csv'\n",
        "df = pd.read_csv(url)\n",
        "\n",
        "# Provide your answer below\n",
        "df['Training'] = df['Rating'].apply(lambda x: 'No' if x >3.5 else 'Yes')\n",
        "\n",
        "print(df.head(5))"
      ],
      "metadata": {
        "colab": {
          "base_uri": "https://localhost:8080/"
        },
        "id": "hbPciolq_JAw",
        "outputId": "cc32bae3-9a1c-4f8a-bf41-ca13530b731c"
      },
      "execution_count": null,
      "outputs": [
        {
          "output_type": "stream",
          "name": "stdout",
          "text": [
            "      ID Department     Office  Rating Training\n",
            "0  U2F26    Finance  New Delhi     3.4      Yes\n",
            "1  U2M61  Marketing  New Delhi     3.9       No\n",
            "2  U1S15      Sales  New Delhi     2.8      Yes\n",
            "3  U1H87         HR     Mumbai     2.1      Yes\n",
            "4  U1S51      Sales  New Delhi     4.6       No\n"
          ]
        }
      ]
    },
    {
      "cell_type": "markdown",
      "source": [
        "Dataframe\n",
        "-------\n",
        "\n",
        "In the dataframe created above, find the department that has the most efficient team (the team with minimum percentage of employees who need training).\n",
        "\n"
      ],
      "metadata": {
        "id": "15EW4l93NhuJ"
      }
    },
    {
      "cell_type": "code",
      "source": [
        "for i in ['Finance', 'HR', 'Sales', 'Marketing']:\n",
        "    print(i, len(df[(df['Training'] == 'No') & (df['Department'] == i)]) / len(df[df['Department'] == i]) * 100)\n",
        "\n",
        "# Ans). HR 55.72519083969466"
      ],
      "metadata": {
        "colab": {
          "base_uri": "https://localhost:8080/"
        },
        "id": "Cp-ANba0JAbi",
        "outputId": "43b56e72-373c-4810-b8c7-02f140e9b3ed"
      },
      "execution_count": null,
      "outputs": [
        {
          "output_type": "stream",
          "name": "stdout",
          "text": [
            "Finance 49.25373134328358\n",
            "HR 55.72519083969466\n",
            "Sales 46.15384615384615\n",
            "Marketing 44.927536231884055\n"
          ]
        }
      ]
    },
    {
      "cell_type": "markdown",
      "source": [
        "## Groupby function\n",
        "\n",
        "What does the function: dataframe.groupby() return without any aggregate function?\n",
        "\n",
        "\n",
        "## Correct Answer! \n",
        "\n",
        "`A Pandas object is created`\n",
        "\n",
        "It returns a Pandas object, which can be used to perform further desired aggregation function. Check the output using the type function.\n",
        "\n",
        "----------------"
      ],
      "metadata": {
        "id": "PGYSEI70OLdt"
      }
    },
    {
      "cell_type": "markdown",
      "source": [
        "Dataframe grouping\n",
        "-----------\n",
        "\n",
        "Description\n",
        "\n",
        "Group the dataframe 'df' by 'month' and 'day' and find the mean value for column 'rain' and 'wind'."
      ],
      "metadata": {
        "id": "fy2oMyoiOnOY"
      }
    },
    {
      "cell_type": "code",
      "source": [
        "import pandas as pd\n",
        "df = pd.read_csv('https://query.data.world/s/vBDCsoHCytUSLKkLvq851k2b8JOCkF')\n",
        "\n",
        "#Type your groupby command here\n",
        "by = df.groupby(['month', 'day'])\n",
        "\n",
        "df_1 = by[['rain','wind']].mean()\n",
        "print(df_1.head(20))"
      ],
      "metadata": {
        "colab": {
          "base_uri": "https://localhost:8080/"
        },
        "id": "RqJf4Lr5M1QS",
        "outputId": "fb30dce9-7e1f-4290-afb8-a76af1dd8880"
      },
      "execution_count": null,
      "outputs": [
        {
          "output_type": "stream",
          "name": "stdout",
          "text": [
            "               rain      wind\n",
            "month day                    \n",
            "apr   fri  0.000000  3.100000\n",
            "      mon  0.000000  3.100000\n",
            "      sat  0.000000  4.500000\n",
            "      sun  0.000000  5.666667\n",
            "      thu  0.000000  5.800000\n",
            "      wed  0.000000  2.700000\n",
            "aug   fri  0.066667  4.766667\n",
            "      mon  0.000000  2.873333\n",
            "      sat  0.000000  4.310345\n",
            "      sun  0.025000  4.417500\n",
            "      thu  0.000000  3.503846\n",
            "      tue  0.300000  4.567857\n",
            "      wed  0.000000  3.520000\n",
            "dec   fri  0.000000  4.900000\n",
            "      mon  0.000000  8.500000\n",
            "      sun  0.000000  8.500000\n",
            "      thu  0.000000  4.900000\n",
            "      tue  0.000000  8.500000\n",
            "      wed  0.000000  8.000000\n",
            "feb   fri  0.000000  4.820000\n"
          ]
        }
      ]
    },
    {
      "cell_type": "markdown",
      "source": [
        "Merging Dataframes\n",
        "----------\n",
        "\n",
        "Suppose you are provided with two dataframes:\n",
        "\n",
        "![ss](https://images.upgrad.com/d6fe6dfc-7cfd-4572-a39b-66273da32bb8-DF_quiz.PNG)\n",
        "\n",
        "From the two dataframes above, how will you generate the following dataframe?\n",
        "\n",
        "![ss](https://images.upgrad.com/1742ed65-47c1-4b89-8486-2b5ec956b2ab-resultant_df.PNG)\n",
        "\n",
        "----------------\n",
        "\n",
        "df_1.merge(df_2, how = 'left')\n",
        "\n",
        "    ✕ Incorrect\n",
        "\n",
        "    Feedback:\n",
        "    The ‘left’ option is useful when you want the elements from the first dataframe only.\n",
        "\n",
        "------------------\n",
        "\n",
        "df_1.merge(df_2, how = 'right')\n",
        "\n",
        "---------------\n",
        "\n",
        "df_1.merge(df_2, how = 'inner')\n",
        "\n",
        "    ✓ Correct\n",
        "\n",
        "    Feedback:\n",
        "    This is the correct answer. The ‘inner’ option is useful when you want those elements that are common in both the dataframes.\n",
        "\n",
        "------------\n",
        "\n",
        "df_1.merge(df_2, how = 'outer')\n",
        "\n",
        "    Your answer is Wrong.\n",
        "\n",
        "    Attempt 2 of 2\n",
        "\n",
        "---------------\n"
      ],
      "metadata": {
        "id": "V2RbOTloSDmc"
      }
    },
    {
      "cell_type": "markdown",
      "source": [
        "Dataframes Merge\n",
        "----------\n",
        "\n",
        "Description\n",
        "\n",
        "Perform an inner merge on two data frames df_1 and df_2 on  'unique_id' and print the combined dataframe."
      ],
      "metadata": {
        "id": "5sahmS1yTMXZ"
      }
    },
    {
      "cell_type": "code",
      "source": [
        "import pandas as pd\n",
        "\n",
        "df_1 = pd.read_csv('https://query.data.world/s/vv3snq28bp0TJq2ggCdxGOghEQKPZo')\n",
        "df_2 = pd.read_csv('https://query.data.world/s/9wVKjNT0yiRc3YbVJaiI8a6HGl2d74')\n",
        "\n",
        "df_3 = pd.merge(df_1,df_2,how='inner', on='unique_id')\n",
        "print(df_3.head(20))\n",
        "\n",
        "# df_3.head(20)"
      ],
      "metadata": {
        "colab": {
          "base_uri": "https://localhost:8080/",
          "height": 1294
        },
        "id": "rPliH6GfPImB",
        "outputId": "586970f1-c718-409d-f93d-90b40345421b"
      },
      "execution_count": null,
      "outputs": [
        {
          "output_type": "execute_result",
          "data": {
            "text/plain": [
              "                           name                     address              city  \\\n",
              "0     arnie morton's of chicago   \"435 s. la cienega blvd.\"     \"los angeles\"   \n",
              "1                    art's deli       \"12224 ventura blvd.\"     \"studio city\"   \n",
              "2                 bel-air hotel      \"701 stone canyon rd.\"         \"bel air\"   \n",
              "3                    cafe bizou       \"14016 ventura blvd.\"    \"sherman oaks\"   \n",
              "4                     campanile       \"624 s. la brea ave.\"     \"los angeles\"   \n",
              "5               chinois on main             \"2709 main st.\"    \"santa monica\"   \n",
              "6                        citrus         \"6703 melrose ave.\"     \"los angeles\"   \n",
              "7           fenix at the argyle         \"8358 sunset blvd.\"    \"w. hollywood\"   \n",
              "8                       granita       \"23725 w. malibu rd.\"          \"malibu\"   \n",
              "9                    grill  the           \"9560 dayton way\"   \"beverly hills\"   \n",
              "10                        katsu       \"1972 hillhurst ave.\"       \"los feliz\"   \n",
              "11                  l'orangerie   \"903 n. la cienega blvd.\"    \"w. hollywood\"   \n",
              "12  le chardonnay (los angeles)         \"8284 melrose ave.\"     \"los angeles\"   \n",
              "13               locanda veneta         \"8638 w. third st.\"     \"los angeles\"   \n",
              "14                    matsuhisa   \"129 n. la cienega blvd.\"   \"beverly hills\"   \n",
              "15      palm  the (los angeles)   \"9001 santa monica blvd.\"    \"w. hollywood\"   \n",
              "16                       patina         \"5955 melrose ave.\"     \"los angeles\"   \n",
              "17        philippe the original       \"1001 n. alameda st.\"       \"chinatown\"   \n",
              "18                 pinot bistro       \"12969 ventura blvd.\"     \"studio city\"   \n",
              "19            rex il ristorante          \"617 s. olive st.\"     \"los angeles\"   \n",
              "\n",
              "                      cuisine unique_id                     name_2  \\\n",
              "0               \"steakhouses\"       '0'  arnie morton's of chicago   \n",
              "1                     \"delis\"       '1'         art's delicatessen   \n",
              "2               \"californian\"       '2'              hotel bel-air   \n",
              "3             \"french bistro\"       '3'                 cafe bizou   \n",
              "4               \"californian\"       '4'                  campanile   \n",
              "5          \"pacific new wave\"       '5'            chinois on main   \n",
              "6               \"californian\"       '6'                     citrus   \n",
              "7              \"french (new)\"       '7'                      fenix   \n",
              "8               \"californian\"       '8'                    granita   \n",
              "9    \"american (traditional)\"       '9'         grill on the alley   \n",
              "10                 \"japanese\"      '10'           restaurant katsu   \n",
              "11         \"french (classic)\"      '11'                l'orangerie   \n",
              "12            \"french bistro\"      '12'              le chardonnay   \n",
              "13                  \"italian\"      '13'             locanda veneta   \n",
              "14                  \"seafood\"      '14'                  matsuhisa   \n",
              "15              \"steakhouses\"      '15'                   the palm   \n",
              "16              \"californian\"      '16'                     patina   \n",
              "17               \"cafeterias\"      '17'    philippe's the original   \n",
              "18            \"french bistro\"      '18'               pinot bistro   \n",
              "19     \"nuova cucina italian\"      '19'          rex il ristorante   \n",
              "\n",
              "                     address_2            city_2       cuisine_2  \n",
              "0     \"435 s. la cienega blv.\"     \"los angeles\"      \"american\"  \n",
              "1        \"12224 ventura blvd.\"     \"studio city\"      \"american\"  \n",
              "2       \"701 stone canyon rd.\"         \"bel air\"   \"californian\"  \n",
              "3        \"14016 ventura blvd.\"    \"sherman oaks\"        \"french\"  \n",
              "4        \"624 s. la brea ave.\"     \"los angeles\"      \"american\"  \n",
              "5              \"2709 main st.\"    \"santa monica\"        \"french\"  \n",
              "6          \"6703 melrose ave.\"     \"los angeles\"   \"californian\"  \n",
              "7     \"8358 sunset blvd. west\"       \"hollywood\"      \"american\"  \n",
              "8        \"23725 w. malibu rd.\"          \"malibu\"   \"californian\"  \n",
              "9            \"9560 dayton way\"     \"los angeles\"      \"american\"  \n",
              "10    \"1972 n. hillhurst ave.\"     \"los angeles\"         \"asian\"  \n",
              "11   \"903 n. la cienega blvd.\"     \"los angeles\"        \"french\"  \n",
              "12         \"8284 melrose ave.\"     \"los angeles\"        \"french\"  \n",
              "13                   \"3rd st.\"     \"los angeles\"       \"italian\"  \n",
              "14   \"129 n. la cienega blvd.\"   \"beverly hills\"         \"asian\"  \n",
              "15   \"9001 santa monica blvd.\"     \"los angeles\"      \"american\"  \n",
              "16         \"5955 melrose ave.\"     \"los angeles\"   \"californian\"  \n",
              "17       \"1001 n. alameda st.\"     \"los angeles\"      \"american\"  \n",
              "18       \"12969 ventura blvd.\"     \"los angeles\"        \"french\"  \n",
              "19          \"617 s. olive st.\"     \"los angeles\"       \"italian\"  "
            ],
            "text/html": [
              "\n",
              "  <div id=\"df-06c37b63-0bb2-4cf7-91b7-df89cd065c08\">\n",
              "    <div class=\"colab-df-container\">\n",
              "      <div>\n",
              "<style scoped>\n",
              "    .dataframe tbody tr th:only-of-type {\n",
              "        vertical-align: middle;\n",
              "    }\n",
              "\n",
              "    .dataframe tbody tr th {\n",
              "        vertical-align: top;\n",
              "    }\n",
              "\n",
              "    .dataframe thead th {\n",
              "        text-align: right;\n",
              "    }\n",
              "</style>\n",
              "<table border=\"1\" class=\"dataframe\">\n",
              "  <thead>\n",
              "    <tr style=\"text-align: right;\">\n",
              "      <th></th>\n",
              "      <th>name</th>\n",
              "      <th>address</th>\n",
              "      <th>city</th>\n",
              "      <th>cuisine</th>\n",
              "      <th>unique_id</th>\n",
              "      <th>name_2</th>\n",
              "      <th>address_2</th>\n",
              "      <th>city_2</th>\n",
              "      <th>cuisine_2</th>\n",
              "    </tr>\n",
              "  </thead>\n",
              "  <tbody>\n",
              "    <tr>\n",
              "      <th>0</th>\n",
              "      <td>arnie morton's of chicago</td>\n",
              "      <td>\"435 s. la cienega blvd.\"</td>\n",
              "      <td>\"los angeles\"</td>\n",
              "      <td>\"steakhouses\"</td>\n",
              "      <td>'0'</td>\n",
              "      <td>arnie morton's of chicago</td>\n",
              "      <td>\"435 s. la cienega blv.\"</td>\n",
              "      <td>\"los angeles\"</td>\n",
              "      <td>\"american\"</td>\n",
              "    </tr>\n",
              "    <tr>\n",
              "      <th>1</th>\n",
              "      <td>art's deli</td>\n",
              "      <td>\"12224 ventura blvd.\"</td>\n",
              "      <td>\"studio city\"</td>\n",
              "      <td>\"delis\"</td>\n",
              "      <td>'1'</td>\n",
              "      <td>art's delicatessen</td>\n",
              "      <td>\"12224 ventura blvd.\"</td>\n",
              "      <td>\"studio city\"</td>\n",
              "      <td>\"american\"</td>\n",
              "    </tr>\n",
              "    <tr>\n",
              "      <th>2</th>\n",
              "      <td>bel-air hotel</td>\n",
              "      <td>\"701 stone canyon rd.\"</td>\n",
              "      <td>\"bel air\"</td>\n",
              "      <td>\"californian\"</td>\n",
              "      <td>'2'</td>\n",
              "      <td>hotel bel-air</td>\n",
              "      <td>\"701 stone canyon rd.\"</td>\n",
              "      <td>\"bel air\"</td>\n",
              "      <td>\"californian\"</td>\n",
              "    </tr>\n",
              "    <tr>\n",
              "      <th>3</th>\n",
              "      <td>cafe bizou</td>\n",
              "      <td>\"14016 ventura blvd.\"</td>\n",
              "      <td>\"sherman oaks\"</td>\n",
              "      <td>\"french bistro\"</td>\n",
              "      <td>'3'</td>\n",
              "      <td>cafe bizou</td>\n",
              "      <td>\"14016 ventura blvd.\"</td>\n",
              "      <td>\"sherman oaks\"</td>\n",
              "      <td>\"french\"</td>\n",
              "    </tr>\n",
              "    <tr>\n",
              "      <th>4</th>\n",
              "      <td>campanile</td>\n",
              "      <td>\"624 s. la brea ave.\"</td>\n",
              "      <td>\"los angeles\"</td>\n",
              "      <td>\"californian\"</td>\n",
              "      <td>'4'</td>\n",
              "      <td>campanile</td>\n",
              "      <td>\"624 s. la brea ave.\"</td>\n",
              "      <td>\"los angeles\"</td>\n",
              "      <td>\"american\"</td>\n",
              "    </tr>\n",
              "    <tr>\n",
              "      <th>5</th>\n",
              "      <td>chinois on main</td>\n",
              "      <td>\"2709 main st.\"</td>\n",
              "      <td>\"santa monica\"</td>\n",
              "      <td>\"pacific new wave\"</td>\n",
              "      <td>'5'</td>\n",
              "      <td>chinois on main</td>\n",
              "      <td>\"2709 main st.\"</td>\n",
              "      <td>\"santa monica\"</td>\n",
              "      <td>\"french\"</td>\n",
              "    </tr>\n",
              "    <tr>\n",
              "      <th>6</th>\n",
              "      <td>citrus</td>\n",
              "      <td>\"6703 melrose ave.\"</td>\n",
              "      <td>\"los angeles\"</td>\n",
              "      <td>\"californian\"</td>\n",
              "      <td>'6'</td>\n",
              "      <td>citrus</td>\n",
              "      <td>\"6703 melrose ave.\"</td>\n",
              "      <td>\"los angeles\"</td>\n",
              "      <td>\"californian\"</td>\n",
              "    </tr>\n",
              "    <tr>\n",
              "      <th>7</th>\n",
              "      <td>fenix at the argyle</td>\n",
              "      <td>\"8358 sunset blvd.\"</td>\n",
              "      <td>\"w. hollywood\"</td>\n",
              "      <td>\"french (new)\"</td>\n",
              "      <td>'7'</td>\n",
              "      <td>fenix</td>\n",
              "      <td>\"8358 sunset blvd. west\"</td>\n",
              "      <td>\"hollywood\"</td>\n",
              "      <td>\"american\"</td>\n",
              "    </tr>\n",
              "    <tr>\n",
              "      <th>8</th>\n",
              "      <td>granita</td>\n",
              "      <td>\"23725 w. malibu rd.\"</td>\n",
              "      <td>\"malibu\"</td>\n",
              "      <td>\"californian\"</td>\n",
              "      <td>'8'</td>\n",
              "      <td>granita</td>\n",
              "      <td>\"23725 w. malibu rd.\"</td>\n",
              "      <td>\"malibu\"</td>\n",
              "      <td>\"californian\"</td>\n",
              "    </tr>\n",
              "    <tr>\n",
              "      <th>9</th>\n",
              "      <td>grill  the</td>\n",
              "      <td>\"9560 dayton way\"</td>\n",
              "      <td>\"beverly hills\"</td>\n",
              "      <td>\"american (traditional)\"</td>\n",
              "      <td>'9'</td>\n",
              "      <td>grill on the alley</td>\n",
              "      <td>\"9560 dayton way\"</td>\n",
              "      <td>\"los angeles\"</td>\n",
              "      <td>\"american\"</td>\n",
              "    </tr>\n",
              "    <tr>\n",
              "      <th>10</th>\n",
              "      <td>katsu</td>\n",
              "      <td>\"1972 hillhurst ave.\"</td>\n",
              "      <td>\"los feliz\"</td>\n",
              "      <td>\"japanese\"</td>\n",
              "      <td>'10'</td>\n",
              "      <td>restaurant katsu</td>\n",
              "      <td>\"1972 n. hillhurst ave.\"</td>\n",
              "      <td>\"los angeles\"</td>\n",
              "      <td>\"asian\"</td>\n",
              "    </tr>\n",
              "    <tr>\n",
              "      <th>11</th>\n",
              "      <td>l'orangerie</td>\n",
              "      <td>\"903 n. la cienega blvd.\"</td>\n",
              "      <td>\"w. hollywood\"</td>\n",
              "      <td>\"french (classic)\"</td>\n",
              "      <td>'11'</td>\n",
              "      <td>l'orangerie</td>\n",
              "      <td>\"903 n. la cienega blvd.\"</td>\n",
              "      <td>\"los angeles\"</td>\n",
              "      <td>\"french\"</td>\n",
              "    </tr>\n",
              "    <tr>\n",
              "      <th>12</th>\n",
              "      <td>le chardonnay (los angeles)</td>\n",
              "      <td>\"8284 melrose ave.\"</td>\n",
              "      <td>\"los angeles\"</td>\n",
              "      <td>\"french bistro\"</td>\n",
              "      <td>'12'</td>\n",
              "      <td>le chardonnay</td>\n",
              "      <td>\"8284 melrose ave.\"</td>\n",
              "      <td>\"los angeles\"</td>\n",
              "      <td>\"french\"</td>\n",
              "    </tr>\n",
              "    <tr>\n",
              "      <th>13</th>\n",
              "      <td>locanda veneta</td>\n",
              "      <td>\"8638 w. third st.\"</td>\n",
              "      <td>\"los angeles\"</td>\n",
              "      <td>\"italian\"</td>\n",
              "      <td>'13'</td>\n",
              "      <td>locanda veneta</td>\n",
              "      <td>\"3rd st.\"</td>\n",
              "      <td>\"los angeles\"</td>\n",
              "      <td>\"italian\"</td>\n",
              "    </tr>\n",
              "    <tr>\n",
              "      <th>14</th>\n",
              "      <td>matsuhisa</td>\n",
              "      <td>\"129 n. la cienega blvd.\"</td>\n",
              "      <td>\"beverly hills\"</td>\n",
              "      <td>\"seafood\"</td>\n",
              "      <td>'14'</td>\n",
              "      <td>matsuhisa</td>\n",
              "      <td>\"129 n. la cienega blvd.\"</td>\n",
              "      <td>\"beverly hills\"</td>\n",
              "      <td>\"asian\"</td>\n",
              "    </tr>\n",
              "    <tr>\n",
              "      <th>15</th>\n",
              "      <td>palm  the (los angeles)</td>\n",
              "      <td>\"9001 santa monica blvd.\"</td>\n",
              "      <td>\"w. hollywood\"</td>\n",
              "      <td>\"steakhouses\"</td>\n",
              "      <td>'15'</td>\n",
              "      <td>the palm</td>\n",
              "      <td>\"9001 santa monica blvd.\"</td>\n",
              "      <td>\"los angeles\"</td>\n",
              "      <td>\"american\"</td>\n",
              "    </tr>\n",
              "    <tr>\n",
              "      <th>16</th>\n",
              "      <td>patina</td>\n",
              "      <td>\"5955 melrose ave.\"</td>\n",
              "      <td>\"los angeles\"</td>\n",
              "      <td>\"californian\"</td>\n",
              "      <td>'16'</td>\n",
              "      <td>patina</td>\n",
              "      <td>\"5955 melrose ave.\"</td>\n",
              "      <td>\"los angeles\"</td>\n",
              "      <td>\"californian\"</td>\n",
              "    </tr>\n",
              "    <tr>\n",
              "      <th>17</th>\n",
              "      <td>philippe the original</td>\n",
              "      <td>\"1001 n. alameda st.\"</td>\n",
              "      <td>\"chinatown\"</td>\n",
              "      <td>\"cafeterias\"</td>\n",
              "      <td>'17'</td>\n",
              "      <td>philippe's the original</td>\n",
              "      <td>\"1001 n. alameda st.\"</td>\n",
              "      <td>\"los angeles\"</td>\n",
              "      <td>\"american\"</td>\n",
              "    </tr>\n",
              "    <tr>\n",
              "      <th>18</th>\n",
              "      <td>pinot bistro</td>\n",
              "      <td>\"12969 ventura blvd.\"</td>\n",
              "      <td>\"studio city\"</td>\n",
              "      <td>\"french bistro\"</td>\n",
              "      <td>'18'</td>\n",
              "      <td>pinot bistro</td>\n",
              "      <td>\"12969 ventura blvd.\"</td>\n",
              "      <td>\"los angeles\"</td>\n",
              "      <td>\"french\"</td>\n",
              "    </tr>\n",
              "    <tr>\n",
              "      <th>19</th>\n",
              "      <td>rex il ristorante</td>\n",
              "      <td>\"617 s. olive st.\"</td>\n",
              "      <td>\"los angeles\"</td>\n",
              "      <td>\"nuova cucina italian\"</td>\n",
              "      <td>'19'</td>\n",
              "      <td>rex il ristorante</td>\n",
              "      <td>\"617 s. olive st.\"</td>\n",
              "      <td>\"los angeles\"</td>\n",
              "      <td>\"italian\"</td>\n",
              "    </tr>\n",
              "  </tbody>\n",
              "</table>\n",
              "</div>\n",
              "      <button class=\"colab-df-convert\" onclick=\"convertToInteractive('df-06c37b63-0bb2-4cf7-91b7-df89cd065c08')\"\n",
              "              title=\"Convert this dataframe to an interactive table.\"\n",
              "              style=\"display:none;\">\n",
              "        \n",
              "  <svg xmlns=\"http://www.w3.org/2000/svg\" height=\"24px\"viewBox=\"0 0 24 24\"\n",
              "       width=\"24px\">\n",
              "    <path d=\"M0 0h24v24H0V0z\" fill=\"none\"/>\n",
              "    <path d=\"M18.56 5.44l.94 2.06.94-2.06 2.06-.94-2.06-.94-.94-2.06-.94 2.06-2.06.94zm-11 1L8.5 8.5l.94-2.06 2.06-.94-2.06-.94L8.5 2.5l-.94 2.06-2.06.94zm10 10l.94 2.06.94-2.06 2.06-.94-2.06-.94-.94-2.06-.94 2.06-2.06.94z\"/><path d=\"M17.41 7.96l-1.37-1.37c-.4-.4-.92-.59-1.43-.59-.52 0-1.04.2-1.43.59L10.3 9.45l-7.72 7.72c-.78.78-.78 2.05 0 2.83L4 21.41c.39.39.9.59 1.41.59.51 0 1.02-.2 1.41-.59l7.78-7.78 2.81-2.81c.8-.78.8-2.07 0-2.86zM5.41 20L4 18.59l7.72-7.72 1.47 1.35L5.41 20z\"/>\n",
              "  </svg>\n",
              "      </button>\n",
              "      \n",
              "  <style>\n",
              "    .colab-df-container {\n",
              "      display:flex;\n",
              "      flex-wrap:wrap;\n",
              "      gap: 12px;\n",
              "    }\n",
              "\n",
              "    .colab-df-convert {\n",
              "      background-color: #E8F0FE;\n",
              "      border: none;\n",
              "      border-radius: 50%;\n",
              "      cursor: pointer;\n",
              "      display: none;\n",
              "      fill: #1967D2;\n",
              "      height: 32px;\n",
              "      padding: 0 0 0 0;\n",
              "      width: 32px;\n",
              "    }\n",
              "\n",
              "    .colab-df-convert:hover {\n",
              "      background-color: #E2EBFA;\n",
              "      box-shadow: 0px 1px 2px rgba(60, 64, 67, 0.3), 0px 1px 3px 1px rgba(60, 64, 67, 0.15);\n",
              "      fill: #174EA6;\n",
              "    }\n",
              "\n",
              "    [theme=dark] .colab-df-convert {\n",
              "      background-color: #3B4455;\n",
              "      fill: #D2E3FC;\n",
              "    }\n",
              "\n",
              "    [theme=dark] .colab-df-convert:hover {\n",
              "      background-color: #434B5C;\n",
              "      box-shadow: 0px 1px 3px 1px rgba(0, 0, 0, 0.15);\n",
              "      filter: drop-shadow(0px 1px 2px rgba(0, 0, 0, 0.3));\n",
              "      fill: #FFFFFF;\n",
              "    }\n",
              "  </style>\n",
              "\n",
              "      <script>\n",
              "        const buttonEl =\n",
              "          document.querySelector('#df-06c37b63-0bb2-4cf7-91b7-df89cd065c08 button.colab-df-convert');\n",
              "        buttonEl.style.display =\n",
              "          google.colab.kernel.accessAllowed ? 'block' : 'none';\n",
              "\n",
              "        async function convertToInteractive(key) {\n",
              "          const element = document.querySelector('#df-06c37b63-0bb2-4cf7-91b7-df89cd065c08');\n",
              "          const dataTable =\n",
              "            await google.colab.kernel.invokeFunction('convertToInteractive',\n",
              "                                                     [key], {});\n",
              "          if (!dataTable) return;\n",
              "\n",
              "          const docLinkHtml = 'Like what you see? Visit the ' +\n",
              "            '<a target=\"_blank\" href=https://colab.research.google.com/notebooks/data_table.ipynb>data table notebook</a>'\n",
              "            + ' to learn more about interactive tables.';\n",
              "          element.innerHTML = '';\n",
              "          dataTable['output_type'] = 'display_data';\n",
              "          await google.colab.output.renderOutput(dataTable, element);\n",
              "          const docLink = document.createElement('div');\n",
              "          docLink.innerHTML = docLinkHtml;\n",
              "          element.appendChild(docLink);\n",
              "        }\n",
              "      </script>\n",
              "    </div>\n",
              "  </div>\n",
              "  "
            ]
          },
          "metadata": {},
          "execution_count": 17
        }
      ]
    },
    {
      "cell_type": "markdown",
      "source": [
        "Dataframe Append\n",
        "----------\n",
        "\n",
        "Description\n",
        "\n",
        "Append two datasets df_1 and df_2, and print the combined dataframe."
      ],
      "metadata": {
        "id": "qZQk9bleT07D"
      }
    },
    {
      "cell_type": "code",
      "source": [
        "# Suppressing warnings\n",
        "import warnings\n",
        "warnings.simplefilter(\"ignore\")\n",
        "\n",
        "import pandas as pd\n",
        "df_1 = pd.read_csv('https://query.data.world/s/vv3snq28bp0TJq2ggCdxGOghEQKPZo')\n",
        "df_2 = pd.read_csv('https://query.data.world/s/9wVKjNT0yiRc3YbVJaiI8a6HGl2d74')\n",
        "\n",
        "df_3 = pd.concat([df_1, df_2])\n",
        "print(df_3.head())\n",
        "\n",
        "# df_3.head()"
      ],
      "metadata": {
        "colab": {
          "base_uri": "https://localhost:8080/",
          "height": 428
        },
        "id": "nYwUMDLzTInc",
        "outputId": "a93e2dd0-32fb-45a1-c550-7cc9c0a27142"
      },
      "execution_count": null,
      "outputs": [
        {
          "output_type": "execute_result",
          "data": {
            "text/plain": [
              "                        name                     address             city  \\\n",
              "0  arnie morton's of chicago   \"435 s. la cienega blvd.\"    \"los angeles\"   \n",
              "1                 art's deli       \"12224 ventura blvd.\"    \"studio city\"   \n",
              "2              bel-air hotel      \"701 stone canyon rd.\"        \"bel air\"   \n",
              "3                 cafe bizou       \"14016 ventura blvd.\"   \"sherman oaks\"   \n",
              "4                  campanile       \"624 s. la brea ave.\"    \"los angeles\"   \n",
              "\n",
              "            cuisine unique_id name_2 address_2 city_2 cuisine_2  \n",
              "0     \"steakhouses\"       '0'    NaN       NaN    NaN       NaN  \n",
              "1           \"delis\"       '1'    NaN       NaN    NaN       NaN  \n",
              "2     \"californian\"       '2'    NaN       NaN    NaN       NaN  \n",
              "3   \"french bistro\"       '3'    NaN       NaN    NaN       NaN  \n",
              "4     \"californian\"       '4'    NaN       NaN    NaN       NaN  "
            ],
            "text/html": [
              "\n",
              "  <div id=\"df-1a7d7d4a-af46-401c-99c6-b396160d126e\">\n",
              "    <div class=\"colab-df-container\">\n",
              "      <div>\n",
              "<style scoped>\n",
              "    .dataframe tbody tr th:only-of-type {\n",
              "        vertical-align: middle;\n",
              "    }\n",
              "\n",
              "    .dataframe tbody tr th {\n",
              "        vertical-align: top;\n",
              "    }\n",
              "\n",
              "    .dataframe thead th {\n",
              "        text-align: right;\n",
              "    }\n",
              "</style>\n",
              "<table border=\"1\" class=\"dataframe\">\n",
              "  <thead>\n",
              "    <tr style=\"text-align: right;\">\n",
              "      <th></th>\n",
              "      <th>name</th>\n",
              "      <th>address</th>\n",
              "      <th>city</th>\n",
              "      <th>cuisine</th>\n",
              "      <th>unique_id</th>\n",
              "      <th>name_2</th>\n",
              "      <th>address_2</th>\n",
              "      <th>city_2</th>\n",
              "      <th>cuisine_2</th>\n",
              "    </tr>\n",
              "  </thead>\n",
              "  <tbody>\n",
              "    <tr>\n",
              "      <th>0</th>\n",
              "      <td>arnie morton's of chicago</td>\n",
              "      <td>\"435 s. la cienega blvd.\"</td>\n",
              "      <td>\"los angeles\"</td>\n",
              "      <td>\"steakhouses\"</td>\n",
              "      <td>'0'</td>\n",
              "      <td>NaN</td>\n",
              "      <td>NaN</td>\n",
              "      <td>NaN</td>\n",
              "      <td>NaN</td>\n",
              "    </tr>\n",
              "    <tr>\n",
              "      <th>1</th>\n",
              "      <td>art's deli</td>\n",
              "      <td>\"12224 ventura blvd.\"</td>\n",
              "      <td>\"studio city\"</td>\n",
              "      <td>\"delis\"</td>\n",
              "      <td>'1'</td>\n",
              "      <td>NaN</td>\n",
              "      <td>NaN</td>\n",
              "      <td>NaN</td>\n",
              "      <td>NaN</td>\n",
              "    </tr>\n",
              "    <tr>\n",
              "      <th>2</th>\n",
              "      <td>bel-air hotel</td>\n",
              "      <td>\"701 stone canyon rd.\"</td>\n",
              "      <td>\"bel air\"</td>\n",
              "      <td>\"californian\"</td>\n",
              "      <td>'2'</td>\n",
              "      <td>NaN</td>\n",
              "      <td>NaN</td>\n",
              "      <td>NaN</td>\n",
              "      <td>NaN</td>\n",
              "    </tr>\n",
              "    <tr>\n",
              "      <th>3</th>\n",
              "      <td>cafe bizou</td>\n",
              "      <td>\"14016 ventura blvd.\"</td>\n",
              "      <td>\"sherman oaks\"</td>\n",
              "      <td>\"french bistro\"</td>\n",
              "      <td>'3'</td>\n",
              "      <td>NaN</td>\n",
              "      <td>NaN</td>\n",
              "      <td>NaN</td>\n",
              "      <td>NaN</td>\n",
              "    </tr>\n",
              "    <tr>\n",
              "      <th>4</th>\n",
              "      <td>campanile</td>\n",
              "      <td>\"624 s. la brea ave.\"</td>\n",
              "      <td>\"los angeles\"</td>\n",
              "      <td>\"californian\"</td>\n",
              "      <td>'4'</td>\n",
              "      <td>NaN</td>\n",
              "      <td>NaN</td>\n",
              "      <td>NaN</td>\n",
              "      <td>NaN</td>\n",
              "    </tr>\n",
              "  </tbody>\n",
              "</table>\n",
              "</div>\n",
              "      <button class=\"colab-df-convert\" onclick=\"convertToInteractive('df-1a7d7d4a-af46-401c-99c6-b396160d126e')\"\n",
              "              title=\"Convert this dataframe to an interactive table.\"\n",
              "              style=\"display:none;\">\n",
              "        \n",
              "  <svg xmlns=\"http://www.w3.org/2000/svg\" height=\"24px\"viewBox=\"0 0 24 24\"\n",
              "       width=\"24px\">\n",
              "    <path d=\"M0 0h24v24H0V0z\" fill=\"none\"/>\n",
              "    <path d=\"M18.56 5.44l.94 2.06.94-2.06 2.06-.94-2.06-.94-.94-2.06-.94 2.06-2.06.94zm-11 1L8.5 8.5l.94-2.06 2.06-.94-2.06-.94L8.5 2.5l-.94 2.06-2.06.94zm10 10l.94 2.06.94-2.06 2.06-.94-2.06-.94-.94-2.06-.94 2.06-2.06.94z\"/><path d=\"M17.41 7.96l-1.37-1.37c-.4-.4-.92-.59-1.43-.59-.52 0-1.04.2-1.43.59L10.3 9.45l-7.72 7.72c-.78.78-.78 2.05 0 2.83L4 21.41c.39.39.9.59 1.41.59.51 0 1.02-.2 1.41-.59l7.78-7.78 2.81-2.81c.8-.78.8-2.07 0-2.86zM5.41 20L4 18.59l7.72-7.72 1.47 1.35L5.41 20z\"/>\n",
              "  </svg>\n",
              "      </button>\n",
              "      \n",
              "  <style>\n",
              "    .colab-df-container {\n",
              "      display:flex;\n",
              "      flex-wrap:wrap;\n",
              "      gap: 12px;\n",
              "    }\n",
              "\n",
              "    .colab-df-convert {\n",
              "      background-color: #E8F0FE;\n",
              "      border: none;\n",
              "      border-radius: 50%;\n",
              "      cursor: pointer;\n",
              "      display: none;\n",
              "      fill: #1967D2;\n",
              "      height: 32px;\n",
              "      padding: 0 0 0 0;\n",
              "      width: 32px;\n",
              "    }\n",
              "\n",
              "    .colab-df-convert:hover {\n",
              "      background-color: #E2EBFA;\n",
              "      box-shadow: 0px 1px 2px rgba(60, 64, 67, 0.3), 0px 1px 3px 1px rgba(60, 64, 67, 0.15);\n",
              "      fill: #174EA6;\n",
              "    }\n",
              "\n",
              "    [theme=dark] .colab-df-convert {\n",
              "      background-color: #3B4455;\n",
              "      fill: #D2E3FC;\n",
              "    }\n",
              "\n",
              "    [theme=dark] .colab-df-convert:hover {\n",
              "      background-color: #434B5C;\n",
              "      box-shadow: 0px 1px 3px 1px rgba(0, 0, 0, 0.15);\n",
              "      filter: drop-shadow(0px 1px 2px rgba(0, 0, 0, 0.3));\n",
              "      fill: #FFFFFF;\n",
              "    }\n",
              "  </style>\n",
              "\n",
              "      <script>\n",
              "        const buttonEl =\n",
              "          document.querySelector('#df-1a7d7d4a-af46-401c-99c6-b396160d126e button.colab-df-convert');\n",
              "        buttonEl.style.display =\n",
              "          google.colab.kernel.accessAllowed ? 'block' : 'none';\n",
              "\n",
              "        async function convertToInteractive(key) {\n",
              "          const element = document.querySelector('#df-1a7d7d4a-af46-401c-99c6-b396160d126e');\n",
              "          const dataTable =\n",
              "            await google.colab.kernel.invokeFunction('convertToInteractive',\n",
              "                                                     [key], {});\n",
              "          if (!dataTable) return;\n",
              "\n",
              "          const docLinkHtml = 'Like what you see? Visit the ' +\n",
              "            '<a target=\"_blank\" href=https://colab.research.google.com/notebooks/data_table.ipynb>data table notebook</a>'\n",
              "            + ' to learn more about interactive tables.';\n",
              "          element.innerHTML = '';\n",
              "          dataTable['output_type'] = 'display_data';\n",
              "          await google.colab.output.renderOutput(dataTable, element);\n",
              "          const docLink = document.createElement('div');\n",
              "          docLink.innerHTML = docLinkHtml;\n",
              "          element.appendChild(docLink);\n",
              "        }\n",
              "      </script>\n",
              "    </div>\n",
              "  </div>\n",
              "  "
            ]
          },
          "metadata": {},
          "execution_count": 19
        }
      ]
    },
    {
      "cell_type": "markdown",
      "source": [
        "Operations on multiple dataframes\n",
        "----------\n",
        "\n",
        "Description\n",
        "\n",
        "`Given three data frames containing the number of gold, silver, and bronze Olympic medals won by some countries, determine the total number of medals won by each country.`\n",
        "\n",
        "-------------\n",
        "\n",
        "*Note:* \n",
        "\n",
        "    All three data frames don’t have all the same countries. \n",
        "    So, ensure you use the ‘fill_value’ argument (set it to zero), to avoid getting NaN values. \n",
        "\n",
        "    Also, ensure you sort the final data frame, according to the total medal count in descending order. \n",
        "    Make sure that the results are in integers.\n",
        "\n"
      ],
      "metadata": {
        "id": "LXVJyiAOUe9S"
      }
    },
    {
      "cell_type": "code",
      "source": [
        "import numpy as np \n",
        "import pandas as pd\n",
        "\n",
        "# Defining the three dataframes indicating the gold, silver, and bronze medal counts\n",
        "# of different countries\n",
        "gold = pd.DataFrame({'Country': ['USA', 'France', 'Russia'],\n",
        "                         'Medals': [15, 13, 9]}\n",
        "                    )\n",
        "silver = pd.DataFrame({'Country': ['USA', 'Germany', 'Russia'],\n",
        "                        'Medals': [29, 20, 16]}\n",
        "                    )\n",
        "bronze = pd.DataFrame({'Country': ['France', 'USA', 'UK'],\n",
        "                        'Medals': [40, 28, 27]}\n",
        "                    )\n",
        "\n",
        "gold.set_index('Country', inplace = True)\n",
        "silver.set_index('Country', inplace = True) \n",
        "bronze.set_index('Country', inplace = True) \n",
        "\n",
        "total = gold.add(silver, fill_value = 0).add(bronze, fill_value = 0)\n",
        "total = total.sort_values(by = 'Medals', ascending = False)\n",
        "\n",
        "print(total)"
      ],
      "metadata": {
        "colab": {
          "base_uri": "https://localhost:8080/"
        },
        "id": "JihthvleUI3o",
        "outputId": "b4674589-996a-4c92-bf3e-b9d92acaa811"
      },
      "execution_count": null,
      "outputs": [
        {
          "output_type": "stream",
          "name": "stdout",
          "text": [
            "         Medals\n",
            "Country        \n",
            "USA        72.0\n",
            "France     53.0\n",
            "UK         27.0\n",
            "Russia     25.0\n",
            "Germany    20.0\n"
          ]
        }
      ]
    },
    {
      "cell_type": "markdown",
      "source": [
        "    close\n",
        "    No sample testcases passed. (0/1)\n",
        "\n",
        "    Testcase #1\n",
        "    Status\n",
        "    FailedExecution time\n",
        "    1.11s\n",
        "    CPU\n",
        "    0s\n",
        "    Memory\n",
        "    66MB\n",
        "    Description\n",
        "    Testcase failed! The solution's output doesn't match the expected output.\n",
        "    Solution output\n",
        "            Medals\n",
        "    Country        \n",
        "    USA        72.0\n",
        "    France     53.0\n",
        "    UK         27.0\n",
        "    Russia     25.0\n",
        "    Germany    20.0\n",
        "    Expected output\n",
        "            Medals\n",
        "    Country        \n",
        "    USA          72\n",
        "    France       53\n",
        "    UK           27\n",
        "    Russia       25\n",
        "    Germany      20"
      ],
      "metadata": {
        "id": "lfnRFEu0XaXK"
      }
    },
    {
      "cell_type": "markdown",
      "source": [
        "[Dataframe Pivot Table](https://learn.upgrad.com/course/4460/segment/33129/196270/603798/3075628)\n",
        "--------\n",
        "\n",
        "Description\n",
        "\n",
        "Group the data 'df' by 'month' and 'day' and find the mean value for column 'rain' and 'wind' using the pivot table command."
      ],
      "metadata": {
        "id": "2iAZAHUaXfq0"
      }
    },
    {
      "cell_type": "code",
      "source": [
        "import numpy as np\n",
        "import pandas as pd\n",
        "\n",
        "df = pd.read_csv('https://query.data.world/s/vBDCsoHCytUSLKkLvq851k2b8JOCkF')\n",
        "\n",
        "df_1 = df.pivot_table(index = ['month','day'], \n",
        "                      values = ['rain','wind'], \n",
        "                      aggfunc = 'mean') \n",
        "print(df_1.head(20))"
      ],
      "metadata": {
        "colab": {
          "base_uri": "https://localhost:8080/"
        },
        "id": "R_yInuU2VADw",
        "outputId": "c1a54be2-e814-41f7-de30-1ceda2ed912b"
      },
      "execution_count": null,
      "outputs": [
        {
          "output_type": "stream",
          "name": "stdout",
          "text": [
            "               rain      wind\n",
            "month day                    \n",
            "apr   fri  0.000000  3.100000\n",
            "      mon  0.000000  3.100000\n",
            "      sat  0.000000  4.500000\n",
            "      sun  0.000000  5.666667\n",
            "      thu  0.000000  5.800000\n",
            "      wed  0.000000  2.700000\n",
            "aug   fri  0.066667  4.766667\n",
            "      mon  0.000000  2.873333\n",
            "      sat  0.000000  4.310345\n",
            "      sun  0.025000  4.417500\n",
            "      thu  0.000000  3.503846\n",
            "      tue  0.300000  4.567857\n",
            "      wed  0.000000  3.520000\n",
            "dec   fri  0.000000  4.900000\n",
            "      mon  0.000000  8.500000\n",
            "      sun  0.000000  8.500000\n",
            "      thu  0.000000  4.900000\n",
            "      tue  0.000000  8.500000\n",
            "      wed  0.000000  8.000000\n",
            "feb   fri  0.000000  4.820000\n"
          ]
        }
      ]
    },
    {
      "cell_type": "code",
      "source": [
        "# https://jovian.com/ratan/practiceexercise2movies\n",
        "\n",
        "# https://www.programsbuzz.com/interview-question/python-pandas-movies-released-exercise\n",
        "\n",
        "movies = pd.read_csv(\"Movies.csv\")"
      ],
      "metadata": {
        "id": "nTX777yHjyOg"
      },
      "execution_count": 66,
      "outputs": []
    },
    {
      "cell_type": "markdown",
      "source": [
        "Structure of a Dataframe\n",
        "----------\n",
        "\n",
        "How many rows and columns are present in the dataframe? "
      ],
      "metadata": {
        "id": "02zr2lcUlAE4"
      }
    },
    {
      "cell_type": "code",
      "source": [
        "movies.shape"
      ],
      "metadata": {
        "colab": {
          "base_uri": "https://localhost:8080/"
        },
        "id": "LsftXz10lFG4",
        "outputId": "160d060f-3887-44fd-a3f7-194d0120bcd6"
      },
      "execution_count": 67,
      "outputs": [
        {
          "output_type": "execute_result",
          "data": {
            "text/plain": [
              "(3853, 28)"
            ]
          },
          "metadata": {},
          "execution_count": 67
        }
      ]
    },
    {
      "cell_type": "markdown",
      "source": [
        "Columns with Null values\n",
        "------------------\n",
        "\n",
        "How many columns have null values present in them? Try writing code for this instead of counting them manually."
      ],
      "metadata": {
        "id": "Udrs75HuksYZ"
      }
    },
    {
      "cell_type": "code",
      "source": [
        "print((movies.isnull().sum()>0).sum())"
      ],
      "metadata": {
        "colab": {
          "base_uri": "https://localhost:8080/"
        },
        "id": "3U5wKztbkuXC",
        "outputId": "5f8752a9-d312-4a0a-d6d0-13bbab758c40"
      },
      "execution_count": 68,
      "outputs": [
        {
          "output_type": "stream",
          "name": "stdout",
          "text": [
            "12\n"
          ]
        }
      ]
    },
    {
      "cell_type": "markdown",
      "source": [
        "Dropping Columns\n",
        "-----------\n",
        "\n",
        "What is the count of columns in the new dataframe?"
      ],
      "metadata": {
        "id": "ThXiG3YIkdAw"
      }
    },
    {
      "cell_type": "code",
      "source": [
        "movies = movies.drop([\"color\",\"director_facebook_likes\",\"actor_1_facebook_likes\",\"actor_2_facebook_likes\",\"actor_3_facebook_likes\",\"actor_2_name\",\"cast_total_facebook_likes\",\"actor_3_name\",\"duration\",\"facenumber_in_poster\",\"content_rating\",\"country\",\"movie_imdb_link\",\"aspect_ratio\",\"plot_keywords\"],axis=1)\n",
        "movies.shape"
      ],
      "metadata": {
        "colab": {
          "base_uri": "https://localhost:8080/"
        },
        "id": "Z_iz4qY0kdYp",
        "outputId": "b6db7005-0df2-4676-913c-569a51831faf"
      },
      "execution_count": 70,
      "outputs": [
        {
          "output_type": "execute_result",
          "data": {
            "text/plain": [
              "(3853, 13)"
            ]
          },
          "metadata": {},
          "execution_count": 70
        }
      ]
    },
    {
      "cell_type": "markdown",
      "source": [
        "Deriving a Metric\n",
        "----------\n",
        "\n",
        "Which column has the highest percentage of null values?"
      ],
      "metadata": {
        "id": "xkaBHO10j8_A"
      }
    },
    {
      "cell_type": "code",
      "source": [
        "round(100*(movies.isnull().sum()/len(movies.index)), 2)"
      ],
      "metadata": {
        "colab": {
          "base_uri": "https://localhost:8080/"
        },
        "id": "JjWwI_Vqj_Ef",
        "outputId": "aad87f45-729d-46c6-ab74-6825c628bd25"
      },
      "execution_count": 58,
      "outputs": [
        {
          "output_type": "execute_result",
          "data": {
            "text/plain": [
              "color                        0.05\n",
              "director_name                0.00\n",
              "num_critic_for_reviews       0.03\n",
              "duration                     0.03\n",
              "director_facebook_likes      0.00\n",
              "actor_3_facebook_likes       0.16\n",
              "actor_2_name                 0.03\n",
              "actor_1_facebook_likes       0.00\n",
              "gross                        0.00\n",
              "genres                       0.00\n",
              "actor_1_name                 0.00\n",
              "movie_title                  0.00\n",
              "num_voted_users              0.00\n",
              "cast_total_facebook_likes    0.00\n",
              "actor_3_name                 0.16\n",
              "facenumber_in_poster         0.16\n",
              "plot_keywords                0.78\n",
              "movie_imdb_link              0.00\n",
              "num_user_for_reviews         0.00\n",
              "language                     0.00\n",
              "country                      0.00\n",
              "content_rating               1.25\n",
              "budget                       0.00\n",
              "title_year                   0.00\n",
              "actor_2_facebook_likes       0.03\n",
              "imdb_score                   0.00\n",
              "aspect_ratio                 1.87\n",
              "movie_facebook_likes         0.00\n",
              "dtype: float64"
            ]
          },
          "metadata": {},
          "execution_count": 58
        }
      ]
    },
    {
      "cell_type": "markdown",
      "source": [
        "Replacing Null values\n",
        "----------\n",
        "\n",
        "What is the count of movies made in the English language after replacing the NaN values with English?"
      ],
      "metadata": {
        "id": "vWq4PiG_jpHg"
      }
    },
    {
      "cell_type": "code",
      "source": [
        "movies.loc[pd.isnull(movies['language']), ['language']] = 'English'\n",
        "(movies.language == 'English').sum()"
      ],
      "metadata": {
        "colab": {
          "base_uri": "https://localhost:8080/"
        },
        "id": "s2AUyUkzjq-A",
        "outputId": "d268825f-dfa3-499f-a08f-907132990708"
      },
      "execution_count": 57,
      "outputs": [
        {
          "output_type": "execute_result",
          "data": {
            "text/plain": [
              "3674"
            ]
          },
          "metadata": {},
          "execution_count": 57
        }
      ]
    },
    {
      "cell_type": "markdown",
      "source": [
        "Sorting a dataframe\n",
        "---------\n",
        "\n",
        "Which movie is ranked 5th from the top in the list based on the net profit obtained?\n",
        "\n",
        "Note: \n",
        "\n",
        "`net profit = gross - budget`"
      ],
      "metadata": {
        "id": "UKF-_9bEi1oP"
      }
    },
    {
      "cell_type": "code",
      "source": [
        "# Write your code for creating the profit column here\n",
        "\n",
        "movies[\"Profit\"]=(movies[\"gross\"]-movies[\"budget\"])/1000000\n",
        "a=movies.sort_values(by=[\"Profit\"],ascending=False)\n",
        "\n",
        "top10=a.head(10)\n",
        "top10['movie_title'].iloc[0:5]\n",
        "\n",
        "# E.T. the Extra-Terrestrial"
      ],
      "metadata": {
        "colab": {
          "base_uri": "https://localhost:8080/"
        },
        "id": "Hh17kfpeYV1u",
        "outputId": "d223fc4a-9ed8-4cd6-ceec-6790b82f8802"
      },
      "execution_count": 42,
      "outputs": [
        {
          "output_type": "execute_result",
          "data": {
            "text/plain": [
              "0                                   Avatar \n",
              "28                          Jurassic World \n",
              "25                                 Titanic \n",
              "2704    Star Wars: Episode IV - A New Hope \n",
              "2748            E.T. the Extra-Terrestrial \n",
              "Name: movie_title, dtype: object"
            ]
          },
          "metadata": {},
          "execution_count": 42
        }
      ]
    },
    {
      "cell_type": "markdown",
      "source": [
        "Analysing dataframes\n",
        "----------\n",
        "\n",
        "Suppose movies are divided into 5 buckets based on the IMDb ratings:\n",
        "\n",
        "    [7.5, 8)\n",
        "    [8, 8.5)\n",
        "    [8.5, 9)\n",
        "    [9, 9.5)\n",
        "    [9.5, 10)\n",
        "\n",
        "Which bucket holds the maximum number of movies from IMDb_Top_250?"
      ],
      "metadata": {
        "id": "UBovRfjciuHP"
      }
    },
    {
      "cell_type": "code",
      "source": [
        "IMDb_Top_250 = movies.sort_values(by = 'imdb_score', ascending = False)\n",
        "IMDb_Top_250 = IMDb_Top_250.loc[IMDb_Top_250.num_voted_users > 25000]\n",
        "\n",
        "IMDb_Top_250 = IMDb_Top_250.iloc[:250, ]\n",
        "IMDb_Top_250['Rank'] = range(1,251)\n",
        "\n",
        "import matplotlib.pyplot as plt\n",
        "plt.hist(IMDb_Top_250['imdb_score'], bins = 5, range = (7.5,10), edgecolor = 'cyan')\n",
        "plt.show()\n",
        "\n",
        "# [8, 8.5)"
      ],
      "metadata": {
        "id": "TnL-PGRpds_P",
        "colab": {
          "base_uri": "https://localhost:8080/",
          "height": 265
        },
        "outputId": "ba059fe0-1f1b-4d05-bb90-df6513b44d79"
      },
      "execution_count": 43,
      "outputs": [
        {
          "output_type": "display_data",
          "data": {
            "text/plain": [
              "<Figure size 432x288 with 1 Axes>"
            ],
            "image/png": "[encoded data removed]"
          },
          "metadata": {
            "needs_background": "light"
          }
        }
      ]
    },
    {
      "cell_type": "markdown",
      "source": [
        "Operations on Dataframe\n",
        "-----------\n",
        "\n",
        "Which actor is highest rated among the three actors according to the user reviews?"
      ],
      "metadata": {
        "id": "xHVjMr9YieH5"
      }
    },
    {
      "cell_type": "code",
      "source": [
        "# Write your code for creating three new dataframes here\n",
        "\n",
        "Meryl_Streep = movies[movies[\"actor_1_name\"]==\"Meryl Streep\"]\n",
        "Leo_Caprio   = movies[movies[\"actor_1_name\"]==\"Leonardo DiCaprio\"]\n",
        "Brad_Pitt    = movies[movies[\"actor_1_name\"]==\"Brad Pitt\"]\n",
        "\n",
        "Combined = pd.concat([Meryl_Streep, Brad_Pitt, Leo_Caprio])\n",
        "Combined_by_segment = Combined.groupby('actor_1_name')"
      ],
      "metadata": {
        "id": "3c0gAPW4hAom"
      },
      "execution_count": 50,
      "outputs": []
    },
    {
      "cell_type": "code",
      "source": [
        "Combined_by_segment['num_user_for_reviews'].mean()\n",
        "\n",
        "# Leonardo DiCaprio    914.476190"
      ],
      "metadata": {
        "colab": {
          "base_uri": "https://localhost:8080/"
        },
        "id": "DWjNxkilhli-",
        "outputId": "d801389e-fad3-4c2f-837c-99efdf8da993"
      },
      "execution_count": 51,
      "outputs": [
        {
          "output_type": "execute_result",
          "data": {
            "text/plain": [
              "actor_1_name\n",
              "Brad Pitt            742.352941\n",
              "Leonardo DiCaprio    914.476190\n",
              "Meryl Streep         297.181818\n",
              "Name: num_user_for_reviews, dtype: float64"
            ]
          },
          "metadata": {},
          "execution_count": 51
        }
      ]
    },
    {
      "cell_type": "markdown",
      "source": [
        "Operations on Dataframe\n",
        "--------\n",
        "\n",
        "Which actor is highest rated among the three actors according to the critics?"
      ],
      "metadata": {
        "id": "e9EmB82jiioQ"
      }
    },
    {
      "cell_type": "code",
      "source": [
        "Combined_by_segment['num_critic_for_reviews'].mean()\n",
        "\n",
        "# Leonardo DiCaprio    330.190476"
      ],
      "metadata": {
        "colab": {
          "base_uri": "https://localhost:8080/"
        },
        "id": "Wg8-ba4chofP",
        "outputId": "84fb392e-3958-4bc7-8a1d-378d76c03ecb"
      },
      "execution_count": 53,
      "outputs": [
        {
          "output_type": "execute_result",
          "data": {
            "text/plain": [
              "actor_1_name\n",
              "Brad Pitt            245.000000\n",
              "Leonardo DiCaprio    330.190476\n",
              "Meryl Streep         181.454545\n",
              "Name: num_critic_for_reviews, dtype: float64"
            ]
          },
          "metadata": {},
          "execution_count": 53
        }
      ]
    },
    {
      "cell_type": "markdown",
      "source": [
        "# Pandas Coding Questions - I"
      ],
      "metadata": {
        "id": "XhWMoZrPmLIx"
      }
    },
    {
      "cell_type": "markdown",
      "source": [
        "Series Sub-setting\n",
        "--------\n",
        "\n",
        "Description\n",
        "\n",
        "Given a Pandas series and a value 'n', write a program to create a subset of the series whose value is greater than 'n'.\n",
        "\n",
        "-----------\n",
        "\n",
        "Input: \n",
        "\n",
        "The first line contains a 1D list that will be converted to a Pandas series, and the second line contains an integer 'n'.\n",
        "\n",
        "------------\n",
        "\n",
        "Output: \n",
        "\n",
        "Rows of the series whose value is less than n\n",
        "\n",
        "\n",
        "\n",
        "    Sample Input 1: \n",
        "    [0, 1,2,3,4,5,6,7,8,9,10]\n",
        "\n",
        "    6\n",
        "\n",
        "    Sample Output 1: \n",
        "\n",
        "    0  0\n",
        "\n",
        "    1  1\n",
        "\n",
        "    2  2\n",
        "\n",
        "    3  3\n",
        "\n",
        "    4  4\n",
        "\n",
        "    5  5\n",
        "\n",
        "\n",
        "\n",
        "    Sample Input 2: \n",
        "    [8, 1,14,0,7,5,6,7,13,9,10]\n",
        "\n",
        "    5\n",
        "\n",
        "    Sample Output 2: \n",
        "\n",
        "    1  1\n",
        "\n",
        "    3  0"
      ],
      "metadata": {
        "id": "7RLLvAVhnk-p"
      }
    },
    {
      "cell_type": "code",
      "source": [
        "import pandas as pd\n",
        "import ast\n",
        "#input has been taken for you\n",
        "inp_list=ast.literal_eval(input())\n",
        "n=int(input())\n",
        "s = pd.Series(inp_list)\n",
        "\n",
        "new_s = s[s < n]\n",
        "print(new_s)"
      ],
      "metadata": {
        "id": "LeoeVskGiX0x"
      },
      "execution_count": 73,
      "outputs": []
    },
    {
      "cell_type": "markdown",
      "source": [
        "Series in Series\n",
        "-------\n",
        "\n",
        "Description\n",
        "\n",
        "Given two Pandas series, s1 and s2, write a program to print the elements of s1 that are not present in s2.\n",
        "\n",
        "----------------\n",
        "\n",
        "Input: \n",
        "\n",
        "The first line has a 1D list containing elements of the first series, s1 and the second line has another 1D list containing elements of the second series, s2.\n",
        "\n",
        "-----------\n",
        "\n",
        "Output:\n",
        "\n",
        "Rows of the series whose value.\n",
        "\n",
        "\n",
        "\n",
        "    Sample Input 1: [1, 2, 3, 4, 5]\n",
        "\n",
        "    [2, 4, 6, 8, 10]\n",
        "\n",
        "\n",
        "\n",
        "    Sample Output 1: \n",
        "\n",
        "    0  1\n",
        "\n",
        "    2  3\n",
        "\n",
        "    4  5\n",
        "\n",
        "\n",
        "\n",
        "Explanation:\n",
        "\n",
        "`Series 1 and 2 have elements 2 and 4 in common. Hence, the elements that belong to s1 but not s2 are 1, 3 and 5. The output is in pandas series format containing the index of the elements also.`\n",
        "\n",
        "\n",
        "\n",
        "    Sample Input 2: [8, 1,14,0,7,5,6,7,13,9,10]\n",
        "\n",
        "    [0, 1,2,3,4,5,6,7,8,9,10]\n",
        "\n",
        "\n",
        "\n",
        "    Sample Output 2: \n",
        "\n",
        "    2  14\n",
        "\n",
        "    8  13"
      ],
      "metadata": {
        "id": "p7ZLoU0pn1Zg"
      }
    },
    {
      "cell_type": "code",
      "source": [
        "import pandas as pd\n",
        "import ast\n",
        "# input has been taken for you\n",
        "inp_list1=ast.literal_eval(input())\n",
        "inp_list2=ast.literal_eval(input())\n",
        "s1 = pd.Series(inp_list1)\n",
        "s2 = pd.Series(inp_list2)\n",
        "\n",
        "# Write your code here\n",
        "print(s1[~s1.isin(s2)])"
      ],
      "metadata": {
        "colab": {
          "base_uri": "https://localhost:8080/"
        },
        "id": "_rZzxHH8oHqo",
        "outputId": "180bd7b4-e42f-4dec-ced8-d0ea20b54957"
      },
      "execution_count": 75,
      "outputs": [
        {
          "output_type": "stream",
          "name": "stdout",
          "text": [
            "[1, 2, 3, 4, 5]\n",
            "[2, 4, 6, 8, 10]\n",
            "0    1\n",
            "2    3\n",
            "4    5\n",
            "dtype: int64\n"
          ]
        }
      ]
    },
    {
      "cell_type": "markdown",
      "source": [
        "Rename Columns\n",
        "-------\n",
        "\n",
        "Description\n",
        "\n",
        "You have been given a dataset called 'heart'. Here are its first few rows:\n",
        "\n",
        "![ss](https://media-doselect.s3.amazonaws.com/generic/X0zPv5gWva9L34Po5L4ZRbkBj/image.png)\n",
        "\n",
        "As you can see, the column names are all lowercase. Your task is to capitalize the first character of every column present in it such that your dataframe looks like the following:\n",
        "\n",
        "![ss](https://media-doselect.s3.amazonaws.com/generic/K49dEnraoEVAM2z5EXQpaO830/image.png)\n",
        "\n",
        "You just need to write the code for capitalizing; you need not print anything as the print statement has already been provided in the stub."
      ],
      "metadata": {
        "id": "pVkwZ0igowhw"
      }
    },
    {
      "cell_type": "code",
      "source": [
        "# Importing the pandas package\n",
        "import pandas as pd\n",
        "\n",
        "# Reading the dataframe\n",
        "df = pd.read_csv('https://media-doselect.s3.amazonaws.com/generic/XWvQjYY4LZWdxLvPWOj2pPwn/heart.csv')\n",
        "\n",
        "# Access the columns of the dataframe using df.columns and apply the following\n",
        "# function which uses the ASCII values of the first character to capitalise the \n",
        "# first character of each word. As you know, the ASCII value of the lower cased \n",
        "# letters start with 97 (for 'a') and for upper case letters, it starts with 65\n",
        "# (for 'A'). So you just need to subtract 32.\n",
        "\n",
        "df.columns = df.columns.map(lambda x: x.replace(x[0], chr(ord(x[0]) - 32), 1))\n",
        "\n",
        "# Printing the final columns. Do not edit this part.\n",
        "print(df.columns)"
      ],
      "metadata": {
        "colab": {
          "base_uri": "https://localhost:8080/"
        },
        "id": "1CxjiXOxoi7d",
        "outputId": "39c3e07c-5a88-4101-dc22-cd8e521ab74a"
      },
      "execution_count": 76,
      "outputs": [
        {
          "output_type": "stream",
          "name": "stdout",
          "text": [
            "Index(['Age', 'Sex', 'Cp', 'Trestbps', 'Chol', 'Fbs', 'Restecg', 'Thalach',\n",
            "       'Exang', 'Oldpeak', 'Slope', 'Ca', 'Thal', 'Target'],\n",
            "      dtype='object')\n"
          ]
        }
      ]
    },
    {
      "cell_type": "markdown",
      "source": [
        "Risk of Diabetes Based on BMI\n",
        "---------\n",
        "\n",
        "Description\n",
        "\n",
        "You've been given the pima_indian_diabetes dataset. Here are its first few rows:\n",
        "\n",
        "![ss](https://media-doselect.s3.amazonaws.com/generic/3wrjgAy8O8PML4b34OwadbZN9/image.png)\n",
        "\n",
        "Notice the BMI and Diabetes column. You need to find the BMI which is most likely to cause Diabetes. First round the BMI to an integer value and return which BMI has the most risk of diabetes based on the 0, 1 diabetes values provided in the dataframe.\n",
        "\n",
        "------------\n",
        "\n",
        "Expected Output: \n",
        "\n",
        "Just print a single integer denoting the value of the required BMI. (Please only output an integer value. For example, if the output is 30.0 please convert it to int and output 30.). "
      ],
      "metadata": {
        "id": "5M0_1olupV-S"
      }
    },
    {
      "cell_type": "code",
      "source": [
        "# Import the Pandas package\n",
        "import pandas as pd \n",
        "\n",
        "# Reading the input dataframe\n",
        "pima = pd.read_csv('https://media-doselect.s3.amazonaws.com/generic/pLZK3n22ezVwAG2XOYW5qEx7V/pima_indian_diabetes.csv')\n",
        "\n",
        "# Round the BMI column\n",
        "pima['BMI'] = round(pima['BMI'])\n",
        "\n",
        "# Group the pima dataframe using the Diabetes column as values and BMI column\n",
        "# as the index. Also, specify the \n",
        "pima_g = pima.pivot_table(values = ['Diabetes'], index = 'BMI', aggfunc = 'sum')\n",
        "\n",
        "# Sort the dataframe by the diabetes column\n",
        "pima_g.sort_values(by = 'Diabetes', inplace = True, ascending = False)\n",
        "\n",
        "# Since BMI is present in the index of the grouped dataframe, just return the first\n",
        "# index\n",
        "print(int(pima_g.index[0]))"
      ],
      "metadata": {
        "colab": {
          "base_uri": "https://localhost:8080/"
        },
        "id": "XJsah7J8pInv",
        "outputId": "a3c22821-ff89-456a-8135-496aca701497"
      },
      "execution_count": 77,
      "outputs": [
        {
          "output_type": "stream",
          "name": "stdout",
          "text": [
            "34\n"
          ]
        }
      ]
    },
    {
      "cell_type": "markdown",
      "source": [
        "# Pandas Coding Questions - II"
      ],
      "metadata": {
        "id": "G9S8A9zypuQL"
      }
    },
    {
      "cell_type": "markdown",
      "source": [
        "Impute Missing Values\n",
        "-----------\n",
        "\n",
        "Description\n",
        "\n",
        "You're given a movies dataframe which contains quite a few aspects of some movies from 1916-2016. Here are the first few rows of the dataframe.\n",
        "\n",
        "\n",
        "![ss](https://media-doselect.s3.amazonaws.com/generic/MkWVpzypkvnKR3ON20yzBV3xz/image.png)\n",
        "\n",
        "image.png 26.77 KB\n",
        "\n",
        "------------\n",
        "\n",
        "There are a lot of columns that aren't visible. But you might have noticed straight away that there are quite a few missing values in the data frame. Two columns for instance, 'aspect_ratio' and 'facenumber_in_poster' also have a few missing values(NaN). Now, replace the missing values with the 'median' value of the respective columns and print the null value count for both.\n",
        "\n",
        "-----------\n",
        "\n",
        "Expected Output: \n",
        "\n",
        "First print the number of missing values in both of these columns, then output the median in both the columns and then impute the missing values with the respective medians and print the count of missing values again. Store all of these in a dictionary format like the following:\n",
        "\n",
        "\n",
        "\n",
        "    {'aspect_ratio_mv': 431, 'facenumber_in_poster_mv': 97}\n",
        "\n",
        "    {'aspect_ratio_median: 1.44, 'facenumber_in_poster': 2.0}\n",
        "\n",
        "    {'aspect_ratio_final': 0, 'facenumber_in_poster_final': 0}\n",
        "\n",
        "\n",
        "\n",
        "The code for the same has been provided in the stub; you just need to complete these dictionaries.\n",
        "\n",
        "---------------------\n",
        "\n",
        "Note: \n",
        "\n",
        "You don't need to use any print statement. The print statements have already been written; you just need to complete the dictionaries provided in the stub."
      ],
      "metadata": {
        "id": "m4hjOEjCpy3B"
      }
    },
    {
      "cell_type": "code",
      "source": [
        "# Importing the pandas package\n",
        "import pandas as pd \n",
        "\n",
        "# Reading the movies dataframe\n",
        "movies = pd.read_csv('https://media-doselect.s3.amazonaws.com/generic/1M2ZzY2M9PEBPJovgoaBgZdbM/movie_data.csv')\n",
        "\n",
        "# Your aim is to complete the following three print statements after all the colons\n",
        "\n",
        "# Get the null value counts in both the columns\n",
        "aspect_ratio_mv = movies['aspect_ratio'].isnull().sum()\n",
        "facenumber_in_poster_mv = movies['facenumber_in_poster'].isnull().sum()\n",
        "\n",
        "# Complete the first dictionary\n",
        "mv = {'aspect_ratio_mv': aspect_ratio_mv, 'facenumber_in_poster_mv': facenumber_in_poster_mv}\n",
        "\n",
        "# Get the median of both the columns\n",
        "aspect_ratio_median = movies['aspect_ratio'].median()\n",
        "facenumber_in_poster_median = movies['facenumber_in_poster'].median()\n",
        "\n",
        "# Complete the second dictionary\n",
        "median = {'aspect_ratio_median': aspect_ratio_median, 'facenumber_in_poster_median': facenumber_in_poster_median}\n",
        "\n",
        "movies.loc[pd.isnull(movies['aspect_ratio']), ['aspect_ratio']] = movies['aspect_ratio'].median()\n",
        "movies.loc[pd.isnull(movies['facenumber_in_poster']), ['facenumber_in_poster']] = movies['facenumber_in_poster'].median()\n",
        "\n",
        "# Get the final null value count of both the columns\n",
        "aspect_ratio_final = movies['aspect_ratio'].isnull().sum()\n",
        "facenumber_in_poster_final = movies['facenumber_in_poster'].isnull().sum()\n",
        "\n",
        "# Complete the third dictionary\n",
        "final = {'aspect_ratio_final': aspect_ratio_final, 'facenumber_in_poster_final': facenumber_in_poster_final}\n",
        "\n",
        "# Printing the values in the three dictionaries. Please do not edit this part\n",
        "print(sorted(mv.values()))\n",
        "print(sorted(median.values()))\n",
        "print(sorted(final.values()))"
      ],
      "metadata": {
        "colab": {
          "base_uri": "https://localhost:8080/"
        },
        "id": "94KOEJPAsY6e",
        "outputId": "c24e5d58-7138-425c-945c-806192d476d6"
      },
      "execution_count": 80,
      "outputs": [
        {
          "output_type": "stream",
          "name": "stdout",
          "text": [
            "[13, 329]\n",
            "[1.0, 2.35]\n",
            "[0, 0]\n"
          ]
        }
      ]
    },
    {
      "cell_type": "code",
      "source": [
        "# Importing the pandas package\n",
        "import pandas as pd \n",
        "import ssl\n",
        "ssl._create_default_https_context = ssl._create_unverified_context\n",
        "\n",
        "# Reading the movies dataframe\n",
        "movies = pd.read_csv('https://query.data.world/s/zlr77ctyxez3kv6zqn6nn5six42cfq')\n",
        "\n",
        "# Your aim is to complete the following three print statements after all the colons\n",
        "\n",
        "aspect_null = movies['aspect_ratio'].isnull().sum()\n",
        "facnum_null = movies['facenumber_in_poster'].isnull().sum()\n",
        "aspect_med = movies['aspect_ratio'].median()\n",
        "face_med =   movies['facenumber_in_poster'].median()\n",
        "movies[\"aspect_ratio\"].fillna(aspect_med, inplace = True)\n",
        "movies[\"facenumber_in_poster\"].fillna(face_med, inplace = True)\n",
        "aspect_ratio_final = movies['aspect_ratio'].isnull().sum()\n",
        "facenumber_in_poster_final = movies['facenumber_in_poster'].isnull().sum()\n",
        "\n",
        "mv = {'aspect_ratio_mv':aspect_null , 'facenumber_in_poster_mv':facnum_null }\n",
        "median = {'aspect_ratio_median':aspect_med , 'facenumber_in_poster_median':face_med }\n",
        "final = {'aspect_ratio_final':aspect_ratio_final , 'facenumber_in_poster_final':facenumber_in_poster_final }\n",
        "\n",
        "\n",
        "# Printing the values in the three dictionaries. Please do not edit this part\n",
        "print(sorted(mv.values()))\n",
        "print(sorted(median.values()))\n",
        "print(sorted(final.values()))"
      ],
      "metadata": {
        "colab": {
          "base_uri": "https://localhost:8080/"
        },
        "id": "1dwyYZJppltX",
        "outputId": "1ffddf0c-42bd-4833-ddc6-59c15d2fdd0d"
      },
      "execution_count": 78,
      "outputs": [
        {
          "output_type": "stream",
          "name": "stdout",
          "text": [
            "[13, 329]\n",
            "[1.0, 2.35]\n",
            "[0, 0]\n"
          ]
        }
      ]
    },
    {
      "cell_type": "markdown",
      "source": [
        "Removing Missing Values\n",
        "----------\n",
        "\n",
        "Description\n",
        "\n",
        "Consider the movie dataset again. Here are the first few rows of the same:\n",
        "\n",
        "![ss](https://media-doselect.s3.amazonaws.com/generic/XjevxRZE3X94JeVy92QO7kYRQ/image.png)\n",
        "\n",
        "`Now, while you imputed missing values in the last question, there are a few columns for which imputing the missing values won't be wise and it's better just to drop them.`\n",
        "\n",
        "\n",
        "There are two columns 'actor_1_facebook_likes' and 'actor_2_facebook_likes' which have quite a few missing values but since you have less data points, you don't want to drop many of them. For a hypothetical analysis that you're conducting, it will be okay if one of them has a missing value but you can't afford to have both missing values. So your aim here is to find the indices of the rows in which both of these columns have missing values simultaneously.\n",
        "\n",
        "------------\n",
        "\n",
        "Expected Output:\n",
        "\n",
        "- First print the indices of the rows where both these columns have missing values. The print statement has been provided in the stub. You just need to fill it. \n",
        "- After you have printed the above indices, drop these particular rows and print the number of retained rows in the dataframe.\n",
        "\n",
        "\n",
        "    A sample output would look like the following:\n",
        "\n",
        "    [389, 1019, 1178, 3400, 4012]\n",
        "    4847\n",
        "\n",
        "Here, the list in the first line indicates a sample list which indicates the indices of the rows where both of the columns have missing values. And the second line represents the number of rows remaining in the dataframe after you have dropped the above rows."
      ],
      "metadata": {
        "id": "faJ8BAeCrUpC"
      }
    },
    {
      "cell_type": "code",
      "source": [
        "# Importing the pandas package\n",
        "import pandas as pd \n",
        "\n",
        "# Reading the dataframe\n",
        "movies = pd.read_csv('https://query.data.world/s/lqdline2c7rnci4bf4dwjsok6d26jd')\n",
        "\n",
        "# Find out the indices of the rows in which both these columns have missing values\n",
        "print(list(movies[(movies['actor_1_facebook_likes'].isnull()) & (movies['actor_2_facebook_likes'].isnull())].index))\n",
        "\n",
        "# Drop these particular rows\n",
        "movies = movies[~((movies['actor_1_facebook_likes'].isnull()) & (movies['actor_2_facebook_likes'].isnull()))]\n",
        "\n",
        "# Print the number of remaining rows\n",
        "print(movies.shape[0])"
      ],
      "metadata": {
        "colab": {
          "base_uri": "https://localhost:8080/"
        },
        "id": "5Ctyyu9YsiE6",
        "outputId": "c48976dc-a50a-4d0b-cec4-76e610501272"
      },
      "execution_count": 83,
      "outputs": [
        {
          "output_type": "stream",
          "name": "stdout",
          "text": [
            "[4502, 4519, 4720, 4837, 4945, 4946, 4990]\n",
            "5036\n"
          ]
        }
      ]
    },
    {
      "cell_type": "code",
      "source": [
        "import pandas as pd \n",
        "import ssl\n",
        "ssl._create_default_https_context = ssl._create_unverified_context\n",
        "\n",
        "\n",
        "# Reading the dataframe\n",
        "movies = pd.read_csv('https://query.data.world/s/lqdline2c7rnci4bf4dwjsok6d26jd')\n",
        "\n",
        "null_index_col2  = movies[movies['actor_2_facebook_likes'].isnull()].index.tolist()\n",
        "null_index_col1  = movies[movies['actor_1_facebook_likes'].isnull()].index.tolist()\n",
        "col_values = null_index_col1 or null_index_col2\n",
        "\n",
        "print(col_values)\n",
        "dropped_movies = movies.drop(movies.index[col_values])\n",
        "\n",
        "print(len(dropped_movies))"
      ],
      "metadata": {
        "colab": {
          "base_uri": "https://localhost:8080/"
        },
        "id": "qJLhg-D8rG_Y",
        "outputId": "0cdbd184-93bd-44d0-dfb0-48c3d5390dc7"
      },
      "execution_count": 79,
      "outputs": [
        {
          "output_type": "stream",
          "name": "stdout",
          "text": [
            "[4502, 4519, 4720, 4837, 4945, 4946, 4990]\n",
            "5036\n"
          ]
        }
      ]
    },
    {
      "cell_type": "markdown",
      "source": [
        "Data Analysis\n",
        "----------\n",
        "\n",
        "Description\n",
        "\n",
        "`This time you've a fully cleaned movie dataset. The first few rows of the dataset are shown below:`\n",
        "\n",
        "![ss](https://media-doselect.s3.amazonaws.com/generic/A0P09oQMxwveeYW82O40eZ3qA/image.png)\n",
        "\n",
        "You're a producer looking to make a blockbuster movie. There will primarily be three lead roles in your movie and you wish to cast the most popular actors for it. Now, since you don't want to take a risk, you will cast a trio which has already acted in together in a movie before. The metric that you've chosen to check the popularity is the Facebook likes of each of these actors.\n",
        "\n",
        "--------------\n",
        "\n",
        "The dataframe has three columns to help you out for the same, viz. \n",
        "\n",
        "    'actor_1_facebook_likes',\n",
        "    'actor_2_facebook_likes', and\n",
        "    'actor_3_facebook_likes'. \n",
        "\n",
        "Your objective is to find the trio which has the most number of Facebook likes combined. But there is a small condition which is that none of the three actors' Facebook likes should be less than half of the other two. For example, the following is a valid combo:\n",
        "\n",
        "    actor_1_facebook_likes: 70000\n",
        "    actor_2_facebook_likes: 40000\n",
        "    actor_3_facebook_likes: 50000\n",
        "\n",
        "But the below one is not:\n",
        "\n",
        "    actor_1_facebook_likes: 70000\n",
        "    actor_2_facebook_likes: 40000\n",
        "    actor_3_facebook_likes: 30000\n",
        "\n",
        "since in this case, actor_3_facebook_likes is 30000, which is less than half of actor_1_facebook_likes.\n",
        "\n",
        "------------\n",
        "\n",
        "Expected Output: \n",
        "\n",
        "Find out the most popular trio and print them as a list sorted in alphabetical order. \n",
        "\n",
        "For example:\n",
        "\n",
        "    ['Brad Pitt', 'Jake Gyllenhaal' 'Meryl Streep']"
      ],
      "metadata": {
        "id": "jVUQER7Is8-z"
      }
    },
    {
      "cell_type": "code",
      "source": [
        "# Importing the pandas package\n",
        "import pandas as pd\n",
        "\n",
        "# Reading the movies file\n",
        "movies = pd.read_csv('https://media-doselect.s3.amazonaws.com/generic/pLLQowB8OYx0oBWdMbY4gp4wb/movies_final%20(2).csv', sep='\\t')\n",
        "\n",
        "# Group the dataframe using the actor names as indices and facebook likes as values\n",
        "group = movies.pivot_table(values = ['actor_1_facebook_likes', 'actor_2_facebook_likes', 'actor_3_facebook_likes'],\n",
        "                           index = ['actor_1_name', 'actor_2_name', 'actor_3_name'], aggfunc='sum')\n",
        "                           \n",
        "# Create a new column 'Total likes' which will contain the sum of likes of all three actors \n",
        "group['Total likes'] = group['actor_1_facebook_likes'] + group['actor_2_facebook_likes'] + group['actor_3_facebook_likes']\n",
        "\n",
        "# Sort the dataframe using the 'Total likes' column\n",
        "group.sort_values(by=['Total likes'], inplace=True, ascending = False)\n",
        "\n",
        "# Reset the index of the grouped dataframe so you can access the indices as columns easily\n",
        "group.reset_index(inplace=True)\n",
        "\n",
        "# Initialise the value of a variable 'j' to 0. This variable will be used to keep\n",
        "# a track of the rows during the loop iteration\n",
        "j = 0\n",
        "\n",
        "# Run a loop through the length of the column 'Total likes'\n",
        "for i in group['Total likes']:\n",
        "# Sort the facebook likes of three actors and store them in a variable 'temp'    \n",
        "    temp = sorted([group.loc[j,'actor_1_facebook_likes'], group.loc[j,'actor_2_facebook_likes'], group.loc[j,'actor_3_facebook_likes']])\n",
        "\n",
        "# Check if the smallest value in temp is greater than half the value of the other two\n",
        "# And also check if the middle value is greater than half the value of the max value\n",
        "    if temp[0] >= temp[1]/2 and temp[0] >= temp[2]/2 and temp[1] >= temp[2]/2:\n",
        "# If the above condition satisfies, print the correspoding actor names as a sorted list \n",
        "# and break the loop\n",
        "        print(sorted([group.loc[j, 'actor_1_name'], group.loc[j, 'actor_2_name'], group.loc[j, 'actor_3_name']]))\n",
        "        break\n",
        "# Keep incrementing the value of j with every loop interation    \n",
        "    j += 1 "
      ],
      "metadata": {
        "colab": {
          "base_uri": "https://localhost:8080/"
        },
        "id": "ZUoVlQZSw0ad",
        "outputId": "1ad7722d-1b8a-4b8a-8f4e-514fdb25253b"
      },
      "execution_count": 97,
      "outputs": [
        {
          "output_type": "stream",
          "name": "stdout",
          "text": [
            "['Chris Hemsworth', 'Robert Downey Jr.', 'Scarlett Johansson']\n"
          ]
        }
      ]
    },
    {
      "cell_type": "code",
      "source": [
        "# Importing the pandas package\n",
        "import pandas as pd\n",
        "\n",
        "url = 'https://media-doselect.s3.amazonaws.com/generic/pLLQowB8OYx0oBWdMbY4gp4wb/movies_final (2).csv'\n",
        "# https://stackoverflow.com/a/69811079/11493297\n",
        "url = url.replace(\" \", \"%20\")\n",
        "\n",
        "# Reading the movies file\n",
        "movies = pd.read_csv(url, sep='\\t')\n",
        "\n",
        "# Write your code here\n",
        "act1= movies['actor_1_facebook_likes']/2\n",
        "act2= movies['actor_2_facebook_likes']/2\n",
        "act3= movies['actor_3_facebook_likes']/2\n",
        "\n",
        "a=((movies['actor_1_facebook_likes'] > act1) & (movies['actor_1_facebook_likes']>act3))\n",
        "b=((movies['actor_2_facebook_likes'] > act2) & (movies['actor_2_facebook_likes']>act3))\n",
        "c=((movies['actor_3_facebook_likes'] > act3) & (movies['actor_3_facebook_likes']>act2))\n",
        "eligible=a & b & c\n",
        "\n",
        "movies[\"eligible\"]=eligible\n",
        "output = movies.loc[eligible,['eligible','actor_1_name','actor_2_name','actor_3_name']].head(5)\n",
        "output = list(output.iloc[-1])[1:]\n",
        "print(output)"
      ],
      "metadata": {
        "colab": {
          "base_uri": "https://localhost:8080/"
        },
        "id": "_yOS_NLgr8Hs",
        "outputId": "c502a8db-0bad-4e8f-d2ff-e73863994961"
      },
      "execution_count": 93,
      "outputs": [
        {
          "output_type": "stream",
          "name": "stdout",
          "text": [
            "['Chris Hemsworth', 'Robert Downey Jr.', 'Scarlett Johansson']\n"
          ]
        }
      ]
    },
    {
      "cell_type": "code",
      "source": [],
      "metadata": {
        "id": "UjX0gYntu4MM"
      },
      "execution_count": null,
      "outputs": []
    }
  ]
}