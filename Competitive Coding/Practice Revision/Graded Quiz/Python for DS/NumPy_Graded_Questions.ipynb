{
  "nbformat": 4,
  "nbformat_minor": 0,
  "metadata": {
    "colab": {
      "provenance": []
    },
    "kernelspec": {
      "name": "python3",
      "display_name": "Python 3"
    },
    "language_info": {
      "name": "python"
    }
  },
  "cells": [
    {
      "cell_type": "markdown",
      "source": [
        "Index of 50th element\n",
        "---------\n",
        "\n",
        "Consider an (8, 8) shape NumPy array. What is the index (x,y) of the 50th element?\n",
        "\n",
        "Note: For counting the elements go row-wise. For example, in the array,\n",
        "\n",
        "    [[1, 5, 9],\n",
        "\n",
        "    [3, 0, 2]]\n",
        "\n",
        "the 5th element would be '0'.\n",
        "\n",
        "\n",
        "    (6, 1)\n",
        "\n",
        "    You can create an 8 x 8 array using np.array(range(1, 8*8+1)),\n",
        "    reshape it to an (8 x 8) array and then, check the position of 50. \n",
        "\n",
        "    Be clear that the indexing starts from 0; \n",
        "    hence, the 7th row will have the index 6.\n",
        "\n",
        "    Alternatively, you can also use np.unravel_index(49, (8,8)) on the created array.\n",
        "\n",
        "\n",
        "- (6, 2)\n",
        "\n",
        "\n",
        "- (7, 1)\n",
        "\n",
        "\n",
        "- (7, 2)"
      ],
      "metadata": {
        "id": "3xMJYub3usKi"
      }
    },
    {
      "cell_type": "code",
      "execution_count": 2,
      "metadata": {
        "colab": {
          "base_uri": "https://localhost:8080/"
        },
        "id": "m6ktMK1ZuLLY",
        "outputId": "8dcee34b-0d14-43ba-f2ee-852b28de40f1"
      },
      "outputs": [
        {
          "output_type": "execute_result",
          "data": {
            "text/plain": [
              "(6, 1)"
            ]
          },
          "metadata": {},
          "execution_count": 2
        }
      ],
      "source": [
        "import numpy as np\n",
        "np.unravel_index(49, (8,8))"
      ]
    },
    {
      "cell_type": "markdown",
      "source": [
        "Slicing Arrays\n",
        "-----\n",
        "\n",
        "Which of the following would extract all the first 3 rows of the last 5 columns in a given numpy 2D array ‘a’?\n",
        "\n",
        "\n",
        "- a[ :3, :5 ]\n",
        "\n",
        "\n",
        "- a[ :3 , 5: ] \n",
        "\n",
        "\n",
        "- a[ :3 , :-5 ]\n",
        "\n",
        "\n",
        "    a[ :3 , -5: ]\n",
        "\n",
        "    This would extract the first 3 rows and the last five columns. \n",
        "    The index after the comma, i.e., the index representing the columns specifies \"-5:\". \n",
        "    This will extract all the columns starting from the 5th last column. "
      ],
      "metadata": {
        "id": "w4kwGRVtvKXb"
      }
    },
    {
      "cell_type": "markdown",
      "source": [
        "So Many Functions\n",
        "------------\n",
        "\n",
        "What will the output of np.arange(1,16,2).reshape(4, 2) be?\n",
        "\n",
        "------------\n",
        "\n",
        "`Feedback:`\n",
        "\n",
        "np.arange(1,16,2) returns the following array:\n",
        "\n",
        "    [ 1,  3,  5,  7,  9, 11, 13, 15]\n",
        "\n",
        "\n",
        "The reshape(4, 2) function then reshapes it into a (4 x 2) matrix. Hence, the matrix now becomes -\n",
        "\n",
        "    [[ 1,  3],\n",
        "      [ 5,  7],\n",
        "      [ 9, 11],\n",
        "      [13, 15]]"
      ],
      "metadata": {
        "id": "a-pZ83uFv18C"
      }
    },
    {
      "cell_type": "code",
      "source": [
        "arr = np.arange(1,16,2)\n",
        "arr"
      ],
      "metadata": {
        "colab": {
          "base_uri": "https://localhost:8080/"
        },
        "id": "YFoQDNOAu9PL",
        "outputId": "28a660cc-4b86-4735-f6c2-ae76eac9091f"
      },
      "execution_count": 4,
      "outputs": [
        {
          "output_type": "execute_result",
          "data": {
            "text/plain": [
              "array([ 1,  3,  5,  7,  9, 11, 13, 15])"
            ]
          },
          "metadata": {},
          "execution_count": 4
        }
      ]
    },
    {
      "cell_type": "code",
      "source": [
        "arr.reshape(4, 2)"
      ],
      "metadata": {
        "colab": {
          "base_uri": "https://localhost:8080/"
        },
        "id": "LS2WfoZ7v5k-",
        "outputId": "842cbafb-771a-46e7-dc4a-e39532c5b728"
      },
      "execution_count": 5,
      "outputs": [
        {
          "output_type": "execute_result",
          "data": {
            "text/plain": [
              "array([[ 1,  3],\n",
              "       [ 5,  7],\n",
              "       [ 9, 11],\n",
              "       [13, 15]])"
            ]
          },
          "metadata": {},
          "execution_count": 5
        }
      ]
    },
    {
      "cell_type": "markdown",
      "source": [
        "Print \"+\"\n",
        "---------\n",
        "\n",
        "Description\n",
        "\n",
        "Given a single positive odd integer 'n' greater than 2, create a NumPy array of size (n x n) with all zeros and ones such that the ones make a shape like '+'. The lines of the plus must be present at the middle row and column.\n",
        "\n",
        "Hint: \n",
        "\n",
        "Start by creating a (n x n) array with all zeroes using the np.zeros() function and then fill in the ones at the appropriate indices. Use integer division (//) to access the middle rows and columns\n",
        "\n",
        "`Examples:`\n",
        "\n",
        "    Input 1:\n",
        "    3\n",
        "\n",
        "    Output 1:\n",
        "\n",
        "    [[0 1 0]\n",
        "    [1 1 1]\n",
        "    [0 1 0]]\n",
        "\n",
        "    Input 2:\n",
        "    5\n",
        "\n",
        "    Output 1:\n",
        "\n",
        "    [[0 0 1 0 0]\n",
        "    [0 0 1 0 0]\n",
        "    [1 1 1 1 1]\n",
        "    [0 0 1 0 0]\n",
        "    [0 0 1 0 0]]\n",
        "\n",
        "Explanation: \n",
        "\n",
        "Notice that the 1s in the arrays make a shape like '+'."
      ],
      "metadata": {
        "id": "mubk0tfewtWj"
      }
    },
    {
      "cell_type": "code",
      "source": [
        "import numpy as np\n",
        "\n",
        "# inp = int(input())\n",
        "inp = 5\n",
        "\n",
        "arr = np.zeros((inp, inp), dtype = int)\n",
        "arr"
      ],
      "metadata": {
        "colab": {
          "base_uri": "https://localhost:8080/"
        },
        "id": "nZkelYG3wS_z",
        "outputId": "6155bcd4-ac5b-478a-9384-a1cb38c479e8"
      },
      "execution_count": 9,
      "outputs": [
        {
          "output_type": "execute_result",
          "data": {
            "text/plain": [
              "array([[0, 0, 0, 0, 0],\n",
              "       [0, 0, 0, 0, 0],\n",
              "       [0, 0, 0, 0, 0],\n",
              "       [0, 0, 0, 0, 0],\n",
              "       [0, 0, 0, 0, 0]])"
            ]
          },
          "metadata": {},
          "execution_count": 9
        }
      ]
    },
    {
      "cell_type": "code",
      "source": [
        "arr[inp//2] = 1 # middle row\n",
        "arr"
      ],
      "metadata": {
        "colab": {
          "base_uri": "https://localhost:8080/"
        },
        "id": "6LepEbmpxWye",
        "outputId": "a2bb9c1b-6cb0-4fdb-e106-7965a64f567f"
      },
      "execution_count": 11,
      "outputs": [
        {
          "output_type": "execute_result",
          "data": {
            "text/plain": [
              "array([[0, 0, 0, 0, 0],\n",
              "       [0, 0, 0, 0, 0],\n",
              "       [1, 1, 1, 1, 1],\n",
              "       [0, 0, 0, 0, 0],\n",
              "       [0, 0, 0, 0, 0]])"
            ]
          },
          "metadata": {},
          "execution_count": 11
        }
      ]
    },
    {
      "cell_type": "code",
      "source": [
        "for i in range(inp):\n",
        "  arr[i, inp//2] = 1 # middle column for each row\n",
        "\n",
        "arr"
      ],
      "metadata": {
        "colab": {
          "base_uri": "https://localhost:8080/"
        },
        "id": "zPFabMS_x1VQ",
        "outputId": "7d41cd27-ea22-463a-b376-f774e17339f8"
      },
      "execution_count": 12,
      "outputs": [
        {
          "output_type": "execute_result",
          "data": {
            "text/plain": [
              "array([[0, 0, 1, 0, 0],\n",
              "       [0, 0, 1, 0, 0],\n",
              "       [1, 1, 1, 1, 1],\n",
              "       [0, 0, 1, 0, 0],\n",
              "       [0, 0, 1, 0, 0]])"
            ]
          },
          "metadata": {},
          "execution_count": 12
        }
      ]
    },
    {
      "cell_type": "code",
      "source": [
        "# Ans.\n",
        "\n",
        "# Read the input\n",
        "n = int(input())\n",
        "\n",
        "# Import the NumPy package\n",
        "import numpy as np \n",
        "\n",
        "# Create an (n x n) array with all zeros\n",
        "z = np.zeros((n, n), dtype = int)\n",
        "\n",
        "# Make the middle row and middle column all 1s\n",
        "z[n//2, :] = 1\n",
        "z[: , n//2] = 1\n",
        "    \n",
        "# Print the final value of z    \n",
        "print(z)"
      ],
      "metadata": {
        "colab": {
          "base_uri": "https://localhost:8080/"
        },
        "id": "OYFGMVyOyXld",
        "outputId": "8557bf3a-d71d-4ea2-be3e-b75332bd3e60"
      },
      "execution_count": 13,
      "outputs": [
        {
          "output_type": "stream",
          "name": "stdout",
          "text": [
            "3\n",
            "[[0 1 0]\n",
            " [1 1 1]\n",
            " [0 1 0]]\n"
          ]
        }
      ]
    },
    {
      "cell_type": "code",
      "source": [],
      "metadata": {
        "id": "nK_wWzMUywBZ"
      },
      "execution_count": null,
      "outputs": []
    }
  ]
}