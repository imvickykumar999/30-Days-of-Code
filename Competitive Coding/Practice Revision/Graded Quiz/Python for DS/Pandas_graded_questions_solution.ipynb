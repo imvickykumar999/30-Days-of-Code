{
  "cells": [
    {
      "cell_type": "code",
      "execution_count": 1,
      "metadata": {
        "id": "-vf0sqmVz81G"
      },
      "outputs": [],
      "source": [
        "import numpy as np\n",
        "import pandas as pd"
      ]
    },
    {
      "cell_type": "code",
      "execution_count": 2,
      "metadata": {
        "id": "azJXBUVJz81K"
      },
      "outputs": [],
      "source": [
        "df = pd.read_csv(\"MegaMart_sales.csv\")"
      ]
    },
    {
      "cell_type": "code",
      "execution_count": 3,
      "metadata": {
        "id": "1CvOPiC6z81L"
      },
      "outputs": [],
      "source": [
        "df_new = pd.read_csv(\"MegaMart_newsales.csv\")"
      ]
    },
    {
      "cell_type": "markdown",
      "metadata": {
        "id": "NSe22WvCz81O"
      },
      "source": [
        "#### Combining two data frames\n",
        "Question 1: Some of the orders are stored in another csv file named `megamart_new sales`. Read the csv file, store it in a data frame and add it to the `megamart_sales` data frame. Find the total sales value of the category 'Office Supplies'  after combining the dataframes\n",
        "\n",
        "    a)7970\n",
        "    b)6964\n",
        "    c)7494\n",
        "    d)6076"
      ]
    },
    {
      "cell_type": "code",
      "execution_count": 4,
      "metadata": {
        "colab": {
          "base_uri": "https://localhost:8080/"
        },
        "id": "QJYGgTkkz81P",
        "outputId": "841a2b73-fa1a-46d9-f7a7-7f698f4cfe56"
      },
      "outputs": [
        {
          "output_type": "execute_result",
          "data": {
            "text/plain": [
              "Category\n",
              "Furniture          2460\n",
              "Office Supplies    7970\n",
              "Technology         8588\n",
              "Name: Sales, dtype: int64"
            ]
          },
          "metadata": {},
          "execution_count": 4
        }
      ],
      "source": [
        "df=pd.concat([df,df_new],axis=0,ignore_index=True) \n",
        "df.groupby(by='Category').Sales.sum()"
      ]
    },
    {
      "cell_type": "markdown",
      "metadata": {
        "id": "e6187m9Yz81S"
      },
      "source": [
        "#### Dropping duplicates\n",
        "Question 2: There are some duplicate rows in the data frame. Drop these rows and calculate the total sales value of the category Office Supplies.\n",
        "\n",
        "    a)7156\n",
        "    b)6496\n",
        "    c)6964\n",
        "    d)6023"
      ]
    },
    {
      "cell_type": "code",
      "execution_count": 5,
      "metadata": {
        "id": "Bc9S1qtPz81T",
        "outputId": "f64dbee8-bb4d-4afd-bda0-49edea5de258",
        "colab": {
          "base_uri": "https://localhost:8080/"
        }
      },
      "outputs": [
        {
          "output_type": "execute_result",
          "data": {
            "text/plain": [
              "Category\n",
              "Furniture          2460\n",
              "Office Supplies    6964\n",
              "Technology         7494\n",
              "Name: Sales, dtype: int64"
            ]
          },
          "metadata": {},
          "execution_count": 5
        }
      ],
      "source": [
        "df.drop_duplicates(subset=None,keep='first',inplace = True)\n",
        "df.groupby(by='Category').Sales.sum()"
      ]
    },
    {
      "cell_type": "markdown",
      "metadata": {
        "id": "Ywk-023Oz81T"
      },
      "source": [
        "#### Best category-sub category \n",
        "Question 3: Find the most profitable category and sub category combination based on the net profit.\n",
        "\n",
        "\n",
        "    a)Furniture-Bookcases\n",
        "    b)Office supplies-Appliances\n",
        "    c)Office supplies-Storage\n",
        "    d)Technology-Phones"
      ]
    },
    {
      "cell_type": "code",
      "execution_count": 6,
      "metadata": {
        "id": "yl-hJndIz81U",
        "outputId": "d15ec230-42ca-4a6f-a000-3c32ad78dfa8",
        "colab": {
          "base_uri": "https://localhost:8080/"
        }
      },
      "outputs": [
        {
          "output_type": "execute_result",
          "data": {
            "text/plain": [
              "Category         Sub-Category\n",
              "Furniture        Bookcases        308\n",
              "                 Chairs           -49\n",
              "                 Furnishings       74\n",
              "Office Supplies  Appliances       229\n",
              "                 Art              275\n",
              "                 Binders          156\n",
              "                 Envelopes         35\n",
              "                 Fasteners         10\n",
              "                 Labels            30\n",
              "                 Paper             15\n",
              "                 Storage          192\n",
              "                 Supplies         103\n",
              "Technology       Accessories      215\n",
              "                 Copiers            0\n",
              "                 Machines         168\n",
              "                 Phones          1618\n",
              "Name: Profit, dtype: int64"
            ]
          },
          "metadata": {},
          "execution_count": 6
        }
      ],
      "source": [
        "df.groupby(by=['Category','Sub-Category']).Profit.sum()"
      ]
    },
    {
      "cell_type": "markdown",
      "metadata": {
        "id": "kVOJWtyYz81V"
      },
      "source": [
        "#### Invalid order IDs\n",
        "Question 4: How many invalid Order IDs are there in the data frame. Order ID is of the form AZ-2011-Y where Y represents a whole number. An Order ID is said to be valid only if Y consists of 7 digits. Find the number of `invalid order IDs` in the data frame.\n",
        "\n",
        "Note: Use duplicates dropped data frame\n",
        "    \n",
        "    a)6\n",
        "    b)7\n",
        "    c)8\n",
        "    d)9\n"
      ]
    },
    {
      "cell_type": "code",
      "execution_count": 7,
      "metadata": {
        "id": "AtuiLMUSz81W",
        "outputId": "19ca3d27-113e-4495-e0c8-bec030f226a6",
        "colab": {
          "base_uri": "https://localhost:8080/"
        }
      },
      "outputs": [
        {
          "output_type": "execute_result",
          "data": {
            "text/plain": [
              "7    54\n",
              "6     7\n",
              "Name: no_of_digits, dtype: int64"
            ]
          },
          "metadata": {},
          "execution_count": 7
        }
      ],
      "source": [
        "df['Order no']=df['Order ID'].str.split('-')\n",
        "\n",
        "df['Order no']=df['Order no'].apply(lambda x: x[2])\n",
        "\n",
        "df['no_of_digits']=df['Order no'].apply(lambda x: len(x))\n",
        "\n",
        "df['no_of_digits'].value_counts()"
      ]
    },
    {
      "cell_type": "markdown",
      "metadata": {
        "id": "-ENI5tKpz81Y"
      },
      "source": [
        "#### Occurence of furniture in top 25 sales\n",
        "Question 5: Find the top 25 orders based on sales value and find the number of orders which belong to furniture category.\n",
        "\n",
        "    a)2\n",
        "    b)3\n",
        "    c)4\n",
        "    d)5 "
      ]
    },
    {
      "cell_type": "code",
      "execution_count": 8,
      "metadata": {
        "id": "zJcRMMm4z81Y",
        "outputId": "408a8c21-b1ea-4408-ca58-9f464b820aac",
        "colab": {
          "base_uri": "https://localhost:8080/"
        }
      },
      "outputs": [
        {
          "output_type": "execute_result",
          "data": {
            "text/plain": [
              "Office Supplies    11\n",
              "Technology          9\n",
              "Furniture           5\n",
              "Name: Category, dtype: int64"
            ]
          },
          "metadata": {},
          "execution_count": 8
        }
      ],
      "source": [
        "df2=df.sort_values(by='Sales', ascending=False)\n",
        "df2=df2.iloc[:25,]\n",
        "df2['Category'].value_counts()"
      ]
    },
    {
      "cell_type": "markdown",
      "metadata": {
        "id": "KQVgCK5Vz81Z"
      },
      "source": [
        "#### And operation\n",
        "Question 6: Among the orders with sales>250 and profit>50, find the product name of the fourth highest order based on sales value.\n",
        "\n",
        "Note: Use duplicates dropped data frame\n",
        "\n",
        "    a)Motorola Headset, with Caller ID\n",
        "    b)Panasonic Printer, Durable\t\n",
        "    c)Hoover Microwave, Red\t\n",
        "    d)Fellowes Lockers, Industrial\t"
      ]
    },
    {
      "cell_type": "code",
      "execution_count": 9,
      "metadata": {
        "id": "H9J-okFCz81a",
        "outputId": "1e1a3349-4f13-4846-8a5a-6feb567292a1",
        "colab": {
          "base_uri": "https://localhost:8080/",
          "height": 513
        }
      },
      "outputs": [
        {
          "output_type": "execute_result",
          "data": {
            "text/plain": [
              "           Order ID                      Product Name  Discount  Sales  \\\n",
              "30  AZ-2011-1410648      Nokia Smart Phone, Full Size       0.0   1908   \n",
              "58   AZ-2011-176674             Hoover Microwave, Red       0.1   1667   \n",
              "8   AZ-2011-1174243  Nokia Audio Dock, with Caller ID       0.0   1334   \n",
              "20  AZ-2011-1322840  Motorola Headset, with Caller ID       0.0    957   \n",
              "3   AZ-2011-1372644        Panasonic Printer, Durable       0.0    800   \n",
              "\n",
              "    Profit  Quantity         Category Sub-Category Order no  no_of_digits  \n",
              "30     820         3       Technology       Phones  1410648             7  \n",
              "58     185         6  Office Supplies   Appliances   176674             6  \n",
              "8      200         8       Technology       Phones  1174243             7  \n",
              "20     316        12       Technology       Phones  1322840             7  \n",
              "3      168         3       Technology     Machines  1372644             7  "
            ],
            "text/html": [
              "\n",
              "  <div id=\"df-0ba325f0-4d9d-483a-92bb-633008b35c57\">\n",
              "    <div class=\"colab-df-container\">\n",
              "      <div>\n",
              "<style scoped>\n",
              "    .dataframe tbody tr th:only-of-type {\n",
              "        vertical-align: middle;\n",
              "    }\n",
              "\n",
              "    .dataframe tbody tr th {\n",
              "        vertical-align: top;\n",
              "    }\n",
              "\n",
              "    .dataframe thead th {\n",
              "        text-align: right;\n",
              "    }\n",
              "</style>\n",
              "<table border=\"1\" class=\"dataframe\">\n",
              "  <thead>\n",
              "    <tr style=\"text-align: right;\">\n",
              "      <th></th>\n",
              "      <th>Order ID</th>\n",
              "      <th>Product Name</th>\n",
              "      <th>Discount</th>\n",
              "      <th>Sales</th>\n",
              "      <th>Profit</th>\n",
              "      <th>Quantity</th>\n",
              "      <th>Category</th>\n",
              "      <th>Sub-Category</th>\n",
              "      <th>Order no</th>\n",
              "      <th>no_of_digits</th>\n",
              "    </tr>\n",
              "  </thead>\n",
              "  <tbody>\n",
              "    <tr>\n",
              "      <th>30</th>\n",
              "      <td>AZ-2011-1410648</td>\n",
              "      <td>Nokia Smart Phone, Full Size</td>\n",
              "      <td>0.0</td>\n",
              "      <td>1908</td>\n",
              "      <td>820</td>\n",
              "      <td>3</td>\n",
              "      <td>Technology</td>\n",
              "      <td>Phones</td>\n",
              "      <td>1410648</td>\n",
              "      <td>7</td>\n",
              "    </tr>\n",
              "    <tr>\n",
              "      <th>58</th>\n",
              "      <td>AZ-2011-176674</td>\n",
              "      <td>Hoover Microwave, Red</td>\n",
              "      <td>0.1</td>\n",
              "      <td>1667</td>\n",
              "      <td>185</td>\n",
              "      <td>6</td>\n",
              "      <td>Office Supplies</td>\n",
              "      <td>Appliances</td>\n",
              "      <td>176674</td>\n",
              "      <td>6</td>\n",
              "    </tr>\n",
              "    <tr>\n",
              "      <th>8</th>\n",
              "      <td>AZ-2011-1174243</td>\n",
              "      <td>Nokia Audio Dock, with Caller ID</td>\n",
              "      <td>0.0</td>\n",
              "      <td>1334</td>\n",
              "      <td>200</td>\n",
              "      <td>8</td>\n",
              "      <td>Technology</td>\n",
              "      <td>Phones</td>\n",
              "      <td>1174243</td>\n",
              "      <td>7</td>\n",
              "    </tr>\n",
              "    <tr>\n",
              "      <th>20</th>\n",
              "      <td>AZ-2011-1322840</td>\n",
              "      <td>Motorola Headset, with Caller ID</td>\n",
              "      <td>0.0</td>\n",
              "      <td>957</td>\n",
              "      <td>316</td>\n",
              "      <td>12</td>\n",
              "      <td>Technology</td>\n",
              "      <td>Phones</td>\n",
              "      <td>1322840</td>\n",
              "      <td>7</td>\n",
              "    </tr>\n",
              "    <tr>\n",
              "      <th>3</th>\n",
              "      <td>AZ-2011-1372644</td>\n",
              "      <td>Panasonic Printer, Durable</td>\n",
              "      <td>0.0</td>\n",
              "      <td>800</td>\n",
              "      <td>168</td>\n",
              "      <td>3</td>\n",
              "      <td>Technology</td>\n",
              "      <td>Machines</td>\n",
              "      <td>1372644</td>\n",
              "      <td>7</td>\n",
              "    </tr>\n",
              "  </tbody>\n",
              "</table>\n",
              "</div>\n",
              "      <button class=\"colab-df-convert\" onclick=\"convertToInteractive('df-0ba325f0-4d9d-483a-92bb-633008b35c57')\"\n",
              "              title=\"Convert this dataframe to an interactive table.\"\n",
              "              style=\"display:none;\">\n",
              "        \n",
              "  <svg xmlns=\"http://www.w3.org/2000/svg\" height=\"24px\"viewBox=\"0 0 24 24\"\n",
              "       width=\"24px\">\n",
              "    <path d=\"M0 0h24v24H0V0z\" fill=\"none\"/>\n",
              "    <path d=\"M18.56 5.44l.94 2.06.94-2.06 2.06-.94-2.06-.94-.94-2.06-.94 2.06-2.06.94zm-11 1L8.5 8.5l.94-2.06 2.06-.94-2.06-.94L8.5 2.5l-.94 2.06-2.06.94zm10 10l.94 2.06.94-2.06 2.06-.94-2.06-.94-.94-2.06-.94 2.06-2.06.94z\"/><path d=\"M17.41 7.96l-1.37-1.37c-.4-.4-.92-.59-1.43-.59-.52 0-1.04.2-1.43.59L10.3 9.45l-7.72 7.72c-.78.78-.78 2.05 0 2.83L4 21.41c.39.39.9.59 1.41.59.51 0 1.02-.2 1.41-.59l7.78-7.78 2.81-2.81c.8-.78.8-2.07 0-2.86zM5.41 20L4 18.59l7.72-7.72 1.47 1.35L5.41 20z\"/>\n",
              "  </svg>\n",
              "      </button>\n",
              "      \n",
              "  <style>\n",
              "    .colab-df-container {\n",
              "      display:flex;\n",
              "      flex-wrap:wrap;\n",
              "      gap: 12px;\n",
              "    }\n",
              "\n",
              "    .colab-df-convert {\n",
              "      background-color: #E8F0FE;\n",
              "      border: none;\n",
              "      border-radius: 50%;\n",
              "      cursor: pointer;\n",
              "      display: none;\n",
              "      fill: #1967D2;\n",
              "      height: 32px;\n",
              "      padding: 0 0 0 0;\n",
              "      width: 32px;\n",
              "    }\n",
              "\n",
              "    .colab-df-convert:hover {\n",
              "      background-color: #E2EBFA;\n",
              "      box-shadow: 0px 1px 2px rgba(60, 64, 67, 0.3), 0px 1px 3px 1px rgba(60, 64, 67, 0.15);\n",
              "      fill: #174EA6;\n",
              "    }\n",
              "\n",
              "    [theme=dark] .colab-df-convert {\n",
              "      background-color: #3B4455;\n",
              "      fill: #D2E3FC;\n",
              "    }\n",
              "\n",
              "    [theme=dark] .colab-df-convert:hover {\n",
              "      background-color: #434B5C;\n",
              "      box-shadow: 0px 1px 3px 1px rgba(0, 0, 0, 0.15);\n",
              "      filter: drop-shadow(0px 1px 2px rgba(0, 0, 0, 0.3));\n",
              "      fill: #FFFFFF;\n",
              "    }\n",
              "  </style>\n",
              "\n",
              "      <script>\n",
              "        const buttonEl =\n",
              "          document.querySelector('#df-0ba325f0-4d9d-483a-92bb-633008b35c57 button.colab-df-convert');\n",
              "        buttonEl.style.display =\n",
              "          google.colab.kernel.accessAllowed ? 'block' : 'none';\n",
              "\n",
              "        async function convertToInteractive(key) {\n",
              "          const element = document.querySelector('#df-0ba325f0-4d9d-483a-92bb-633008b35c57');\n",
              "          const dataTable =\n",
              "            await google.colab.kernel.invokeFunction('convertToInteractive',\n",
              "                                                     [key], {});\n",
              "          if (!dataTable) return;\n",
              "\n",
              "          const docLinkHtml = 'Like what you see? Visit the ' +\n",
              "            '<a target=\"_blank\" href=https://colab.research.google.com/notebooks/data_table.ipynb>data table notebook</a>'\n",
              "            + ' to learn more about interactive tables.';\n",
              "          element.innerHTML = '';\n",
              "          dataTable['output_type'] = 'display_data';\n",
              "          await google.colab.output.renderOutput(dataTable, element);\n",
              "          const docLink = document.createElement('div');\n",
              "          docLink.innerHTML = docLinkHtml;\n",
              "          element.appendChild(docLink);\n",
              "        }\n",
              "      </script>\n",
              "    </div>\n",
              "  </div>\n",
              "  "
            ]
          },
          "metadata": {},
          "execution_count": 9
        }
      ],
      "source": [
        "df3=df.loc[(df['Sales']>250) & (df['Profit']>50)]\n",
        "df3=df3.sort_values(by='Sales',ascending=False) \n",
        "df3.head()"
      ]
    },
    {
      "cell_type": "markdown",
      "metadata": {
        "id": "dB8-z77lz81b"
      },
      "source": [
        "#### Column manipulation\n",
        "Question 7: Remove the orders with negative profit by dropping the corresponding rows with negative `Profit`. Find the product that makes the lowest profit per Quantity in the Technology category.\n",
        "\n",
        "    a) Nokia Audio Dock, with Caller ID\n",
        "    b) Logitech Keyboard, Programmable\n",
        "    c) Motorola Headset, with Caller ID\n",
        "    d) Belkin Flash Drive, Bluetooth"
      ]
    },
    {
      "cell_type": "code",
      "execution_count": 10,
      "metadata": {
        "id": "FthVSnhqz81b",
        "outputId": "a87c1f6b-9089-4644-a8be-35cf4872f547",
        "colab": {
          "base_uri": "https://localhost:8080/",
          "height": 725
        }
      },
      "outputs": [
        {
          "output_type": "execute_result",
          "data": {
            "text/plain": [
              "           Order ID                      Product Name  Discount  Sales  \\\n",
              "39  AZ-2011-1536006   Logitech Keyboard, Programmable       0.0    666   \n",
              "2   AZ-2011-1087704     Belkin Flash Drive, Bluetooth       0.0    294   \n",
              "63  AZ-2011-1967754      Logitech Numeric Keypad, USB       0.0     93   \n",
              "8   AZ-2011-1174243  Nokia Audio Dock, with Caller ID       0.0   1334   \n",
              "20  AZ-2011-1322840  Motorola Headset, with Caller ID       0.0    957   \n",
              "3   AZ-2011-1372644        Panasonic Printer, Durable       0.0    800   \n",
              "52  AZ-2011-1722024            Cisco Audio Dock, VoIP       0.0    364   \n",
              "33  AZ-2011-1445262       Apple Smart Phone, Cordless       0.0    636   \n",
              "30  AZ-2011-1410648      Nokia Smart Phone, Full Size       0.0   1908   \n",
              "\n",
              "    Profit  Quantity    Category Sub-Category Order no  no_of_digits  \\\n",
              "39      66         9  Technology  Accessories  1536006             7   \n",
              "2      109         7  Technology  Accessories  1087704             7   \n",
              "63      40         2  Technology  Accessories  1967754             7   \n",
              "8      200         8  Technology       Phones  1174243             7   \n",
              "20     316        12  Technology       Phones  1322840             7   \n",
              "3      168         3  Technology     Machines  1372644             7   \n",
              "52     142         2  Technology       Phones  1722024             7   \n",
              "33     140         1  Technology       Phones  1445262             7   \n",
              "30     820         3  Technology       Phones  1410648             7   \n",
              "\n",
              "    Profit_per_qty  \n",
              "39        7.333333  \n",
              "2        15.571429  \n",
              "63       20.000000  \n",
              "8        25.000000  \n",
              "20       26.333333  \n",
              "3        56.000000  \n",
              "52       71.000000  \n",
              "33      140.000000  \n",
              "30      273.333333  "
            ],
            "text/html": [
              "\n",
              "  <div id=\"df-81bad56a-5acf-4ad1-8544-8adbbd682c0e\">\n",
              "    <div class=\"colab-df-container\">\n",
              "      <div>\n",
              "<style scoped>\n",
              "    .dataframe tbody tr th:only-of-type {\n",
              "        vertical-align: middle;\n",
              "    }\n",
              "\n",
              "    .dataframe tbody tr th {\n",
              "        vertical-align: top;\n",
              "    }\n",
              "\n",
              "    .dataframe thead th {\n",
              "        text-align: right;\n",
              "    }\n",
              "</style>\n",
              "<table border=\"1\" class=\"dataframe\">\n",
              "  <thead>\n",
              "    <tr style=\"text-align: right;\">\n",
              "      <th></th>\n",
              "      <th>Order ID</th>\n",
              "      <th>Product Name</th>\n",
              "      <th>Discount</th>\n",
              "      <th>Sales</th>\n",
              "      <th>Profit</th>\n",
              "      <th>Quantity</th>\n",
              "      <th>Category</th>\n",
              "      <th>Sub-Category</th>\n",
              "      <th>Order no</th>\n",
              "      <th>no_of_digits</th>\n",
              "      <th>Profit_per_qty</th>\n",
              "    </tr>\n",
              "  </thead>\n",
              "  <tbody>\n",
              "    <tr>\n",
              "      <th>39</th>\n",
              "      <td>AZ-2011-1536006</td>\n",
              "      <td>Logitech Keyboard, Programmable</td>\n",
              "      <td>0.0</td>\n",
              "      <td>666</td>\n",
              "      <td>66</td>\n",
              "      <td>9</td>\n",
              "      <td>Technology</td>\n",
              "      <td>Accessories</td>\n",
              "      <td>1536006</td>\n",
              "      <td>7</td>\n",
              "      <td>7.333333</td>\n",
              "    </tr>\n",
              "    <tr>\n",
              "      <th>2</th>\n",
              "      <td>AZ-2011-1087704</td>\n",
              "      <td>Belkin Flash Drive, Bluetooth</td>\n",
              "      <td>0.0</td>\n",
              "      <td>294</td>\n",
              "      <td>109</td>\n",
              "      <td>7</td>\n",
              "      <td>Technology</td>\n",
              "      <td>Accessories</td>\n",
              "      <td>1087704</td>\n",
              "      <td>7</td>\n",
              "      <td>15.571429</td>\n",
              "    </tr>\n",
              "    <tr>\n",
              "      <th>63</th>\n",
              "      <td>AZ-2011-1967754</td>\n",
              "      <td>Logitech Numeric Keypad, USB</td>\n",
              "      <td>0.0</td>\n",
              "      <td>93</td>\n",
              "      <td>40</td>\n",
              "      <td>2</td>\n",
              "      <td>Technology</td>\n",
              "      <td>Accessories</td>\n",
              "      <td>1967754</td>\n",
              "      <td>7</td>\n",
              "      <td>20.000000</td>\n",
              "    </tr>\n",
              "    <tr>\n",
              "      <th>8</th>\n",
              "      <td>AZ-2011-1174243</td>\n",
              "      <td>Nokia Audio Dock, with Caller ID</td>\n",
              "      <td>0.0</td>\n",
              "      <td>1334</td>\n",
              "      <td>200</td>\n",
              "      <td>8</td>\n",
              "      <td>Technology</td>\n",
              "      <td>Phones</td>\n",
              "      <td>1174243</td>\n",
              "      <td>7</td>\n",
              "      <td>25.000000</td>\n",
              "    </tr>\n",
              "    <tr>\n",
              "      <th>20</th>\n",
              "      <td>AZ-2011-1322840</td>\n",
              "      <td>Motorola Headset, with Caller ID</td>\n",
              "      <td>0.0</td>\n",
              "      <td>957</td>\n",
              "      <td>316</td>\n",
              "      <td>12</td>\n",
              "      <td>Technology</td>\n",
              "      <td>Phones</td>\n",
              "      <td>1322840</td>\n",
              "      <td>7</td>\n",
              "      <td>26.333333</td>\n",
              "    </tr>\n",
              "    <tr>\n",
              "      <th>3</th>\n",
              "      <td>AZ-2011-1372644</td>\n",
              "      <td>Panasonic Printer, Durable</td>\n",
              "      <td>0.0</td>\n",
              "      <td>800</td>\n",
              "      <td>168</td>\n",
              "      <td>3</td>\n",
              "      <td>Technology</td>\n",
              "      <td>Machines</td>\n",
              "      <td>1372644</td>\n",
              "      <td>7</td>\n",
              "      <td>56.000000</td>\n",
              "    </tr>\n",
              "    <tr>\n",
              "      <th>52</th>\n",
              "      <td>AZ-2011-1722024</td>\n",
              "      <td>Cisco Audio Dock, VoIP</td>\n",
              "      <td>0.0</td>\n",
              "      <td>364</td>\n",
              "      <td>142</td>\n",
              "      <td>2</td>\n",
              "      <td>Technology</td>\n",
              "      <td>Phones</td>\n",
              "      <td>1722024</td>\n",
              "      <td>7</td>\n",
              "      <td>71.000000</td>\n",
              "    </tr>\n",
              "    <tr>\n",
              "      <th>33</th>\n",
              "      <td>AZ-2011-1445262</td>\n",
              "      <td>Apple Smart Phone, Cordless</td>\n",
              "      <td>0.0</td>\n",
              "      <td>636</td>\n",
              "      <td>140</td>\n",
              "      <td>1</td>\n",
              "      <td>Technology</td>\n",
              "      <td>Phones</td>\n",
              "      <td>1445262</td>\n",
              "      <td>7</td>\n",
              "      <td>140.000000</td>\n",
              "    </tr>\n",
              "    <tr>\n",
              "      <th>30</th>\n",
              "      <td>AZ-2011-1410648</td>\n",
              "      <td>Nokia Smart Phone, Full Size</td>\n",
              "      <td>0.0</td>\n",
              "      <td>1908</td>\n",
              "      <td>820</td>\n",
              "      <td>3</td>\n",
              "      <td>Technology</td>\n",
              "      <td>Phones</td>\n",
              "      <td>1410648</td>\n",
              "      <td>7</td>\n",
              "      <td>273.333333</td>\n",
              "    </tr>\n",
              "  </tbody>\n",
              "</table>\n",
              "</div>\n",
              "      <button class=\"colab-df-convert\" onclick=\"convertToInteractive('df-81bad56a-5acf-4ad1-8544-8adbbd682c0e')\"\n",
              "              title=\"Convert this dataframe to an interactive table.\"\n",
              "              style=\"display:none;\">\n",
              "        \n",
              "  <svg xmlns=\"http://www.w3.org/2000/svg\" height=\"24px\"viewBox=\"0 0 24 24\"\n",
              "       width=\"24px\">\n",
              "    <path d=\"M0 0h24v24H0V0z\" fill=\"none\"/>\n",
              "    <path d=\"M18.56 5.44l.94 2.06.94-2.06 2.06-.94-2.06-.94-.94-2.06-.94 2.06-2.06.94zm-11 1L8.5 8.5l.94-2.06 2.06-.94-2.06-.94L8.5 2.5l-.94 2.06-2.06.94zm10 10l.94 2.06.94-2.06 2.06-.94-2.06-.94-.94-2.06-.94 2.06-2.06.94z\"/><path d=\"M17.41 7.96l-1.37-1.37c-.4-.4-.92-.59-1.43-.59-.52 0-1.04.2-1.43.59L10.3 9.45l-7.72 7.72c-.78.78-.78 2.05 0 2.83L4 21.41c.39.39.9.59 1.41.59.51 0 1.02-.2 1.41-.59l7.78-7.78 2.81-2.81c.8-.78.8-2.07 0-2.86zM5.41 20L4 18.59l7.72-7.72 1.47 1.35L5.41 20z\"/>\n",
              "  </svg>\n",
              "      </button>\n",
              "      \n",
              "  <style>\n",
              "    .colab-df-container {\n",
              "      display:flex;\n",
              "      flex-wrap:wrap;\n",
              "      gap: 12px;\n",
              "    }\n",
              "\n",
              "    .colab-df-convert {\n",
              "      background-color: #E8F0FE;\n",
              "      border: none;\n",
              "      border-radius: 50%;\n",
              "      cursor: pointer;\n",
              "      display: none;\n",
              "      fill: #1967D2;\n",
              "      height: 32px;\n",
              "      padding: 0 0 0 0;\n",
              "      width: 32px;\n",
              "    }\n",
              "\n",
              "    .colab-df-convert:hover {\n",
              "      background-color: #E2EBFA;\n",
              "      box-shadow: 0px 1px 2px rgba(60, 64, 67, 0.3), 0px 1px 3px 1px rgba(60, 64, 67, 0.15);\n",
              "      fill: #174EA6;\n",
              "    }\n",
              "\n",
              "    [theme=dark] .colab-df-convert {\n",
              "      background-color: #3B4455;\n",
              "      fill: #D2E3FC;\n",
              "    }\n",
              "\n",
              "    [theme=dark] .colab-df-convert:hover {\n",
              "      background-color: #434B5C;\n",
              "      box-shadow: 0px 1px 3px 1px rgba(0, 0, 0, 0.15);\n",
              "      filter: drop-shadow(0px 1px 2px rgba(0, 0, 0, 0.3));\n",
              "      fill: #FFFFFF;\n",
              "    }\n",
              "  </style>\n",
              "\n",
              "      <script>\n",
              "        const buttonEl =\n",
              "          document.querySelector('#df-81bad56a-5acf-4ad1-8544-8adbbd682c0e button.colab-df-convert');\n",
              "        buttonEl.style.display =\n",
              "          google.colab.kernel.accessAllowed ? 'block' : 'none';\n",
              "\n",
              "        async function convertToInteractive(key) {\n",
              "          const element = document.querySelector('#df-81bad56a-5acf-4ad1-8544-8adbbd682c0e');\n",
              "          const dataTable =\n",
              "            await google.colab.kernel.invokeFunction('convertToInteractive',\n",
              "                                                     [key], {});\n",
              "          if (!dataTable) return;\n",
              "\n",
              "          const docLinkHtml = 'Like what you see? Visit the ' +\n",
              "            '<a target=\"_blank\" href=https://colab.research.google.com/notebooks/data_table.ipynb>data table notebook</a>'\n",
              "            + ' to learn more about interactive tables.';\n",
              "          element.innerHTML = '';\n",
              "          dataTable['output_type'] = 'display_data';\n",
              "          await google.colab.output.renderOutput(dataTable, element);\n",
              "          const docLink = document.createElement('div');\n",
              "          docLink.innerHTML = docLinkHtml;\n",
              "          element.appendChild(docLink);\n",
              "        }\n",
              "      </script>\n",
              "    </div>\n",
              "  </div>\n",
              "  "
            ]
          },
          "metadata": {},
          "execution_count": 10
        }
      ],
      "source": [
        "df4=df[df.Profit>0]\n",
        "df4=df4.loc[df4.Category=='Technology']\n",
        "\n",
        "df4['Profit_per_qty']=df4['Profit']/df4['Quantity']\n",
        "df4.sort_values(by='Profit_per_qty',ascending=True)"
      ]
    },
    {
      "cell_type": "code",
      "source": [],
      "metadata": {
        "id": "HBRe6Cw7Ulw1"
      },
      "execution_count": null,
      "outputs": []
    }
  ],
  "metadata": {
    "kernelspec": {
      "display_name": "Python 3",
      "language": "python",
      "name": "python3"
    },
    "language_info": {
      "codemirror_mode": {
        "name": "ipython",
        "version": 3
      },
      "file_extension": ".py",
      "mimetype": "text/x-python",
      "name": "python",
      "nbconvert_exporter": "python",
      "pygments_lexer": "ipython3",
      "version": "3.7.4"
    },
    "colab": {
      "provenance": []
    }
  },
  "nbformat": 4,
  "nbformat_minor": 0
}