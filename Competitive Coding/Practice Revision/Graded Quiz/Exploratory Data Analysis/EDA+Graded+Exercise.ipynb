{
  "cells": [
    {
      "cell_type": "code",
      "execution_count": 1,
      "metadata": {
        "id": "yYB53ZFe3VqY"
      },
      "outputs": [],
      "source": [
        "#Import the required Libraries.\n",
        "import numpy as np\n",
        "import pandas as pd\n",
        "import matplotlib.pyplot as plt\n",
        "import seaborn as sns"
      ]
    },
    {
      "cell_type": "markdown",
      "metadata": {
        "id": "oHjHVZq73Vqg"
      },
      "source": [
        "## Data Cleaning "
      ]
    },
    {
      "cell_type": "markdown",
      "metadata": {
        "id": "W8WIENsO3Vqk"
      },
      "source": [
        "### Data Reading & Data Types "
      ]
    },
    {
      "cell_type": "code",
      "execution_count": 4,
      "metadata": {
        "colab": {
          "base_uri": "https://localhost:8080/",
          "height": 505
        },
        "id": "_OQ7CWXJ3Vqm",
        "outputId": "bcf034b5-288f-43da-cd71-416596ea3d66"
      },
      "outputs": [
        {
          "output_type": "execute_result",
          "data": {
            "text/plain": [
              "       Dress_ID    Style    Price  Rating  Size  Season   NeckLine  \\\n",
              "0    1006032852     Sexy      Low     4.6     M  Summer     o-neck   \n",
              "1    1212192089   Casual      Low     0.0     L  Summer     o-neck   \n",
              "2    1190380701  vintage     High     0.0     L  Automn     o-neck   \n",
              "3     966005983    Brief  Average     4.6     L  Spring     o-neck   \n",
              "4     876339541     cute      Low     4.5     M  Summer     o-neck   \n",
              "..          ...      ...      ...     ...   ...     ...        ...   \n",
              "474   990559192    Brief  Average     4.7     M  winter     o-neck   \n",
              "475   713391965   Casual      Low     4.7     M  Spring     o-neck   \n",
              "476   532874347   Casual  Average     4.7     M  Summer     v-neck   \n",
              "477   655464934   Casual  Average     4.6     L  winter  boat-neck   \n",
              "478   919930954   Casual      Low     4.4  free  Summer     v-neck   \n",
              "\n",
              "    SleeveLength       Material  FabricType  Decoration Pattern Type  \\\n",
              "0      sleevless            NaN     chiffon     ruffles       animal   \n",
              "1          Petal     microfiber         NaN     ruffles       animal   \n",
              "2           full       polyster         NaN         NaN        print   \n",
              "3           full           silk     chiffon  embroidary        print   \n",
              "4      butterfly  chiffonfabric     chiffon         bow          dot   \n",
              "..           ...            ...         ...         ...          ...   \n",
              "474   halfsleeve        acrylic     chiffon         NaN      striped   \n",
              "475         full       polyster         NaN         NaN        solid   \n",
              "476         full         cotton         NaN        lace        solid   \n",
              "477    sleevless           silk  broadcloth    applique        print   \n",
              "478        short         cotton    Corduroy        lace        solid   \n",
              "\n",
              "     Recommendation  \n",
              "0                 1  \n",
              "1                 0  \n",
              "2                 0  \n",
              "3                 1  \n",
              "4                 0  \n",
              "..              ...  \n",
              "474               0  \n",
              "475               1  \n",
              "476               1  \n",
              "477               1  \n",
              "478               0  \n",
              "\n",
              "[479 rows x 13 columns]"
            ],
            "text/html": [
              "\n",
              "  <div id=\"df-a6c01f55-fd4a-4af6-84dc-688ee9d59896\">\n",
              "    <div class=\"colab-df-container\">\n",
              "      <div>\n",
              "<style scoped>\n",
              "    .dataframe tbody tr th:only-of-type {\n",
              "        vertical-align: middle;\n",
              "    }\n",
              "\n",
              "    .dataframe tbody tr th {\n",
              "        vertical-align: top;\n",
              "    }\n",
              "\n",
              "    .dataframe thead th {\n",
              "        text-align: right;\n",
              "    }\n",
              "</style>\n",
              "<table border=\"1\" class=\"dataframe\">\n",
              "  <thead>\n",
              "    <tr style=\"text-align: right;\">\n",
              "      <th></th>\n",
              "      <th>Dress_ID</th>\n",
              "      <th>Style</th>\n",
              "      <th>Price</th>\n",
              "      <th>Rating</th>\n",
              "      <th>Size</th>\n",
              "      <th>Season</th>\n",
              "      <th>NeckLine</th>\n",
              "      <th>SleeveLength</th>\n",
              "      <th>Material</th>\n",
              "      <th>FabricType</th>\n",
              "      <th>Decoration</th>\n",
              "      <th>Pattern Type</th>\n",
              "      <th>Recommendation</th>\n",
              "    </tr>\n",
              "  </thead>\n",
              "  <tbody>\n",
              "    <tr>\n",
              "      <th>0</th>\n",
              "      <td>1006032852</td>\n",
              "      <td>Sexy</td>\n",
              "      <td>Low</td>\n",
              "      <td>4.6</td>\n",
              "      <td>M</td>\n",
              "      <td>Summer</td>\n",
              "      <td>o-neck</td>\n",
              "      <td>sleevless</td>\n",
              "      <td>NaN</td>\n",
              "      <td>chiffon</td>\n",
              "      <td>ruffles</td>\n",
              "      <td>animal</td>\n",
              "      <td>1</td>\n",
              "    </tr>\n",
              "    <tr>\n",
              "      <th>1</th>\n",
              "      <td>1212192089</td>\n",
              "      <td>Casual</td>\n",
              "      <td>Low</td>\n",
              "      <td>0.0</td>\n",
              "      <td>L</td>\n",
              "      <td>Summer</td>\n",
              "      <td>o-neck</td>\n",
              "      <td>Petal</td>\n",
              "      <td>microfiber</td>\n",
              "      <td>NaN</td>\n",
              "      <td>ruffles</td>\n",
              "      <td>animal</td>\n",
              "      <td>0</td>\n",
              "    </tr>\n",
              "    <tr>\n",
              "      <th>2</th>\n",
              "      <td>1190380701</td>\n",
              "      <td>vintage</td>\n",
              "      <td>High</td>\n",
              "      <td>0.0</td>\n",
              "      <td>L</td>\n",
              "      <td>Automn</td>\n",
              "      <td>o-neck</td>\n",
              "      <td>full</td>\n",
              "      <td>polyster</td>\n",
              "      <td>NaN</td>\n",
              "      <td>NaN</td>\n",
              "      <td>print</td>\n",
              "      <td>0</td>\n",
              "    </tr>\n",
              "    <tr>\n",
              "      <th>3</th>\n",
              "      <td>966005983</td>\n",
              "      <td>Brief</td>\n",
              "      <td>Average</td>\n",
              "      <td>4.6</td>\n",
              "      <td>L</td>\n",
              "      <td>Spring</td>\n",
              "      <td>o-neck</td>\n",
              "      <td>full</td>\n",
              "      <td>silk</td>\n",
              "      <td>chiffon</td>\n",
              "      <td>embroidary</td>\n",
              "      <td>print</td>\n",
              "      <td>1</td>\n",
              "    </tr>\n",
              "    <tr>\n",
              "      <th>4</th>\n",
              "      <td>876339541</td>\n",
              "      <td>cute</td>\n",
              "      <td>Low</td>\n",
              "      <td>4.5</td>\n",
              "      <td>M</td>\n",
              "      <td>Summer</td>\n",
              "      <td>o-neck</td>\n",
              "      <td>butterfly</td>\n",
              "      <td>chiffonfabric</td>\n",
              "      <td>chiffon</td>\n",
              "      <td>bow</td>\n",
              "      <td>dot</td>\n",
              "      <td>0</td>\n",
              "    </tr>\n",
              "    <tr>\n",
              "      <th>...</th>\n",
              "      <td>...</td>\n",
              "      <td>...</td>\n",
              "      <td>...</td>\n",
              "      <td>...</td>\n",
              "      <td>...</td>\n",
              "      <td>...</td>\n",
              "      <td>...</td>\n",
              "      <td>...</td>\n",
              "      <td>...</td>\n",
              "      <td>...</td>\n",
              "      <td>...</td>\n",
              "      <td>...</td>\n",
              "      <td>...</td>\n",
              "    </tr>\n",
              "    <tr>\n",
              "      <th>474</th>\n",
              "      <td>990559192</td>\n",
              "      <td>Brief</td>\n",
              "      <td>Average</td>\n",
              "      <td>4.7</td>\n",
              "      <td>M</td>\n",
              "      <td>winter</td>\n",
              "      <td>o-neck</td>\n",
              "      <td>halfsleeve</td>\n",
              "      <td>acrylic</td>\n",
              "      <td>chiffon</td>\n",
              "      <td>NaN</td>\n",
              "      <td>striped</td>\n",
              "      <td>0</td>\n",
              "    </tr>\n",
              "    <tr>\n",
              "      <th>475</th>\n",
              "      <td>713391965</td>\n",
              "      <td>Casual</td>\n",
              "      <td>Low</td>\n",
              "      <td>4.7</td>\n",
              "      <td>M</td>\n",
              "      <td>Spring</td>\n",
              "      <td>o-neck</td>\n",
              "      <td>full</td>\n",
              "      <td>polyster</td>\n",
              "      <td>NaN</td>\n",
              "      <td>NaN</td>\n",
              "      <td>solid</td>\n",
              "      <td>1</td>\n",
              "    </tr>\n",
              "    <tr>\n",
              "      <th>476</th>\n",
              "      <td>532874347</td>\n",
              "      <td>Casual</td>\n",
              "      <td>Average</td>\n",
              "      <td>4.7</td>\n",
              "      <td>M</td>\n",
              "      <td>Summer</td>\n",
              "      <td>v-neck</td>\n",
              "      <td>full</td>\n",
              "      <td>cotton</td>\n",
              "      <td>NaN</td>\n",
              "      <td>lace</td>\n",
              "      <td>solid</td>\n",
              "      <td>1</td>\n",
              "    </tr>\n",
              "    <tr>\n",
              "      <th>477</th>\n",
              "      <td>655464934</td>\n",
              "      <td>Casual</td>\n",
              "      <td>Average</td>\n",
              "      <td>4.6</td>\n",
              "      <td>L</td>\n",
              "      <td>winter</td>\n",
              "      <td>boat-neck</td>\n",
              "      <td>sleevless</td>\n",
              "      <td>silk</td>\n",
              "      <td>broadcloth</td>\n",
              "      <td>applique</td>\n",
              "      <td>print</td>\n",
              "      <td>1</td>\n",
              "    </tr>\n",
              "    <tr>\n",
              "      <th>478</th>\n",
              "      <td>919930954</td>\n",
              "      <td>Casual</td>\n",
              "      <td>Low</td>\n",
              "      <td>4.4</td>\n",
              "      <td>free</td>\n",
              "      <td>Summer</td>\n",
              "      <td>v-neck</td>\n",
              "      <td>short</td>\n",
              "      <td>cotton</td>\n",
              "      <td>Corduroy</td>\n",
              "      <td>lace</td>\n",
              "      <td>solid</td>\n",
              "      <td>0</td>\n",
              "    </tr>\n",
              "  </tbody>\n",
              "</table>\n",
              "<p>479 rows × 13 columns</p>\n",
              "</div>\n",
              "      <button class=\"colab-df-convert\" onclick=\"convertToInteractive('df-a6c01f55-fd4a-4af6-84dc-688ee9d59896')\"\n",
              "              title=\"Convert this dataframe to an interactive table.\"\n",
              "              style=\"display:none;\">\n",
              "        \n",
              "  <svg xmlns=\"http://www.w3.org/2000/svg\" height=\"24px\"viewBox=\"0 0 24 24\"\n",
              "       width=\"24px\">\n",
              "    <path d=\"M0 0h24v24H0V0z\" fill=\"none\"/>\n",
              "    <path d=\"M18.56 5.44l.94 2.06.94-2.06 2.06-.94-2.06-.94-.94-2.06-.94 2.06-2.06.94zm-11 1L8.5 8.5l.94-2.06 2.06-.94-2.06-.94L8.5 2.5l-.94 2.06-2.06.94zm10 10l.94 2.06.94-2.06 2.06-.94-2.06-.94-.94-2.06-.94 2.06-2.06.94z\"/><path d=\"M17.41 7.96l-1.37-1.37c-.4-.4-.92-.59-1.43-.59-.52 0-1.04.2-1.43.59L10.3 9.45l-7.72 7.72c-.78.78-.78 2.05 0 2.83L4 21.41c.39.39.9.59 1.41.59.51 0 1.02-.2 1.41-.59l7.78-7.78 2.81-2.81c.8-.78.8-2.07 0-2.86zM5.41 20L4 18.59l7.72-7.72 1.47 1.35L5.41 20z\"/>\n",
              "  </svg>\n",
              "      </button>\n",
              "      \n",
              "  <style>\n",
              "    .colab-df-container {\n",
              "      display:flex;\n",
              "      flex-wrap:wrap;\n",
              "      gap: 12px;\n",
              "    }\n",
              "\n",
              "    .colab-df-convert {\n",
              "      background-color: #E8F0FE;\n",
              "      border: none;\n",
              "      border-radius: 50%;\n",
              "      cursor: pointer;\n",
              "      display: none;\n",
              "      fill: #1967D2;\n",
              "      height: 32px;\n",
              "      padding: 0 0 0 0;\n",
              "      width: 32px;\n",
              "    }\n",
              "\n",
              "    .colab-df-convert:hover {\n",
              "      background-color: #E2EBFA;\n",
              "      box-shadow: 0px 1px 2px rgba(60, 64, 67, 0.3), 0px 1px 3px 1px rgba(60, 64, 67, 0.15);\n",
              "      fill: #174EA6;\n",
              "    }\n",
              "\n",
              "    [theme=dark] .colab-df-convert {\n",
              "      background-color: #3B4455;\n",
              "      fill: #D2E3FC;\n",
              "    }\n",
              "\n",
              "    [theme=dark] .colab-df-convert:hover {\n",
              "      background-color: #434B5C;\n",
              "      box-shadow: 0px 1px 3px 1px rgba(0, 0, 0, 0.15);\n",
              "      filter: drop-shadow(0px 1px 2px rgba(0, 0, 0, 0.3));\n",
              "      fill: #FFFFFF;\n",
              "    }\n",
              "  </style>\n",
              "\n",
              "      <script>\n",
              "        const buttonEl =\n",
              "          document.querySelector('#df-a6c01f55-fd4a-4af6-84dc-688ee9d59896 button.colab-df-convert');\n",
              "        buttonEl.style.display =\n",
              "          google.colab.kernel.accessAllowed ? 'block' : 'none';\n",
              "\n",
              "        async function convertToInteractive(key) {\n",
              "          const element = document.querySelector('#df-a6c01f55-fd4a-4af6-84dc-688ee9d59896');\n",
              "          const dataTable =\n",
              "            await google.colab.kernel.invokeFunction('convertToInteractive',\n",
              "                                                     [key], {});\n",
              "          if (!dataTable) return;\n",
              "\n",
              "          const docLinkHtml = 'Like what you see? Visit the ' +\n",
              "            '<a target=\"_blank\" href=https://colab.research.google.com/notebooks/data_table.ipynb>data table notebook</a>'\n",
              "            + ' to learn more about interactive tables.';\n",
              "          element.innerHTML = '';\n",
              "          dataTable['output_type'] = 'display_data';\n",
              "          await google.colab.output.renderOutput(dataTable, element);\n",
              "          const docLink = document.createElement('div');\n",
              "          docLink.innerHTML = docLinkHtml;\n",
              "          element.appendChild(docLink);\n",
              "        }\n",
              "      </script>\n",
              "    </div>\n",
              "  </div>\n",
              "  "
            ]
          },
          "metadata": {},
          "execution_count": 4
        }
      ],
      "source": [
        "#Read the data in pandas\n",
        "inp0 = pd.read_csv(\"Attribute+DataSet.csv\")\n",
        "inp0"
      ]
    },
    {
      "cell_type": "code",
      "source": [
        "inp1 = pd.read_csv(\"Dress+Sales.csv\")\n",
        "inp1"
      ],
      "metadata": {
        "colab": {
          "base_uri": "https://localhost:8080/",
          "height": 522
        },
        "id": "14flmVCa4KZg",
        "outputId": "29a9e7e5-b59a-443f-8086-ff7b3da28de9"
      },
      "execution_count": 5,
      "outputs": [
        {
          "output_type": "execute_result",
          "data": {
            "text/plain": [
              "         Dress_ID  29-08-2013  31-08-2013  09-02-2013  09-04-2013  09-06-2013  \\\n",
              "0    1.006033e+09        2114        2274        2491        2660        2727   \n",
              "1    1.212192e+09         151         275         570         750         813   \n",
              "2    1.190381e+09           6           7           7           7           8   \n",
              "3    9.660060e+08        1005        1128        1326        1455        1507   \n",
              "4    8.763395e+08         996        1175        1304        1396        1432   \n",
              "..            ...         ...         ...         ...         ...         ...   \n",
              "474  9.905592e+08           0           0           0          60          62   \n",
              "475  7.133920e+08           0           0           0         560         554   \n",
              "476  5.328743e+08           0           0           0         734         728   \n",
              "477  6.554649e+08           0           0           0         254         259   \n",
              "478  9.199310e+08           0           0           0         538         545   \n",
              "\n",
              "     09-08-2013  09-10-2013 09-12-2013 14-09-2013  ... 24-09-2013 26-09-2013  \\\n",
              "0          2887        2930       3119       3204  ...       3554     3624.0   \n",
              "1          1066        1164       1558       1756  ...       2710     2942.0   \n",
              "2             8           9         10         10  ...         11       11.0   \n",
              "3          1621        1637       1723       1746  ...       1878     1892.0   \n",
              "4          1559        1570       1638       1655  ...       2032     2156.0   \n",
              "..          ...         ...        ...        ...  ...        ...        ...   \n",
              "474          64          65         67         68  ...         73       74.0   \n",
              "475         544         537        525        519  ...        400      388.0   \n",
              "476         726         715        694        690  ...        616      597.0   \n",
              "477         261         263        268        270  ...        257      256.0   \n",
              "478         558         563        578        585  ...        628      632.0   \n",
              "\n",
              "    28-09-2013 30-09-2013  10-02-2013  10-04-2013  10-06-2013  10-08-2013  \\\n",
              "0         3706     3746.0      3795.0      3832.0        3897      3923.0   \n",
              "1         3258     3354.0      3475.0      3654.0        3911      4024.0   \n",
              "2           11       11.0        11.0        11.0          11        11.0   \n",
              "3         1914     1924.0      1929.0      1941.0        1952      1955.0   \n",
              "4         2252     2312.0      2387.0      2459.0        2544      2614.0   \n",
              "..         ...        ...         ...         ...         ...         ...   \n",
              "474         75       75.0        76.0        76.0          77        77.0   \n",
              "475        360      364.0       372.0       377.0         380       382.0   \n",
              "476        586      569.0       561.0       555.0         551       546.0   \n",
              "477        255      254.0       253.0       250.0         249       249.0   \n",
              "478        639      645.0       651.0       655.0         660       668.0   \n",
              "\n",
              "     10-10-2013  10-12-2013  \n",
              "0        3985.0        4048  \n",
              "1        4125.0        4277  \n",
              "2          11.0          11  \n",
              "3        1959.0        1963  \n",
              "4        2693.0        2736  \n",
              "..          ...         ...  \n",
              "474        77.0          77  \n",
              "475       384.0         285  \n",
              "476       535.0         520  \n",
              "477       249.0         248  \n",
              "478       674.0         680  \n",
              "\n",
              "[479 rows x 24 columns]"
            ],
            "text/html": [
              "\n",
              "  <div id=\"df-7c8d8e8e-ab19-4d0a-aa2d-044c9c0d4d77\">\n",
              "    <div class=\"colab-df-container\">\n",
              "      <div>\n",
              "<style scoped>\n",
              "    .dataframe tbody tr th:only-of-type {\n",
              "        vertical-align: middle;\n",
              "    }\n",
              "\n",
              "    .dataframe tbody tr th {\n",
              "        vertical-align: top;\n",
              "    }\n",
              "\n",
              "    .dataframe thead th {\n",
              "        text-align: right;\n",
              "    }\n",
              "</style>\n",
              "<table border=\"1\" class=\"dataframe\">\n",
              "  <thead>\n",
              "    <tr style=\"text-align: right;\">\n",
              "      <th></th>\n",
              "      <th>Dress_ID</th>\n",
              "      <th>29-08-2013</th>\n",
              "      <th>31-08-2013</th>\n",
              "      <th>09-02-2013</th>\n",
              "      <th>09-04-2013</th>\n",
              "      <th>09-06-2013</th>\n",
              "      <th>09-08-2013</th>\n",
              "      <th>09-10-2013</th>\n",
              "      <th>09-12-2013</th>\n",
              "      <th>14-09-2013</th>\n",
              "      <th>...</th>\n",
              "      <th>24-09-2013</th>\n",
              "      <th>26-09-2013</th>\n",
              "      <th>28-09-2013</th>\n",
              "      <th>30-09-2013</th>\n",
              "      <th>10-02-2013</th>\n",
              "      <th>10-04-2013</th>\n",
              "      <th>10-06-2013</th>\n",
              "      <th>10-08-2013</th>\n",
              "      <th>10-10-2013</th>\n",
              "      <th>10-12-2013</th>\n",
              "    </tr>\n",
              "  </thead>\n",
              "  <tbody>\n",
              "    <tr>\n",
              "      <th>0</th>\n",
              "      <td>1.006033e+09</td>\n",
              "      <td>2114</td>\n",
              "      <td>2274</td>\n",
              "      <td>2491</td>\n",
              "      <td>2660</td>\n",
              "      <td>2727</td>\n",
              "      <td>2887</td>\n",
              "      <td>2930</td>\n",
              "      <td>3119</td>\n",
              "      <td>3204</td>\n",
              "      <td>...</td>\n",
              "      <td>3554</td>\n",
              "      <td>3624.0</td>\n",
              "      <td>3706</td>\n",
              "      <td>3746.0</td>\n",
              "      <td>3795.0</td>\n",
              "      <td>3832.0</td>\n",
              "      <td>3897</td>\n",
              "      <td>3923.0</td>\n",
              "      <td>3985.0</td>\n",
              "      <td>4048</td>\n",
              "    </tr>\n",
              "    <tr>\n",
              "      <th>1</th>\n",
              "      <td>1.212192e+09</td>\n",
              "      <td>151</td>\n",
              "      <td>275</td>\n",
              "      <td>570</td>\n",
              "      <td>750</td>\n",
              "      <td>813</td>\n",
              "      <td>1066</td>\n",
              "      <td>1164</td>\n",
              "      <td>1558</td>\n",
              "      <td>1756</td>\n",
              "      <td>...</td>\n",
              "      <td>2710</td>\n",
              "      <td>2942.0</td>\n",
              "      <td>3258</td>\n",
              "      <td>3354.0</td>\n",
              "      <td>3475.0</td>\n",
              "      <td>3654.0</td>\n",
              "      <td>3911</td>\n",
              "      <td>4024.0</td>\n",
              "      <td>4125.0</td>\n",
              "      <td>4277</td>\n",
              "    </tr>\n",
              "    <tr>\n",
              "      <th>2</th>\n",
              "      <td>1.190381e+09</td>\n",
              "      <td>6</td>\n",
              "      <td>7</td>\n",
              "      <td>7</td>\n",
              "      <td>7</td>\n",
              "      <td>8</td>\n",
              "      <td>8</td>\n",
              "      <td>9</td>\n",
              "      <td>10</td>\n",
              "      <td>10</td>\n",
              "      <td>...</td>\n",
              "      <td>11</td>\n",
              "      <td>11.0</td>\n",
              "      <td>11</td>\n",
              "      <td>11.0</td>\n",
              "      <td>11.0</td>\n",
              "      <td>11.0</td>\n",
              "      <td>11</td>\n",
              "      <td>11.0</td>\n",
              "      <td>11.0</td>\n",
              "      <td>11</td>\n",
              "    </tr>\n",
              "    <tr>\n",
              "      <th>3</th>\n",
              "      <td>9.660060e+08</td>\n",
              "      <td>1005</td>\n",
              "      <td>1128</td>\n",
              "      <td>1326</td>\n",
              "      <td>1455</td>\n",
              "      <td>1507</td>\n",
              "      <td>1621</td>\n",
              "      <td>1637</td>\n",
              "      <td>1723</td>\n",
              "      <td>1746</td>\n",
              "      <td>...</td>\n",
              "      <td>1878</td>\n",
              "      <td>1892.0</td>\n",
              "      <td>1914</td>\n",
              "      <td>1924.0</td>\n",
              "      <td>1929.0</td>\n",
              "      <td>1941.0</td>\n",
              "      <td>1952</td>\n",
              "      <td>1955.0</td>\n",
              "      <td>1959.0</td>\n",
              "      <td>1963</td>\n",
              "    </tr>\n",
              "    <tr>\n",
              "      <th>4</th>\n",
              "      <td>8.763395e+08</td>\n",
              "      <td>996</td>\n",
              "      <td>1175</td>\n",
              "      <td>1304</td>\n",
              "      <td>1396</td>\n",
              "      <td>1432</td>\n",
              "      <td>1559</td>\n",
              "      <td>1570</td>\n",
              "      <td>1638</td>\n",
              "      <td>1655</td>\n",
              "      <td>...</td>\n",
              "      <td>2032</td>\n",
              "      <td>2156.0</td>\n",
              "      <td>2252</td>\n",
              "      <td>2312.0</td>\n",
              "      <td>2387.0</td>\n",
              "      <td>2459.0</td>\n",
              "      <td>2544</td>\n",
              "      <td>2614.0</td>\n",
              "      <td>2693.0</td>\n",
              "      <td>2736</td>\n",
              "    </tr>\n",
              "    <tr>\n",
              "      <th>...</th>\n",
              "      <td>...</td>\n",
              "      <td>...</td>\n",
              "      <td>...</td>\n",
              "      <td>...</td>\n",
              "      <td>...</td>\n",
              "      <td>...</td>\n",
              "      <td>...</td>\n",
              "      <td>...</td>\n",
              "      <td>...</td>\n",
              "      <td>...</td>\n",
              "      <td>...</td>\n",
              "      <td>...</td>\n",
              "      <td>...</td>\n",
              "      <td>...</td>\n",
              "      <td>...</td>\n",
              "      <td>...</td>\n",
              "      <td>...</td>\n",
              "      <td>...</td>\n",
              "      <td>...</td>\n",
              "      <td>...</td>\n",
              "      <td>...</td>\n",
              "    </tr>\n",
              "    <tr>\n",
              "      <th>474</th>\n",
              "      <td>9.905592e+08</td>\n",
              "      <td>0</td>\n",
              "      <td>0</td>\n",
              "      <td>0</td>\n",
              "      <td>60</td>\n",
              "      <td>62</td>\n",
              "      <td>64</td>\n",
              "      <td>65</td>\n",
              "      <td>67</td>\n",
              "      <td>68</td>\n",
              "      <td>...</td>\n",
              "      <td>73</td>\n",
              "      <td>74.0</td>\n",
              "      <td>75</td>\n",
              "      <td>75.0</td>\n",
              "      <td>76.0</td>\n",
              "      <td>76.0</td>\n",
              "      <td>77</td>\n",
              "      <td>77.0</td>\n",
              "      <td>77.0</td>\n",
              "      <td>77</td>\n",
              "    </tr>\n",
              "    <tr>\n",
              "      <th>475</th>\n",
              "      <td>7.133920e+08</td>\n",
              "      <td>0</td>\n",
              "      <td>0</td>\n",
              "      <td>0</td>\n",
              "      <td>560</td>\n",
              "      <td>554</td>\n",
              "      <td>544</td>\n",
              "      <td>537</td>\n",
              "      <td>525</td>\n",
              "      <td>519</td>\n",
              "      <td>...</td>\n",
              "      <td>400</td>\n",
              "      <td>388.0</td>\n",
              "      <td>360</td>\n",
              "      <td>364.0</td>\n",
              "      <td>372.0</td>\n",
              "      <td>377.0</td>\n",
              "      <td>380</td>\n",
              "      <td>382.0</td>\n",
              "      <td>384.0</td>\n",
              "      <td>285</td>\n",
              "    </tr>\n",
              "    <tr>\n",
              "      <th>476</th>\n",
              "      <td>5.328743e+08</td>\n",
              "      <td>0</td>\n",
              "      <td>0</td>\n",
              "      <td>0</td>\n",
              "      <td>734</td>\n",
              "      <td>728</td>\n",
              "      <td>726</td>\n",
              "      <td>715</td>\n",
              "      <td>694</td>\n",
              "      <td>690</td>\n",
              "      <td>...</td>\n",
              "      <td>616</td>\n",
              "      <td>597.0</td>\n",
              "      <td>586</td>\n",
              "      <td>569.0</td>\n",
              "      <td>561.0</td>\n",
              "      <td>555.0</td>\n",
              "      <td>551</td>\n",
              "      <td>546.0</td>\n",
              "      <td>535.0</td>\n",
              "      <td>520</td>\n",
              "    </tr>\n",
              "    <tr>\n",
              "      <th>477</th>\n",
              "      <td>6.554649e+08</td>\n",
              "      <td>0</td>\n",
              "      <td>0</td>\n",
              "      <td>0</td>\n",
              "      <td>254</td>\n",
              "      <td>259</td>\n",
              "      <td>261</td>\n",
              "      <td>263</td>\n",
              "      <td>268</td>\n",
              "      <td>270</td>\n",
              "      <td>...</td>\n",
              "      <td>257</td>\n",
              "      <td>256.0</td>\n",
              "      <td>255</td>\n",
              "      <td>254.0</td>\n",
              "      <td>253.0</td>\n",
              "      <td>250.0</td>\n",
              "      <td>249</td>\n",
              "      <td>249.0</td>\n",
              "      <td>249.0</td>\n",
              "      <td>248</td>\n",
              "    </tr>\n",
              "    <tr>\n",
              "      <th>478</th>\n",
              "      <td>9.199310e+08</td>\n",
              "      <td>0</td>\n",
              "      <td>0</td>\n",
              "      <td>0</td>\n",
              "      <td>538</td>\n",
              "      <td>545</td>\n",
              "      <td>558</td>\n",
              "      <td>563</td>\n",
              "      <td>578</td>\n",
              "      <td>585</td>\n",
              "      <td>...</td>\n",
              "      <td>628</td>\n",
              "      <td>632.0</td>\n",
              "      <td>639</td>\n",
              "      <td>645.0</td>\n",
              "      <td>651.0</td>\n",
              "      <td>655.0</td>\n",
              "      <td>660</td>\n",
              "      <td>668.0</td>\n",
              "      <td>674.0</td>\n",
              "      <td>680</td>\n",
              "    </tr>\n",
              "  </tbody>\n",
              "</table>\n",
              "<p>479 rows × 24 columns</p>\n",
              "</div>\n",
              "      <button class=\"colab-df-convert\" onclick=\"convertToInteractive('df-7c8d8e8e-ab19-4d0a-aa2d-044c9c0d4d77')\"\n",
              "              title=\"Convert this dataframe to an interactive table.\"\n",
              "              style=\"display:none;\">\n",
              "        \n",
              "  <svg xmlns=\"http://www.w3.org/2000/svg\" height=\"24px\"viewBox=\"0 0 24 24\"\n",
              "       width=\"24px\">\n",
              "    <path d=\"M0 0h24v24H0V0z\" fill=\"none\"/>\n",
              "    <path d=\"M18.56 5.44l.94 2.06.94-2.06 2.06-.94-2.06-.94-.94-2.06-.94 2.06-2.06.94zm-11 1L8.5 8.5l.94-2.06 2.06-.94-2.06-.94L8.5 2.5l-.94 2.06-2.06.94zm10 10l.94 2.06.94-2.06 2.06-.94-2.06-.94-.94-2.06-.94 2.06-2.06.94z\"/><path d=\"M17.41 7.96l-1.37-1.37c-.4-.4-.92-.59-1.43-.59-.52 0-1.04.2-1.43.59L10.3 9.45l-7.72 7.72c-.78.78-.78 2.05 0 2.83L4 21.41c.39.39.9.59 1.41.59.51 0 1.02-.2 1.41-.59l7.78-7.78 2.81-2.81c.8-.78.8-2.07 0-2.86zM5.41 20L4 18.59l7.72-7.72 1.47 1.35L5.41 20z\"/>\n",
              "  </svg>\n",
              "      </button>\n",
              "      \n",
              "  <style>\n",
              "    .colab-df-container {\n",
              "      display:flex;\n",
              "      flex-wrap:wrap;\n",
              "      gap: 12px;\n",
              "    }\n",
              "\n",
              "    .colab-df-convert {\n",
              "      background-color: #E8F0FE;\n",
              "      border: none;\n",
              "      border-radius: 50%;\n",
              "      cursor: pointer;\n",
              "      display: none;\n",
              "      fill: #1967D2;\n",
              "      height: 32px;\n",
              "      padding: 0 0 0 0;\n",
              "      width: 32px;\n",
              "    }\n",
              "\n",
              "    .colab-df-convert:hover {\n",
              "      background-color: #E2EBFA;\n",
              "      box-shadow: 0px 1px 2px rgba(60, 64, 67, 0.3), 0px 1px 3px 1px rgba(60, 64, 67, 0.15);\n",
              "      fill: #174EA6;\n",
              "    }\n",
              "\n",
              "    [theme=dark] .colab-df-convert {\n",
              "      background-color: #3B4455;\n",
              "      fill: #D2E3FC;\n",
              "    }\n",
              "\n",
              "    [theme=dark] .colab-df-convert:hover {\n",
              "      background-color: #434B5C;\n",
              "      box-shadow: 0px 1px 3px 1px rgba(0, 0, 0, 0.15);\n",
              "      filter: drop-shadow(0px 1px 2px rgba(0, 0, 0, 0.3));\n",
              "      fill: #FFFFFF;\n",
              "    }\n",
              "  </style>\n",
              "\n",
              "      <script>\n",
              "        const buttonEl =\n",
              "          document.querySelector('#df-7c8d8e8e-ab19-4d0a-aa2d-044c9c0d4d77 button.colab-df-convert');\n",
              "        buttonEl.style.display =\n",
              "          google.colab.kernel.accessAllowed ? 'block' : 'none';\n",
              "\n",
              "        async function convertToInteractive(key) {\n",
              "          const element = document.querySelector('#df-7c8d8e8e-ab19-4d0a-aa2d-044c9c0d4d77');\n",
              "          const dataTable =\n",
              "            await google.colab.kernel.invokeFunction('convertToInteractive',\n",
              "                                                     [key], {});\n",
              "          if (!dataTable) return;\n",
              "\n",
              "          const docLinkHtml = 'Like what you see? Visit the ' +\n",
              "            '<a target=\"_blank\" href=https://colab.research.google.com/notebooks/data_table.ipynb>data table notebook</a>'\n",
              "            + ' to learn more about interactive tables.';\n",
              "          element.innerHTML = '';\n",
              "          dataTable['output_type'] = 'display_data';\n",
              "          await google.colab.output.renderOutput(dataTable, element);\n",
              "          const docLink = document.createElement('div');\n",
              "          docLink.innerHTML = docLinkHtml;\n",
              "          element.appendChild(docLink);\n",
              "        }\n",
              "      </script>\n",
              "    </div>\n",
              "  </div>\n",
              "  "
            ]
          },
          "metadata": {},
          "execution_count": 5
        }
      ]
    },
    {
      "cell_type": "markdown",
      "source": [
        "What is a nominal variable?\n",
        "------------\n",
        "\n",
        "A `nominal-scale variable` is one whose values are `categories without any numerical ranking`, such as `county of residence`."
      ],
      "metadata": {
        "id": "wx_V25du5XEg"
      }
    },
    {
      "cell_type": "markdown",
      "metadata": {
        "id": "jzce-x0R3Vqp"
      },
      "source": [
        "You have “Attribute DataSet” which contains a column named “Price”. Choose the correct statement from the following about its data type and variable type.\n",
        "- Integer type and numerical variable\n",
        "- Object type and categorical ordinal variable\n",
        "- Object type and categorical nominal variable\n",
        "- Float type and categorical variable.\n"
      ]
    },
    {
      "cell_type": "code",
      "source": [
        "inp0.Price.describe()\n",
        "# dtype: Object type and categorical ordinal variable"
      ],
      "metadata": {
        "colab": {
          "base_uri": "https://localhost:8080/"
        },
        "id": "UPTPiyMe4xvZ",
        "outputId": "823a97c8-ef72-400d-b2dd-6eb1f57dc69c"
      },
      "execution_count": 8,
      "outputs": [
        {
          "output_type": "execute_result",
          "data": {
            "text/plain": [
              "count         477\n",
              "unique          5\n",
              "top       Average\n",
              "freq          240\n",
              "Name: Price, dtype: object"
            ]
          },
          "metadata": {},
          "execution_count": 8
        }
      ]
    },
    {
      "cell_type": "markdown",
      "metadata": {
        "id": "UrhfVCIo3Vqr"
      },
      "source": [
        "There is another column in “Attribute DataSet” named as “Recommendation”, choose the correct statement about its data type and variable type.\n",
        "- Integer type and categorical\n",
        "- Object type and categorical\n",
        "- Integer type and continuous numerical\n",
        "- Object type only.\n"
      ]
    },
    {
      "cell_type": "code",
      "source": [
        "inp0.Recommendation.info()\n",
        "# dtypes: int64(1) Integer type and categorical (0 or 1)"
      ],
      "metadata": {
        "colab": {
          "base_uri": "https://localhost:8080/"
        },
        "id": "a3uZXZ616DfK",
        "outputId": "24085f69-7b4c-4520-f12c-797f28bd132f"
      },
      "execution_count": 11,
      "outputs": [
        {
          "output_type": "stream",
          "name": "stdout",
          "text": [
            "<class 'pandas.core.series.Series'>\n",
            "RangeIndex: 479 entries, 0 to 478\n",
            "Series name: Recommendation\n",
            "Non-Null Count  Dtype\n",
            "--------------  -----\n",
            "479 non-null    int64\n",
            "dtypes: int64(1)\n",
            "memory usage: 3.9 KB\n"
          ]
        }
      ]
    },
    {
      "cell_type": "markdown",
      "metadata": {
        "id": "lTDvRDMz3Vqs"
      },
      "source": [
        "Which of the following column do you think are of no use in “Attribute DataSet”.\n",
        "- Dress_ID\n",
        "- Price\n",
        "- Size and material\n",
        "- NeckLine\n",
        "- None of the above\n"
      ]
    },
    {
      "cell_type": "markdown",
      "source": [
        "    None of the above\n",
        "\n",
        "    ✓ Correct\n",
        "      Feedback:\n",
        "\n",
        "All the columns mentioned above in the dataset are equally important."
      ],
      "metadata": {
        "id": "ihiwznSz66A5"
      }
    },
    {
      "cell_type": "code",
      "execution_count": 17,
      "metadata": {
        "colab": {
          "base_uri": "https://localhost:8080/"
        },
        "id": "6RNihmPY3Vqv",
        "outputId": "725abd30-b77f-41a8-854b-0ce1bbf677e2"
      },
      "outputs": [
        {
          "output_type": "stream",
          "name": "stdout",
          "text": [
            "<class 'pandas.core.frame.DataFrame'>\n",
            "RangeIndex: 479 entries, 0 to 478\n",
            "Data columns (total 13 columns):\n",
            " #   Column          Non-Null Count  Dtype  \n",
            "---  ------          --------------  -----  \n",
            " 0   Dress_ID        479 non-null    int64  \n",
            " 1   Style           479 non-null    object \n",
            " 2   Price           477 non-null    object \n",
            " 3   Rating          479 non-null    float64\n",
            " 4   Size            479 non-null    object \n",
            " 5   Season          477 non-null    object \n",
            " 6   NeckLine        476 non-null    object \n",
            " 7   SleeveLength    477 non-null    object \n",
            " 8   Material        360 non-null    object \n",
            " 9   FabricType      223 non-null    object \n",
            " 10  Decoration      255 non-null    object \n",
            " 11  Pattern Type    377 non-null    object \n",
            " 12  Recommendation  479 non-null    int64  \n",
            "dtypes: float64(1), int64(2), object(10)\n",
            "memory usage: 48.8+ KB\n",
            "<class 'pandas.core.frame.DataFrame'>\n",
            "RangeIndex: 479 entries, 0 to 478\n",
            "Data columns (total 24 columns):\n",
            " #   Column      Non-Null Count  Dtype  \n",
            "---  ------      --------------  -----  \n",
            " 0   Dress_ID    479 non-null    float64\n",
            " 1   29-08-2013  479 non-null    int64  \n",
            " 2   31-08-2013  479 non-null    int64  \n",
            " 3   09-02-2013  479 non-null    int64  \n",
            " 4   09-04-2013  479 non-null    int64  \n",
            " 5   09-06-2013  479 non-null    int64  \n",
            " 6   09-08-2013  479 non-null    int64  \n",
            " 7   09-10-2013  479 non-null    int64  \n",
            " 8   09-12-2013  479 non-null    object \n",
            " 9   14-09-2013  479 non-null    object \n",
            " 10  16-09-2013  479 non-null    object \n",
            " 11  18-09-2013  479 non-null    object \n",
            " 12  20-09-2013  479 non-null    object \n",
            " 13  22-09-2013  479 non-null    object \n",
            " 14  24-09-2013  479 non-null    int64  \n",
            " 15  26-09-2013  257 non-null    float64\n",
            " 16  28-09-2013  479 non-null    int64  \n",
            " 17  30-09-2013  222 non-null    float64\n",
            " 18  10-02-2013  220 non-null    float64\n",
            " 19  10-04-2013  221 non-null    float64\n",
            " 20  10-06-2013  479 non-null    int64  \n",
            " 21  10-08-2013  224 non-null    float64\n",
            " 22  10-10-2013  224 non-null    float64\n",
            " 23  10-12-2013  479 non-null    int64  \n",
            "dtypes: float64(7), int64(11), object(6)\n",
            "memory usage: 89.9+ KB\n"
          ]
        }
      ],
      "source": [
        "# Print the information about the attributes of inp0 and inp1.\n",
        "inp0.info()\n",
        "inp1.info()"
      ]
    },
    {
      "cell_type": "markdown",
      "metadata": {
        "id": "5Z46KYKZ3Vqx"
      },
      "source": [
        "### Fixing the Rows and Columns "
      ]
    },
    {
      "cell_type": "markdown",
      "metadata": {
        "id": "apZ3Yb8j3Vqy"
      },
      "source": [
        "As you can see, there is a column in “Attribute Dataset” named as ‘Size’. This column contains the values in abbreviation format. Write a code in Python to convert the followings:\n",
        "\n",
        "- M into  “Medium”\n",
        "- L into  “Large”\n",
        "- XL into “Extra large”\n",
        "- free into “Free”\n",
        "- S, s & small into “Small”.\n",
        "\n",
        "Now once you are done with changes in the dataset, what is the value of the lowest percentage, the highest percentage and the percentage of Small size categories in the column named “Size”?\n"
      ]
    },
    {
      "cell_type": "code",
      "execution_count": 12,
      "metadata": {
        "id": "KSRniWg13Vqz"
      },
      "outputs": [],
      "source": [
        "# Column fixing, correcting size abbreviation. count the percentage of each size category in \"Size\" column.\n",
        "\n",
        "inp0.Size = inp0.Size.replace(['S', 'small', 's'], \"Small\")\n",
        "inp0.Size = inp0.Size.replace('free', \"Free\")\n",
        "inp0.Size = inp0.Size.replace('M', \"Medium\")\n",
        "inp0.Size = inp0.Size.replace('L', \"Large\") \n",
        "inp0.Size = inp0.Size.replace('XL', \"Extra large\")"
      ]
    },
    {
      "cell_type": "code",
      "execution_count": 13,
      "metadata": {
        "colab": {
          "base_uri": "https://localhost:8080/"
        },
        "id": "tZ8TNHWh3Vq1",
        "outputId": "e479fecd-3be1-4388-942c-028472a7412c"
      },
      "outputs": [
        {
          "output_type": "execute_result",
          "data": {
            "text/plain": [
              "Medium         0.356994\n",
              "Free           0.344468\n",
              "Large          0.194154\n",
              "Small          0.075157\n",
              "Extra large    0.029228\n",
              "Name: Size, dtype: float64"
            ]
          },
          "metadata": {},
          "execution_count": 13
        }
      ],
      "source": [
        "# Print the value counts of each category in \"Size\" column.\n",
        "inp0.Size.value_counts(normalize=True)\n",
        "\n",
        "# value of the lowest percentage, \n",
        "# the highest percentage, and \n",
        "# the percentage of Small size categories\n",
        "\n",
        "# are, 2.9%, 35.7%, 7.5%"
      ]
    },
    {
      "cell_type": "code",
      "source": [
        "inp0.head()"
      ],
      "metadata": {
        "colab": {
          "base_uri": "https://localhost:8080/",
          "height": 287
        },
        "id": "8PJR7QrZ7yxi",
        "outputId": "a0e30c01-2008-4497-9b8d-3bf449f1feeb"
      },
      "execution_count": 14,
      "outputs": [
        {
          "output_type": "execute_result",
          "data": {
            "text/plain": [
              "     Dress_ID    Style    Price  Rating    Size  Season NeckLine SleeveLength  \\\n",
              "0  1006032852     Sexy      Low     4.6  Medium  Summer   o-neck    sleevless   \n",
              "1  1212192089   Casual      Low     0.0   Large  Summer   o-neck        Petal   \n",
              "2  1190380701  vintage     High     0.0   Large  Automn   o-neck         full   \n",
              "3   966005983    Brief  Average     4.6   Large  Spring   o-neck         full   \n",
              "4   876339541     cute      Low     4.5  Medium  Summer   o-neck    butterfly   \n",
              "\n",
              "        Material FabricType  Decoration Pattern Type  Recommendation  \n",
              "0            NaN    chiffon     ruffles       animal               1  \n",
              "1     microfiber        NaN     ruffles       animal               0  \n",
              "2       polyster        NaN         NaN        print               0  \n",
              "3           silk    chiffon  embroidary        print               1  \n",
              "4  chiffonfabric    chiffon         bow          dot               0  "
            ],
            "text/html": [
              "\n",
              "  <div id=\"df-7d0b7d60-4331-4e88-a170-d3296e396ca6\">\n",
              "    <div class=\"colab-df-container\">\n",
              "      <div>\n",
              "<style scoped>\n",
              "    .dataframe tbody tr th:only-of-type {\n",
              "        vertical-align: middle;\n",
              "    }\n",
              "\n",
              "    .dataframe tbody tr th {\n",
              "        vertical-align: top;\n",
              "    }\n",
              "\n",
              "    .dataframe thead th {\n",
              "        text-align: right;\n",
              "    }\n",
              "</style>\n",
              "<table border=\"1\" class=\"dataframe\">\n",
              "  <thead>\n",
              "    <tr style=\"text-align: right;\">\n",
              "      <th></th>\n",
              "      <th>Dress_ID</th>\n",
              "      <th>Style</th>\n",
              "      <th>Price</th>\n",
              "      <th>Rating</th>\n",
              "      <th>Size</th>\n",
              "      <th>Season</th>\n",
              "      <th>NeckLine</th>\n",
              "      <th>SleeveLength</th>\n",
              "      <th>Material</th>\n",
              "      <th>FabricType</th>\n",
              "      <th>Decoration</th>\n",
              "      <th>Pattern Type</th>\n",
              "      <th>Recommendation</th>\n",
              "    </tr>\n",
              "  </thead>\n",
              "  <tbody>\n",
              "    <tr>\n",
              "      <th>0</th>\n",
              "      <td>1006032852</td>\n",
              "      <td>Sexy</td>\n",
              "      <td>Low</td>\n",
              "      <td>4.6</td>\n",
              "      <td>Medium</td>\n",
              "      <td>Summer</td>\n",
              "      <td>o-neck</td>\n",
              "      <td>sleevless</td>\n",
              "      <td>NaN</td>\n",
              "      <td>chiffon</td>\n",
              "      <td>ruffles</td>\n",
              "      <td>animal</td>\n",
              "      <td>1</td>\n",
              "    </tr>\n",
              "    <tr>\n",
              "      <th>1</th>\n",
              "      <td>1212192089</td>\n",
              "      <td>Casual</td>\n",
              "      <td>Low</td>\n",
              "      <td>0.0</td>\n",
              "      <td>Large</td>\n",
              "      <td>Summer</td>\n",
              "      <td>o-neck</td>\n",
              "      <td>Petal</td>\n",
              "      <td>microfiber</td>\n",
              "      <td>NaN</td>\n",
              "      <td>ruffles</td>\n",
              "      <td>animal</td>\n",
              "      <td>0</td>\n",
              "    </tr>\n",
              "    <tr>\n",
              "      <th>2</th>\n",
              "      <td>1190380701</td>\n",
              "      <td>vintage</td>\n",
              "      <td>High</td>\n",
              "      <td>0.0</td>\n",
              "      <td>Large</td>\n",
              "      <td>Automn</td>\n",
              "      <td>o-neck</td>\n",
              "      <td>full</td>\n",
              "      <td>polyster</td>\n",
              "      <td>NaN</td>\n",
              "      <td>NaN</td>\n",
              "      <td>print</td>\n",
              "      <td>0</td>\n",
              "    </tr>\n",
              "    <tr>\n",
              "      <th>3</th>\n",
              "      <td>966005983</td>\n",
              "      <td>Brief</td>\n",
              "      <td>Average</td>\n",
              "      <td>4.6</td>\n",
              "      <td>Large</td>\n",
              "      <td>Spring</td>\n",
              "      <td>o-neck</td>\n",
              "      <td>full</td>\n",
              "      <td>silk</td>\n",
              "      <td>chiffon</td>\n",
              "      <td>embroidary</td>\n",
              "      <td>print</td>\n",
              "      <td>1</td>\n",
              "    </tr>\n",
              "    <tr>\n",
              "      <th>4</th>\n",
              "      <td>876339541</td>\n",
              "      <td>cute</td>\n",
              "      <td>Low</td>\n",
              "      <td>4.5</td>\n",
              "      <td>Medium</td>\n",
              "      <td>Summer</td>\n",
              "      <td>o-neck</td>\n",
              "      <td>butterfly</td>\n",
              "      <td>chiffonfabric</td>\n",
              "      <td>chiffon</td>\n",
              "      <td>bow</td>\n",
              "      <td>dot</td>\n",
              "      <td>0</td>\n",
              "    </tr>\n",
              "  </tbody>\n",
              "</table>\n",
              "</div>\n",
              "      <button class=\"colab-df-convert\" onclick=\"convertToInteractive('df-7d0b7d60-4331-4e88-a170-d3296e396ca6')\"\n",
              "              title=\"Convert this dataframe to an interactive table.\"\n",
              "              style=\"display:none;\">\n",
              "        \n",
              "  <svg xmlns=\"http://www.w3.org/2000/svg\" height=\"24px\"viewBox=\"0 0 24 24\"\n",
              "       width=\"24px\">\n",
              "    <path d=\"M0 0h24v24H0V0z\" fill=\"none\"/>\n",
              "    <path d=\"M18.56 5.44l.94 2.06.94-2.06 2.06-.94-2.06-.94-.94-2.06-.94 2.06-2.06.94zm-11 1L8.5 8.5l.94-2.06 2.06-.94-2.06-.94L8.5 2.5l-.94 2.06-2.06.94zm10 10l.94 2.06.94-2.06 2.06-.94-2.06-.94-.94-2.06-.94 2.06-2.06.94z\"/><path d=\"M17.41 7.96l-1.37-1.37c-.4-.4-.92-.59-1.43-.59-.52 0-1.04.2-1.43.59L10.3 9.45l-7.72 7.72c-.78.78-.78 2.05 0 2.83L4 21.41c.39.39.9.59 1.41.59.51 0 1.02-.2 1.41-.59l7.78-7.78 2.81-2.81c.8-.78.8-2.07 0-2.86zM5.41 20L4 18.59l7.72-7.72 1.47 1.35L5.41 20z\"/>\n",
              "  </svg>\n",
              "      </button>\n",
              "      \n",
              "  <style>\n",
              "    .colab-df-container {\n",
              "      display:flex;\n",
              "      flex-wrap:wrap;\n",
              "      gap: 12px;\n",
              "    }\n",
              "\n",
              "    .colab-df-convert {\n",
              "      background-color: #E8F0FE;\n",
              "      border: none;\n",
              "      border-radius: 50%;\n",
              "      cursor: pointer;\n",
              "      display: none;\n",
              "      fill: #1967D2;\n",
              "      height: 32px;\n",
              "      padding: 0 0 0 0;\n",
              "      width: 32px;\n",
              "    }\n",
              "\n",
              "    .colab-df-convert:hover {\n",
              "      background-color: #E2EBFA;\n",
              "      box-shadow: 0px 1px 2px rgba(60, 64, 67, 0.3), 0px 1px 3px 1px rgba(60, 64, 67, 0.15);\n",
              "      fill: #174EA6;\n",
              "    }\n",
              "\n",
              "    [theme=dark] .colab-df-convert {\n",
              "      background-color: #3B4455;\n",
              "      fill: #D2E3FC;\n",
              "    }\n",
              "\n",
              "    [theme=dark] .colab-df-convert:hover {\n",
              "      background-color: #434B5C;\n",
              "      box-shadow: 0px 1px 3px 1px rgba(0, 0, 0, 0.15);\n",
              "      filter: drop-shadow(0px 1px 2px rgba(0, 0, 0, 0.3));\n",
              "      fill: #FFFFFF;\n",
              "    }\n",
              "  </style>\n",
              "\n",
              "      <script>\n",
              "        const buttonEl =\n",
              "          document.querySelector('#df-7d0b7d60-4331-4e88-a170-d3296e396ca6 button.colab-df-convert');\n",
              "        buttonEl.style.display =\n",
              "          google.colab.kernel.accessAllowed ? 'block' : 'none';\n",
              "\n",
              "        async function convertToInteractive(key) {\n",
              "          const element = document.querySelector('#df-7d0b7d60-4331-4e88-a170-d3296e396ca6');\n",
              "          const dataTable =\n",
              "            await google.colab.kernel.invokeFunction('convertToInteractive',\n",
              "                                                     [key], {});\n",
              "          if (!dataTable) return;\n",
              "\n",
              "          const docLinkHtml = 'Like what you see? Visit the ' +\n",
              "            '<a target=\"_blank\" href=https://colab.research.google.com/notebooks/data_table.ipynb>data table notebook</a>'\n",
              "            + ' to learn more about interactive tables.';\n",
              "          element.innerHTML = '';\n",
              "          dataTable['output_type'] = 'display_data';\n",
              "          await google.colab.output.renderOutput(dataTable, element);\n",
              "          const docLink = document.createElement('div');\n",
              "          docLink.innerHTML = docLinkHtml;\n",
              "          element.appendChild(docLink);\n",
              "        }\n",
              "      </script>\n",
              "    </div>\n",
              "  </div>\n",
              "  "
            ]
          },
          "metadata": {},
          "execution_count": 14
        }
      ]
    },
    {
      "cell_type": "markdown",
      "metadata": {
        "id": "618SRz5f3Vq3"
      },
      "source": [
        "### Impute/Remove Missing values"
      ]
    },
    {
      "cell_type": "code",
      "execution_count": 19,
      "metadata": {
        "colab": {
          "base_uri": "https://localhost:8080/"
        },
        "id": "mbEp1d143Vq4",
        "outputId": "b586c106-a60e-45f2-9947-c44722fa4ce2"
      },
      "outputs": [
        {
          "output_type": "execute_result",
          "data": {
            "text/plain": [
              "(Dress_ID            0\n",
              " Style               0\n",
              " Price               2\n",
              " Rating              0\n",
              " Size                0\n",
              " Season              2\n",
              " NeckLine            3\n",
              " SleeveLength        2\n",
              " Material          119\n",
              " FabricType        256\n",
              " Decoration        224\n",
              " Pattern Type      102\n",
              " Recommendation      0\n",
              " dtype: int64,\n",
              " Dress_ID        0\n",
              " 29-08-2013      0\n",
              " 31-08-2013      0\n",
              " 09-02-2013      0\n",
              " 09-04-2013      0\n",
              " 09-06-2013      0\n",
              " 09-08-2013      0\n",
              " 09-10-2013      0\n",
              " 09-12-2013      0\n",
              " 14-09-2013      0\n",
              " 16-09-2013      0\n",
              " 18-09-2013      0\n",
              " 20-09-2013      0\n",
              " 22-09-2013      0\n",
              " 24-09-2013      0\n",
              " 26-09-2013    222\n",
              " 28-09-2013      0\n",
              " 30-09-2013    257\n",
              " 10-02-2013    259\n",
              " 10-04-2013    258\n",
              " 10-06-2013      0\n",
              " 10-08-2013    255\n",
              " 10-10-2013    255\n",
              " 10-12-2013      0\n",
              " dtype: int64)"
            ]
          },
          "metadata": {},
          "execution_count": 19
        }
      ],
      "source": [
        "# Print the null count of each variables of inp0 and inp1.\n",
        "inp0.isnull().sum(), inp1.isnull().sum()"
      ]
    },
    {
      "cell_type": "markdown",
      "metadata": {
        "id": "GYRiJQZ73Vq5"
      },
      "source": [
        "You are given another dataset named “Dress Sales”. Now if you observe the datatypes of the columns using ‘inp1.info()’ command, you can identify that there are certain columns defined as object data type though they primarily consist of numeric data.\n",
        "\n",
        "Now if you try and convert these object data type columns into numeric data type(float), you will come across an error message. Try to correct this error.\n",
        "\n",
        "\n",
        "\n",
        "\n",
        "\n"
      ]
    },
    {
      "cell_type": "code",
      "execution_count": null,
      "metadata": {
        "id": "W5oUHB2I3Vq7"
      },
      "outputs": [],
      "source": [
        "# Print the data types information of inp1 i.e. \"Dress Sales\" data.\n"
      ]
    },
    {
      "cell_type": "code",
      "execution_count": null,
      "metadata": {
        "id": "5srYGV5A3Vq8"
      },
      "outputs": [],
      "source": [
        "# Try to convert the object type into float type of data. YOU GET ERROR MESSAGE.\n"
      ]
    },
    {
      "cell_type": "code",
      "execution_count": null,
      "metadata": {
        "id": "D9TKVdoz3Vq9"
      },
      "outputs": [],
      "source": [
        "# Do the required changes in the \"Dress Sales\" data set to get null values on string values.\n"
      ]
    },
    {
      "cell_type": "code",
      "execution_count": null,
      "metadata": {
        "id": "CLi0pEUy3Vq_"
      },
      "outputs": [],
      "source": [
        "# Convert the object type columns in \"Dress Sales\" into float type of data type.\n"
      ]
    },
    {
      "cell_type": "markdown",
      "metadata": {
        "id": "xdmS7EjA3VrA"
      },
      "source": [
        "When you see the null counts in “Dress Sales” dataset after performing all the operations that have been mentioned in jupyter notebook, you will find that there are some columns in “Dress Sales” data where there are more than 40% of missing values. Based on your understanding of dealing with missing values do the following steps."
      ]
    },
    {
      "cell_type": "code",
      "execution_count": null,
      "metadata": {
        "id": "U21lA_wA3VrB"
      },
      "outputs": [],
      "source": [
        "# Print the null percetange of each column of inp1.\n"
      ]
    },
    {
      "cell_type": "code",
      "execution_count": null,
      "metadata": {
        "id": "JaLLw9Yn3VrC"
      },
      "outputs": [],
      "source": [
        "# Drop the columns in \"Dress Sales\" which have more than 40% of missing values.\n"
      ]
    },
    {
      "cell_type": "markdown",
      "metadata": {
        "id": "P8gVDVwu3VrD"
      },
      "source": [
        "You should categorise the dates into seasons in “Dress Sales” data to simplify the analysis according to the following criteria:\n",
        "- June, July and August: Summer.\n",
        "- September, October and November: Autumn.\n",
        "- December, January and February: WInter.\n",
        "- March, April and May: Spring.\n",
        "\n",
        "\n"
      ]
    },
    {
      "cell_type": "code",
      "execution_count": null,
      "metadata": {
        "id": "O1R8nONn3VrE"
      },
      "outputs": [],
      "source": [
        "# Create the four seasons columns in inp1, according to the above criteria.\n"
      ]
    },
    {
      "cell_type": "code",
      "execution_count": null,
      "metadata": {
        "id": "8My9MaJu3VrF"
      },
      "outputs": [],
      "source": [
        "# calculate the sum of sales in each seasons in inp1 i.e. \"Dress Sales\".\n"
      ]
    },
    {
      "cell_type": "markdown",
      "metadata": {
        "id": "_Yc_eZf13VrG"
      },
      "source": [
        "Now let's merge inp1 with inp0 with left join manner, so that the information of inp0 should remain intact."
      ]
    },
    {
      "cell_type": "code",
      "execution_count": null,
      "metadata": {
        "id": "U1G0yH4V3VrH"
      },
      "outputs": [],
      "source": [
        "# Merge inp0 with inp1 into inp0. this is also called left merge.\n",
        "inp0 = pd.merge(left=inp0,right=inp1, how='left', left_on='Dress_ID', right_on='Dress_ID')\n",
        "inp.head()"
      ]
    },
    {
      "cell_type": "code",
      "execution_count": null,
      "metadata": {
        "id": "vhkmbDOr3VrH"
      },
      "outputs": [],
      "source": [
        "# Now Drop the Date columns from inp0 as it is already combined into four seasons.\n",
        "inp0.drop(inp0.loc[:,'29-08-2013':'10-12-2013'].columns, axis= 1, inplace= True)\n",
        "inp0.isnull().sum()"
      ]
    },
    {
      "cell_type": "markdown",
      "metadata": {
        "id": "P8C6enOh3VrI"
      },
      "source": [
        "Print the null count of inp0 to get the idea about the missing values in data set."
      ]
    },
    {
      "cell_type": "code",
      "execution_count": null,
      "metadata": {
        "id": "0AE7xySm3VrJ"
      },
      "outputs": [],
      "source": [
        "# Print the null count of each columns in inp0 dataframe i.e. combined data frame of inp0 and inp1 without date columns.\n"
      ]
    },
    {
      "cell_type": "markdown",
      "metadata": {
        "id": "ipz7YsCe3VrJ"
      },
      "source": [
        "You can see that there are two types of variables one with a large number of missing values and another is very less number of missing values. These two columns can be categorized as:\n",
        "\n",
        "Type-1: Missing values are very less (around 2 or 3 missing values): Price, Season, NeckLine, SleeveLength, Winter and Autumn. \n",
        "\n",
        "Type-2: Missing values are large in numbers (more than 15%): Material, FabricType, Decoration and Pattern Type.\n",
        "\n"
      ]
    },
    {
      "cell_type": "code",
      "execution_count": null,
      "metadata": {
        "id": "Uf3YLQu23VrK"
      },
      "outputs": [],
      "source": [
        "# Deal with the missing values of Type-1 columns: Price, Season, NeckLine, SleeveLength, Winter and Autumn.\n"
      ]
    },
    {
      "cell_type": "code",
      "execution_count": null,
      "metadata": {
        "id": "DXy400CA3VrL"
      },
      "outputs": [],
      "source": [
        "# Deal with the missing values for Type-2 columns: Material, FabricType, Decoration and Pattern Type.\n"
      ]
    },
    {
      "cell_type": "markdown",
      "metadata": {
        "id": "83358icQ3VrL"
      },
      "source": [
        "### Standardise value "
      ]
    },
    {
      "cell_type": "markdown",
      "metadata": {
        "id": "3o_hFAP93VrM"
      },
      "source": [
        "In the given dataset, there are certain discrepancies with the categorical names such as irregular spellings. Choose the correct option of columns with irregular categories and update them.\n",
        " \n",
        "- Season, NeckLine\n",
        "- Price, Material\n",
        "- fabricType, Decoration\n",
        "- Season, SleeveLength\n"
      ]
    },
    {
      "cell_type": "code",
      "execution_count": null,
      "metadata": {
        "id": "wsdoINUt3VrM"
      },
      "outputs": [],
      "source": [
        "#correcting the spellings.\n"
      ]
    },
    {
      "cell_type": "code",
      "execution_count": null,
      "metadata": {
        "id": "gXTHPtR73VrN"
      },
      "outputs": [],
      "source": [
        "#correcting the Spellings.\n"
      ]
    },
    {
      "cell_type": "markdown",
      "metadata": {
        "id": "nfZ2MipM3VrO"
      },
      "source": [
        "## Univariate Analysis "
      ]
    },
    {
      "cell_type": "markdown",
      "metadata": {
        "id": "TKWIROJP3VrO"
      },
      "source": [
        "### Categorical Unordered Univariate Analysis\n",
        " "
      ]
    },
    {
      "cell_type": "markdown",
      "metadata": {
        "id": "-lATztio3Vrl"
      },
      "source": [
        "There is a column named ‘Style’ in ‘Attribute Dataset’ which consists of the different style categories of the women apparels. Certain categories whose total sale is less than 50000 across all the seasons is considered under one single category as ‘Others’.\n"
      ]
    },
    {
      "cell_type": "markdown",
      "metadata": {
        "id": "JT28NEjK3Vrm"
      },
      "source": [
        "Which of the following categories in ‘Style’ column can be grouped into ‘Others’ category? and perform the grouping operation in the notebook for further analysis.\n",
        "- Flare, fashion\n",
        "- Novelty, bohemian\n",
        "- OL, fashion, work\n",
        "- Novelty, fashion, Flare\n"
      ]
    },
    {
      "cell_type": "code",
      "execution_count": null,
      "metadata": {
        "id": "ZMBmMSIk3Vrn"
      },
      "outputs": [],
      "source": [
        "# Group \"Style\" categories into \"Others\" which have less than 50000 sales across all the seasons.\n"
      ]
    },
    {
      "cell_type": "markdown",
      "metadata": {
        "id": "l_FxZvyA3Vro"
      },
      "source": [
        "What is the percentage of “cute” and “Others” category in “Style” column in “Attribute DataSet” respectively?\n",
        "- 46%, 5%\n",
        "- 9%, 2.1%\n",
        "- 2.1%, 5%\n",
        "- 13.8%, 9%\n"
      ]
    },
    {
      "cell_type": "code",
      "execution_count": null,
      "metadata": {
        "id": "Br5VweSC3Vrp"
      },
      "outputs": [],
      "source": [
        "# Calculate the percentage of each categories in the \"Style\" variable.\n"
      ]
    },
    {
      "cell_type": "markdown",
      "metadata": {
        "id": "F8OdxR9b3Vrq"
      },
      "source": [
        "Similarly Club Neckline, SLeeve length categories into \"Others\" which have less than 50000 sales across all the seasons."
      ]
    },
    {
      "cell_type": "code",
      "execution_count": null,
      "metadata": {
        "id": "db1vISTt3Vrr"
      },
      "outputs": [],
      "source": [
        "# Group \"Neckline\" categories into \"Others\" which have less than 50000 sales across all the seasons.\n"
      ]
    },
    {
      "cell_type": "code",
      "execution_count": null,
      "metadata": {
        "id": "UYG8CApv3Vrs"
      },
      "outputs": [],
      "source": [
        "# Group \"Sleeve length\" categories into \"Others\" which have less than 50000 sales across all the seasons.\n"
      ]
    },
    {
      "cell_type": "markdown",
      "metadata": {
        "id": "PjSbcm9W3Vrt"
      },
      "source": [
        "Club material, fabrictype, patterntype and decoration categories into \"Others\" which have less than 25000 sales across all the seasons"
      ]
    },
    {
      "cell_type": "code",
      "execution_count": null,
      "metadata": {
        "id": "TSCFWCeR3Vru"
      },
      "outputs": [],
      "source": [
        "# Group \"material\" categories into \"Others\" which have less than 25000 sales across all the seasons.\n"
      ]
    },
    {
      "cell_type": "code",
      "execution_count": null,
      "metadata": {
        "id": "FVg8nEwy3Vrv"
      },
      "outputs": [],
      "source": [
        "# Group \"fabric type\" categories into \"Others\" which have less than 25000 sales across all the seasons.\n"
      ]
    },
    {
      "cell_type": "code",
      "execution_count": null,
      "metadata": {
        "id": "0JQ5oBQC3Vrw"
      },
      "outputs": [],
      "source": [
        "# Group \"patern type\" categories into \"Others\" which have less than 25000 sales across all the seasons.\n"
      ]
    },
    {
      "cell_type": "code",
      "execution_count": null,
      "metadata": {
        "id": "yOJYTBcD3Vrx"
      },
      "outputs": [],
      "source": [
        "# Group \"decoration\" categories into \"Others\" which have less than 25000 sales across all the seasons.\n"
      ]
    },
    {
      "cell_type": "markdown",
      "metadata": {
        "id": "hkLnr4ho3Vry"
      },
      "source": [
        "### Caregorical Ordered Univariate Analysis"
      ]
    },
    {
      "cell_type": "markdown",
      "metadata": {
        "id": "xP8ng37H3Vrz"
      },
      "source": [
        "Which of the following is an unordered variable in “Attribute DataSet”.\n",
        "- Style\n",
        "- Price\n",
        "- Season\n",
        "- Size\n"
      ]
    },
    {
      "cell_type": "markdown",
      "metadata": {
        "id": "i3YpGZIO3Vrz"
      },
      "source": [
        "### Numerical variable Univariate analysis:"
      ]
    },
    {
      "cell_type": "markdown",
      "metadata": {
        "id": "YMT7ckI03Vr0"
      },
      "source": [
        "What is the approximate difference between the maximum value and 75th percentile in “Autumn” column.\n",
        "- Approx 54000\n",
        "- Approx 55000\n",
        "- Approx 52000\n",
        "- Approx 50000\n",
        "\n"
      ]
    },
    {
      "cell_type": "code",
      "execution_count": null,
      "metadata": {
        "id": "kS_tO3Co3Vr1"
      },
      "outputs": [],
      "source": [
        "# Describe the numerical variale: \"Autumn\".\n"
      ]
    },
    {
      "cell_type": "code",
      "execution_count": null,
      "metadata": {
        "id": "GgCWze5L3Vr2"
      },
      "outputs": [],
      "source": [
        "# plot the boxplot of \"Autumn\" column.\n"
      ]
    },
    {
      "cell_type": "markdown",
      "metadata": {
        "id": "sjL0_f0x3Vr3"
      },
      "source": [
        "Which of the following season has the highest difference between the maximum value and 99th quantile of sales?\n",
        "- Winter\n",
        "- Summer\n",
        "- Spring\n",
        "- Autumn\n"
      ]
    },
    {
      "cell_type": "code",
      "execution_count": null,
      "metadata": {
        "id": "rP3sJ98Q3Vr4"
      },
      "outputs": [],
      "source": [
        "# Find the maximum and 99th percentile of Winter season.\n"
      ]
    },
    {
      "cell_type": "code",
      "execution_count": null,
      "metadata": {
        "id": "UsmVQ6sC3Vr5"
      },
      "outputs": [],
      "source": [
        "# Find the maximum and 99th percentile of Summer season.\n"
      ]
    },
    {
      "cell_type": "code",
      "execution_count": null,
      "metadata": {
        "id": "Nkb2J-eQ3Vr6"
      },
      "outputs": [],
      "source": [
        "# Find the maximum and 99th percentile of Spring season.\n"
      ]
    },
    {
      "cell_type": "code",
      "execution_count": null,
      "metadata": {
        "id": "xtpoLWmy3Vr7"
      },
      "outputs": [],
      "source": [
        "# Find the maximum and 99th percentile of Autumn season.\n"
      ]
    },
    {
      "cell_type": "markdown",
      "metadata": {
        "id": "8CE2DjfS3Vr9"
      },
      "source": [
        "## Bivariate Analysis "
      ]
    },
    {
      "cell_type": "markdown",
      "metadata": {
        "id": "pQp0hD7x3Vr-"
      },
      "source": [
        "### Numerical- Categorical analysis"
      ]
    },
    {
      "cell_type": "markdown",
      "metadata": {
        "id": "5BCgDG3a3Vr_"
      },
      "source": [
        "Which of the following “Price” category has the lowest average value of rating?\n",
        "- very-high\n",
        "- Medium\n",
        "- Low\n",
        "- High\n"
      ]
    },
    {
      "cell_type": "code",
      "execution_count": null,
      "metadata": {
        "id": "sv4KDzHQ3VsA"
      },
      "outputs": [],
      "source": [
        "# Find the Mean of Ratings for each Price category.\n"
      ]
    },
    {
      "cell_type": "markdown",
      "metadata": {
        "id": "U683-sbq3VsB"
      },
      "source": [
        "What is the median of the rating of “vintage” category in Style column?\n",
        "- 4.6\n",
        "- 4.7\n",
        "- 4.55\n",
        "- 0.00\n"
      ]
    },
    {
      "cell_type": "code",
      "execution_count": null,
      "metadata": {
        "id": "4n7N55Ig3VsD"
      },
      "outputs": [],
      "source": [
        "# Find the median of Ratings for each Style category.\n"
      ]
    },
    {
      "cell_type": "markdown",
      "metadata": {
        "id": "kXPXWmqN3VsE"
      },
      "source": [
        "Which of the following season has the highest average value of sale for “Recommendation” value equals to 1.\n",
        "- Summer\n",
        "- Spring\n",
        "- Autumn\n",
        "- Winter\n"
      ]
    },
    {
      "cell_type": "code",
      "execution_count": null,
      "metadata": {
        "id": "laOlQACm3VsF"
      },
      "outputs": [],
      "source": [
        "# Summer sale vs Recommendation.\n"
      ]
    },
    {
      "cell_type": "code",
      "execution_count": null,
      "metadata": {
        "id": "rp3oGVip3VsH"
      },
      "outputs": [],
      "source": [
        "# Spring sale vs Recommendation.\n"
      ]
    },
    {
      "cell_type": "code",
      "execution_count": null,
      "metadata": {
        "id": "myJV4iSk3VsI"
      },
      "outputs": [],
      "source": [
        "# Autumn sale vs Recommendation.\n"
      ]
    },
    {
      "cell_type": "code",
      "execution_count": null,
      "metadata": {
        "id": "wykTMxAk3VsJ"
      },
      "outputs": [],
      "source": [
        "# Winter sale vs Recommendation.\n"
      ]
    },
    {
      "cell_type": "markdown",
      "metadata": {
        "id": "YL8tzr0M3VsK"
      },
      "source": [
        "### Categorical categorical bivariate analysis\n"
      ]
    },
    {
      "cell_type": "markdown",
      "metadata": {
        "id": "gFm-MZk93VsL"
      },
      "source": [
        "Which of the following size categories has the highest positive recommendations?\n",
        "- Medium and extra large\n",
        "- Extra large and small\n",
        "- Free and small\n",
        "- Free and medium\n"
      ]
    },
    {
      "cell_type": "code",
      "execution_count": null,
      "metadata": {
        "id": "mFy0fCOS3VsM"
      },
      "outputs": [],
      "source": [
        "# Size vs Recommendation.\n"
      ]
    },
    {
      "cell_type": "markdown",
      "metadata": {
        "id": "h2MMBSN_3VsN"
      },
      "source": [
        "### Multivariate analysis "
      ]
    },
    {
      "cell_type": "markdown",
      "metadata": {
        "id": "kV_KVYgW3VsN"
      },
      "source": [
        "Which of the following pair of “Style” and “Price” category has the highest average of positive recommendations?\n",
        "- Price: medium and style: vintage\n",
        "- Price: medium and style: cute\n",
        "- Price: very high and style: party\n",
        "- Price: low and style: sexy\n"
      ]
    },
    {
      "cell_type": "code",
      "execution_count": null,
      "metadata": {
        "id": "55Za-bBQ3VsO"
      },
      "outputs": [],
      "source": [
        "# plot the heat map of Style, price and Recommendation.\n"
      ]
    },
    {
      "cell_type": "markdown",
      "metadata": {
        "id": "9hM33NjM3VsP"
      },
      "source": [
        "Which of the following material type has no recommendation in summer and winter seasons?\n",
        "- Mix and Milksilk\n",
        "- Nylon and Rayon\n",
        "- Microfiber and Silk\n",
        "- Milksilk and Microfiber\n"
      ]
    },
    {
      "cell_type": "code",
      "execution_count": null,
      "metadata": {
        "id": "YWwQsabE3VsQ"
      },
      "outputs": [],
      "source": [
        "# plot the heat map of Season, material and Recommendation.\n"
      ]
    }
  ],
  "metadata": {
    "kernelspec": {
      "display_name": "Python 3",
      "language": "python",
      "name": "python3"
    },
    "language_info": {
      "codemirror_mode": {
        "name": "ipython",
        "version": 3
      },
      "file_extension": ".py",
      "mimetype": "text/x-python",
      "name": "python",
      "nbconvert_exporter": "python",
      "pygments_lexer": "ipython3",
      "version": "3.7.3"
    },
    "colab": {
      "provenance": []
    }
  },
  "nbformat": 4,
  "nbformat_minor": 0
}