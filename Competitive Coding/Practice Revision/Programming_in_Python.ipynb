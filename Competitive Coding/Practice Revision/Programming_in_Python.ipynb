{
  "nbformat": 4,
  "nbformat_minor": 0,
  "metadata": {
    "colab": {
      "provenance": []
    },
    "kernelspec": {
      "name": "python3",
      "display_name": "Python 3"
    },
    "language_info": {
      "name": "python"
    }
  },
  "cells": [
    {
      "cell_type": "markdown",
      "source": [
        "Swapping\n",
        "------------\n",
        "\n",
        "Description\n",
        "\n",
        "You are given two integer variables,  x and y. You have to swap the values stored in x and y.\n",
        "\n",
        "----------------------------------------------------------------------\n",
        "Input:\n",
        "Two numbers x and y separated by a comma.\n",
        "\n",
        "Output:\n",
        "Print 5 lines. The first two lines will have values of variables shown before swapping, and the last two lines will have values of variables shown after swapping. The third line will be blank.\n",
        "\n",
        "----------------------------------------------------------------------\n",
        "Sample input:\n",
        "20, 50\n",
        "\n",
        "Sample output:\n",
        "x before swapping: 20\n",
        "y before swapping: 50\n",
        "\n",
        "x after swapping: 50\n",
        "y after swapping: 20"
      ],
      "metadata": {
        "id": "jm9Y4Xn0I1ED"
      }
    },
    {
      "cell_type": "code",
      "execution_count": null,
      "metadata": {
        "id": "NM-LWdswIkfZ",
        "colab": {
          "base_uri": "https://localhost:8080/"
        },
        "outputId": "26c2d07f-493e-4eee-8b1f-503e833da18a"
      },
      "outputs": [
        {
          "name": "stdout",
          "output_type": "stream",
          "text": [
            "12, 15\n"
          ]
        }
      ],
      "source": [
        "in_string = input()\n",
        "mylist = in_string.split(\", \")\n",
        "\n",
        "x = mylist[0]\n",
        "y = mylist[1]"
      ]
    },
    {
      "cell_type": "code",
      "source": [
        "print(f'x before swapping: {x}')\n",
        "print(f'y before swapping: {y}')"
      ],
      "metadata": {
        "colab": {
          "base_uri": "https://localhost:8080/"
        },
        "id": "VnDRegJpwcyI",
        "outputId": "7863fa85-867d-4090-cb88-a68cfe92fbac"
      },
      "execution_count": null,
      "outputs": [
        {
          "output_type": "stream",
          "name": "stdout",
          "text": [
            "x before swapping: 12\n",
            "y before swapping: 15\n"
          ]
        }
      ]
    },
    {
      "cell_type": "code",
      "source": [
        "z = x\n",
        "x = y\n",
        "y = z"
      ],
      "metadata": {
        "id": "DwZqU69cxG-T"
      },
      "execution_count": null,
      "outputs": []
    },
    {
      "cell_type": "code",
      "source": [
        "print(f'x after swapping: {x}')\n",
        "print(f'y after swapping: {y}')"
      ],
      "metadata": {
        "colab": {
          "base_uri": "https://localhost:8080/"
        },
        "id": "CNftYORPxMFB",
        "outputId": "84ac6346-af90-45ec-fdb0-8ea41b593cd6"
      },
      "execution_count": null,
      "outputs": [
        {
          "output_type": "stream",
          "name": "stdout",
          "text": [
            "x after swapping: 15\n",
            "y after swapping: 12\n"
          ]
        }
      ]
    },
    {
      "cell_type": "markdown",
      "source": [
        "Even Or Odd\n",
        "--------\n",
        "\n",
        "Description\n",
        "\n",
        "Given an integer, print whether it is Even or Odd.\n",
        "\n",
        "----------------------------------------------------------------------\n",
        "Input:\n",
        "An integer\n",
        "\n",
        "Output:\n",
        "'Even' or 'Odd'\n",
        "\n",
        "----------------------------------------------------------------------\n",
        "Sample input:\n",
        "3\n",
        "\n",
        "Sample output:\n",
        "Odd\n",
        "\n",
        "----------------------------------------------------------------------\n",
        "Sample input:\n",
        "6\n",
        "\n",
        "Sample output:\n",
        "Even\n",
        "\n",
        "Execution Time Limit\n",
        "20 seconds"
      ],
      "metadata": {
        "id": "afJKPyHzxzwL"
      }
    },
    {
      "cell_type": "code",
      "source": [
        "num = int(input())\n",
        "\n",
        "if not num%2:\n",
        "  print('Even')\n",
        "else:\n",
        "  print('Odd')"
      ],
      "metadata": {
        "colab": {
          "base_uri": "https://localhost:8080/"
        },
        "id": "Paki9ZnGxXQ9",
        "outputId": "9a1eacb1-10b8-4657-c044-c83e93f010fd"
      },
      "execution_count": null,
      "outputs": [
        {
          "output_type": "stream",
          "name": "stdout",
          "text": [
            "6\n",
            "Even\n"
          ]
        }
      ]
    },
    {
      "cell_type": "markdown",
      "source": [
        "Beautiful Pretty Sexy\n",
        "------\n",
        "\n",
        "Description\n",
        "\n",
        "A number k is beautiful if it is of the form 3n+1, is pretty if it is of the form 3n+2 and is sexy if it is of form 3n.\n",
        "Given a number k, print if it is beautiful, pretty or sexy.\n",
        "\n",
        "Sample input:\n",
        "21\n",
        "\n",
        "Sample output:\n",
        "sexy\n",
        "\n",
        "Sample input:\n",
        "22\n",
        "\n",
        "Sample output:\n",
        "beautiful\n",
        "\n",
        "Sample input:\n",
        "23\n",
        "\n",
        "Sample output:\n",
        "pretty"
      ],
      "metadata": {
        "id": "kDZUTI_dyQpG"
      }
    },
    {
      "cell_type": "code",
      "source": [
        "k = int(input())\n",
        "\n",
        "if k%3 == 1:\n",
        "  print('beautiful')\n",
        "elif k%3 == 2:\n",
        "  print('preety')\n",
        "else:\n",
        "  print('sexy')"
      ],
      "metadata": {
        "colab": {
          "base_uri": "https://localhost:8080/"
        },
        "id": "qVrIosipyEoc",
        "outputId": "1d2c5752-9870-42ac-ccc1-602d573348d6"
      },
      "execution_count": null,
      "outputs": [
        {
          "output_type": "stream",
          "name": "stdout",
          "text": [
            "23\n",
            "preety\n"
          ]
        }
      ]
    },
    {
      "cell_type": "markdown",
      "source": [
        "Alarm Clock\n",
        "------\n",
        "\n",
        "Description\n",
        "\n",
        "You're trying to automate your alarm clock by writing a function for it. You're given a day of the week encoded as 1=Mon, 2=Tue, ... 6=Sat, 7=Sun, and whether you are on vacation as a boolean value (a boolean object is either True or False. Google \"booleans python\" to get a better understanding). Based on the day and whether you're on vacation, write a function that returns a time in form of a string indicating when the alarm clock should ring. \n",
        "\n",
        "When not on a vacation, on weekdays, the alarm should ring at \"7:00\" and on the weekends (Saturday and Sunday) it should ring at \"10:00\". \n",
        "\n",
        "While on a vacation, it should ring at \"10:00\" on weekdays. On vacation, it should not ring on weekends, that is, it should return \"off\".\n",
        "\n",
        "----------------------------------------------------------------------\n",
        "Input:\n",
        "The input will be a list of two elements. The first element will be an integer from 1 to 7, and the second element will be a boolean value.\n",
        "\n",
        "Output:\n",
        "The output will be a string denoting the time alarm will ring or 'off'\n",
        "\n",
        "----------------------------------------------------------------------\n",
        "Sample input:\n",
        "[7, True]\n",
        "\n",
        "Sample output:\n",
        "off\n",
        "\n",
        "----------------------------------------------------------------------\n",
        "Sample input:\n",
        "[3, True]\n",
        "\n",
        "Sample output:\n",
        "10:00\n",
        "\n",
        "----------------------------------------------------------------------"
      ],
      "metadata": {
        "id": "gyo2ew_0zTnn"
      }
    },
    {
      "cell_type": "code",
      "source": [
        "import ast\n",
        "input_str = input()\n",
        "input_list = ast.literal_eval(input_str)\n",
        "\n",
        "day_of_the_week = input_list[0]\n",
        "is_on_vacation = input_list[1]"
      ],
      "metadata": {
        "colab": {
          "base_uri": "https://localhost:8080/"
        },
        "id": "WWvnCo5sygvK",
        "outputId": "ff4a5af7-1f0f-4499-ebda-2ff6be118996"
      },
      "execution_count": null,
      "outputs": [
        {
          "name": "stdout",
          "output_type": "stream",
          "text": [
            "[7,True]\n"
          ]
        }
      ]
    },
    {
      "cell_type": "code",
      "source": [
        "if is_on_vacation:\n",
        "  if day_of_the_week in [6,7]:\n",
        "    print('off')\n",
        "  else:\n",
        "    print('10:00')\n",
        "else:\n",
        "  if day_of_the_week in [6,7]:\n",
        "    print('10:00')\n",
        "  else:\n",
        "    print('7:00')"
      ],
      "metadata": {
        "colab": {
          "base_uri": "https://localhost:8080/"
        },
        "id": "5eAxC1sZ5gIk",
        "outputId": "bc1c5539-394b-4c18-f2dd-bf3e4746251e"
      },
      "execution_count": null,
      "outputs": [
        {
          "output_type": "stream",
          "name": "stdout",
          "text": [
            "off\n"
          ]
        }
      ]
    },
    {
      "cell_type": "markdown",
      "source": [
        "Factorial\n",
        "-------------\n",
        "\n",
        "Description\n",
        "\n",
        "Factorial is a mathematical function denoted by '!'. It is defined as\n",
        "\n",
        "n factorial = n!= 1*2*3...*(n-1)*n\n",
        "\n",
        "In this question, you have to make a function that will take an integer as input, and return the factorial of that integer if that integer is greater than or equal to zero and return -1 if the number is less than zero or negative.\n",
        "\n",
        "Note: the function doesn't return print the factorial but returns it.\n",
        "\n",
        "----------------------------------------------------------------------\n",
        "Input:\n",
        "An integer n\n",
        "\n",
        "Output:\n",
        "The function returns n! if n is greater than or equal to 0.\n",
        "0! = 1\n",
        "and the function returns -1 if the number is less than 0.\n",
        "\n",
        "----------------------------------------------------------------------\n",
        "Sample input:\n",
        "3\n",
        "\n",
        "Sample output:\n",
        "6\n",
        "\n",
        "----------------------------------------------------------------------\n",
        "Sample input:\n",
        "-4\n",
        "\n",
        "Sample output:\n",
        "-1"
      ],
      "metadata": {
        "id": "-RPZ2wFiDZG_"
      }
    },
    {
      "cell_type": "code",
      "source": [
        "number = int(input())\n",
        "\n",
        "def factorial(n):\n",
        "  if n < 0:\n",
        "    return -1\n",
        "  elif n == 0:\n",
        "    return 1\n",
        "  else:\n",
        "    return n*factorial(n-1)\n",
        "\n",
        "k = factorial(number)\n",
        "print(k)"
      ],
      "metadata": {
        "colab": {
          "base_uri": "https://localhost:8080/"
        },
        "id": "CKPECNtk6arX",
        "outputId": "972bb9c5-1050-46d1-c7bd-bd5d8c99b40a"
      },
      "execution_count": null,
      "outputs": [
        {
          "output_type": "stream",
          "name": "stdout",
          "text": [
            "5\n",
            "120\n"
          ]
        }
      ]
    },
    {
      "cell_type": "markdown",
      "source": [
        "Reverse The Digits\n",
        "\n",
        "Description\n",
        "\n",
        "You will be given a number. You have to reverse the digits of the number and print it.\n",
        "\n",
        "----------------------------------------------------------------------\n",
        "Input:\n",
        "A positive integer greater than zero\n",
        "\n",
        "Output:\n",
        "The number in reverse order. Check sample outputs for more details.\n",
        "\n",
        "----------------------------------------------------------------------\n",
        "Sample input:\n",
        "345200\n",
        "\n",
        "Sample output:\n",
        "2543\n",
        "\n",
        "----------------------------------------------------------------------\n",
        "Sample input:\n",
        "6752343\n",
        "\n",
        "Sample output:\n",
        "3432576"
      ],
      "metadata": {
        "id": "mcJtEbB54ZjL"
      }
    },
    {
      "cell_type": "code",
      "source": [
        "n = int(input())\n",
        "\n",
        "r = 0\n",
        "\n",
        "while n>0:\n",
        "  r = r*10 + n%10\n",
        "  n = n//10\n",
        "\n",
        "r"
      ],
      "metadata": {
        "id": "BbE_zy8a_a7f",
        "colab": {
          "base_uri": "https://localhost:8080/"
        },
        "outputId": "082e6330-f18a-4945-9b6e-cabf5325ed4a"
      },
      "execution_count": null,
      "outputs": [
        {
          "name": "stdout",
          "output_type": "stream",
          "text": [
            "345200\n"
          ]
        },
        {
          "output_type": "execute_result",
          "data": {
            "text/plain": [
              "2543"
            ]
          },
          "metadata": {},
          "execution_count": 2
        }
      ]
    },
    {
      "cell_type": "code",
      "source": [
        "int(str(int(input()))[::-1])"
      ],
      "metadata": {
        "colab": {
          "base_uri": "https://localhost:8080/"
        },
        "id": "COYQK7Rx5NpX",
        "outputId": "e190dbc7-3692-4b8e-9fd8-cac51e253f7d"
      },
      "execution_count": null,
      "outputs": [
        {
          "name": "stdout",
          "output_type": "stream",
          "text": [
            "345200\n"
          ]
        },
        {
          "output_type": "execute_result",
          "data": {
            "text/plain": [
              "2543"
            ]
          },
          "metadata": {},
          "execution_count": 5
        }
      ]
    },
    {
      "cell_type": "markdown",
      "source": [
        "How Many Chocolates?\n",
        "-------------\n",
        "\n",
        "Description\n",
        "\n",
        "Sanjay loves chocolates. He goes to a shop to buy his favourite chocolate. There he notices there is an offer going on, upon bringing 3 wrappers of the same chocolate, you will get new chocolate for free. If Sanjay has m Rupees. How many chocolates will he be able to eat if each chocolate costs c Rupees?\n",
        "\n",
        "----------------------------------------------------------------------\n",
        "Input:\n",
        "Two positive integers m and c separated by a comma. The first integer is m and the second integer is c \n",
        "\n",
        "Output:\n",
        "A single integer denoting the number of chocolates Sanjay was able to eat in total.\n",
        "\n",
        "----------------------------------------------------------------------\n",
        "Sample input:\n",
        "15, 2\n",
        "\n",
        "Sample output:\n",
        "10\n",
        "\n",
        "Explanation:\n",
        "First, he will get 15/2=7 chocolates. He then will return 6 wrappers for 2 chocolates. And lastly, these two wrappers and the one he previously had will get him one more chocolate, making a total of 7+2+1=10 chocolates.\n",
        "\n",
        "----------------------------------------------------------------------\n",
        "Sample input:\n",
        "3,1\n",
        "\n",
        "Sample output:\n",
        "4"
      ],
      "metadata": {
        "id": "gQYeGx0k8_Q3"
      }
    },
    {
      "cell_type": "code",
      "source": [
        "m_has_rupees = 15\n",
        "c_cost = 2\n",
        "k_wrapper = 3\n",
        "\n",
        "r_choco = m_has_rupees//c_cost\n",
        "r_choco"
      ],
      "metadata": {
        "colab": {
          "base_uri": "https://localhost:8080/"
        },
        "id": "NKDqi_NJ872d",
        "outputId": "e0e09f9c-7638-47ff-c166-25d162471f37"
      },
      "execution_count": null,
      "outputs": [
        {
          "output_type": "execute_result",
          "data": {
            "text/plain": [
              "7"
            ]
          },
          "metadata": {},
          "execution_count": 42
        }
      ]
    },
    {
      "cell_type": "code",
      "source": [
        "n_wrapper = r_choco//k_wrapper\n",
        "n_wrapper"
      ],
      "metadata": {
        "colab": {
          "base_uri": "https://localhost:8080/"
        },
        "id": "WwLNPptsBeJw",
        "outputId": "f5744d31-a405-4623-d0c3-c55829a1d453"
      },
      "execution_count": null,
      "outputs": [
        {
          "output_type": "execute_result",
          "data": {
            "text/plain": [
              "2"
            ]
          },
          "metadata": {},
          "execution_count": 43
        }
      ]
    },
    {
      "cell_type": "code",
      "source": [
        "l_wrapper = r_choco % k_wrapper\n",
        "l_wrapper"
      ],
      "metadata": {
        "colab": {
          "base_uri": "https://localhost:8080/"
        },
        "id": "_1wmGjGeCPcb",
        "outputId": "ff333270-954b-46b5-921e-aec02a24a99b"
      },
      "execution_count": null,
      "outputs": [
        {
          "output_type": "execute_result",
          "data": {
            "text/plain": [
              "1"
            ]
          },
          "metadata": {},
          "execution_count": 44
        }
      ]
    },
    {
      "cell_type": "code",
      "source": [
        "n_wrapper += l_wrapper\n",
        "n_wrapper"
      ],
      "metadata": {
        "colab": {
          "base_uri": "https://localhost:8080/"
        },
        "id": "M6Ko3YOpCXPy",
        "outputId": "aec99c0e-4524-4e09-e9df-2c50de9d8e87"
      },
      "execution_count": null,
      "outputs": [
        {
          "output_type": "execute_result",
          "data": {
            "text/plain": [
              "3"
            ]
          },
          "metadata": {},
          "execution_count": 45
        }
      ]
    },
    {
      "cell_type": "code",
      "source": [
        "r_choco += n_wrapper\n",
        "r_choco"
      ],
      "metadata": {
        "colab": {
          "base_uri": "https://localhost:8080/"
        },
        "id": "NsE96m9BD5NM",
        "outputId": "f88d024f-81eb-4dd3-cae9-eac19aa7625b"
      },
      "execution_count": null,
      "outputs": [
        {
          "output_type": "execute_result",
          "data": {
            "text/plain": [
              "10"
            ]
          },
          "metadata": {},
          "execution_count": 46
        }
      ]
    },
    {
      "cell_type": "markdown",
      "source": [
        "Sanjay loves chocolates. He goes to a shop to buy his favourite chocolate. There he notices there is an offer going on, upon bringing 3 wrappers of the same chocolate, you will get new chocolate for free. If Sanjay has m Rupees. How many chocolates will he be able to eat if each chocolate costs c Rupees?\n",
        "\n",
        "-------------\n",
        "\n",
        "[ChatGPT](https://chat.openai.com/?model=text-davinci-002-render-sha) :\n",
        "\n",
        "To determine how many chocolates Sanjay will be able to eat, we need to consider the cost of each chocolate and the offer that provides a free chocolate for every three wrappers.\n",
        "\n",
        "Let's break down the scenario step by step:\n",
        "\n",
        "Calculate the number of chocolates Sanjay can initially buy with his m Rupees:\n",
        "Sanjay can buy m // c chocolates, where // denotes integer division. This is because he can only buy whole chocolates.\n",
        "\n",
        "Calculate the number of additional chocolates Sanjay can get from the offer:\n",
        "For every three wrappers, Sanjay can exchange them for an additional chocolate. Therefore, the number of additional chocolates he can get is m // (3c).\n",
        "\n",
        "Calculate the total number of chocolates Sanjay can eat:\n",
        "The total number of chocolates Sanjay can eat is the sum of the initially bought chocolates and the additional chocolates he receives from the offer. Therefore, the total number of chocolates is m // c + m // (3c).\n",
        "\n",
        "Please note that this calculation assumes that Sanjay saves the wrappers and makes use of the offer whenever possible. Also, if the cost of a chocolate is more than the amount of money Sanjay has, he won't be able to buy any chocolates.\n",
        "\n",
        "You can use this formula to calculate the number of chocolates Sanjay can eat based on the given values of m (amount of money) and c (cost of each chocolate)."
      ],
      "metadata": {
        "id": "6PBnekH4Am7M"
      }
    },
    {
      "cell_type": "code",
      "source": [
        "#take input here\n",
        "mc = input().split(',')\n",
        "m = int(mc[0])\n",
        "c = int(mc[1])\n",
        "\n",
        "#start writing your code here\n",
        "w = choc = m//c\n",
        "x = [choc]\n",
        "\n",
        "while w//3 != 0:\n",
        "    choc += w//3\n",
        "    x.append(choc)\n",
        "    w = w//3 + w%3\n",
        "\n",
        "print(choc)\n",
        "x"
      ],
      "metadata": {
        "colab": {
          "base_uri": "https://localhost:8080/"
        },
        "id": "qsxgXc1i-5Np",
        "outputId": "bacd0d55-033f-4111-f1e4-5d3948446b2c"
      },
      "execution_count": null,
      "outputs": [
        {
          "output_type": "stream",
          "name": "stdout",
          "text": [
            "15,2\n",
            "10\n"
          ]
        },
        {
          "output_type": "execute_result",
          "data": {
            "text/plain": [
              "[7, 9, 10]"
            ]
          },
          "metadata": {},
          "execution_count": 66
        }
      ]
    },
    {
      "cell_type": "code",
      "source": [
        "from matplotlib import pyplot as plt\n",
        "plt.plot(x)"
      ],
      "metadata": {
        "colab": {
          "base_uri": "https://localhost:8080/",
          "height": 447
        },
        "id": "P6dSSdK-GEG-",
        "outputId": "d6f8dc15-054c-4172-bccd-1d550097093c"
      },
      "execution_count": null,
      "outputs": [
        {
          "output_type": "execute_result",
          "data": {
            "text/plain": [
              "[<matplotlib.lines.Line2D at 0x7fd8d4825cc0>]"
            ]
          },
          "metadata": {},
          "execution_count": 67
        },
        {
          "output_type": "display_data",
          "data": {
            "text/plain": [
              "<Figure size 640x480 with 1 Axes>"
            ],
            "image/png": "[encoded data removed]"
          },
          "metadata": {}
        }
      ]
    },
    {
      "cell_type": "markdown",
      "source": [
        "Print The Pattern\n",
        "-----------\n",
        "\n",
        "Description\n",
        "\n",
        "Printing different patterns is a very good exercise to reinforce iteration through loops and strong logic building. Here you will be given a positive integer and you will generate pattern based on that integer.\n",
        "\n",
        "----------------------------------------------------------------------\n",
        "Input:\n",
        "A positive integer n\n",
        "1 <= n <=20\n",
        "\n",
        "Output:\n",
        "A pattern as described by the Sample input and outputs below.\n",
        "\n",
        "----------------------------------------------------------------------\n",
        "Sample input:\n",
        "5\n",
        "\n",
        "Sample output:\n",
        "\n",
        "          *\n",
        "         *_*\n",
        "        *_*_*\n",
        "       *_*_*_*\n",
        "      *_*_*_*_*\n",
        "\n",
        "----------------------------------------------------------------------\n",
        "Sample input:\n",
        "3\n",
        "\n",
        "Sample output:\n",
        "\n",
        "      *\n",
        "     *_*\n",
        "    *_*_*\n",
        "\n",
        "Execution Time Limit\n",
        "10 seconds"
      ],
      "metadata": {
        "id": "zIgc3O-iJ3BO"
      }
    },
    {
      "cell_type": "code",
      "source": [
        "n = int(input())\n",
        "\n",
        "for i in range(1, n+1):\n",
        "  for k in range(n-i):\n",
        "    print(' ', end='')\n",
        "  for j in range(i-1):\n",
        "    print('*_', end='')\n",
        "  print('*')"
      ],
      "metadata": {
        "colab": {
          "base_uri": "https://localhost:8080/"
        },
        "id": "dfvdsLoZHpU2",
        "outputId": "eee24ae5-d1c5-4465-9fba-a52e071f81d2"
      },
      "execution_count": null,
      "outputs": [
        {
          "output_type": "stream",
          "name": "stdout",
          "text": [
            "5\n",
            "    *\n",
            "   *_*\n",
            "  *_*_*\n",
            " *_*_*_*\n",
            "*_*_*_*_*\n"
          ]
        }
      ]
    },
    {
      "cell_type": "markdown",
      "source": [
        "Smallest Element\n",
        "-----\n",
        "\n",
        "Description\n",
        "\n",
        "You have to find and print the smallest element of the list given as input. \n",
        "\n",
        "----------------------------------------------------------------------\n",
        "Input:\n",
        "A non-empty list of integers.\n",
        "\n",
        "Output:\n",
        "The smallest integer of the input list.\n",
        "\n",
        "----------------------------------------------------------------------\n",
        "Sample input:\n",
        "[2, -3, 0, 7, 21]\n",
        "\n",
        "Sample output:\n",
        "-3"
      ],
      "metadata": {
        "id": "D9FdIYEEYeG7"
      }
    },
    {
      "cell_type": "code",
      "source": [
        "import ast\n",
        "inp = ast.literal_eval(input())\n",
        "\n",
        "small = inp[0]\n",
        "\n",
        "for i in inp:\n",
        "  if i<small:\n",
        "    small = i\n",
        "\n",
        "small"
      ],
      "metadata": {
        "id": "UhBbqfRnKflJ",
        "colab": {
          "base_uri": "https://localhost:8080/"
        },
        "outputId": "fecea2ea-014d-4cdc-8abc-f86eb7be1402"
      },
      "execution_count": null,
      "outputs": [
        {
          "name": "stdout",
          "output_type": "stream",
          "text": [
            "[2, -3, 0, 7, 21]\n"
          ]
        },
        {
          "output_type": "execute_result",
          "data": {
            "text/plain": [
              "-3"
            ]
          },
          "metadata": {},
          "execution_count": 74
        }
      ]
    },
    {
      "cell_type": "markdown",
      "source": [
        "Above Average\n",
        "------\n",
        "\n",
        "Description\n",
        "\n",
        "Finding the average of the data and comparing it with other values is often encountered while analysing the data. Here you will do the same thing. The data will be provided to you in a list. You will also be given a number check.  You will return whether the number check is above average or no.\n",
        "\n",
        "----------------------------------------------------------------------\n",
        "Input:\n",
        "A list with two elements:\n",
        "The first element will be the list of data of integers and\n",
        "The second element will be an integer check.\n",
        "\n",
        "Output:\n",
        "True if check is above average and False otherwise\n",
        "\n",
        "----------------------------------------------------------------------\n",
        "Sample input:\n",
        "[ [2,4,6,8,10],  4]\n",
        "\n",
        "Sample output:\n",
        "False\n",
        "\n",
        "----------------------------------------------------------------------\n",
        "Sample input:\n",
        "[ [2,4,6,8,-10],  4]\n",
        "\n",
        "Sample output:\n",
        "True"
      ],
      "metadata": {
        "id": "RSdDnQFHaCFh"
      }
    },
    {
      "cell_type": "code",
      "source": [
        "import ast\n",
        "\n",
        "inp = input()\n",
        "inp = ast.literal_eval(inp)\n",
        "\n",
        "inp"
      ],
      "metadata": {
        "id": "tozUFFW9aSOi",
        "colab": {
          "base_uri": "https://localhost:8080/"
        },
        "outputId": "28b48259-f65e-44a4-c026-27cafa4cae6a"
      },
      "execution_count": null,
      "outputs": [
        {
          "name": "stdout",
          "output_type": "stream",
          "text": [
            "[ [2,4,6,8,10], 4]\n"
          ]
        },
        {
          "output_type": "execute_result",
          "data": {
            "text/plain": [
              "[[2, 4, 6, 8, 10], 4]"
            ]
          },
          "metadata": {},
          "execution_count": 75
        }
      ]
    },
    {
      "cell_type": "code",
      "source": [
        "data = inp[0]\n",
        "check = inp[1]"
      ],
      "metadata": {
        "id": "HMo9IOtPas5k"
      },
      "execution_count": null,
      "outputs": []
    },
    {
      "cell_type": "code",
      "source": [
        "s = 0\n",
        "\n",
        "for i in data:\n",
        "  s += i\n",
        "\n",
        "avg = s/len(data)\n",
        "avg"
      ],
      "metadata": {
        "colab": {
          "base_uri": "https://localhost:8080/"
        },
        "id": "03k47Yn2bE1Z",
        "outputId": "90f9676a-4de1-4b99-a761-444e17e8f023"
      },
      "execution_count": null,
      "outputs": [
        {
          "output_type": "execute_result",
          "data": {
            "text/plain": [
              "6.0"
            ]
          },
          "metadata": {},
          "execution_count": 77
        }
      ]
    },
    {
      "cell_type": "code",
      "source": [
        "check > avg"
      ],
      "metadata": {
        "colab": {
          "base_uri": "https://localhost:8080/"
        },
        "id": "FNDvE78IbRhx",
        "outputId": "94e727d4-61e6-47ef-8888-0c511f150797"
      },
      "execution_count": null,
      "outputs": [
        {
          "output_type": "execute_result",
          "data": {
            "text/plain": [
              "False"
            ]
          },
          "metadata": {},
          "execution_count": 79
        }
      ]
    },
    {
      "cell_type": "markdown",
      "source": [
        "Recruit New Members\n",
        "----------\n",
        "\n",
        "Description\n",
        "\n",
        "Suppose you are a manager as a big firm and now are looking for new members for your team. You sent out an advertisement and have received a few applications. You have a habit of scoring people on a scale of 100. You have given scores to all the members of your team and the new applications. The process of selection is going to be very straightforward if the applicant improves the average of the team then you hire the applicant to join the team or else reject the application. Remember the order of processing applications is going to be important here.\n",
        "\n",
        "\n",
        "\n",
        "You may see this as an extension of the previous problem, which it is. You may use the code written in the previous question as a function to improve the code quality.\n",
        "\n",
        "\n",
        "\n",
        "----------------------------------------------------------------------\n",
        "\n",
        "Input:\n",
        "\n",
        "Two lists on two separate lines.\n",
        "\n",
        "The first line will have the list of scores of current team members\n",
        "\n",
        "The second line will have the list of scores of the applicants.\n",
        "\n",
        "\n",
        "\n",
        "Output:\n",
        "\n",
        "The list consisting of scores of the final team after hiring from the pool of applicants.\n",
        "\n",
        "\n",
        "\n",
        "----------------------------------------------------------------------\n",
        "\n",
        "Sample input:\n",
        "\n",
        "[23,45,34,76]\n",
        "\n",
        "[70,34,94]\n",
        "\n",
        "\n",
        "\n",
        "Sample output:\n",
        "\n",
        "[23, 45, 34, 76, 70, 94]\n",
        "\n",
        "\n",
        "Explanation:\n",
        "\n",
        "The first applicant has score 70, and the team average is 44.5 hence the applicant is hired making the team average 49.6\n",
        "\n",
        "The second applicant has score 34, and the team average is 49.6 hence the applicant is rejected keeping the team average same 49.6\n",
        "\n",
        "The third applicant has score 94, and the team average is 49.6 hence the applicant is hired making the team average 57\n",
        "\n",
        "\n",
        "\n",
        "----------------------------------------------------------------------\n",
        "\n",
        "Sample input:\n",
        "\n",
        "[10,20,30,40,50]\n",
        "\n",
        "[30,60,80,40]\n",
        "\n",
        "\n",
        "\n",
        "Sample output:\n",
        "\n",
        "[10, 20, 30, 40, 50, 60, 80]\n",
        "\n",
        "Execution Time Limit\n",
        "20 seconds"
      ],
      "metadata": {
        "id": "gQ7TN6zrdEdv"
      }
    },
    {
      "cell_type": "code",
      "source": [
        "import ast\n",
        "\n",
        "team = ast.literal_eval(input())\n",
        "applicants = ast.literal_eval(input())"
      ],
      "metadata": {
        "colab": {
          "base_uri": "https://localhost:8080/"
        },
        "id": "GAH3NmLkbVAT",
        "outputId": "58432664-5ac1-4895-f271-cb740ea3f969"
      },
      "execution_count": null,
      "outputs": [
        {
          "name": "stdout",
          "output_type": "stream",
          "text": [
            "[10,20,30,40,50]\n",
            "[30,60,80,40]\n"
          ]
        }
      ]
    },
    {
      "cell_type": "code",
      "source": [
        "for i in applicants:\n",
        "  s=0\n",
        "  for j in team:\n",
        "    s += j\n",
        "  avg = s/len(team)\n",
        "  if i > avg:\n",
        "    team.append(i)\n",
        "\n",
        "team"
      ],
      "metadata": {
        "colab": {
          "base_uri": "https://localhost:8080/"
        },
        "id": "YgZ0HccOeCO0",
        "outputId": "e86e8544-81b7-41b6-987b-5f644c4e2617"
      },
      "execution_count": null,
      "outputs": [
        {
          "output_type": "execute_result",
          "data": {
            "text/plain": [
              "[10, 20, 30, 40, 50, 60, 80]"
            ]
          },
          "metadata": {},
          "execution_count": 84
        }
      ]
    },
    {
      "cell_type": "markdown",
      "source": [
        "Calendar\n",
        "-----------\n",
        "\n",
        "Description\n",
        "\n",
        "You are planning to go to your friend's wedding and you have long events all month, lasting at least a few days. You have the start and end dates of events and your task is to find out events overlapping with the wedding date.\n",
        "\n",
        "The code for taking input has already been written for you, please don't modify that, but do read and try to understand the way input has been taken. You will be asked to take input on your own for most of the problems here onwards. Taking data in a suitable format is an important skill for a Data Scientist.\n",
        "\n",
        "----------------------------------------------------------------------\n",
        "Input:\n",
        "The input will contain a list of lists where each sub-list has only two elements representing the start and end date of an event, the start date will be less than or equal to the end date. The next line of input will have a wedding date. \n",
        "\n",
        "Output:\n",
        "The output should have the number of events overlapping with the wedding date.\n",
        "\n",
        "----------------------------------------------------------------------\n",
        "Sample input:\n",
        "[ [29,31], [23,26], [24,25] ]\n",
        "24\n",
        "\n",
        "Sample output:\n",
        "2\n",
        "\n",
        "Explanation:\n",
        "There are three events in the month.\n",
        "Event 1= from date 29 to 31\n",
        "Event 2= from date 23 to 26\n",
        "Event 3= from date 24 to 25\n",
        "Wedding is on 24. This means it will clash with Event 3 and Event 2, that is two events. The output is therefore 2.\n",
        "\n",
        "----------------------------------------------------------------------\n",
        "Sample input:\n",
        "[ [1, 4], [7, 10], [8, 8], [14, 23] ]\n",
        "26\n",
        "\n",
        "Sample output:\n",
        "0"
      ],
      "metadata": {
        "id": "tXlf4wCUhkem"
      }
    },
    {
      "cell_type": "code",
      "source": [
        "import ast\n",
        "\n",
        "events = ast.literal_eval(input())\n",
        "wed = ast.literal_eval(input())"
      ],
      "metadata": {
        "colab": {
          "base_uri": "https://localhost:8080/"
        },
        "id": "7cSGsmBgeH7K",
        "outputId": "59bfef19-c4f2-442d-ad13-e2087c01d134"
      },
      "execution_count": null,
      "outputs": [
        {
          "name": "stdout",
          "output_type": "stream",
          "text": [
            "[ [29,31], [23,26], [24,25] ]\n",
            "24\n"
          ]
        }
      ]
    },
    {
      "cell_type": "code",
      "source": [
        "clash = 0\n",
        "for i in events:\n",
        "  if wed in range(i[0], i[1] +1):\n",
        "    clash +=1\n",
        "\n",
        "clash"
      ],
      "metadata": {
        "colab": {
          "base_uri": "https://localhost:8080/"
        },
        "id": "u2R9zd6XiHIP",
        "outputId": "39696b23-e9f3-4e6c-a43e-986d4f615c33"
      },
      "execution_count": null,
      "outputs": [
        {
          "output_type": "execute_result",
          "data": {
            "text/plain": [
              "2"
            ]
          },
          "metadata": {},
          "execution_count": 88
        }
      ]
    },
    {
      "cell_type": "markdown",
      "source": [
        "Fenced Matrix\n",
        "-------------\n",
        "\n",
        "Description\n",
        "\n",
        "You will be given two positive integers m and n. You have to make a list of lists (which can be visualised as a matrix) of size m*n, that is m sublists (rows), with each sublists having n integers (columns). The matrix should be such that it should have 1 on the border and 0 everywhere else. See sample input and output for more clarification.\n",
        "\n",
        "\n",
        "\n",
        "----------------------------------------------------------------------\n",
        "\n",
        "Input:\n",
        "\n",
        "Two integers separated by a comma\n",
        "\n",
        "\n",
        "\n",
        "Output:\n",
        "\n",
        "A list of lists of size m*n printed like matrix as shown in the sample output.\n",
        "\n",
        "\n",
        "\n",
        "----------------------------------------------------------------------\n",
        "\n",
        "Sample input:\n",
        "\n",
        "4,5\n",
        "\n",
        "\n",
        "\n",
        "Sample output:\n",
        "\n",
        "    [1, 1, 1, 1, 1]\n",
        "    [1, 0, 0, 0, 1]\n",
        "    [1, 0, 0, 0, 1]\n",
        "    [1, 1, 1, 1, 1]\n",
        "\n",
        "\n",
        "----------------------------------------------------------------------\n",
        "\n",
        "Sample input:\n",
        "\n",
        "3,3\n",
        "\n",
        "\n",
        "\n",
        "Sample output:\n",
        "\n",
        "    [1, 1, 1]\n",
        "    [1, 0, 1]\n",
        "    [1, 1, 1]\n",
        "\n",
        "\n",
        "----------------------------------------------------------------------\n",
        "\n",
        "Sample input:\n",
        "\n",
        "3,2\n",
        "\n",
        "\n",
        "\n",
        "Sample output:\n",
        "\n",
        "    [1, 1]\n",
        "    [1, 1]\n",
        "    [1, 1]\n",
        "\n",
        "Execution Time Limit\n",
        "\n",
        "20 seconds"
      ],
      "metadata": {
        "id": "M6vFV0GXjbbz"
      }
    },
    {
      "cell_type": "code",
      "source": [
        "import ast\n",
        "m,n = ast.literal_eval(input())"
      ],
      "metadata": {
        "colab": {
          "base_uri": "https://localhost:8080/"
        },
        "id": "tbP7TjWbiYUg",
        "outputId": "5c5c39f3-d69c-435e-f8b5-5a68ef6fe36e"
      },
      "execution_count": null,
      "outputs": [
        {
          "name": "stdout",
          "output_type": "stream",
          "text": [
            "3,3\n"
          ]
        }
      ]
    },
    {
      "cell_type": "code",
      "source": [
        "final = [list([0]*n) for i in range(m)]\n",
        "\n",
        "for i in final:\n",
        "  print(i)"
      ],
      "metadata": {
        "colab": {
          "base_uri": "https://localhost:8080/"
        },
        "id": "Doz2NaJakx57",
        "outputId": "cb8e1697-5152-4d06-c0bd-165e7222fcfc"
      },
      "execution_count": null,
      "outputs": [
        {
          "output_type": "stream",
          "name": "stdout",
          "text": [
            "[0, 0, 0]\n",
            "[0, 0, 0]\n",
            "[0, 0, 0]\n"
          ]
        }
      ]
    },
    {
      "cell_type": "code",
      "source": [
        "for i in range(m):\n",
        "  for j in range(n):\n",
        "    if i==0 or i==m-1 or j==0 or j==n-1:\n",
        "      final[i][j] = 1"
      ],
      "metadata": {
        "id": "QRJhmp_0naFR"
      },
      "execution_count": null,
      "outputs": []
    },
    {
      "cell_type": "code",
      "source": [
        "for i in final:\n",
        "  print(i)"
      ],
      "metadata": {
        "colab": {
          "base_uri": "https://localhost:8080/"
        },
        "id": "MZyJJIb7ls8J",
        "outputId": "c333bf83-e990-4595-8105-b4e078ee03b9"
      },
      "execution_count": null,
      "outputs": [
        {
          "output_type": "stream",
          "name": "stdout",
          "text": [
            "[1, 1, 1]\n",
            "[1, 0, 1]\n",
            "[1, 1, 1]\n"
          ]
        }
      ]
    },
    {
      "cell_type": "markdown",
      "source": [
        "Palindrome String\n",
        "-------\n",
        "\n",
        "Description\n",
        "\n",
        "Write a program to check whether a string is a palindrome or not. Print 1 if the string is a palindrome and 0 otherwise.\n",
        "\n",
        "Note: Please ensure that your program should not be case-sensitive. So, if the input is, say, “HAnnah”, then, its output should be 1.\n",
        "\n",
        "----------------------------------------------------------------------\n",
        "Input:\n",
        "A string\n",
        "\n",
        "Output:\n",
        "1 if the string is a palindrome, 0 otherwise\n",
        "\n",
        "----------------------------------------------------------------------\n",
        "Sample input:\n",
        "HAnnah\n",
        "\n",
        "Sample output:\n",
        "1\n",
        "\n",
        "----------------------------------------------------------------------\n",
        "Sample input:\n",
        "Rebecca\n",
        "\n",
        "Sample output:\n",
        "0"
      ],
      "metadata": {
        "id": "au7bUuC2z88e"
      }
    },
    {
      "cell_type": "code",
      "source": [
        "inp = input()\n",
        "\n",
        "if inp.lower() == inp[::-1].lower():\n",
        "  print(1)\n",
        "else:\n",
        "  print(0)"
      ],
      "metadata": {
        "id": "f8r0S3J5nb1g",
        "colab": {
          "base_uri": "https://localhost:8080/"
        },
        "outputId": "2f7f5ca9-20f2-47a6-f9d8-8846fe77ff4d"
      },
      "execution_count": null,
      "outputs": [
        {
          "output_type": "stream",
          "name": "stdout",
          "text": [
            "\"HAnnah\"\n",
            "1\n"
          ]
        }
      ]
    },
    {
      "cell_type": "markdown",
      "source": [
        "Reverse Words\n",
        "---------\n",
        "\n",
        "Description\n",
        "\n",
        "You will be given a sentence in the form of a string. You have to reverse the order of the words in the sentence. Remember not to reverse the individual words, but the order of words. Check the sample input-output for further clarification.\n",
        "\n",
        "----------------------------------------------------------------------\n",
        "Input:\n",
        "A string, which will consist of a few spaces.\n",
        "\n",
        "Output:\n",
        "The words in reverse order.\n",
        "\n",
        "----------------------------------------------------------------------\n",
        "Sample input:\n",
        "I love coding in python\n",
        "\n",
        "Sample output:\n",
        "python in coding love I\n",
        "\n",
        "----------------------------------------------------------------------\n",
        "Sample input:\n",
        "python is super easy and fun\n",
        "\n",
        "Sample output:\n",
        "fun and easy super is python"
      ],
      "metadata": {
        "id": "GpYdk3OW0Z0c"
      }
    },
    {
      "cell_type": "code",
      "source": [
        "inp = input()\n",
        "\n",
        "' '.join(inp.split()[::-1])"
      ],
      "metadata": {
        "colab": {
          "base_uri": "https://localhost:8080/",
          "height": 53
        },
        "id": "xfx7bkxQ0OOV",
        "outputId": "1d56ebec-bdb1-439a-e3d1-0f4c8398fa2d"
      },
      "execution_count": null,
      "outputs": [
        {
          "name": "stdout",
          "output_type": "stream",
          "text": [
            "I love coding in python\n"
          ]
        },
        {
          "output_type": "execute_result",
          "data": {
            "text/plain": [
              "'python in coding love I'"
            ],
            "application/vnd.google.colaboratory.intrinsic+json": {
              "type": "string"
            }
          },
          "metadata": {},
          "execution_count": 7
        }
      ]
    },
    {
      "cell_type": "markdown",
      "source": [
        "No Spaces\n",
        "------\n",
        "\n",
        "Description\n",
        "\n",
        "While naming entities, it is a common practice to avoid spaces. That is the reason you see so many people using underscores instead of spaces. \n",
        "You will be given a string, containing a few spaces and random upper and lower cases. You have to write a code that will add underscore in place of spaces and also capitalise the letters properly, i.e. the first letter after underscore should be in upper case and the first letter of the string should be in upper case, all of the other letters should be lower case. \n",
        "This type of activity is frequently encountered while starting to analyse data. This is called Data cleaning and you will learn more about it in upcoming modules.\n",
        "\n",
        "----------------------------------------------------------------------\n",
        "Input:\n",
        "A string of only alphabets and spaces\n",
        "\n",
        "Output:\n",
        "A string formatted as stated above. See sample input/output for more clarification,\n",
        "\n",
        "----------------------------------------------------------------------\n",
        "Sample input:\n",
        "caloRie consuMed\n",
        "\n",
        "Sample output:\n",
        "Calorie_Consumed\n",
        "\n",
        "----------------------------------------------------------------------\n",
        "Sample input:\n",
        "data science\n",
        "\n",
        "Sample output:\n",
        "Data_Science"
      ],
      "metadata": {
        "id": "JloYArAo1Js4"
      }
    },
    {
      "cell_type": "code",
      "source": [
        "inp = input()\n",
        "inp"
      ],
      "metadata": {
        "colab": {
          "base_uri": "https://localhost:8080/",
          "height": 53
        },
        "id": "i5aOHznf0i_9",
        "outputId": "9b9bbd40-3a09-4613-be4a-a076fffab123"
      },
      "execution_count": null,
      "outputs": [
        {
          "name": "stdout",
          "output_type": "stream",
          "text": [
            "caloRie consuMed\n"
          ]
        },
        {
          "output_type": "execute_result",
          "data": {
            "text/plain": [
              "'caloRie consuMed'"
            ],
            "application/vnd.google.colaboratory.intrinsic+json": {
              "type": "string"
            }
          },
          "metadata": {},
          "execution_count": 8
        }
      ]
    },
    {
      "cell_type": "code",
      "source": [
        "'_'.join([i.title() for i in inp.split()])"
      ],
      "metadata": {
        "colab": {
          "base_uri": "https://localhost:8080/",
          "height": 36
        },
        "id": "VLAwbIIp1Oxa",
        "outputId": "f174f32d-4afe-41e9-99de-2d26af8d60f7"
      },
      "execution_count": null,
      "outputs": [
        {
          "output_type": "execute_result",
          "data": {
            "text/plain": [
              "'Calorie_Consumed'"
            ],
            "application/vnd.google.colaboratory.intrinsic+json": {
              "type": "string"
            }
          },
          "metadata": {},
          "execution_count": 11
        }
      ]
    },
    {
      "cell_type": "code",
      "source": [
        "'_'.join([i.title() for i in input().split()])"
      ],
      "metadata": {
        "colab": {
          "base_uri": "https://localhost:8080/",
          "height": 53
        },
        "id": "iM04r_Wj1TD_",
        "outputId": "0420113f-f7c9-480e-b753-cc2831bb0c3f"
      },
      "execution_count": null,
      "outputs": [
        {
          "name": "stdout",
          "output_type": "stream",
          "text": [
            "data science\n"
          ]
        },
        {
          "output_type": "execute_result",
          "data": {
            "text/plain": [
              "'Data_Science'"
            ],
            "application/vnd.google.colaboratory.intrinsic+json": {
              "type": "string"
            }
          },
          "metadata": {},
          "execution_count": 13
        }
      ]
    },
    {
      "cell_type": "markdown",
      "source": [
        "Shift Vowels\n",
        "------\n",
        "\n",
        "Description\n",
        "\n",
        "Write a program that receives a string and shifts all the vowels present in it to the beginning. Output the resultant string. The order of all the vowels with respect to each other as well as the order of all the other characters with respect to each other should stay the same.\n",
        "\n",
        "----------------------------------------------------------------------\n",
        "Input:\n",
        "A string\n",
        "\n",
        "Output:\n",
        "Vowels shifted to the beginning in the input string.\n",
        "\n",
        "----------------------------------------------------------------------\n",
        "Sample input:\n",
        "programming\n",
        "\n",
        "Sample output:\n",
        "oaiprgrmmng\n",
        "\n",
        "----------------------------------------------------------------------\n",
        "Sample input:\n",
        "You love Python!\n",
        "\n",
        "Sample output:\n",
        "ouoeoY lv Pythn!\n",
        "\n",
        "----------------------------------------------------------------------\n",
        "Explanation:\n",
        "All the vowels have been shifted to the beginning in order. The order of all the other characters remains the same."
      ],
      "metadata": {
        "id": "G4YR5ngl2WaJ"
      }
    },
    {
      "cell_type": "code",
      "source": [
        "inp = input()\n",
        "inp"
      ],
      "metadata": {
        "colab": {
          "base_uri": "https://localhost:8080/",
          "height": 53
        },
        "id": "hj5P9wZN12f9",
        "outputId": "c986183f-d10a-4ae6-d600-487e0e98042b"
      },
      "execution_count": null,
      "outputs": [
        {
          "name": "stdout",
          "output_type": "stream",
          "text": [
            "You love Python!\n"
          ]
        },
        {
          "output_type": "execute_result",
          "data": {
            "text/plain": [
              "'You love Python!'"
            ],
            "application/vnd.google.colaboratory.intrinsic+json": {
              "type": "string"
            }
          },
          "metadata": {},
          "execution_count": 15
        }
      ]
    },
    {
      "cell_type": "code",
      "source": [
        "''.join([i for i in inp if i in 'aeiou'] + [i for i in inp if i not in 'aeiou'])"
      ],
      "metadata": {
        "colab": {
          "base_uri": "https://localhost:8080/",
          "height": 36
        },
        "id": "THX25h0d2dnr",
        "outputId": "95f53a8a-0892-41c9-c082-073311026de7"
      },
      "execution_count": null,
      "outputs": [
        {
          "output_type": "execute_result",
          "data": {
            "text/plain": [
              "'ouoeoY lv Pythn!'"
            ],
            "application/vnd.google.colaboratory.intrinsic+json": {
              "type": "string"
            }
          },
          "metadata": {},
          "execution_count": 19
        }
      ]
    },
    {
      "cell_type": "markdown",
      "source": [
        "Common Prefix\n",
        "------------\n",
        "\n",
        "Description\n",
        "\n",
        "You will be given two strings. You have to find the largest prefix common in both the strings.\n",
        "\n",
        "\n",
        "\n",
        "----------------------------------------------------------------------\n",
        "\n",
        "Input:\n",
        "\n",
        "Two lines of input, one string on each line\n",
        "\n",
        "\n",
        "\n",
        "Output:\n",
        "\n",
        "The common largest prefix for both strings. Check sample input/output for clarification. -1 if no prefix is common.\n",
        "\n",
        "\n",
        "\n",
        "----------------------------------------------------------------------\n",
        "\n",
        "Sample input:\n",
        "\n",
        "abshdksajd\n",
        "\n",
        "abshiehand\n",
        "\n",
        "\n",
        "\n",
        "Sample output:\n",
        "\n",
        "absh\n",
        "\n",
        "\n",
        "\n",
        "----------------------------------------------------------------------\n",
        "\n",
        "Sample input:\n",
        "\n",
        "upgradData\n",
        "\n",
        "upGradScience\n",
        "\n",
        "\n",
        "\n",
        "Sample output:\n",
        "\n",
        "upgrad\n",
        "\n",
        "\n",
        "\n",
        "----------------------------------------------------------------------\n",
        "\n",
        "Sample input:\n",
        "\n",
        "upgrad\n",
        "\n",
        "upGradScience\n",
        "\n",
        "\n",
        "\n",
        "Sample output:\n",
        "\n",
        "upgrad\n",
        "\n",
        "\n",
        "\n",
        "----------------------------------------------------------------------\n",
        "\n",
        "Note: the last sample input/output clearly shows the code is not case sensitive."
      ],
      "metadata": {
        "id": "gzdtoBDy3fGu"
      }
    },
    {
      "cell_type": "code",
      "source": [
        "inp1 = input()\n",
        "inp2 = input()\n",
        "inp1, inp2"
      ],
      "metadata": {
        "colab": {
          "base_uri": "https://localhost:8080/"
        },
        "id": "TRQS1XJb20v5",
        "outputId": "77a80d96-66f7-49a0-9340-533f06091253"
      },
      "execution_count": null,
      "outputs": [
        {
          "name": "stdout",
          "output_type": "stream",
          "text": [
            "upgradData\n",
            "upGradScience\n"
          ]
        },
        {
          "output_type": "execute_result",
          "data": {
            "text/plain": [
              "('upgradData', 'upGradScience')"
            ]
          },
          "metadata": {},
          "execution_count": 27
        }
      ]
    },
    {
      "cell_type": "code",
      "source": [
        "minlen = min(len(inp1), len(inp2))\n",
        "minlen"
      ],
      "metadata": {
        "colab": {
          "base_uri": "https://localhost:8080/"
        },
        "id": "OaKSbLcU3kC0",
        "outputId": "22d158ca-a293-4c9b-d9dc-253cee58aec2"
      },
      "execution_count": null,
      "outputs": [
        {
          "output_type": "execute_result",
          "data": {
            "text/plain": [
              "10"
            ]
          },
          "metadata": {},
          "execution_count": 28
        }
      ]
    },
    {
      "cell_type": "code",
      "source": [
        "for i in range(minlen):\n",
        "  if inp1[i].lower() == inp2[i].lower():\n",
        "    print(inp1[i], end='')\n",
        "  else:\n",
        "    break"
      ],
      "metadata": {
        "colab": {
          "base_uri": "https://localhost:8080/"
        },
        "id": "oREh4owU33PF",
        "outputId": "86f3af3d-e734-486f-e9bd-1449d03cba0d"
      },
      "execution_count": null,
      "outputs": [
        {
          "output_type": "stream",
          "name": "stdout",
          "text": [
            "upgrad"
          ]
        }
      ]
    },
    {
      "cell_type": "markdown",
      "source": [
        "Anagrams\n",
        "------\n",
        "\n",
        "Description\n",
        "\n",
        "Two strings are anagrams of each other if you can rearrange the characters of one string to make the other string.\n",
        "Given two strings, can you find if they are anagrams or no?\n",
        "\n",
        "----------------------------------------------------------------------\n",
        "Input:\n",
        "Two lines of input, each line will contain a string without space.\n",
        "\n",
        "Output:\n",
        "True or False based on whether the strings are anagrams or not.\n",
        "\n",
        "----------------------------------------------------------------------\n",
        "Sample input:\n",
        "thing\n",
        "night\n",
        "\n",
        "Sample output:\n",
        "True\n",
        "\n",
        "----------------------------------------------------------------------\n",
        "Sample input:\n",
        "upgrad\n",
        "found\n",
        "\n",
        "Sample output:\n",
        "False\n",
        "\n",
        "----------------------------------------------------------------------\n",
        "Note: the code will be case-Sensitive\n",
        "Hint: if the length of the strings doesn't match, the strings are obviously not anagrams."
      ],
      "metadata": {
        "id": "CDWZeegY5sCB"
      }
    },
    {
      "cell_type": "code",
      "source": [
        "set(input().lower()) == set(input().lower())"
      ],
      "metadata": {
        "colab": {
          "base_uri": "https://localhost:8080/"
        },
        "id": "gUHXnhgD52KX",
        "outputId": "86e11b08-4adb-4ee2-b23c-a7d1012c032a"
      },
      "execution_count": null,
      "outputs": [
        {
          "name": "stdout",
          "output_type": "stream",
          "text": [
            "thing\n",
            "night\n"
          ]
        },
        {
          "output_type": "execute_result",
          "data": {
            "text/plain": [
              "True"
            ]
          },
          "metadata": {},
          "execution_count": 35
        }
      ]
    },
    {
      "cell_type": "markdown",
      "source": [
        "# `del` keyword"
      ],
      "metadata": {
        "id": "tiKo6_Eg6mqx"
      }
    },
    {
      "cell_type": "code",
      "source": [
        "dict_1 = {'Python':40, 'R':45}\n",
        "del dict_1['R']\n",
        "dict_1"
      ],
      "metadata": {
        "colab": {
          "base_uri": "https://localhost:8080/"
        },
        "id": "jDdkG5aA59tE",
        "outputId": "d9e72bf5-fbb5-4daf-d9c6-8e2bccc1c9ce"
      },
      "execution_count": null,
      "outputs": [
        {
          "output_type": "execute_result",
          "data": {
            "text/plain": [
              "{'Python': 40}"
            ]
          },
          "metadata": {},
          "execution_count": 36
        }
      ]
    },
    {
      "cell_type": "markdown",
      "source": [
        "Remove Duplicates\n",
        "--------\n",
        "\n",
        "Description\n",
        "\n",
        "Sometimes the data has few duplicate values which will affect the analysis done. In this problem, you will be given a list. You have to find and delete the duplicates and print the updated list with no duplicates.\n",
        "\n",
        "----------------------------------------------------------------------\n",
        "Input:\n",
        "A list of integers.\n",
        "\n",
        "Output:\n",
        "A list of integers, with duplicates removed if any.\n",
        "\n",
        "----------------------------------------------------------------------\n",
        "Sample input:\n",
        "[8, 9, 2, 2, 3, 4, 5, 2]\n",
        "\n",
        "Sample output:\n",
        "[8, 9, 2, 3, 4, 5]\n",
        "\n",
        "----------------------------------------------------------------------\n",
        "Sample input:\n",
        "[4, 4, 4, 4]\n",
        "\n",
        "Sample output:\n",
        "[4]\n",
        "\n",
        "----------------------------------------------------------------------\n",
        "Note the order of the data did not change in input and output."
      ],
      "metadata": {
        "id": "Jm2mZDLk7Wgr"
      }
    },
    {
      "cell_type": "code",
      "source": [
        "import ast\n",
        "\n",
        "inp = input()\n",
        "inp = ast.literal_eval(inp)\n",
        "type(inp)"
      ],
      "metadata": {
        "colab": {
          "base_uri": "https://localhost:8080/"
        },
        "id": "c2vG_yJ56g9C",
        "outputId": "8e84d9c5-c3a7-4e11-81a9-18f11334e077"
      },
      "execution_count": null,
      "outputs": [
        {
          "name": "stdout",
          "output_type": "stream",
          "text": [
            "[8, 9, 2, 2, 3, 4, 5, 2]\n"
          ]
        },
        {
          "output_type": "execute_result",
          "data": {
            "text/plain": [
              "list"
            ]
          },
          "metadata": {},
          "execution_count": 38
        }
      ]
    },
    {
      "cell_type": "code",
      "source": [
        "x = []\n",
        "\n",
        "for i in inp:\n",
        "  if i not in x:\n",
        "    x.append(i)\n",
        "\n",
        "x"
      ],
      "metadata": {
        "colab": {
          "base_uri": "https://localhost:8080/"
        },
        "id": "_R5JA_QR7iaj",
        "outputId": "73061f37-a418-437a-988f-e611ab84788c"
      },
      "execution_count": null,
      "outputs": [
        {
          "output_type": "execute_result",
          "data": {
            "text/plain": [
              "[8, 9, 2, 3, 4, 5]"
            ]
          },
          "metadata": {},
          "execution_count": 40
        }
      ]
    },
    {
      "cell_type": "markdown",
      "source": [
        "Dictionary And List\n",
        "-------\n",
        "\n",
        "Description\n",
        "\n",
        "You will be converting a dictionary, of string(keys) and list of string (values),  to a list of strings. Please check the sample input/output for clarification.\n",
        "\n",
        "\n",
        "Input:\n",
        "A dictionary with keys as strings and values as a list of strings.\n",
        "\n",
        "Output:\n",
        "A list of strings\n",
        "\n",
        "\n",
        "Sample input:\n",
        "{‘Mobile’: [‘Redmi’, ‘Samsung’, ‘Realme’], \n",
        "‘Laptop’: [‘Dell’, ‘HP’],\n",
        "‘TV’: [‘Videocon’, ‘Sony’] }\n",
        "\n",
        "Sample output:\n",
        "[‘Mobile_Redmi’, ‘Mobile_Samsung’, ‘Mobile_Realme’, ‘Laptop_Dell’, ‘Laptop_HP’, ‘TV_Videocon’, ‘TV_Sony’]\n",
        "\n",
        "\n",
        "Sample input:\n",
        "{ 'Pen': ['Gel', 'Ink', 'ball'],\n",
        "'Mobile': ['Android', 'apple'] }\n",
        "\n",
        "Sample output:\n",
        "['Pen_Gel', 'Pen_Ink', 'Pen_ball', 'Mobile_Android', 'Mobile_apple']"
      ],
      "metadata": {
        "id": "Ccj316pc8GOd"
      }
    },
    {
      "cell_type": "code",
      "source": [
        "import ast\n",
        "\n",
        "inp = ast.literal_eval(input())\n",
        "type(inp)"
      ],
      "metadata": {
        "id": "4fU-CCuT7trm",
        "colab": {
          "base_uri": "https://localhost:8080/"
        },
        "outputId": "6a370af9-cd15-4345-baab-6a019b3b8c21"
      },
      "execution_count": 41,
      "outputs": [
        {
          "name": "stdout",
          "output_type": "stream",
          "text": [
            "{'Mobile': ['Redmi', 'Samsung', 'Realme'], 'Laptop': ['Dell', 'HP'], 'TV':['Videocon', 'Sony'] }\n"
          ]
        },
        {
          "output_type": "execute_result",
          "data": {
            "text/plain": [
              "dict"
            ]
          },
          "metadata": {},
          "execution_count": 41
        }
      ]
    },
    {
      "cell_type": "code",
      "source": [
        "x=[]\n",
        "\n",
        "for i in inp:\n",
        "  for j in inp[i]:\n",
        "    x.append(i+'_'+j)\n",
        "x"
      ],
      "metadata": {
        "colab": {
          "base_uri": "https://localhost:8080/"
        },
        "id": "F57mc0SzBFr_",
        "outputId": "a10ae2bd-51d2-4bc0-c597-5de419512f93"
      },
      "execution_count": 48,
      "outputs": [
        {
          "output_type": "execute_result",
          "data": {
            "text/plain": [
              "['Mobile_Redmi',\n",
              " 'Mobile_Samsung',\n",
              " 'Mobile_Realme',\n",
              " 'Laptop_Dell',\n",
              " 'Laptop_HP',\n",
              " 'TV_Videocon',\n",
              " 'TV_Sony']"
            ]
          },
          "metadata": {},
          "execution_count": 48
        }
      ]
    },
    {
      "cell_type": "markdown",
      "source": [
        "upGrad String\n",
        "-------------\n",
        "\n",
        "Description\n",
        "\n",
        "For the purpose of this question, we will define something called an upGrad string. Note that this definition is not valid outside this question. A string upGrad string if the frequency of its characters is something like 1, 2, 3, 4, .... That is a character appears only once, another appears twice, another appears thrice and so on. For example string '$yrr$ssrsr' is a upGrad string since the frequency of y:1, $:2, s:3, r:4, however string '$yrr$ssrsr%' will not be an upGrad string since it has two characters (y and %) with frequency 1. The frequency of characters should be of form 1, 2, 3, 4, 5... only.\n",
        "\n",
        "Given a string, can you determine if the string is upGrad string or no?\n",
        "\n",
        "\n",
        "\n",
        "\n",
        "\n",
        "Input:\n",
        "\n",
        "A string\n",
        "\n",
        "\n",
        "\n",
        "Output:\n",
        "\n",
        "Boolean depending whether the string is upGrad string or not\n",
        "\n",
        "\n",
        "\n",
        "\n",
        "\n",
        "Sample input:\n",
        "\n",
        "$yrr$ssrsr\n",
        "\n",
        "\n",
        "\n",
        "Sample output:\n",
        "\n",
        "True\n",
        "\n",
        "\n",
        "\n",
        "\n",
        "\n",
        "Sample input:\n",
        "\n",
        "$yrr$ssrsr%\n",
        "\n",
        "\n",
        "\n",
        "Sample output:\n",
        "\n",
        "False\n",
        "\n",
        "\n",
        "\n",
        "Sample input:\n",
        "\n",
        "ab#ab#aba\n",
        "\n",
        "\n",
        "\n",
        "Sample output:\n",
        "\n",
        "False\n",
        "\n",
        "\n",
        "\n",
        "Sample input:\n",
        "\n",
        "ab#ab#ab6a\n",
        "\n",
        "\n",
        "\n",
        "Sample output:\n",
        "\n",
        "True"
      ],
      "metadata": {
        "id": "wCfaw9_XC7dR"
      }
    },
    {
      "cell_type": "code",
      "source": [
        "inp = input()\n",
        "inp"
      ],
      "metadata": {
        "colab": {
          "base_uri": "https://localhost:8080/",
          "height": 53
        },
        "id": "Yo_Rqy-RBhZp",
        "outputId": "2a0d4585-ab00-40a8-f261-6df8edbe3f50"
      },
      "execution_count": 67,
      "outputs": [
        {
          "name": "stdout",
          "output_type": "stream",
          "text": [
            "ab#ab#aba\n"
          ]
        },
        {
          "output_type": "execute_result",
          "data": {
            "text/plain": [
              "'ab#ab#aba'"
            ],
            "application/vnd.google.colaboratory.intrinsic+json": {
              "type": "string"
            }
          },
          "metadata": {},
          "execution_count": 67
        }
      ]
    },
    {
      "cell_type": "code",
      "source": [
        "x={}\n",
        "\n",
        "for i in inp:\n",
        "  if i not in x:\n",
        "    x[i] = 1\n",
        "  else:\n",
        "    x[i] += 1\n",
        "\n",
        "x"
      ],
      "metadata": {
        "colab": {
          "base_uri": "https://localhost:8080/"
        },
        "id": "0M6htrjNDRsP",
        "outputId": "e741ff31-3835-4a5b-e871-b280159a12e2"
      },
      "execution_count": 68,
      "outputs": [
        {
          "output_type": "execute_result",
          "data": {
            "text/plain": [
              "{'a': 4, 'b': 3, '#': 2}"
            ]
          },
          "metadata": {},
          "execution_count": 68
        }
      ]
    },
    {
      "cell_type": "code",
      "source": [
        "set(x.values()) == set(range(1, len(x) +1))"
      ],
      "metadata": {
        "colab": {
          "base_uri": "https://localhost:8080/"
        },
        "id": "k9rGE-1aDWKQ",
        "outputId": "8d05c3ee-1ded-45d3-eb2b-b5f75baa99ef"
      },
      "execution_count": 69,
      "outputs": [
        {
          "output_type": "execute_result",
          "data": {
            "text/plain": [
              "False"
            ]
          },
          "metadata": {},
          "execution_count": 69
        }
      ]
    },
    {
      "cell_type": "markdown",
      "source": [
        "Balanced Brackets\n",
        "------------\n",
        "\n",
        "Description\n",
        "\n",
        "You will be given a string with a lot of brackets. You have to print if the brackets are balanced or not. Remember, there are three types of brackets: ‘( )’,  ‘{ }’ and ‘[ ]’.\n",
        "\n",
        "----------------------------------------------------------------------\n",
        "Input:\n",
        "A string\n",
        "\n",
        "Output:\n",
        "Yes, if the brackets are balanced.\n",
        "No otherwise.\n",
        "\n",
        "----------------------------------------------------------------------\n",
        "Sample input:\n",
        "\n",
        "){[[]]}())()\n",
        "\n",
        "Sample output:\n",
        "No\n",
        "\n",
        "----------------------------------------------------------------------\n",
        "Sample input 2:\n",
        "\n",
        "[](){[]()(){}}\n",
        "\n",
        "Sample output 2:\n",
        "Yes\n",
        "\n",
        "Execution Time Limit\n",
        "\n",
        "20 seconds"
      ],
      "metadata": {
        "id": "ApaEPArRFXdV"
      }
    },
    {
      "cell_type": "code",
      "source": [
        "s = input()\n",
        "s"
      ],
      "metadata": {
        "colab": {
          "base_uri": "https://localhost:8080/",
          "height": 53
        },
        "id": "uCFJGtRPEMR0",
        "outputId": "a8803d09-de42-4b72-9007-023780597c7b"
      },
      "execution_count": 77,
      "outputs": [
        {
          "name": "stdout",
          "output_type": "stream",
          "text": [
            "[](){[]()(){}}\n"
          ]
        },
        {
          "output_type": "execute_result",
          "data": {
            "text/plain": [
              "'[](){[]()(){}}'"
            ],
            "application/vnd.google.colaboratory.intrinsic+json": {
              "type": "string"
            }
          },
          "metadata": {},
          "execution_count": 77
        }
      ]
    },
    {
      "cell_type": "code",
      "source": [
        "x=[]\n",
        "\n",
        "for i in s:\n",
        "  if len(x) == 0:\n",
        "    x.append(i)\n",
        "  else:\n",
        "    if i == ')' and x[-1] == '(':\n",
        "      x.pop()\n",
        "    elif i == '}' and x[-1] == '{':\n",
        "      x.pop()\n",
        "    elif i == ']' and x[-1] == '[':\n",
        "      x.pop()\n",
        "    else:\n",
        "      x.append(i)\n",
        "\n",
        "if x:\n",
        "  print('No')\n",
        "else:\n",
        "  print('Yes')"
      ],
      "metadata": {
        "colab": {
          "base_uri": "https://localhost:8080/"
        },
        "id": "o7hla2WFGLjj",
        "outputId": "71f0eb97-2119-42f7-ff03-108f5d037ed1"
      },
      "execution_count": 79,
      "outputs": [
        {
          "output_type": "stream",
          "name": "stdout",
          "text": [
            "Yes\n"
          ]
        }
      ]
    },
    {
      "cell_type": "code",
      "source": [],
      "metadata": {
        "id": "zhFKzZ8JGRwq"
      },
      "execution_count": null,
      "outputs": []
    }
  ]
}