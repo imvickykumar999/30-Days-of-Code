{
  "cells": [
    {
      "cell_type": "markdown",
      "metadata": {
        "id": "5XxDGDs9QJsb"
      },
      "source": [
        "### Compare Computation Times in NumPy and Standard Python Lists\n",
        "\n",
        "Now that we know how to use numpy, let us see code and witness the key advantages of numpy i.e. convenience and speed of computation. \n",
        "\n",
        "In the data science landscape, you'll often work with extremely large datasets, and thus it is important point for you to understand how much computation time (and memory) you can save using numpy, compared to standard python lists.   \n",
        "\n",
        "Let's compare the computation times of arrays and lists for a simple task of calculating the element-wise product of numbers. "
      ]
    },
    {
      "cell_type": "code",
      "execution_count": 11,
      "metadata": {
        "id": "0Wgj_CpKQJso"
      },
      "outputs": [],
      "source": [
        "import time\n",
        "import numpy as np"
      ]
    },
    {
      "cell_type": "code",
      "execution_count": 12,
      "metadata": {
        "id": "m8AFDtXOQJst"
      },
      "outputs": [],
      "source": [
        "## Comparing time taken for computation\n",
        "list_1 = [i for i in range(1000000)]\n",
        "list_2 = [j**2 for j in range(1000000)]"
      ]
    },
    {
      "cell_type": "code",
      "source": [
        "list_1[-1], list_2[-1]"
      ],
      "metadata": {
        "colab": {
          "base_uri": "https://localhost:8080/"
        },
        "id": "c_UWWueNRgag",
        "outputId": "5db8d595-12a3-4728-a768-f3a1051f669a"
      },
      "execution_count": 13,
      "outputs": [
        {
          "output_type": "execute_result",
          "data": {
            "text/plain": [
              "(999999, 999998000001)"
            ]
          },
          "metadata": {},
          "execution_count": 13
        }
      ]
    },
    {
      "cell_type": "code",
      "source": [
        "t0 = time.time()\n",
        "product_list = list(map(lambda x, y: x*y, list_1, list_2))\n",
        "\n",
        "t1 = time.time()\n",
        "list_time = t1 - t0\n",
        "\n",
        "list_time"
      ],
      "metadata": {
        "colab": {
          "base_uri": "https://localhost:8080/"
        },
        "id": "vnyKP2UFRY5Z",
        "outputId": "530e0f91-e4f6-4413-f44c-dfcb7aa25187"
      },
      "execution_count": 14,
      "outputs": [
        {
          "output_type": "execute_result",
          "data": {
            "text/plain": [
              "0.19710254669189453"
            ]
          },
          "metadata": {},
          "execution_count": 14
        }
      ]
    },
    {
      "cell_type": "code",
      "source": [
        "# numpy array \n",
        "array_1 = np.array(list_1)\n",
        "array_2 = np.array(list_2)"
      ],
      "metadata": {
        "id": "7eCfAQZjSDoz"
      },
      "execution_count": 15,
      "outputs": []
    },
    {
      "cell_type": "code",
      "source": [
        "array_1[-1], array_2[-1]"
      ],
      "metadata": {
        "colab": {
          "base_uri": "https://localhost:8080/"
        },
        "id": "E0EoE1gTSHw0",
        "outputId": "b48440c1-00ed-4613-fb72-1c3729189d46"
      },
      "execution_count": 16,
      "outputs": [
        {
          "output_type": "execute_result",
          "data": {
            "text/plain": [
              "(999999, 999998000001)"
            ]
          },
          "metadata": {},
          "execution_count": 16
        }
      ]
    },
    {
      "cell_type": "code",
      "source": [
        "t0 = time.time()\n",
        "product_numpy = array_1 * array_2\n",
        "\n",
        "t1 = time.time()\n",
        "numpy_time = t1 - t0\n",
        "\n",
        "numpy_time"
      ],
      "metadata": {
        "colab": {
          "base_uri": "https://localhost:8080/"
        },
        "id": "VxFRjV9aSGw2",
        "outputId": "a80e99c2-7db9-4901-df35-618628f57a5a"
      },
      "execution_count": 17,
      "outputs": [
        {
          "output_type": "execute_result",
          "data": {
            "text/plain": [
              "0.0026311874389648438"
            ]
          },
          "metadata": {},
          "execution_count": 17
        }
      ]
    },
    {
      "cell_type": "code",
      "source": [
        "print(\"The ratio of time taken is {}\".format(list_time//numpy_time))"
      ],
      "metadata": {
        "colab": {
          "base_uri": "https://localhost:8080/"
        },
        "id": "W_DCwIq8SgzV",
        "outputId": "3493c494-6a25-41a5-8d42-8016b8b38fdc"
      },
      "execution_count": 18,
      "outputs": [
        {
          "output_type": "stream",
          "name": "stdout",
          "text": [
            "The ratio of time taken is 74.0\n"
          ]
        }
      ]
    },
    {
      "cell_type": "markdown",
      "metadata": {
        "id": "lIaf_IIOQJsz"
      },
      "source": [
        "In this case, numpy is **an order of magnitude faster** than lists. This is with arrays of size in millions, but you may work on much larger arrays of sizes in order of billions. Then, the difference is even larger.\n",
        "\n",
        "Some reasons for such difference in speed are:\n",
        "* NumPy is written in C, which is basically being executed behind the scenes\n",
        "* NumPy arrays are more compact than lists, i.e. they take much lesser storage space than lists\n",
        "\n",
        "\n",
        "The following discussions demonstrate the differences in speeds of NumPy and standard python:\n",
        "1. https://stackoverflow.com/questions/8385602/why-are-numpy-arrays-so-fast\n",
        "2. https://stackoverflow.com/questions/993984/why-numpy-instead-of-python-lists"
      ]
    },
    {
      "cell_type": "code",
      "execution_count": 22,
      "metadata": {
        "colab": {
          "base_uri": "https://localhost:8080/"
        },
        "id": "qhvIFYljQJs1",
        "outputId": "ea52c2ad-d0af-4ed9-9754-160de8e7988f"
      },
      "outputs": [
        {
          "output_type": "stream",
          "name": "stdout",
          "text": [
            "0.12909817695617676\n",
            "0.0027811527252197266\n",
            "The ratio of time taken is 46.0\n"
          ]
        }
      ],
      "source": [
        "## Comparing time taken for computation\n",
        "list_1 = [i for i in range(1000000)]\n",
        "list_2 = [j**2 for j in range(1000000)]\n",
        "\n",
        "t0 = time.time()\n",
        "product_list = list(map(lambda x, y: x*y, list_1, list_2))\n",
        "\n",
        "t1 = time.time()\n",
        "list_time = t1 - t0\n",
        "print (t1-t0)\n",
        "\n",
        "# numpy array \n",
        "array_1 = np.array(list_1)\n",
        "array_2 = np.array(list_2)\n",
        "\n",
        "t0 = time.time()\n",
        "product_numpy = array_1 * array_2\n",
        "\n",
        "t1 = time.time()\n",
        "numpy_time = t1 - t0\n",
        "print (t1-t0)\n",
        "\n",
        "print(\"The ratio of time taken is {}\".format(list_time//numpy_time))"
      ]
    },
    {
      "cell_type": "code",
      "source": [],
      "metadata": {
        "id": "1zhzeykMS9pl"
      },
      "execution_count": null,
      "outputs": []
    }
  ],
  "metadata": {
    "kernelspec": {
      "display_name": "Python 3",
      "language": "python",
      "name": "python3"
    },
    "language_info": {
      "codemirror_mode": {
        "name": "ipython",
        "version": 3
      },
      "file_extension": ".py",
      "mimetype": "text/x-python",
      "name": "python",
      "nbconvert_exporter": "python",
      "pygments_lexer": "ipython3",
      "version": "3.7.3"
    },
    "colab": {
      "provenance": []
    }
  },
  "nbformat": 4,
  "nbformat_minor": 0
}