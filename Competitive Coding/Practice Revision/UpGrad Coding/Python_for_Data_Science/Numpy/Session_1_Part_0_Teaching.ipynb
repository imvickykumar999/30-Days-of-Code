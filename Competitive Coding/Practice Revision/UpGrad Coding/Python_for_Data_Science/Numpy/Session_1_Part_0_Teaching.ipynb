{
  "cells": [
    {
      "cell_type": "markdown",
      "metadata": {
        "id": "VpbA3ORrj3mq"
      },
      "source": [
        "# Numpy vs Lists "
      ]
    },
    {
      "cell_type": "code",
      "execution_count": 1,
      "metadata": {
        "id": "2SpkPX1ej3mu"
      },
      "outputs": [],
      "source": [
        "#Let's define a list in python.\n",
        "heights = [74, 75, 72, 72, 71]"
      ]
    },
    {
      "cell_type": "code",
      "execution_count": 2,
      "metadata": {
        "id": "b6xk5Kxyj3mw",
        "outputId": "48d78c3b-9973-40fb-edf7-774ac6679570",
        "colab": {
          "base_uri": "https://localhost:8080/"
        }
      },
      "outputs": [
        {
          "output_type": "execute_result",
          "data": {
            "text/plain": [
              "[74, 75, 72, 72, 71]"
            ]
          },
          "metadata": {},
          "execution_count": 2
        }
      ],
      "source": [
        "# Print the heights.\n",
        "heights"
      ]
    },
    {
      "cell_type": "code",
      "execution_count": 5,
      "metadata": {
        "id": "fXM6APoDj3mx",
        "outputId": "1483cf0a-6d9b-49a8-aa1e-516636087632",
        "colab": {
          "base_uri": "https://localhost:8080/"
        }
      },
      "outputs": [
        {
          "output_type": "stream",
          "name": "stdout",
          "text": [
            "can't multiply sequence by non-int of type 'float'\n"
          ]
        }
      ],
      "source": [
        "# Try to multiple heights with a scalar.\n",
        "try:\n",
        "  heights * 2.54\n",
        "except Exception as e:\n",
        "  print(e)"
      ]
    },
    {
      "cell_type": "code",
      "execution_count": 4,
      "metadata": {
        "id": "ub1kCJCHj3my"
      },
      "outputs": [],
      "source": [
        "import numpy as np"
      ]
    },
    {
      "cell_type": "code",
      "execution_count": 6,
      "metadata": {
        "id": "-MtGRGwYj3mz"
      },
      "outputs": [],
      "source": [
        "# Deine a NumPy array\n",
        "np_heights = np.array([74, 75, 72, 72, 71])"
      ]
    },
    {
      "cell_type": "code",
      "execution_count": 7,
      "metadata": {
        "id": "qRgXXnlAj3mz",
        "outputId": "676082d9-73e3-410e-d0bb-e9e0ebaff6bf",
        "colab": {
          "base_uri": "https://localhost:8080/"
        }
      },
      "outputs": [
        {
          "output_type": "execute_result",
          "data": {
            "text/plain": [
              "array([74, 75, 72, 72, 71])"
            ]
          },
          "metadata": {},
          "execution_count": 7
        }
      ],
      "source": [
        "np_heights"
      ]
    },
    {
      "cell_type": "code",
      "execution_count": 8,
      "metadata": {
        "id": "NJhZn2oIj3mz",
        "outputId": "12aa8c36-6e8f-46a5-c5b0-76c12c892dc9",
        "colab": {
          "base_uri": "https://localhost:8080/"
        }
      },
      "outputs": [
        {
          "output_type": "execute_result",
          "data": {
            "text/plain": [
              "numpy.ndarray"
            ]
          },
          "metadata": {},
          "execution_count": 8
        }
      ],
      "source": [
        "# Print the type of a NumPy array.\n",
        "type(np_heights)"
      ]
    },
    {
      "cell_type": "code",
      "execution_count": 9,
      "metadata": {
        "id": "LhmsCDnpj3mz",
        "outputId": "10a65e9f-594c-487c-da6c-eb88021d15b1",
        "colab": {
          "base_uri": "https://localhost:8080/"
        }
      },
      "outputs": [
        {
          "output_type": "execute_result",
          "data": {
            "text/plain": [
              "array([187.96, 190.5 , 182.88, 182.88, 180.34])"
            ]
          },
          "metadata": {},
          "execution_count": 9
        }
      ],
      "source": [
        "# Multiple height (NumPy array) with a scalar.\n",
        "np_heights * 2.54"
      ]
    },
    {
      "cell_type": "markdown",
      "metadata": {
        "id": "qGPtzczAj3m0"
      },
      "source": [
        "\n",
        "#### NumPy comes with its own set of methods and operations"
      ]
    },
    {
      "cell_type": "code",
      "execution_count": 10,
      "metadata": {
        "id": "NF_tfwYlj3m0",
        "outputId": "5916f83a-407e-4d56-c347-59537d68b58b",
        "colab": {
          "base_uri": "https://localhost:8080/"
        }
      },
      "outputs": [
        {
          "output_type": "execute_result",
          "data": {
            "text/plain": [
              "[1, 2, 3, 4, 5, 6]"
            ]
          },
          "metadata": {},
          "execution_count": 10
        }
      ],
      "source": [
        "# Let's define two lists and perform '+' operation on that.\n",
        "list_1 = [1,2,3]\n",
        "list_2 = [4,5,6]\n",
        "list_1 + list_2"
      ]
    },
    {
      "cell_type": "code",
      "execution_count": 11,
      "metadata": {
        "id": "SPTc_cb1j3m0",
        "outputId": "02c22006-8378-4567-e49e-152c117e3094",
        "colab": {
          "base_uri": "https://localhost:8080/"
        }
      },
      "outputs": [
        {
          "output_type": "execute_result",
          "data": {
            "text/plain": [
              "array([5, 7, 9])"
            ]
          },
          "metadata": {},
          "execution_count": 11
        }
      ],
      "source": [
        "# Let's define two NumPy array and perform '+' operation on that.\n",
        "np1 = np.array([1,2,3])\n",
        "np2 = np.array([4,5,6])\n",
        "np1 + np2"
      ]
    },
    {
      "cell_type": "markdown",
      "metadata": {
        "id": "NUQNA7lrj3m1"
      },
      "source": [
        "#### Working with N-D Arrays"
      ]
    },
    {
      "cell_type": "code",
      "execution_count": 12,
      "metadata": {
        "id": "JBexkbsRj3m1",
        "outputId": "c9324896-d7e6-443f-c2a5-f566d2f004f0",
        "colab": {
          "base_uri": "https://localhost:8080/"
        }
      },
      "outputs": [
        {
          "output_type": "execute_result",
          "data": {
            "text/plain": [
              "array([74, 75, 72, 72, 71])"
            ]
          },
          "metadata": {},
          "execution_count": 12
        }
      ],
      "source": [
        "np_heights"
      ]
    },
    {
      "cell_type": "code",
      "execution_count": 13,
      "metadata": {
        "id": "SMchGI-vj3m1",
        "outputId": "5b63df59-c6b7-4f41-9756-ae431b364dc4",
        "colab": {
          "base_uri": "https://localhost:8080/"
        }
      },
      "outputs": [
        {
          "output_type": "execute_result",
          "data": {
            "text/plain": [
              "numpy.ndarray"
            ]
          },
          "metadata": {},
          "execution_count": 13
        }
      ],
      "source": [
        "type(np_heights)"
      ]
    },
    {
      "cell_type": "code",
      "execution_count": null,
      "metadata": {
        "id": "TAHL4A3Nj3m1"
      },
      "outputs": [],
      "source": []
    }
  ],
  "metadata": {
    "kernelspec": {
      "display_name": "Python 3",
      "language": "python",
      "name": "python3"
    },
    "language_info": {
      "codemirror_mode": {
        "name": "ipython",
        "version": 3
      },
      "file_extension": ".py",
      "mimetype": "text/x-python",
      "name": "python",
      "nbconvert_exporter": "python",
      "pygments_lexer": "ipython3",
      "version": "3.7.3"
    },
    "colab": {
      "provenance": []
    }
  },
  "nbformat": 4,
  "nbformat_minor": 0
}