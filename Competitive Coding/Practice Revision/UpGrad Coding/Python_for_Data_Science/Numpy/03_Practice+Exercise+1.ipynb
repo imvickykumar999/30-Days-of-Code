{
  "cells": [
    {
      "cell_type": "markdown",
      "metadata": {
        "id": "ClXG5meyu32H"
      },
      "source": [
        "## Practice Exercise 1"
      ]
    },
    {
      "cell_type": "markdown",
      "metadata": {
        "id": "r3ync6MXu32J"
      },
      "source": [
        "You are provided with `2 lists` that contain the data of an ecommerce website. \n",
        "\n",
        "The `first list` contains the data for the `number of items sold` for a particular product,\n",
        "\n",
        "and the `second list` contains the `price of the product sold`. \n",
        "\n",
        "As a part of this exercise, solve the questions that are provided below."
      ]
    },
    {
      "cell_type": "code",
      "execution_count": 1,
      "metadata": {
        "id": "DpCerv7Su32K"
      },
      "outputs": [],
      "source": [
        "number = [8, 9, 9, 1, 6, 9, 5, 7, 3, 9, 7, 3, 4, 8, 3, 5, 8, 4, 8, 7, 5, 7, 3, 6, 1, 2, 7, 4, 7, 7, 8, 4, 3, 4, 2, 2, 2, 7, 3, 5, 6, 1, 1, 3, 2, 1, 1, 7, 7, 1, 4, 4, 5, 6, 1, 2, 7, 4, 5, 8, 1, 4, 8, 6, 2, 4, 3, 7, 3, 6, 2, 3, 3, 3, 2, 4, 6, 8, 9, 3, 9, 3, 1, 8, 6, 6, 3, 3, 9, 4, 6, 4, 9, 6, 7, 1, 2, 8, 7, 8, 1, 4]\n",
        "price = [195, 225, 150, 150, 90, 60, 75, 255, 270, 225, 135, 195, 30, 15, 210, 105, 15, 30, 180, 60, 165, 60, 45, 225, 180, 90, 30, 210, 150, 15, 270, 60, 210, 180, 60, 225, 150, 150, 120, 195, 75, 240, 60, 45, 30, 180, 240, 285, 135, 165, 180, 240, 60, 105, 165, 240, 120, 45, 120, 165, 285, 225, 90, 105, 225, 45, 45, 45, 75, 180, 90, 240, 30, 30, 60, 135, 180, 15, 255, 180, 270, 135, 105, 135, 210, 180, 135, 195, 225, 75, 225, 15, 240, 60, 15, 180, 255, 90, 15, 150, 230, 150]"
      ]
    },
    {
      "cell_type": "code",
      "source": [
        "import numpy as np\n",
        "number = np.array(number)\n",
        "price = np.array(price)"
      ],
      "metadata": {
        "id": "iCdOD76Awyfx"
      },
      "execution_count": 2,
      "outputs": []
    },
    {
      "cell_type": "markdown",
      "metadata": {
        "id": "ftZ8R7XTu32N"
      },
      "source": [
        "#### How many different products are sold by the company in total?\n",
        "\n",
        "-  99\n",
        "-  100\n",
        "-  101\n",
        "-  102\n"
      ]
    },
    {
      "cell_type": "code",
      "execution_count": 3,
      "metadata": {
        "colab": {
          "base_uri": "https://localhost:8080/"
        },
        "id": "BbGYngRGu32N",
        "outputId": "0f544afb-c2a5-41dc-8caf-3e09a7b342dd"
      },
      "outputs": [
        {
          "output_type": "execute_result",
          "data": {
            "text/plain": [
              "102"
            ]
          },
          "metadata": {},
          "execution_count": 3
        }
      ],
      "source": [
        "# Type your code here\n",
        "len(number)"
      ]
    },
    {
      "cell_type": "code",
      "source": [
        "# Ans.\n",
        "number.size"
      ],
      "metadata": {
        "colab": {
          "base_uri": "https://localhost:8080/"
        },
        "id": "Ig8BuhN1xOfb",
        "outputId": "751626b6-fd73-4b03-cf60-c61cb81ba0a7"
      },
      "execution_count": 4,
      "outputs": [
        {
          "output_type": "execute_result",
          "data": {
            "text/plain": [
              "102"
            ]
          },
          "metadata": {},
          "execution_count": 4
        }
      ]
    },
    {
      "cell_type": "code",
      "source": [
        "number.shape"
      ],
      "metadata": {
        "colab": {
          "base_uri": "https://localhost:8080/"
        },
        "id": "xeYO-lOQxVxH",
        "outputId": "a662de4e-ec57-44e3-ed31-3b0ccda8db6a"
      },
      "execution_count": 5,
      "outputs": [
        {
          "output_type": "execute_result",
          "data": {
            "text/plain": [
              "(102,)"
            ]
          },
          "metadata": {},
          "execution_count": 5
        }
      ]
    },
    {
      "cell_type": "markdown",
      "metadata": {
        "id": "CjTdPiR3u32O"
      },
      "source": [
        "#### How many items were sold in total?\n",
        "\n",
        "-  460\n",
        "-  490\n",
        "-  500\n",
        "-  520\n"
      ]
    },
    {
      "cell_type": "code",
      "execution_count": 6,
      "metadata": {
        "colab": {
          "base_uri": "https://localhost:8080/"
        },
        "id": "YHPZYkrzu32P",
        "outputId": "d0e8e1aa-00d0-47c5-8037-082b7023cf72"
      },
      "outputs": [
        {
          "output_type": "execute_result",
          "data": {
            "text/plain": [
              "490"
            ]
          },
          "metadata": {},
          "execution_count": 6
        }
      ],
      "source": [
        "# Type your code here\n",
        "np.sum(number)"
      ]
    },
    {
      "cell_type": "code",
      "source": [
        "# Ans.\n",
        "number.sum()"
      ],
      "metadata": {
        "colab": {
          "base_uri": "https://localhost:8080/"
        },
        "id": "x2dafcwqxjgO",
        "outputId": "10fa51a4-93b9-4f87-9ffc-3260bab178eb"
      },
      "execution_count": 7,
      "outputs": [
        {
          "output_type": "execute_result",
          "data": {
            "text/plain": [
              "490"
            ]
          },
          "metadata": {},
          "execution_count": 7
        }
      ]
    },
    {
      "cell_type": "markdown",
      "metadata": {
        "id": "gJl023wDu32P"
      },
      "source": [
        "#### What is the average price of the products sold by the ecommerce company?\n",
        "\n",
        "-  139\n",
        "-  151\n",
        "-  142\n",
        "-  128"
      ]
    },
    {
      "cell_type": "code",
      "execution_count": 8,
      "metadata": {
        "colab": {
          "base_uri": "https://localhost:8080/"
        },
        "id": "GsTN4d2Wu32Q",
        "outputId": "8fe70912-fcea-4185-cc59-f691402c5b8b"
      },
      "outputs": [
        {
          "output_type": "execute_result",
          "data": {
            "text/plain": [
              "139"
            ]
          },
          "metadata": {},
          "execution_count": 8
        }
      ],
      "source": [
        "# Type your code here\n",
        "price.sum() // price.size"
      ]
    },
    {
      "cell_type": "code",
      "source": [
        "# Ans.\n",
        "price.mean()"
      ],
      "metadata": {
        "colab": {
          "base_uri": "https://localhost:8080/"
        },
        "id": "CzjR-_ZBxx0S",
        "outputId": "42261e81-7006-45d1-c621-77eae383ad6d"
      },
      "execution_count": 9,
      "outputs": [
        {
          "output_type": "execute_result",
          "data": {
            "text/plain": [
              "139.01960784313727"
            ]
          },
          "metadata": {},
          "execution_count": 9
        }
      ]
    },
    {
      "cell_type": "markdown",
      "metadata": {
        "id": "F7ZCkSxvu32R"
      },
      "source": [
        "#### What is the price of the costliest item sold?\n",
        "\n",
        "-  225\n",
        "-  310\n",
        "-  280\n",
        "-  285"
      ]
    },
    {
      "cell_type": "code",
      "execution_count": 10,
      "metadata": {
        "colab": {
          "base_uri": "https://localhost:8080/"
        },
        "id": "jYoeOJEWu32R",
        "outputId": "8ee8bd61-ca7b-495d-d439-cde265c9b114"
      },
      "outputs": [
        {
          "output_type": "execute_result",
          "data": {
            "text/plain": [
              "285"
            ]
          },
          "metadata": {},
          "execution_count": 10
        }
      ],
      "source": [
        "# Type your code here\n",
        "price.max()"
      ]
    },
    {
      "cell_type": "code",
      "source": [
        "# Ans.\n",
        "np.max(price)"
      ],
      "metadata": {
        "colab": {
          "base_uri": "https://localhost:8080/"
        },
        "id": "07HHShxqyPu4",
        "outputId": "d47724f9-59b2-446d-f7ad-a3da54b63d4a"
      },
      "execution_count": 11,
      "outputs": [
        {
          "output_type": "execute_result",
          "data": {
            "text/plain": [
              "285"
            ]
          },
          "metadata": {},
          "execution_count": 11
        }
      ]
    },
    {
      "cell_type": "markdown",
      "metadata": {
        "id": "OELYI9Qfu32R"
      },
      "source": [
        "#### What is the total revenue of the company? [Revenue = Price\\*Quantity]\n",
        "\n",
        "-  67100\n",
        "-  53900\n",
        "-  45300\n",
        "-  71200"
      ]
    },
    {
      "cell_type": "code",
      "execution_count": 12,
      "metadata": {
        "colab": {
          "base_uri": "https://localhost:8080/"
        },
        "id": "yNw0gIolu32R",
        "outputId": "e436f78a-6eae-4426-d789-c5532e03e78a"
      },
      "outputs": [
        {
          "output_type": "execute_result",
          "data": {
            "text/plain": [
              "array([1560, 2025, 1350,  150,  540,  540,  375, 1785,  810, 2025,  945,\n",
              "        585,  120,  120,  630,  525,  120,  120, 1440,  420,  825,  420,\n",
              "        135, 1350,  180,  180,  210,  840, 1050,  105, 2160,  240,  630,\n",
              "        720,  120,  450,  300, 1050,  360,  975,  450,  240,   60,  135,\n",
              "         60,  180,  240, 1995,  945,  165,  720,  960,  300,  630,  165,\n",
              "        480,  840,  180,  600, 1320,  285,  900,  720,  630,  450,  180,\n",
              "        135,  315,  225, 1080,  180,  720,   90,   90,  120,  540, 1080,\n",
              "        120, 2295,  540, 2430,  405,  105, 1080, 1260, 1080,  405,  585,\n",
              "       2025,  300, 1350,   60, 2160,  360,  105,  180,  510,  720,  105,\n",
              "       1200,  230,  600])"
            ]
          },
          "metadata": {},
          "execution_count": 12
        }
      ],
      "source": [
        "# Type your code here\n",
        "rev = price * number\n",
        "rev"
      ]
    },
    {
      "cell_type": "code",
      "source": [
        "# Ans.\n",
        "rev.sum()"
      ],
      "metadata": {
        "colab": {
          "base_uri": "https://localhost:8080/"
        },
        "id": "ZVW55r1qyohc",
        "outputId": "e18a7f0f-8bb3-4451-d925-42ec780c8c4e"
      },
      "execution_count": 13,
      "outputs": [
        {
          "output_type": "execute_result",
          "data": {
            "text/plain": [
              "67100"
            ]
          },
          "metadata": {},
          "execution_count": 13
        }
      ]
    },
    {
      "cell_type": "markdown",
      "metadata": {
        "collapsed": true,
        "id": "SvhL-7bTu32S"
      },
      "source": [
        "#### Demand for the 20th product in the list is more than the 50th product. [True/False]\n",
        "-  True\n",
        "-  False\n",
        "-  Can't be calculated"
      ]
    },
    {
      "cell_type": "code",
      "source": [
        "# Type your code here\n",
        "\n",
        "# display() is same as writing in last \n",
        "# line of cell and printing formatted.\n",
        "# try display() function on DataFrame.\n",
        "\n",
        "num20th = number[19]\n",
        "display(num20th)\n",
        "\n",
        "num50th = number[49]\n",
        "display(num50th)\n",
        "\n",
        "num20th > num50th"
      ],
      "metadata": {
        "colab": {
          "base_uri": "https://localhost:8080/",
          "height": 69
        },
        "id": "WSHbA4Doy_vC",
        "outputId": "2e107f6d-c534-449e-9dad-b1caf473e9fa"
      },
      "execution_count": 14,
      "outputs": [
        {
          "output_type": "display_data",
          "data": {
            "text/plain": [
              "7"
            ]
          },
          "metadata": {}
        },
        {
          "output_type": "display_data",
          "data": {
            "text/plain": [
              "1"
            ]
          },
          "metadata": {}
        },
        {
          "output_type": "execute_result",
          "data": {
            "text/plain": [
              "True"
            ]
          },
          "metadata": {},
          "execution_count": 14
        }
      ]
    },
    {
      "cell_type": "code",
      "execution_count": 15,
      "metadata": {
        "colab": {
          "base_uri": "https://localhost:8080/"
        },
        "id": "9_H59F52u32S",
        "outputId": "e8fca078-5381-45ec-adeb-56adc6f444a7"
      },
      "outputs": [
        {
          "output_type": "execute_result",
          "data": {
            "text/plain": [
              "True"
            ]
          },
          "metadata": {},
          "execution_count": 15
        }
      ],
      "source": [
        "# Ans.\n",
        "number[19] > number[49]"
      ]
    },
    {
      "cell_type": "markdown",
      "metadata": {
        "id": "El1WK9Yyu32S"
      },
      "source": [
        "#### How many products fall under the category of expensive goods? \n",
        "An expensive good is that good whose price is more than the average price of the products sold by the company.\n",
        "\n",
        "-  48\n",
        "-  50\n",
        "-  52\n",
        "-  54"
      ]
    },
    {
      "cell_type": "code",
      "execution_count": 16,
      "metadata": {
        "colab": {
          "base_uri": "https://localhost:8080/"
        },
        "id": "HyThXAFou32S",
        "outputId": "4a919e72-5f2b-4ce6-9dca-91fd9254a8c5"
      },
      "outputs": [
        {
          "output_type": "execute_result",
          "data": {
            "text/plain": [
              "array([ True,  True,  True,  True, False, False, False,  True,  True,\n",
              "        True, False,  True, False, False,  True, False, False, False,\n",
              "        True, False,  True, False, False,  True,  True, False, False,\n",
              "        True,  True, False,  True, False,  True,  True, False,  True,\n",
              "        True,  True, False,  True, False,  True, False, False, False,\n",
              "        True,  True,  True, False,  True,  True,  True, False, False,\n",
              "        True,  True, False, False, False,  True,  True,  True, False,\n",
              "       False,  True, False, False, False, False,  True, False,  True,\n",
              "       False, False, False, False,  True, False,  True,  True,  True,\n",
              "       False, False, False,  True,  True, False,  True,  True, False,\n",
              "        True, False,  True, False, False,  True,  True, False, False,\n",
              "        True,  True,  True])"
            ]
          },
          "metadata": {},
          "execution_count": 16
        }
      ],
      "source": [
        "# Type your code here\n",
        "exp = price > price.mean()\n",
        "exp"
      ]
    },
    {
      "cell_type": "code",
      "execution_count": 17,
      "metadata": {
        "colab": {
          "base_uri": "https://localhost:8080/"
        },
        "id": "d0TCT-qVu32S",
        "outputId": "b43b3b41-b89b-454e-a055-1bf58b8d03ef"
      },
      "outputs": [
        {
          "output_type": "execute_result",
          "data": {
            "text/plain": [
              "array([195, 225, 150, 150, 255, 270, 225, 195, 210, 180, 165, 225, 180,\n",
              "       210, 150, 270, 210, 180, 225, 150, 150, 195, 240, 180, 240, 285,\n",
              "       165, 180, 240, 165, 240, 165, 285, 225, 225, 180, 240, 180, 255,\n",
              "       180, 270, 210, 180, 195, 225, 225, 240, 180, 255, 150, 230, 150])"
            ]
          },
          "metadata": {},
          "execution_count": 17
        }
      ],
      "source": [
        "exprice = price[exp]\n",
        "exprice"
      ]
    },
    {
      "cell_type": "code",
      "source": [
        "exprice.size"
      ],
      "metadata": {
        "colab": {
          "base_uri": "https://localhost:8080/"
        },
        "id": "lDC9UCCr0AcD",
        "outputId": "3ea5b677-b016-4bb8-e00c-79b475fddfef"
      },
      "execution_count": 18,
      "outputs": [
        {
          "output_type": "execute_result",
          "data": {
            "text/plain": [
              "52"
            ]
          },
          "metadata": {},
          "execution_count": 18
        }
      ]
    },
    {
      "cell_type": "code",
      "source": [
        "# Ans. (always try oneliner answers)\n",
        "price[price > price.mean()].size "
      ],
      "metadata": {
        "colab": {
          "base_uri": "https://localhost:8080/"
        },
        "id": "xN0Z_S8d0JA0",
        "outputId": "34506967-620d-433d-cdc2-1a0edb7771f5"
      },
      "execution_count": 19,
      "outputs": [
        {
          "output_type": "execute_result",
          "data": {
            "text/plain": [
              "52"
            ]
          },
          "metadata": {},
          "execution_count": 19
        }
      ]
    },
    {
      "cell_type": "code",
      "source": [],
      "metadata": {
        "id": "C6cNSOD90P0H"
      },
      "execution_count": 19,
      "outputs": []
    }
  ],
  "metadata": {
    "kernelspec": {
      "display_name": "Python 3",
      "language": "python",
      "name": "python3"
    },
    "language_info": {
      "codemirror_mode": {
        "name": "ipython",
        "version": 3
      },
      "file_extension": ".py",
      "mimetype": "text/x-python",
      "name": "python",
      "nbconvert_exporter": "python",
      "pygments_lexer": "ipython3",
      "version": "3.7.0"
    },
    "colab": {
      "provenance": []
    }
  },
  "nbformat": 4,
  "nbformat_minor": 0
}