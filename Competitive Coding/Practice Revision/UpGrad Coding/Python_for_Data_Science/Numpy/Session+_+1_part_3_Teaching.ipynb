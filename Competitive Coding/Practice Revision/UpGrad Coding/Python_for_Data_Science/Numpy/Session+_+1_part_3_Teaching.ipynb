{
  "cells": [
    {
      "cell_type": "markdown",
      "metadata": {
        "id": "smNyrg3BPXZh"
      },
      "source": [
        "<h2 style = \"color : Brown\"> Creating NumPy Arrays </h2 >\n",
        "\n"
      ]
    },
    {
      "cell_type": "markdown",
      "metadata": {
        "id": "rkCVJapEPXZ3"
      },
      "source": [
        " The following ways are commonly used when you know the size of the array beforehand:\n",
        "* ```np.ones()```: Create array of 1s\n",
        "* ```np.zeros()```: Create array of 0s\n",
        "* ```np.random.random()```: Create array of random numbers\n",
        "* ```np.arange()```: Create array with increments of a fixed step size\n",
        "* ```np.linspace()```: Create array of fixed length"
      ]
    },
    {
      "cell_type": "code",
      "execution_count": 1,
      "metadata": {
        "id": "3TQIw4zZPXZ5"
      },
      "outputs": [],
      "source": [
        "import numpy as np"
      ]
    },
    {
      "cell_type": "markdown",
      "metadata": {
        "id": "sriCeRX-PXZ-"
      },
      "source": [
        "##### Tip: Use help to see the syntax when required"
      ]
    },
    {
      "cell_type": "code",
      "execution_count": 2,
      "metadata": {
        "colab": {
          "base_uri": "https://localhost:8080/"
        },
        "id": "rb6F5ZaMPXaC",
        "outputId": "3ec6e88c-2a38-4353-ae8b-bd52339080a1"
      },
      "outputs": [
        {
          "output_type": "stream",
          "name": "stdout",
          "text": [
            "Help on function ones in module numpy:\n",
            "\n",
            "ones(shape, dtype=None, order='C', *, like=None)\n",
            "    Return a new array of given shape and type, filled with ones.\n",
            "    \n",
            "    Parameters\n",
            "    ----------\n",
            "    shape : int or sequence of ints\n",
            "        Shape of the new array, e.g., ``(2, 3)`` or ``2``.\n",
            "    dtype : data-type, optional\n",
            "        The desired data-type for the array, e.g., `numpy.int8`.  Default is\n",
            "        `numpy.float64`.\n",
            "    order : {'C', 'F'}, optional, default: C\n",
            "        Whether to store multi-dimensional data in row-major\n",
            "        (C-style) or column-major (Fortran-style) order in\n",
            "        memory.\n",
            "    like : array_like\n",
            "        Reference object to allow the creation of arrays which are not\n",
            "        NumPy arrays. If an array-like passed in as ``like`` supports\n",
            "        the ``__array_function__`` protocol, the result will be defined\n",
            "        by it. In this case, it ensures the creation of an array object\n",
            "        compatible with that passed in via this argument.\n",
            "    \n",
            "        .. versionadded:: 1.20.0\n",
            "    \n",
            "    Returns\n",
            "    -------\n",
            "    out : ndarray\n",
            "        Array of ones with the given shape, dtype, and order.\n",
            "    \n",
            "    See Also\n",
            "    --------\n",
            "    ones_like : Return an array of ones with shape and type of input.\n",
            "    empty : Return a new uninitialized array.\n",
            "    zeros : Return a new array setting values to zero.\n",
            "    full : Return a new array of given shape filled with value.\n",
            "    \n",
            "    \n",
            "    Examples\n",
            "    --------\n",
            "    >>> np.ones(5)\n",
            "    array([1., 1., 1., 1., 1.])\n",
            "    \n",
            "    >>> np.ones((5,), dtype=int)\n",
            "    array([1, 1, 1, 1, 1])\n",
            "    \n",
            "    >>> np.ones((2, 1))\n",
            "    array([[1.],\n",
            "           [1.]])\n",
            "    \n",
            "    >>> s = (2,2)\n",
            "    >>> np.ones(s)\n",
            "    array([[1.,  1.],\n",
            "           [1.,  1.]])\n",
            "\n"
          ]
        }
      ],
      "source": [
        "help(np.ones)"
      ]
    },
    {
      "cell_type": "markdown",
      "metadata": {
        "id": "eqjKBpSPPXaG"
      },
      "source": [
        "##### Creating a 1 D array of ones"
      ]
    },
    {
      "cell_type": "code",
      "execution_count": 3,
      "metadata": {
        "colab": {
          "base_uri": "https://localhost:8080/"
        },
        "id": "2ccNWpM4PXaI",
        "outputId": "3d015538-510c-4a94-da25-be80ba9ce357"
      },
      "outputs": [
        {
          "output_type": "execute_result",
          "data": {
            "text/plain": [
              "array([1., 1., 1., 1., 1.])"
            ]
          },
          "metadata": {},
          "execution_count": 3
        }
      ],
      "source": [
        "arr = np.ones(5)\n",
        "arr"
      ]
    },
    {
      "cell_type": "markdown",
      "metadata": {
        "id": "qDbIUCJCPXaL"
      },
      "source": [
        "##### Notice that, by default, numpy creates data type = float64\n",
        "\n"
      ]
    },
    {
      "cell_type": "code",
      "execution_count": 4,
      "metadata": {
        "colab": {
          "base_uri": "https://localhost:8080/"
        },
        "id": "u6HzWC3NPXaM",
        "outputId": "9cfdd13f-9ead-4469-f495-d76758a32d10"
      },
      "outputs": [
        {
          "output_type": "execute_result",
          "data": {
            "text/plain": [
              "dtype('float64')"
            ]
          },
          "metadata": {},
          "execution_count": 4
        }
      ],
      "source": [
        "arr.dtype"
      ]
    },
    {
      "cell_type": "markdown",
      "metadata": {
        "id": "9wdSJKfbPXaO"
      },
      "source": [
        "##### Can provide dtype explicitly using dtype\n"
      ]
    },
    {
      "cell_type": "code",
      "execution_count": 5,
      "metadata": {
        "colab": {
          "base_uri": "https://localhost:8080/"
        },
        "id": "k3UyioR_PXaQ",
        "outputId": "958107b6-9ac5-48c9-b1f6-1120d2981fbc"
      },
      "outputs": [
        {
          "output_type": "execute_result",
          "data": {
            "text/plain": [
              "array([1, 1, 1, 1, 1])"
            ]
          },
          "metadata": {},
          "execution_count": 5
        }
      ],
      "source": [
        "arr = np.ones(5, dtype=int)\n",
        "arr"
      ]
    },
    {
      "cell_type": "code",
      "execution_count": 6,
      "metadata": {
        "colab": {
          "base_uri": "https://localhost:8080/"
        },
        "id": "qNVJwfwFPXaS",
        "outputId": "845494ed-fc6e-46f7-ca59-d0165c99b937"
      },
      "outputs": [
        {
          "output_type": "execute_result",
          "data": {
            "text/plain": [
              "dtype('int64')"
            ]
          },
          "metadata": {},
          "execution_count": 6
        }
      ],
      "source": [
        "arr.dtype"
      ]
    },
    {
      "cell_type": "markdown",
      "metadata": {
        "id": "4_RGzm_EPXaU"
      },
      "source": [
        "##### Creating a 5  x 3 array of ones\n"
      ]
    },
    {
      "cell_type": "code",
      "execution_count": 7,
      "metadata": {
        "colab": {
          "base_uri": "https://localhost:8080/"
        },
        "id": "Pde7rIHvPXaV",
        "outputId": "09f58228-d691-4f30-ff5d-2d85839e3147"
      },
      "outputs": [
        {
          "output_type": "execute_result",
          "data": {
            "text/plain": [
              "array([[1., 1., 1.],\n",
              "       [1., 1., 1.],\n",
              "       [1., 1., 1.],\n",
              "       [1., 1., 1.],\n",
              "       [1., 1., 1.]])"
            ]
          },
          "metadata": {},
          "execution_count": 7
        }
      ],
      "source": [
        "np.ones((5,3))"
      ]
    },
    {
      "cell_type": "markdown",
      "metadata": {
        "id": "60Y9aAeOPXaW"
      },
      "source": [
        "##### Creating array of zeros"
      ]
    },
    {
      "cell_type": "code",
      "execution_count": 8,
      "metadata": {
        "colab": {
          "base_uri": "https://localhost:8080/"
        },
        "id": "ywVD62DVPXaX",
        "outputId": "bcc0d27f-81f3-452b-a584-646a2752a17b"
      },
      "outputs": [
        {
          "output_type": "execute_result",
          "data": {
            "text/plain": [
              "array([0., 0., 0., 0., 0.])"
            ]
          },
          "metadata": {},
          "execution_count": 8
        }
      ],
      "source": [
        "np.zeros(5)\n"
      ]
    },
    {
      "cell_type": "code",
      "execution_count": 9,
      "metadata": {
        "colab": {
          "base_uri": "https://localhost:8080/"
        },
        "id": "RrkYiz_GPXaZ",
        "outputId": "bf8dbc6d-ab6a-4dc9-bd53-c999311645ef"
      },
      "outputs": [
        {
          "output_type": "execute_result",
          "data": {
            "text/plain": [
              "array([0, 0, 0, 0, 0])"
            ]
          },
          "metadata": {},
          "execution_count": 9
        }
      ],
      "source": [
        "# convert the type into integer.\n",
        "np.zeros(5, dtype=int)"
      ]
    },
    {
      "cell_type": "code",
      "execution_count": 10,
      "metadata": {
        "colab": {
          "base_uri": "https://localhost:8080/"
        },
        "id": "X_2UsYCgPXaa",
        "outputId": "97d88336-0a1a-414b-8485-26a1475119b7"
      },
      "outputs": [
        {
          "output_type": "execute_result",
          "data": {
            "text/plain": [
              "[1, 2, 3, 4]"
            ]
          },
          "metadata": {},
          "execution_count": 10
        }
      ],
      "source": [
        "# Create a list of integers range between 1 to 5.\n",
        "list(range(1,5))"
      ]
    },
    {
      "cell_type": "code",
      "execution_count": 11,
      "metadata": {
        "colab": {
          "base_uri": "https://localhost:8080/"
        },
        "id": "FU7ePpZpPXad",
        "outputId": "61fbf0c7-b99c-4d67-9ffb-9ed6992d5403"
      },
      "outputs": [
        {
          "output_type": "execute_result",
          "data": {
            "text/plain": [
              "array([0, 1, 2])"
            ]
          },
          "metadata": {},
          "execution_count": 11
        }
      ],
      "source": [
        "np.arange(3)"
      ]
    },
    {
      "cell_type": "code",
      "execution_count": 12,
      "metadata": {
        "colab": {
          "base_uri": "https://localhost:8080/"
        },
        "id": "P0kv89zEPXaf",
        "outputId": "903cb1a3-ba77-45f4-ab0e-1915c8c4e562"
      },
      "outputs": [
        {
          "output_type": "execute_result",
          "data": {
            "text/plain": [
              "array([0., 1., 2.])"
            ]
          },
          "metadata": {},
          "execution_count": 12
        }
      ],
      "source": [
        "np.arange(3.0)"
      ]
    },
    {
      "cell_type": "markdown",
      "metadata": {
        "id": "yLEgNzajPXag"
      },
      "source": [
        "##### Notice that 3 is included, 35 is not, as in standard python lists\n",
        "\n",
        "From 3 to 35 with a step of 2"
      ]
    },
    {
      "cell_type": "code",
      "execution_count": 13,
      "metadata": {
        "colab": {
          "base_uri": "https://localhost:8080/"
        },
        "id": "-pnBXWc4PXah",
        "outputId": "4dd307ad-1ade-4b37-a51e-c4df1202ed7a"
      },
      "outputs": [
        {
          "output_type": "execute_result",
          "data": {
            "text/plain": [
              "array([ 3,  5,  7,  9, 11, 13, 15, 17, 19, 21, 23, 25, 27, 29, 31, 33])"
            ]
          },
          "metadata": {},
          "execution_count": 13
        }
      ],
      "source": [
        "np.arange(3,35,2)"
      ]
    },
    {
      "cell_type": "markdown",
      "metadata": {
        "id": "kkP149ZaPXai"
      },
      "source": [
        "##### Array of random numbers \n"
      ]
    },
    {
      "cell_type": "code",
      "execution_count": 14,
      "metadata": {
        "colab": {
          "base_uri": "https://localhost:8080/"
        },
        "id": "ZUN0_JyEPXaj",
        "outputId": "5eac1ca2-07ec-409b-b7ba-7543abc50324"
      },
      "outputs": [
        {
          "output_type": "execute_result",
          "data": {
            "text/plain": [
              "array([1, 0, 0, 1, 1, 1, 1, 1, 0, 1])"
            ]
          },
          "metadata": {},
          "execution_count": 14
        }
      ],
      "source": [
        "np.random.randint(2, size=10)"
      ]
    },
    {
      "cell_type": "code",
      "execution_count": 15,
      "metadata": {
        "colab": {
          "base_uri": "https://localhost:8080/"
        },
        "id": "kHnL2VAePXan",
        "outputId": "2b14e730-d479-4cb5-a1d1-026382d26107"
      },
      "outputs": [
        {
          "output_type": "execute_result",
          "data": {
            "text/plain": [
              "array([3, 3, 4, 4, 3, 4, 3, 4, 4, 4])"
            ]
          },
          "metadata": {},
          "execution_count": 15
        }
      ],
      "source": [
        "np.random.randint(3,5, size=10)"
      ]
    },
    {
      "cell_type": "markdown",
      "metadata": {
        "id": "r_MCqX45PXaq"
      },
      "source": [
        "##### 2D Array of random numbers \n"
      ]
    },
    {
      "cell_type": "code",
      "execution_count": 16,
      "metadata": {
        "colab": {
          "base_uri": "https://localhost:8080/"
        },
        "id": "wD9IZ8ayPXar",
        "outputId": "8bf7da08-3104-450c-8b25-a5fb21b015dc"
      },
      "outputs": [
        {
          "output_type": "execute_result",
          "data": {
            "text/plain": [
              "array([[0.0139129 , 0.18540926, 0.99030059, 0.50777984],\n",
              "       [0.75303324, 0.90627904, 0.60365632, 0.15163075],\n",
              "       [0.25216026, 0.03055945, 0.04729794, 0.4003096 ]])"
            ]
          },
          "metadata": {},
          "execution_count": 16
        }
      ],
      "source": [
        "np.random.random([3,4])"
      ]
    },
    {
      "cell_type": "markdown",
      "metadata": {
        "id": "XBTh3NwrPXat"
      },
      "source": [
        "###### Sometimes, you know the length of the array, not the step size\n",
        "\n",
        "Array of length 20 between 1 and 10"
      ]
    },
    {
      "cell_type": "code",
      "execution_count": 17,
      "metadata": {
        "colab": {
          "base_uri": "https://localhost:8080/"
        },
        "id": "7qOfzBqmPXau",
        "outputId": "12ecf9b0-a9b4-4bf7-a99e-e7b94e37ff0b"
      },
      "outputs": [
        {
          "output_type": "execute_result",
          "data": {
            "text/plain": [
              "array([ 1.        ,  1.47368421,  1.94736842,  2.42105263,  2.89473684,\n",
              "        3.36842105,  3.84210526,  4.31578947,  4.78947368,  5.26315789,\n",
              "        5.73684211,  6.21052632,  6.68421053,  7.15789474,  7.63157895,\n",
              "        8.10526316,  8.57894737,  9.05263158,  9.52631579, 10.        ])"
            ]
          },
          "metadata": {},
          "execution_count": 17
        }
      ],
      "source": [
        "np.linspace(1,10,20)"
      ]
    },
    {
      "cell_type": "markdown",
      "metadata": {
        "id": "nfhr7DJrPXaw"
      },
      "source": [
        "<h2 style = \"color : Sky blue\"> Exercises </h2>"
      ]
    },
    {
      "cell_type": "markdown",
      "metadata": {
        "id": "XdcIpICBPXa-"
      },
      "source": [
        "\n",
        "\n",
        "Apart from the methods mentioned above, there are a few more NumPy functions that you can use to create special NumPy arrays:\n",
        "\n",
        "-  `np.full()`: Create a constant array of any number ‘n’\n",
        "-  `np.tile()`: Create a new array by repeating an existing array for a particular number of times\n",
        "-  `np.eye()`: Create an identity matrix of any dimension\n",
        "-  `np.random.randint()`: Create a random array of integers within a particular range"
      ]
    },
    {
      "cell_type": "code",
      "execution_count": 18,
      "metadata": {
        "colab": {
          "base_uri": "https://localhost:8080/"
        },
        "id": "Ur0KoMnjPXbY",
        "outputId": "5314e206-dce8-4a66-88bb-137f2c5b7380"
      },
      "outputs": [
        {
          "output_type": "execute_result",
          "data": {
            "text/plain": [
              "array([[2, 2, 2],\n",
              "       [2, 2, 2],\n",
              "       [2, 2, 2],\n",
              "       [2, 2, 2],\n",
              "       [2, 2, 2]])"
            ]
          },
          "metadata": {},
          "execution_count": 18
        }
      ],
      "source": [
        "np.full([5, 3], 2)"
      ]
    },
    {
      "cell_type": "code",
      "source": [
        "np.tile([3, 6, -10], 2)"
      ],
      "metadata": {
        "colab": {
          "base_uri": "https://localhost:8080/"
        },
        "id": "DLZTmi4eTJRC",
        "outputId": "cf37f847-209a-4f5d-bb2f-050e4d7f9fd1"
      },
      "execution_count": 19,
      "outputs": [
        {
          "output_type": "execute_result",
          "data": {
            "text/plain": [
              "array([  3,   6, -10,   3,   6, -10])"
            ]
          },
          "metadata": {},
          "execution_count": 19
        }
      ]
    },
    {
      "cell_type": "code",
      "source": [
        "np.eye(4, 2)"
      ],
      "metadata": {
        "colab": {
          "base_uri": "https://localhost:8080/"
        },
        "id": "GKAmUJL6Tv3o",
        "outputId": "79c84ebb-6baa-4897-a14e-7e02d164c8fe"
      },
      "execution_count": 20,
      "outputs": [
        {
          "output_type": "execute_result",
          "data": {
            "text/plain": [
              "array([[1., 0.],\n",
              "       [0., 1.],\n",
              "       [0., 0.],\n",
              "       [0., 0.]])"
            ]
          },
          "metadata": {},
          "execution_count": 20
        }
      ]
    },
    {
      "cell_type": "code",
      "source": [
        "np.random.random()"
      ],
      "metadata": {
        "colab": {
          "base_uri": "https://localhost:8080/"
        },
        "id": "VI2vTPxoWJPg",
        "outputId": "de89ef8f-0cd9-49a0-d6e7-bb3d1331451d"
      },
      "execution_count": 21,
      "outputs": [
        {
          "output_type": "execute_result",
          "data": {
            "text/plain": [
              "0.29036036914940055"
            ]
          },
          "metadata": {},
          "execution_count": 21
        }
      ]
    },
    {
      "cell_type": "code",
      "source": [
        "np.random.random(4)"
      ],
      "metadata": {
        "colab": {
          "base_uri": "https://localhost:8080/"
        },
        "id": "JVRWIMU4V_f2",
        "outputId": "332b2f04-2c31-4ca8-acb1-70fae24b4a3a"
      },
      "execution_count": 22,
      "outputs": [
        {
          "output_type": "execute_result",
          "data": {
            "text/plain": [
              "array([0.82903575, 0.41643748, 0.92642271, 0.81642935])"
            ]
          },
          "metadata": {},
          "execution_count": 22
        }
      ]
    },
    {
      "cell_type": "code",
      "source": [
        "np.random.random([4, 2, 3])"
      ],
      "metadata": {
        "colab": {
          "base_uri": "https://localhost:8080/"
        },
        "id": "Pk1POzPqU4rF",
        "outputId": "c16bf93e-61ee-443d-cced-0b41ee57a243"
      },
      "execution_count": 23,
      "outputs": [
        {
          "output_type": "execute_result",
          "data": {
            "text/plain": [
              "array([[[0.05498517, 0.62649779, 0.51196658],\n",
              "        [0.54498629, 0.41732775, 0.26689139]],\n",
              "\n",
              "       [[0.9409214 , 0.84089538, 0.20299471],\n",
              "        [0.27502979, 0.26258129, 0.99155322]],\n",
              "\n",
              "       [[0.13758364, 0.36517783, 0.86609076],\n",
              "        [0.75346369, 0.4513942 , 0.70553396]],\n",
              "\n",
              "       [[0.1510661 , 0.05268386, 0.70875834],\n",
              "        [0.14300091, 0.88505384, 0.92498725]]])"
            ]
          },
          "metadata": {},
          "execution_count": 23
        }
      ]
    },
    {
      "cell_type": "code",
      "source": [],
      "metadata": {
        "id": "nPHQlGzLVsyW"
      },
      "execution_count": 23,
      "outputs": []
    }
  ],
  "metadata": {
    "kernelspec": {
      "display_name": "Python 3",
      "language": "python",
      "name": "python3"
    },
    "language_info": {
      "codemirror_mode": {
        "name": "ipython",
        "version": 3
      },
      "file_extension": ".py",
      "mimetype": "text/x-python",
      "name": "python",
      "nbconvert_exporter": "python",
      "pygments_lexer": "ipython3",
      "version": "3.7.3"
    },
    "colab": {
      "provenance": []
    }
  },
  "nbformat": 4,
  "nbformat_minor": 0
}