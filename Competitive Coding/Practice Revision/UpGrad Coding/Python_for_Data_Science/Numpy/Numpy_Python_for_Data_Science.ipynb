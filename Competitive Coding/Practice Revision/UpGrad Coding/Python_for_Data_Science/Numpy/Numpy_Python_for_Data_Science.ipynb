{
  "nbformat": 4,
  "nbformat_minor": 0,
  "metadata": {
    "colab": {
      "provenance": []
    },
    "kernelspec": {
      "name": "python3",
      "display_name": "Python 3"
    },
    "language_info": {
      "name": "python"
    }
  },
  "cells": [
    {
      "cell_type": "markdown",
      "source": [
        "Creating an Array\n",
        "----------\n",
        "\n",
        "Select the correct option to create a 1-d array using the following elements (1.0, 2, 3.5, 0.2, True). \n",
        "\n",
        "(Note that ‘True’ must be provided as a Boolean value, not as a string.)\n",
        "\n",
        "\n",
        "- np.array(1.0, 2, 3.5, 0.2, True)\n",
        "\n",
        "- np.array( [1.0, 2, 3.5, 0.2, \"True\"] )\n",
        "\n",
        "\n",
        "    - np.array( [1.0, 2, 3.5, 0.2, True] )\n",
        "    \n",
        "    This is the correct answer. \n",
        "    You have to provide the elements in the form of a list or a tuple to form an array. \n",
        "    Also, a Boolean value is defined without the apostrophes.\n",
        "\n",
        "\n",
        "- np.array[1.0, 2, 3.5, 0.2, True]"
      ],
      "metadata": {
        "id": "TtVZrCSRlqnL"
      }
    },
    {
      "cell_type": "code",
      "source": [
        "import numpy as np\n",
        "\n",
        "lst = [1.0, 2, 3.5, 0.2, True]\n",
        "arr = np.array( lst )\n",
        "\n",
        "arr"
      ],
      "metadata": {
        "colab": {
          "base_uri": "https://localhost:8080/"
        },
        "id": "TEdEdJXA6mZ8",
        "outputId": "4ba0dfe6-31c8-41ba-a3f8-3ed15b14744d"
      },
      "execution_count": null,
      "outputs": [
        {
          "output_type": "execute_result",
          "data": {
            "text/plain": [
              "array([1. , 2. , 3.5, 0.2, 1. ])"
            ]
          },
          "metadata": {},
          "execution_count": 1
        }
      ]
    },
    {
      "cell_type": "markdown",
      "source": [
        "NumPy Array\n",
        "----------\n",
        "\n",
        "What is the default data type of each element in the array created in the previous question?\n",
        "\n",
        "\n",
        "- String\n",
        "\n",
        "\n",
        "- Integer\n",
        "\n",
        "\n",
        "    - Float\n",
        "\n",
        "    Float can accommodate the integer values; \n",
        "    hence, all the values are converted to float. \n",
        "    \n",
        "    Check the output in Jupyter notebook to confirm.\n",
        "\n",
        "\n",
        "- Boolean"
      ],
      "metadata": {
        "id": "iii7t4vXmR5x"
      }
    },
    {
      "cell_type": "code",
      "source": [
        "type(arr[1]), type(arr[-1])"
      ],
      "metadata": {
        "colab": {
          "base_uri": "https://localhost:8080/"
        },
        "id": "GdOIyijV6oFb",
        "outputId": "96c116f5-046b-4e6c-bd51-3d57457bf000"
      },
      "execution_count": null,
      "outputs": [
        {
          "output_type": "execute_result",
          "data": {
            "text/plain": [
              "(numpy.float64, numpy.float64)"
            ]
          },
          "metadata": {},
          "execution_count": 2
        }
      ]
    },
    {
      "cell_type": "markdown",
      "source": [
        "Creating an array\n",
        "-----------\n",
        "\n",
        "Is it possible to create an array from a tuple?\n",
        "\n",
        "\n",
        "    - Yes\n",
        "\n",
        "    Yes, NumPy arrays can be created using a tuple. \n",
        "    Any sequence that has an array-like structure can \n",
        "    be passed to the np.array function.\n",
        "\n",
        "\n",
        "- No"
      ],
      "metadata": {
        "id": "hhCFwVDimgZY"
      }
    },
    {
      "cell_type": "code",
      "source": [
        "tup = (1.0, 2, 3.5, 0.2, True)\n",
        "np.array(tup)"
      ],
      "metadata": {
        "colab": {
          "base_uri": "https://localhost:8080/"
        },
        "id": "CYP4ie_S7D3S",
        "outputId": "f4639513-ac18-45c3-ab07-d7dc30f56d55"
      },
      "execution_count": null,
      "outputs": [
        {
          "output_type": "execute_result",
          "data": {
            "text/plain": [
              "array([1. , 2. , 3.5, 0.2, 1. ])"
            ]
          },
          "metadata": {},
          "execution_count": 3
        }
      ]
    },
    {
      "cell_type": "markdown",
      "source": [
        "Indexing Array\n",
        "----------\n",
        "\n",
        "Given an array:\n",
        "\n",
        "    array_1 = [1,2,3,5,4,6,7,8,5,3,2]\n",
        "\n",
        "What will be the output of the code provided below?\n",
        "\n",
        "    print(array_1[:3])\n",
        " \n",
        "\n",
        "\n",
        "- [1, 2, 3, 5]\n",
        "\n",
        "\n",
        "    - [1, 2, 3]\n",
        "\n",
        "    The function only gives the first three entries, \n",
        "    and this answer follows that.\n",
        "\n",
        "\n",
        "- [2, 3, 5]"
      ],
      "metadata": {
        "id": "C38C2rgqobHv"
      }
    },
    {
      "cell_type": "code",
      "source": [
        "array_1 = [1,2,3,5,4,6,7,8,5,3,2]\n",
        "print(array_1[:3])"
      ],
      "metadata": {
        "colab": {
          "base_uri": "https://localhost:8080/"
        },
        "id": "eweSqWvt7hUI",
        "outputId": "2bfeff2e-60f0-4b1f-f6d7-4fa019b06ba5"
      },
      "execution_count": null,
      "outputs": [
        {
          "output_type": "stream",
          "name": "stdout",
          "text": [
            "[1, 2, 3]\n"
          ]
        }
      ]
    },
    {
      "cell_type": "markdown",
      "source": [
        "Indexing Array\n",
        "----------\n",
        "\n",
        "Given an array:\n",
        "\n",
        "    array_1 = [1,2,3,5,4,6,7,8,5,3,2]\n",
        "\n",
        "What will be the output of the code provided below?\n",
        "\n",
        "    print(array_1[2:-3])\n",
        " \n",
        "\n",
        "- [2 3 5 4 6 7 8]\n",
        "\n",
        "\n",
        "    - [3 5 4 6 7 8]\n",
        "    \n",
        "    The desired values start from the third entry (included) \n",
        "    in the array until the third last entry (excluded).\n",
        "\n",
        "\n",
        "- [3 5 4 6 7 8 5]\n",
        " "
      ],
      "metadata": {
        "id": "xhS_NkpVoq-f"
      }
    },
    {
      "cell_type": "code",
      "source": [
        "array_1 = [1,2,3,5,4,6,7,8,5,3,2]\n",
        "print(array_1[2:-3])"
      ],
      "metadata": {
        "colab": {
          "base_uri": "https://localhost:8080/"
        },
        "id": "2h_1npaz7mpa",
        "outputId": "a78482f4-6e9f-4508-a64c-2799d6086018"
      },
      "execution_count": null,
      "outputs": [
        {
          "output_type": "stream",
          "name": "stdout",
          "text": [
            "[3, 5, 4, 6, 7, 8]\n"
          ]
        }
      ]
    },
    {
      "cell_type": "markdown",
      "source": [
        "Indexing Array\n",
        "----------\n",
        "\n",
        "Given an array:\n",
        "\n",
        "    array_1 = [1,2,3,5,4,6,7,8,5,3,2]\n",
        "\n",
        "What will be the output of the code provided below?\n",
        "\n",
        "(Hint: The syntax is [starting value : end value : step value])\n",
        "\n",
        "    print(array_1[ : : -2])\n",
        " \n",
        "\n",
        "\n",
        "- [2, 5, 6, 8, 3]\n",
        " \n",
        "\n",
        "- [1, 3, 4, 7, 5, 2]\n",
        " \n",
        "\n",
        "\n",
        "    - [2, 5, 7, 4, 3, 1]\n",
        "    \n",
        "    The syntax is [starting value : end value : skip value]. \n",
        "    Here, since the skip value is negative, \n",
        "    it means that we will start from the opposite direction \n",
        "    take every second value in the array"
      ],
      "metadata": {
        "id": "XF0hONPFpEQ3"
      }
    },
    {
      "cell_type": "code",
      "source": [
        "array_1 = [1,2,3,5,4,6,7,8,5,3,2]\n",
        "print(array_1[ : : -2])"
      ],
      "metadata": {
        "colab": {
          "base_uri": "https://localhost:8080/"
        },
        "id": "CYsmiai57veO",
        "outputId": "14697550-fdc0-4e86-92b8-ff5b171e28c8"
      },
      "execution_count": null,
      "outputs": [
        {
          "output_type": "stream",
          "name": "stdout",
          "text": [
            "[2, 5, 7, 4, 3, 1]\n"
          ]
        }
      ]
    },
    {
      "cell_type": "markdown",
      "source": [
        "Indexing Array\n",
        "----------\n",
        "\n",
        "How would you extract all the elements with an odd index in a given array?\n",
        "\n",
        "(Hint: Odd index refers to the position of the element, not the actual value)\n",
        "\n",
        "\n",
        "- array[1:1]\n",
        "\n",
        "- array[: : 2]\n",
        "\n",
        "\n",
        "    - array[1: : 2]\n",
        "\n",
        "    The syntax here will give all the elements at odd indices.\n",
        "\n",
        "\n",
        "- array[1:2]"
      ],
      "metadata": {
        "id": "Frjm89F7pUIe"
      }
    },
    {
      "cell_type": "code",
      "source": [
        "array = [0,1,2,3,4,5,6,7,8,9]\n",
        "array[1: : 2]"
      ],
      "metadata": {
        "colab": {
          "base_uri": "https://localhost:8080/"
        },
        "id": "wLgTLBw070-I",
        "outputId": "68caa09e-445b-447e-9ac6-bec09f472886"
      },
      "execution_count": null,
      "outputs": [
        {
          "output_type": "execute_result",
          "data": {
            "text/plain": [
              "[1, 3, 5, 7, 9]"
            ]
          },
          "metadata": {},
          "execution_count": 7
        }
      ]
    },
    {
      "cell_type": "markdown",
      "source": [
        "Extracting Elements from Array\n",
        "----------\n",
        "\n",
        "Description\n",
        "\n",
        "From a given array, extract all the elements which are greater than 'm' and less than 'n'. Note: 'm' and 'n' are integer values provided as input.\n",
        "\n",
        "\n",
        "\n",
        "Input format:\n",
        "\n",
        "A list of integers on line one\n",
        "\n",
        "Integer 'm' on line two\n",
        "\n",
        "Integer 'n' on line three\n",
        "\n",
        "\n",
        "\n",
        "Output format:\n",
        "\n",
        "1-D array containing integers greater than 'm' and smaller than 'n'.\n",
        "\n",
        "\n",
        "\n",
        "\n",
        "\n",
        "Sample input:\n",
        "\n",
        "[ 1, 5, 9, 12, 15, 7, 12, 9 ] (array)\n",
        "\n",
        "6 (m)\n",
        "\n",
        "12 (n)\n",
        "\n",
        "\n",
        "\n",
        "Sample output:\n",
        "\n",
        "[ 9 7 9 ]\n",
        "\n",
        "\n",
        "\n",
        "\n",
        "\n",
        "Sample input:\n",
        "\n",
        "[ 1, 5, 9, 12, 15, 7, 12, 9 ]\n",
        "\n",
        "12\n",
        "\n",
        "6\n",
        "\n",
        "\n",
        "\n",
        "Sample output:\n",
        "\n",
        "[ ]"
      ],
      "metadata": {
        "id": "ZjDzq2cupjPe"
      }
    },
    {
      "cell_type": "code",
      "source": [
        "lst = [ 1, 5, 9, 12, 15, 7, 12, 9 ]\n",
        "lst"
      ],
      "metadata": {
        "colab": {
          "base_uri": "https://localhost:8080/"
        },
        "id": "IckHIw_Pmae6",
        "outputId": "a844e499-fa86-48a7-82c8-679b67fc4878"
      },
      "execution_count": null,
      "outputs": [
        {
          "output_type": "execute_result",
          "data": {
            "text/plain": [
              "[1, 5, 9, 12, 15, 7, 12, 9]"
            ]
          },
          "metadata": {},
          "execution_count": 8
        }
      ]
    },
    {
      "cell_type": "code",
      "source": [
        "m = 6\n",
        "n = 12\n",
        "m, n"
      ],
      "metadata": {
        "colab": {
          "base_uri": "https://localhost:8080/"
        },
        "id": "5f4H6BwApv1_",
        "outputId": "3fc51ee0-b5cc-4a26-9b85-3af05b7b5f9d"
      },
      "execution_count": null,
      "outputs": [
        {
          "output_type": "execute_result",
          "data": {
            "text/plain": [
              "(6, 12)"
            ]
          },
          "metadata": {},
          "execution_count": 9
        }
      ]
    },
    {
      "cell_type": "code",
      "source": [
        "import numpy as np\n",
        "lstnp = np.array(lst)\n",
        "lstnp"
      ],
      "metadata": {
        "colab": {
          "base_uri": "https://localhost:8080/"
        },
        "id": "4JKUt_3jpz6t",
        "outputId": "c82277d0-9080-4f9f-ebe1-0e5a3899dd43"
      },
      "execution_count": null,
      "outputs": [
        {
          "output_type": "execute_result",
          "data": {
            "text/plain": [
              "array([ 1,  5,  9, 12, 15,  7, 12,  9])"
            ]
          },
          "metadata": {},
          "execution_count": 10
        }
      ]
    },
    {
      "cell_type": "code",
      "source": [
        "print(lstnp[(lstnp > m) & (lstnp < n)])"
      ],
      "metadata": {
        "colab": {
          "base_uri": "https://localhost:8080/"
        },
        "id": "njMSo1htp-DC",
        "outputId": "e632e830-ee0b-40eb-8fe1-8b80b05bf5a8"
      },
      "execution_count": null,
      "outputs": [
        {
          "output_type": "stream",
          "name": "stdout",
          "text": [
            "[9 7 9]\n"
          ]
        }
      ]
    },
    {
      "cell_type": "code",
      "source": [
        "# Ans.\n",
        "import ast \n",
        "\n",
        "input_list=ast.literal_eval(input())\n",
        "m=int(input())\n",
        "n=int(input())\n",
        "\n",
        "import numpy as np\n",
        "array_1 = np.array(input_list)\n",
        "final_array = array_1[(array_1 > m) & (array_1 < n)]\n",
        "\n",
        "print(final_array)"
      ],
      "metadata": {
        "colab": {
          "base_uri": "https://localhost:8080/"
        },
        "id": "evsUD9BSsEN6",
        "outputId": "53e071d4-3922-4151-bc8c-f0ce78759d33"
      },
      "execution_count": null,
      "outputs": [
        {
          "output_type": "stream",
          "name": "stdout",
          "text": [
            "[1, 5, 9, 12, 15, 7, 12, 9]\n",
            "6\n",
            "12\n",
            "[9 7 9]\n"
          ]
        }
      ]
    },
    {
      "cell_type": "markdown",
      "source": [
        "# Axis\n",
        "\n",
        "In NumPy, the dimension is called axis. \n",
        "\n",
        "In NumPy terminology, for 2-D arrays:\n",
        "\n",
        "    axis = 0 - refers to the rows\n",
        "    axis = 1 - refers to the columns\n",
        "\n",
        "![ss](https://cdn.upgrad.com/UpGrad/temp/955dae3c-d41c-41db-8ef1-4c38d50f96ef/2_d_array.png)"
      ],
      "metadata": {
        "id": "aWCa0uLC5oSd"
      }
    },
    {
      "cell_type": "markdown",
      "source": [
        "Slicing Arrays\n",
        "-------\n",
        "\n",
        "Which of the following would extract all the rows of the first 3 columns in a 2D array?\n",
        "\n",
        "\n",
        "- array_name[ : , :2]\n",
        "\n",
        "- array_name[( : , :2)]\n",
        "\n",
        "\n",
        "    - array_name[ : , :3]\n",
        "    array_name[:,:3] extracts all the rows of the first 3 columns. \n",
        "    \n",
        "    Note that even though the first 3 columns have the indices 0, 1, and 2, respectively, \n",
        "\n",
        "    we need to mention array_name[:,:3] instead of array_name[:,:2] \n",
        "    since the last column index mentioned is not included, \n",
        "\n",
        "    i.e., array_name[:,:2] will give you just the first two columns, \n",
        "    i.e., 0 and 1.\n",
        "\n",
        "- array_name[( : , :3)]"
      ],
      "metadata": {
        "id": "gJb65WAF8pxY"
      }
    },
    {
      "cell_type": "markdown",
      "source": [
        "Border Rows and Columns\n",
        "-----------------\n",
        "\n",
        "Description\n",
        "\n",
        "Extract all the border rows and columns from a 2-D array.\n",
        "\n",
        "Format:\n",
        "Input: A 2-D Python list\n",
        "Output: Four NumPy arrays - First column of the input array, first row of the input array, last column of the input array, last row of the input array respectively.\n",
        "\n",
        "`Example:`\n",
        "\n",
        "    Input 1:\n",
        "\n",
        "    [[11 12 13 14]\n",
        "    [21 22 23 24]\n",
        "    [31 32 33 34]]\n",
        "    \n",
        "    Output 1:\n",
        "\n",
        "    [11 21 31]\n",
        "    [11 12 13 14]\n",
        "    [14 24 34]\n",
        "    [31 32 33 34]"
      ],
      "metadata": {
        "id": "8QMZkbBHLhbI"
      }
    },
    {
      "cell_type": "code",
      "source": [
        "# Read the input list\n",
        "import ast, sys\n",
        "import numpy as np\n",
        "\n",
        "# input_str = sys.stdin.readlines()\n",
        "input_str = input()\n",
        "input_list = ast.literal_eval(input_str)\n",
        "\n",
        "# Convert the input list to a NumPy array\n",
        "array_2d = np.array(input_list)\n",
        "\n",
        "# Extract the first column, first row, last column and last row respectively using\n",
        "# appropriate indexing\n",
        "\n",
        "col_first = array_2d[ : , 0]\n",
        "row_first = array_2d[ 0 , :]\n",
        "col_last = array_2d[ : , -1]\n",
        "row_last = array_2d[ -1 , :]\n",
        "\n",
        "print(col_first)\n",
        "print(row_first)\n",
        "print(col_last)\n",
        "print(row_last)\n",
        "\n",
        "\n",
        "# INPUT:\n",
        "# [[11, 12, 13, 14],\n",
        "#  [21, 22, 23, 24],\n",
        "#  [31, 32, 33, 34]]\n"
      ],
      "metadata": {
        "id": "Gb_8Czj6tNUe",
        "colab": {
          "base_uri": "https://localhost:8080/"
        },
        "outputId": "0ef3da17-694f-4172-cbc0-fd2727919737"
      },
      "execution_count": null,
      "outputs": [
        {
          "output_type": "stream",
          "name": "stdout",
          "text": [
            "[[11, 12, 13, 14],  [21, 22, 23, 24],  [31, 32, 33, 34]]\n",
            "[11 21 31]\n",
            "[11 12 13 14]\n",
            "[14 24 34]\n",
            "[31 32 33 34]\n"
          ]
        }
      ]
    },
    {
      "cell_type": "code",
      "source": [
        "# Ans.\n",
        "\n",
        "# Read the input list\n",
        "import ast,sys\n",
        "input_str = sys.stdin.read()\n",
        "input_list = ast.literal_eval(input_str)\n",
        "\n",
        "import numpy as np\n",
        "# Convert the input list to a NumPy array\n",
        "array_2d = np.array(input_list)\n",
        "\n",
        "# Extract the first column, first row, last column and last row respectively using\n",
        "# appropriate indexing\n",
        "\n",
        "col_first = array_2d[ : ,  0]\n",
        "row_first = array_2d[ 0 ,  :]\n",
        "col_last  = array_2d[ : , -1]\n",
        "row_last  = array_2d[-1 ,  :]\n",
        "\n",
        "print(col_first)\n",
        "print(row_first)\n",
        "print(col_last)\n",
        "print(row_last)"
      ],
      "metadata": {
        "id": "sNHPpH5-MWBV"
      },
      "execution_count": null,
      "outputs": []
    },
    {
      "cell_type": "markdown",
      "source": [
        "### The following ways are commonly used when you know the size of the array beforehand:\n",
        "\n",
        "- np.ones(): It is used to create an array of 1s.\n",
        "- np.zeros(): It is used to create an array of 0s.\n",
        "- np.random.randint(): It is used to create a random array of integers within a particular range.\n",
        "- np.random.random(): It is used to create an array of random numbers.\n",
        "- np.arange(): It is used to create an array with increments of fixed step size.\n",
        "- np.linspace(): It is used to create an array of fixed length.\n",
        "\n",
        "-----------------\n",
        "\n",
        "The iPython file attached here has been used in the demonstrations in this segment.\n",
        "\n",
        "[Creating Numpy Array](https://colab.research.google.com/drive/1gd-h-YFCZT5WjjXK_wzEd_aMrzmCvyy4?authuser=1#scrollTo=rkCVJapEPXZ3)"
      ],
      "metadata": {
        "id": "RkXg3-EjOj2u"
      }
    },
    {
      "cell_type": "markdown",
      "source": [
        "Array 'arange' Function\n",
        "------\n",
        "\n",
        "Description\n",
        "\n",
        "Create an array of first 10 multiples of 5 using the 'arange' function.\n",
        "\n",
        "    np.arange(start=1, stop=10, step=3)"
      ],
      "metadata": {
        "id": "jVcb78hWXNq2"
      }
    },
    {
      "cell_type": "code",
      "source": [
        "import numpy as np\n",
        "\n",
        "array_multipleof5 = np.arange(5, 51, 5)\n",
        "\n",
        "print(array_multipleof5)"
      ],
      "metadata": {
        "colab": {
          "base_uri": "https://localhost:8080/"
        },
        "id": "kRrCElArTRbF",
        "outputId": "f7a84da6-7af1-4454-b92b-f97f528a275a"
      },
      "execution_count": null,
      "outputs": [
        {
          "output_type": "stream",
          "name": "stdout",
          "text": [
            "[ 5 10 15 20 25 30 35 40 45 50]\n"
          ]
        }
      ]
    },
    {
      "cell_type": "markdown",
      "source": [
        "Create border array\n",
        "-----\n",
        "\n",
        "Description\n",
        "\n",
        "Given a single integer n, create an (n x n) 2D array with 1 on the border and 0 on the inside.\n",
        "\n",
        "Note: \n",
        "\n",
        "Make sure the array is of type int.\n",
        "\n",
        "`Example:`\n",
        "\n",
        "    Input 1:\n",
        "    4\n",
        "\n",
        "    Output 1:\n",
        "\n",
        "    [[1 1 1 1]\n",
        "    [1 0 0 1]\n",
        "    [1 0 0 1]\n",
        "    [1 1 1 1]]\n",
        "\n",
        "--------------\n",
        "\n",
        "    Input 2:\n",
        "    2\n",
        "\n",
        "    Output 2:\n",
        "\n",
        "    [[1 1] \n",
        "    [1 1]] \n"
      ],
      "metadata": {
        "id": "55cvFzbWZKgr"
      }
    },
    {
      "cell_type": "code",
      "source": [
        "# Ans.\n",
        "\n",
        "# Read the variable from STDIN\n",
        "n = int(input())\n",
        "# n = 4\n",
        "\n",
        "import numpy as np\n",
        "\n",
        "# Create an 'n*n' array of all ones\n",
        "\n",
        "# Fill the array with zeroes from second index (i.e. index 1) to second last index.\n",
        "# Do this for both row indices and column indices\n",
        "\n",
        "# Print the array created\n",
        "arr = np.zeros((n, n), dtype = int)\n",
        "arr[:, 0] = arr[0, :] = arr[:, -1] = arr[-1, :] = 1\n",
        "arr"
      ],
      "metadata": {
        "colab": {
          "base_uri": "https://localhost:8080/"
        },
        "id": "h9d0NhvYXxNg",
        "outputId": "36012130-41be-452c-ba67-7e159ae064f3"
      },
      "execution_count": null,
      "outputs": [
        {
          "name": "stdout",
          "output_type": "stream",
          "text": [
            "4\n"
          ]
        },
        {
          "output_type": "execute_result",
          "data": {
            "text/plain": [
              "array([[1, 1, 1, 1],\n",
              "       [1, 0, 0, 1],\n",
              "       [1, 0, 0, 1],\n",
              "       [1, 1, 1, 1]])"
            ]
          },
          "metadata": {},
          "execution_count": 19
        }
      ]
    },
    {
      "cell_type": "markdown",
      "source": [
        "Index of the 100th Element\n",
        "------------\n",
        "\n",
        "Consider an (11,12) shape array. \n",
        "What is the index (x,y) of the 100th element? \n",
        "\n",
        "Note: \n",
        "\n",
        "For counting the elements, go row-wise. \n",
        "\n",
        "For example, in the array:\n",
        "\n",
        "    [[1, 5, 9],\n",
        "    [3, 0, 2]]\n",
        "\n",
        "the 5th element would be '0'.\n",
        "\n",
        "\n",
        "    (8, 3)\n",
        "\n",
        "    You can create an 11 x 12 array using np.array(range(1, 11*12+1)). \n",
        "    You can reshape it to an (11 x 12) array and then check the position of 100. \n",
        "    Be clear that the indexing starts from 0; hence, the 9th row will have the index 8.\n",
        "\n",
        "    Alternatively, you can also use np.unravel_index(99, (11,12)) on the created array.\n",
        "\n",
        "\n",
        "- (8, 4)\n",
        "\n",
        "\n",
        "- (9, 3)\n",
        "\n",
        "\n",
        "- (9, 4)"
      ],
      "metadata": {
        "id": "_vFnvm8ACSs-"
      }
    },
    {
      "cell_type": "code",
      "source": [
        "arr = np.array(range(1, 11*12 +1))\n",
        "arr"
      ],
      "metadata": {
        "colab": {
          "base_uri": "https://localhost:8080/"
        },
        "id": "iFWA9x4YCy2K",
        "outputId": "64ebc696-8a27-4de1-bb02-8ab99c492d9b"
      },
      "execution_count": null,
      "outputs": [
        {
          "output_type": "execute_result",
          "data": {
            "text/plain": [
              "array([  1,   2,   3,   4,   5,   6,   7,   8,   9,  10,  11,  12,  13,\n",
              "        14,  15,  16,  17,  18,  19,  20,  21,  22,  23,  24,  25,  26,\n",
              "        27,  28,  29,  30,  31,  32,  33,  34,  35,  36,  37,  38,  39,\n",
              "        40,  41,  42,  43,  44,  45,  46,  47,  48,  49,  50,  51,  52,\n",
              "        53,  54,  55,  56,  57,  58,  59,  60,  61,  62,  63,  64,  65,\n",
              "        66,  67,  68,  69,  70,  71,  72,  73,  74,  75,  76,  77,  78,\n",
              "        79,  80,  81,  82,  83,  84,  85,  86,  87,  88,  89,  90,  91,\n",
              "        92,  93,  94,  95,  96,  97,  98,  99, 100, 101, 102, 103, 104,\n",
              "       105, 106, 107, 108, 109, 110, 111, 112, 113, 114, 115, 116, 117,\n",
              "       118, 119, 120, 121, 122, 123, 124, 125, 126, 127, 128, 129, 130,\n",
              "       131, 132])"
            ]
          },
          "metadata": {},
          "execution_count": 20
        }
      ]
    },
    {
      "cell_type": "code",
      "source": [
        "arr = arr.reshape(11, 12)\n",
        "arr"
      ],
      "metadata": {
        "colab": {
          "base_uri": "https://localhost:8080/"
        },
        "id": "J3Jn3YjcDcAN",
        "outputId": "238d06d5-880b-4567-fe13-afb56dbdba02"
      },
      "execution_count": null,
      "outputs": [
        {
          "output_type": "execute_result",
          "data": {
            "text/plain": [
              "array([[  1,   2,   3,   4,   5,   6,   7,   8,   9,  10,  11,  12],\n",
              "       [ 13,  14,  15,  16,  17,  18,  19,  20,  21,  22,  23,  24],\n",
              "       [ 25,  26,  27,  28,  29,  30,  31,  32,  33,  34,  35,  36],\n",
              "       [ 37,  38,  39,  40,  41,  42,  43,  44,  45,  46,  47,  48],\n",
              "       [ 49,  50,  51,  52,  53,  54,  55,  56,  57,  58,  59,  60],\n",
              "       [ 61,  62,  63,  64,  65,  66,  67,  68,  69,  70,  71,  72],\n",
              "       [ 73,  74,  75,  76,  77,  78,  79,  80,  81,  82,  83,  84],\n",
              "       [ 85,  86,  87,  88,  89,  90,  91,  92,  93,  94,  95,  96],\n",
              "       [ 97,  98,  99, 100, 101, 102, 103, 104, 105, 106, 107, 108],\n",
              "       [109, 110, 111, 112, 113, 114, 115, 116, 117, 118, 119, 120],\n",
              "       [121, 122, 123, 124, 125, 126, 127, 128, 129, 130, 131, 132]])"
            ]
          },
          "metadata": {},
          "execution_count": 21
        }
      ]
    },
    {
      "cell_type": "code",
      "source": [
        "x = 0\n",
        "for i in arr:\n",
        "  y = 0\n",
        "  for j in i:\n",
        "    if j == 100:\n",
        "      print((x, y))\n",
        "      break\n",
        "    y += 1\n",
        "  x += 1"
      ],
      "metadata": {
        "colab": {
          "base_uri": "https://localhost:8080/"
        },
        "id": "Ln6h6qQxC3Bn",
        "outputId": "80110977-e78f-49cc-e590-0b35c510ca25"
      },
      "execution_count": null,
      "outputs": [
        {
          "output_type": "stream",
          "name": "stdout",
          "text": [
            "(8, 3)\n"
          ]
        }
      ]
    },
    {
      "cell_type": "code",
      "source": [
        "# Ans.\n",
        "np.unravel_index(99, (11, 12))"
      ],
      "metadata": {
        "id": "oiZFLkZiaxt7",
        "colab": {
          "base_uri": "https://localhost:8080/"
        },
        "outputId": "13ce2d23-366a-4b57-ed1e-914fa1aecddc"
      },
      "execution_count": null,
      "outputs": [
        {
          "output_type": "execute_result",
          "data": {
            "text/plain": [
              "(8, 3)"
            ]
          },
          "metadata": {},
          "execution_count": 23
        }
      ]
    },
    {
      "cell_type": "markdown",
      "source": [
        "Reshaping an Array\n",
        "----\n",
        "\n",
        "Suppose you have an array 'p':\n",
        "\n",
        "    [[1, 5],\n",
        "    [3, 7],\n",
        "    [4, 9]]\n",
        "\n",
        "What will be the output of the following code?\n",
        "\n",
        "    np.reshape(p, -1)\n",
        "\n",
        "------------\n",
        "\n",
        "    1-d array\n",
        "\n",
        "    reshape() function returns a 1-D array when you specify the shape as -1.\n",
        "\n",
        "\n",
        "- 2-d array"
      ],
      "metadata": {
        "id": "FVBTxjanFpiM"
      }
    },
    {
      "cell_type": "code",
      "source": [
        "p = [\n",
        "  [1, 5],\n",
        "  [3, 7],\n",
        "  [4, 9],\n",
        "]\n",
        "\n",
        "pnp = np.array(p)\n",
        "display(pnp)\n",
        "pnp.shape"
      ],
      "metadata": {
        "colab": {
          "base_uri": "https://localhost:8080/",
          "height": 86
        },
        "id": "6X7HWcR7DA4T",
        "outputId": "b21b2bc8-792c-4568-bec9-a6b0299581ac"
      },
      "execution_count": null,
      "outputs": [
        {
          "output_type": "display_data",
          "data": {
            "text/plain": [
              "array([[1, 5],\n",
              "       [3, 7],\n",
              "       [4, 9]])"
            ]
          },
          "metadata": {}
        },
        {
          "output_type": "execute_result",
          "data": {
            "text/plain": [
              "(3, 2)"
            ]
          },
          "metadata": {},
          "execution_count": 24
        }
      ]
    },
    {
      "cell_type": "code",
      "source": [
        "np.reshape(p, -1)"
      ],
      "metadata": {
        "colab": {
          "base_uri": "https://localhost:8080/"
        },
        "id": "MiENyvizF_sl",
        "outputId": "ba29e8ef-dd19-4a66-b9f1-7eaad8ab388d"
      },
      "execution_count": null,
      "outputs": [
        {
          "output_type": "execute_result",
          "data": {
            "text/plain": [
              "array([1, 5, 3, 7, 4, 9])"
            ]
          },
          "metadata": {},
          "execution_count": 25
        }
      ]
    },
    {
      "cell_type": "markdown",
      "source": [
        "Reshaping an Array\n",
        "----------\n",
        "\n",
        "Consider the array provided below: \n",
        "\n",
        "    [[1, 2, 3, 4, 5]\n",
        "    [6, 7, 8, 9, 10]\n",
        "    [11, 12, 13, 14, 15]\n",
        "    [16, 17, 18, 19, 20]]\n",
        "\n",
        "Now, you are expected to generate the following array out of it:\n",
        "\n",
        "    [[1, 3]\n",
        "    [5, 7]\n",
        "    [9, 11]\n",
        "    [13, 15]\n",
        "    [17, 19]]\n",
        "\n",
        "Which code will give you the correct output?\n",
        "\n",
        "(Hint: Also check if one or more options are correct.)\n",
        "\n",
        "---------\n",
        "\n",
        "- print(array_1.reshape(5, 4)[array_1%2 != 0])\n",
        "\n",
        "- print(array_1[array_1%2 != 0])\n",
        "\n",
        "- print(array_1[array_1%2 == 0].reshape(5, 2))\n",
        "\n",
        "- print(array_1[array_1%2 != 0].reshape(5, 2))\n",
        "\n",
        "\n",
        "    print(array_1[array_1%2 != 0].reshape(5, 2))\n",
        "\n",
        "    This is the correct way to slice odd entries and arrange them in the given order."
      ],
      "metadata": {
        "id": "KS1jUlqfG0_0"
      }
    },
    {
      "cell_type": "code",
      "source": [
        "arr = [\n",
        "  [1, 2, 3, 4, 5],\n",
        "  [6, 7, 8, 9, 10],\n",
        "  [11, 12, 13, 14, 15],\n",
        "  [16, 17, 18, 19, 20],\n",
        "]\n",
        "\n",
        "array_1 = np.array(arr)\n",
        "array_1"
      ],
      "metadata": {
        "colab": {
          "base_uri": "https://localhost:8080/"
        },
        "id": "y_ngMztCGC1w",
        "outputId": "7f4a6f12-b747-41fd-b41e-5c212f2ac694"
      },
      "execution_count": null,
      "outputs": [
        {
          "output_type": "execute_result",
          "data": {
            "text/plain": [
              "array([[ 1,  2,  3,  4,  5],\n",
              "       [ 6,  7,  8,  9, 10],\n",
              "       [11, 12, 13, 14, 15],\n",
              "       [16, 17, 18, 19, 20]])"
            ]
          },
          "metadata": {},
          "execution_count": 26
        }
      ]
    },
    {
      "cell_type": "code",
      "source": [
        "# Ans.\n",
        "array_1[array_1 % 2 != 0].reshape(5, 2)"
      ],
      "metadata": {
        "colab": {
          "base_uri": "https://localhost:8080/"
        },
        "id": "iiZdQ7AMHSq8",
        "outputId": "0991cec7-c9b1-477d-8233-35042a5348b4"
      },
      "execution_count": null,
      "outputs": [
        {
          "output_type": "execute_result",
          "data": {
            "text/plain": [
              "array([[ 1,  3],\n",
              "       [ 5,  7],\n",
              "       [ 9, 11],\n",
              "       [13, 15],\n",
              "       [17, 19]])"
            ]
          },
          "metadata": {},
          "execution_count": 27
        }
      ]
    },
    {
      "cell_type": "markdown",
      "source": [
        "Reshaping an array\n",
        "--------------\n",
        "\n",
        "Suppose you have an array 'p'\n",
        "\n",
        "    [[1, 5],\n",
        "    [3, 7],\n",
        "    [4, 9]]\n",
        "\n",
        "What will be the output of the following code?\n",
        "\n",
        "    np.reshape(p, (1, -1))\n",
        " \n",
        "----------\n",
        "\n",
        "- 1-D Array\n",
        "\n",
        "\n",
        "    2-D Array\n",
        "\n",
        "    The dimension of the array is specified by the number of elements you specify in the tuple. \n",
        "\n",
        "    Here, the answer is 2-D array."
      ],
      "metadata": {
        "id": "jHrNBl1vIEzC"
      }
    },
    {
      "cell_type": "code",
      "source": [
        "p = [\n",
        "  [1, 5],\n",
        "  [3, 7],\n",
        "  [4, 9]\n",
        "]\n",
        "\n",
        "arr = np.reshape(p, (1, -1)) # -1 adjust itself accordingly, here 6\n",
        "arr"
      ],
      "metadata": {
        "colab": {
          "base_uri": "https://localhost:8080/"
        },
        "id": "PR4gqfTnHd36",
        "outputId": "9ce3673e-f4ee-4917-d564-1839a02d8a45"
      },
      "execution_count": null,
      "outputs": [
        {
          "output_type": "execute_result",
          "data": {
            "text/plain": [
              "array([[1, 5, 3, 7, 4, 9]])"
            ]
          },
          "metadata": {},
          "execution_count": 28
        }
      ]
    },
    {
      "cell_type": "code",
      "source": [
        "# Ans.\n",
        "arr.ndim"
      ],
      "metadata": {
        "colab": {
          "base_uri": "https://localhost:8080/"
        },
        "id": "OfsGAW6kJxtr",
        "outputId": "6f5bfe2a-08f7-4bbe-9b6a-80eef4fa3fb2"
      },
      "execution_count": null,
      "outputs": [
        {
          "output_type": "execute_result",
          "data": {
            "text/plain": [
              "2"
            ]
          },
          "metadata": {},
          "execution_count": 29
        }
      ]
    },
    {
      "cell_type": "markdown",
      "source": [
        "Stacking arrays\n",
        "---\n",
        "\n",
        "Description\n",
        "\n",
        "Merge the three arrays provided to you to form a one 4x4 array.\n",
        "\n",
        "[Hint: Check the function np.transpose() in the 'Manipulating Arrays' notebook provided.]\n",
        "\n",
        "    Input:\n",
        "    Array 1: 3*3 array\n",
        "\n",
        "    [[7, 13, 14]\n",
        "    [18, 10, 17]\n",
        "    [11, 12, 19]]\n",
        "\n",
        "    Array 2: 1-D array\n",
        "    [16, 6, 1]\n",
        "\n",
        "    Array 3: 1*4 array\n",
        "    [[5, 8, 4, 3]]\n",
        "\n",
        "    Output:\n",
        "    [[7 13 14 5]\n",
        "    [18 10 17 8]\n",
        "    [11 12 19 4]\n",
        "    [16 6 1 3]]"
      ],
      "metadata": {
        "id": "GupThg0rLxhG"
      }
    },
    {
      "cell_type": "code",
      "source": [
        "import ast,sys\n",
        "import numpy as np\n",
        "\n",
        "input_list = [\n",
        "  [\n",
        "    [7, 13, 14], \n",
        "    [18, 10, 17], \n",
        "    [11, 12, 19]\n",
        "  ],\n",
        "\n",
        "  [16, 6, 1], \n",
        "\n",
        "  [\n",
        "    [5, 8, 4, 3],\n",
        "  ],\n",
        "]\n",
        "\n",
        "list_1 = input_list[0]\n",
        "list_2 = input_list[1]\n",
        "list_3 = input_list[2]\n",
        "\n",
        "mystack = np.vstack((list_1, list_2))\n",
        "mystack"
      ],
      "metadata": {
        "colab": {
          "base_uri": "https://localhost:8080/"
        },
        "id": "ZFXkDRLUJ5ae",
        "outputId": "14597a4f-0863-4f52-db7a-759081343e37"
      },
      "execution_count": null,
      "outputs": [
        {
          "output_type": "execute_result",
          "data": {
            "text/plain": [
              "array([[ 7, 13, 14],\n",
              "       [18, 10, 17],\n",
              "       [11, 12, 19],\n",
              "       [16,  6,  1]])"
            ]
          },
          "metadata": {},
          "execution_count": 43
        }
      ]
    },
    {
      "cell_type": "code",
      "source": [
        "list_3 = np.transpose(list_3)\n",
        "list_3"
      ],
      "metadata": {
        "colab": {
          "base_uri": "https://localhost:8080/"
        },
        "id": "m0SIfGG6Omsc",
        "outputId": "c97daece-1bc3-4bdf-ac34-e2b72e85a429"
      },
      "execution_count": null,
      "outputs": [
        {
          "output_type": "execute_result",
          "data": {
            "text/plain": [
              "array([[5],\n",
              "       [8],\n",
              "       [4],\n",
              "       [3]])"
            ]
          },
          "metadata": {},
          "execution_count": 44
        }
      ]
    },
    {
      "cell_type": "code",
      "source": [
        "final_array = np.hstack((mystack, list_3))\n",
        "print(final_array)"
      ],
      "metadata": {
        "colab": {
          "base_uri": "https://localhost:8080/"
        },
        "id": "WGkXuD0cMwT9",
        "outputId": "1e587d5c-a1ca-42a1-bbcd-28496d1a625d"
      },
      "execution_count": null,
      "outputs": [
        {
          "output_type": "stream",
          "name": "stdout",
          "text": [
            "[[ 7 13 14  5]\n",
            " [18 10 17  8]\n",
            " [11 12 19  4]\n",
            " [16  6  1  3]]\n"
          ]
        }
      ]
    },
    {
      "cell_type": "code",
      "source": [
        "# Ans.\n",
        "\n",
        "# Read the input\n",
        "import ast, sys\n",
        "\n",
        "# input_str = sys.stdin.read()\n",
        "input_str = input()\n",
        "input_list = ast.literal_eval(input_str)\n",
        "\n",
        "list_1 = input_list[0]\n",
        "list_2 = input_list[1]\n",
        "list_3 = input_list[2]\n",
        "\n",
        "# Import NumPy\n",
        "import numpy as np\n",
        "\n",
        "# Write your code here\n",
        "mystack = np.vstack((list_1, list_2))\n",
        "list_3 = np.transpose(list_3)\n",
        "\n",
        "final_array = np.hstack((mystack, list_3))\n",
        "print(final_array)"
      ],
      "metadata": {
        "colab": {
          "base_uri": "https://localhost:8080/"
        },
        "id": "Fl1b31qjN3ue",
        "outputId": "606f0581-23f1-4a8a-b9a8-8ce180ac911e"
      },
      "execution_count": null,
      "outputs": [
        {
          "output_type": "stream",
          "name": "stdout",
          "text": [
            "[[[7, 13, 14], [18, 10, 17], [11, 12, 19]], [16, 6, 1], [[5, 8, 4, 3]]]\n",
            "[[ 7 13 14  5]\n",
            " [18 10 17  8]\n",
            " [11 12 19  4]\n",
            " [16  6  1  3]]\n"
          ]
        }
      ]
    },
    {
      "cell_type": "code",
      "source": [],
      "metadata": {
        "id": "sBnsiTy6sxuK"
      },
      "execution_count": null,
      "outputs": []
    }
  ]
}