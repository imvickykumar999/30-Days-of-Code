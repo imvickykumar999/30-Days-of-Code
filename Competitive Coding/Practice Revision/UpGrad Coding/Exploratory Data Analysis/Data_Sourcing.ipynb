{
  "nbformat": 4,
  "nbformat_minor": 0,
  "metadata": {
    "colab": {
      "provenance": []
    },
    "kernelspec": {
      "name": "python3",
      "display_name": "Python 3"
    },
    "language_info": {
      "name": "python"
    }
  },
  "cells": [
    {
      "cell_type": "markdown",
      "source": [
        "Data Sourcing\n",
        "---------\n",
        "\n",
        "Select the correct statement from below.\n",
        "\n",
        "\n",
        "    - Private data is not available to anyone for use.\n",
        "\n",
        "    - Both public and private data can be accessible, but the accessibility \n",
        "      of private data needs to be approved by the respective organisation \n",
        "      for security and privacy purposes.\n",
        "\n",
        "    - Public data is never useful.\n",
        "\n",
        "--------------\n",
        "\n",
        "    Both public and private data can be accessible, but the accessibility \n",
        "    of private data needs to be approved by the respective organisation \n",
        "    for security and privacy purposes.\n",
        "\n",
        "    ✓ Correct\n",
        "      Feedback:\n",
        "\n",
        "Private data is only available when the organisation that owns it gives the approval to use it, but public data is available to all for use without any legal constraints.\n"
      ],
      "metadata": {
        "id": "IU3XBJ9iU2Yw"
      }
    },
    {
      "cell_type": "markdown",
      "source": [
        "EDA Application\n",
        "------------\n",
        "\n",
        "Consider a case of sales forecasting for a clothing brand, and select the correct options from below. \n",
        "\n",
        "More than one option may be correct.\n",
        "\n",
        "-------------------\n",
        "\n",
        "`Based on the data points such as seasons, last year’s weather conditions, electricity tariffs, and holidays, we can predict the sales for this year as well.`\n",
        "\n",
        "    ✓ Correct\n",
        "\n",
        "      Feedback:\n",
        "\n",
        "    Last year’s sales data can give meaningful insights to predict \n",
        "    the sales for this year as well. \n",
        "    \n",
        "    It can also alert the company regarding certain things that it \n",
        "    may have missed out in the last year's sales.\n",
        "\n",
        "----------------\n",
        "\n",
        "`Using graphical analysis and statistical methods, we can get an idea of the supply and demand gap in different seasons during a particular year.`\n",
        "\n",
        "✓ Correct\n",
        "\n",
        "  Feedback:\n",
        "\n",
        "    Suppose customers were more interested in buying cool printed shirts in \n",
        "    the summer, but the company supplied more formal shirts at that time. \n",
        "    \n",
        "    So, it faced a supply-demand gap for printed shirts. \n",
        "    Hence, the inference that can be drawn from past experience is that \n",
        "    during summer, people prefer buying printed shirts over formal shirts.\n",
        "\n",
        "-------------------------\n",
        "\n",
        "`The most popular products among customers can be identified through customer reviews and ratings, and focusing more on the most popular products may give yield revenue for the company.`\n",
        "\n",
        "✓ Correct\n",
        "\n",
        "  Feedback:\n",
        "\n",
        "    It is beneficial for the company to identify the needs of the customers across seasons.\n",
        "\n",
        "---------------------\n",
        "\n",
        "`Prices of different clothing items can be revised based on the previous customer responses to a particular variety of clothes.`\n",
        "\n",
        "✓ Correct\n",
        "\n",
        "  Feedback:\n",
        "\n",
        "    Sometimes, customers may like the products offered by a company but \n",
        "    they do not buy them because the prices are higher than \n",
        "    those of another company; \n",
        "\n",
        "    hence, based on the data of other brands/companies, a company can \n",
        "    regulate its prices in order to boost revenue."
      ],
      "metadata": {
        "id": "NCpc_YF_Vb9J"
      }
    },
    {
      "cell_type": "markdown",
      "source": [
        "HTML Basics\n",
        "-----\n",
        "\n",
        "This is a snapshot of the Wikipedia page of Machine Learning. \n",
        "\n",
        "Select the correct option for the highlighted part in the image. \n",
        "\n",
        "You can find the link to this page [here](https://en.wikipedia.org/wiki/Machine_learning).\n",
        "\n",
        "<br>\n",
        "\n",
        "![ss](https://images.upgrad.com/001588b7-223b-425d-af7e-dbd74c68b583-repl.png)\n",
        "\n",
        "<br>\n",
        "\n",
        "------------\n",
        "\n",
        "It is a hyperlink tag.\n",
        "\n",
        "    ✓ Correct\n",
        "      Feedback:\n",
        "      \n",
        "    As it is a link to some other web page, it is a hyperlink tag.\n",
        "\n",
        "----------\n",
        "\n",
        "It is a heading tag.\n",
        "\n",
        "------"
      ],
      "metadata": {
        "id": "MBDurpaiXC3r"
      }
    },
    {
      "cell_type": "markdown",
      "source": [
        "HTML Basics\n",
        "-------\n",
        "\n",
        "Select the correct class name of the heading on the Wikipedia page on Machine Learning. \n",
        "\n",
        "You can find the link to this page [here](https://en.wikipedia.org/wiki/Machine_learning).\n",
        "\n",
        "\n",
        "    mw-headline\n",
        "\n",
        "    firstHeading\n",
        "\n",
        "-------------------\n",
        "\n",
        "    firstHeading\n",
        "\n",
        "    ✓ Correct\n",
        "      Feedback:\n",
        "\n",
        "    This class represents the first heading on the web page, \n",
        "    i.e., Machine Learning."
      ],
      "metadata": {
        "id": "EzP_0Tj5XbGV"
      }
    },
    {
      "cell_type": "markdown",
      "source": [
        "Web Scraping\n",
        "-----\n",
        "\n",
        "You already know that the HTML code has a nested structure. \n",
        "\n",
        "In the IMDB web page, there is a dedicated class which contains the genre of the movie. \n",
        "\n",
        "Dedicated class for the genre of the movie will be nested inside the other classes as well. \n",
        "\n",
        "Can you identify such classes which contain the genre of the movie in the HTML code of IMDB web page? More than one option may be correct.\n",
        "\n",
        "---------------\n",
        "\n",
        "    text-muted\n",
        "\n",
        "    ✓ Correct\n",
        "      Feedback:\n",
        "\n",
        "This particular class itself contains the “genre” class; hence, the text-muted class contains the genre of the movie.\n",
        "\n",
        "-----------\n",
        "\n",
        "    genre\n",
        "\n",
        "    ✓ Correct\n",
        "      Feedback:\n",
        "\n",
        "The “genre” class is a dedicated class to display the genre of the movie in HTML page; hence, it contains the genre of the movie.\n",
        "\n",
        "-------------\n",
        "\n",
        "    lister-item-content\n",
        "\n",
        "    ✓ Correct\n",
        "      Feedback:\n",
        "\n",
        " The “lister-item-content” class contains all the information about the movie data and the genre class is nested inside the“lister-item-content” class; hence, this class contains the genre of the movie.\n",
        "\n",
        "---------\n",
        "\n",
        "    lister-item mode-advanced\n",
        "\n",
        "    ✓ Correct\n",
        "      Feedback:\n",
        "\n",
        " “lister-item mode-advanced” is the class for one particular movie segment, which contains “lister-item-content” as well as image class; hence, it contains the genre of the movie."
      ],
      "metadata": {
        "id": "DdrgnilRiMpI"
      }
    },
    {
      "cell_type": "code",
      "execution_count": 1,
      "metadata": {
        "id": "tXIU6d8KUu75"
      },
      "outputs": [],
      "source": [
        "from urllib.request import urlopen as uReq\n",
        "from bs4 import BeautifulSoup as soup"
      ]
    },
    {
      "cell_type": "code",
      "source": [
        "my_url =  \"http://www.imdb.com/search/title?sort=num_votes,desc&start=1&title_type=feature&year=1950,2012\"\n",
        "uClient = uReq(my_url)\n",
        "\n",
        "page_html = uClient.read()\n",
        "uClient.close()"
      ],
      "metadata": {
        "id": "qfyJoXLmks52"
      },
      "execution_count": 2,
      "outputs": []
    },
    {
      "cell_type": "code",
      "source": [
        "page_soup = soup(page_html, \"html.parser\")\n",
        "# page_soup"
      ],
      "metadata": {
        "id": "UvBbqynRkz4H"
      },
      "execution_count": 3,
      "outputs": []
    },
    {
      "cell_type": "code",
      "source": [
        "containers = page_soup.findAll(\"div\", {\"class\" : \"lister-item mode-advanced\"})\n",
        "len(containers)"
      ],
      "metadata": {
        "colab": {
          "base_uri": "https://localhost:8080/"
        },
        "id": "2HWqXTZyk21W",
        "outputId": "1d2edb5c-eaf8-4dd4-951f-f71012dc2eac"
      },
      "execution_count": 4,
      "outputs": [
        {
          "output_type": "execute_result",
          "data": {
            "text/plain": [
              "50"
            ]
          },
          "metadata": {},
          "execution_count": 4
        }
      ]
    },
    {
      "cell_type": "code",
      "source": [
        "# containers[0]"
      ],
      "metadata": {
        "id": "t4dqEhOSmQ4h"
      },
      "execution_count": 5,
      "outputs": []
    },
    {
      "cell_type": "code",
      "source": [
        "# <a href=\"/title/tt0111161/\">The Shawshank Redemption</a>\n",
        "\n",
        "# containers[0].img['alt']\n",
        "# containers[0].find('img')['alt']\n",
        "\n",
        "containers[0].findAll('a')[1].text"
      ],
      "metadata": {
        "id": "gVd8eiDro1-2",
        "colab": {
          "base_uri": "https://localhost:8080/",
          "height": 36
        },
        "outputId": "9c19da64-921b-4001-e8b0-e0cf4c0617d8"
      },
      "execution_count": 6,
      "outputs": [
        {
          "output_type": "execute_result",
          "data": {
            "text/plain": [
              "'The Shawshank Redemption'"
            ],
            "application/vnd.google.colaboratory.intrinsic+json": {
              "type": "string"
            }
          },
          "metadata": {},
          "execution_count": 6
        }
      ]
    },
    {
      "cell_type": "code",
      "source": [
        "# <span class=\"lister-item-year text-muted unbold\">(1994)</span>\n",
        "\n",
        "containers[0].find('span', \n",
        " {\"class\" : \"lister-item-year text-muted unbold\"}).text"
      ],
      "metadata": {
        "colab": {
          "base_uri": "https://localhost:8080/",
          "height": 36
        },
        "id": "shsTiGTL28C3",
        "outputId": "9ceed2eb-91d9-4da0-b483-5a983f291dc1"
      },
      "execution_count": 7,
      "outputs": [
        {
          "output_type": "execute_result",
          "data": {
            "text/plain": [
              "'(1994)'"
            ],
            "application/vnd.google.colaboratory.intrinsic+json": {
              "type": "string"
            }
          },
          "metadata": {},
          "execution_count": 7
        }
      ]
    },
    {
      "cell_type": "code",
      "source": [
        "# <span class=\"runtime\">142 min</span>\n",
        "\n",
        "containers[0].find('span', \n",
        " {\"class\" : \"runtime\"}).text"
      ],
      "metadata": {
        "id": "4COwQczh3qZA",
        "colab": {
          "base_uri": "https://localhost:8080/",
          "height": 36
        },
        "outputId": "1b279850-7608-4590-d27d-3121422b86ec"
      },
      "execution_count": 8,
      "outputs": [
        {
          "output_type": "execute_result",
          "data": {
            "text/plain": [
              "'142 min'"
            ],
            "application/vnd.google.colaboratory.intrinsic+json": {
              "type": "string"
            }
          },
          "metadata": {},
          "execution_count": 8
        }
      ]
    },
    {
      "cell_type": "code",
      "source": [
        "filename = \"imdb_m.csv\"\n",
        "f = open(filename, \"w\")\n",
        "\n",
        "headers = \"Name, Year, Runtime \\n\"\n",
        "f.write(headers)\n",
        "\n",
        "for i in containers:\n",
        "  name = i.findAll('a')[1].text\n",
        "  year = i.find('span', {\"class\" : \"lister-item-year text-muted unbold\"}).text\n",
        "  runtime = i.find('span', {\"class\" : \"runtime\"}).text\n",
        "\n",
        "  print(name + \",\" + year + \",\" + runtime +  \"\\n\")\n",
        "  f.write(name + \",\" + year + \",\" + runtime  + \"\\n\")\n",
        "\n",
        "f.close()"
      ],
      "metadata": {
        "colab": {
          "base_uri": "https://localhost:8080/"
        },
        "id": "B2vW-D4TJ8ET",
        "outputId": "745677ab-016a-442b-dd2b-4c3c1ffa67f4"
      },
      "execution_count": 9,
      "outputs": [
        {
          "output_type": "stream",
          "name": "stdout",
          "text": [
            "The Shawshank Redemption,(1994),142 min\n",
            "\n",
            "The Dark Knight,(2008),152 min\n",
            "\n",
            "Inception,(2010),148 min\n",
            "\n",
            "Fight Club,(1999),139 min\n",
            "\n",
            "Forrest Gump,(1994),142 min\n",
            "\n",
            "Pulp Fiction,(1994),154 min\n",
            "\n",
            "The Matrix,(1999),136 min\n",
            "\n",
            "The Lord of the Rings: The Fellowship of the Ring,(2001),178 min\n",
            "\n",
            "The Godfather,(1972),175 min\n",
            "\n",
            "The Lord of the Rings: The Return of the King,(2003),201 min\n",
            "\n",
            "The Dark Knight Rises,(2012),164 min\n",
            "\n",
            "The Lord of the Rings: The Two Towers,(2002),179 min\n",
            "\n",
            "Se7en,(1995),127 min\n",
            "\n",
            "Django Unchained,(2012),165 min\n",
            "\n",
            "Gladiator,(2000),155 min\n",
            "\n",
            "Batman Begins,(2005),140 min\n",
            "\n",
            "Inglourious Basterds,(2009),153 min\n",
            "\n",
            "The Silence of the Lambs,(1991),118 min\n",
            "\n",
            "Saving Private Ryan,(1998),169 min\n",
            "\n",
            "The Avengers,(2012),143 min\n",
            "\n",
            "Star Wars: Episode IV - A New Hope,(1977),121 min\n",
            "\n",
            "Schindler's List,(1993),195 min\n",
            "\n",
            "The Prestige,(2006),130 min\n",
            "\n",
            "Shutter Island,(2010),138 min\n",
            "\n",
            "The Departed,(2006),151 min\n",
            "\n",
            "Avatar,(2009),162 min\n",
            "\n",
            "The Green Mile,(1999),189 min\n",
            "\n",
            "Star Wars: Episode V - The Empire Strikes Back,(1980),124 min\n",
            "\n",
            "The Godfather Part II,(1974),202 min\n",
            "\n",
            "Memento,(2000),113 min\n",
            "\n",
            "Back to the Future,(1985),116 min\n",
            "\n",
            "Titanic,(1997),194 min\n",
            "\n",
            "Goodfellas,(1990),145 min\n",
            "\n",
            "Léon: The Professional,(1994),110 min\n",
            "\n",
            "American Beauty,(1999),122 min\n",
            "\n",
            "Pirates of the Caribbean: The Curse of the Black Pearl,(2003),143 min\n",
            "\n",
            "American History X,(1998),119 min\n",
            "\n",
            "WALL·E,(2008),98 min\n",
            "\n",
            "Kill Bill: Vol. 1,(2003),111 min\n",
            "\n",
            "V for Vendetta,(2005),132 min\n",
            "\n",
            "Terminator 2: Judgment Day,(1991),137 min\n",
            "\n",
            "The Truman Show,(1998),103 min\n",
            "\n",
            "The Usual Suspects,(1995),106 min\n",
            "\n",
            "The Lion King,(1994),88 min\n",
            "\n",
            "Iron Man,(2008),126 min\n",
            "\n",
            "Star Wars: Episode VI - Return of the Jedi,(1983),131 min\n",
            "\n",
            "Up,(2009),96 min\n",
            "\n",
            "Finding Nemo,(2003),100 min\n",
            "\n",
            "Braveheart,(1995),178 min\n",
            "\n",
            "The Shining,(1980),146 min\n",
            "\n"
          ]
        }
      ]
    },
    {
      "cell_type": "code",
      "source": [
        "import pandas as pd\n",
        "imdb = pd.read_csv(\"imdb_m.csv\", encoding=\"latin1\")\n",
        "imdb.head()"
      ],
      "metadata": {
        "colab": {
          "base_uri": "https://localhost:8080/",
          "height": 206
        },
        "id": "yw4jVYDLKAA1",
        "outputId": "537aa2a8-627f-4906-e05e-a7359c99b0e2"
      },
      "execution_count": 10,
      "outputs": [
        {
          "output_type": "execute_result",
          "data": {
            "text/plain": [
              "                       Name    Year  Runtime \n",
              "0  The Shawshank Redemption  (1994)   142 min\n",
              "1           The Dark Knight  (2008)   152 min\n",
              "2                 Inception  (2010)   148 min\n",
              "3                Fight Club  (1999)   139 min\n",
              "4              Forrest Gump  (1994)   142 min"
            ],
            "text/html": [
              "\n",
              "  <div id=\"df-693c768d-a26c-4671-b5ed-f9fbd25ea1e3\">\n",
              "    <div class=\"colab-df-container\">\n",
              "      <div>\n",
              "<style scoped>\n",
              "    .dataframe tbody tr th:only-of-type {\n",
              "        vertical-align: middle;\n",
              "    }\n",
              "\n",
              "    .dataframe tbody tr th {\n",
              "        vertical-align: top;\n",
              "    }\n",
              "\n",
              "    .dataframe thead th {\n",
              "        text-align: right;\n",
              "    }\n",
              "</style>\n",
              "<table border=\"1\" class=\"dataframe\">\n",
              "  <thead>\n",
              "    <tr style=\"text-align: right;\">\n",
              "      <th></th>\n",
              "      <th>Name</th>\n",
              "      <th>Year</th>\n",
              "      <th>Runtime</th>\n",
              "    </tr>\n",
              "  </thead>\n",
              "  <tbody>\n",
              "    <tr>\n",
              "      <th>0</th>\n",
              "      <td>The Shawshank Redemption</td>\n",
              "      <td>(1994)</td>\n",
              "      <td>142 min</td>\n",
              "    </tr>\n",
              "    <tr>\n",
              "      <th>1</th>\n",
              "      <td>The Dark Knight</td>\n",
              "      <td>(2008)</td>\n",
              "      <td>152 min</td>\n",
              "    </tr>\n",
              "    <tr>\n",
              "      <th>2</th>\n",
              "      <td>Inception</td>\n",
              "      <td>(2010)</td>\n",
              "      <td>148 min</td>\n",
              "    </tr>\n",
              "    <tr>\n",
              "      <th>3</th>\n",
              "      <td>Fight Club</td>\n",
              "      <td>(1999)</td>\n",
              "      <td>139 min</td>\n",
              "    </tr>\n",
              "    <tr>\n",
              "      <th>4</th>\n",
              "      <td>Forrest Gump</td>\n",
              "      <td>(1994)</td>\n",
              "      <td>142 min</td>\n",
              "    </tr>\n",
              "  </tbody>\n",
              "</table>\n",
              "</div>\n",
              "      <button class=\"colab-df-convert\" onclick=\"convertToInteractive('df-693c768d-a26c-4671-b5ed-f9fbd25ea1e3')\"\n",
              "              title=\"Convert this dataframe to an interactive table.\"\n",
              "              style=\"display:none;\">\n",
              "        \n",
              "  <svg xmlns=\"http://www.w3.org/2000/svg\" height=\"24px\"viewBox=\"0 0 24 24\"\n",
              "       width=\"24px\">\n",
              "    <path d=\"M0 0h24v24H0V0z\" fill=\"none\"/>\n",
              "    <path d=\"M18.56 5.44l.94 2.06.94-2.06 2.06-.94-2.06-.94-.94-2.06-.94 2.06-2.06.94zm-11 1L8.5 8.5l.94-2.06 2.06-.94-2.06-.94L8.5 2.5l-.94 2.06-2.06.94zm10 10l.94 2.06.94-2.06 2.06-.94-2.06-.94-.94-2.06-.94 2.06-2.06.94z\"/><path d=\"M17.41 7.96l-1.37-1.37c-.4-.4-.92-.59-1.43-.59-.52 0-1.04.2-1.43.59L10.3 9.45l-7.72 7.72c-.78.78-.78 2.05 0 2.83L4 21.41c.39.39.9.59 1.41.59.51 0 1.02-.2 1.41-.59l7.78-7.78 2.81-2.81c.8-.78.8-2.07 0-2.86zM5.41 20L4 18.59l7.72-7.72 1.47 1.35L5.41 20z\"/>\n",
              "  </svg>\n",
              "      </button>\n",
              "      \n",
              "  <style>\n",
              "    .colab-df-container {\n",
              "      display:flex;\n",
              "      flex-wrap:wrap;\n",
              "      gap: 12px;\n",
              "    }\n",
              "\n",
              "    .colab-df-convert {\n",
              "      background-color: #E8F0FE;\n",
              "      border: none;\n",
              "      border-radius: 50%;\n",
              "      cursor: pointer;\n",
              "      display: none;\n",
              "      fill: #1967D2;\n",
              "      height: 32px;\n",
              "      padding: 0 0 0 0;\n",
              "      width: 32px;\n",
              "    }\n",
              "\n",
              "    .colab-df-convert:hover {\n",
              "      background-color: #E2EBFA;\n",
              "      box-shadow: 0px 1px 2px rgba(60, 64, 67, 0.3), 0px 1px 3px 1px rgba(60, 64, 67, 0.15);\n",
              "      fill: #174EA6;\n",
              "    }\n",
              "\n",
              "    [theme=dark] .colab-df-convert {\n",
              "      background-color: #3B4455;\n",
              "      fill: #D2E3FC;\n",
              "    }\n",
              "\n",
              "    [theme=dark] .colab-df-convert:hover {\n",
              "      background-color: #434B5C;\n",
              "      box-shadow: 0px 1px 3px 1px rgba(0, 0, 0, 0.15);\n",
              "      filter: drop-shadow(0px 1px 2px rgba(0, 0, 0, 0.3));\n",
              "      fill: #FFFFFF;\n",
              "    }\n",
              "  </style>\n",
              "\n",
              "      <script>\n",
              "        const buttonEl =\n",
              "          document.querySelector('#df-693c768d-a26c-4671-b5ed-f9fbd25ea1e3 button.colab-df-convert');\n",
              "        buttonEl.style.display =\n",
              "          google.colab.kernel.accessAllowed ? 'block' : 'none';\n",
              "\n",
              "        async function convertToInteractive(key) {\n",
              "          const element = document.querySelector('#df-693c768d-a26c-4671-b5ed-f9fbd25ea1e3');\n",
              "          const dataTable =\n",
              "            await google.colab.kernel.invokeFunction('convertToInteractive',\n",
              "                                                     [key], {});\n",
              "          if (!dataTable) return;\n",
              "\n",
              "          const docLinkHtml = 'Like what you see? Visit the ' +\n",
              "            '<a target=\"_blank\" href=https://colab.research.google.com/notebooks/data_table.ipynb>data table notebook</a>'\n",
              "            + ' to learn more about interactive tables.';\n",
              "          element.innerHTML = '';\n",
              "          dataTable['output_type'] = 'display_data';\n",
              "          await google.colab.output.renderOutput(dataTable, element);\n",
              "          const docLink = document.createElement('div');\n",
              "          docLink.innerHTML = docLinkHtml;\n",
              "          element.appendChild(docLink);\n",
              "        }\n",
              "      </script>\n",
              "    </div>\n",
              "  </div>\n",
              "  "
            ]
          },
          "metadata": {},
          "execution_count": 10
        }
      ]
    },
    {
      "cell_type": "code",
      "source": [
        "imdb.index.name = 'S.no.'\n",
        "imdb.columns = ['Name', 'Year', 'Runtime (min.)']\n",
        "\n",
        "imdb['Runtime (min.)'] = imdb['Runtime (min.)'].apply(lambda x: int(x.replace(' min', '')))\n",
        "imdb['Year'] = imdb['Year'].apply(lambda x: int(x.replace('(', '').replace(')', '')))\n",
        "\n",
        "imdb.head()"
      ],
      "metadata": {
        "colab": {
          "base_uri": "https://localhost:8080/",
          "height": 237
        },
        "id": "05jraRy4KCDo",
        "outputId": "ff37ca51-43fb-48f8-8dd8-606846d4b04d"
      },
      "execution_count": 11,
      "outputs": [
        {
          "output_type": "execute_result",
          "data": {
            "text/plain": [
              "                           Name  Year  Runtime (min.)\n",
              "S.no.                                                \n",
              "0      The Shawshank Redemption  1994             142\n",
              "1               The Dark Knight  2008             152\n",
              "2                     Inception  2010             148\n",
              "3                    Fight Club  1999             139\n",
              "4                  Forrest Gump  1994             142"
            ],
            "text/html": [
              "\n",
              "  <div id=\"df-5b0a7517-16e1-471d-9d30-9412d1600741\">\n",
              "    <div class=\"colab-df-container\">\n",
              "      <div>\n",
              "<style scoped>\n",
              "    .dataframe tbody tr th:only-of-type {\n",
              "        vertical-align: middle;\n",
              "    }\n",
              "\n",
              "    .dataframe tbody tr th {\n",
              "        vertical-align: top;\n",
              "    }\n",
              "\n",
              "    .dataframe thead th {\n",
              "        text-align: right;\n",
              "    }\n",
              "</style>\n",
              "<table border=\"1\" class=\"dataframe\">\n",
              "  <thead>\n",
              "    <tr style=\"text-align: right;\">\n",
              "      <th></th>\n",
              "      <th>Name</th>\n",
              "      <th>Year</th>\n",
              "      <th>Runtime (min.)</th>\n",
              "    </tr>\n",
              "    <tr>\n",
              "      <th>S.no.</th>\n",
              "      <th></th>\n",
              "      <th></th>\n",
              "      <th></th>\n",
              "    </tr>\n",
              "  </thead>\n",
              "  <tbody>\n",
              "    <tr>\n",
              "      <th>0</th>\n",
              "      <td>The Shawshank Redemption</td>\n",
              "      <td>1994</td>\n",
              "      <td>142</td>\n",
              "    </tr>\n",
              "    <tr>\n",
              "      <th>1</th>\n",
              "      <td>The Dark Knight</td>\n",
              "      <td>2008</td>\n",
              "      <td>152</td>\n",
              "    </tr>\n",
              "    <tr>\n",
              "      <th>2</th>\n",
              "      <td>Inception</td>\n",
              "      <td>2010</td>\n",
              "      <td>148</td>\n",
              "    </tr>\n",
              "    <tr>\n",
              "      <th>3</th>\n",
              "      <td>Fight Club</td>\n",
              "      <td>1999</td>\n",
              "      <td>139</td>\n",
              "    </tr>\n",
              "    <tr>\n",
              "      <th>4</th>\n",
              "      <td>Forrest Gump</td>\n",
              "      <td>1994</td>\n",
              "      <td>142</td>\n",
              "    </tr>\n",
              "  </tbody>\n",
              "</table>\n",
              "</div>\n",
              "      <button class=\"colab-df-convert\" onclick=\"convertToInteractive('df-5b0a7517-16e1-471d-9d30-9412d1600741')\"\n",
              "              title=\"Convert this dataframe to an interactive table.\"\n",
              "              style=\"display:none;\">\n",
              "        \n",
              "  <svg xmlns=\"http://www.w3.org/2000/svg\" height=\"24px\"viewBox=\"0 0 24 24\"\n",
              "       width=\"24px\">\n",
              "    <path d=\"M0 0h24v24H0V0z\" fill=\"none\"/>\n",
              "    <path d=\"M18.56 5.44l.94 2.06.94-2.06 2.06-.94-2.06-.94-.94-2.06-.94 2.06-2.06.94zm-11 1L8.5 8.5l.94-2.06 2.06-.94-2.06-.94L8.5 2.5l-.94 2.06-2.06.94zm10 10l.94 2.06.94-2.06 2.06-.94-2.06-.94-.94-2.06-.94 2.06-2.06.94z\"/><path d=\"M17.41 7.96l-1.37-1.37c-.4-.4-.92-.59-1.43-.59-.52 0-1.04.2-1.43.59L10.3 9.45l-7.72 7.72c-.78.78-.78 2.05 0 2.83L4 21.41c.39.39.9.59 1.41.59.51 0 1.02-.2 1.41-.59l7.78-7.78 2.81-2.81c.8-.78.8-2.07 0-2.86zM5.41 20L4 18.59l7.72-7.72 1.47 1.35L5.41 20z\"/>\n",
              "  </svg>\n",
              "      </button>\n",
              "      \n",
              "  <style>\n",
              "    .colab-df-container {\n",
              "      display:flex;\n",
              "      flex-wrap:wrap;\n",
              "      gap: 12px;\n",
              "    }\n",
              "\n",
              "    .colab-df-convert {\n",
              "      background-color: #E8F0FE;\n",
              "      border: none;\n",
              "      border-radius: 50%;\n",
              "      cursor: pointer;\n",
              "      display: none;\n",
              "      fill: #1967D2;\n",
              "      height: 32px;\n",
              "      padding: 0 0 0 0;\n",
              "      width: 32px;\n",
              "    }\n",
              "\n",
              "    .colab-df-convert:hover {\n",
              "      background-color: #E2EBFA;\n",
              "      box-shadow: 0px 1px 2px rgba(60, 64, 67, 0.3), 0px 1px 3px 1px rgba(60, 64, 67, 0.15);\n",
              "      fill: #174EA6;\n",
              "    }\n",
              "\n",
              "    [theme=dark] .colab-df-convert {\n",
              "      background-color: #3B4455;\n",
              "      fill: #D2E3FC;\n",
              "    }\n",
              "\n",
              "    [theme=dark] .colab-df-convert:hover {\n",
              "      background-color: #434B5C;\n",
              "      box-shadow: 0px 1px 3px 1px rgba(0, 0, 0, 0.15);\n",
              "      filter: drop-shadow(0px 1px 2px rgba(0, 0, 0, 0.3));\n",
              "      fill: #FFFFFF;\n",
              "    }\n",
              "  </style>\n",
              "\n",
              "      <script>\n",
              "        const buttonEl =\n",
              "          document.querySelector('#df-5b0a7517-16e1-471d-9d30-9412d1600741 button.colab-df-convert');\n",
              "        buttonEl.style.display =\n",
              "          google.colab.kernel.accessAllowed ? 'block' : 'none';\n",
              "\n",
              "        async function convertToInteractive(key) {\n",
              "          const element = document.querySelector('#df-5b0a7517-16e1-471d-9d30-9412d1600741');\n",
              "          const dataTable =\n",
              "            await google.colab.kernel.invokeFunction('convertToInteractive',\n",
              "                                                     [key], {});\n",
              "          if (!dataTable) return;\n",
              "\n",
              "          const docLinkHtml = 'Like what you see? Visit the ' +\n",
              "            '<a target=\"_blank\" href=https://colab.research.google.com/notebooks/data_table.ipynb>data table notebook</a>'\n",
              "            + ' to learn more about interactive tables.';\n",
              "          element.innerHTML = '';\n",
              "          dataTable['output_type'] = 'display_data';\n",
              "          await google.colab.output.renderOutput(dataTable, element);\n",
              "          const docLink = document.createElement('div');\n",
              "          docLink.innerHTML = docLinkHtml;\n",
              "          element.appendChild(docLink);\n",
              "        }\n",
              "      </script>\n",
              "    </div>\n",
              "  </div>\n",
              "  "
            ]
          },
          "metadata": {},
          "execution_count": 11
        }
      ]
    },
    {
      "cell_type": "code",
      "source": [
        "imdb.describe()"
      ],
      "metadata": {
        "colab": {
          "base_uri": "https://localhost:8080/",
          "height": 300
        },
        "id": "k6MRvIyJMEWN",
        "outputId": "b785c4f8-2a04-4717-d9c0-f8d8995c0c1d"
      },
      "execution_count": 12,
      "outputs": [
        {
          "output_type": "execute_result",
          "data": {
            "text/plain": [
              "              Year  Runtime (min.)\n",
              "count    50.000000       50.000000\n",
              "mean   1998.040000      142.120000\n",
              "std      10.032519       28.901409\n",
              "min    1972.000000       88.000000\n",
              "25%    1994.000000      121.250000\n",
              "50%    1999.000000      141.000000\n",
              "75%    2005.750000      160.250000\n",
              "max    2012.000000      202.000000"
            ],
            "text/html": [
              "\n",
              "  <div id=\"df-21e88f69-a7fc-4721-b5a3-741f0fff0820\">\n",
              "    <div class=\"colab-df-container\">\n",
              "      <div>\n",
              "<style scoped>\n",
              "    .dataframe tbody tr th:only-of-type {\n",
              "        vertical-align: middle;\n",
              "    }\n",
              "\n",
              "    .dataframe tbody tr th {\n",
              "        vertical-align: top;\n",
              "    }\n",
              "\n",
              "    .dataframe thead th {\n",
              "        text-align: right;\n",
              "    }\n",
              "</style>\n",
              "<table border=\"1\" class=\"dataframe\">\n",
              "  <thead>\n",
              "    <tr style=\"text-align: right;\">\n",
              "      <th></th>\n",
              "      <th>Year</th>\n",
              "      <th>Runtime (min.)</th>\n",
              "    </tr>\n",
              "  </thead>\n",
              "  <tbody>\n",
              "    <tr>\n",
              "      <th>count</th>\n",
              "      <td>50.000000</td>\n",
              "      <td>50.000000</td>\n",
              "    </tr>\n",
              "    <tr>\n",
              "      <th>mean</th>\n",
              "      <td>1998.040000</td>\n",
              "      <td>142.120000</td>\n",
              "    </tr>\n",
              "    <tr>\n",
              "      <th>std</th>\n",
              "      <td>10.032519</td>\n",
              "      <td>28.901409</td>\n",
              "    </tr>\n",
              "    <tr>\n",
              "      <th>min</th>\n",
              "      <td>1972.000000</td>\n",
              "      <td>88.000000</td>\n",
              "    </tr>\n",
              "    <tr>\n",
              "      <th>25%</th>\n",
              "      <td>1994.000000</td>\n",
              "      <td>121.250000</td>\n",
              "    </tr>\n",
              "    <tr>\n",
              "      <th>50%</th>\n",
              "      <td>1999.000000</td>\n",
              "      <td>141.000000</td>\n",
              "    </tr>\n",
              "    <tr>\n",
              "      <th>75%</th>\n",
              "      <td>2005.750000</td>\n",
              "      <td>160.250000</td>\n",
              "    </tr>\n",
              "    <tr>\n",
              "      <th>max</th>\n",
              "      <td>2012.000000</td>\n",
              "      <td>202.000000</td>\n",
              "    </tr>\n",
              "  </tbody>\n",
              "</table>\n",
              "</div>\n",
              "      <button class=\"colab-df-convert\" onclick=\"convertToInteractive('df-21e88f69-a7fc-4721-b5a3-741f0fff0820')\"\n",
              "              title=\"Convert this dataframe to an interactive table.\"\n",
              "              style=\"display:none;\">\n",
              "        \n",
              "  <svg xmlns=\"http://www.w3.org/2000/svg\" height=\"24px\"viewBox=\"0 0 24 24\"\n",
              "       width=\"24px\">\n",
              "    <path d=\"M0 0h24v24H0V0z\" fill=\"none\"/>\n",
              "    <path d=\"M18.56 5.44l.94 2.06.94-2.06 2.06-.94-2.06-.94-.94-2.06-.94 2.06-2.06.94zm-11 1L8.5 8.5l.94-2.06 2.06-.94-2.06-.94L8.5 2.5l-.94 2.06-2.06.94zm10 10l.94 2.06.94-2.06 2.06-.94-2.06-.94-.94-2.06-.94 2.06-2.06.94z\"/><path d=\"M17.41 7.96l-1.37-1.37c-.4-.4-.92-.59-1.43-.59-.52 0-1.04.2-1.43.59L10.3 9.45l-7.72 7.72c-.78.78-.78 2.05 0 2.83L4 21.41c.39.39.9.59 1.41.59.51 0 1.02-.2 1.41-.59l7.78-7.78 2.81-2.81c.8-.78.8-2.07 0-2.86zM5.41 20L4 18.59l7.72-7.72 1.47 1.35L5.41 20z\"/>\n",
              "  </svg>\n",
              "      </button>\n",
              "      \n",
              "  <style>\n",
              "    .colab-df-container {\n",
              "      display:flex;\n",
              "      flex-wrap:wrap;\n",
              "      gap: 12px;\n",
              "    }\n",
              "\n",
              "    .colab-df-convert {\n",
              "      background-color: #E8F0FE;\n",
              "      border: none;\n",
              "      border-radius: 50%;\n",
              "      cursor: pointer;\n",
              "      display: none;\n",
              "      fill: #1967D2;\n",
              "      height: 32px;\n",
              "      padding: 0 0 0 0;\n",
              "      width: 32px;\n",
              "    }\n",
              "\n",
              "    .colab-df-convert:hover {\n",
              "      background-color: #E2EBFA;\n",
              "      box-shadow: 0px 1px 2px rgba(60, 64, 67, 0.3), 0px 1px 3px 1px rgba(60, 64, 67, 0.15);\n",
              "      fill: #174EA6;\n",
              "    }\n",
              "\n",
              "    [theme=dark] .colab-df-convert {\n",
              "      background-color: #3B4455;\n",
              "      fill: #D2E3FC;\n",
              "    }\n",
              "\n",
              "    [theme=dark] .colab-df-convert:hover {\n",
              "      background-color: #434B5C;\n",
              "      box-shadow: 0px 1px 3px 1px rgba(0, 0, 0, 0.15);\n",
              "      filter: drop-shadow(0px 1px 2px rgba(0, 0, 0, 0.3));\n",
              "      fill: #FFFFFF;\n",
              "    }\n",
              "  </style>\n",
              "\n",
              "      <script>\n",
              "        const buttonEl =\n",
              "          document.querySelector('#df-21e88f69-a7fc-4721-b5a3-741f0fff0820 button.colab-df-convert');\n",
              "        buttonEl.style.display =\n",
              "          google.colab.kernel.accessAllowed ? 'block' : 'none';\n",
              "\n",
              "        async function convertToInteractive(key) {\n",
              "          const element = document.querySelector('#df-21e88f69-a7fc-4721-b5a3-741f0fff0820');\n",
              "          const dataTable =\n",
              "            await google.colab.kernel.invokeFunction('convertToInteractive',\n",
              "                                                     [key], {});\n",
              "          if (!dataTable) return;\n",
              "\n",
              "          const docLinkHtml = 'Like what you see? Visit the ' +\n",
              "            '<a target=\"_blank\" href=https://colab.research.google.com/notebooks/data_table.ipynb>data table notebook</a>'\n",
              "            + ' to learn more about interactive tables.';\n",
              "          element.innerHTML = '';\n",
              "          dataTable['output_type'] = 'display_data';\n",
              "          await google.colab.output.renderOutput(dataTable, element);\n",
              "          const docLink = document.createElement('div');\n",
              "          docLink.innerHTML = docLinkHtml;\n",
              "          element.appendChild(docLink);\n",
              "        }\n",
              "      </script>\n",
              "    </div>\n",
              "  </div>\n",
              "  "
            ]
          },
          "metadata": {},
          "execution_count": 12
        }
      ]
    },
    {
      "cell_type": "code",
      "source": [
        "imdb.info()"
      ],
      "metadata": {
        "colab": {
          "base_uri": "https://localhost:8080/"
        },
        "id": "A0EzTDhPMGHP",
        "outputId": "edf05213-fbd7-4414-b705-91eb2105d83a"
      },
      "execution_count": 13,
      "outputs": [
        {
          "output_type": "stream",
          "name": "stdout",
          "text": [
            "<class 'pandas.core.frame.DataFrame'>\n",
            "RangeIndex: 50 entries, 0 to 49\n",
            "Data columns (total 3 columns):\n",
            " #   Column          Non-Null Count  Dtype \n",
            "---  ------          --------------  ----- \n",
            " 0   Name            50 non-null     object\n",
            " 1   Year            50 non-null     int64 \n",
            " 2   Runtime (min.)  50 non-null     int64 \n",
            "dtypes: int64(2), object(1)\n",
            "memory usage: 1.3+ KB\n"
          ]
        }
      ]
    },
    {
      "cell_type": "code",
      "source": [
        "from matplotlib import pyplot as plt\n",
        "import seaborn as sns"
      ],
      "metadata": {
        "id": "5tpO_i3RLmRW"
      },
      "execution_count": 14,
      "outputs": []
    },
    {
      "cell_type": "code",
      "source": [
        "sns.boxplot(imdb.Year)\n",
        "plt.show()"
      ],
      "metadata": {
        "colab": {
          "base_uri": "https://localhost:8080/",
          "height": 430
        },
        "id": "i1g6j-10Lyi3",
        "outputId": "c85359ee-af69-4151-8d5d-3ce3db83513f"
      },
      "execution_count": 15,
      "outputs": [
        {
          "output_type": "display_data",
          "data": {
            "text/plain": [
              "<Figure size 640x480 with 1 Axes>"
            ],
            "image/png": "[encoded data removed]"
          },
          "metadata": {}
        }
      ]
    },
    {
      "cell_type": "code",
      "source": [
        "sns.boxplot(imdb['Runtime (min.)'])\n",
        "plt.show()"
      ],
      "metadata": {
        "colab": {
          "base_uri": "https://localhost:8080/",
          "height": 430
        },
        "id": "olLz2m8eL6pl",
        "outputId": "e7d281bd-1960-44a6-8f1a-3dfa91d8ea8c"
      },
      "execution_count": 16,
      "outputs": [
        {
          "output_type": "display_data",
          "data": {
            "text/plain": [
              "<Figure size 640x480 with 1 Axes>"
            ],
            "image/png": "[encoded data removed]"
          },
          "metadata": {}
        }
      ]
    },
    {
      "cell_type": "code",
      "source": [],
      "metadata": {
        "id": "AcyaQenyL7Po"
      },
      "execution_count": 16,
      "outputs": []
    }
  ]
}