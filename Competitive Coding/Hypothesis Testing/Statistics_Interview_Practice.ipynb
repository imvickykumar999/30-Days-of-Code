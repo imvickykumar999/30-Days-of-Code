{
  "nbformat": 4,
  "nbformat_minor": 0,
  "metadata": {
    "colab": {
      "provenance": []
    },
    "kernelspec": {
      "name": "python3",
      "display_name": "Python 3"
    },
    "language_info": {
      "name": "python"
    }
  },
  "cells": [
    {
      "cell_type": "markdown",
      "source": [
        "# Practice Questions"
      ],
      "metadata": {
        "id": "o4_AExQZxcWV"
      }
    },
    {
      "cell_type": "markdown",
      "source": [
        "Distribution\n",
        "-----------\n",
        "\n",
        "When you conduct a hypothesis test, on which distribution do you find the critical values or the p-values to find the statistical significance?\n",
        "\n",
        "    Sample Distribution\n",
        "\n",
        "    Sampling Distribution\n",
        "\n",
        "    Population Distribution\n",
        "\n",
        "    None of the above\n",
        "\n",
        "--------\n",
        "\n",
        "    Sampling Distribution\n",
        "\n",
        "    ✓ Correct\n",
        "    Feedback:\n",
        "\n",
        "The Sampling Distribution is the distribution of all the sample means of a given size from the population.\n",
        "\n",
        "Using the properties of CLT, you can make inferences about the population from the sampling distribution.\n",
        "\n",
        "This also helps you in testing hypotheses since the mean of the sampling distribution is equal to the population mean.\n",
        "\n",
        "And therefore, you can compare it with the sample mean to test evidence of whether you need to reject the null hypothesis or not."
      ],
      "metadata": {
        "id": "sJKRnsaXZNLb"
      }
    },
    {
      "cell_type": "markdown",
      "source": [
        "Types of Errors\n",
        "------\n",
        "\n",
        "You have been given the following two sets of values for both the Types of Errors.\n",
        "\n",
        "    Set A - Type I error: 0.05 and Type II error: 0.15\n",
        "\n",
        "    Set B - Type I error: 0.25 and Type II error: 0.05\n",
        "\n",
        "Now choose the correct option\n",
        "\n",
        "    You should use Set A values rather than the Set B values\n",
        "    when it is more important to not reject a  true null hypothesis\n",
        "\n",
        "    You should use Set B values rather than the Set A values\n",
        "    when it is more important to not reject a  true null hypothesis\n",
        "\n",
        "    You should use Set A values rather than the Set B values\n",
        "    when it is more important to reject a false null hypothesis\n",
        "\n",
        "    None of these\n",
        "\n",
        "---------\n",
        "\n",
        "    You should use Set A values rather than the Set B values when\n",
        "    it is more important to not reject a  true null hypothesis\n",
        "\n",
        "    ✓ Correct\n",
        "    Feedback:\n",
        "\n",
        "Since your priority is to minimise the error of rejecting a true null hypothesis, your Type I error should be as low as possible.\n",
        "\n",
        "Therefore, you need to go with Set A values"
      ],
      "metadata": {
        "id": "iYmC5W-iaA9s"
      }
    },
    {
      "cell_type": "markdown",
      "source": [
        "Hypothesis Testing\n",
        "------\n",
        "\n",
        "Let's say you took a sample of size 50 from a given population to conduct a hypothesis test.\n",
        "\n",
        "You calculated its mean and standard deviation and then its Z-score.\n",
        "\n",
        "Now based on the test statistic, the p-value came out to be 0.03.\n",
        "\n",
        "Since it was less than the chosen level of significance of 0.05, you rejected the null hypothesis.\n",
        "\n",
        "Which of the following statements are necessarily true based on the information given above\n",
        "\n",
        "    When you take a different sample from the population and then test the\n",
        "    same hypothesis, you'll always reject the null hypothesis as well.\n",
        "\n",
        "    When you take a different sample from the population and then test the\n",
        "    same hypothesis, you'll always fail to reject the null hypothesis.\n",
        "\n",
        "    When you take a different sample from the population and then test the same\n",
        "    hypothesis, it is possible that you will fail to reject the null hypothesis.\n",
        "\n",
        "    None of the above.\n",
        "\n",
        "----------\n",
        "\n",
        "    When you take a different sample from the population and then test the same\n",
        "    hypothesis, it is possible that you will fail to reject the null hypothesis.\n",
        "\n",
        "    ✓ Correct\n",
        "    Feedback:\n",
        "\n",
        "Conducting a hypothesis test helps you in making a decision based on the evidence you have with your sample data.\n",
        "\n",
        "If the sample changes, then there is a possibility that your decision might change as well.\n",
        "\n",
        "Therefore, it is always possible for your new sample data to show evidence that the null hypothesis should not be rejected even when the original sample data showed evidence that it should be.\n",
        "\n",
        "However, it is not a certainty that the decision will change, since it may also be possible that the original decision still holds."
      ],
      "metadata": {
        "id": "DCk_X5hQagJn"
      }
    },
    {
      "cell_type": "markdown",
      "source": [
        "Chi-Square Test\n",
        "-------\n",
        "\n",
        "Which variance is calculated as a part of the Chi-Square test?\n",
        "\n",
        "    The variance of the Chi-Square distribution.\n",
        "\n",
        "    The variance of the normal distribution.\n",
        "\n",
        "    The variance between the expected and observed values.\n",
        "\n",
        "    Both A and B\n",
        "\n",
        "-----------\n",
        "\n",
        "    The variance between the expected and observed values.\n",
        "\n",
        "    ✓ Correct\n",
        "    Feedback:\n",
        "\n",
        "Recall that the Chi-Squared test of independence is used to determine whether\n",
        "\n",
        "or not there is a significant relationship between two nominal (categorical) variables.\n",
        "\n",
        "To test this hypothesis, we find the variance between the expected and observed values."
      ],
      "metadata": {
        "id": "GDRae0QWa-bW"
      }
    },
    {
      "cell_type": "markdown",
      "source": [
        "Sum of Squares - Within\n",
        "------------\n",
        "\n",
        "What is the total degrees of freedom when you are calculating Sum of Squares-Within, i.e., SS_Within ?\n",
        "\n",
        "Given that\n",
        "\n",
        "n = Total sample size (All groups combined)\n",
        "\n",
        "k = Total number of groups\n",
        "\n",
        "    k-1\n",
        "\n",
        "    n-1\n",
        "\n",
        "    n-k\n",
        "\n",
        "    n-k-1\n",
        "\n",
        "-----------\n",
        "\n",
        "    n-k\n",
        "\n",
        "    ✓ Correct\n",
        "    Feedback:\n",
        "\n",
        "When you are calculating SS_Within , if any group has, say, 's' data points,\n",
        "\n",
        "then you need to know just 's-1' points in order the know about the whole group.\n",
        "\n",
        "Hence, for each group, you need to subtract one to get the degrees of freedom.\n",
        "\n",
        "Hence, you would just need to subtract 'k', which is the number of groups from 'n' - the total sample size.\n",
        "\n",
        "Hence, the d.o.f. becomes (n-k)."
      ],
      "metadata": {
        "id": "901DefPYbOpv"
      }
    },
    {
      "cell_type": "code",
      "source": [],
      "metadata": {
        "id": "Gjtj1rgfZzrg"
      },
      "execution_count": null,
      "outputs": []
    }
  ]
}