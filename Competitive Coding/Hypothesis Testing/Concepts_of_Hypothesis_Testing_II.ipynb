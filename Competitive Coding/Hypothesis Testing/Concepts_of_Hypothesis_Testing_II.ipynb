{
  "nbformat": 4,
  "nbformat_minor": 0,
  "metadata": {
    "colab": {
      "provenance": []
    },
    "kernelspec": {
      "name": "python3",
      "display_name": "Python 3"
    },
    "language_info": {
      "name": "python"
    }
  },
  "cells": [
    {
      "cell_type": "markdown",
      "source": [
        "# Introduction\n",
        "\n",
        "- ## [Z - Table](https://cdn.upgrad.com/UpGrad/temp/0ed10b23-e5f1-4299-9302-39658c3a4e56/z-table.pdf)"
      ],
      "metadata": {
        "id": "fFLQCSn6-x5j"
      }
    },
    {
      "cell_type": "code",
      "execution_count": null,
      "metadata": {
        "colab": {
          "base_uri": "https://localhost:8080/"
        },
        "id": "X2h8xvbO-mfJ",
        "outputId": "1ac7f534-ed94-498c-ab81-c09bc21014ef"
      },
      "outputs": [
        {
          "output_type": "execute_result",
          "data": {
            "text/plain": [
              "(57.5069, 62.4931)"
            ]
          },
          "metadata": {},
          "execution_count": 1
        }
      ],
      "source": [
        "# https://jovian.com/ashutoshgole18/module-9-hypothesis-testing/v/5#C69\n",
        "\n",
        "def con_int(n, x, s, z):\n",
        "  ci = (z * s) / (n ** 0.5)\n",
        "  return x - ci, x + ci\n",
        "\n",
        "n, μ, s, z = 100, 60, 10.7, 2.33\n",
        "x = 62.6\n",
        "\n",
        "ci = con_int(n, μ, s, z)\n",
        "ci"
      ]
    },
    {
      "cell_type": "markdown",
      "source": [
        "Critical Score\n",
        "-------\n",
        "\n",
        "Mark all the options that you think are correct for critical value and the p-value method.\n",
        "\n",
        "    In the critical value method, the z-score,\n",
        "    which is called Zc, is calculated for the critical points.\n",
        "\n",
        "    In the critical value method, the z-score,\n",
        "    which is called Zc, is calculated for the sample mean.\n",
        "\n",
        "    In the p-value method,\n",
        "    the z-score is calculated for the critical points.\n",
        "\n",
        "    In the p-value method,\n",
        "    the z-score is calculated for the sample mean.\n",
        "\n",
        "------------\n",
        "\n",
        "- In the critical value method, the z-score, which is called Zc, is calculated for the critical points.\n",
        "\n",
        "\n",
        "    ✓ Correct\n",
        "    Feedback:\n",
        "\n",
        "    α is used to calculate the Zc value for the critical points in this method.\n",
        "\n",
        "- In the p-value method, the z-score is calculated for the sample mean.\n",
        "\n",
        "\n",
        "    ✓ Correct\n",
        "    Feedback:\n",
        "\n",
        "    In the p value method, the z-score is calculated for the sample mean."
      ],
      "metadata": {
        "id": "SHyRMVrziUcI"
      }
    },
    {
      "cell_type": "markdown",
      "source": [
        "p-value method\n",
        "--------\n",
        "\n",
        "To find the correct p-value from the z-score, find the **cumulative probability** first, by simply looking at the z-table, which gives you the area under the curve till that point.\n",
        "\n",
        "`Situation 1:`\n",
        "\n",
        "The sample mean is on the right side of the distribution mean (the z-score is `positive`).\n",
        "\n",
        "*Example*: z-score for sample point = + 3.02\n",
        "\n",
        "![ss](https://cdn.upgrad.com/UpGrad/temp/0ad46a72-29b4-4873-aa92-03e5a702fcee/2.png)\n",
        "\n",
        "Cumulative probability of the sample point = 0.9987\n",
        "\n",
        "    For a one-tailed test:\n",
        "    p = 1 - 0.9987 = 0.0013\n",
        "\n",
        "    For a two-tailed test:\n",
        "    p = 2 (1 - 0.9987)\n",
        "    = 2 * 0.0013 = 0.0026\n",
        "\n",
        "`Situation 2:`\n",
        "\n",
        "The sample mean is on the `left side` of the distribution mean (the z-score is `negative`).\n",
        "\n",
        "*Example*: The z-score for the sample point = -3.02\n",
        "\n",
        "![ss](https://cdn.upgrad.com/UpGrad/temp/4cccb6a8-8e0b-472f-9c5c-4defa7ff6220/3.png)\n",
        "\n",
        "Cumulative probability of the sample point = 0.0013\n",
        "\n",
        "    For a one-tailed test:\n",
        "    p = 0.0013\n",
        "\n",
        "    For a two-tailed test:\n",
        "    p = 2 * 0.0013 = 0.0026"
      ],
      "metadata": {
        "id": "4Jwrd8tftjLJ"
      }
    },
    {
      "cell_type": "markdown",
      "source": [
        "# Given\n",
        "\n",
        "-----\n",
        "\n",
        "You are working as a data analyst at an auditing firm.\n",
        "\n",
        "A manufacturer claims that the `average life` of its product is `36 months`.\n",
        "\n",
        "An auditor selects a `sample of 49 units` of the product and calculates the average life to be `34.5 months`.\n",
        "\n",
        "The population `standard deviation is 4 months`.\n",
        "\n",
        "Test the manufacturer’s claim at a `3% significance` level using the p-value method.\n",
        "\n",
        "First, `formulate the hypothesis` for this `two-tailed test`, which would be:\n",
        "\n",
        "    H₀: μ = 36 months and H₁: μ ≠ 36 months\n",
        "\n",
        "Now, you need to follow the three steps to find the p-value and make a decision.\n",
        "\n",
        "Try out the `three-step process` by answering the following questions."
      ],
      "metadata": {
        "id": "WnJff4UIu0yZ"
      }
    },
    {
      "cell_type": "markdown",
      "source": [
        "The p-Value Method\n",
        "--------\n",
        "\n",
        "`Step 1:`\n",
        "\n",
        "Calculate the value of the z-score for the sample mean point of the distribution.\n",
        "\n",
        "Calculate the z-score for the sample mean (x) = 34.5 months.\n",
        "\n",
        "    0.86\n",
        "\n",
        "    -0.86\n",
        "\n",
        "    2.62\n",
        "\n",
        "    -2.62\n",
        "\n",
        "---------\n",
        "\n",
        "    -2.62\n",
        "\n",
        "    ✓ Correct\n",
        "    Feedback:\n",
        "\n",
        "You can calculate the z-score for the `sample mean of 34.5` months using the formula:\n",
        "\n",
        "    (x - μ)/(σ/​√ n)\n",
        "\n",
        "This gives you\n",
        "\n",
        "    (34.5 - 36) / (4/ √ 49 )\n",
        "    = (-1.5) * 7/4\n",
        "    = -2.62\n",
        "\n",
        "Notice that since the sample mean lies on the left side of the hypothesised mean of 36 months, the z-score comes out to be negative."
      ],
      "metadata": {
        "id": "Sm_wvik1vjom"
      }
    },
    {
      "cell_type": "code",
      "source": [
        "μ = 36\n",
        "x = 34.5\n",
        "s = 4\n",
        "n = 49\n",
        "\n",
        "S = s / (n ** 0.5)\n",
        "S"
      ],
      "metadata": {
        "id": "aWd7vJxk_E6C",
        "colab": {
          "base_uri": "https://localhost:8080/"
        },
        "outputId": "bf6b58b5-6bf1-4136-da6b-ae32be3347f3"
      },
      "execution_count": null,
      "outputs": [
        {
          "output_type": "execute_result",
          "data": {
            "text/plain": [
              "0.5714285714285714"
            ]
          },
          "metadata": {},
          "execution_count": 2
        }
      ]
    },
    {
      "cell_type": "code",
      "source": [
        "# Ans.\n",
        "\n",
        "z = (x - μ) / S\n",
        "z"
      ],
      "metadata": {
        "colab": {
          "base_uri": "https://localhost:8080/"
        },
        "id": "AcIX-yjwxvlh",
        "outputId": "59b77469-a1db-4568-e7d5-f684e94543af"
      },
      "execution_count": null,
      "outputs": [
        {
          "output_type": "execute_result",
          "data": {
            "text/plain": [
              "-2.625"
            ]
          },
          "metadata": {},
          "execution_count": 3
        }
      ]
    },
    {
      "cell_type": "code",
      "source": [
        "ci = con_int(n, μ, s, z)\n",
        "ci"
      ],
      "metadata": {
        "colab": {
          "base_uri": "https://localhost:8080/"
        },
        "id": "_Bq84Dvfv8tv",
        "outputId": "9c4db0a7-3d0a-411f-8811-6b2743bc7cdd"
      },
      "execution_count": null,
      "outputs": [
        {
          "output_type": "execute_result",
          "data": {
            "text/plain": [
              "(37.5, 34.5)"
            ]
          },
          "metadata": {},
          "execution_count": 4
        }
      ]
    },
    {
      "cell_type": "markdown",
      "source": [
        "The p-Value Method\n",
        "--------\n",
        "\n",
        "`Step 2:`\n",
        "\n",
        "Calculate the p-value from the cumulative probability for the given z-score using the z-table.\n",
        "\n",
        "Find out the p-value for a `z-score of -2.62` (corresponding to the `sample mean of 34.5` months).\n",
        "\n",
        "`Hint:`\n",
        "\n",
        "The sample mean is on the `left side` of the distribution, and it is a `two-tailed` test.\n",
        "\n",
        "    0.0044\n",
        "\n",
        "    0.9956\n",
        "\n",
        "    0.0088\n",
        "\n",
        "    1.9912\n",
        "\n",
        "----\n",
        "\n",
        "    0.0088\n",
        "\n",
        "    ✓ Correct\n",
        "    Feedback:\n",
        "\n",
        "The value in the z-table corresponding to *-2.6 on the vertical axis and 0.02 on the horizontal axis* is 0.0044\n",
        "\n",
        "Since the sample mean is on the left side of the distribution and this is a `two-tailed` test, the p-value would be:\n",
        "\n",
        "    2 * 0.0044 = 0.0088"
      ],
      "metadata": {
        "id": "V6TzDK8jzmN6"
      }
    },
    {
      "cell_type": "markdown",
      "source": [
        "The p-Value Method\n",
        "---------\n",
        "\n",
        "`Step 3:`\n",
        "\n",
        "Make the decision on the basis of the p-value with respect to the given value of α (significance value).\n",
        "\n",
        "What would the result of this hypothesis test be?\n",
        "\n",
        "    Fail to reject the null hypothesis\n",
        "\n",
        "    Reject the null hypothesis\n",
        "\n",
        "------------\n",
        "\n",
        "    Reject the null hypothesis\n",
        "\n",
        "    ✓ Correct\n",
        "    Feedback:\n",
        "\n",
        "Here, the p-value comes out to be `2 * 0.0044 = 0.0088`\n",
        "\n",
        "Since the `p-value is less` than the significance level `(0.0088 < 0.03)`,\n",
        "\n",
        "you reject the null hypothesis that the average lifespan of the manufacturer's product is 36 months."
      ],
      "metadata": {
        "id": "_SRgHZfw1INv"
      }
    },
    {
      "cell_type": "markdown",
      "source": [
        "FREQUENTLY ASKED QUESTIONS (FAQ)\n",
        "--------\n",
        "\n",
        "    Does p-value signify a probability for the null hypothesis?\n",
        "\n",
        "Even though a higher p-value would show more evidence in favour of the null hypothesis,\n",
        "\n",
        "it does not outrightly mean that the p-value is the probability of the null hypothesis being true and we are failing to reject it.\n",
        "\n",
        "Always remember the technical definition of p-value -\n",
        "\n",
        "the probability of observing a similar or more extreme observation given the null hypothesis is true.\n",
        "\n",
        "    I am confused about how to calculate the standard deviation in\n",
        "    the case where the sample's standard deviation is already given.\n",
        "\n",
        "This confusion might be due to the misunderstanding of what exactly we are calculating with the formula of `σ/√n`.\n",
        "\n",
        "We aren't calculating the `sample's standard deviation` with the previous formula.\n",
        "\n",
        "Rather we are calculating the `sampling distribution's standard deviation`.\n",
        "\n",
        "This is the distribution on which we conduct all our hypothesis tests and this is also the case for the critical value method as well.\n",
        "\n",
        "So, in general if the population's standard deviation is not given,\n",
        "\n",
        "the value of σ is approximated as the sample's standard deviation to `calculate` the sampling distribution's standard deviation\n",
        "\n",
        "so that we can continue with the hypothesis test."
      ],
      "metadata": {
        "id": "eaQGJ9aU3VQ_"
      }
    },
    {
      "cell_type": "markdown",
      "source": [
        "# The p-value Method: Examples"
      ],
      "metadata": {
        "id": "pJ1NrGXeFVpQ"
      }
    },
    {
      "cell_type": "markdown",
      "source": [
        "The p-Value Method\n",
        "----------\n",
        "\n",
        "Calculate the Z-score for the sample mean (x) = 510 mg.\n",
        "\n",
        "    36.67\n",
        "\n",
        "    -36.67\n",
        "\n",
        "    -2.73\n",
        "\n",
        "    2.73\n",
        "\n",
        "----------\n",
        "\n",
        "    2.73\n",
        "\n",
        "    ✓ Correct\n",
        "    Feedback:\n",
        "\n",
        "The amount of paracetamol `deemed` safe by the drug regulatory authorities is 500 mg.\n",
        "\n",
        "The standard deviation of the sample of 900 is given as 110 instead of the population standard deviation.\n",
        "\n",
        "In such a case, you can assume the `population standard deviation` to be the same as the `sample standard deviation`, which is 110 in this case.\n",
        "\n",
        "You can calculate the Z-score for the `sample mean` of 510 mg using the formula:\n",
        "\n",
        "    (x - μ) / (σ / ​√ N)\n",
        "\n",
        "This gives you\n",
        "\n",
        "    (510 - 500) / (110 / √ 900 )\n",
        "    = (10) / (110 / 30)\n",
        "    = 2.73\n",
        "\n",
        "Notice that since the sample mean lies on the right side of the hypothesised mean of 500 mg,\n",
        "\n",
        "the Z-score comes out to be positive."
      ],
      "metadata": {
        "id": "DTQTkjq1HD7n"
      }
    },
    {
      "cell_type": "markdown",
      "source": [
        "The p-Value Method\n",
        "--------\n",
        "\n",
        "Find out the p-value for the Z-score of 2.73 (corresponding to the sample mean of 510 mg).\n",
        "\n",
        "    0.0032\n",
        "\n",
        "    0.0064\n",
        "\n",
        "    0.9968\n",
        "\n",
        "    1.9936\n",
        "\n",
        "-----------\n",
        "\n",
        "    0.0064\n",
        "\n",
        "    ✓ Correct\n",
        "    Feedback:\n",
        "\n",
        "The value in the Z-table corresponding to `2.7 on the vertical axis` and `0.03 on the horizontal axis` is 0.9968.\n",
        "\n",
        "Since the sample mean is on the `right side` (x > μ, z > 0) of the distribution and this is a `two-tailed` test\n",
        "\n",
        "(because we want to test whether the value of the paracetamol is `too low or too high`),\n",
        "\n",
        "the p-value would be\n",
        "\n",
        "    2 * (1 - 0.9968)\n",
        "    = 2 * 0.0032\n",
        "    = 0.0064"
      ],
      "metadata": {
        "id": "QlRuIfp8J3C3"
      }
    },
    {
      "cell_type": "markdown",
      "source": [
        "The p-Value Method\n",
        "-----------\n",
        "\n",
        "Based on this hypothesis test, what decision would you make about the manufacturing process?\n",
        "\n",
        "    The manufacturing process is completely fine and need not be changed.\n",
        "\n",
        "    The manufacturing process is not fine, and changes need to be made.\n",
        "\n",
        "----------\n",
        "\n",
        "    The manufacturing process is not fine, and changes need to be made.\n",
        "\n",
        "    ✓ Correct\n",
        "    Feedback:\n",
        "\n",
        "Here, the p-value comes out to be 0.0064\n",
        "\n",
        "Here, the p-value is less than the significance level (`0.0064 < 0.05`) and\n",
        "\n",
        "    a smaller p-value gives you greater evidence against the null hypothesis.\n",
        "\n",
        "So, you `reject the null hypothesis` that the average amount of paracetamol in medicines is 500 mg.\n",
        "\n",
        "So, this is a regulatory alarm for the company, and the manufacturing process `needs to change`."
      ],
      "metadata": {
        "id": "_sFKNnLtLeKK"
      }
    },
    {
      "cell_type": "markdown",
      "source": [
        "# Given\n",
        "\n",
        "-------\n",
        "\n",
        "A nationwide survey `claimed` that the unemployment rate of a country is `at least 8%`.\n",
        "\n",
        "However, the government claimed that the survey was `wrong` and the unemployment rate is less than that.\n",
        "\n",
        "The government asked about `36 people`, and the unemployment rate came out to be `7%`.\n",
        "\n",
        "The population `standard deviation is 3%`."
      ],
      "metadata": {
        "id": "gYPz1p6DMcnW"
      }
    },
    {
      "cell_type": "markdown",
      "source": [
        "Null and Alternative Hypotheses\n",
        "-----------\n",
        "\n",
        "[Doubt](https://learn.upgrad.com/course/4460/segment/34999/214308/657378/3330776)\n",
        "\n",
        "What are the null and alternative hypotheses in this case?\n",
        "\n",
        "    H 0 : μ ≥ 8 % and\n",
        "    H 1 : μ < 8 %\n",
        "\n",
        "    H 0 : μ ≤ 8 % and\n",
        "    H 1 : μ > 8 %\n",
        "\n",
        "    H 0 : μ > 8 % and\n",
        "    H 1 : μ ≤ 8 %\n",
        "\n",
        "    None of the above\n",
        "\n",
        "--------\n",
        "\n",
        "    H 0 : μ ≥ 8 % and\n",
        "    H 1 : μ < 8 %\n",
        "\n",
        "    ✓ Correct\n",
        "    Feedback:\n",
        "\n",
        "The null hypothesis must contain a `= sign`.\n",
        "\n",
        "The two arithmetic signs possible in this scenario are >= or <.\n",
        "\n",
        "Since >= has an equal to sign it becomes the null hypothesis."
      ],
      "metadata": {
        "id": "phN1KXh4Nnx0"
      }
    },
    {
      "cell_type": "markdown",
      "source": [
        "Z-Score of the Sample Mean\n",
        "---------\n",
        "\n",
        "Based on the information above, conduct a hypothesis test at a 5% significance level using the p-value method.\n",
        "\n",
        "What is the Z-score of the sample mean point x = 7%?\n",
        "\n",
        "    -0.2\n",
        "\n",
        "    2.0\n",
        "\n",
        "    -2.0\n",
        "\n",
        "    0.2\n",
        "\n",
        "--------\n",
        "\n",
        "    -2.0\n",
        "\n",
        "    ✓ Correct\n",
        "    Feedback:\n",
        "\n",
        "μ = 8 % ;\n",
        "\n",
        "σ = 3 % ;\n",
        "\n",
        "n = 36 ;\n",
        "\n",
        "x = 7 % ;\n",
        "\n",
        "    S.E. = 3 / √ 36 = 0.5\n",
        "\n",
        "Now,\n",
        "\n",
        "    Zx = 7 - 8 / 0.5\n",
        "    = -2"
      ],
      "metadata": {
        "id": "_MNlBqV0PtRe"
      }
    },
    {
      "cell_type": "code",
      "source": [
        "(7 - 8) / (3 / (36 ** 0.5))"
      ],
      "metadata": {
        "colab": {
          "base_uri": "https://localhost:8080/"
        },
        "id": "bPiGypeXMnKi",
        "outputId": "7a411b84-3dba-46a5-b2a7-0509775bd9d9"
      },
      "execution_count": null,
      "outputs": [
        {
          "output_type": "execute_result",
          "data": {
            "text/plain": [
              "-2.0"
            ]
          },
          "metadata": {},
          "execution_count": 5
        }
      ]
    },
    {
      "cell_type": "markdown",
      "source": [
        "p-Value of the Z-Score\n",
        "--------\n",
        "\n",
        "Calculate the p-value from the cumulative probability for the given Z-score using the Z-table.\n",
        "\n",
        "In other words, find out the p-value for the `Z-score of -2.0`\n",
        "\n",
        "(corresponding to the sample mean of 7%).\n",
        "\n",
        "    0.9772\n",
        "\n",
        "    0.0228\n",
        "\n",
        "    0.5199\n",
        "\n",
        "    0.4801\n",
        "\n",
        "---------\n",
        "\n",
        "    0.0228\n",
        "\n",
        "    ✓ Correct\n",
        "    Feedback:\n",
        "\n",
        "The p-value corresponding to a Z-score of -2.0 is 0.0228\n",
        "\n",
        "    z = -2.0 < 0,\n",
        "    H1 : μ < 8 %,\n",
        "    one tailed test"
      ],
      "metadata": {
        "id": "rXBEr25hR1R1"
      }
    },
    {
      "cell_type": "markdown",
      "source": [
        "Making a Decision\n",
        "---------\n",
        "\n",
        "Make the decision on the basis of the p-value with respect to the given value of α (significance value).\n",
        "\n",
        "    You reject the null hypothesis\n",
        "    because the p-value is less than 0.05.\n",
        "\n",
        "    You fail to reject the null hypothesis\n",
        "    because the p-value is less than 0.05.\n",
        "\n",
        "    You reject the null hypothesis\n",
        "    because the p-value is more than 0.05.\n",
        "\n",
        "    You fail to reject the null hypothesis\n",
        "    because the p-value is more than 0.05.\n",
        "\n",
        "---------\n",
        "\n",
        "    You reject the null hypothesis\n",
        "    because the p-value is less than 0.05.\n",
        "\n",
        "    ✓ Correct\n",
        "    Feedback:\n",
        "\n",
        "Since the p-value of the Z-score of the sample mean is less than the given value of α = 0.05,\n",
        "\n",
        "we `reject the null hypothesis`\n",
        "\n",
        "    H0 : μ ≥ 8 %"
      ],
      "metadata": {
        "id": "mgGgbywkUDb3"
      }
    },
    {
      "cell_type": "code",
      "source": [
        "p = 0.0228\n",
        "α = 0.05\n",
        "\n",
        "p < α"
      ],
      "metadata": {
        "colab": {
          "base_uri": "https://localhost:8080/"
        },
        "id": "-VDfYrpjSPnr",
        "outputId": "7c7f4ac1-a0a9-43ff-9889-8d9becea8354"
      },
      "execution_count": null,
      "outputs": [
        {
          "output_type": "execute_result",
          "data": {
            "text/plain": [
              "True"
            ]
          },
          "metadata": {},
          "execution_count": 6
        }
      ]
    },
    {
      "cell_type": "markdown",
      "source": [
        "# Types of Errors\n",
        "\n",
        "- A type I-error, represented by α, occurs when you reject a true null hypothesis.\n",
        "\n",
        "- A type-II error, represented by β, occurs when you fail to reject a false null hypothesis.\n",
        "\n",
        "<br>\n",
        "\n",
        "[![ss](https://cdn.upgrad.com/UpGrad/temp/c75cb725-4929-4bc0-bc90-9bbeadde779f/4.png)](https://statisticsbyjim.com/hypothesis-testing/types-errors-hypothesis-testing/)"
      ],
      "metadata": {
        "id": "0ma_J1i3oXm0"
      }
    },
    {
      "cell_type": "markdown",
      "source": [
        "Errors in Hypothesis Testing\n",
        "---------\n",
        "\n",
        "Mark all the correct options below.\n",
        "\n",
        "    A type-I error occurs\n",
        "    when a true null hypothesis is rejected.\n",
        "\n",
        "    A type-I error occurs\n",
        "    when the null hypothesis is not rejected\n",
        "    when it is, in fact, incorrect.\n",
        "\n",
        "    A type-II error occurs\n",
        "    when the null hypothesis is rejected\n",
        "    when it is, in fact, correct.\n",
        "\n",
        "    A type II error occurs\n",
        "    when the null hypothesis is not rejected\n",
        "    when it is, in fact, incorrect.\n",
        "\n",
        "----------\n",
        "\n",
        "    A type-I error occurs\n",
        "    when a true null hypothesis is rejected.\n",
        "\n",
        "    ✓ Correct\n",
        "    Feedback:\n",
        "\n",
        "A type-I error occurs when the null hypothesis is true\n",
        "\n",
        "(i.e., the sample mean lies in the acceptance region)\n",
        "\n",
        "but you incorrectly reject it.\n",
        "\n",
        "----------\n",
        "\n",
        "    A type II error occurs\n",
        "    when the null hypothesis is not rejected\n",
        "    when it is, in fact, incorrect.\n",
        "\n",
        "    ✓ Correct\n",
        "    Feedback:\n",
        "\n",
        "A type-II error occurs when the null hypothesis is not true\n",
        "\n",
        "(i.e., the sample mean lies in the critical region)\n",
        "\n",
        "but you incorrectly fail to reject it."
      ],
      "metadata": {
        "id": "-Sgi7-j4pUOU"
      }
    },
    {
      "cell_type": "markdown",
      "source": [
        "Types of Errors\n",
        "----------\n",
        "\n",
        "Suppose the null hypothesis is that a particular new process is as good as or better than the old one.\n",
        "\n",
        "A type-I error would conclude that ___.\n",
        "\n",
        "    The old process is as good as or better than the new one\n",
        "    when, in fact, it is not.\n",
        "\n",
        "    The old process is better than the new one\n",
        "    when it really is so.\n",
        "\n",
        "    The old process is better than the new one\n",
        "    when, in fact, it is not.\n",
        "\n",
        "    The new process is as good as or better than the new one\n",
        "    when it really is so.\n",
        "\n",
        "----------\n",
        "\n",
        "    The old process is better than the new one\n",
        "    when, in fact, it is not.\n",
        "\n",
        "    ✓ Correct\n",
        "    Feedback:\n",
        "\n",
        "A type-I error refers to incorrectly rejecting a true null hypothesis.\n",
        "\n",
        "    So, a type-1 error means that the null hypothesis is true,\n",
        "\n",
        "i.e., the new process is as `good as or better` than the old one,\n",
        "\n",
        "`but you reject it`, i.e., you conclude that the `old process is better`."
      ],
      "metadata": {
        "id": "XyyYmSrDqHvq"
      }
    },
    {
      "cell_type": "code",
      "source": [],
      "metadata": {
        "id": "nFgaYtKLVaNm"
      },
      "execution_count": null,
      "outputs": []
    }
  ]
}