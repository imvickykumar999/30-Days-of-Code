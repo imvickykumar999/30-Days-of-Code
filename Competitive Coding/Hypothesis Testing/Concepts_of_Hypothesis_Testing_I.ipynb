{
  "nbformat": 4,
  "nbformat_minor": 0,
  "metadata": {
    "colab": {
      "provenance": []
    },
    "kernelspec": {
      "name": "python3",
      "display_name": "Python 3"
    },
    "language_info": {
      "name": "python"
    }
  },
  "cells": [
    {
      "cell_type": "markdown",
      "source": [
        "# Understanding Hypothesis Testing\n",
        "\n",
        "- [DS C54 - Hypothesis Testing Session](https://live.upgrad.com/summary/7phUTHzI6ZIHN3RIuKluHypkoUhI38dP)\n",
        "\n",
        "- [DS C54 Statistics Career Session](https://live.upgrad.com/summary/3ymYR2xuzyl6pYtEsjtUpaKxw89sqsWN)\n",
        "\n",
        "- ## [Z - Table](https://cdn.upgrad.com/UpGrad/temp/fa97ec8c-c699-4677-b0d8-de24a87e096c/z-table.pdf)"
      ],
      "metadata": {
        "id": "OgGo10FAXygk"
      }
    },
    {
      "cell_type": "markdown",
      "source": [
        "Nature of hypotheses\n",
        "--------\n",
        "\n",
        "Which of the following is true about the two hypotheses that were just stated?\n",
        "\n",
        "    Exactly one hypothesis must be true\n",
        "\n",
        "    Both hypotheses must be true\n",
        "\n",
        "    It is possible for neither hypothesis to be true\n",
        "\n",
        "    It is possible for both hypotheses to be true\n",
        "\n",
        "---------\n",
        "\n",
        "    Exactly one hypothesis must be true\n",
        "\n",
        "    ✓ Correct\n",
        "    Feedback:\n",
        "\n",
        "Both the hypotheses oppose each other, so only one of the two can be true.\n",
        "\n",
        "----------"
      ],
      "metadata": {
        "id": "N9VBHCoKYTRJ"
      }
    },
    {
      "cell_type": "markdown",
      "source": [
        "    Let’s understand the basic difference between\n",
        "    inferential statistics and hypothesis testing.\n",
        "\n",
        "\n",
        "`Inferential statistics` is used to find some population parameter (mostly population mean) when you have no initial number to start with.\n",
        "\n",
        "So, you start with the sampling activity and find out the sample mean.\n",
        "\n",
        "Then, you estimate the population mean from the sample mean using the confidence interval.\n",
        "\n",
        "\n",
        "`Hypothesis testing` is used to confirm your conclusion (or hypothesis) about the population parameter (which you know from EDA or your intuition).\n",
        "\n",
        "Through hypothesis testing, you can determine whether there is enough evidence to conclude if the hypothesis about the population parameter is true or not."
      ],
      "metadata": {
        "id": "u4tjWJ_cbIgq"
      }
    },
    {
      "cell_type": "markdown",
      "source": [
        "    Hypothesis Testing starts with the formulation of these two hypotheses:\n",
        "\n",
        "**Null hypothesis (H₀)**: The status quo\n",
        "\n",
        "**Alternate hypothesis (H₁)**: The challenge to the status quo"
      ],
      "metadata": {
        "id": "nljnv7HhYnCr"
      }
    },
    {
      "cell_type": "markdown",
      "source": [
        "Null and Alternate Hypotheses\n",
        "--------\n",
        "\n",
        "In the Maggi Noodles example, if you **fail to reject the null hypothesis**, what can you conclude from this statement?\n",
        "\n",
        "    Maggi Noodles contain excess lead\n",
        "\n",
        "    Maggi Noodles do not contain excess lead\n",
        "\n",
        "----------\n",
        "\n",
        "    Maggi Noodles do not contain excess lead\n",
        "\n",
        "    ✓ Correct\n",
        "    Feedback:\n",
        "\n",
        "The null hypothesis is that the average lead content is less than or equal to 2.5 ppm.\n",
        "\n",
        "Since you fail to reject the null hypothesis, you can conclude that Maggi Noodles do not contain excess lead.\n",
        "\n",
        "Please note than you can only fail to reject the null hypothesis, you can never accept the null hypothesis."
      ],
      "metadata": {
        "id": "D3eVih_7Z1UT"
      }
    },
    {
      "cell_type": "markdown",
      "source": [
        "Types of Hypotheses\n",
        "-------\n",
        "\n",
        "The null and alternative hypotheses divide all possibilities into:\n",
        "\n",
        "    2 sets that overlap\n",
        "\n",
        "    2 non-overlapping sets\n",
        "\n",
        "    2 sets that may or may not overlap\n",
        "\n",
        "    As many sets as necessary to cover all possibilities\n",
        "\n",
        "---------------\n",
        "\n",
        "    2 non-overlapping sets\n",
        "\n",
        "    ✓ Correct\n",
        "    Feedback:\n",
        "\n",
        "Both the null and alternate hypotheses can’t be true at the same time.\n",
        "\n",
        "Only one of them will be true."
      ],
      "metadata": {
        "id": "Hf_ziSjCauqk"
      }
    },
    {
      "cell_type": "markdown",
      "source": [
        "# Null and Alternate Hypotheses\n",
        "\n",
        "    You can use the following rule to formulate the null and alternate hypotheses:\n",
        "\n",
        "![ss](https://cdn.upgrad.com/UpGrad/temp/c4470702-bb94-4f69-b8cc-6aea9ad17be7/1.png)\n",
        "\n",
        "- The null hypothesis always has the following signs:  `=  OR   ≤   OR    ≥`\n",
        "\n",
        "![ss](https://cdn.upgrad.com/UpGrad/temp/33e308ba-2bd8-43a8-bcfe-e53a1e768cf2/1b.png)\n",
        "\n",
        "- The alternate hypothesis always has the following signs:  `≠   OR  >   OR    <`"
      ],
      "metadata": {
        "id": "QUGMK4WSbg2K"
      }
    },
    {
      "cell_type": "markdown",
      "source": [
        "Null and Alternate Hypotheses\n",
        "----------\n",
        "\n",
        "Flipkart claimed that its total valuation in December 2016 was $14 billion.\n",
        "\n",
        "What would be the alternate hypothesis for the given situation?\n",
        "\n",
        "    H₁: Total valuation = $14 billion\n",
        "\n",
        "    H₁: Total valuation < $14 billion\n",
        "\n",
        "    H₁: Total valuation > $14 billion\n",
        "\n",
        "    H₁: Total valuation ≠ $14 billion\n",
        "\n",
        "----------\n",
        "\n",
        "    H₁: Total valuation ≠ $14 billion\n",
        "\n",
        "    ✓ Correct\n",
        "    Feedback:\n",
        "\n",
        "The null hypothesis in this case would be that the total valuation is equal to $14 billion.\n",
        "\n",
        "Hence the alternate hypothesis is the `opposite` of that."
      ],
      "metadata": {
        "id": "JqGblrDZAqaH"
      }
    },
    {
      "cell_type": "markdown",
      "source": [
        "Null and Alternate Hypotheses\n",
        "------------\n",
        "\n",
        "The average commute time for an UpGrad employee to and from office is `at least 35` minutes.\n",
        "\n",
        "What will be the null and alternate hypotheses in this case if the average time is represented by μ?\n",
        "\n",
        "    H₀: μ ≤ 35 minutes and H₁: μ > 35 minutes\n",
        "\n",
        "    H₀: μ > 35 minutes and H₁: μ ≤ 35 minutes\n",
        "\n",
        "    H₀: μ ≥ 35 minutes and H₁: μ < 35 minutes\n",
        "\n",
        "    H₀: μ < 35 minutes and H₁: μ ≥ 35 minutes\n",
        "\n",
        "-----------\n",
        "\n",
        "    H₀: μ ≥ 35 minutes and H₁: μ < 35 minutes\n",
        "\n",
        "    ✓ Correct\n",
        "    Feedback:\n",
        "\n",
        "The null hypothesis is `always formulated` by either = or ≤ or ≥ whereas the alternate hypothesis is formulated by ≠ or > or <.\n",
        "\n",
        "In this case, the average time taken was `greater than or equal to 35` minutes.\n",
        "\n",
        "So, that becomes the `null hypothesis`.\n",
        "\n",
        "`Less than 35` minutes becomes the alternate hypothesis."
      ],
      "metadata": {
        "id": "cAo-OvKUBzUr"
      }
    },
    {
      "cell_type": "markdown",
      "source": [
        "Null and Alternate Hypotheses\n",
        "----------\n",
        "\n",
        "Goodyear claims that each of its tyres can travel more than 7500 miles on average before they need any replacement.\n",
        "\n",
        "Assuming that the average travel distance is given by μ, what would be the null and the alternate hypothesis in this case?\n",
        "\n",
        "    H₀: μ > 7500 miles and H₁: μ ≤ 7500 miles\n",
        "\n",
        "    H₀: μ ≥ 7500 miles and H₁: μ < 7500 miles\n",
        "\n",
        "    H₀: μ < 7500 miles and H₁: μ ≥ 7500 miles\n",
        "\n",
        "    H₀: μ ≤ 7500 miles and H₁: μ > 7500 miles\n",
        "\n",
        "----------\n",
        "\n",
        "    H₀: μ  ≤  7500 miles and H₁: μ > 7500 miles\n",
        "\n",
        "    ✓ Correct\n",
        "    Feedback:\n",
        "\n",
        "The null hypothesis is always formulated by either = or ≤ or ≥ whereas the alternate hypothesis is formulated by ≠ or > or <.\n",
        "\n",
        "If you check the claim statement, it has the > sign (i.e. μ > 7500 miles).\n",
        "\n",
        "Hence the null hypothesis would be the complement of the claim statement\n",
        "\n",
        "    i.e. μ ≤ 7500 miles,\n",
        "\n",
        "and the alternate hypothesis would be the claim statement itself\n",
        "\n",
        "    or μ > 7500 miles."
      ],
      "metadata": {
        "id": "YjZuor7jD4OP"
      }
    },
    {
      "cell_type": "markdown",
      "source": [
        "Null and Alternate Hypotheses\n",
        "--------\n",
        "\n",
        "What would be the null and alternate hypotheses for Apurva’s claim?\n",
        "\n",
        "    H₀: μ = 70 and H₁: μ ≠ 70\n",
        "\n",
        "    H₀: μ ≠ 70 and H₁: μ = 70\n",
        "\n",
        "    H₀: μ ≤ 70 and H₁: μ > 70\n",
        "\n",
        "    H₀: μ ≥ 70 and H₁: μ < 70\n",
        "\n",
        "---------\n",
        "\n",
        "    H₀: μ = 70 and H₁: μ ≠ 70\n",
        "\n",
        "    ✓ Correct\n",
        "    Feedback:\n",
        "\n",
        "The null hypothesis is always formulated by either = or ≤ or ≥.\n",
        "\n",
        "Here, Apurva’s claim is that her score is `equal to 70`, so that would become the null hypothesis.\n",
        "\n",
        "And alternate hypothesis would be that her score is `not equal to 70`."
      ],
      "metadata": {
        "id": "9e6_UwEaMz1N"
      }
    },
    {
      "cell_type": "markdown",
      "source": [
        "Making a decision\n",
        "----------\n",
        "\n",
        "If your sample mean lies in the acceptance region, then:\n",
        "\n",
        "    You reject the null hypothesis\n",
        "\n",
        "    You fail to reject the null hypothesis\n",
        "\n",
        "---------\n",
        "\n",
        "    You fail to reject the null hypothesis\n",
        "\n",
        "    ✓ Correct\n",
        "    Feedback:\n",
        "\n",
        "If your sample mean lies in the acceptance region,\n",
        "\n",
        "you fail to reject the null hypothesis\n",
        "\n",
        "because it is not beyond the critical point\n",
        "\n",
        "and you can consider that sample mean is equal to the population mean statistically."
      ],
      "metadata": {
        "id": "09mdjD1aObEL"
      }
    },
    {
      "cell_type": "markdown",
      "source": [
        "You can tell the `type of the test` and the `position of the critical region` on the basis of the ‘`sign`’ in the `alternate hypothesis`.\n",
        "----------\n",
        "\n",
        "    ≠ in H₁    →   Two-tailed test        →     Rejection region on both sides of distribution\n",
        "\n",
        "    < in H₁    →   Lower-tailed test     →     Rejection region on left side of distribution\n",
        "\n",
        "    > in H₁    →   Upper-tailed test     →     Rejection region on right side of distribution"
      ],
      "metadata": {
        "id": "NuLYu7bZSaw9"
      }
    },
    {
      "cell_type": "markdown",
      "source": [
        "Types of tests\n",
        "-------\n",
        "\n",
        "Government regulatory bodies have specified that the maximum permissible amount of lead in any food product is 2.5 parts per million or 2.5 ppm.\n",
        "\n",
        "If you conduct tests on randomly chosen Maggi Noodles samples from the market to see if its lead content is above the permissible amount of 2.5 ppm, what type of test this would be?\n",
        "\n",
        "    Two-tailed test\n",
        "\n",
        "    Lower-tailed test\n",
        "\n",
        "    Upper-tailed test\n",
        "\n",
        "-----------\n",
        "\n",
        "    Upper-tailed test\n",
        "\n",
        "    ✓ Correct\n",
        "    Feedback:\n",
        "\n",
        "Null hypothesis says, maximum permissible amount is 2.5 ppm, (`means, μ ≤ 2.5`)\n",
        "\n",
        "The alternate hypothesis in this case would be that the average lead content is more than 2.5 ppm, (`means, μ > 2.5`)\n",
        "\n",
        "The critical region would lie on right side of distribution,\n",
        "\n",
        "as if lead content is too lower than 2.5 ppm then it's a good news,\n",
        "\n",
        "hence we don't need to test on left side of distribution.\n",
        "\n",
        "So this would be an upper-tailed test, (considering alternate hypothesis only).\n",
        "\n",
        "Here, you can notice that `alternate hypothesis is formulated with “more than”` argument (equivalently > sign),\n",
        "\n",
        "which justifies it being a right-tailed test."
      ],
      "metadata": {
        "id": "GoQrSKpGP7FV"
      }
    },
    {
      "cell_type": "markdown",
      "source": [
        "Null and Alternate Hypotheses\n",
        "-----------\n",
        "\n",
        "The average commute time for an UpGrad employee to and from office is at least 35 minutes.\n",
        "\n",
        "If this hypothesis has to be tested, select the type of the test and the location of the critical region.\n",
        "\n",
        "    Lower-tailed test, with the rejection region on the right side\n",
        "\n",
        "    Upper-tailed test, with the rejection region on the right side\n",
        "\n",
        "    Lower-tailed test, with the rejection region on the left side\n",
        "\n",
        "    Upper-tailed test, with the rejection region on the left side\n",
        "\n",
        "----------\n",
        "\n",
        "    Lower-tailed test, with the rejection region on the left side\n",
        "\n",
        "    ✓ Correct\n",
        "    Feedback:\n",
        "\n",
        "For this situation, the hypotheses would be formulated as\n",
        "\n",
        "    H₀: μ ≥ 35 minutes and H₁: μ < 35 minutes.\n",
        "\n",
        "As `< sign` is used in alternate hypothesis, it would be a lower-tailed test\n",
        "\n",
        "and the rejection region would be on the left side of the distribution."
      ],
      "metadata": {
        "id": "12i3rzyQS83m"
      }
    },
    {
      "cell_type": "markdown",
      "source": [
        "Null and Alternate Hypotheses\n",
        "---------\n",
        "\n",
        "A courier claims that the average delivery time of goods is 3 days.\n",
        "\n",
        "Choose the correct formulation of hypothesis along with the correct test.\n",
        "\n",
        "    H 0 : μ ≠ 3 ; H 1 : μ = 3 ; T e s t : T w o − t a i l e d t e s t\n",
        "\n",
        "    H 0 : μ = 3 ; H 1 : μ ≠ 3 ; T e s t : L o w e r − t a i l e d t e s t\n",
        "\n",
        "    H 0 : μ = 3 ; H 1 : μ ≠ 3 ; T e s t : U p p e r − t a i l e d t e s t\n",
        "\n",
        "    H 0 : μ = 3 ; H 1 : μ ≠ 3 ; T e s t : T w o − t a i l e d t e s t\n",
        "\n",
        "-----------\n",
        "\n",
        "    H 0 : μ = 3 ; H 1 : μ ≠ 3 ; T e s t : T w o − t a i l e d t e s t\n",
        "\n",
        "    ✓ Correct\n",
        "    Feedback:\n",
        "\n",
        "H0 always has an equal sign.\n",
        "\n",
        "And since H1 has an unequal sign, we need to test both the sides."
      ],
      "metadata": {
        "id": "R9IpxxHdUXyZ"
      }
    },
    {
      "cell_type": "markdown",
      "source": [
        "Null and Alternate Hypotheses\n",
        "--------------\n",
        "\n",
        "A researcher claims that the weight of an average male Bengal tiger is less than 220 KG.\n",
        "\n",
        "    H 0 : μ >= 220 k g , H 1 : μ < 220 k g , T e s t : U p p e r − t a i l e d t e s t\n",
        "\n",
        "    H 0 : μ < 220 k g , H 1 : μ ≥ 220 k g , T e s t : U p p e r − t a i l e d t e s t\n",
        "\n",
        "    H 0 : μ > 220 k g , H 1 : μ ≤ 220 k g , T e s t : L o w e r − t a i l e d t e s t\n",
        "\n",
        "    None of the above\n",
        "\n",
        "--------\n",
        "\n",
        "    None of the above\n",
        "\n",
        "    ✓ Correct\n",
        "    Feedback:\n",
        "\n",
        "The correct formulation is as follows:\n",
        "\n",
        "    H 0 : μ >= 220 k g , H 1 : μ < 220 k g , T e s t : L o w e r − t a i l e d t e s t"
      ],
      "metadata": {
        "id": "NSGaoj_VVCg1"
      }
    },
    {
      "cell_type": "markdown",
      "source": [
        "--------------\n",
        "\n",
        "    Does the claim statement directly give the null hypothesis?\n",
        "\n",
        "`No`, you have to check whether the claim statement has an\n",
        "\n",
        "    \"equal to\",\n",
        "\n",
        "    \"greater than equal to\" or\n",
        "\n",
        "    \"less than equal to\"\n",
        "\n",
        "symbol and then on the basis of that decide whether the claim statement\n",
        "\n",
        "or the complement of it would become the null hypothesis."
      ],
      "metadata": {
        "id": "U57u0LRdXcwO"
      }
    },
    {
      "cell_type": "markdown",
      "source": [
        "# Critical Value Method"
      ],
      "metadata": {
        "id": "1KI-dHgjY1nm"
      }
    },
    {
      "cell_type": "markdown",
      "source": [
        "Standard deviation\n",
        "----------\n",
        "\n",
        "What will be the standard deviation of the distribution of sample means\n",
        "\n",
        "if the population has a mean of 350 and a standard deviation of 90, a sample mean of 370.16, and a sample size of 36?\n",
        "\n",
        "    9.72\n",
        "\n",
        "    2.5\n",
        "\n",
        "    15\n",
        "\n",
        "    3.88\n",
        "\n",
        "---------\n",
        "\n",
        "    15\n",
        "\n",
        "    ✓ Correct\n",
        "    Feedback:\n",
        "\n",
        "The standard deviation of a distribution of sample means is obtained by dividing the population standard deviation by the square root of the sample size.\n",
        "\n",
        "    So, 90 / √36 = 90/6 = 15"
      ],
      "metadata": {
        "id": "UM7EyouJdBSv"
      }
    },
    {
      "cell_type": "code",
      "source": [
        "90 / (36 ** 0.5)"
      ],
      "metadata": {
        "colab": {
          "base_uri": "https://localhost:8080/"
        },
        "id": "N-7B0mAGUc1_",
        "outputId": "e8ed943c-047e-43e9-a047-8494a4d21029"
      },
      "execution_count": null,
      "outputs": [
        {
          "output_type": "execute_result",
          "data": {
            "text/plain": [
              "15.0"
            ]
          },
          "metadata": {},
          "execution_count": 1
        }
      ]
    },
    {
      "cell_type": "markdown",
      "source": [
        "Area of rejection region\n",
        "----------\n",
        "\n",
        "What will be the area of the critical region on the `right-hand side` of the distribution if the significance level `(α) for a two-tailed test is 3%`?\n",
        "\n",
        "    0.03\n",
        "\n",
        "    0.97\n",
        "\n",
        "    0.015\n",
        "\n",
        "    0.985\n",
        "\n",
        "-----------\n",
        "\n",
        "    0.015\n",
        "\n",
        "    ✓ Correct\n",
        "    Feedback:\n",
        "\n",
        "Here, value of `α is 0.03` (of 3%),\n",
        "\n",
        "so the `area of the rejection` region would be 0.03\n",
        "\n",
        "and the `area of the acceptance` region would be 0.97\n",
        "\n",
        "In addition, since this is a `two-tailed test`,\n",
        "\n",
        "the area of the critical region on the right-hand side would be `half of 0.03`,\n",
        "\n",
        "    i.e. 0.015"
      ],
      "metadata": {
        "id": "74REzkztk3-p"
      }
    },
    {
      "cell_type": "markdown",
      "source": [
        "Area of rejection region\n",
        "-------\n",
        "\n",
        "What would be the area of the critical region on the right-hand side of the distribution if the significance level (α) for an upper-tailed test is 3%?\n",
        "\n",
        "    0.03\n",
        "\n",
        "    0.97\n",
        "\n",
        "    0.015\n",
        "\n",
        "    0.985\n",
        "\n",
        "--------\n",
        "\n",
        "    0.03\n",
        "\n",
        "    ✓ Correct\n",
        "    Feedback:\n",
        "\n",
        "Here, the value of α is 0.03 (of 3%), so the area of the critical region would be 0.03 and the area of the acceptance region would be 0.97\n",
        "\n",
        "Since this is an upper-tailed test, the critical region is only on the right-hand side of the distribution, and the area of the critical region would be 0.03"
      ],
      "metadata": {
        "id": "8_FvkmkHlpSm"
      }
    },
    {
      "cell_type": "markdown",
      "source": [
        "Area of rejection region\n",
        "----------\n",
        "\n",
        "What would be the value of the cumulative probability of UCV if the significance level (α) for an upper-tailed test is 3%?\n",
        "\n",
        "    0.03\n",
        "\n",
        "    0.97\n",
        "\n",
        "    0.015\n",
        "\n",
        "    0.985\n",
        "\n",
        "-----\n",
        "\n",
        "    0.97\n",
        "\n",
        "    ✓ Correct\n",
        "    Feedback:\n",
        "\n",
        "The area of the critical region in this case would be 0.03 (as calculated in the last question),\n",
        "\n",
        "which would be the area beyond the UCV point in the distribution.\n",
        "\n",
        "So, the area till the UCV point would be `1 - 0.03, i.e. 0.97`.\n",
        "\n",
        "This would be the cumulative probability of that point,\n",
        "\n",
        "going by the definition of cumulative probability."
      ],
      "metadata": {
        "id": "g3JUCa5Blzm-"
      }
    },
    {
      "cell_type": "markdown",
      "source": [
        "Let’s solve the following problem stepwise\n",
        "----------\n",
        "\n",
        "A manufacturer claims that the `average` life of its product is `36 months`.\n",
        "\n",
        "An auditor selects a `sample of 49 units` of the product, and calculates the average life to be `34.5 months`.\n",
        "\n",
        "The population `standard deviation is 4 months`.\n",
        "\n",
        "Test the manufacturer’s claim at `3% significance level` using the critical value method.\n",
        "\n",
        "First, you need to formulate the hypotheses for this `two-tailed test`, which would be:\n",
        "\n",
        "    H₀:μ = 36 months and H₁: μ ≠ 36 months"
      ],
      "metadata": {
        "id": "1d7y-5Wx64T9"
      }
    },
    {
      "cell_type": "markdown",
      "source": [
        "Critical Value Method\n",
        "-------\n",
        "\n",
        "    1st step:\n",
        "\n",
        "Calculate the value of Zc from the given value of α (significance level).\n",
        "\n",
        "Calculate the z-critical score for the two-tailed test at 3% significance level.\n",
        "\n",
        "    1.88\n",
        "\n",
        "    1.04\n",
        "\n",
        "    2.965\n",
        "\n",
        "    2.17\n",
        "\n",
        "----------\n",
        "\n",
        "    2.17\n",
        "\n",
        "    ✓ Correct\n",
        "    Feedback:\n",
        "\n",
        "For 3% significance level, you would have two critical regions on both sides with a total area of 0.03\n",
        "\n",
        "So, the area of the critical region on the right side would be 0.015,\n",
        "\n",
        "which means that the area till UCV (cumulative probability of that point) would be 1 - 0.015 = 0.985\n",
        "\n",
        "So, you need to find the z-value of 0.985.\n",
        "\n",
        "The z-score for 0.9850 in the `z-table` is 2.17 ( = 2.1 + 0.07)\n",
        "\n",
        "(2.1 on the horizontal axis and 0.07 on the vertical axis)"
      ],
      "metadata": {
        "id": "d7rXEiulcYug"
      }
    },
    {
      "cell_type": "markdown",
      "source": [
        "Critical Value Method\n",
        "---------\n",
        "\n",
        "    2nd step:\n",
        "\n",
        "Calculate the critical values (UCV and LCV) from the value of Zc.\n",
        "\n",
        "Find out the UCV and LCV values for Zc = 2.17.\n",
        "\n",
        "- μ = 36 months\n",
        "- σ = 4 months\n",
        "- n (Sample size) = 49\n",
        "\n",
        "\n",
        "    UCV = 37.24 and LCV = 34.76\n",
        "\n",
        "    UCV = 36.18 and LCV = 35.82\n",
        "\n",
        "    UCV = 44.68 and LCV = 27.32\n",
        "\n",
        "    UCV = 36.31 and LCV = 35.69\n",
        "\n",
        "------\n",
        "\n",
        "    UCV = 37.24 and LCV = 34.76\n",
        "\n",
        "    ✓ Correct\n",
        "    Feedback:\n",
        "\n",
        "The critical values can be calculated from\n",
        "\n",
        "    μ ± Zc * (σ / √ N​)\n",
        "    as 36 ± 2.17 * (4 / ​√ 49​)\n",
        "    = 36 ± 1.24\n",
        "\n",
        "which comes out to be `37.24 and 34.76`"
      ],
      "metadata": {
        "id": "BzHcuqkT2R1w"
      }
    },
    {
      "cell_type": "code",
      "source": [
        "def con_int(n, x, s, z):\n",
        "  ci = (z * s) / (n ** 0.5)\n",
        "  return x - ci, x + ci"
      ],
      "metadata": {
        "id": "02s1oaSwjimB"
      },
      "execution_count": null,
      "outputs": []
    },
    {
      "cell_type": "code",
      "source": [
        "n, x, s, z = 49, 36, 4, 2.17\n",
        "ci = con_int(n, x, s, z)\n",
        "ci"
      ],
      "metadata": {
        "colab": {
          "base_uri": "https://localhost:8080/"
        },
        "id": "BkmFPoa442Nt",
        "outputId": "29c58041-be24-4b5d-83e6-44819eee50c5"
      },
      "execution_count": null,
      "outputs": [
        {
          "output_type": "execute_result",
          "data": {
            "text/plain": [
              "(34.76, 37.24)"
            ]
          },
          "metadata": {},
          "execution_count": 3
        }
      ]
    },
    {
      "cell_type": "code",
      "source": [
        "import numpy as np\n",
        "np.array(ci).mean()"
      ],
      "metadata": {
        "colab": {
          "base_uri": "https://localhost:8080/"
        },
        "id": "H4lPaR8h7keK",
        "outputId": "e98b324a-2907-4366-c6d3-be8cc75e18a1"
      },
      "execution_count": null,
      "outputs": [
        {
          "output_type": "execute_result",
          "data": {
            "text/plain": [
              "36.0"
            ]
          },
          "metadata": {},
          "execution_count": 4
        }
      ]
    },
    {
      "cell_type": "markdown",
      "source": [
        "Critical Value Method\n",
        "----------\n",
        "\n",
        "    3rd step:\n",
        "\n",
        "Make the decision on the basis of the value of the sample mean X with respect to the critical values (UCV AND LCV).\n",
        "\n",
        "What would be the result of this hypothesis test?\n",
        "\n",
        "- UCV = 37.24 months\n",
        "- LCV = 34.76 months\n",
        "- Sample mean (x) = 34.5 months\n",
        "\n",
        "\n",
        "    Fail to reject the null hypothesis\n",
        "\n",
        "    Reject the null hypothesis\n",
        "\n",
        "    Can’t say\n",
        "\n",
        "----------\n",
        "\n",
        "    Reject the null hypothesis\n",
        "\n",
        "    ✓ Correct\n",
        "    Feedback:\n",
        "\n",
        "The UCV and LCV values for this test are 37.24 and 34.76\n",
        "\n",
        "The sample mean in this case is `34.5 months`, which is less than LCV.\n",
        "\n",
        "So, this implies that the `sample mean lies in the critical region`\n",
        "\n",
        "and you can `reject the null hypothesis`."
      ],
      "metadata": {
        "id": "yMaKpMJz509D"
      }
    },
    {
      "cell_type": "markdown",
      "source": [
        "# Critical Value Method - Examples"
      ],
      "metadata": {
        "id": "VFMBjJib8tmt"
      }
    },
    {
      "cell_type": "markdown",
      "source": [
        "Type of test\n",
        "-----------\n",
        "\n",
        "Consider this problem —\n",
        "\n",
        "    H₀: μ ≤ 350 and H₁: μ > 350\n",
        "\n",
        "Can you tell what kind of test it would be?\n",
        "\n",
        "    Two-tailed test\n",
        "\n",
        "    One-tailed test\n",
        "\n",
        "------------\n",
        "\n",
        "    One-tailed test\n",
        "\n",
        "    ✓ Correct\n",
        "    Feedback:\n",
        "\n",
        "The > sign means that the critical region is on the right-hand side (versus both the sides)\n",
        "\n",
        "and, therefore, you only need to use a one-tailed test."
      ],
      "metadata": {
        "id": "FERSFFXEXcbo"
      }
    },
    {
      "cell_type": "markdown",
      "source": [
        "Critical Value Method\n",
        "-------------\n",
        "\n",
        "Consider this problem —\n",
        "\n",
        "    H₀: μ ≤ 350 and H₁: μ > 350\n",
        "\n",
        "In case of a two-tailed test, you find the z-score of 0.975 in the z-table,\n",
        "\n",
        "since 0.975 was cumulative probability of UCV in that case.\n",
        "\n",
        "In this problem, what would be the cumulative probability of critical point in this example for the same significance level of 5%?\n",
        "\n",
        "    0.975\n",
        "\n",
        "    0.025\n",
        "\n",
        "    0.950\n",
        "\n",
        "    0.050\n",
        "\n",
        "------------\n",
        "\n",
        "    0.950\n",
        "\n",
        "    ✓ Correct\n",
        "    Feedback:\n",
        "\n",
        "In this problem, the area of the critical region beyond the only critical point, which is on the `right side`, is 0.05 (in the last problem, it was 0.025).\n",
        "\n",
        "So, the cumulative probability of the critical point (the total area till that point) would be 0.950."
      ],
      "metadata": {
        "id": "GY5ZI71lYDgQ"
      }
    },
    {
      "cell_type": "markdown",
      "source": [
        "Critical Value Method\n",
        "----------\n",
        "\n",
        "Consider this problem —\n",
        "\n",
        "    H₀: μ ≤ 350 and H₁: μ > 350\n",
        "\n",
        "The next step would be to find the Zc, which would basically be the z-score for the value of 0.950.\n",
        "\n",
        "Look at the z-table and find the value of Zc.\n",
        "\n",
        "    1.64\n",
        "\n",
        "    1.645\n",
        "\n",
        "    1.65\n",
        "\n",
        "    1.96\n",
        "\n",
        "-----------\n",
        "\n",
        "    1.645\n",
        "\n",
        "    ✓ Correct\n",
        "    Feedback:\n",
        "\n",
        "0.950 is `not` there in the z-table.\n",
        "\n",
        "So, look for the numbers `nearest` to 0.950.\n",
        "\n",
        "You can see that the z-score for 0.9495 is 1.64\n",
        "\n",
        "(1.6 on the horizontal bar and 0.04 on the vertical bar),\n",
        "\n",
        "and the z-score for 0.9505 is 1.65.\n",
        "\n",
        "So, taking the `average` of these two, the z-score for 0.9500 is 1.645"
      ],
      "metadata": {
        "id": "BsPbMWABcrwZ"
      }
    },
    {
      "cell_type": "markdown",
      "source": [
        "Critical Value Method\n",
        "--------\n",
        "\n",
        "Consider this problem,\n",
        "\n",
        "    H₀: μ ≤ 350 and H₁: μ > 350\n",
        "\n",
        "So, the Zc comes out to be 1.645.\n",
        "\n",
        "Now, find the critical value for the given Zc and make the decision to accept or reject the null hypothesis.\n",
        "\n",
        "- μ = 350\n",
        "- σ = 90\n",
        "- N (Sample size) = 36\n",
        "- x = 370.16\n",
        "\n",
        "\n",
        "    Critical value = 374.67 and\n",
        "    Decision = Reject the null hypothesis\n",
        "\n",
        "    Critical value = 326.25 and\n",
        "    Decision = Reject the null hypothesis\n",
        "\n",
        "    Critical value = 374.67 and\n",
        "    Decision = Fail to reject the null hypothesis\n",
        "\n",
        "    Critical value = 326.25 and\n",
        "    Decision = Fail to reject the null hypothesis\n",
        "\n",
        "-----------\n",
        "\n",
        "    Critical value = 374.67 and\n",
        "    Decision = Fail to reject the null hypothesis\n",
        "\n",
        "    ✓ Correct\n",
        "    Feedback:\n",
        "\n",
        "The critical value can be calculated from\n",
        "\n",
        "    μ + Zc * (σ / √ N )\n",
        "    350 + 1.645 * (90/ √ 36 )\n",
        "    = 374.67\n",
        "\n",
        "Since 370.16 `( x ) is less than` 374.67, x lies in the acceptance region\n",
        "\n",
        "and you fail to reject the null hypothesis."
      ],
      "metadata": {
        "id": "uYM6rWoEeIek"
      }
    },
    {
      "cell_type": "code",
      "source": [
        "n, μ, s, z = 36, 350, 90, 1.645\n",
        "x = 370.16\n",
        "\n",
        "ci = con_int(n, μ, s, z)\n",
        "ci"
      ],
      "metadata": {
        "colab": {
          "base_uri": "https://localhost:8080/"
        },
        "id": "7GIcc4hDd673",
        "outputId": "3a47a922-93b2-4d14-8480-45aeeb420694"
      },
      "execution_count": null,
      "outputs": [
        {
          "output_type": "execute_result",
          "data": {
            "text/plain": [
              "(325.325, 374.675)"
            ]
          },
          "metadata": {},
          "execution_count": 5
        }
      ]
    },
    {
      "cell_type": "code",
      "source": [
        "x < ci[1]"
      ],
      "metadata": {
        "colab": {
          "base_uri": "https://localhost:8080/"
        },
        "id": "VUwITevEevus",
        "outputId": "c37819fd-265d-41ba-befb-dbc4ee97c3ad"
      },
      "execution_count": null,
      "outputs": [
        {
          "output_type": "execute_result",
          "data": {
            "text/plain": [
              "True"
            ]
          },
          "metadata": {},
          "execution_count": 6
        }
      ]
    },
    {
      "cell_type": "markdown",
      "source": [
        "Given\n",
        "------\n",
        "\n",
        "Government regulatory bodies have specified that the `maximum` permissible amount of lead in any food product is 2.5 parts per million or 2.5 ppm.\n",
        "\n",
        "Let’s say you are an analyst working at the food regulatory body of India FSSAI.\n",
        "\n",
        "Suppose you take 100 random samples of Sunshine from the market and have them tested for the amount of lead.\n",
        "\n",
        "    The mean lead content turns out to be 2.6 ppm\n",
        "    with a standard deviation of 0.6.\n",
        "\n",
        "\n",
        "\n",
        "One thing you can notice here is that the standard deviation of the sample is given as 0.6, instead of the population’s standard deviation.\n",
        "\n",
        "In such a case, you can approximate the population’s standard deviation to the sample’s standard deviation, which is 0.6 in this case.\n",
        "\n",
        "\n",
        "Answer the following questions in order to find out if a regulatory alarm should be raised against Sunshine or not, at `3% significance` level."
      ],
      "metadata": {
        "id": "3ICLEHXGhDlE"
      }
    },
    {
      "cell_type": "markdown",
      "source": [
        "Critical Value Method\n",
        "--------\n",
        "\n",
        "Select the correct null and alternate hypotheses in this case.\n",
        "\n",
        "    H₀: Average lead content ≤ 2.6 ppm and\n",
        "    H₁: Average lead content > 2.6 ppm\n",
        "\n",
        "    H₀: Average lead content ≤ 2.5 ppm and\n",
        "    H₁: Average lead content > 2.5 ppm\n",
        "\n",
        "    H₀: Average lead content ≥ 2.6 ppm and\n",
        "    H₁: Average lead content < 2.6 ppm\n",
        "\n",
        "    H₀: Average lead content ≥ 2.5 ppm and\n",
        "    H₁: Average lead content < 2.5 ppm\n",
        "\n",
        "---------\n",
        "\n",
        "    H₀: Average lead content ≤ 2.5 ppm and\n",
        "    H₁: Average lead content > 2.5 ppm\n",
        "\n",
        "    ✓ Correct\n",
        "    Feedback:\n",
        "\n",
        "The null hypothesis is your assumption about the population — it is based on the status quo.\n",
        "\n",
        "It always makes an argument about the population using the equality sign.\n",
        "\n",
        "The null hypothesis in this case would be that the average lead content in the food material is `less than or equal` to 2.5 ppm (`maximum`).\n",
        "\n",
        "And the alternate hypothesis is that the average lead content is greater than 2.5 ppm."
      ],
      "metadata": {
        "id": "GcY7RqZZhV4V"
      }
    },
    {
      "cell_type": "markdown",
      "source": [
        "Critical Value Method\n",
        "------------\n",
        "\n",
        "Calculate the z-critical score for this test at 3% significance level.\n",
        "\n",
        "    1.88\n",
        "\n",
        "    1.555\n",
        "\n",
        "    2.965\n",
        "\n",
        "    2.17\n",
        "\n",
        "-----------\n",
        "\n",
        "    1.88\n",
        "\n",
        "    ✓ Correct\n",
        "    Feedback:\n",
        "\n",
        "This is a `one-tailed test`.\n",
        "\n",
        "So, for 3% significance level, you would have only one critical region on the `right side` with a total area of 0.03\n",
        "\n",
        "This means that the area till the critical point\n",
        "\n",
        "(the cumulative probability of that point) would be\n",
        "\n",
        "    1 - 0.030 = 0.970\n",
        "\n",
        "So, you need to find the `z-value of 0.970`\n",
        "\n",
        "The z-score for 0.9699 (~0.970) in the z-table is `1.88`"
      ],
      "metadata": {
        "id": "SFKUD8EPky1T"
      }
    },
    {
      "cell_type": "markdown",
      "source": [
        "Critical Value Method\n",
        "--------\n",
        "\n",
        "Now, you need to find out the critical values and make a decision on whether to raise a regulatory alarm against Sunshine or not.\n",
        "\n",
        "Select the correct option.\n",
        "\n",
        "    Critical value = 2.61 ppm and\n",
        "    Decision: Raise a regulatory alarm\n",
        "\n",
        "    Critical value = 2.63 ppm and\n",
        "    Decision: Raise a regulatory alarm\n",
        "\n",
        "    Critical value = 2.61 ppm and\n",
        "    Decision: Don’t raise a regulatory alarm\n",
        "\n",
        "    Critical value = 2.63 ppm and\n",
        "    Decision: Don’t a raise a regulatory alarm\n",
        "\n",
        "---------\n",
        "\n",
        "    Critical value = 2.61 ppm and\n",
        "    Decision: Don’t raise a regulatory alarm\n",
        "\n",
        "    ✓ Correct\n",
        "    Feedback:\n",
        "\n",
        "The critical value can be calculated from μ + Zc * (σ / ​√ N​),\n",
        "\n",
        "as 2.5 + 1.88 * (0.6 /​√ 100​) = 2.61 ppm\n",
        "\n",
        "You need to use the `+ sign` since the critical value is on the `right-hand side` (upper-tailed test).\n",
        "\n",
        "    Since the sample mean 2.6 ppm is less than the critical value (2.61 ppm),\n",
        "\n",
        "you fail to reject the null hypothesis and `don’t raise a regulatory alarm` against Sunshine."
      ],
      "metadata": {
        "id": "1xDYjYZjm7Mz"
      }
    },
    {
      "cell_type": "code",
      "source": [
        "n, μ, s, z = 100, 2.5, 0.6, 1.88\n",
        "x = 2.6\n",
        "\n",
        "ci = con_int(n, μ, s, z)\n",
        "ci"
      ],
      "metadata": {
        "colab": {
          "base_uri": "https://localhost:8080/"
        },
        "id": "t0QIPgfmgKmd",
        "outputId": "7952ecbf-a2fc-4702-e600-a46f9174493f"
      },
      "execution_count": null,
      "outputs": [
        {
          "output_type": "execute_result",
          "data": {
            "text/plain": [
              "(2.3872, 2.6128)"
            ]
          },
          "metadata": {},
          "execution_count": 7
        }
      ]
    },
    {
      "cell_type": "code",
      "source": [
        "x < ci[1]"
      ],
      "metadata": {
        "colab": {
          "base_uri": "https://localhost:8080/"
        },
        "id": "JwWjq37VnbFc",
        "outputId": "219bc76c-9734-4efa-b6d3-9d7fecf48684"
      },
      "execution_count": null,
      "outputs": [
        {
          "output_type": "execute_result",
          "data": {
            "text/plain": [
              "True"
            ]
          },
          "metadata": {},
          "execution_count": 8
        }
      ]
    },
    {
      "cell_type": "markdown",
      "source": [
        "Critical Value Method\n",
        "--------\n",
        "\n",
        "The critical value for this test at 3% significance level comes out to be 2.61 ppm.\n",
        "\n",
        "If you take more than 100 samples\n",
        "\n",
        "(with the same sample mean and standard deviation),\n",
        "\n",
        "how would the z-score and critical value change?\n",
        "\n",
        "    Both the z-score and\n",
        "    the critical value would increase\n",
        "\n",
        "    The z-score would remain the same but\n",
        "    the critical value would increase\n",
        "\n",
        "    The z-score would remain the same but\n",
        "    the critical value would decrease\n",
        "\n",
        "    Both the z-score and\n",
        "    the critical value would remain the same\n",
        "\n",
        "----------\n",
        "\n",
        "    The z-score would remain the same but\n",
        "    the critical value would decrease\n",
        "\n",
        "    ✓ Correct\n",
        "    Feedback:\n",
        "\n",
        "Since Zc is calculated from the given value of `α (3%)`, it remains the `same`.\n",
        "\n",
        "Critical value is calculated using the formula: `μ + Zc * (σ / ​√ N​)`, since it is an `upper-tailed test`.\n",
        "\n",
        "If you increase the value of N, the critical value would `decrease` according to the formula."
      ],
      "metadata": {
        "id": "Wyn51YSvpRkb"
      }
    },
    {
      "cell_type": "markdown",
      "source": [
        "# What exactly is the value of σ/√n?\n",
        "\n",
        "------------\n",
        "\n",
        "This part might seem a bit confusing if you aren't thorough with the concepts of Sampling distribution from the Inferential Statistics module.\n",
        "\n",
        "This value of `σ/√n` isn't the standard deviation of the sample or\n",
        "\n",
        "the population but rather it is the standard deviation of the sampling distribution for the given sample.\n",
        "\n",
        "We conduct our hypothesis test on the sampling distribution only.\n",
        "\n",
        "Thus when the standard deviation of the population isn't given, we take the sample's standard deviation to calculate the sampling distribution's standard deviation.\n",
        "\n",
        "This is a very important concept to know and you should be pretty confident in how we are manipulating the values here.\n",
        "\n",
        "We used this same concept in calculating the confidence intervals.\n",
        "\n",
        "In that case we used `S/√n` instead which denoted that we can only use the sample's standard deviation in that case."
      ],
      "metadata": {
        "id": "7gjB2imdqs96"
      }
    },
    {
      "cell_type": "code",
      "source": [],
      "metadata": {
        "id": "p2kT5oOEn1Nq"
      },
      "execution_count": null,
      "outputs": []
    }
  ]
}