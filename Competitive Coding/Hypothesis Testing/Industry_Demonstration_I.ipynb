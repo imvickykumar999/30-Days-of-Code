{
  "nbformat": 4,
  "nbformat_minor": 0,
  "metadata": {
    "colab": {
      "provenance": []
    },
    "kernelspec": {
      "name": "python3",
      "display_name": "Python 3"
    },
    "language_info": {
      "name": "python"
    }
  },
  "cells": [
    {
      "cell_type": "markdown",
      "source": [
        "# Business Understanding\n",
        "\n",
        "![ss](https://images.upgrad.com/e35d832d-a260-43dd-b657-b0cc899cfd11-Search%20CTR2.JPG)\n",
        "\n",
        "![ss](https://upww.screenrec.com/images/f_CPobD0xHJV2jYc5mBd4yNQtKMfIU7Rgp.png)\n",
        "\n",
        "    p − value(Area under the curve) = 1.0 − ( α / 2 ) = 1 − 0.025 = 0.975\n",
        "\n",
        "Failed to reject doesn't mean, we accepted Hypothesis, it just mean we don't have enough evidence to proof Hypothesis."
      ],
      "metadata": {
        "id": "Cp5_Evvxvz59"
      }
    },
    {
      "cell_type": "code",
      "source": [],
      "metadata": {
        "id": "Sj0Dggz8Eiqp"
      },
      "execution_count": null,
      "outputs": []
    }
  ]
}