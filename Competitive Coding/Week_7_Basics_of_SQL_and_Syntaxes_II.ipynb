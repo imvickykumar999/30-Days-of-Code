{
  "nbformat": 4,
  "nbformat_minor": 0,
  "metadata": {
    "colab": {
      "provenance": []
    },
    "kernelspec": {
      "name": "python3",
      "display_name": "Python 3"
    },
    "language_info": {
      "name": "python"
    }
  },
  "cells": [
    {
      "cell_type": "markdown",
      "source": [
        "# SQL Statements and Operators\n",
        "\n",
        "---------"
      ],
      "metadata": {
        "id": "tzVz-FQDy4J4"
      }
    },
    {
      "cell_type": "markdown",
      "source": [
        "Pattern Matching\n",
        "-----------\n",
        "\n",
        "What would be the output of the following query: 'select * from employee where first_name like \"%ee%\";'?\n",
        "\n",
        "---------------\n",
        "\n",
        "Answer:\n",
        "------------\n",
        "\n",
        "It will display the details of all the employees whose name contains ‘ee’.\n",
        "\n",
        "--------------\n",
        "\n",
        "Feedback:\n",
        "--------------\n",
        "\n",
        "The % character can replace any number of preceding and trailing characters.\n",
        "\n",
        "----------------"
      ],
      "metadata": {
        "id": "6vktS4URwUif"
      }
    },
    {
      "cell_type": "markdown",
      "source": [
        "Reading the Documentation\n",
        "------------\n",
        "\n",
        "Refer to the MySQL documentation online and answer the following question:\n",
        "\n",
        "Which of the following wildcards are supported in SQL?\n",
        "\n",
        "-------------------\n",
        "\n",
        "Both % and _ (underscore)\n",
        "\n",
        "----------\n",
        "\n",
        "% is a multi-character wildcard, whereas _ is a single-character wildcard. For example, using \"_r%\" would return the words with the second character as r, followed by zero or more characters at the end.\n",
        "\n",
        "-----------------"
      ],
      "metadata": {
        "id": "Xc2fxj6ywnka"
      }
    },
    {
      "cell_type": "markdown",
      "source": [
        "Operators\n",
        "----------\n",
        "\n",
        "With SQL, how do you select all the records from a table named ‘employees’ where the ‘LastName’ is alphabetically between (and includes) ‘Joshi’ and ‘Sharma’?\n",
        "\n",
        "----------------\n",
        "\n",
        "select * from employees where LastName between ‘Joshi’ and ‘Sharma’;\n",
        "\n",
        "-----------------\n",
        "\n",
        "This query will return employees who have Joshi and Sharma as surnames, along with all the surnames that are in-between alphabetically.\n",
        "\n",
        "----------------"
      ],
      "metadata": {
        "id": "rMTHjhq3w2A_"
      }
    },
    {
      "cell_type": "markdown",
      "source": [
        "Operators\n",
        "--------\n",
        "\n",
        "Which of the queries given below would return the same output? \n",
        "\n",
        "More than one option may be correct.\n",
        "\n",
        "-----------------\n",
        "\n",
        "select * from employees where EmpID in (2,3,4, 5);\n",
        "\n",
        "select * from employees where EmpID between 2 and 5;\n",
        "\n",
        "select * from employees where EmpID >= 2 and EmpID <= 5;\n",
        "\n",
        "--------------\n",
        "\n",
        "Feedback:\n",
        "\n",
        "This query will return the details of the employees with employee ids 2, 3, 4 and 5.\n",
        "\n",
        "-------------------"
      ],
      "metadata": {
        "id": "3m0ocQS3xtJc"
      }
    },
    {
      "cell_type": "markdown",
      "source": [
        "Basic Select\n",
        "------------\n",
        "\n",
        "Description\n",
        "\n",
        "Consider the following table employees containing the following columns:\n",
        "\n",
        "Employees\n",
        "\n",
        "![](https://media-doselect.s3.amazonaws.com/generic/OqNgkRAgJpJMpzxNJZMXNdYXR/Employee_Table.PNG)\n",
        "\n",
        "Write a query to determine the first names of all employees.\n",
        "\n",
        "----------------------\n",
        "\n",
        "Query\n",
        "--------\n",
        "\n",
        "    use upgrad;\n",
        "\n",
        "    # Write your code below\n",
        "    select firstname from Employees;"
      ],
      "metadata": {
        "id": "Q8CZlJQCx-r0"
      }
    },
    {
      "cell_type": "markdown",
      "source": [
        "# https://live.upgrad.com/_join/uVyRNU0YUPjLltGs6xRdD5s9VkKUSEIW"
      ],
      "metadata": {
        "id": "_uhb-XnJYWLE"
      }
    },
    {
      "cell_type": "markdown",
      "source": [
        "## LOAD SQL"
      ],
      "metadata": {
        "id": "jYTw6oY-gS7R"
      }
    },
    {
      "cell_type": "code",
      "source": [
        "%load_ext sql"
      ],
      "metadata": {
        "id": "xWL9EMA5WyGs"
      },
      "execution_count": 2,
      "outputs": []
    },
    {
      "cell_type": "code",
      "source": [
        "%%sql \n",
        "\n",
        "sqlite:///test.db"
      ],
      "metadata": {
        "id": "2JWSvA2FW66z"
      },
      "execution_count": 5,
      "outputs": []
    },
    {
      "cell_type": "markdown",
      "source": [
        "## RUN SQL"
      ],
      "metadata": {
        "id": "qcjgJEMqgXun"
      }
    },
    {
      "cell_type": "code",
      "source": [
        "%%sql \n",
        "\n",
        "create table sample(column_1 int, column_2 varchar)"
      ],
      "metadata": {
        "colab": {
          "base_uri": "https://localhost:8080/"
        },
        "id": "yWAgwWx2WdQr",
        "outputId": "2cc96985-abd1-4a1c-9321-3416975f97a4"
      },
      "execution_count": 6,
      "outputs": [
        {
          "output_type": "stream",
          "name": "stdout",
          "text": [
            " * sqlite:///test.db\n",
            "Done.\n"
          ]
        },
        {
          "output_type": "execute_result",
          "data": {
            "text/plain": [
              "[]"
            ]
          },
          "metadata": {},
          "execution_count": 6
        }
      ]
    },
    {
      "cell_type": "code",
      "source": [
        "%%sql\n",
        "\n",
        "select * from sample"
      ],
      "metadata": {
        "colab": {
          "base_uri": "https://localhost:8080/",
          "height": 74
        },
        "id": "1d3eNfGQWgIM",
        "outputId": "f6eb410f-bc37-49e3-b187-5b73027b3208"
      },
      "execution_count": 7,
      "outputs": [
        {
          "output_type": "stream",
          "name": "stdout",
          "text": [
            " * sqlite:///test.db\n",
            "Done.\n"
          ]
        },
        {
          "output_type": "execute_result",
          "data": {
            "text/plain": [
              "[]"
            ],
            "text/html": [
              "<table>\n",
              "    <tr>\n",
              "        <th>column_1</th>\n",
              "        <th>column_2</th>\n",
              "    </tr>\n",
              "</table>"
            ]
          },
          "metadata": {},
          "execution_count": 7
        }
      ]
    },
    {
      "cell_type": "code",
      "source": [
        "%%sql \n",
        "\n",
        "CREATE TABLE Subject ( Sub_ID INT, Sub_Name varchar(20) );"
      ],
      "metadata": {
        "colab": {
          "base_uri": "https://localhost:8080/"
        },
        "id": "xi9vcKTmXeBK",
        "outputId": "deb05a6e-d51d-4833-ed1f-8bed251cb552"
      },
      "execution_count": 8,
      "outputs": [
        {
          "output_type": "stream",
          "name": "stdout",
          "text": [
            " * sqlite:///test.db\n",
            "Done.\n"
          ]
        },
        {
          "output_type": "execute_result",
          "data": {
            "text/plain": [
              "[]"
            ]
          },
          "metadata": {},
          "execution_count": 8
        }
      ]
    },
    {
      "cell_type": "code",
      "source": [
        "%%sql\n",
        "\n",
        "select * from Subject"
      ],
      "metadata": {
        "colab": {
          "base_uri": "https://localhost:8080/",
          "height": 74
        },
        "id": "6D8MzRQcYIqH",
        "outputId": "bba549d1-5e93-4e74-d32e-b67a3059486d"
      },
      "execution_count": 9,
      "outputs": [
        {
          "output_type": "stream",
          "name": "stdout",
          "text": [
            " * sqlite:///test.db\n",
            "Done.\n"
          ]
        },
        {
          "output_type": "execute_result",
          "data": {
            "text/plain": [
              "[]"
            ],
            "text/html": [
              "<table>\n",
              "    <tr>\n",
              "        <th>Sub_ID</th>\n",
              "        <th>Sub_Name</th>\n",
              "    </tr>\n",
              "</table>"
            ]
          },
          "metadata": {},
          "execution_count": 9
        }
      ]
    },
    {
      "cell_type": "code",
      "source": [
        "%%sql \n",
        "\n",
        "Insert into Subject Values (1,'English'); \n",
        "\n",
        "Insert into Subject(Sub_Name) Values ('Hindi'); \n",
        "\n",
        "Insert into Subject Values (1,'English'), (2,'French'), (2,'Science'), (2,'Maths');"
      ],
      "metadata": {
        "colab": {
          "base_uri": "https://localhost:8080/"
        },
        "id": "cIOQHuihYNPY",
        "outputId": "d6b4ab1f-1520-4956-9868-ced2b53fec8d"
      },
      "execution_count": 10,
      "outputs": [
        {
          "output_type": "stream",
          "name": "stdout",
          "text": [
            " * sqlite:///test.db\n",
            "1 rows affected.\n",
            "1 rows affected.\n",
            "4 rows affected.\n"
          ]
        },
        {
          "output_type": "execute_result",
          "data": {
            "text/plain": [
              "[]"
            ]
          },
          "metadata": {},
          "execution_count": 10
        }
      ]
    },
    {
      "cell_type": "code",
      "source": [
        "%%sql\n",
        "\n",
        "Insert into Subject(Sub_Name) Values ('Spanish'); \n",
        "\n",
        "select * from Subject"
      ],
      "metadata": {
        "colab": {
          "base_uri": "https://localhost:8080/",
          "height": 238
        },
        "id": "EHwPgOopYq7D",
        "outputId": "7bf513a6-2acf-42e0-94bf-780fc502ec82"
      },
      "execution_count": 12,
      "outputs": [
        {
          "output_type": "stream",
          "name": "stdout",
          "text": [
            " * sqlite:///test.db\n",
            "1 rows affected.\n",
            "Done.\n"
          ]
        },
        {
          "output_type": "execute_result",
          "data": {
            "text/plain": [
              "[(1, 'English'),\n",
              " (None, 'Hindi'),\n",
              " (1, 'English'),\n",
              " (2, 'French'),\n",
              " (2, 'Science'),\n",
              " (2, 'Maths'),\n",
              " (None, 'Spanish')]"
            ],
            "text/html": [
              "<table>\n",
              "    <tr>\n",
              "        <th>Sub_ID</th>\n",
              "        <th>Sub_Name</th>\n",
              "    </tr>\n",
              "    <tr>\n",
              "        <td>1</td>\n",
              "        <td>English</td>\n",
              "    </tr>\n",
              "    <tr>\n",
              "        <td>None</td>\n",
              "        <td>Hindi</td>\n",
              "    </tr>\n",
              "    <tr>\n",
              "        <td>1</td>\n",
              "        <td>English</td>\n",
              "    </tr>\n",
              "    <tr>\n",
              "        <td>2</td>\n",
              "        <td>French</td>\n",
              "    </tr>\n",
              "    <tr>\n",
              "        <td>2</td>\n",
              "        <td>Science</td>\n",
              "    </tr>\n",
              "    <tr>\n",
              "        <td>2</td>\n",
              "        <td>Maths</td>\n",
              "    </tr>\n",
              "    <tr>\n",
              "        <td>None</td>\n",
              "        <td>Spanish</td>\n",
              "    </tr>\n",
              "</table>"
            ]
          },
          "metadata": {},
          "execution_count": 12
        }
      ]
    },
    {
      "cell_type": "code",
      "source": [
        "%%sql \n",
        "\n",
        "insert into sample values (1,'abc'),(2,'abcd'); \n",
        "\n",
        "select * from sample;"
      ],
      "metadata": {
        "colab": {
          "base_uri": "https://localhost:8080/",
          "height": 134
        },
        "id": "6Xq72scgYs_B",
        "outputId": "29f3d46b-1f5f-4951-bd12-3db4a18e0194"
      },
      "execution_count": 13,
      "outputs": [
        {
          "output_type": "stream",
          "name": "stdout",
          "text": [
            " * sqlite:///test.db\n",
            "2 rows affected.\n",
            "Done.\n"
          ]
        },
        {
          "output_type": "execute_result",
          "data": {
            "text/plain": [
              "[(1, 'abc'), (2, 'abcd')]"
            ],
            "text/html": [
              "<table>\n",
              "    <tr>\n",
              "        <th>column_1</th>\n",
              "        <th>column_2</th>\n",
              "    </tr>\n",
              "    <tr>\n",
              "        <td>1</td>\n",
              "        <td>abc</td>\n",
              "    </tr>\n",
              "    <tr>\n",
              "        <td>2</td>\n",
              "        <td>abcd</td>\n",
              "    </tr>\n",
              "</table>"
            ]
          },
          "metadata": {},
          "execution_count": 13
        }
      ]
    },
    {
      "cell_type": "code",
      "source": [
        "%%sql select * from Subject"
      ],
      "metadata": {
        "colab": {
          "base_uri": "https://localhost:8080/",
          "height": 221
        },
        "id": "t6o8Grz2ZPAp",
        "outputId": "f78b5745-8579-498e-d294-7f1ace52962a"
      },
      "execution_count": 14,
      "outputs": [
        {
          "output_type": "stream",
          "name": "stdout",
          "text": [
            " * sqlite:///test.db\n",
            "Done.\n"
          ]
        },
        {
          "output_type": "execute_result",
          "data": {
            "text/plain": [
              "[(1, 'English'),\n",
              " (None, 'Hindi'),\n",
              " (1, 'English'),\n",
              " (2, 'French'),\n",
              " (2, 'Science'),\n",
              " (2, 'Maths'),\n",
              " (None, 'Spanish')]"
            ],
            "text/html": [
              "<table>\n",
              "    <tr>\n",
              "        <th>Sub_ID</th>\n",
              "        <th>Sub_Name</th>\n",
              "    </tr>\n",
              "    <tr>\n",
              "        <td>1</td>\n",
              "        <td>English</td>\n",
              "    </tr>\n",
              "    <tr>\n",
              "        <td>None</td>\n",
              "        <td>Hindi</td>\n",
              "    </tr>\n",
              "    <tr>\n",
              "        <td>1</td>\n",
              "        <td>English</td>\n",
              "    </tr>\n",
              "    <tr>\n",
              "        <td>2</td>\n",
              "        <td>French</td>\n",
              "    </tr>\n",
              "    <tr>\n",
              "        <td>2</td>\n",
              "        <td>Science</td>\n",
              "    </tr>\n",
              "    <tr>\n",
              "        <td>2</td>\n",
              "        <td>Maths</td>\n",
              "    </tr>\n",
              "    <tr>\n",
              "        <td>None</td>\n",
              "        <td>Spanish</td>\n",
              "    </tr>\n",
              "</table>"
            ]
          },
          "metadata": {},
          "execution_count": 14
        }
      ]
    },
    {
      "cell_type": "code",
      "source": [
        "%%sql \n",
        "\n",
        "CREATE TABLE Student ( ID int(6) NOT NULL, NAME varchar(10) NOT NULL, ADDRESS varchar(20) );"
      ],
      "metadata": {
        "colab": {
          "base_uri": "https://localhost:8080/"
        },
        "id": "Z0ahocUdZUAe",
        "outputId": "fe0693cb-6132-4807-e375-b2599ce321d3"
      },
      "execution_count": 16,
      "outputs": [
        {
          "output_type": "stream",
          "name": "stdout",
          "text": [
            " * sqlite:///test.db\n",
            "(sqlite3.OperationalError) table Student already exists\n",
            "[SQL: CREATE TABLE Student ( ID int(6) NOT NULL, NAME varchar(10) NOT NULL, ADDRESS varchar(20) );]\n",
            "(Background on this error at: https://sqlalche.me/e/14/e3q8)\n"
          ]
        }
      ]
    },
    {
      "cell_type": "code",
      "source": [
        "%%sql \n",
        "\n",
        "Insert into Student(ID, ADDRESS) Values(1,'Banglore');"
      ],
      "metadata": {
        "colab": {
          "base_uri": "https://localhost:8080/"
        },
        "id": "2tAFvuPaZ_CW",
        "outputId": "b4536212-675f-487d-fe86-df012ba5b779"
      },
      "execution_count": 17,
      "outputs": [
        {
          "output_type": "stream",
          "name": "stdout",
          "text": [
            " * sqlite:///test.db\n",
            "(sqlite3.IntegrityError) NOT NULL constraint failed: Student.NAME\n",
            "[SQL: Insert into Student(ID, ADDRESS) Values(1,'Banglore');]\n",
            "(Background on this error at: https://sqlalche.me/e/14/gkpj)\n"
          ]
        }
      ]
    },
    {
      "cell_type": "code",
      "source": [
        "%%sql \n",
        "\n",
        "Insert into Student Values (1,NULL,'Banglore');"
      ],
      "metadata": {
        "colab": {
          "base_uri": "https://localhost:8080/"
        },
        "id": "ph71b-H0bDUb",
        "outputId": "9fd0349f-37bc-4a69-aac6-a1831e220b41"
      },
      "execution_count": 19,
      "outputs": [
        {
          "output_type": "stream",
          "name": "stdout",
          "text": [
            " * sqlite:///test.db\n",
            "(sqlite3.IntegrityError) NOT NULL constraint failed: Student.NAME\n",
            "[SQL: Insert into Student Values (1,NULL,'Banglore');]\n",
            "(Background on this error at: https://sqlalche.me/e/14/gkpj)\n"
          ]
        }
      ]
    },
    {
      "cell_type": "code",
      "source": [
        "%%sql \n",
        "\n",
        "CREATE TABLE Student1 ( ID int(6) NOT NULL UNIQUE, NAME varchar(10), ADDRESS varchar(20) );"
      ],
      "metadata": {
        "colab": {
          "base_uri": "https://localhost:8080/"
        },
        "id": "n40vIVZmaLGZ",
        "outputId": "80d31cc1-5172-425f-82d3-37c8ebdbe64d"
      },
      "execution_count": 18,
      "outputs": [
        {
          "output_type": "stream",
          "name": "stdout",
          "text": [
            " * sqlite:///test.db\n",
            "Done.\n"
          ]
        },
        {
          "output_type": "execute_result",
          "data": {
            "text/plain": [
              "[]"
            ]
          },
          "metadata": {},
          "execution_count": 18
        }
      ]
    },
    {
      "cell_type": "code",
      "source": [
        "%%sql \n",
        "\n",
        "Insert into Student1 Values (1,'Deepak','Banglore');"
      ],
      "metadata": {
        "colab": {
          "base_uri": "https://localhost:8080/"
        },
        "id": "mENrDDvBbZa-",
        "outputId": "a0848ba0-b023-4e5f-c90f-b7368667b08e"
      },
      "execution_count": 22,
      "outputs": [
        {
          "output_type": "stream",
          "name": "stdout",
          "text": [
            " * sqlite:///test.db\n",
            "(sqlite3.IntegrityError) UNIQUE constraint failed: Student1.ID\n",
            "[SQL: Insert into Student1 Values (1,'Deepak','Banglore');]\n",
            "(Background on this error at: https://sqlalche.me/e/14/gkpj)\n"
          ]
        }
      ]
    },
    {
      "cell_type": "code",
      "source": [
        "%%sql \n",
        "\n",
        "Insert into Student1 Values (2,'Deepak','Banglore')"
      ],
      "metadata": {
        "colab": {
          "base_uri": "https://localhost:8080/"
        },
        "id": "Eggqo-lfbJgx",
        "outputId": "40e29af7-dd8c-48ac-af3f-12525afacd92"
      },
      "execution_count": 24,
      "outputs": [
        {
          "output_type": "stream",
          "name": "stdout",
          "text": [
            " * sqlite:///test.db\n",
            "1 rows affected.\n"
          ]
        },
        {
          "output_type": "execute_result",
          "data": {
            "text/plain": [
              "[]"
            ]
          },
          "metadata": {},
          "execution_count": 24
        }
      ]
    },
    {
      "cell_type": "code",
      "source": [
        "%%sql \n",
        "\n",
        "CREATE TABLE Student2 ( ID int(6), NAME varchar(10), ADDRESS varchar(20), PRIMARY KEY(ID) )"
      ],
      "metadata": {
        "colab": {
          "base_uri": "https://localhost:8080/"
        },
        "id": "x1gDoShEbjvw",
        "outputId": "1084fd32-fd79-4c9c-c839-b5240b241b84"
      },
      "execution_count": 25,
      "outputs": [
        {
          "output_type": "stream",
          "name": "stdout",
          "text": [
            " * sqlite:///test.db\n",
            "Done.\n"
          ]
        },
        {
          "output_type": "execute_result",
          "data": {
            "text/plain": [
              "[]"
            ]
          },
          "metadata": {},
          "execution_count": 25
        }
      ]
    },
    {
      "cell_type": "code",
      "source": [
        "%%sql \n",
        "\n",
        "Insert into Student2 Values (2,'Deepak','Banglore')"
      ],
      "metadata": {
        "colab": {
          "base_uri": "https://localhost:8080/"
        },
        "id": "FXhrummjcdvJ",
        "outputId": "6f9a5254-2ca3-47c6-faaf-2887d443ff0f"
      },
      "execution_count": 26,
      "outputs": [
        {
          "output_type": "stream",
          "name": "stdout",
          "text": [
            " * sqlite:///test.db\n",
            "1 rows affected.\n"
          ]
        },
        {
          "output_type": "execute_result",
          "data": {
            "text/plain": [
              "[]"
            ]
          },
          "metadata": {},
          "execution_count": 26
        }
      ]
    },
    {
      "cell_type": "code",
      "source": [
        "%%sql \n",
        "\n",
        "Insert into Student2 Values (2,'Deepak','Banglore')"
      ],
      "metadata": {
        "colab": {
          "base_uri": "https://localhost:8080/"
        },
        "id": "hdg7_QUFcf3s",
        "outputId": "7b6e1ec6-5265-4292-dfa2-a054436f603e"
      },
      "execution_count": 27,
      "outputs": [
        {
          "output_type": "stream",
          "name": "stdout",
          "text": [
            " * sqlite:///test.db\n",
            "(sqlite3.IntegrityError) UNIQUE constraint failed: Student2.ID\n",
            "[SQL: Insert into Student2 Values (2,'Deepak','Banglore')]\n",
            "(Background on this error at: https://sqlalche.me/e/14/gkpj)\n"
          ]
        }
      ]
    },
    {
      "cell_type": "code",
      "source": [
        "%%sql \n",
        "\n",
        "CREATE TABLE Student3 ( ID int(6) NOT NULL, NAME varchar(10) NOT NULL, AGE int NOT NULL CHECK (AGE >= 18) )"
      ],
      "metadata": {
        "colab": {
          "base_uri": "https://localhost:8080/"
        },
        "id": "Z6F1gcdOci9j",
        "outputId": "d62559e9-b10c-4529-8cc5-551b2b6c0c96"
      },
      "execution_count": 28,
      "outputs": [
        {
          "output_type": "stream",
          "name": "stdout",
          "text": [
            " * sqlite:///test.db\n",
            "Done.\n"
          ]
        },
        {
          "output_type": "execute_result",
          "data": {
            "text/plain": [
              "[]"
            ]
          },
          "metadata": {},
          "execution_count": 28
        }
      ]
    },
    {
      "cell_type": "code",
      "source": [
        "%%sql \n",
        "\n",
        "Insert into Student3 Values (2,'Deepak',13)"
      ],
      "metadata": {
        "colab": {
          "base_uri": "https://localhost:8080/"
        },
        "id": "BLz1HUGZdEgI",
        "outputId": "735f5796-4d9d-445b-f774-31fd8e40eba2"
      },
      "execution_count": 29,
      "outputs": [
        {
          "output_type": "stream",
          "name": "stdout",
          "text": [
            " * sqlite:///test.db\n",
            "(sqlite3.IntegrityError) CHECK constraint failed: Student3\n",
            "[SQL: Insert into Student3 Values (2,'Deepak',13)]\n",
            "(Background on this error at: https://sqlalche.me/e/14/gkpj)\n"
          ]
        }
      ]
    },
    {
      "cell_type": "code",
      "source": [
        "%%sql \n",
        "\n",
        "CREATE TABLE Student4 ( ID int(6) NOT NULL, NAME varchar(10) NOT NULL, AGE int DEFAULT 18 );"
      ],
      "metadata": {
        "colab": {
          "base_uri": "https://localhost:8080/"
        },
        "id": "KUt_e5TUdM1K",
        "outputId": "e6c2cacc-6895-46f7-890a-d80285ca917f"
      },
      "execution_count": 30,
      "outputs": [
        {
          "output_type": "stream",
          "name": "stdout",
          "text": [
            " * sqlite:///test.db\n",
            "Done.\n"
          ]
        },
        {
          "output_type": "execute_result",
          "data": {
            "text/plain": [
              "[]"
            ]
          },
          "metadata": {},
          "execution_count": 30
        }
      ]
    },
    {
      "cell_type": "code",
      "source": [
        "%%sql \n",
        "\n",
        "Insert into Student4(ID, NAME) Values(4,'jAIN ');\n",
        "\n",
        "SELECT * FROM Student4"
      ],
      "metadata": {
        "colab": {
          "base_uri": "https://localhost:8080/",
          "height": 113
        },
        "id": "tVpwB_q5dzlW",
        "outputId": "c009b80a-fdac-4f31-d53a-40e660167528"
      },
      "execution_count": 33,
      "outputs": [
        {
          "output_type": "stream",
          "name": "stdout",
          "text": [
            " * sqlite:///test.db\n",
            "1 rows affected.\n",
            "Done.\n"
          ]
        },
        {
          "output_type": "execute_result",
          "data": {
            "text/plain": [
              "[(4, 'jAIN ', 18)]"
            ],
            "text/html": [
              "<table>\n",
              "    <tr>\n",
              "        <th>ID</th>\n",
              "        <th>NAME</th>\n",
              "        <th>AGE</th>\n",
              "    </tr>\n",
              "    <tr>\n",
              "        <td>4</td>\n",
              "        <td>jAIN </td>\n",
              "        <td>18</td>\n",
              "    </tr>\n",
              "</table>"
            ]
          },
          "metadata": {},
          "execution_count": 33
        }
      ]
    },
    {
      "cell_type": "code",
      "source": [
        "%%sql \n",
        "\n",
        "CREATE TABLE Customers ( C_ID int NOT NULL, NAME VARCHAR(10) NOT NULL, ADDRESS VARCHAR(30) )"
      ],
      "metadata": {
        "colab": {
          "base_uri": "https://localhost:8080/"
        },
        "id": "vDrRfPBgd85A",
        "outputId": "3fc25bf5-7b90-46b1-9d25-142ac016f537"
      },
      "execution_count": 34,
      "outputs": [
        {
          "output_type": "stream",
          "name": "stdout",
          "text": [
            " * sqlite:///test.db\n",
            "Done.\n"
          ]
        },
        {
          "output_type": "execute_result",
          "data": {
            "text/plain": [
              "[]"
            ]
          },
          "metadata": {},
          "execution_count": 34
        }
      ]
    },
    {
      "cell_type": "code",
      "source": [
        "%%sql Insert into Customers Values (2,'Deepak','Banglore')"
      ],
      "metadata": {
        "colab": {
          "base_uri": "https://localhost:8080/"
        },
        "id": "QENbGHFlesvk",
        "outputId": "c9fa3293-73c5-4375-dcfa-1cdf5650049a"
      },
      "execution_count": 35,
      "outputs": [
        {
          "output_type": "stream",
          "name": "stdout",
          "text": [
            " * sqlite:///test.db\n",
            "1 rows affected.\n"
          ]
        },
        {
          "output_type": "execute_result",
          "data": {
            "text/plain": [
              "[]"
            ]
          },
          "metadata": {},
          "execution_count": 35
        }
      ]
    },
    {
      "cell_type": "code",
      "source": [
        "%%sql select * from Customers"
      ],
      "metadata": {
        "colab": {
          "base_uri": "https://localhost:8080/",
          "height": 95
        },
        "id": "KPZH-U8xe6Mp",
        "outputId": "e2bb55fd-adcc-4413-992e-99d8cbbce2a5"
      },
      "execution_count": 44,
      "outputs": [
        {
          "output_type": "stream",
          "name": "stdout",
          "text": [
            " * sqlite:///test.db\n",
            "Done.\n"
          ]
        },
        {
          "output_type": "execute_result",
          "data": {
            "text/plain": [
              "[(2, 'Deepak', 'Banglore')]"
            ],
            "text/html": [
              "<table>\n",
              "    <tr>\n",
              "        <th>C_ID</th>\n",
              "        <th>NAME</th>\n",
              "        <th>ADDRESS</th>\n",
              "    </tr>\n",
              "    <tr>\n",
              "        <td>2</td>\n",
              "        <td>Deepak</td>\n",
              "        <td>Banglore</td>\n",
              "    </tr>\n",
              "</table>"
            ]
          },
          "metadata": {},
          "execution_count": 44
        }
      ]
    },
    {
      "cell_type": "code",
      "source": [
        "%%sql \n",
        "\n",
        "CREATE TABLE Orders ( O_ID int NOT NULL, ORDER_NO int NOT NULL, C_ID int, PRIMARY KEY (O_ID), FOREIGN KEY (C_ID) REFERENCES Customers(C_ID) )"
      ],
      "metadata": {
        "colab": {
          "base_uri": "https://localhost:8080/"
        },
        "id": "M6R6QlUne7bt",
        "outputId": "808c8da8-05aa-47b7-cfb3-9b9e69e96c91"
      },
      "execution_count": 37,
      "outputs": [
        {
          "output_type": "stream",
          "name": "stdout",
          "text": [
            " * sqlite:///test.db\n",
            "Done.\n"
          ]
        },
        {
          "output_type": "execute_result",
          "data": {
            "text/plain": [
              "[]"
            ]
          },
          "metadata": {},
          "execution_count": 37
        }
      ]
    },
    {
      "cell_type": "code",
      "source": [
        "%%sql Insert into Orders Values (200,'o200',2)"
      ],
      "metadata": {
        "colab": {
          "base_uri": "https://localhost:8080/"
        },
        "id": "0CW0V6-AfKpf",
        "outputId": "628f5dcc-9a1d-4bfc-941f-d12818cb1c9d"
      },
      "execution_count": 40,
      "outputs": [
        {
          "output_type": "stream",
          "name": "stdout",
          "text": [
            " * sqlite:///test.db\n",
            "1 rows affected.\n"
          ]
        },
        {
          "output_type": "execute_result",
          "data": {
            "text/plain": [
              "[]"
            ]
          },
          "metadata": {},
          "execution_count": 40
        }
      ]
    },
    {
      "cell_type": "code",
      "source": [
        "%%sql select * from Orders"
      ],
      "metadata": {
        "colab": {
          "base_uri": "https://localhost:8080/",
          "height": 95
        },
        "id": "g1BxoNZefIXo",
        "outputId": "cc487b77-ecda-4315-a3a9-2a76804ee41e"
      },
      "execution_count": 43,
      "outputs": [
        {
          "output_type": "stream",
          "name": "stdout",
          "text": [
            " * sqlite:///test.db\n",
            "Done.\n"
          ]
        },
        {
          "output_type": "execute_result",
          "data": {
            "text/plain": [
              "[(200, 'o200', 2)]"
            ],
            "text/html": [
              "<table>\n",
              "    <tr>\n",
              "        <th>O_ID</th>\n",
              "        <th>ORDER_NO</th>\n",
              "        <th>C_ID</th>\n",
              "    </tr>\n",
              "    <tr>\n",
              "        <td>200</td>\n",
              "        <td>o200</td>\n",
              "        <td>2</td>\n",
              "    </tr>\n",
              "</table>"
            ]
          },
          "metadata": {},
          "execution_count": 43
        }
      ]
    },
    {
      "cell_type": "code",
      "source": [
        "%%sql Insert into Orders Values (200,'o200',3)"
      ],
      "metadata": {
        "colab": {
          "base_uri": "https://localhost:8080/"
        },
        "id": "KshF5obrfR86",
        "outputId": "df097380-3a16-44ef-b158-5caa93a30094"
      },
      "execution_count": 42,
      "outputs": [
        {
          "output_type": "stream",
          "name": "stdout",
          "text": [
            " * sqlite:///test.db\n",
            "(sqlite3.IntegrityError) UNIQUE constraint failed: Orders.O_ID\n",
            "[SQL: Insert into Orders Values (200,'o200',3)]\n",
            "(Background on this error at: https://sqlalche.me/e/14/gkpj)\n"
          ]
        }
      ]
    },
    {
      "cell_type": "code",
      "source": [
        "%%sql Insert into Orders Values (300,'o300',3)"
      ],
      "metadata": {
        "colab": {
          "base_uri": "https://localhost:8080/"
        },
        "id": "TfKHZbKZfbDW",
        "outputId": "37645009-b76d-4e02-9036-0cd775e39f2f"
      },
      "execution_count": 45,
      "outputs": [
        {
          "output_type": "stream",
          "name": "stdout",
          "text": [
            " * sqlite:///test.db\n",
            "1 rows affected.\n"
          ]
        },
        {
          "output_type": "execute_result",
          "data": {
            "text/plain": [
              "[]"
            ]
          },
          "metadata": {},
          "execution_count": 45
        }
      ]
    },
    {
      "cell_type": "code",
      "source": [],
      "metadata": {
        "id": "AfZxiHO6gDa6"
      },
      "execution_count": null,
      "outputs": []
    }
  ]
}