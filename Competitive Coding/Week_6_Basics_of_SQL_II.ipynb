{
  "nbformat": 4,
  "nbformat_minor": 0,
  "metadata": {
    "colab": {
      "provenance": []
    },
    "kernelspec": {
      "name": "python3",
      "display_name": "Python 3"
    },
    "language_info": {
      "name": "python"
    }
  },
  "cells": [
    {
      "cell_type": "markdown",
      "source": [
        "# SQL Statements and Operators\n",
        "\n",
        "---------"
      ],
      "metadata": {
        "id": "tzVz-FQDy4J4"
      }
    },
    {
      "cell_type": "markdown",
      "source": [
        "Pattern Matching\n",
        "-----------\n",
        "\n",
        "What would be the output of the following query: 'select * from employee where first_name like \"%ee%\";'?\n",
        "\n",
        "---------------\n",
        "\n",
        "Answer:\n",
        "------------\n",
        "\n",
        "It will display the details of all the employees whose name contains ‘ee’.\n",
        "\n",
        "--------------\n",
        "\n",
        "Feedback:\n",
        "--------------\n",
        "\n",
        "The % character can replace any number of preceding and trailing characters.\n",
        "\n",
        "----------------"
      ],
      "metadata": {
        "id": "6vktS4URwUif"
      }
    },
    {
      "cell_type": "markdown",
      "source": [
        "Reading the Documentation\n",
        "------------\n",
        "\n",
        "Refer to the MySQL documentation online and answer the following question:\n",
        "\n",
        "Which of the following wildcards are supported in SQL?\n",
        "\n",
        "-------------------\n",
        "\n",
        "Both % and _ (underscore)\n",
        "\n",
        "----------\n",
        "\n",
        "% is a multi-character wildcard, whereas _ is a single-character wildcard. For example, using \"_r%\" would return the words with the second character as r, followed by zero or more characters at the end.\n",
        "\n",
        "-----------------"
      ],
      "metadata": {
        "id": "Xc2fxj6ywnka"
      }
    },
    {
      "cell_type": "markdown",
      "source": [
        "Operators\n",
        "----------\n",
        "\n",
        "With SQL, how do you select all the records from a table named ‘employees’ where the ‘LastName’ is alphabetically between (and includes) ‘Joshi’ and ‘Sharma’?\n",
        "\n",
        "----------------\n",
        "\n",
        "select * from employees where LastName between ‘Joshi’ and ‘Sharma’;\n",
        "\n",
        "-----------------\n",
        "\n",
        "This query will return employees who have Joshi and Sharma as surnames, along with all the surnames that are in-between alphabetically.\n",
        "\n",
        "----------------"
      ],
      "metadata": {
        "id": "rMTHjhq3w2A_"
      }
    },
    {
      "cell_type": "markdown",
      "source": [
        "Operators\n",
        "--------\n",
        "\n",
        "Which of the queries given below would return the same output? \n",
        "\n",
        "More than one option may be correct.\n",
        "\n",
        "-----------------\n",
        "\n",
        "select * from employees where EmpID in (2,3,4, 5);\n",
        "\n",
        "select * from employees where EmpID between 2 and 5;\n",
        "\n",
        "select * from employees where EmpID >= 2 and EmpID <= 5;\n",
        "\n",
        "--------------\n",
        "\n",
        "Feedback:\n",
        "\n",
        "This query will return the details of the employees with employee ids 2, 3, 4 and 5.\n",
        "\n",
        "-------------------"
      ],
      "metadata": {
        "id": "3m0ocQS3xtJc"
      }
    },
    {
      "cell_type": "markdown",
      "source": [
        "Basic Select\n",
        "------------\n",
        "\n",
        "Description\n",
        "\n",
        "Consider the following table employees containing the following columns:\n",
        "\n",
        "Employees\n",
        "\n",
        "![](https://media-doselect.s3.amazonaws.com/generic/OqNgkRAgJpJMpzxNJZMXNdYXR/Employee_Table.PNG)\n",
        "\n",
        "Write a query to determine the first names of all employees.\n",
        "\n",
        "----------------------\n",
        "\n",
        "Query\n",
        "--------\n",
        "\n",
        "    use upgrad;\n",
        "\n",
        "    # Write your code below\n",
        "    select firstname from Employees;"
      ],
      "metadata": {
        "id": "Q8CZlJQCx-r0"
      }
    },
    {
      "cell_type": "markdown",
      "source": [
        "# Aggregate Functions\n",
        "\n",
        "----------------"
      ],
      "metadata": {
        "id": "qQZe8ziryPMX"
      }
    },
    {
      "cell_type": "markdown",
      "source": [],
      "metadata": {
        "id": "wjMfsR4eyoeY"
      }
    }
  ]
}