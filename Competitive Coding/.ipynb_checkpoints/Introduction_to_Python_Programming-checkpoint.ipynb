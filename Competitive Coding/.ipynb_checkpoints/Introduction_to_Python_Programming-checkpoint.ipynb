{
 "cells": [
  {
   "cell_type": "markdown",
   "metadata": {
    "id": "m3BwFbNBkFjZ"
   },
   "source": [
    "https://colab.research.google.com/drive/1h8pmv-olHlT4yXLQlODm22OlnaD_rJEe#scrollTo=08rMfgMvh3yc"
   ]
  },
  {
   "cell_type": "markdown",
   "metadata": {
    "id": "iTzkbl4yaW9b"
   },
   "source": [
    "String Problem\n",
    "-------------\n",
    "Description\n",
    "\n",
    "In a certain encrypted message which has information about the location(area, city), the characters are jumbled such that first character of the first word is followed by the first character of the second word, then it is followed by second character of the first word and so on\n",
    "\n",
    "\n",
    "\n",
    "In other words, let’s say the location is bandra,mumbai\n",
    "\n",
    "\n",
    "\n",
    "The encrypted message says ‘bmaunmdbraai’.\n",
    "\n",
    "\n",
    "\n",
    "Sample Input:\n",
    "\n",
    "bmaunmdbraai\n",
    "\n",
    "\n",
    "\n",
    "Sample Output:\n",
    "\n",
    "bandra,mumbai\n",
    "\n",
    "\n",
    "\n",
    "Let’s say the size or length of the two words wouldn’t match then the smaller word is appended with # and then encrypted in the above format.\n",
    "\n",
    "\n",
    "\n",
    "With this in mind write a code to identify the right location and print it as place,city."
   ]
  },
  {
   "cell_type": "code",
   "execution_count": null,
   "metadata": {
    "id": "z0he3nviZOda"
   },
   "outputs": [],
   "source": [
    "import ast,sys\n",
    "input_str = sys.stdin.read()\n",
    "message1 = input_str[0:-1:2]\n",
    "message2 = input_str[1:len(input_str):2]\n",
    "print(message1.strip('#') + \",\" + message2.strip('#'))"
   ]
  },
  {
   "cell_type": "code",
   "execution_count": null,
   "metadata": {
    "id": "LPohlp1YavHN"
   },
   "outputs": [],
   "source": [
    "import ast,sys\n",
    "input_str = sys.stdin.read()\n",
    "message1 = input_str[0:-1:2]\n",
    "message2 = input_str[1:len(input_str):2]\n",
    "print(message1.strip('#') + \",\" + message2.strip('#'))\n"
   ]
  },
  {
   "cell_type": "markdown",
   "metadata": {
    "id": "GgZQVTxLa9oW"
   },
   "source": [
    "List_remove_append\n",
    "--------------\n",
    "\n",
    "Description\n",
    "\n",
    "Remove SPSS from input_list=['SAS', 'R', 'PYTHON', 'SPSS'] and add 'SPARK' in its place.\n",
    "\n",
    "\n",
    "\n",
    "Sample Input:\n",
    "\n",
    "['SAS', 'R', 'PYTHON', 'SPSS']\n",
    "\n",
    "\n",
    "\n",
    "Sample Output:\n",
    "\n",
    "['SAS', 'R', 'PYTHON', 'SPARK']"
   ]
  },
  {
   "cell_type": "code",
   "execution_count": null,
   "metadata": {
    "id": "IOwEFmhPbY5i"
   },
   "outputs": [],
   "source": [
    "import ast,sys\n",
    "input_list = (sys.stdin.read()).split(',')\n",
    "input_list.remove('SPSS')\n",
    "input_list.append('SPARK')\n",
    "print(input_list)"
   ]
  },
  {
   "cell_type": "code",
   "execution_count": null,
   "metadata": {
    "id": "1c0bmFlkbcAa"
   },
   "outputs": [],
   "source": [
    "import ast,sys\n",
    "input_list = (sys.stdin.read()).split(',')\n",
    "# Write code to remove 'SPSS'\n",
    "# Write code to append 'SPARK'\n",
    "input_list.remove('SPSS')\n",
    "input_list.append('SPARK')\n",
    "print(input_list)"
   ]
  },
  {
   "cell_type": "markdown",
   "metadata": {
    "id": "MxMyFppBbdJv"
   },
   "source": [
    "List to String\n",
    "----------------\n",
    "\n",
    "Description\n",
    "\n",
    "Convert a list ['Pythons syntax is easy to learn', 'Pythons syntax is very clear'] to a string using ‘&’. The sample output of this string will be:\n",
    "Pythons syntax is easy to learn & Pythons syntax is very clear\n",
    "\n",
    "Note that there is a space on both sides of '&' (as usual in English sentences)."
   ]
  },
  {
   "cell_type": "code",
   "execution_count": null,
   "metadata": {
    "id": "NZ5UPU3nbiiV"
   },
   "outputs": [],
   "source": [
    "import ast,sys\n",
    "input_str = (sys.stdin.read()).split(',')\n",
    "\n",
    "string_1 = ' & '.join(input_str)\n",
    "print(string_1)"
   ]
  },
  {
   "cell_type": "code",
   "execution_count": null,
   "metadata": {
    "id": "C2v6sLtmbldG"
   },
   "outputs": [],
   "source": [
    "import ast,sys\n",
    "input_str = (sys.stdin.read()).split(',')\n",
    "\n",
    "string_1 = ' & '.join(input_str)\n",
    "print(string_1)"
   ]
  },
  {
   "cell_type": "markdown",
   "metadata": {
    "id": "TIxLLVgIbmdR"
   },
   "source": [
    "String Split\n",
    "----------------\n",
    "\n",
    "Description\n",
    "\n",
    "Split the string input_str = 'Kumar_Ravi_003' to the person's second name, first name and unique customer code. In this example, second_name= 'Kumar', first_name= 'Ravi', customer_code = '003'.\n",
    "\n",
    "\n",
    "\n",
    "A sample output of the input 'Kumar_Ravi_003' is:\n",
    "\n",
    "Ravi\n",
    "Kumar\n",
    "003\n",
    " \n",
    "\n",
    "Note that you need to print in the order first name, last name and customer code."
   ]
  },
  {
   "cell_type": "code",
   "execution_count": null,
   "metadata": {
    "id": "BALTLZGBbr5J"
   },
   "outputs": [],
   "source": [
    "import ast,sys\n",
    "input_str = sys.stdin.read()\n",
    "first_name = input_str.split(\"_\")[1]\n",
    "second_name = input_str.split(\"_\")[0]\n",
    "customer_code = input_str.split(\"_\")[2]\n",
    "print(first_name)\n",
    "print(second_name)\n",
    "print(customer_code)"
   ]
  },
  {
   "cell_type": "code",
   "execution_count": null,
   "metadata": {
    "id": "YKGY7Mzobuaf"
   },
   "outputs": [],
   "source": [
    "import ast,sys\n",
    "input_str = sys.stdin.read()\n",
    "name = input_str.split('_')\n",
    "first_name = name[1]\n",
    "second_name = name[0]\n",
    "customer_code = name[2]\n",
    "print(first_name)\n",
    "print(second_name)\n",
    "print(customer_code)"
   ]
  },
  {
   "cell_type": "markdown",
   "metadata": {
    "id": "3SFdb_IXbvJt"
   },
   "source": [
    "Tuple\n",
    "-------------\n",
    "\n",
    "Description\n",
    "\n",
    "Add the element ‘Python’ to a tuple input_tuple = ('Monty Python', 'British', 1969). Since tuples are immutable, one way to do this is to convert the tuple to a list, add the element, and convert it back to a tuple.\n",
    "\n",
    "\n",
    "\n",
    "Sample Input:\n",
    "\n",
    "('Monty Python', 'British', 1969)\n",
    "\n",
    "\n",
    "\n",
    "Sample Output:\n",
    "\n",
    "﻿('Monty Python', 'British', 1969, 'Python')"
   ]
  },
  {
   "cell_type": "code",
   "execution_count": null,
   "metadata": {
    "id": "jdOox573b3L4"
   },
   "outputs": [],
   "source": [
    "import ast,sys\n",
    "input_str = sys.stdin.read()\n",
    "input_tuple = ast.literal_eval(input_str)\n",
    "list_1 = list(input_tuple)\n",
    "list_1.append('Python')\n",
    "tuple_2 = tuple(list_1)\n",
    "print(tuple_2)"
   ]
  },
  {
   "cell_type": "code",
   "execution_count": null,
   "metadata": {
    "id": "mD8kHHYhb59L"
   },
   "outputs": [],
   "source": [
    "import ast,sys\n",
    "input_str = sys.stdin.read()\n",
    "input_tuple = ast.literal_eval(input_str)\n",
    "\n",
    "# Write your code here\n",
    "tuple_2 = list(input_tuple)\n",
    "tuple_2.append('Python')\n",
    "tuple_2 = tuple(tuple_2)\n",
    "\n",
    "# Make sure to name the final tuple 'tuple_2'\n",
    "print(tuple_2)"
   ]
  },
  {
   "cell_type": "markdown",
   "metadata": {
    "id": "jrMTCoeBb6r-"
   },
   "source": [
    "![no internet](https://images.upgrad.com/151c5b38-e92f-44e8-b1fd-508a145dfb76-dont-try-to-change-me-dude-i-am-what-i-8626324.png)"
   ]
  },
  {
   "cell_type": "markdown",
   "metadata": {
    "id": "0fqnZRJdcNK-"
   },
   "source": [
    "Sets Practice\n",
    "--------------\n",
    "\n",
    "Description\n",
    "\n",
    "Let’s say you have two lists A and B. Identify the elements which are common in the two lists A and B and return them in a sorted manner. For example \n",
    "\n",
    "\n",
    "\n",
    "Sample Input :\n",
    "\n",
    "A = [5, 1, 3, 4, 4, 5, 6, 7]\n",
    "\n",
    "B = [3, 3, 5, 5, 1 ,7 ,2]\n",
    "\n",
    "\n",
    "\n",
    "Sample Output:\n",
    "\n",
    "[1,3,5,7]\n",
    "\n",
    "\n",
    "\n",
    "If you observe the sample output here you can see that \n",
    "\n",
    "Though value 5 is repeated twice in both lists, in the final output it is present only once.\n",
    "The values are returned in a sorted manner with values increasing."
   ]
  },
  {
   "cell_type": "code",
   "execution_count": null,
   "metadata": {
    "id": "C5Y810EDcDav"
   },
   "outputs": [],
   "source": [
    "import ast,sys\n",
    "input_str = sys.stdin.read()\n",
    "input_list = ast.literal_eval(input_str)\n",
    "list_1 = input_list[0]\n",
    "list_2 = input_list[1]\n",
    "\n",
    "set_1 = set(list_1)\n",
    "set_2 = set(list_2)\n",
    "set_3 = set_1.intersection(set_2)\n",
    "answer= sorted(list(set_3))\n",
    "print(answer)\n"
   ]
  },
  {
   "cell_type": "code",
   "execution_count": null,
   "metadata": {
    "id": "1wtEHsLocR3P"
   },
   "outputs": [],
   "source": [
    "import ast,sys\n",
    "input_str = sys.stdin.read()\n",
    "input_list = ast.literal_eval(input_str)\n",
    "list_1 = input_list[0]\n",
    "list_2 = input_list[1]\n",
    "\n",
    "set_1 = set(list_1)\n",
    "set_2 = set(list_2)\n",
    "set_3 = set_1.intersection(set_2)\n",
    "answer= sorted(list(set_3))\n",
    "print(answer)"
   ]
  },
  {
   "cell_type": "markdown",
   "metadata": {
    "id": "Fu7WCDGVcS3_"
   },
   "source": [
    "Dictionary Coding\n",
    "----------------\n",
    "\n",
    "Description\n",
    "\n",
    "Write code to fetch the profession of the employee with Employee id - 104 from an employee input given in the form of a dictionary where key represent employ id and values represent the name, age, and profession (in the same order).\n",
    "\n",
    "\n",
    "\n",
    "Sample input:\n",
    "\n",
    "Employee_data = { 101:['Shiva', 24, 'Content Strategist'] ,102:['Udit',25,'Content Strategist'], 103:['Sonam', 28,'Sr Manager'], 104:['Ansari',29,'Product Lead' ],105:['Huzefa',32,'Project Manager' ]}\n",
    "\n",
    "\n",
    "\n",
    "Sample output:\n",
    "\n",
    "'Product Lead'\n",
    "\n",
    "\n",
    "\n",
    "Note: Assume that employee data would be available in the data provided to you "
   ]
  },
  {
   "cell_type": "code",
   "execution_count": null,
   "metadata": {
    "id": "f6GZviSXceKV"
   },
   "outputs": [],
   "source": [
    "import ast,sys\n",
    "input_str = sys.stdin.read()\n",
    "input_dict = ast.literal_eval(input_str)\n",
    "Employee_list = list( input_dict[104])\n",
    "profession = Employee_list[2]\n",
    "print(profession)\n"
   ]
  },
  {
   "cell_type": "code",
   "execution_count": null,
   "metadata": {
    "id": "0WCPCohHchIV"
   },
   "outputs": [],
   "source": [
    "import ast,sys\n",
    "input_str = sys.stdin.read()\n",
    "input_dict = ast.literal_eval(input_str)\n",
    "\n",
    "#Type you answer here\n",
    "profession = input_dict[104][2]\n",
    "\n",
    "print(profession)\n"
   ]
  },
  {
   "cell_type": "markdown",
   "metadata": {
    "id": "bcrvh_b-cf3D"
   },
   "source": [
    "Dict_Error\n",
    "-----------------\n",
    "\n",
    "Description\n",
    "\n",
    "From a Dictionary input_dict={'Name': 'Monty', 'Profession': 'Singer' }, get the value of a key ‘Label’ which is not a part of the dictionary, in such a way that Python doesn't hit an error. If the key does not exist in the dictionary, Python should return 'NA'.\n",
    "\n",
    "\n",
    "\n",
    "Sample Input:\n",
    "\n",
    "{'Name': 'Monty', 'Profession': 'Singer' }\n",
    "\n",
    "\n",
    "\n",
    "Sample Output:\n",
    "\n",
    "NA"
   ]
  },
  {
   "cell_type": "code",
   "execution_count": null,
   "metadata": {
    "id": "0cQYAP3WcmNE"
   },
   "outputs": [],
   "source": [
    "import ast,sys\n",
    "input_str = sys.stdin.read()\n",
    "input_dict = ast.literal_eval(input_str)\n",
    "\n",
    "answer = input_dict.get('Label','NA')\n",
    "\n",
    "print(answer)"
   ]
  },
  {
   "cell_type": "code",
   "execution_count": null,
   "metadata": {
    "id": "wsMdv_WWcoLr"
   },
   "outputs": [],
   "source": [
    "import ast,sys\n",
    "input_str = sys.stdin.read()\n",
    "input_dict = ast.literal_eval(input_str)\n",
    "\n",
    "\n",
    "# Type your answer here\n",
    "try:\n",
    "    answer = input_dict['Label']\n",
    "except:\n",
    "    answer = 'NA'\n",
    "print(answer)"
   ]
  },
  {
   "cell_type": "markdown",
   "metadata": {
    "id": "TkFcxTBdcqBq"
   },
   "source": [
    "List of Values in a Dictionary.\n",
    "-------------\n",
    "\n",
    "Description\n",
    "\n",
    "Create a SORTED list of all values from the dictionary input_dict = {'Jack Dorsey' : 'Twitter' , 'Tim Cook' : 'Apple','Jeff Bezos' : 'Amazon' ,'Mukesh Ambani' : 'RJIO'}\n",
    "\n",
    "\n",
    "\n",
    "Sample Input:\n",
    "\n",
    "{'Jack Dorsey' : 'Twitter' , 'Tim Cook' : 'Apple','Jeff Bezos' : 'Amazon' ,'Mukesh Ambani' : 'RJIO'}\n",
    "\n",
    "\n",
    "\n",
    "Sample Output:\n",
    "\n",
    "﻿['Amazon', 'Apple', 'RJIO', 'Twitter']"
   ]
  },
  {
   "cell_type": "code",
   "execution_count": null,
   "metadata": {
    "id": "7zQ7DqY_ctY_"
   },
   "outputs": [],
   "source": [
    "import ast,sys\n",
    "input_str = sys.stdin.read()\n",
    "input_dict = ast.literal_eval(input_str)\n",
    "value_list = input_dict\n",
    "print(sorted(value_list.values()))\n"
   ]
  },
  {
   "cell_type": "code",
   "execution_count": null,
   "metadata": {
    "id": "10fIZlVzcwGL"
   },
   "outputs": [],
   "source": [
    "import ast,sys\n",
    "input_str = sys.stdin.read()\n",
    "input_dict = ast.literal_eval(input_str)\n",
    "\n",
    "#type your answer here\n",
    "print(sorted(list(input_dict.values())))"
   ]
  },
  {
   "cell_type": "markdown",
   "metadata": {
    "id": "jJMsK_KRcxi5"
   },
   "source": [
    "Fantastic Four\n",
    "--------------\n",
    "\n",
    "Identify the first four orders that were processed. [Note: Assume the order IDs are being generated consecutively]\n",
    "\n",
    "\n",
    "1152, 1154, 1155, 1156\n",
    "\n",
    "\n",
    "1051, 1152, 1153, 1154\n",
    "\n",
    "-------------------\n",
    "\n",
    "1050, 1051, 1052, 1054\n",
    "\n",
    "✓ Correct\n",
    "Feedback:\n",
    " In order to find the first four processed orders, you first need to sort the elements in the processed order; then, using the slicing concept, you have to pass the start and end indexes based on the element you require.\n",
    "\n",
    "processed_orders[0:4]\n",
    "\n",
    "------------------------\n",
    "\n",
    "1050, 1051, 1052, 1053\n",
    "\n",
    "✕ Incorrect\n",
    "Feedback:\n",
    "You have to find the first four processed orders, so ideally you have to sort the elements first and then do slicing as indexing starts from 0 and not 1.\n",
    "\n",
    "Your answer is Wrong.\n",
    "Attempt 2 of 2\n"
   ]
  },
  {
   "cell_type": "markdown",
   "metadata": {
    "id": "E9myvqF4eRfe"
   },
   "source": [
    "If-Else\n",
    "---------\n",
    "\n",
    "Description\n",
    "\n",
    "Write a code to check if the string in input_str starts with a vowel or not. Print capital YES or NO.\n",
    "\n",
    "\n",
    "\n",
    "For example, if input_str = 'analytics' then, your output should print 'YES'.\n",
    "\n",
    "\n",
    "\n",
    "Sample Input:\n",
    "\n",
    "alpha\n",
    "\n",
    "\n",
    "\n",
    "Sample Output:\n",
    "\n",
    "YES"
   ]
  },
  {
   "cell_type": "code",
   "execution_count": null,
   "metadata": {
    "id": "dkj4uPyNc5OR"
   },
   "outputs": [],
   "source": [
    "import ast,sys\n",
    "input_str = sys.stdin.read()\n",
    "\n",
    "if input_str[0] in ['a','e','i','o','u','A','E','I','O','U']:\n",
    "    print('YES')\n",
    "else:\n",
    "    print('NO')"
   ]
  },
  {
   "cell_type": "code",
   "execution_count": null,
   "metadata": {
    "id": "QXT0b72ifkpI"
   },
   "outputs": [],
   "source": [
    "import ast,sys\n",
    "input_str = sys.stdin.read()\n",
    "\n",
    "#Write your code here\n",
    "#Use capital YES or NO\n",
    "if input_str[0].lower() in 'aeiou':\n",
    "    print('YES')\n",
    "else:\n",
    "    print('NO')"
   ]
  },
  {
   "cell_type": "markdown",
   "metadata": {
    "id": "-G6KTvIqflRP"
   },
   "source": [
    "![](https://images.upgrad.com/38fbba2c-f364-4716-a7e2-7457a0a37786-68c9686b-cfb0-4d0b-827d-772862e7c793-Two-Buttons%20(2).jpg)"
   ]
  },
  {
   "cell_type": "markdown",
   "metadata": {
    "id": "AdVfyFt6f6hZ"
   },
   "source": [
    "Iterations\n",
    "--------------\n",
    "\n",
    "Description\n",
    "\n",
    "\n",
    "You are given a list of string elements and asked to return a list which contains each element of the string in title case or in other words first character of the string would be in upper case and remaining all characters in lower case\n",
    "\n",
    "\n",
    "\n",
    "Sample Input:\n",
    "\n",
    "\n",
    "\n",
    "['VARMA', 'raj', 'Gupta', 'SaNdeeP']\n",
    "\n",
    "\n",
    "\n",
    "\n",
    "\n",
    "\n",
    "\n",
    "Sample Output\n",
    "\n",
    "\n",
    "\n",
    "['Varma', 'Raj', 'Gupta', 'Sandeep']"
   ]
  },
  {
   "cell_type": "code",
   "execution_count": null,
   "metadata": {
    "id": "hET3VxlLfoMN"
   },
   "outputs": [],
   "source": [
    "import ast,sys\n",
    "input_str = sys.stdin.read()\n",
    "input_list = ast.literal_eval(input_str)\n",
    "\n",
    "updated_list= []\n",
    "\n",
    "for i in input_list:\n",
    "    updated_list.append(i.capitalize())\n",
    "    \n",
    "print(updated_list)\n"
   ]
  },
  {
   "cell_type": "code",
   "execution_count": null,
   "metadata": {
    "id": "CaUN5R4Vf8YA"
   },
   "outputs": [],
   "source": [
    "import ast,sys\n",
    "input_str = sys.stdin.read()\n",
    "input_list = ast.literal_eval(input_str)\n",
    "\n",
    "# Type your code here\n",
    "output_list=[]\n",
    "for i in input_list:\n",
    "    output_list.append(i[0].upper() + i[1:].lower())\n",
    "print(output_list)"
   ]
  },
  {
   "cell_type": "code",
   "execution_count": null,
   "metadata": {
    "colab": {
     "base_uri": "https://localhost:8080/"
    },
    "id": "Guc30FErgG80",
    "outputId": "93e098e6-5897-4962-fe07-e89ce371999b"
   },
   "outputs": [
    {
     "data": {
      "text/plain": [
       "[-100,\n",
       " -98,\n",
       " -96,\n",
       " -94,\n",
       " -92,\n",
       " -90,\n",
       " -88,\n",
       " -86,\n",
       " -84,\n",
       " -82,\n",
       " -80,\n",
       " -78,\n",
       " -76,\n",
       " -74,\n",
       " -72,\n",
       " -70,\n",
       " -68,\n",
       " -66,\n",
       " -64,\n",
       " -62,\n",
       " -60,\n",
       " -58,\n",
       " -56,\n",
       " -54,\n",
       " -52,\n",
       " -50,\n",
       " -48,\n",
       " -46,\n",
       " -44,\n",
       " -42,\n",
       " -40,\n",
       " -38,\n",
       " -36,\n",
       " -34,\n",
       " -32,\n",
       " -30,\n",
       " -28,\n",
       " -26,\n",
       " -24,\n",
       " -22,\n",
       " -20,\n",
       " -18,\n",
       " -16,\n",
       " -14,\n",
       " -12,\n",
       " -10,\n",
       " -8,\n",
       " -6,\n",
       " -4,\n",
       " -2]"
      ]
     },
     "execution_count": 1,
     "metadata": {},
     "output_type": "execute_result"
    }
   ],
   "source": [
    "l = []\n",
    "for i in range(-100, 0):\n",
    "    if(i % 2 == 0):\n",
    "        l.append(i)\n",
    "l"
   ]
  },
  {
   "cell_type": "markdown",
   "metadata": {
    "id": "9zX8chMEgA40"
   },
   "source": [
    "List Comprehension\n",
    "-----------\n",
    "\n",
    "Description\n",
    "\n",
    "You are given an integer 'n' as the input. Create a list comprehension containing the squares of the integers from 1 till n^2 (including 1 and n), and print the list. \n",
    "\n",
    "\n",
    "\n",
    "\n",
    "\n",
    "\n",
    "\n",
    "For example, if the input is 4, the output should be a list as follows:\n",
    "\n",
    "[1, 4, 9, 16]\n",
    "\n",
    "\n",
    "\n",
    "\n",
    "The input integer 'n' is stored in the variable 'n'. "
   ]
  },
  {
   "cell_type": "code",
   "execution_count": null,
   "metadata": {
    "id": "rjHiWG_4gPOV"
   },
   "outputs": [],
   "source": [
    "import ast, sys\n",
    "n = int(input())\n",
    "final_list = [n**2 for n in range(1,n+1)]\n",
    "print(final_list)\n"
   ]
  },
  {
   "cell_type": "code",
   "execution_count": null,
   "metadata": {
    "id": "1Ho9IrmpgYF1"
   },
   "outputs": [],
   "source": [
    "import ast, sys\n",
    "n = int(input())\n",
    "\n",
    "\n",
    "# Write your code here (remember to print the list)\n",
    "print([i*i for i in range(1,n+1)])\n"
   ]
  },
  {
   "cell_type": "markdown",
   "metadata": {
    "id": "CPC-7LW2gYlN"
   },
   "source": [
    "List Comprehensions\n",
    "-----------\n",
    "\n",
    "Description\n",
    "\n",
    "Extract the words that start with a vowel from a list input_list=[wood, old, apple, big, item, euphoria] using list comprehensions.\n",
    "\n",
    "\n",
    "\n",
    "Sample Input:\n",
    "\n",
    "['wood','old','apple','big','item','euphoria']\n",
    "\n",
    "\n",
    "\n",
    "Sample Output:\n",
    "\n",
    "﻿['old', 'apple', 'item', 'euphoria']"
   ]
  },
  {
   "cell_type": "code",
   "execution_count": null,
   "metadata": {
    "id": "y5yjDIc-gb3N"
   },
   "outputs": [],
   "source": [
    "import ast,sys\n",
    "input_str = sys.stdin.read()\n",
    "input_list = ast.literal_eval(input_str)\n",
    "\n",
    "final=[word for word in input_list if word[0].lower() in 'aeiou']\n",
    "print(final)"
   ]
  },
  {
   "cell_type": "code",
   "execution_count": null,
   "metadata": {
    "id": "HRWPsm2ogdfF"
   },
   "outputs": [],
   "source": [
    "import ast,sys\n",
    "input_str = sys.stdin.read()\n",
    "input_list = ast.literal_eval(input_str)\n",
    "\n",
    "list_vowel = [i for i in input_list if i[0] in 'aeiou']\n",
    "\n",
    "print(list_vowel)"
   ]
  },
  {
   "cell_type": "markdown",
   "metadata": {
    "id": "zi0RyO_qgeYH"
   },
   "source": [
    "Function\n",
    "---------\n",
    "\n",
    "Description\n",
    "\n",
    "Create a function squared(), which takes x and y as arguments and returns the x**y value. For e.g., if x = 2 and y = 3 , then the output is 8.\n",
    "\n",
    "\n",
    "\n",
    "Sample Input:\n",
    "\n",
    "['6','7']\n",
    "\n",
    "\n",
    "\n",
    "Sample Output:\n",
    "\n",
    "﻿279936"
   ]
  },
  {
   "cell_type": "code",
   "execution_count": null,
   "metadata": {
    "id": "1x5l9yfXgleP"
   },
   "outputs": [],
   "source": [
    "import ast,sys\n",
    "input_str = sys.stdin.read()\n",
    "input_list = ast.literal_eval(input_str)\n",
    "x = int(input_list[0])\n",
    "y = int(input_list[1])\n",
    "\n",
    "def squared(x,y):\n",
    "   \n",
    "   return x**y\n",
    "print(squared(x,y))"
   ]
  },
  {
   "cell_type": "code",
   "execution_count": null,
   "metadata": {
    "id": "jWQRl1rbgnW1"
   },
   "outputs": [],
   "source": [
    "import ast,sys\n",
    "input_str = sys.stdin.read()\n",
    "input_list = ast.literal_eval(input_str)\n",
    "x = int(input_list[0])\n",
    "y = int(input_list[1])\n",
    "\n",
    "#Write your code here\n",
    "def squared(x,y):\n",
    "    return x**y\n",
    "    \n",
    "print(squared(x,y))"
   ]
  },
  {
   "cell_type": "markdown",
   "metadata": {
    "id": "qVT5RLZ3goWH"
   },
   "source": [
    "Lambda\n",
    "-----------\n",
    "\n",
    "Description\n",
    "\n",
    "Create a lambda function 'greater', which takes two arguments x and y and return x if x>y otherwise y.\n",
    "\n",
    "If x = 2 and y= 3, then the output should be 3.\n",
    "\n",
    "\n",
    "\n",
    "Sample Input:\n",
    "\n",
    "['9','3']\n",
    "\n",
    "\n",
    "\n",
    "Sample Output:\n",
    "\n",
    "﻿9"
   ]
  },
  {
   "cell_type": "code",
   "execution_count": null,
   "metadata": {
    "id": "2dieuMSTgtfc"
   },
   "outputs": [],
   "source": [
    "import ast,sys\n",
    "input_str = sys.stdin.read()\n",
    "input_list = ast.literal_eval(input_str)\n",
    "a = int(input_list[0])\n",
    "b = int(input_list[1])\n",
    "\n",
    "greater = lambda a,b: a if a>b else b\n",
    "\n",
    "print(greater(a,b))"
   ]
  },
  {
   "cell_type": "code",
   "execution_count": null,
   "metadata": {
    "id": "bNquFD-lgvz7"
   },
   "outputs": [],
   "source": [
    "import ast,sys\n",
    "input_str = sys.stdin.read()\n",
    "input_list = ast.literal_eval(input_str)\n",
    "a = int(input_list[0])\n",
    "b = int(input_list[1])\n",
    "\n",
    "#Write your code here\n",
    "greater = lambda a,b : a if a>b else b\n",
    "    \n",
    "print(greater(a,b))"
   ]
  },
  {
   "cell_type": "markdown",
   "metadata": {
    "id": "DO8gQtsHgx1x"
   },
   "source": [
    "Map Function\n",
    "-----------\n",
    "\n",
    "Description\n",
    "\n",
    "Using the function Map, count the number of words that start with ‘S’ in input_list.\n",
    "\n",
    "\n",
    "\n",
    "Sample Input:\n",
    "\n",
    "['Santa Cruz','Santa fe','Mumbai','Delhi']\n",
    "\n",
    "\n",
    "\n",
    "Sample Output:\n",
    "\n",
    "2"
   ]
  },
  {
   "cell_type": "code",
   "execution_count": null,
   "metadata": {
    "id": "GgKKW8KtgxHp"
   },
   "outputs": [],
   "source": [
    "import ast,sys\n",
    "input_str = sys.stdin.read()\n",
    "input_list = ast.literal_eval(input_str)\n",
    "\n",
    "count = sum(map(lambda x: x[0] == 'S', input_list))\n",
    "print(count)"
   ]
  },
  {
   "cell_type": "code",
   "execution_count": null,
   "metadata": {
    "id": "kAvLf4dOhRnW"
   },
   "outputs": [],
   "source": [
    "import ast,sys\n",
    "input_str = sys.stdin.read()\n",
    "input_list = ast.literal_eval(input_str)\n",
    "\n",
    "count = len([x for x in list(map((lambda x: x[0].lower() == 's'), input_list)) if x])\n",
    "print(count)"
   ]
  },
  {
   "cell_type": "markdown",
   "metadata": {
    "id": "4Xf4HC2qhSpI"
   },
   "source": []
  },
  {
   "cell_type": "markdown",
   "metadata": {
    "id": "0U1I4xEJhSxL"
   },
   "source": [
    "Map Function\n",
    "---\n",
    "\n",
    "Description\n",
    "\n",
    "Create a list ‘name’ consisting of the combination of the first name and the second name from list 1 and 2 respectively. \n",
    "\n",
    "For e.g. if the input list is:\n",
    "[ ['Ankur', 'Avik', 'Kiran', 'Nitin'], ['Narang', 'Sarkar', 'R', 'Sareen']]\n",
    "\n",
    "the output list should be the list:\n",
    "['Ankur Narang', 'Avik Sarkar', 'Kiran R', 'Nitin Sareen']\n",
    "\n",
    "Note: Add a space between first name and last name."
   ]
  },
  {
   "cell_type": "code",
   "execution_count": null,
   "metadata": {
    "id": "PSfSOnR_hWl1"
   },
   "outputs": [],
   "source": [
    "import ast,sys\n",
    "input_str = sys.stdin.read()\n",
    "input_list = ast.literal_eval(input_str)\n",
    "first_name = input_list[0]\n",
    "last_name = input_list[1]\n",
    "\n",
    "name = list(map(lambda x,y: x+ \" \" + y, first_name,last_name))\n",
    "\n",
    "print(list(name))"
   ]
  },
  {
   "cell_type": "code",
   "execution_count": null,
   "metadata": {
    "id": "M5dyHs42haHW"
   },
   "outputs": [],
   "source": [
    "import ast,sys\n",
    "input_str = sys.stdin.read()\n",
    "input_list = ast.literal_eval(input_str)\n",
    "first_name = input_list[0]\n",
    "last_name = input_list[1]\n",
    "\n",
    "name = list(map((lambda x,y: f'{x} {y}'), first_name, last_name))\n",
    "print(name)"
   ]
  },
  {
   "cell_type": "markdown",
   "metadata": {
    "id": "WJ5F9f3AharR"
   },
   "source": [
    "Filter Function\n",
    "------------\n",
    "\n",
    "Description\n",
    "\n",
    "Extract a list of numbers that are multiples of 5 from a list of integers named input_list.\n",
    "\n",
    "\n",
    "\n",
    "Sample Input:\n",
    "\n",
    "[1, 2, 3, 4, 5, 6, 7, 8, 9, 10, 11, 12, 13, 14, 15, 16, 17, 18, 19, 20, 21, 22, 23, 24, 25, 26, 27, 28, 29, 30, 31, 32, 33, 34, 35, 36, 37, 38, 39, 40, 41, 42, 43, 44, 45, 46, 47, 48, 49, 50]\n",
    "\n",
    "\n",
    "\n",
    "Sample Output:\n",
    "\n",
    "[5, 10, 15, 20, 25, 30, 35, 40, 45, 50]\n",
    "\n",
    "\n",
    "\n",
    "Note: Use the filter() function."
   ]
  },
  {
   "cell_type": "code",
   "execution_count": null,
   "metadata": {
    "id": "s6lDL4U5hey-"
   },
   "outputs": [],
   "source": [
    "import ast,sys\n",
    "input_str = sys.stdin.read()\n",
    "input_list = ast.literal_eval(input_str)\n",
    "\n",
    "\n",
    "list_answer = list(filter(lambda x: x%5 == 0, input_list))\n",
    "\n",
    "print(list_answer)"
   ]
  },
  {
   "cell_type": "code",
   "execution_count": null,
   "metadata": {
    "id": "jaq5-z87hf3R"
   },
   "outputs": [],
   "source": [
    "import ast,sys\n",
    "input_str = sys.stdin.read()\n",
    "input_list = ast.literal_eval(input_str)\n",
    "\n",
    "list_answer = [i for i in input_list if not i%5]\n",
    "print(list_answer)"
   ]
  },
  {
   "cell_type": "markdown",
   "metadata": {
    "id": "-24YmXDUhjVm"
   },
   "source": [
    "Filter Function\n",
    "------------\n",
    "\n",
    "Description\n",
    "\n",
    "You are given a list of strings such as input_list = ['hdjk', 'salsap', 'sherpa'].\n",
    "\n",
    "\n",
    "\n",
    "Extract a list of names that start with an ‘s’ and end with a ‘p’ (both 's' and 'p' are lowercase) in input_list.\n",
    "\n",
    "\n",
    "\n",
    "Sample Input:\n",
    "\n",
    "['soap','sharp','shy','silent','ship','summer','sheep']\n",
    "\n",
    "\n",
    "\n",
    "Sample Output:\n",
    "\n",
    "['soap', 'sharp', 'ship', 'sheep']\n",
    "\n",
    "\n",
    "\n",
    "Note: Use the filter() function."
   ]
  },
  {
   "cell_type": "code",
   "execution_count": null,
   "metadata": {
    "id": "RSbQUs8qhmsx"
   },
   "outputs": [],
   "source": [
    "import ast,sys\n",
    "input_str = sys.stdin.read()\n",
    "input_list = ast.literal_eval(input_str)\n",
    "\n",
    "sp = list(filter(lambda x: (x[0]=='s') & (x[-1]=='p' ) , input_list))\n",
    "\n",
    "print(sp)"
   ]
  },
  {
   "cell_type": "code",
   "execution_count": null,
   "metadata": {
    "id": "yvsNHCodhpa3"
   },
   "outputs": [],
   "source": [
    "import ast,sys\n",
    "input_str = sys.stdin.read()\n",
    "input_list = ast.literal_eval(input_str)\n",
    "\n",
    "sp = list(filter(lambda x: x[0] == 's' and x[-1] == 'p', input_list))\n",
    "print(sp)"
   ]
  },
  {
   "cell_type": "markdown",
   "metadata": {
    "id": "7NunBWnLhqU5"
   },
   "source": [
    "Reduce Function\n",
    "-------------\n",
    "\n",
    "Description\n",
    "\n",
    "Using the Reduce function, concatenate a list of words in input_list, and print the output as a string.\n",
    "\n",
    "If input_list = ['I','Love','Python'], the output should be the string 'I Love Python'.\n",
    "\n",
    "\n",
    "\n",
    "Sample Input:\n",
    "\n",
    "['All','you','have','to','fear','is','fear','itself']\n",
    "\n",
    "\n",
    "\n",
    "Sample Output:\n",
    "\n",
    "﻿All you have to fear is fear itself"
   ]
  },
  {
   "cell_type": "code",
   "execution_count": null,
   "metadata": {
    "id": "hItFl12yhtOm"
   },
   "outputs": [],
   "source": [
    "import ast,sys\n",
    "input_str = sys.stdin.read()\n",
    "input_list = ast.literal_eval(input_str)\n",
    "\n",
    "from functools import reduce\n",
    "\n",
    "string1 = str(reduce(lambda x,y: x + \" \" +y, input_list))\n",
    "print(string1)"
   ]
  },
  {
   "cell_type": "code",
   "execution_count": null,
   "metadata": {
    "id": "BFJRWlUXhvcu"
   },
   "outputs": [],
   "source": [
    "import ast,sys\n",
    "input_str = sys.stdin.read()\n",
    "input_list = ast.literal_eval(input_str)\n",
    "\n",
    "from functools import reduce\n",
    "\n",
    "#write your code here.\n",
    "print(str(reduce(lambda x,y: x + \" \" +y, input_list)))"
   ]
  },
  {
   "cell_type": "markdown",
   "metadata": {
    "id": "SelDljbjhwBF"
   },
   "source": [
    "Reduce Function\n",
    "---------\n",
    "\n",
    "Description\n",
    "\n",
    "You are given a list of numbers such as input_list = [31, 63, 76, 89]. Find and print the largest number in input_list using the reduce() function.\n",
    "\n",
    "\n",
    "\n",
    "Sample Input:\n",
    "\n",
    "[65,76,87,23,12,90,99]\n",
    "\n",
    "\n",
    "\n",
    "Sample Output:\n",
    "\n",
    "﻿99"
   ]
  },
  {
   "cell_type": "code",
   "execution_count": null,
   "metadata": {
    "id": "h0w8QT0Nh1eW"
   },
   "outputs": [],
   "source": [
    "import ast,sys\n",
    "input_str = sys.stdin.read()\n",
    "input_list = ast.literal_eval(input_str)\n",
    "from functools import reduce\n",
    "\n",
    "answer = reduce(lambda a,b : a if a > b else b,input_list)\n",
    "\n",
    "print(answer)"
   ]
  },
  {
   "cell_type": "code",
   "execution_count": null,
   "metadata": {
    "id": "08rMfgMvh3yc"
   },
   "outputs": [],
   "source": [
    "import ast,sys\n",
    "input_str = sys.stdin.read()\n",
    "input_list = ast.literal_eval(input_str)\n",
    "from functools import reduce\n",
    "\n",
    "answer = reduce(lambda x, y: x if x > y else y,input_list)\n",
    "print(answer)"
   ]
  },
  {
   "cell_type": "markdown",
   "metadata": {
    "id": "MZcXAqeUh4dV"
   },
   "source": [
    "# end"
   ]
  },
  {
   "cell_type": "code",
   "execution_count": null,
   "metadata": {
    "id": "Hc079LwKiP9Y"
   },
   "outputs": [],
   "source": []
  }
 ],
 "metadata": {
  "colab": {
   "provenance": []
  },
  "kernelspec": {
   "display_name": "Python 3 (ipykernel)",
   "language": "python",
   "name": "python3"
  },
  "language_info": {
   "codemirror_mode": {
    "name": "ipython",
    "version": 3
   },
   "file_extension": ".py",
   "mimetype": "text/x-python",
   "name": "python",
   "nbconvert_exporter": "python",
   "pygments_lexer": "ipython3",
   "version": "3.9.13"
  }
 },
 "nbformat": 4,
 "nbformat_minor": 1
}
