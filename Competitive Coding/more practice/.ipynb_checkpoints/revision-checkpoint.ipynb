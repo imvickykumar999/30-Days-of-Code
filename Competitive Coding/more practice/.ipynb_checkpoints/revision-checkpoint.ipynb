{
 "cells": [
  {
   "cell_type": "markdown",
   "id": "d528da8e",
   "metadata": {},
   "source": [
    "String Problem\n",
    "-------------\n",
    "Description\n",
    "\n",
    "In a certain encrypted message which has information about the location(area, city), the characters are jumbled such that first character of the first word is followed by the first character of the second word, then it is followed by second character of the first word and so on\n",
    "\n",
    "\n",
    "\n",
    "In other words, let’s say the location is bandra,mumbai\n",
    "\n",
    "\n",
    "\n",
    "The encrypted message says ‘bmaunmdbraai’.\n",
    "\n",
    "\n",
    "\n",
    "Sample Input:\n",
    "\n",
    "bmaunmdbraai\n",
    "\n",
    "\n",
    "\n",
    "Sample Output:\n",
    "\n",
    "bandra,mumbai\n",
    "\n",
    "\n",
    "\n",
    "Let’s say the size or length of the two words wouldn’t match then the smaller word is appended with # and then encrypted in the above format.\n",
    "\n",
    "\n",
    "\n",
    "With this in mind write a code to identify the right location and print it as place,city."
   ]
  },
  {
   "cell_type": "code",
   "execution_count": 13,
   "id": "637f0c3c",
   "metadata": {},
   "outputs": [
    {
     "data": {
      "text/plain": [
       "'bandran,mumbai'"
      ]
     },
     "execution_count": 13,
     "metadata": {},
     "output_type": "execute_result"
    }
   ],
   "source": [
    "inp='bmaunmdbraain'\n",
    "msg1=inp[::2]\n",
    "msg2=inp[1::2]\n",
    "msg1+','+msg2"
   ]
  },
  {
   "cell_type": "code",
   "execution_count": 10,
   "id": "1f4f3f9b",
   "metadata": {},
   "outputs": [
    {
     "data": {
      "text/plain": [
       "'bandran'"
      ]
     },
     "execution_count": 10,
     "metadata": {},
     "output_type": "execute_result"
    }
   ],
   "source": [
    "msg1.strip('#')"
   ]
  },
  {
   "cell_type": "code",
   "execution_count": 11,
   "id": "9249af0d",
   "metadata": {},
   "outputs": [
    {
     "data": {
      "text/plain": [
       "'mumbai'"
      ]
     },
     "execution_count": 11,
     "metadata": {},
     "output_type": "execute_result"
    }
   ],
   "source": [
    "msg2.strip('#')"
   ]
  },
  {
   "cell_type": "code",
   "execution_count": 12,
   "id": "ec20c626",
   "metadata": {},
   "outputs": [
    {
     "data": {
      "text/plain": [
       "'bandran,mumbai'"
      ]
     },
     "execution_count": 12,
     "metadata": {},
     "output_type": "execute_result"
    }
   ],
   "source": [
    "inp='bmaunmdbraain#'\n",
    "msg1=inp[::2]\n",
    "msg2=inp[1::2]\n",
    "msg1.strip('#')+','+msg2.strip('#')"
   ]
  },
  {
   "cell_type": "markdown",
   "id": "2dfc7241",
   "metadata": {},
   "source": [
    "List_remove_append\n",
    "--------------\n",
    "\n",
    "Description\n",
    "\n",
    "Remove SPSS from input_list=['SAS', 'R', 'PYTHON', 'SPSS'] and add 'SPARK' in its place.\n",
    "\n",
    "\n",
    "\n",
    "Sample Input:\n",
    "\n",
    "['SAS', 'R', 'PYTHON', 'SPSS']\n",
    "\n",
    "\n",
    "\n",
    "Sample Output:\n",
    "\n",
    "['SAS', 'R', 'PYTHON', 'SPARK']"
   ]
  },
  {
   "cell_type": "code",
   "execution_count": 15,
   "id": "9c53875e",
   "metadata": {},
   "outputs": [
    {
     "data": {
      "text/plain": [
       "['SAS', 'R', 'PYTHON', 'SPARK']"
      ]
     },
     "execution_count": 15,
     "metadata": {},
     "output_type": "execute_result"
    }
   ],
   "source": [
    "inp=['SAS', 'R', 'PYTHON', 'SPSS']\n",
    "inp.remove('SPSS')\n",
    "inp.append('SPARK')\n",
    "inp"
   ]
  },
  {
   "cell_type": "markdown",
   "id": "fbb4dc32",
   "metadata": {},
   "source": [
    "List to String\n",
    "----------------\n",
    "\n",
    "Description\n",
    "\n",
    "Convert a list ['Pythons syntax is easy to learn', 'Pythons syntax is very clear'] to a string using ‘&’. The sample output of this string will be:\n",
    "Pythons syntax is easy to learn & Pythons syntax is very clear\n",
    "\n",
    "Note that there is a space on both sides of '&' (as usual in English sentences)."
   ]
  },
  {
   "cell_type": "code",
   "execution_count": 18,
   "id": "cdaad7f8",
   "metadata": {},
   "outputs": [
    {
     "data": {
      "text/plain": [
       "'Pythons syntax is easy to learn & Pythons syntax is very clear'"
      ]
     },
     "execution_count": 18,
     "metadata": {},
     "output_type": "execute_result"
    }
   ],
   "source": [
    "inp=['Pythons syntax is easy to learn', 'Pythons syntax is very clear']\n",
    "out=' & '.join(inp)\n",
    "out"
   ]
  },
  {
   "cell_type": "markdown",
   "id": "6c438bd1",
   "metadata": {},
   "source": [
    "String Split\n",
    "----------------\n",
    "\n",
    "Description\n",
    "\n",
    "Split the string input_str = 'Kumar_Ravi_003' to the person's second name, first name and unique customer code. In this example, second_name= 'Kumar', first_name= 'Ravi', customer_code = '003'.\n",
    "\n",
    "\n",
    "\n",
    "A sample output of the input 'Kumar_Ravi_003' is:\n",
    "\n",
    "Ravi\n",
    "Kumar\n",
    "003\n",
    " \n",
    "\n",
    "Note that you need to print in the order first name, last name and customer code."
   ]
  },
  {
   "cell_type": "code",
   "execution_count": 20,
   "id": "934ac70a",
   "metadata": {},
   "outputs": [
    {
     "data": {
      "text/plain": [
       "'Ravi Kumar 003'"
      ]
     },
     "execution_count": 20,
     "metadata": {},
     "output_type": "execute_result"
    }
   ],
   "source": [
    "inp='Kumar_Ravi_003'\n",
    "out=inp.split('_')\n",
    "out=out[1]+' '+out[0]+' '+out[2]\n",
    "out"
   ]
  },
  {
   "cell_type": "markdown",
   "id": "268d9230",
   "metadata": {},
   "source": [
    "Tuple\n",
    "-------------\n",
    "\n",
    "Description\n",
    "\n",
    "Add the element ‘Python’ to a tuple input_tuple = ('Monty Python', 'British', 1969). Since tuples are immutable, one way to do this is to convert the tuple to a list, add the element, and convert it back to a tuple.\n",
    "\n",
    "\n",
    "\n",
    "Sample Input:\n",
    "\n",
    "('Monty Python', 'British', 1969)\n",
    "\n",
    "----------------------\n",
    "\n",
    "Sample Output:\n",
    "\n",
    "('Monty Python', 'British', 1969, 'Python')"
   ]
  },
  {
   "cell_type": "code",
   "execution_count": 22,
   "id": "3653bc2f",
   "metadata": {},
   "outputs": [
    {
     "data": {
      "text/plain": [
       "('Monty Python', 'British', 1969, 'Python')"
      ]
     },
     "execution_count": 22,
     "metadata": {},
     "output_type": "execute_result"
    }
   ],
   "source": [
    "inp=('Monty Python', 'British', 1969)\n",
    "out=list(inp)\n",
    "out.append('Python')\n",
    "out=tuple(out)\n",
    "out"
   ]
  },
  {
   "cell_type": "markdown",
   "id": "dda73bbe",
   "metadata": {},
   "source": [
    "Sets Practice\n",
    "--------------\n",
    "\n",
    "Description\n",
    "\n",
    "Let’s say you have two lists A and B. Identify the elements which are common in the two lists A and B and return them in a sorted manner. For example \n",
    "\n",
    "\n",
    "\n",
    "Sample Input :\n",
    "\n",
    "A = [5, 1, 3, 4, 4, 5, 6, 7]\n",
    "\n",
    "B = [3, 3, 5, 5, 1 ,7 ,2]\n",
    "\n",
    "\n",
    "\n",
    "Sample Output:\n",
    "\n",
    "[1,3,5,7]\n",
    "\n",
    "\n",
    "\n",
    "If you observe the sample output here you can see that \n",
    "\n",
    "Though value 5 is repeated twice in both lists, in the final output it is present only once.\n",
    "The values are returned in a sorted manner with values increasing."
   ]
  },
  {
   "cell_type": "code",
   "execution_count": 26,
   "id": "538997be",
   "metadata": {},
   "outputs": [
    {
     "data": {
      "text/plain": [
       "[1, 3, 5, 7]"
      ]
     },
     "execution_count": 26,
     "metadata": {},
     "output_type": "execute_result"
    }
   ],
   "source": [
    "A = [5, 1, 3, 4, 4, 5, 6, 7]\n",
    "B = [3, 3, 5, 5, 1 ,7 ,2]\n",
    "out=list(set(A)&set(B))\n",
    "out"
   ]
  },
  {
   "cell_type": "markdown",
   "id": "f9fd84ec",
   "metadata": {},
   "source": [
    "Dictionary Coding\n",
    "----------------\n",
    "\n",
    "Description\n",
    "\n",
    "Write code to fetch the profession of the employee with Employee id - 104 from an employee input given in the form of a dictionary where key represent employ id and values represent the name, age, and profession (in the same order).\n",
    "\n",
    "\n",
    "\n",
    "Sample input:\n",
    "\n",
    "Employee_data = { 101:['Shiva', 24, 'Content Strategist'] ,102:['Udit',25,'Content Strategist'], 103:['Sonam', 28,'Sr Manager'], 104:['Ansari',29,'Product Lead' ],105:['Huzefa',32,'Project Manager' ]}\n",
    "\n",
    "\n",
    "\n",
    "Sample output:\n",
    "\n",
    "'Product Lead'\n",
    "\n",
    "\n",
    "\n",
    "Note: Assume that employee data would be available in the data provided to you "
   ]
  },
  {
   "cell_type": "code",
   "execution_count": 30,
   "id": "79139216",
   "metadata": {},
   "outputs": [
    {
     "data": {
      "text/plain": [
       "'Product Lead'"
      ]
     },
     "execution_count": 30,
     "metadata": {},
     "output_type": "execute_result"
    }
   ],
   "source": [
    "inp = { 101:['Shiva', 24, 'Content Strategist'] ,102:['Udit',25,'Content Strategist'], 103:['Sonam', 28,'Sr Manager'], 104:['Ansari',29,'Product Lead' ],105:['Huzefa',32,'Project Manager' ]} \n",
    "out=inp[104][2]\n",
    "out"
   ]
  },
  {
   "cell_type": "markdown",
   "id": "f82e94ee",
   "metadata": {},
   "source": [
    "Dict_Error\n",
    "-----------------\n",
    "\n",
    "Description\n",
    "\n",
    "From a Dictionary input_dict={'Name': 'Monty', 'Profession': 'Singer' }, get the value of a key ‘Label’ which is not a part of the dictionary, in such a way that Python doesn't hit an error. If the key does not exist in the dictionary, Python should return 'NA'.\n",
    "\n",
    "\n",
    "\n",
    "Sample Input:\n",
    "\n",
    "{'Name': 'Monty', 'Profession': 'Singer' }\n",
    "\n",
    "\n",
    "\n",
    "Sample Output:\n",
    "\n",
    "NA"
   ]
  },
  {
   "cell_type": "code",
   "execution_count": null,
   "id": "42dfac4f",
   "metadata": {},
   "outputs": [],
   "source": []
  }
 ],
 "metadata": {
  "kernelspec": {
   "display_name": "Python 3 (ipykernel)",
   "language": "python",
   "name": "python3"
  },
  "language_info": {
   "codemirror_mode": {
    "name": "ipython",
    "version": 3
   },
   "file_extension": ".py",
   "mimetype": "text/x-python",
   "name": "python",
   "nbconvert_exporter": "python",
   "pygments_lexer": "ipython3",
   "version": "3.9.13"
  }
 },
 "nbformat": 4,
 "nbformat_minor": 5
}
