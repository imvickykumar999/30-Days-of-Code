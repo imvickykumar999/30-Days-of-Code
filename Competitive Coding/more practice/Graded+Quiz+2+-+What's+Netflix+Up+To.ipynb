{
  "cells": [
    {
      "cell_type": "code",
      "source": [
        "# !pip install art\n",
        "from art import *\n",
        "txt = text2art(\"Netflix\",font='dot',chr_ignore=True)\n",
        "print(txt)"
      ],
      "metadata": {
        "colab": {
          "base_uri": "https://localhost:8080/"
        },
        "id": "BTpUF8XzaO4o",
        "outputId": "ed4dbd02-1b18-4771-8069-e6a5cb6167b9"
      },
      "execution_count": 8,
      "outputs": [
        {
          "output_type": "stream",
          "name": "stdout",
          "text": [
            "                                                                                                                      \n",
            "                                                                                                                      \n",
            "                                               tttt             ffffffffffffffff  lllllll   iiii                      \n",
            "                                            ttt:::t            f::::::::::::::::f l:::::l  i::::i                     \n",
            "                                            t:::::t           f::::::::::::::::::fl:::::l   iiii                      \n",
            "                                            t:::::t           f::::::fffffff:::::fl:::::l                             \n",
            "nnnn  nnnnnnnn        eeeeeeeeeeee    ttttttt:::::ttttttt     f:::::f       ffffff l::::l iiiiiii xxxxxxx      xxxxxxx\n",
            "n:::nn::::::::nn    ee::::::::::::ee  t:::::::::::::::::t     f:::::f              l::::l i:::::i  x:::::x    x:::::x \n",
            "n::::::::::::::nn  e::::::eeeee:::::eet:::::::::::::::::t    f:::::::ffffff        l::::l  i::::i   x:::::x  x:::::x  \n",
            "nn:::::::::::::::ne::::::e     e:::::etttttt:::::::tttttt    f::::::::::::f        l::::l  i::::i    x:::::xx:::::x   \n",
            "  n:::::nnnn:::::ne:::::::eeeee::::::e      t:::::t          f::::::::::::f        l::::l  i::::i     x::::::::::x    \n",
            "  n::::n    n::::ne:::::::::::::::::e       t:::::t          f:::::::ffffff        l::::l  i::::i      x::::::::x     \n",
            "  n::::n    n::::ne::::::eeeeeeeeeee        t:::::t           f:::::f              l::::l  i::::i      x::::::::x     \n",
            "  n::::n    n::::ne:::::::e                 t:::::t    tttttt f:::::f              l::::l  i::::i     x::::::::::x    \n",
            "  n::::n    n::::ne::::::::e                t::::::tttt:::::tf:::::::f            l::::::li::::::i   x:::::xx:::::x   \n",
            "  n::::n    n::::n e::::::::eeeeeeee        tt::::::::::::::tf:::::::f            l::::::li::::::i  x:::::x  x:::::x  \n",
            "  n::::n    n::::n  ee:::::::::::::e          tt:::::::::::ttf:::::::f            l::::::li::::::i x:::::x    x:::::x \n",
            "  nnnnnn    nnnnnn    eeeeeeeeeeeeee            ttttttttttt  fffffffff            lllllllliiiiiiiixxxxxxx      xxxxxxx\n",
            "                                                                                                                      \n",
            "                                                                                                                      \n",
            "                                                                                                                      \n",
            "                                                                                                                      \n",
            "                                                                                                                      \n",
            "                                                                                                                      \n",
            "                                                                                                                      \n",
            "\n"
          ]
        }
      ]
    },
    {
      "cell_type": "markdown",
      "metadata": {
        "id": "LprcF6DZYxGN"
      },
      "source": [
        "The `netflix` dictionary contains a list of 100 titles along with their total number of views in the past. Based on the keys and values provided in this dictionary, answer the questions given below."
      ]
    },
    {
      "cell_type": "code",
      "execution_count": 1,
      "metadata": {
        "id": "qJK_gjGkYxGV"
      },
      "outputs": [],
      "source": [
        "netflix = {'The Debt Collector': 1821195, 'Act of Vengeance': 2804479, 'Paradise Lost': 2195477, \"Gerald's Game\": 3650626, 'Long Shot': 638440, 'Mak Cun': 1010311, 'Our Souls at Night': 3028705, 'Out of Thin Air': 2681938, \"Paul Hollywood's Big Continental Road Trip\": 230689, 'Satu Hari': 1012350, 'Monster High: Boo York, Boo York': 1526025, 'Cultivating the Seas: History and Future of the Full-Cycle Cultured Kindai Tuna': 2762103, 'Domino': 872663, 'TUNA GIRL': 2574816, '5CM': 2647713, 'Animal World': 220789, 'Hold the Dark': 2307432, 'Lessons from a School Shooting: Notes from Dunblane': 2419534, 'Made in Mexico': 3653712, 'Single': 239278, 'The 3rd Eye': 196138, 'The Sinking Of Van Der Wijck': 2831856, 'Two Catalonias': 1337119, 'Bobby Sands: 66 Days': 2005623, 'Bard of Blood': 744998, 'Deliha 2': 3638900, 'Dragons: Rescue Riders': 3241239, 'In the Shadow of the Moon': 1213329, 'Skylines': 1840094, 'Sturgill Simpson Presents Sound & Fury': 1915540, 'The Politician': 1019394, 'Weeds on Fire': 2273090, 'Much Loved': 3039852, 'Joseph: King of Dreams': 1734449, 'Malaal': 1926128, 'The Grandmaster': 2549410, 'The Inmate': 130965, 'The Hurricane Heist': 2191538, 'Def Comedy Jam 25': 1392697, 'Restless Creature: Wendy Whelan': 2474412, 'Print the Legend': 548250, 'Birders': 3478883, 'Furie': 2755115, 'Leap!': 1401638, 'Oh! Baby (Malayalam)': 839139, 'Oh! Baby (Tamil)': 2691505, 'USS Indianapolis: Men of Courage': 3286014, 'A Wrinkle in Time': 1258861, 'Teach Us All': 2428947, 'White Island': 1152905, 'Inside Man: Most Wanted': 2812661, 'Jeff Dunham: Beside Himself': 2930368, 'China Salesman': 3377292, 'Swearnet: The Movie': 949689, 'The Bar': 620655, 'Manmadhudu 2': 1842761, 'Team Kaylie': 359856, 'Under the Eiffel Tower': 2298237, 'Audrie & Daisy': 1573055, 'Iliza Shlesinger: Confirmed Kills': 365220, 'BONDING': 1664242, 'Do Paise Ki Dhoop Chaar Aane Ki Baarish': 2770879, '20 Feet From Stardom': 2931730, 'In Darkness': 3248749, 'Gaga: Five Foot Two': 3719550, 'The Bad Batch': 3656264, 'SMOSH: The Movie': 3697506, 'King of Boys': 584112, 'Merry Men: The Real Yoruba Demons': 2035595, \"Sarah's Key\": 1337902, 'The Wedding Party 2: Destination Dubai': 1471204, 'Vagabond': 1600432, 'Battlefish': 723021, 'DRAGON PILOT: Hisone & Masotan': 602919, 'Hilda': 54948, 'Maniac': 1348196, 'Quincy': 2601704, 'Rafinha Bastos: Ultimatum': 3469996, 'The Good Cop': 2265521, 'Between Two Ferns: The Movie': 3146508, 'Criminal: France': 2021409, 'Criminal: Germany': 658824, 'Criminal: Spain': 3078634, 'Criminal: UK': 2721398, 'Daddy Issues': 2119035, \"Inside Bill's Brain: Decoding Bill Gates\": 1755104, 'The Hockey Girls': 2000507, 'Travel Mates 2': 707260, 'True: Tricky Treat Day': 3213199, 'Two Sentence Horror Stories': 2438329, 'Mad World': 2281773, 'Mobile Suit Gundam UC': 778879, 'The Bund': 1729892, 'The First Line': 674591, 'Maynard': 84986, 'Monkey Twins': 3277179, 'Bitcoin Heist': 1450158, 'I Am Not Madame Bovary': 2763830, 'Vincent N Roxxy': 1961810, \"Chef's Table: France\": 2065738}"
      ]
    },
    {
      "cell_type": "markdown",
      "metadata": {
        "id": "bde1-ryFYxGZ"
      },
      "source": [
        "#### Q1. There's an Indian movie in the dictionary named `Do Paise Ki Dhoop Chaar Aane Ki Baarish`. What is the number of views for this movie?\n",
        "- 90,854\n",
        "- 658,824\n",
        "- 1,023,597\n",
        "- 2,770,879"
      ]
    },
    {
      "cell_type": "markdown",
      "source": [
        "An anna (or ānna) was a currency unit formerly used in British India, equal to 1⁄16 of a rupee. It was subdivided into four (old) Paisa or twelve pies (thus there were 192 pies in a rupee). When the rupee was decimalised and subdivided into 100 (new) paise, one anna was therefore equivalent to 6.25 paise."
      ],
      "metadata": {
        "id": "zXU6Qm6VZBlH"
      }
    },
    {
      "cell_type": "code",
      "source": [
        "netflix['Do Paise Ki Dhoop Chaar Aane Ki Baarish']"
      ],
      "metadata": {
        "colab": {
          "base_uri": "https://localhost:8080/"
        },
        "id": "P0R5LCzDZGEq",
        "outputId": "b1df0f52-ecd7-4370-e374-fae3cae955d3"
      },
      "execution_count": 3,
      "outputs": [
        {
          "output_type": "execute_result",
          "data": {
            "text/plain": [
              "2770879"
            ]
          },
          "metadata": {},
          "execution_count": 3
        }
      ]
    },
    {
      "cell_type": "markdown",
      "metadata": {
        "id": "PHztEIDSYxGa"
      },
      "source": [
        "#### Q2. Which of the shows is the most and least popular in terms of number of views? </br> \n",
        "(Hint: Use the `key` argument in the max() and min() functions.)\n",
        "- Monkey Twins, Maynard\n",
        "- Gaga: Five Foot Two, Hilda\n",
        "- Gerald's Game, White Island\n",
        "- Rafinha Bastos: Ultimatum, The First Line"
      ]
    },
    {
      "cell_type": "code",
      "source": [
        "a = list(netflix.keys())\n",
        "a"
      ],
      "metadata": {
        "colab": {
          "base_uri": "https://localhost:8080/"
        },
        "id": "CtwE3dYLdnCF",
        "outputId": "6241a42c-f00c-4f5e-f8e7-e6042227de2b"
      },
      "execution_count": 18,
      "outputs": [
        {
          "output_type": "execute_result",
          "data": {
            "text/plain": [
              "['The Debt Collector',\n",
              " 'Act of Vengeance',\n",
              " 'Paradise Lost',\n",
              " \"Gerald's Game\",\n",
              " 'Long Shot',\n",
              " 'Mak Cun',\n",
              " 'Our Souls at Night',\n",
              " 'Out of Thin Air',\n",
              " \"Paul Hollywood's Big Continental Road Trip\",\n",
              " 'Satu Hari',\n",
              " 'Monster High: Boo York, Boo York',\n",
              " 'Cultivating the Seas: History and Future of the Full-Cycle Cultured Kindai Tuna',\n",
              " 'Domino',\n",
              " 'TUNA GIRL',\n",
              " '5CM',\n",
              " 'Animal World',\n",
              " 'Hold the Dark',\n",
              " 'Lessons from a School Shooting: Notes from Dunblane',\n",
              " 'Made in Mexico',\n",
              " 'Single',\n",
              " 'The 3rd Eye',\n",
              " 'The Sinking Of Van Der Wijck',\n",
              " 'Two Catalonias',\n",
              " 'Bobby Sands: 66 Days',\n",
              " 'Bard of Blood',\n",
              " 'Deliha 2',\n",
              " 'Dragons: Rescue Riders',\n",
              " 'In the Shadow of the Moon',\n",
              " 'Skylines',\n",
              " 'Sturgill Simpson Presents Sound & Fury',\n",
              " 'The Politician',\n",
              " 'Weeds on Fire',\n",
              " 'Much Loved',\n",
              " 'Joseph: King of Dreams',\n",
              " 'Malaal',\n",
              " 'The Grandmaster',\n",
              " 'The Inmate',\n",
              " 'The Hurricane Heist',\n",
              " 'Def Comedy Jam 25',\n",
              " 'Restless Creature: Wendy Whelan',\n",
              " 'Print the Legend',\n",
              " 'Birders',\n",
              " 'Furie',\n",
              " 'Leap!',\n",
              " 'Oh! Baby (Malayalam)',\n",
              " 'Oh! Baby (Tamil)',\n",
              " 'USS Indianapolis: Men of Courage',\n",
              " 'A Wrinkle in Time',\n",
              " 'Teach Us All',\n",
              " 'White Island',\n",
              " 'Inside Man: Most Wanted',\n",
              " 'Jeff Dunham: Beside Himself',\n",
              " 'China Salesman',\n",
              " 'Swearnet: The Movie',\n",
              " 'The Bar',\n",
              " 'Manmadhudu 2',\n",
              " 'Team Kaylie',\n",
              " 'Under the Eiffel Tower',\n",
              " 'Audrie & Daisy',\n",
              " 'Iliza Shlesinger: Confirmed Kills',\n",
              " 'BONDING',\n",
              " 'Do Paise Ki Dhoop Chaar Aane Ki Baarish',\n",
              " '20 Feet From Stardom',\n",
              " 'In Darkness',\n",
              " 'Gaga: Five Foot Two',\n",
              " 'The Bad Batch',\n",
              " 'SMOSH: The Movie',\n",
              " 'King of Boys',\n",
              " 'Merry Men: The Real Yoruba Demons',\n",
              " \"Sarah's Key\",\n",
              " 'The Wedding Party 2: Destination Dubai',\n",
              " 'Vagabond',\n",
              " 'Battlefish',\n",
              " 'DRAGON PILOT: Hisone & Masotan',\n",
              " 'Hilda',\n",
              " 'Maniac',\n",
              " 'Quincy',\n",
              " 'Rafinha Bastos: Ultimatum',\n",
              " 'The Good Cop',\n",
              " 'Between Two Ferns: The Movie',\n",
              " 'Criminal: France',\n",
              " 'Criminal: Germany',\n",
              " 'Criminal: Spain',\n",
              " 'Criminal: UK',\n",
              " 'Daddy Issues',\n",
              " \"Inside Bill's Brain: Decoding Bill Gates\",\n",
              " 'The Hockey Girls',\n",
              " 'Travel Mates 2',\n",
              " 'True: Tricky Treat Day',\n",
              " 'Two Sentence Horror Stories',\n",
              " 'Mad World',\n",
              " 'Mobile Suit Gundam UC',\n",
              " 'The Bund',\n",
              " 'The First Line',\n",
              " 'Maynard',\n",
              " 'Monkey Twins',\n",
              " 'Bitcoin Heist',\n",
              " 'I Am Not Madame Bovary',\n",
              " 'Vincent N Roxxy',\n",
              " \"Chef's Table: France\"]"
            ]
          },
          "metadata": {},
          "execution_count": 18
        }
      ]
    },
    {
      "cell_type": "code",
      "source": [
        "b = list(netflix.values())\n",
        "b"
      ],
      "metadata": {
        "colab": {
          "base_uri": "https://localhost:8080/"
        },
        "id": "AMeXaLbZeHuC",
        "outputId": "53e45caf-1ba4-400d-902f-c19d6ed0d3f5"
      },
      "execution_count": 19,
      "outputs": [
        {
          "output_type": "execute_result",
          "data": {
            "text/plain": [
              "[1821195,\n",
              " 2804479,\n",
              " 2195477,\n",
              " 3650626,\n",
              " 638440,\n",
              " 1010311,\n",
              " 3028705,\n",
              " 2681938,\n",
              " 230689,\n",
              " 1012350,\n",
              " 1526025,\n",
              " 2762103,\n",
              " 872663,\n",
              " 2574816,\n",
              " 2647713,\n",
              " 220789,\n",
              " 2307432,\n",
              " 2419534,\n",
              " 3653712,\n",
              " 239278,\n",
              " 196138,\n",
              " 2831856,\n",
              " 1337119,\n",
              " 2005623,\n",
              " 744998,\n",
              " 3638900,\n",
              " 3241239,\n",
              " 1213329,\n",
              " 1840094,\n",
              " 1915540,\n",
              " 1019394,\n",
              " 2273090,\n",
              " 3039852,\n",
              " 1734449,\n",
              " 1926128,\n",
              " 2549410,\n",
              " 130965,\n",
              " 2191538,\n",
              " 1392697,\n",
              " 2474412,\n",
              " 548250,\n",
              " 3478883,\n",
              " 2755115,\n",
              " 1401638,\n",
              " 839139,\n",
              " 2691505,\n",
              " 3286014,\n",
              " 1258861,\n",
              " 2428947,\n",
              " 1152905,\n",
              " 2812661,\n",
              " 2930368,\n",
              " 3377292,\n",
              " 949689,\n",
              " 620655,\n",
              " 1842761,\n",
              " 359856,\n",
              " 2298237,\n",
              " 1573055,\n",
              " 365220,\n",
              " 1664242,\n",
              " 2770879,\n",
              " 2931730,\n",
              " 3248749,\n",
              " 3719550,\n",
              " 3656264,\n",
              " 3697506,\n",
              " 584112,\n",
              " 2035595,\n",
              " 1337902,\n",
              " 1471204,\n",
              " 1600432,\n",
              " 723021,\n",
              " 602919,\n",
              " 54948,\n",
              " 1348196,\n",
              " 2601704,\n",
              " 3469996,\n",
              " 2265521,\n",
              " 3146508,\n",
              " 2021409,\n",
              " 658824,\n",
              " 3078634,\n",
              " 2721398,\n",
              " 2119035,\n",
              " 1755104,\n",
              " 2000507,\n",
              " 707260,\n",
              " 3213199,\n",
              " 2438329,\n",
              " 2281773,\n",
              " 778879,\n",
              " 1729892,\n",
              " 674591,\n",
              " 84986,\n",
              " 3277179,\n",
              " 1450158,\n",
              " 2763830,\n",
              " 1961810,\n",
              " 2065738]"
            ]
          },
          "metadata": {},
          "execution_count": 19
        }
      ]
    },
    {
      "cell_type": "code",
      "source": [
        "c = max(b)\n",
        "c"
      ],
      "metadata": {
        "colab": {
          "base_uri": "https://localhost:8080/"
        },
        "id": "OkOP-1N5eO8W",
        "outputId": "8d4d2793-0077-467c-8cb6-2a39b5ae5587"
      },
      "execution_count": 24,
      "outputs": [
        {
          "output_type": "execute_result",
          "data": {
            "text/plain": [
              "3719550"
            ]
          },
          "metadata": {},
          "execution_count": 24
        }
      ]
    },
    {
      "cell_type": "code",
      "source": [
        "d = b.index(c)\n",
        "d"
      ],
      "metadata": {
        "colab": {
          "base_uri": "https://localhost:8080/"
        },
        "id": "7ehiLTNYeTJU",
        "outputId": "d9ef408e-57fc-43be-84e1-2ee2413fa199"
      },
      "execution_count": 22,
      "outputs": [
        {
          "output_type": "execute_result",
          "data": {
            "text/plain": [
              "64"
            ]
          },
          "metadata": {},
          "execution_count": 22
        }
      ]
    },
    {
      "cell_type": "code",
      "source": [
        "a[d]"
      ],
      "metadata": {
        "colab": {
          "base_uri": "https://localhost:8080/",
          "height": 36
        },
        "id": "7zaXyz9AdvKe",
        "outputId": "2cc058c7-da93-4abd-b841-9a758d859935"
      },
      "execution_count": 23,
      "outputs": [
        {
          "output_type": "execute_result",
          "data": {
            "text/plain": [
              "'Gaga: Five Foot Two'"
            ],
            "application/vnd.google.colaboratory.intrinsic+json": {
              "type": "string"
            }
          },
          "metadata": {},
          "execution_count": 23
        }
      ]
    },
    {
      "cell_type": "code",
      "source": [
        "list(netflix.keys())[list(netflix.values()).index(max(netflix.values()))], list(netflix.keys())[list(netflix.values()).index(min(netflix.values()))]"
      ],
      "metadata": {
        "colab": {
          "base_uri": "https://localhost:8080/"
        },
        "id": "_lawEdpMbNbW",
        "outputId": "75cdb1f0-ca23-4907-ad72-77d571f622f1"
      },
      "execution_count": 17,
      "outputs": [
        {
          "output_type": "execute_result",
          "data": {
            "text/plain": [
              "('Gaga: Five Foot Two', 'Hilda')"
            ]
          },
          "metadata": {},
          "execution_count": 17
        }
      ]
    },
    {
      "cell_type": "markdown",
      "metadata": {
        "id": "nfx6GvD6YxGb"
      },
      "source": [
        "Netflix has just recieved the number of views for the last week as well. This data is given below, in the form of a dictionary"
      ]
    },
    {
      "cell_type": "code",
      "execution_count": 25,
      "metadata": {
        "id": "AwBSBl1jYxGb"
      },
      "outputs": [],
      "source": [
        "netflix_last_week = {'The Debt Collector': 229218, 'Act of Vengeance': 191468, 'Paradise Lost': 167846, \"Gerald's Game\": 113298, 'Long Shot': 15190, 'Mak Cun': 244581, 'Our Souls at Night': 188095, 'Out of Thin Air': 183961, \"Paul Hollywood's Big Continental Road Trip\": 207967, 'Satu Hari': 226211, 'Monster High: Boo York, Boo York': 265919, 'Cultivating the Seas: History and Future of the Full-Cycle Cultured Kindai Tuna': 192246, 'Domino': 190538, 'TUNA GIRL': 301819, '5CM': 154371, 'Animal World': 228227, 'Hold the Dark': 222938, 'Lessons from a School Shooting: Notes from Dunblane': 256580, 'Made in Mexico': 199790, 'Single': 155517, 'The 3rd Eye': 251349, 'The Sinking Of Van Der Wijck': 153797, 'Two Catalonias': 189422, 'Bobby Sands: 66 Days': 202461, 'Bard of Blood': 241928, 'Deliha 2': 304552, 'Dragons: Rescue Riders': 155149, 'In the Shadow of the Moon': 222999, 'Skylines': 118737, 'Sturgill Simpson Presents Sound & Fury': 43590, 'The Politician': 11902, 'Weeds on Fire': 243382, 'Much Loved': 190123, 'Joseph: King of Dreams': 46104, 'Malaal': 70961, 'The Grandmaster': 44908, 'The Inmate': 19574, 'The Hurricane Heist': 167696, 'Def Comedy Jam 25': 208075, 'Restless Creature: Wendy Whelan': 22976, 'Print the Legend': 161584, 'Birders': 257668, 'Furie': 282266, 'Leap!': 124338, 'Oh! Baby (Malayalam)': 18203, 'Oh! Baby (Tamil)': 131481, 'USS Indianapolis: Men of Courage': 76558, 'A Wrinkle in Time': 169365, 'Teach Us All': 50378, 'White Island': 299779, 'Inside Man: Most Wanted': 123346, 'Jeff Dunham: Beside Himself': 283561, 'China Salesman': 182041, 'Swearnet: The Movie': 63809, 'The Bar': 41243, 'Manmadhudu 2': 261349, 'Team Kaylie': 101283, 'Under the Eiffel Tower': 83650, 'Audrie & Daisy': 106092, 'Iliza Shlesinger: Confirmed Kills': 255103, 'BONDING': 202683, 'Do Paise Ki Dhoop Chaar Aane Ki Baarish': 32329, '20 Feet From Stardom': 165178, 'In Darkness': 95259, 'Gaga: Five Foot Two': 36638, 'The Bad Batch': 197820, 'SMOSH: The Movie': 196519, 'King of Boys': 49332, 'Merry Men: The Real Yoruba Demons': 293229, \"Sarah's Key\": 178523, 'The Wedding Party 2: Destination Dubai': 51211, 'Vagabond': 116831, 'Battlefish': 5448, 'DRAGON PILOT: Hisone & Masotan': 281873, 'Hilda': 21348, 'Maniac': 268187, 'Quincy': 139696, 'Rafinha Bastos: Ultimatum': 105449, 'The Good Cop': 73230, 'Between Two Ferns: The Movie': 135600, 'Criminal: France': 243469, 'Criminal: Germany': 285211, 'Criminal: Spain': 45184, 'Criminal: UK': 117056, 'Daddy Issues': 267329, \"Inside Bill's Brain: Decoding Bill Gates\": 64083, 'The Hockey Girls': 114146, 'Travel Mates 2': 21088, 'True: Tricky Treat Day': 116504, 'Two Sentence Horror Stories': 274471, 'Mad World': 225244, 'Mobile Suit Gundam UC': 47306, 'The Bund': 146872, 'The First Line': 148861, 'Maynard': 87252, 'Monkey Twins': 199274, 'Bitcoin Heist': 41105, 'I Am Not Madame Bovary': 57841, 'Vincent N Roxxy': 207453, \"Chef's Table: France\": 200536}"
      ]
    },
    {
      "cell_type": "markdown",
      "metadata": {
        "id": "LP_0024tYxGd"
      },
      "source": [
        "#### Q3. Netflix has just recieved the number of views for the last week as well. Add these views to the total views and find the most popular title in terms of views. Also find out how many views this title has? \n",
        "- Title: Deliha 2, Views: 3943452\n",
        "- Title: Dragons: Rescue Riders, Views: 3996388\n",
        "- Title: Rafinha Bastos: Ultimatum, Views: 3575445\n",
        "- Title: Gaga: Five Foot Two, Views: 3756188"
      ]
    },
    {
      "cell_type": "code",
      "source": [
        "for i in netflix_last_week:\n",
        "  netflix[i] = netflix[i] + netflix_last_week[i]\n",
        "\n",
        "max(netflix.values())"
      ],
      "metadata": {
        "colab": {
          "base_uri": "https://localhost:8080/"
        },
        "id": "ULNwrWocet1e",
        "outputId": "60aeec0e-9175-41f6-d0b9-90f89f28e88b"
      },
      "execution_count": 29,
      "outputs": [
        {
          "output_type": "execute_result",
          "data": {
            "text/plain": [
              "3943452"
            ]
          },
          "metadata": {},
          "execution_count": 29
        }
      ]
    },
    {
      "cell_type": "code",
      "source": [
        "list(netflix.keys())[list(netflix.values()).index(max(netflix.values()))]"
      ],
      "metadata": {
        "colab": {
          "base_uri": "https://localhost:8080/",
          "height": 36
        },
        "id": "gZ4qc6_OewX5",
        "outputId": "6f9e3d11-8607-4f04-b129-f9402809c3f0"
      },
      "execution_count": 30,
      "outputs": [
        {
          "output_type": "execute_result",
          "data": {
            "text/plain": [
              "'Deliha 2'"
            ],
            "application/vnd.google.colaboratory.intrinsic+json": {
              "type": "string"
            }
          },
          "metadata": {},
          "execution_count": 30
        }
      ]
    },
    {
      "cell_type": "code",
      "source": [],
      "metadata": {
        "id": "WQ6c0G5qfqKx"
      },
      "execution_count": null,
      "outputs": []
    }
  ],
  "metadata": {
    "kernelspec": {
      "display_name": "Python 3",
      "language": "python",
      "name": "python3"
    },
    "language_info": {
      "codemirror_mode": {
        "name": "ipython",
        "version": 3
      },
      "file_extension": ".py",
      "mimetype": "text/x-python",
      "name": "python",
      "nbconvert_exporter": "python",
      "pygments_lexer": "ipython3",
      "version": "3.6.5"
    },
    "colab": {
      "provenance": []
    }
  },
  "nbformat": 4,
  "nbformat_minor": 0
}