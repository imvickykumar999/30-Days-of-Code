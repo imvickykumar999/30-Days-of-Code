{
  "nbformat": 4,
  "nbformat_minor": 0,
  "metadata": {
    "colab": {
      "provenance": []
    },
    "kernelspec": {
      "name": "python3",
      "display_name": "Python 3"
    },
    "language_info": {
      "name": "python"
    }
  },
  "cells": [
    {
      "cell_type": "markdown",
      "source": [
        "Code:\n",
        "\n",
        "https://docs.google.com/document/d/1EfzK5CwibnIG2Ns6gnXqJa_GD1WDet-dF6zkmsD0AoQ/edit\n",
        "\n",
        "-----------\n",
        "\n",
        "Dataset:\n",
        "\n",
        "https://drive.google.com/file/d/1dia6j0I2aNg7m-CtmBwCID9f8HLKNSnp/view"
      ],
      "metadata": {
        "id": "tQAkzBoSPqZs"
      }
    },
    {
      "cell_type": "markdown",
      "source": [
        "Loading a csv in Pandas\n",
        "----------\n",
        "\n",
        "Description\n",
        "\n",
        "Create a dataframe from the file ‘marks.csv’ and print the contents of the dataframe. Open the file from the link above and inspect the required elements in the file (header, separator, etc.). If the top row is a regular entry, do not load it as the column header.\n",
        "\n",
        "-----------------\n",
        "\n",
        "Execution Time Limit\n",
        "15 seconds"
      ],
      "metadata": {
        "id": "bxGcUBbrNUXi"
      }
    },
    {
      "cell_type": "code",
      "source": [
        "import numpy as np\n",
        "import pandas as pd\n",
        "\n",
        "# The file is stored at: 'https://media-doselect.s3.amazonaws.com/generic/A08MajL8qN4rq72EpVJbAP1Rw/marks_1.csv'\n",
        "# Provide your answer below\n",
        "df = pd.read_csv('https://media-doselect.s3.amazonaws.com/generic/A08MajL8qN4rq72EpVJbAP1Rw/marks_1.csv', header = None, sep = '|')\n",
        "\n",
        "print(df)"
      ],
      "metadata": {
        "colab": {
          "base_uri": "https://localhost:8080/"
        },
        "id": "p1U1RJXdTanC",
        "outputId": "97c3193f-f0cc-4661-9259-d4a74242d0aa"
      },
      "execution_count": 7,
      "outputs": [
        {
          "output_type": "stream",
          "name": "stdout",
          "text": [
            "     0        1            2   3   4   5\n",
            "0    1   Akshay  Mathematics  50  40  80\n",
            "1    2   Mahima      English  40  33  83\n",
            "2    3    Vikas  Mathematics  50  42  84\n",
            "3    4  Abhinav      English  40  31  78\n",
            "4    5   Mahima      Science  50  40  80\n",
            "5    6   Akshay      Science  50  49  98\n",
            "6    7  Abhinav  Mathematics  50  47  94\n",
            "7    8    Vikas      Science  50  40  80\n",
            "8    9  Abhinav      Science  50  47  94\n",
            "9   10    Vikas      English  40  39  98\n",
            "10  11   Akshay      English  40  35  88\n",
            "11  12   Mahima  Mathematics  50  43  86\n"
          ]
        }
      ]
    },
    {
      "cell_type": "code",
      "execution_count": 11,
      "metadata": {
        "id": "tdr52u_TNE8O",
        "colab": {
          "base_uri": "https://localhost:8080/"
        },
        "outputId": "19339104-f60f-4600-8ea8-8f8a33f20a2a"
      },
      "outputs": [
        {
          "output_type": "stream",
          "name": "stdout",
          "text": [
            "     0        1            2   3   4   5\n",
            "0    1   Akshay  Mathematics  50  40  80\n",
            "1    2   Mahima      English  40  33  83\n",
            "2    3    Vikas  Mathematics  50  42  84\n",
            "3    4  Abhinav      English  40  31  78\n",
            "4    5   Mahima      Science  50  40  80\n",
            "5    6   Akshay      Science  50  49  98\n",
            "6    7  Abhinav  Mathematics  50  47  94\n",
            "7    8    Vikas      Science  50  40  80\n",
            "8    9  Abhinav      Science  50  47  94\n",
            "9   10    Vikas      English  40  39  98\n",
            "10  11   Akshay      English  40  35  88\n",
            "11  12   Mahima  Mathematics  50  43  86\n"
          ]
        }
      ],
      "source": [
        "import numpy as np\n",
        "import pandas as pd\n",
        "\n",
        "# The file is stored at the following path:\n",
        "# url = 'https://media-doselect.s3.amazonaws.com/generic/A08MajL8qN4rq72EpVJbAP1Rw/marks_1.csv'\n",
        "url = 'marks_1.csv'\n",
        "\n",
        "# Provide your answer below\n",
        "df = pd.read_csv(url, delimiter='|', header=None)\n",
        "\n",
        "print(df)"
      ]
    },
    {
      "cell_type": "markdown",
      "source": [
        "Loading a csv with index\n",
        "--------\n",
        "\n",
        "Description\n",
        "\n",
        "Using the file ‘marks.csv’, create a dataframe as shown below.\n",
        "\n",
        "------------\n",
        "\n",
        "![ss](https://media-doselect.s3.amazonaws.com/generic/0rjOooeKe4RQwnebLP8pzOaPV/01.%20Coding%20Question.PNG)\n",
        "\n",
        "------------------\n",
        "\n",
        "`You must be able make the first column of the file as the index and name it 'S.No.'. Also, the columns must be renamed as shown in the image.`"
      ],
      "metadata": {
        "id": "FkHgsao2V8qB"
      }
    },
    {
      "cell_type": "code",
      "source": [
        "import numpy as np\n",
        "import pandas as pd\n",
        "\n",
        "# The file is stored at: 'https://media-doselect.s3.amazonaws.com/generic/A08MajL8qN4rq72EpVJbAP1Rw/marks_1.csv'\n",
        "# Provide your answer below\n",
        "df = pd.read_csv('https://media-doselect.s3.amazonaws.com/generic/A08MajL8qN4rq72EpVJbAP1Rw/marks_1.csv', header = None, sep = '|', index_col = 0)\n",
        "df.columns = ['Name', 'Subject', 'Maximum Marks', 'Marks Obtained', 'Percentage']\n",
        "df.index.name = 'S.No.'\n",
        "\n",
        "print(df)"
      ],
      "metadata": {
        "colab": {
          "base_uri": "https://localhost:8080/"
        },
        "id": "Zi4NRQUmaKRu",
        "outputId": "6d87581e-d1e6-43a6-c29a-b518f04845e2"
      },
      "execution_count": 29,
      "outputs": [
        {
          "output_type": "stream",
          "name": "stdout",
          "text": [
            "          Name      Subject  Maximum Marks  Marks Obtained  Percentage\n",
            "S.No.                                                                 \n",
            "1       Akshay  Mathematics             50              40          80\n",
            "2       Mahima      English             40              33          83\n",
            "3        Vikas  Mathematics             50              42          84\n",
            "4      Abhinav      English             40              31          78\n",
            "5       Mahima      Science             50              40          80\n",
            "6       Akshay      Science             50              49          98\n",
            "7      Abhinav  Mathematics             50              47          94\n",
            "8        Vikas      Science             50              40          80\n",
            "9      Abhinav      Science             50              47          94\n",
            "10       Vikas      English             40              39          98\n",
            "11      Akshay      English             40              35          88\n",
            "12      Mahima  Mathematics             50              43          86\n"
          ]
        }
      ]
    },
    {
      "cell_type": "code",
      "source": [
        "import numpy as np\n",
        "import pandas as pd\n",
        "\n",
        "# The file is stored at the following path:\n",
        "url = 'https://media-doselect.s3.amazonaws.com/generic/A08MajL8qN4rq72EpVJbAP1Rw/marks_1.csv'\n",
        "\n",
        "# Provide your answer below\n",
        "lst = ['Name', 'Subject', 'Maximum Marks', \n",
        "       'Marks Obtained', 'Percentage']\n",
        "\n",
        "df = pd.read_csv(url, \n",
        "                 sep='|', \n",
        "                 index_col=0,\n",
        "                 header=None,\n",
        "                 )\n",
        "\n",
        "df.index.name = 'S.No.'\n",
        "df.columns = lst\n",
        "\n",
        "print(df)"
      ],
      "metadata": {
        "id": "qoqJTPN5NW3r",
        "colab": {
          "base_uri": "https://localhost:8080/"
        },
        "outputId": "a9e01292-ab3d-42ca-988e-6bc6b5db648d"
      },
      "execution_count": 30,
      "outputs": [
        {
          "output_type": "stream",
          "name": "stdout",
          "text": [
            "          Name      Subject  Maximum Marks  Marks Obtained  Percentage\n",
            "S.No.                                                                 \n",
            "1       Akshay  Mathematics             50              40          80\n",
            "2       Mahima      English             40              33          83\n",
            "3        Vikas  Mathematics             50              42          84\n",
            "4      Abhinav      English             40              31          78\n",
            "5       Mahima      Science             50              40          80\n",
            "6       Akshay      Science             50              49          98\n",
            "7      Abhinav  Mathematics             50              47          94\n",
            "8        Vikas      Science             50              40          80\n",
            "9      Abhinav      Science             50              47          94\n",
            "10       Vikas      English             40              39          98\n",
            "11      Akshay      English             40              35          88\n",
            "12      Mahima  Mathematics             50              43          86\n"
          ]
        }
      ]
    },
    {
      "cell_type": "markdown",
      "source": [
        "Describing Data\n",
        "----------------\n",
        "\n",
        "`In the previous segment, you learnt how to load data into a dataframe and manipulate the indices and headers to represent the data in a meaningful manner. Let's first load the data that will be used in the demonstrations in this segment. You can use the Jupyter Notebook provided below to code along with the instructor.`"
      ],
      "metadata": {
        "id": "ILpMLjEsaYhE"
      }
    },
    {
      "cell_type": "code",
      "source": [],
      "metadata": {
        "id": "LMeL2N4FXUAA"
      },
      "execution_count": null,
      "outputs": []
    }
  ]
}