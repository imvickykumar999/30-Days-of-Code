{
  "nbformat": 4,
  "nbformat_minor": 0,
  "metadata": {
    "colab": {
      "provenance": []
    },
    "kernelspec": {
      "name": "python3",
      "display_name": "Python 3"
    },
    "language_info": {
      "name": "python"
    }
  },
  "cells": [
    {
      "cell_type": "markdown",
      "source": [
        "# [Operations Over 1-D Arrays](https://learn.upgrad.com/course/4460/segment/33129/196269/603796/3075608)"
      ],
      "metadata": {
        "id": "idTgouIveinS"
      }
    },
    {
      "cell_type": "markdown",
      "source": [
        "Extracting Elements from Array\n",
        "----------\n",
        "\n",
        "    Description\n",
        "\n",
        "`From a given array, extract all the elements which are greater than 'm' and less than 'n'. Note: 'm' and 'n' are integer values provided as input.`\n",
        "\n",
        "    Input format:\n",
        "    A list of integers on line one\n",
        "    Integer 'm' on line two\n",
        "    Integer 'n' on line three\n",
        "\n",
        "    Output format:\n",
        "    1-D array containing integers greater than 'm' and smaller than 'n'.\n",
        "\n",
        "    Sample input:\n",
        "    [ 1, 5, 9, 12, 15, 7, 12, 9 ] (array)\n",
        "    6 (m)\n",
        "    12 (n)\n",
        "\n",
        "    Sample output:\n",
        "    [ 9 7 9 ]\n",
        "\n",
        "    Sample input:\n",
        "    [ 1, 5, 9, 12, 15, 7, 12, 9 ]\n",
        "    12\n",
        "    6\n",
        "\n",
        "    Sample output:\n",
        "    [ ]"
      ],
      "metadata": {
        "id": "l3n0MQ0pd0XP"
      }
    },
    {
      "cell_type": "code",
      "execution_count": null,
      "metadata": {
        "id": "ZbNujKnwdpvw"
      },
      "outputs": [],
      "source": [
        "#take input here\n",
        "import ast\n",
        "input_list=ast.literal_eval(input())\n",
        "m=int(input())\n",
        "n=int(input())\n",
        "\n",
        "#start writing your code from here\n",
        "import numpy as np \n",
        "array_1 = np.array(input_list)\n",
        "final_array = array_1[(array_1<n) & (array_1>m)]\n",
        "\n",
        "print(final_array)"
      ]
    },
    {
      "cell_type": "code",
      "source": [
        "#take input here\n",
        "import ast \n",
        "input_list=ast.literal_eval(input())\n",
        "m=int(input())\n",
        "n=int(input())\n",
        "\n",
        "import numpy as np\n",
        "array_1 = np.array(input_list)\n",
        "final_array = array_1[(n > array_1) & (m < array_1)]    # `and` does not work in case of numpy instead use `&`.\n",
        "\n",
        "print(final_array)"
      ],
      "metadata": {
        "id": "5abRJ4jQezet"
      },
      "execution_count": null,
      "outputs": []
    },
    {
      "cell_type": "markdown",
      "source": [
        "Border Rows and Columns\n",
        "------------\n",
        "\n",
        "Description\n",
        "\n",
        "Extract all the border rows and columns from a 2-D array.\n",
        "\n",
        "    Format:\n",
        "    Input: A 2-D Python list\n",
        "    Output:\n",
        "      Four NumPy arrays - First column of the input array, first row of the input array, \n",
        "      last column of the input array, last row of the input array respectively.\n",
        "\n",
        "-------------------\n",
        "\n",
        "    Example:\n",
        "    \n",
        "    Input 1:\n",
        "    [[11 12 13 14]\n",
        "    [21 22 23 24]\n",
        "    [31 32 33 34]]\n",
        "\n",
        "    Output 1:\n",
        "    [11 21 31]\n",
        "    [11 12 13 14]\n",
        "    [14 24 34]\n",
        "    [31 32 33 34]"
      ],
      "metadata": {
        "id": "9yITzLvhe1Kv"
      }
    },
    {
      "cell_type": "code",
      "source": [
        "# For a video solution of the code, copy-paste the following link in your browser:\n",
        "# https://youtu.be/ekELUEdT63E\n",
        "\n",
        "# Read the input list\n",
        "import ast,sys\n",
        "input_str = sys.stdin.read()\n",
        "input_list = ast.literal_eval(input_str)\n",
        "import numpy as np\n",
        "\n",
        "# Convert the input list to a NumPy array\n",
        "array_2d =np.array(input_list)\n",
        "\n",
        "# Extract the first column, first row, last column and last row respectively using\n",
        "# appropriate indexing\n",
        "col_1 = array_2d[:, 0]\n",
        "row_1 = array_2d[0, :]\n",
        "col_last = array_2d[:, -1]\n",
        "row_last = array_2d[-1, :]\n",
        "\n",
        "print(col_1)\n",
        "print(row_1)\n",
        "print(col_last)\n",
        "print(row_last)"
      ],
      "metadata": {
        "id": "oLECY2Llfgkt"
      },
      "execution_count": null,
      "outputs": []
    },
    {
      "cell_type": "code",
      "source": [
        "# Read the input list\n",
        "import ast,sys\n",
        "input_str = sys.stdin.read()\n",
        "input_list = ast.literal_eval(input_str)\n",
        "\n",
        "import numpy as np\n",
        "\n",
        "# Convert the input list to a NumPy array\n",
        "array_2d = np.array(input_list)\n",
        "\n",
        "# Extract the first column, first row, last column and last row respectively using\n",
        "# appropriate indexing\n",
        "col_first = array_2d[0]\n",
        "row_first = array_2d[:,0]\n",
        "col_last = array_2d[:,-1]\n",
        "row_last = array_2d[-1]\n",
        "\n",
        "print(row_first)\n",
        "print(col_first)\n",
        "print(col_last)\n",
        "print(row_last)\n"
      ],
      "metadata": {
        "id": "bzE82IQpfkZ-"
      },
      "execution_count": null,
      "outputs": []
    },
    {
      "cell_type": "markdown",
      "source": [
        "Array 'arange' Function\n",
        "-----------\n",
        "\n",
        "Description\n",
        "\n",
        "Create an array of first 10 multiples of 5 using the 'arange' function.\n",
        "\n",
        "----------\n",
        "\n",
        "Execution Time Limit\n",
        "15 seconds"
      ],
      "metadata": {
        "id": "-KiFZ9ZGflLa"
      }
    },
    {
      "cell_type": "code",
      "source": [
        "import numpy as np\n",
        "array_multipleof5 = np.arange(5,51,5)\n",
        "\n",
        "print(array_multipleof5)"
      ],
      "metadata": {
        "id": "VXx_Xj6jf36Y"
      },
      "execution_count": null,
      "outputs": []
    },
    {
      "cell_type": "code",
      "source": [
        "import numpy as np\n",
        "array_multipleof5 = np.arange(5,51,5)\n",
        "\n",
        "print(array_multipleof5)"
      ],
      "metadata": {
        "id": "Pt_IdJUHgWM3"
      },
      "execution_count": null,
      "outputs": []
    },
    {
      "cell_type": "markdown",
      "source": [
        "Create border array\n",
        "------------\n",
        "\n",
        "Description\n",
        "\n",
        "Given a single integer n, create an (n x n) 2D array with 1 on the border and 0 on the inside.\n",
        "\n",
        "-------------\n",
        "\n",
        "Note: Make sure the array is of type int.\n",
        "\n",
        "    Example:\n",
        "    Input 1:\n",
        "    4\n",
        "    Output 1:\n",
        "    [[1 1 1 1]\n",
        "    [1 0 0 1]\n",
        "    [1 0 0 1]\n",
        "    [1 1 1 1]]\n",
        "    Input 2:\n",
        "    2\n",
        "    Output 2:\n",
        "    [[1 1] \n",
        "    [1 1]] "
      ],
      "metadata": {
        "id": "BoHRrlcdgW-j"
      }
    },
    {
      "cell_type": "code",
      "source": [
        "# Read the variable from STDIN\n",
        "n = int(input())\n",
        "\n",
        "import numpy as np\n",
        "\n",
        "# Create an 'n*n' array of all ones\n",
        "border_array = np.ones((n, n), dtype = int)\n",
        "\n",
        "# Fill the array with zeroes from second index (i.e. index 1) to second last index.\n",
        "# Do this for both row indices and column indices\n",
        "border_array[1:-1, 1:-1] = 0\n",
        "\n",
        "# Print the array created\n",
        "print(border_array)"
      ],
      "metadata": {
        "id": "jp6OKPk1gfe4"
      },
      "execution_count": null,
      "outputs": []
    },
    {
      "cell_type": "code",
      "source": [
        "# Read the variable from STDIN\n",
        "n = int(input())\n",
        "\n",
        "import numpy as np\n",
        "\n",
        "# Create an 'n*n' array of all ones\n",
        "np_array = np.ones((n,n), dtype=int)\n",
        "\n",
        "# Fill the array with zeroes from second index (i.e. index 1) to second last index.\n",
        "# Do this for both row indices and column indices\n",
        "np_array[1:-1, 1:-1] = 0\n",
        "\n",
        "# Print the array created\n",
        "print(np_array)"
      ],
      "metadata": {
        "id": "q4ZFAad_giO2"
      },
      "execution_count": null,
      "outputs": []
    },
    {
      "cell_type": "markdown",
      "source": [
        "# [Coding Questions - I](https://learn.upgrad.com/course/4460/segment/33129/196269/603797/3075618)"
      ],
      "metadata": {
        "id": "GC6mTmwvgjCN"
      }
    },
    {
      "cell_type": "markdown",
      "source": [
        "Greater than 3\n",
        "-----------\n",
        "\n",
        "Description\n",
        "\n",
        "Given an nxn array, print only the elements that are greater than three as a 1D array.\n",
        "\n",
        "\n",
        "\n",
        "    Input: nxn array\n",
        "\n",
        "    Output: 1D array containing elements that are greater than 3\n",
        "\n",
        "\n",
        "\n",
        "    Sample Input 1: [[9,8,7],[6,5,4],[3,2,1]]\n",
        "\n",
        "    Sample Output 1: [9 8 7 6 5 4]\n",
        "\n",
        "\n",
        "\n",
        "    Sample Input 2: [[-1, 2, 0],[1,3,5],[3,2,1]]\n",
        "\n",
        "    Sample Output 2: [5]"
      ],
      "metadata": {
        "id": "SmDNkAJGLIqO"
      }
    },
    {
      "cell_type": "code",
      "source": [
        "import numpy as np\n",
        "import ast\n",
        "\n",
        "inp_list=ast.literal_eval(input())\n",
        "arr=np.array(inp_list)\n",
        "\n",
        "print(arr[arr > 3])"
      ],
      "metadata": {
        "id": "cJCTV1EcPJXp"
      },
      "execution_count": null,
      "outputs": []
    },
    {
      "cell_type": "code",
      "source": [
        "import numpy as np\n",
        "import ast\n",
        "#input has been taken for you\n",
        "inp_list=ast.literal_eval(input())\n",
        "arr=np.array(inp_list)\n",
        "\n",
        "#write your code here\n",
        "print (arr[arr>3])\n",
        "\n"
      ],
      "metadata": {
        "id": "LH-ZsUMNPKKE"
      },
      "execution_count": null,
      "outputs": []
    },
    {
      "cell_type": "markdown",
      "source": [
        "Percentile\n",
        "--------------\n",
        "\n",
        "Description\n",
        "\n",
        "Calculate the 60th percentile of the given NumPy array.\n",
        "\n",
        "\n",
        "\n",
        "    Input: 1D array\n",
        "\n",
        "    Output: Value of 60th percentile rounded off to two decimal places\n",
        "\n",
        "\n",
        "\n",
        "    Sample Input 1: [11, 22, 33, 44 ,55 ,66, 77]\n",
        "\n",
        "    Sample Output 1: 50.6\n",
        "\n",
        "\n",
        "\n",
        "    Sample Input 2: [-1, 2, 0, 1, 3, 5, 3, 2, 1]\n",
        "\n",
        "    Sample Output 2: 2.0"
      ],
      "metadata": {
        "id": "GvOEJniZLiCb"
      }
    },
    {
      "cell_type": "code",
      "source": [
        "import numpy as np\n",
        "import ast\n",
        "arr = np.array(ast.literal_eval(input()))\n",
        "\n",
        "#Returns the 60th percentile\n",
        "perc = round(np.percentile(arr, 60),2)\n",
        "print(perc)"
      ],
      "metadata": {
        "id": "DuvaUwxhLmgf"
      },
      "execution_count": null,
      "outputs": []
    },
    {
      "cell_type": "code",
      "source": [
        "import numpy as np\n",
        "import ast\n",
        "\n",
        "#input has been taken for you\n",
        "arr = np.array(ast.literal_eval(input()))\n",
        "\n",
        "# write your code here\n",
        "print(round(np.percentile(arr,60),1))"
      ],
      "metadata": {
        "id": "uM7dgCX9Lsc2"
      },
      "execution_count": null,
      "outputs": []
    },
    {
      "cell_type": "markdown",
      "source": [
        "Statistics\n",
        "---------------\n",
        "\n",
        "Description\n",
        "\n",
        "Given a positive integer 'n', write a program that computes the mean, the standard deviation and the variance of the numbers starting from 0 to n-1, rounded off to two decimal places.\n",
        "\n",
        "\n",
        "\n",
        "    Input: First line of input containing mxn array as a nested list and the second line containing an integer 'k' less than 'n'.\n",
        "\n",
        "    Output: mxn array sorted by column 'n'.\n",
        "\n",
        "\n",
        "\n",
        "    Sample Input 1: 16\n",
        "\n",
        "    Sample Output 1: \n",
        "\n",
        "    7.5\n",
        "\n",
        "    4.61\n",
        "\n",
        "    21.25\n",
        "\n",
        "\n",
        "\n",
        "    Explanation: 7.5, 4.61, and 21.5 are the mean, standard deviation and variance of the list of numbers from 0 to 15(included).\n",
        "\n",
        "\n",
        "\n",
        "    Sample Input 2: 23\n",
        "\n",
        "    Sample Output 2: \n",
        "\n",
        "    11.0\n",
        "\n",
        "    6.63\n",
        "\n",
        "    44.0"
      ],
      "metadata": {
        "id": "qu84yQ_cLs64"
      }
    },
    {
      "cell_type": "code",
      "source": [
        "import numpy as np\n",
        "n=int(input())\n",
        "x = np.arange(n)\n",
        "mean = round(np.mean(x),2)\n",
        "std = round(np.std(x),2)\n",
        "var = round(np.var(x),2)\n",
        "print(mean)\n",
        "print(std)\n",
        "print(var)"
      ],
      "metadata": {
        "id": "HdaoidDBLyhh"
      },
      "execution_count": null,
      "outputs": []
    },
    {
      "cell_type": "code",
      "source": [
        "import numpy as np\n",
        "n=int(input())\n",
        "# write your code here\n",
        "\n",
        "n_arr=np.arange(n)\n",
        "print (round((np.mean(n_arr)),2))\n",
        "print (round((np.std(n_arr)),2))\n",
        "print (round((np.var(n_arr)),2))"
      ],
      "metadata": {
        "id": "iR2AQVvhL1Uw"
      },
      "execution_count": null,
      "outputs": []
    },
    {
      "cell_type": "markdown",
      "source": [
        "Print Z\n",
        "-------------\n",
        "\n",
        "Description\n",
        "\n",
        "Given a single positive integer 'n' greater than 2, create a NumPy array of size (n x n) will all zeros and ones such that the ones make a shape like 'Z'.\n",
        "\n",
        "    Examples:\n",
        "    Input 1:\n",
        "    3\n",
        "    Output 1:\n",
        "    [[1 1 1]\n",
        "    [0 1 0]\n",
        "    [1 1 1]]\n",
        "    Input 2:\n",
        "    5\n",
        "    Output 1:\n",
        "    [[1 1 1 1 1]\n",
        "    [0 0 0 1 0]\n",
        "    [0 0 1 0 0]\n",
        "    [0 1 0 0 0]\n",
        "    [1 1 1 1 1]]\n",
        "\n",
        "    Explanation: Notice that the 1s in the array make a shape like 'Z'."
      ],
      "metadata": {
        "id": "BS1hDJX4L199"
      }
    },
    {
      "cell_type": "code",
      "source": [
        "# Read the input\n",
        "n = int(input())\n",
        "\n",
        "# Import the NumPy package\n",
        "import numpy as np \n",
        "\n",
        "# Create an (n x n) array with all zeros\n",
        "z = np.zeros((n, n), dtype = int)\n",
        "\n",
        "# Make the first and last rows all 1s\n",
        "z[0] = np.ones(1, dtype = int)\n",
        "z[n-1] = np.ones(1, dtype = int)\n",
        "\n",
        "# Run a loop from the second row (index 1) till the second last row.\n",
        "for i in range(1, n):\n",
        "# Fill the 1s in appropriate indices. Notice that for every row index i, the 1 \n",
        "# will be in the (n-i-1)th row\n",
        "    z[i][n-i-1] = 1\n",
        "    \n",
        "# Print the final value of z    \n",
        "print(z)"
      ],
      "metadata": {
        "id": "UJz-G2GlL9m_"
      },
      "execution_count": null,
      "outputs": []
    },
    {
      "cell_type": "code",
      "source": [
        "# Read the input\n",
        "n = int(input())\n",
        "\n",
        "# Import the NumPy package\n",
        "import numpy as np \n",
        "\n",
        "# Write your code here\n",
        "\n",
        "# Create an (n x n) array with all zeros\n",
        "z = np.zeros((n, n), dtype = int)\n",
        "\n",
        "# Make the first and last rows all 1s\n",
        "z[0] = np.ones(1, dtype = int)\n",
        "z[n-1] = np.ones(1, dtype = int)\n",
        "\n",
        "# Run a loop from the second row (index 1) till the second last row.\n",
        "for i in range(1, n):\n",
        "# Fill the 1s in appropriate indices. Notice that for every row index i, the 1 \n",
        "# will be in the (n-i-1)th row\n",
        "    z[i][n-i-1] = 1\n",
        "    \n",
        "# Print the final value of z    \n",
        "print(z)"
      ],
      "metadata": {
        "id": "CEkMsVusMAZW"
      },
      "execution_count": null,
      "outputs": []
    },
    {
      "cell_type": "markdown",
      "source": [
        "Sort by Column\n",
        "------------\n",
        "\n",
        "Description\n",
        "\n",
        "Given a 2D NumPy array, sort it by the 1st column. Print the final sorted array as a NumPy array only.\n",
        "\n",
        "Note: If two values in the 1st column are equal then the column in which the 2nd column value is lesser should come first. If the value in the second column is also the same then go to the third value and so on.\n",
        "\n",
        "    Example:\n",
        "    Input 1:\n",
        "    [[9 3 2]\n",
        "    [4 0 1]\n",
        "    [5 8 6]]\n",
        "\n",
        "    Output 2:\n",
        "    [[4 0 1]\n",
        "    [5 8 6]\n",
        "    [9 3 2]]\n",
        "\n",
        "    Input 2:\n",
        "    [[9 3 2]\n",
        "    [4 0 1]\n",
        "    [9 8 6]]\n",
        "    \n",
        "    Output 2:\n",
        "    [[4 0 1]\n",
        "    [9 3 2]\n",
        "    [9 8 6]]\n",
        "\n",
        "--------------------\n",
        "\n",
        "Explanation:\n",
        "---------------\n",
        "\n",
        "Example 1: \n",
        "\n",
        "Notice that the values in the first column are sorted. Also notice that the whole row should be moved and not just the individual values in the first column. For example, the row with the smallest value, i.e. 4 was moved as a whole. \n",
        "\n",
        "Example 2: \n",
        "\n",
        "Since this time the first row contains two 9s, the row in which the value in the second column is lesser came first."
      ],
      "metadata": {
        "id": "KU07XCOrMGnR"
      }
    },
    {
      "cell_type": "code",
      "source": [
        "# Reading the input list\n",
        "import ast,sys\n",
        "input_str = sys.stdin.read()\n",
        "input_list = ast.literal_eval(input_str)\n",
        "\n",
        "# Import the NumPy package\n",
        "import numpy as np\n",
        "\n",
        "# Converting the list to a NumPy array\n",
        "n_array = np.array(input_list)\n",
        "\n",
        "# Sort the array using the argsort() argument. You can also specify the type of\n",
        "# sort you need in the argsort() argument but it isn't necessary. Notice the \n",
        "# indexing is the main key here. The array is sorted by the row or column that you\n",
        "# specify in the index\n",
        "for i in range(len(n_array[0, :])):\n",
        "    n_array = n_array[n_array[:,-1-i].argsort()]\n",
        "\n",
        "# Print the final sorted array\n",
        "print(n_array)"
      ],
      "metadata": {
        "id": "vW70JLj8MECF"
      },
      "execution_count": null,
      "outputs": []
    },
    {
      "cell_type": "code",
      "source": [
        "# Reading the input list\n",
        "import ast,sys\n",
        "input_str = sys.stdin.read()\n",
        "input_list = ast.literal_eval(input_str)\n",
        "\n",
        "# Import the NumPy package\n",
        "import numpy as np\n",
        "\n",
        "# Converting the list to a NumPy array\n",
        "n_array = np.array(input_list)\n",
        "\n",
        "# Write your code here\n",
        "for i in range(len(n_array[0, :])):\n",
        "    n_array = n_array[n_array[:,-1-i].argsort()]\n",
        "\n",
        "# Print the final sorted array\n",
        "print(n_array)"
      ],
      "metadata": {
        "id": "v2PR36yPMVaV"
      },
      "execution_count": null,
      "outputs": []
    },
    {
      "cell_type": "markdown",
      "source": [
        "# the end"
      ],
      "metadata": {
        "id": "zKwFlm6mMWEK"
      }
    },
    {
      "cell_type": "code",
      "source": [],
      "metadata": {
        "id": "MLs0xd0gMcyq"
      },
      "execution_count": null,
      "outputs": []
    }
  ]
}