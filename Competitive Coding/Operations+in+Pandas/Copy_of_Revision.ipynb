{
  "cells": [
    {
      "cell_type": "markdown",
      "source": [
        "https://www.linkedin.com/in/chetna-l-47b733258/"
      ],
      "metadata": {
        "id": "3co57krWeKpi"
      },
      "id": "3co57krWeKpi"
    },
    {
      "cell_type": "markdown",
      "id": "fc9ff7a1",
      "metadata": {
        "id": "fc9ff7a1"
      },
      "source": [
        "Write a Python script to generate and print a dictionary that contains a number (between 1 and n) in the form (x, x*x). Sample Dictionary ( n = 5) : Expected Output : {1: 1, 2: 4, 3: 9, 4: 16, 5: 25}"
      ]
    },
    {
      "cell_type": "code",
      "execution_count": null,
      "id": "074ec39f",
      "metadata": {
        "id": "074ec39f",
        "outputId": "ebe2703f-6d7b-44d0-ca8f-13a6a6ddf701"
      },
      "outputs": [
        {
          "data": {
            "text/plain": [
              "{1: 1, 2: 4, 3: 9, 4: 16, 5: 25}"
            ]
          },
          "execution_count": 1,
          "metadata": {},
          "output_type": "execute_result"
        }
      ],
      "source": [
        "{x:x**2 for x in range(1,6)}#Dictionary comperhension"
      ]
    },
    {
      "cell_type": "markdown",
      "id": "1d21b86f",
      "metadata": {
        "id": "1d21b86f"
      },
      "source": [
        "Write a Python script to print a dictionary where the keys are numbers between 1 and 15 (both included) and the values are square of keys. Sample Dictionary {1: 1, 2: 4, 3: 9, 4: 16, 5: 25, 6: 36, 7: 49, 8: 64, 9: 81, 10: 100, 11: 121, 12: 144, 13: 169, 14: 196, 15: 225}"
      ]
    },
    {
      "cell_type": "code",
      "execution_count": null,
      "id": "91480581",
      "metadata": {
        "id": "91480581",
        "outputId": "eae70ef7-9a90-4f2c-8763-2d00713f9e6f"
      },
      "outputs": [
        {
          "data": {
            "text/plain": [
              "{1: 1,\n",
              " 2: 4,\n",
              " 3: 9,\n",
              " 4: 16,\n",
              " 5: 25,\n",
              " 6: 36,\n",
              " 7: 49,\n",
              " 8: 64,\n",
              " 9: 81,\n",
              " 10: 100,\n",
              " 11: 121,\n",
              " 12: 144,\n",
              " 13: 169,\n",
              " 14: 196,\n",
              " 15: 225}"
            ]
          },
          "execution_count": 2,
          "metadata": {},
          "output_type": "execute_result"
        }
      ],
      "source": [
        "{x:x**2 for x in range(1,16)}#Dictionary comperhension"
      ]
    },
    {
      "cell_type": "markdown",
      "id": "47ccad6c",
      "metadata": {
        "id": "47ccad6c"
      },
      "source": [
        "Write a Python script to merge two Python dictionaries."
      ]
    },
    {
      "cell_type": "code",
      "execution_count": null,
      "id": "1ca9fe77",
      "metadata": {
        "id": "1ca9fe77",
        "outputId": "7cddcc41-893d-4a1f-d6a7-dd2f93c1d42a"
      },
      "outputs": [
        {
          "data": {
            "text/plain": [
              "{1: 2, 2: 4, 3: 6, 4: 8, 5: 10, 6: 12, 7: 14, 8: 16}"
            ]
          },
          "execution_count": 7,
          "metadata": {},
          "output_type": "execute_result"
        }
      ],
      "source": [
        "d1={x:x*2 for x in range(1,5)}\n",
        "d2={x:x*2 for x in range(5,9)}\n",
        "d1.update(d2)\n",
        "d1"
      ]
    },
    {
      "cell_type": "code",
      "execution_count": null,
      "id": "bb940a03",
      "metadata": {
        "id": "bb940a03",
        "outputId": "13b1f8d0-6572-4233-f3c9-f5bf7cf9bf81"
      },
      "outputs": [
        {
          "data": {
            "text/plain": [
              "{5: 10, 6: 12, 7: 14, 8: 16}"
            ]
          },
          "execution_count": 9,
          "metadata": {},
          "output_type": "execute_result"
        }
      ],
      "source": [
        "d2"
      ]
    },
    {
      "cell_type": "markdown",
      "id": "4be59e7e",
      "metadata": {
        "id": "4be59e7e"
      },
      "source": [
        "Write a Python program to map two lists into a dictionary."
      ]
    },
    {
      "cell_type": "code",
      "execution_count": null,
      "id": "389b8169",
      "metadata": {
        "id": "389b8169",
        "outputId": "9de1fb97-00a6-417a-c782-d04fc6dd29e6"
      },
      "outputs": [
        {
          "name": "stdout",
          "output_type": "stream",
          "text": [
            "{1: 3, 2: 4, 3: 5}\n"
          ]
        }
      ],
      "source": [
        "l1=[1,2,3]\n",
        "l2=[3,4,5]\n",
        "z=zip(l1,l2)\n",
        "d1=dict(z)\n",
        "print(d1)"
      ]
    },
    {
      "cell_type": "code",
      "execution_count": null,
      "id": "66049536",
      "metadata": {
        "id": "66049536",
        "outputId": "70f63f03-92d3-43bf-e924-5601967386a0"
      },
      "outputs": [
        {
          "data": {
            "text/plain": [
              "<zip at 0x2bfcc8ba840>"
            ]
          },
          "execution_count": 11,
          "metadata": {},
          "output_type": "execute_result"
        }
      ],
      "source": [
        "z"
      ]
    },
    {
      "cell_type": "code",
      "execution_count": null,
      "id": "17f7da08",
      "metadata": {
        "id": "17f7da08",
        "outputId": "7a58fc6a-8912-42fd-b847-81e920771ec0"
      },
      "outputs": [
        {
          "name": "stdout",
          "output_type": "stream",
          "text": [
            "[(1, 1), (2, 2), (3, 3), (4, 4)]\n"
          ]
        }
      ],
      "source": [
        "l=[1,2,3,4]\n",
        "z=zip(l,l)\n",
        "print(list(z))"
      ]
    },
    {
      "cell_type": "code",
      "execution_count": null,
      "id": "8d761137",
      "metadata": {
        "id": "8d761137",
        "outputId": "1797a2fd-e714-442e-e25e-eee5fb5376ec"
      },
      "outputs": [
        {
          "name": "stdout",
          "output_type": "stream",
          "text": [
            "[(1, 5), (2, 6), (3, 7)]\n"
          ]
        }
      ],
      "source": [
        "l=[1,2,3,4]\n",
        "p=[5,6,7]\n",
        "z=zip(l,p)\n",
        "print(list(z))"
      ]
    },
    {
      "cell_type": "code",
      "execution_count": null,
      "id": "9d0d4e58",
      "metadata": {
        "id": "9d0d4e58"
      },
      "outputs": [],
      "source": [
        "l1=[1,2,3,4]    #op=[6, 8, 10, 12]\n",
        "l2=[5,6,7,8]"
      ]
    },
    {
      "cell_type": "code",
      "execution_count": null,
      "id": "4a74cff8",
      "metadata": {
        "id": "4a74cff8",
        "outputId": "314fcfb3-718e-40f2-f57c-1cb29d933f32"
      },
      "outputs": [
        {
          "data": {
            "text/plain": [
              "[6, 7, 8, 9, 7, 8, 9, 10, 8, 9, 10, 11, 9, 10, 11, 12]"
            ]
          },
          "execution_count": 19,
          "metadata": {},
          "output_type": "execute_result"
        }
      ],
      "source": [
        "[(x+y) for x in l1 for y in l2]"
      ]
    },
    {
      "cell_type": "code",
      "execution_count": null,
      "id": "cc62687b",
      "metadata": {
        "id": "cc62687b",
        "outputId": "58a1f584-e2a0-4ea4-86d0-2c0ac0d57472"
      },
      "outputs": [
        {
          "data": {
            "text/plain": [
              "[6, 8, 10, 12]"
            ]
          },
          "execution_count": 20,
          "metadata": {},
          "output_type": "execute_result"
        }
      ],
      "source": [
        "[(x+y) for x,y in zip(l1,l2)]"
      ]
    },
    {
      "cell_type": "code",
      "execution_count": null,
      "id": "808e325b",
      "metadata": {
        "id": "808e325b"
      },
      "outputs": [],
      "source": [
        "l=[1, 2, 3, 4, 5, 6, 7, 8, 9]#original list"
      ]
    },
    {
      "cell_type": "code",
      "execution_count": null,
      "id": "9b59931b",
      "metadata": {
        "id": "9b59931b"
      },
      "outputs": [],
      "source": [
        " #output[1, 2] [1, 3] [1, 4] [1, 5] .... [7, 8] [7, 9] [8, 9]"
      ]
    },
    {
      "cell_type": "code",
      "execution_count": null,
      "id": "4bd95ad7",
      "metadata": {
        "id": "4bd95ad7",
        "outputId": "b2658553-bad4-42d8-8140-96bfccc77c24"
      },
      "outputs": [
        {
          "data": {
            "text/plain": [
              "[[1, 2],\n",
              " [1, 3],\n",
              " [1, 4],\n",
              " [1, 5],\n",
              " [1, 6],\n",
              " [1, 7],\n",
              " [1, 8],\n",
              " [1, 9],\n",
              " [2, 3],\n",
              " [2, 4],\n",
              " [2, 5],\n",
              " [2, 6],\n",
              " [2, 7],\n",
              " [2, 8],\n",
              " [2, 9],\n",
              " [3, 4],\n",
              " [3, 5],\n",
              " [3, 6],\n",
              " [3, 7],\n",
              " [3, 8],\n",
              " [3, 9],\n",
              " [4, 5],\n",
              " [4, 6],\n",
              " [4, 7],\n",
              " [4, 8],\n",
              " [4, 9],\n",
              " [5, 6],\n",
              " [5, 7],\n",
              " [5, 8],\n",
              " [5, 9],\n",
              " [6, 7],\n",
              " [6, 8],\n",
              " [6, 9],\n",
              " [7, 8],\n",
              " [7, 9],\n",
              " [8, 9]]"
            ]
          },
          "execution_count": 27,
          "metadata": {},
          "output_type": "execute_result"
        }
      ],
      "source": [
        "[[x,y] for x in l for y in l if x<y ]"
      ]
    },
    {
      "cell_type": "markdown",
      "id": "4a33ef45",
      "metadata": {
        "id": "4a33ef45"
      },
      "source": [
        "Write a Python program to add three given lists using Python map and lambda"
      ]
    },
    {
      "cell_type": "code",
      "execution_count": null,
      "id": "e4c2c69c",
      "metadata": {
        "id": "e4c2c69c",
        "outputId": "af9694b8-cf5d-4e18-ac6e-d04db23a8634"
      },
      "outputs": [
        {
          "data": {
            "text/plain": [
              "[8, 11, 11]"
            ]
          },
          "execution_count": 34,
          "metadata": {},
          "output_type": "execute_result"
        }
      ],
      "source": [
        "l1=[1,2,3]\n",
        "l2=[4,5,6]\n",
        "l3=[3,4,2]\n",
        "z=zip(l1,l2,l3)\n",
        "list(map((lambda x:sum(x)),z))"
      ]
    },
    {
      "cell_type": "markdown",
      "id": "bb7b8ad3",
      "metadata": {
        "id": "bb7b8ad3"
      },
      "source": [
        "Write a Python program to create a list containing the power of said number in bases raised to the corresponding number in the index using Python map.\n",
        "l=[10,20,30,40,50]"
      ]
    },
    {
      "cell_type": "code",
      "execution_count": null,
      "id": "cfc06d23",
      "metadata": {
        "id": "cfc06d23"
      },
      "outputs": [],
      "source": [
        " l=[10,20,30,40,50]"
      ]
    },
    {
      "cell_type": "code",
      "execution_count": null,
      "id": "fe2ebcd2",
      "metadata": {
        "id": "fe2ebcd2",
        "outputId": "b0f685c4-ed58-4d8c-d4b4-68034d76d1fe"
      },
      "outputs": [
        {
          "data": {
            "text/plain": [
              "[100, 400, 900, 1600, 2500]"
            ]
          },
          "execution_count": 37,
          "metadata": {},
          "output_type": "execute_result"
        }
      ],
      "source": [
        "list(map(lambda x:x*x, l))"
      ]
    },
    {
      "cell_type": "code",
      "execution_count": null,
      "id": "ee7c6c9c",
      "metadata": {
        "id": "ee7c6c9c"
      },
      "outputs": [],
      "source": [
        "[10,400,27000,]"
      ]
    },
    {
      "cell_type": "code",
      "execution_count": null,
      "id": "b3b47272",
      "metadata": {
        "id": "b3b47272",
        "outputId": "ca05ae21-fd3b-4193-b25e-65f0d6becebd"
      },
      "outputs": [
        {
          "data": {
            "text/plain": [
              "[10.0, 400.0, 27000.0, 2560000.0, 312500000.0]"
            ]
          },
          "execution_count": 38,
          "metadata": {},
          "output_type": "execute_result"
        }
      ],
      "source": [
        "l=[10,20,30,40,50]\n",
        "m = list(map(lambda x: x**(x/10) , l))\n",
        "m"
      ]
    },
    {
      "cell_type": "code",
      "execution_count": null,
      "id": "1717a3e5",
      "metadata": {
        "id": "1717a3e5",
        "outputId": "644f1390-680f-4d9b-fe0a-be752167e9ed"
      },
      "outputs": [
        {
          "data": {
            "text/plain": [
              "[10, 400, 27000, 2560000, 312500000]"
            ]
          },
          "execution_count": 39,
          "metadata": {},
          "output_type": "execute_result"
        }
      ],
      "source": [
        "l=[10,20,30,40,50]\n",
        "index=[1,2,3,4,5]\n",
        "list(map(pow,l,index))"
      ]
    },
    {
      "cell_type": "markdown",
      "id": "1aaa6eae",
      "metadata": {
        "id": "1aaa6eae"
      },
      "source": [
        "Write a Python program to convert a given list of strings into list of lists using map function."
      ]
    },
    {
      "cell_type": "code",
      "execution_count": null,
      "id": "b177a81a",
      "metadata": {
        "id": "b177a81a"
      },
      "outputs": [],
      "source": [
        "l=['apple','red','green']\n"
      ]
    },
    {
      "cell_type": "code",
      "execution_count": null,
      "id": "e1ce4577",
      "metadata": {
        "id": "e1ce4577",
        "outputId": "2594ee86-37a5-42d5-e011-fcabae2b5802"
      },
      "outputs": [
        {
          "data": {
            "text/plain": [
              "[['a', 'p', 'p', 'l', 'e'],\n",
              " ['o', 'r', 'a', 'n', 'g', 'e'],\n",
              " ['b', 'a', 'n', 'a', 'n', 'a']]"
            ]
          },
          "execution_count": 45,
          "metadata": {},
          "output_type": "execute_result"
        }
      ],
      "source": [
        "list(map((lambda x:list(x)),l))\n"
      ]
    },
    {
      "cell_type": "code",
      "execution_count": null,
      "id": "30b0e278",
      "metadata": {
        "id": "30b0e278"
      },
      "outputs": [],
      "source": [
        "[['a', 'p', 'p', 'l', 'e'], ['r', 'e', 'd'], ['g', 'r', 'e', 'e', 'n']]"
      ]
    },
    {
      "cell_type": "code",
      "execution_count": null,
      "id": "f30bc707",
      "metadata": {
        "id": "f30bc707"
      },
      "outputs": [],
      "source": [
        "list(map((lambda x:list(x)),l))"
      ]
    },
    {
      "cell_type": "code",
      "execution_count": null,
      "id": "21bf01a1",
      "metadata": {
        "id": "21bf01a1",
        "outputId": "52d97413-45fa-4e4f-d254-c84505c7d54b"
      },
      "outputs": [
        {
          "name": "stdout",
          "output_type": "stream",
          "text": [
            "John Peter Vicky\n"
          ]
        }
      ],
      "source": [
        "myTuple = (\"John\", \"Peter\", \"Vicky\")\n",
        "\n",
        "x = \" \".join(myTuple)\n",
        "\n",
        "print(x)"
      ]
    },
    {
      "cell_type": "code",
      "execution_count": null,
      "id": "02f7c112",
      "metadata": {
        "id": "02f7c112",
        "outputId": "ecaf3f1d-5abe-4e48-89e2-dab0d38420c7"
      },
      "outputs": [
        {
          "name": "stdout",
          "output_type": "stream",
          "text": [
            "name*country\n"
          ]
        }
      ],
      "source": [
        "myDict = {\"name\": \"John\", \"country\": \"Norway\"}\n",
        "mySeparator = \"*\"\n",
        "\n",
        "x = mySeparator.join(myDict)\n",
        "\n",
        "print(x)"
      ]
    },
    {
      "cell_type": "markdown",
      "id": "f008e494",
      "metadata": {
        "id": "f008e494"
      },
      "source": [
        "Write a Python program to find the maximum and minimum values in a given list of tuples. Original list with tuples: [('V', 60), ('VI', 70), ('VII', 75), ('VIII', 72), ('IX', 78), ('X', 70)] Maximum and minimum values of the said list of tuples: (78, 60)"
      ]
    },
    {
      "cell_type": "code",
      "execution_count": null,
      "id": "b948ea7c",
      "metadata": {
        "id": "b948ea7c",
        "outputId": "c2dee752-55cb-44c3-89cb-a47f2a399fd1"
      },
      "outputs": [
        {
          "name": "stdout",
          "output_type": "stream",
          "text": [
            "['black', 'blue', 'green', 'orange', 'red', 'white']\n"
          ]
        }
      ],
      "source": [
        "list_1 = ['red' , 'orange', 'blue', 'green', 'black', 'white'] \n",
        "list_1.sort()\n",
        "print(list_1)"
      ]
    },
    {
      "cell_type": "code",
      "execution_count": null,
      "id": "929050fc",
      "metadata": {
        "id": "929050fc",
        "outputId": "2860d8f8-7323-4885-a7ba-1a82e33e2e07"
      },
      "outputs": [
        {
          "data": {
            "text/plain": [
              "[1, 2, 2, 4]"
            ]
          },
          "execution_count": 62,
          "metadata": {},
          "output_type": "execute_result"
        }
      ],
      "source": [
        "l=[1,2,4,2]\n",
        "l.sort()\n",
        "l"
      ]
    },
    {
      "cell_type": "code",
      "execution_count": null,
      "id": "200cfa5c",
      "metadata": {
        "id": "200cfa5c",
        "outputId": "739fb694-1a4f-4512-ff9a-8ff26fce34c8"
      },
      "outputs": [
        {
          "name": "stdout",
          "output_type": "stream",
          "text": [
            "[1, 2, 3, 4]\n",
            "[2, 4, 1, 3]\n"
          ]
        }
      ],
      "source": [
        "l1=[2,4,1,3]\n",
        "l2=sorted(l1)\n",
        "print(l2)\n",
        "print(l1)"
      ]
    },
    {
      "cell_type": "code",
      "execution_count": null,
      "id": "1eb0922a",
      "metadata": {
        "id": "1eb0922a"
      },
      "outputs": [],
      "source": [
        "sort & sorted"
      ]
    },
    {
      "cell_type": "markdown",
      "id": "4bc1b6a3",
      "metadata": {
        "id": "4bc1b6a3"
      },
      "source": [
        "Write a Python program to find the maximum and minimum values in a given list of tuples. Original list with tuples: [('V', 60), ('VI', 70), ('VII', 75), ('VIII', 72), ('IX', 78), ('X', 70)] Maximum and minimum values of the said list of tuples: (78, 60)"
      ]
    },
    {
      "cell_type": "code",
      "execution_count": null,
      "id": "0b6d9b55",
      "metadata": {
        "id": "0b6d9b55"
      },
      "outputs": [],
      "source": [
        "l= [('V', 60), ('VI', 70), ('VII', 75), ('VIII', 72), ('IX', 78), ('X', 70)] "
      ]
    },
    {
      "cell_type": "code",
      "execution_count": null,
      "id": "540cd17c",
      "metadata": {
        "id": "540cd17c"
      },
      "outputs": [],
      "source": [
        "output: (78, 60)"
      ]
    },
    {
      "cell_type": "code",
      "execution_count": null,
      "id": "5b0186c4",
      "metadata": {
        "id": "5b0186c4",
        "outputId": "0a80f1aa-6e6d-466b-99a4-1c6427f16597"
      },
      "outputs": [
        {
          "data": {
            "text/plain": [
              "('IX', 78)"
            ]
          },
          "execution_count": 67,
          "metadata": {},
          "output_type": "execute_result"
        }
      ],
      "source": [
        "(max(l,key=lambda x:x[1]))"
      ]
    },
    {
      "cell_type": "code",
      "execution_count": null,
      "id": "0db070e5",
      "metadata": {
        "id": "0db070e5",
        "outputId": "90f88652-2be2-4cc8-fe47-f9841787c21d"
      },
      "outputs": [
        {
          "data": {
            "text/plain": [
              "78"
            ]
          },
          "execution_count": 68,
          "metadata": {},
          "output_type": "execute_result"
        }
      ],
      "source": [
        "(max(l,key=lambda x:x[1])[1])"
      ]
    },
    {
      "cell_type": "code",
      "execution_count": null,
      "id": "a5ff7fa0",
      "metadata": {
        "id": "a5ff7fa0",
        "outputId": "9de0edb5-a2d5-4afe-d05e-a4762692503c"
      },
      "outputs": [
        {
          "data": {
            "text/plain": [
              "60"
            ]
          },
          "execution_count": 69,
          "metadata": {},
          "output_type": "execute_result"
        }
      ],
      "source": [
        "(min(l,key=lambda x:x[1])[1])"
      ]
    },
    {
      "cell_type": "code",
      "execution_count": null,
      "id": "6b8e614b",
      "metadata": {
        "id": "6b8e614b",
        "outputId": "db4c7da6-dbd2-4e66-dcc2-54c6165efaa2"
      },
      "outputs": [
        {
          "data": {
            "text/plain": [
              "(78, 60)"
            ]
          },
          "execution_count": 70,
          "metadata": {},
          "output_type": "execute_result"
        }
      ],
      "source": [
        "(max(l,key=lambda x:x[1])[1],min(l,key=lambda x:x[1])[1])"
      ]
    },
    {
      "cell_type": "markdown",
      "id": "acb081b2",
      "metadata": {
        "id": "acb081b2"
      },
      "source": [
        "Write a Python program to get a list, sorted in increasing order by the last element in each tuple from a given list of non-empty tuples. Sample List : [(2, 5), (1, 2), (4, 4), (2, 3), (2, 1)] Expected Result : [(2, 1), (1, 2), (2, 3), (4, 4), (2, 5)"
      ]
    },
    {
      "cell_type": "code",
      "execution_count": null,
      "id": "c3a14b53",
      "metadata": {
        "id": "c3a14b53",
        "outputId": "b450b3d6-535d-4e58-9a03-3725fcd9e56c"
      },
      "outputs": [
        {
          "data": {
            "text/plain": [
              "[(1, 2), (2, 1), (2, 3), (2, 5), (4, 4)]"
            ]
          },
          "execution_count": 72,
          "metadata": {},
          "output_type": "execute_result"
        }
      ],
      "source": [
        "l= [(2, 5), (1, 2), (4, 4), (2, 3), (2, 1)] \n",
        "sorted(l)   # sorted list as per first element of tuples"
      ]
    },
    {
      "cell_type": "code",
      "execution_count": null,
      "id": "66fbd04d",
      "metadata": {
        "id": "66fbd04d",
        "outputId": "5d3c1378-7378-4c6d-8915-56137e7d54f0"
      },
      "outputs": [
        {
          "data": {
            "text/plain": [
              "[(2, 1), (1, 2), (2, 3), (4, 4), (2, 5)]"
            ]
          },
          "execution_count": 73,
          "metadata": {},
          "output_type": "execute_result"
        }
      ],
      "source": [
        "l= [(2, 5), (1, 2), (4, 4), (2, 3), (2, 1)] \n",
        "sorted(l,key=lambda x:x[1])    # sorted list as per second element of tuples\n",
        "sorted(l)\n",
        "sorted(l,key=lambda x:x[1])"
      ]
    },
    {
      "cell_type": "markdown",
      "id": "7e0fb5aa",
      "metadata": {
        "id": "7e0fb5aa"
      },
      "source": [
        "Write a Python program to move all zero digits to end of a given list of numbers. Expected output: Original list: [3, 4, 0, 0, 0, 6, 2, 0, 6, 7, 6, 0, 0, 0, 9, 10, 7, 4, 4, 5, 3, 0, 0, 2, 9, 7, 1] Move all zero digits to end of the said list of numbers: [3, 4, 6, 2, 6, 7, 6, 9, 10, 7, 4, 4, 5, 3, 2, 9, 7, 1, 0, 0, 0, 0, 0, 0, 0, 0, 0]"
      ]
    },
    {
      "cell_type": "code",
      "execution_count": null,
      "id": "fff89ff7",
      "metadata": {
        "id": "fff89ff7"
      },
      "outputs": [],
      "source": [
        "l=[3, 4, 0, 0, 0, 6, 2, 0, 6, 7, 6, 0, 0, 0, 9, 10, 7, 4, 4, 5, 3, 0, 0, 2, 9, 7, 1] "
      ]
    },
    {
      "cell_type": "code",
      "execution_count": null,
      "id": "a8459a63",
      "metadata": {
        "id": "a8459a63",
        "outputId": "badf5219-2c01-4ad4-c48b-2b8f35370996"
      },
      "outputs": [
        {
          "name": "stdout",
          "output_type": "stream",
          "text": [
            "[3, 4, 6, 2, 6, 7, 6, 9, 10, 7, 4, 4, 5, 3, 2, 9, 7, 1, 0, 0, 0, 0, 0, 0, 0, 0, 0]\n"
          ]
        }
      ],
      "source": [
        "print(sorted(l,key=lambda x:not x))"
      ]
    },
    {
      "cell_type": "code",
      "execution_count": null,
      "id": "d877410b",
      "metadata": {
        "id": "d877410b"
      },
      "outputs": [],
      "source": [
        "l=[1,2,3,0]\n"
      ]
    },
    {
      "cell_type": "markdown",
      "id": "e567d090",
      "metadata": {
        "id": "e567d090"
      },
      "source": [
        "Write a Python program to create a lambda function that adds 15 to a given number passed in as an argument, also create a lambda function that multiplies argument x with argument y and print the result. Sample Output: 25 48"
      ]
    },
    {
      "cell_type": "code",
      "execution_count": null,
      "id": "2f1f31ec",
      "metadata": {
        "id": "2f1f31ec",
        "outputId": "c18d9bbb-66c7-4fa3-9665-8026444e3c49"
      },
      "outputs": [
        {
          "data": {
            "text/plain": [
              "25"
            ]
          },
          "execution_count": 81,
          "metadata": {},
          "output_type": "execute_result"
        }
      ],
      "source": [
        "res=lambda x:x+15\n",
        "res(10)"
      ]
    },
    {
      "cell_type": "code",
      "execution_count": null,
      "id": "b85ddd62",
      "metadata": {
        "id": "b85ddd62",
        "outputId": "b9e254f8-e398-4964-bde5-94155313335d"
      },
      "outputs": [
        {
          "data": {
            "text/plain": [
              "48"
            ]
          },
          "execution_count": 82,
          "metadata": {},
          "output_type": "execute_result"
        }
      ],
      "source": [
        "res=lambda x,y:x*y\n",
        "res(12,4)"
      ]
    },
    {
      "cell_type": "markdown",
      "id": "c4efbf51",
      "metadata": {
        "id": "c4efbf51"
      },
      "source": [
        "Write a Python program to sort a list of tuples using Lambda. Original list of tuples: [('English', 88), ('Science', 90), ('Maths', 97), ('Social sciences', 82)] Sorting the List of Tuples: [('Social sciences', 82), ('English', 88), ('Science', 90), ('Maths', 97)]"
      ]
    },
    {
      "cell_type": "code",
      "execution_count": null,
      "id": "0734ca38",
      "metadata": {
        "id": "0734ca38"
      },
      "outputs": [],
      "source": [
        "l1= [('English', 88), ('Science', 90), ('Maths', 97), ('Social sciences', 82)]"
      ]
    },
    {
      "cell_type": "code",
      "execution_count": null,
      "id": "c6d786c0",
      "metadata": {
        "id": "c6d786c0"
      },
      "outputs": [],
      "source": [
        "o/p= [('Social sciences', 82), ('English', 88), ('Science', 90), ('Maths', 97)]"
      ]
    },
    {
      "cell_type": "code",
      "execution_count": null,
      "id": "9e75fa2b",
      "metadata": {
        "id": "9e75fa2b",
        "outputId": "da0a1032-58de-45e2-bba2-feb85d162f49"
      },
      "outputs": [
        {
          "data": {
            "text/plain": [
              "[('Social sciences', 82), ('English', 88), ('Science', 90), ('Maths', 97)]"
            ]
          },
          "execution_count": 84,
          "metadata": {},
          "output_type": "execute_result"
        }
      ],
      "source": [
        "l=[('English', 88), ('Science', 90), ('Maths', 97), ('Social sciences', 82)]\n",
        "l1=sorted(l,key=lambda x:x[1])\n",
        "l1"
      ]
    },
    {
      "cell_type": "markdown",
      "id": "df4fc8b0",
      "metadata": {
        "id": "df4fc8b0"
      },
      "source": [
        "4.Write a Python program to construct the following pattern, using a nested\n",
        "for loop.\n",
        "*\n",
        "* *\n",
        "* * *\n",
        "* * * *\n",
        "* * * * *\n",
        "* * * *\n",
        "* * *\n",
        "* *\n",
        "*"
      ]
    },
    {
      "cell_type": "code",
      "execution_count": null,
      "id": "12966b83",
      "metadata": {
        "id": "12966b83"
      },
      "outputs": [],
      "source": [
        "4.Write a Python program to construct the following pattern, using a nested\n",
        "for loop.\n",
        "*\n",
        "* *\n",
        "* * *\n",
        "* * * *\n",
        "* * * * *\n",
        "* * * *\n",
        "* * *\n",
        "* *\n",
        "*"
      ]
    },
    {
      "cell_type": "code",
      "execution_count": null,
      "id": "57c92ad4",
      "metadata": {
        "id": "57c92ad4",
        "outputId": "4e3ca44a-c900-4b11-dff3-f08e1c897688"
      },
      "outputs": [
        {
          "ename": "IndentationError",
          "evalue": "unexpected indent (<ipython-input-86-c156b8fa9db8>, line 2)",
          "output_type": "error",
          "traceback": [
            "\u001b[1;36m  File \u001b[1;32m\"<ipython-input-86-c156b8fa9db8>\"\u001b[1;36m, line \u001b[1;32m2\u001b[0m\n\u001b[1;33m    print('*'*i)         *\u001b[0m\n\u001b[1;37m    ^\u001b[0m\n\u001b[1;31mIndentationError\u001b[0m\u001b[1;31m:\u001b[0m unexpected indent\n"
          ]
        }
      ],
      "source": [
        "for i in range(1,6):    i=1\n",
        "    print('*'*i)         *\n",
        "                    i=2\n",
        "                        **\n",
        "                        i=3\n",
        "                        ***\n",
        "                        i=4\n",
        "                        ****\n",
        "                        i=5\n",
        "                        *****\n",
        "for i in range(4,0,-1):\n",
        "    print('*'*i)"
      ]
    },
    {
      "cell_type": "code",
      "execution_count": null,
      "id": "cad25fb3",
      "metadata": {
        "id": "cad25fb3",
        "outputId": "69b7aaa6-a139-4946-8804-d1d892d4299c"
      },
      "outputs": [
        {
          "name": "stdout",
          "output_type": "stream",
          "text": [
            "*\n",
            "**\n",
            "***\n",
            "****\n",
            "*****\n",
            "****\n",
            "***\n",
            "**\n",
            "*\n"
          ]
        }
      ],
      "source": [
        "for i in range(1,6):    \n",
        "    print('*'*i)\n",
        "for i in range(4,0,-1):\n",
        "    print('*'*i)"
      ]
    },
    {
      "cell_type": "code",
      "execution_count": null,
      "id": "5604e68d",
      "metadata": {
        "id": "5604e68d"
      },
      "outputs": [],
      "source": [
        "ipl=[{\"name\":\"Virat\",\"Team\":\"RCB\",\"runs\":1000},\n",
        "{\"name\":\"MS\",\"Team\":\"CSK\",\"runs\":1},\n",
        "{\"name\":\"ABD\",\"Team\":\"Punjab\",\"runs\":90},\n",
        "{\"name\":\"Hardik\",\"Team\":\"GT\",\"runs\":100}]"
      ]
    },
    {
      "cell_type": "code",
      "execution_count": null,
      "id": "d5372726",
      "metadata": {
        "id": "d5372726"
      },
      "outputs": [],
      "source": [
        "l=sorted(ipl,key=lambda x:x['runs'])"
      ]
    },
    {
      "cell_type": "code",
      "execution_count": null,
      "id": "66db4d8e",
      "metadata": {
        "id": "66db4d8e",
        "outputId": "4e869ce6-dcd4-4354-df04-0b8adcb6ee03"
      },
      "outputs": [
        {
          "data": {
            "text/plain": [
              "[{'name': 'MS', 'Team': 'CSK', 'runs': 1},\n",
              " {'name': 'ABD', 'Team': 'Punjab', 'runs': 90},\n",
              " {'name': 'Hardik', 'Team': 'GT', 'runs': 100},\n",
              " {'name': 'Virat', 'Team': 'RCB', 'runs': 1000}]"
            ]
          },
          "execution_count": 92,
          "metadata": {},
          "output_type": "execute_result"
        }
      ],
      "source": [
        "l"
      ]
    },
    {
      "cell_type": "code",
      "execution_count": null,
      "id": "2a4043e2",
      "metadata": {
        "id": "2a4043e2"
      },
      "outputs": [],
      "source": [
        "l=sorted(ipl,key=lambda x:x['runs'],reverse=True)"
      ]
    },
    {
      "cell_type": "code",
      "execution_count": null,
      "id": "fe886096",
      "metadata": {
        "id": "fe886096",
        "outputId": "06103c60-3d3e-48c0-b7ea-23f9fe00679f"
      },
      "outputs": [
        {
          "data": {
            "text/plain": [
              "[{'name': 'Virat', 'Team': 'RCB', 'runs': 1000},\n",
              " {'name': 'Hardik', 'Team': 'GT', 'runs': 100},\n",
              " {'name': 'ABD', 'Team': 'Punjab', 'runs': 90},\n",
              " {'name': 'MS', 'Team': 'CSK', 'runs': 1}]"
            ]
          },
          "execution_count": 99,
          "metadata": {},
          "output_type": "execute_result"
        }
      ],
      "source": [
        "l"
      ]
    },
    {
      "cell_type": "code",
      "execution_count": null,
      "id": "f839e70b",
      "metadata": {
        "id": "f839e70b"
      },
      "outputs": [],
      "source": [
        "l1=sorted(ipl,key=lambda x:x['name'])"
      ]
    },
    {
      "cell_type": "code",
      "execution_count": null,
      "id": "c2d9ddef",
      "metadata": {
        "id": "c2d9ddef",
        "outputId": "4ddb6e21-9bf4-4e4e-a702-aafc1db49fd2"
      },
      "outputs": [
        {
          "data": {
            "text/plain": [
              "[{'name': 'ABD', 'Team': 'Punjab', 'runs': 90},\n",
              " {'name': 'Hardik', 'Team': 'GT', 'runs': 100},\n",
              " {'name': 'MS', 'Team': 'CSK', 'runs': 1},\n",
              " {'name': 'Virat', 'Team': 'RCB', 'runs': 1000}]"
            ]
          },
          "execution_count": 97,
          "metadata": {},
          "output_type": "execute_result"
        }
      ],
      "source": [
        "l1"
      ]
    },
    {
      "cell_type": "code",
      "execution_count": null,
      "id": "1301158c",
      "metadata": {
        "id": "1301158c"
      },
      "outputs": [],
      "source": [
        "name=[\"Virat KHOLI\",\"MS DHONI\",\"RAVICHANDRAN ASHWIN\"]"
      ]
    },
    {
      "cell_type": "code",
      "execution_count": null,
      "id": "c02747d5",
      "metadata": {
        "id": "c02747d5"
      },
      "outputs": [],
      "source": [
        "name.sort(key=lambda x:x.split(\" \")[0])"
      ]
    },
    {
      "cell_type": "code",
      "execution_count": null,
      "id": "c864cc43",
      "metadata": {
        "id": "c864cc43",
        "outputId": "0ea3c557-462f-4fa3-f732-0a45419dc671"
      },
      "outputs": [
        {
          "data": {
            "text/plain": [
              "['MS DHONI', 'RAVICHANDRAN ASHWIN', 'Virat KHOLI']"
            ]
          },
          "execution_count": 102,
          "metadata": {},
          "output_type": "execute_result"
        }
      ],
      "source": [
        "sorted(name,key=lambda x:x.split(\" \")[0])"
      ]
    },
    {
      "cell_type": "code",
      "execution_count": null,
      "id": "20a71d7b",
      "metadata": {
        "id": "20a71d7b",
        "outputId": "e207a022-a378-48b7-bb2c-c662f21a2179"
      },
      "outputs": [
        {
          "data": {
            "text/plain": [
              "['RAVICHANDRAN ASHWIN', 'MS DHONI', 'Virat KHOLI']"
            ]
          },
          "execution_count": 103,
          "metadata": {},
          "output_type": "execute_result"
        }
      ],
      "source": [
        "sorted(name,key=lambda x:x.split(\" \")[1])"
      ]
    },
    {
      "cell_type": "code",
      "execution_count": null,
      "id": "29464007",
      "metadata": {
        "id": "29464007",
        "outputId": "6a090c5d-4e7d-47b9-f131-5a196f8d63d9"
      },
      "outputs": [
        {
          "data": {
            "text/plain": [
              "['MS DHONI', 'Virat KHOLI', 'RAVICHANDRAN ASHWIN']"
            ]
          },
          "execution_count": 104,
          "metadata": {},
          "output_type": "execute_result"
        }
      ],
      "source": [
        "sorted(name,key=lambda x:len(x.split(\" \")[0]))"
      ]
    },
    {
      "cell_type": "code",
      "execution_count": null,
      "id": "04c5d47b",
      "metadata": {
        "id": "04c5d47b",
        "outputId": "f64c3042-8a19-46c7-d6fe-9ea0c0fdbbb7"
      },
      "outputs": [
        {
          "data": {
            "text/plain": [
              "['RAVICHANDRAN ASHWIN', 'Virat KHOLI', 'MS DHONI']"
            ]
          },
          "execution_count": 105,
          "metadata": {},
          "output_type": "execute_result"
        }
      ],
      "source": [
        "sorted(name,key=lambda x:len(x.split(\" \")[0]),reverse=True)"
      ]
    },
    {
      "cell_type": "code",
      "execution_count": null,
      "id": "ed67b540",
      "metadata": {
        "id": "ed67b540"
      },
      "outputs": [],
      "source": [
        "my_list=[1,2,3,4,5,6,7,8,9,10]"
      ]
    },
    {
      "cell_type": "code",
      "execution_count": null,
      "id": "1707d2a9",
      "metadata": {
        "id": "1707d2a9",
        "outputId": "4c7f8d17-4fe3-4ea1-aeb4-5d2257fc71ef"
      },
      "outputs": [
        {
          "data": {
            "text/plain": [
              "<filter at 0x2bfcc8bee20>"
            ]
          },
          "execution_count": 107,
          "metadata": {},
          "output_type": "execute_result"
        }
      ],
      "source": [
        "filter(lambda x:x%2==0,my_list)"
      ]
    },
    {
      "cell_type": "code",
      "execution_count": null,
      "id": "857609af",
      "metadata": {
        "id": "857609af",
        "outputId": "33925cf0-b8bc-4235-c2cc-43a6c72adb49"
      },
      "outputs": [
        {
          "data": {
            "text/plain": [
              "[2, 4, 6, 8, 10]"
            ]
          },
          "execution_count": 108,
          "metadata": {},
          "output_type": "execute_result"
        }
      ],
      "source": [
        "list(filter(lambda x:x%2==0,my_list))"
      ]
    },
    {
      "cell_type": "code",
      "execution_count": null,
      "id": "3fb95279",
      "metadata": {
        "id": "3fb95279"
      },
      "outputs": [],
      "source": [
        "d={1:2,3:4,5:6,7:8}"
      ]
    },
    {
      "cell_type": "code",
      "execution_count": null,
      "id": "42daf290",
      "metadata": {
        "id": "42daf290",
        "outputId": "5560b401-24d0-4975-8f8c-1ac61c82e1f3"
      },
      "outputs": [
        {
          "data": {
            "text/plain": [
              "<filter at 0x2bfcc8beb50>"
            ]
          },
          "execution_count": 110,
          "metadata": {},
          "output_type": "execute_result"
        }
      ],
      "source": [
        "filter(lambda x:x>5,d)"
      ]
    },
    {
      "cell_type": "code",
      "execution_count": null,
      "id": "304bc16e",
      "metadata": {
        "id": "304bc16e",
        "outputId": "24f1284b-af5d-40da-adec-7363b440ca76"
      },
      "outputs": [
        {
          "data": {
            "text/plain": [
              "[7]"
            ]
          },
          "execution_count": 111,
          "metadata": {},
          "output_type": "execute_result"
        }
      ],
      "source": [
        "list(filter(lambda x:x>5,d))"
      ]
    },
    {
      "cell_type": "code",
      "execution_count": null,
      "id": "56d1f6c2",
      "metadata": {
        "id": "56d1f6c2"
      },
      "outputs": [],
      "source": [
        "data=[10,20,30,40,50,60,70,80,90,100]"
      ]
    },
    {
      "cell_type": "code",
      "execution_count": null,
      "id": "ad5d3a79",
      "metadata": {
        "id": "ad5d3a79",
        "outputId": "c945d83a-8cd4-4114-882b-63bf0412c0dd"
      },
      "outputs": [
        {
          "data": {
            "text/plain": [
              "55.0"
            ]
          },
          "execution_count": 114,
          "metadata": {},
          "output_type": "execute_result"
        }
      ],
      "source": [
        "avg=sum(data)/len(data)\n",
        "avg"
      ]
    },
    {
      "cell_type": "code",
      "execution_count": null,
      "id": "d071de20",
      "metadata": {
        "id": "d071de20",
        "outputId": "83937b87-d289-4155-be9a-2a5044c5de93"
      },
      "outputs": [
        {
          "data": {
            "text/plain": [
              "[10, 20, 30, 40, 50]"
            ]
          },
          "execution_count": 116,
          "metadata": {},
          "output_type": "execute_result"
        }
      ],
      "source": [
        "list(filter(lambda x:x<avg,data))"
      ]
    },
    {
      "cell_type": "markdown",
      "id": "f47c2f31",
      "metadata": {
        "id": "f47c2f31"
      },
      "source": [
        "Write a Python program to convert a given list of tuples to a list of strings using map function"
      ]
    },
    {
      "cell_type": "code",
      "execution_count": null,
      "id": "4079a00e",
      "metadata": {
        "id": "4079a00e"
      },
      "outputs": [],
      "source": [
        "l = [('red', 'pink'), ('white', 'black'), ('orange', 'green')]"
      ]
    },
    {
      "cell_type": "code",
      "execution_count": null,
      "id": "503d9f66",
      "metadata": {
        "id": "503d9f66"
      },
      "outputs": [],
      "source": [
        "['redpink', 'whiteblack', 'orangegreen']   output"
      ]
    },
    {
      "cell_type": "code",
      "execution_count": null,
      "id": "62c9015b",
      "metadata": {
        "id": "62c9015b",
        "outputId": "b842ac55-0912-4578-c0c6-ce6bcd47ec94"
      },
      "outputs": [
        {
          "data": {
            "text/plain": [
              "['redpink', 'whiteblack', 'orangegreen']"
            ]
          },
          "execution_count": 118,
          "metadata": {},
          "output_type": "execute_result"
        }
      ],
      "source": [
        "list(map(''.join,l))"
      ]
    },
    {
      "cell_type": "markdown",
      "id": "304ca854",
      "metadata": {
        "id": "304ca854"
      },
      "source": [
        "Map, filter, reduce: iterables(list, tuples, dict)   and to work on iterables we need lambda fuction"
      ]
    },
    {
      "cell_type": "code",
      "execution_count": null,
      "id": "b35b61e8",
      "metadata": {
        "id": "b35b61e8",
        "outputId": "f5650b0e-34aa-4dda-92c3-8c3d047534cc"
      },
      "outputs": [
        {
          "name": "stdout",
          "output_type": "stream",
          "text": [
            "10\n"
          ]
        }
      ],
      "source": [
        "from functools import reduce  #iterables:\n",
        "\n",
        "nums = [1, 2, 3, 4]\n",
        "ans = reduce(lambda x, y: x + y, nums)\n",
        "print(ans) "
      ]
    },
    {
      "cell_type": "code",
      "execution_count": null,
      "id": "6a46947a",
      "metadata": {
        "id": "6a46947a",
        "outputId": "83c352d4-543a-4146-de65-99a73f678c8d"
      },
      "outputs": [
        {
          "data": {
            "text/plain": [
              "60"
            ]
          },
          "execution_count": 124,
          "metadata": {},
          "output_type": "execute_result"
        }
      ],
      "source": [
        "l=(1,4,3,5)\n",
        "reduce(lambda x,y:x*y,l)"
      ]
    },
    {
      "cell_type": "code",
      "execution_count": null,
      "id": "a530b2f6",
      "metadata": {
        "id": "a530b2f6"
      },
      "outputs": [],
      "source": [
        "import pandas as pd"
      ]
    },
    {
      "cell_type": "code",
      "execution_count": null,
      "id": "fd188096",
      "metadata": {
        "id": "fd188096"
      },
      "outputs": [],
      "source": [
        "data = pd.DataFrame({'Brand' : ['Maruti','Maruti', 'Hyundai', 'Tata',\n",
        "                                'Mahindra', 'Maruti', 'Hyundai',\n",
        "                                'Renault', 'Tata', 'Maruti'],\n",
        "                     'Year' : [2012,2012, 2014, 2011, 2015, 2012, \n",
        "                               2016, 2014, 2018, 2019],\n",
        "                     'Kms Driven' : [50000,50000, 30000, 60000, \n",
        "                                     25000, 10000, 46000, \n",
        "                                     31000, 15000, 12000],\n",
        "                     'City' : ['Gurgaon','Gurgaon', 'Delhi', 'Mumbai', \n",
        "                               'Delhi', 'Mumbai', 'Delhi', \n",
        "                               'Mumbai','Chennai',  'Ghaziabad'],\n",
        "                     'Mileage' :  [28,28, 27, 25, 26, 28, \n",
        "                                   29, 24, 21, 24]})"
      ]
    },
    {
      "cell_type": "code",
      "execution_count": null,
      "id": "e59e0f11",
      "metadata": {
        "id": "e59e0f11",
        "outputId": "7e6038f3-09c1-4ac4-f720-33b379e84156"
      },
      "outputs": [
        {
          "data": {
            "text/html": [
              "<div>\n",
              "<style scoped>\n",
              "    .dataframe tbody tr th:only-of-type {\n",
              "        vertical-align: middle;\n",
              "    }\n",
              "\n",
              "    .dataframe tbody tr th {\n",
              "        vertical-align: top;\n",
              "    }\n",
              "\n",
              "    .dataframe thead th {\n",
              "        text-align: right;\n",
              "    }\n",
              "</style>\n",
              "<table border=\"1\" class=\"dataframe\">\n",
              "  <thead>\n",
              "    <tr style=\"text-align: right;\">\n",
              "      <th></th>\n",
              "      <th>Brand</th>\n",
              "      <th>Year</th>\n",
              "      <th>Kms Driven</th>\n",
              "      <th>City</th>\n",
              "      <th>Mileage</th>\n",
              "    </tr>\n",
              "  </thead>\n",
              "  <tbody>\n",
              "    <tr>\n",
              "      <th>0</th>\n",
              "      <td>Maruti</td>\n",
              "      <td>2012</td>\n",
              "      <td>50000</td>\n",
              "      <td>Gurgaon</td>\n",
              "      <td>28</td>\n",
              "    </tr>\n",
              "    <tr>\n",
              "      <th>1</th>\n",
              "      <td>Maruti</td>\n",
              "      <td>2012</td>\n",
              "      <td>50000</td>\n",
              "      <td>Gurgaon</td>\n",
              "      <td>28</td>\n",
              "    </tr>\n",
              "    <tr>\n",
              "      <th>2</th>\n",
              "      <td>Hyundai</td>\n",
              "      <td>2014</td>\n",
              "      <td>30000</td>\n",
              "      <td>Delhi</td>\n",
              "      <td>27</td>\n",
              "    </tr>\n",
              "    <tr>\n",
              "      <th>3</th>\n",
              "      <td>Tata</td>\n",
              "      <td>2011</td>\n",
              "      <td>60000</td>\n",
              "      <td>Mumbai</td>\n",
              "      <td>25</td>\n",
              "    </tr>\n",
              "    <tr>\n",
              "      <th>4</th>\n",
              "      <td>Mahindra</td>\n",
              "      <td>2015</td>\n",
              "      <td>25000</td>\n",
              "      <td>Delhi</td>\n",
              "      <td>26</td>\n",
              "    </tr>\n",
              "    <tr>\n",
              "      <th>5</th>\n",
              "      <td>Maruti</td>\n",
              "      <td>2012</td>\n",
              "      <td>10000</td>\n",
              "      <td>Mumbai</td>\n",
              "      <td>28</td>\n",
              "    </tr>\n",
              "    <tr>\n",
              "      <th>6</th>\n",
              "      <td>Hyundai</td>\n",
              "      <td>2016</td>\n",
              "      <td>46000</td>\n",
              "      <td>Delhi</td>\n",
              "      <td>29</td>\n",
              "    </tr>\n",
              "    <tr>\n",
              "      <th>7</th>\n",
              "      <td>Renault</td>\n",
              "      <td>2014</td>\n",
              "      <td>31000</td>\n",
              "      <td>Mumbai</td>\n",
              "      <td>24</td>\n",
              "    </tr>\n",
              "    <tr>\n",
              "      <th>8</th>\n",
              "      <td>Tata</td>\n",
              "      <td>2018</td>\n",
              "      <td>15000</td>\n",
              "      <td>Chennai</td>\n",
              "      <td>21</td>\n",
              "    </tr>\n",
              "    <tr>\n",
              "      <th>9</th>\n",
              "      <td>Maruti</td>\n",
              "      <td>2019</td>\n",
              "      <td>12000</td>\n",
              "      <td>Ghaziabad</td>\n",
              "      <td>24</td>\n",
              "    </tr>\n",
              "  </tbody>\n",
              "</table>\n",
              "</div>"
            ],
            "text/plain": [
              "      Brand  Year  Kms Driven       City  Mileage\n",
              "0    Maruti  2012       50000    Gurgaon       28\n",
              "1    Maruti  2012       50000    Gurgaon       28\n",
              "2   Hyundai  2014       30000      Delhi       27\n",
              "3      Tata  2011       60000     Mumbai       25\n",
              "4  Mahindra  2015       25000      Delhi       26\n",
              "5    Maruti  2012       10000     Mumbai       28\n",
              "6   Hyundai  2016       46000      Delhi       29\n",
              "7   Renault  2014       31000     Mumbai       24\n",
              "8      Tata  2018       15000    Chennai       21\n",
              "9    Maruti  2019       12000  Ghaziabad       24"
            ]
          },
          "execution_count": 137,
          "metadata": {},
          "output_type": "execute_result"
        }
      ],
      "source": [
        "data"
      ]
    },
    {
      "cell_type": "code",
      "execution_count": null,
      "id": "fadb5c64",
      "metadata": {
        "id": "fadb5c64",
        "outputId": "f17d2ffa-5b49-4c70-a7a5-93d3324fb079"
      },
      "outputs": [
        {
          "data": {
            "text/html": [
              "<div>\n",
              "<style scoped>\n",
              "    .dataframe tbody tr th:only-of-type {\n",
              "        vertical-align: middle;\n",
              "    }\n",
              "\n",
              "    .dataframe tbody tr th {\n",
              "        vertical-align: top;\n",
              "    }\n",
              "\n",
              "    .dataframe thead th {\n",
              "        text-align: right;\n",
              "    }\n",
              "</style>\n",
              "<table border=\"1\" class=\"dataframe\">\n",
              "  <thead>\n",
              "    <tr style=\"text-align: right;\">\n",
              "      <th></th>\n",
              "      <th>Brand</th>\n",
              "      <th>Year</th>\n",
              "      <th>Kms Driven</th>\n",
              "      <th>City</th>\n",
              "      <th>Mileage</th>\n",
              "    </tr>\n",
              "  </thead>\n",
              "  <tbody>\n",
              "    <tr>\n",
              "      <th>8</th>\n",
              "      <td>Tata</td>\n",
              "      <td>2018</td>\n",
              "      <td>15000</td>\n",
              "      <td>Chennai</td>\n",
              "      <td>21</td>\n",
              "    </tr>\n",
              "    <tr>\n",
              "      <th>7</th>\n",
              "      <td>Renault</td>\n",
              "      <td>2014</td>\n",
              "      <td>31000</td>\n",
              "      <td>Mumbai</td>\n",
              "      <td>24</td>\n",
              "    </tr>\n",
              "  </tbody>\n",
              "</table>\n",
              "</div>"
            ],
            "text/plain": [
              "     Brand  Year  Kms Driven     City  Mileage\n",
              "8     Tata  2018       15000  Chennai       21\n",
              "7  Renault  2014       31000   Mumbai       24"
            ]
          },
          "execution_count": 129,
          "metadata": {},
          "output_type": "execute_result"
        }
      ],
      "source": [
        "data.nsmallest(2,'Mileage')"
      ]
    },
    {
      "cell_type": "code",
      "execution_count": null,
      "id": "88dba48c",
      "metadata": {
        "id": "88dba48c",
        "outputId": "284581f8-6dc2-4555-eaaf-336282742ec2"
      },
      "outputs": [
        {
          "data": {
            "text/html": [
              "<div>\n",
              "<style scoped>\n",
              "    .dataframe tbody tr th:only-of-type {\n",
              "        vertical-align: middle;\n",
              "    }\n",
              "\n",
              "    .dataframe tbody tr th {\n",
              "        vertical-align: top;\n",
              "    }\n",
              "\n",
              "    .dataframe thead th {\n",
              "        text-align: right;\n",
              "    }\n",
              "</style>\n",
              "<table border=\"1\" class=\"dataframe\">\n",
              "  <thead>\n",
              "    <tr style=\"text-align: right;\">\n",
              "      <th></th>\n",
              "      <th>City</th>\n",
              "    </tr>\n",
              "  </thead>\n",
              "  <tbody>\n",
              "    <tr>\n",
              "      <th>8</th>\n",
              "      <td>Chennai</td>\n",
              "    </tr>\n",
              "    <tr>\n",
              "      <th>7</th>\n",
              "      <td>Mumbai</td>\n",
              "    </tr>\n",
              "  </tbody>\n",
              "</table>\n",
              "</div>"
            ],
            "text/plain": [
              "      City\n",
              "8  Chennai\n",
              "7   Mumbai"
            ]
          },
          "execution_count": 130,
          "metadata": {},
          "output_type": "execute_result"
        }
      ],
      "source": [
        "data.nsmallest(2,'Mileage')[['City']]"
      ]
    },
    {
      "cell_type": "code",
      "execution_count": null,
      "id": "9bc6823a",
      "metadata": {
        "id": "9bc6823a",
        "outputId": "986ab90e-634e-47a9-ed72-894398a5988c"
      },
      "outputs": [
        {
          "data": {
            "text/html": [
              "<div>\n",
              "<style scoped>\n",
              "    .dataframe tbody tr th:only-of-type {\n",
              "        vertical-align: middle;\n",
              "    }\n",
              "\n",
              "    .dataframe tbody tr th {\n",
              "        vertical-align: top;\n",
              "    }\n",
              "\n",
              "    .dataframe thead th {\n",
              "        text-align: right;\n",
              "    }\n",
              "</style>\n",
              "<table border=\"1\" class=\"dataframe\">\n",
              "  <thead>\n",
              "    <tr style=\"text-align: right;\">\n",
              "      <th></th>\n",
              "      <th>Brand</th>\n",
              "      <th>Year</th>\n",
              "    </tr>\n",
              "  </thead>\n",
              "  <tbody>\n",
              "    <tr>\n",
              "      <th>8</th>\n",
              "      <td>Tata</td>\n",
              "      <td>2018</td>\n",
              "    </tr>\n",
              "    <tr>\n",
              "      <th>7</th>\n",
              "      <td>Renault</td>\n",
              "      <td>2014</td>\n",
              "    </tr>\n",
              "  </tbody>\n",
              "</table>\n",
              "</div>"
            ],
            "text/plain": [
              "     Brand  Year\n",
              "8     Tata  2018\n",
              "7  Renault  2014"
            ]
          },
          "execution_count": 131,
          "metadata": {},
          "output_type": "execute_result"
        }
      ],
      "source": [
        "data.nsmallest(2,'Mileage')[['Brand','Year']]"
      ]
    },
    {
      "cell_type": "code",
      "execution_count": null,
      "id": "f4447287",
      "metadata": {
        "id": "f4447287"
      },
      "outputs": [],
      "source": [
        "d=data.drop('Brand',axis=1)"
      ]
    },
    {
      "cell_type": "code",
      "execution_count": null,
      "id": "ebda36e7",
      "metadata": {
        "id": "ebda36e7",
        "outputId": "aff60b3e-5ef5-4350-f4ad-646730b2a8d5"
      },
      "outputs": [
        {
          "data": {
            "text/html": [
              "<div>\n",
              "<style scoped>\n",
              "    .dataframe tbody tr th:only-of-type {\n",
              "        vertical-align: middle;\n",
              "    }\n",
              "\n",
              "    .dataframe tbody tr th {\n",
              "        vertical-align: top;\n",
              "    }\n",
              "\n",
              "    .dataframe thead th {\n",
              "        text-align: right;\n",
              "    }\n",
              "</style>\n",
              "<table border=\"1\" class=\"dataframe\">\n",
              "  <thead>\n",
              "    <tr style=\"text-align: right;\">\n",
              "      <th></th>\n",
              "      <th>Year</th>\n",
              "      <th>Kms Driven</th>\n",
              "      <th>City</th>\n",
              "      <th>Mileage</th>\n",
              "    </tr>\n",
              "  </thead>\n",
              "  <tbody>\n",
              "    <tr>\n",
              "      <th>0</th>\n",
              "      <td>2012</td>\n",
              "      <td>50000</td>\n",
              "      <td>Gurgaon</td>\n",
              "      <td>28</td>\n",
              "    </tr>\n",
              "    <tr>\n",
              "      <th>1</th>\n",
              "      <td>2012</td>\n",
              "      <td>50000</td>\n",
              "      <td>Gurgaon</td>\n",
              "      <td>28</td>\n",
              "    </tr>\n",
              "    <tr>\n",
              "      <th>2</th>\n",
              "      <td>2014</td>\n",
              "      <td>30000</td>\n",
              "      <td>Delhi</td>\n",
              "      <td>27</td>\n",
              "    </tr>\n",
              "    <tr>\n",
              "      <th>3</th>\n",
              "      <td>2011</td>\n",
              "      <td>60000</td>\n",
              "      <td>Mumbai</td>\n",
              "      <td>25</td>\n",
              "    </tr>\n",
              "    <tr>\n",
              "      <th>4</th>\n",
              "      <td>2015</td>\n",
              "      <td>25000</td>\n",
              "      <td>Delhi</td>\n",
              "      <td>26</td>\n",
              "    </tr>\n",
              "    <tr>\n",
              "      <th>5</th>\n",
              "      <td>2012</td>\n",
              "      <td>10000</td>\n",
              "      <td>Mumbai</td>\n",
              "      <td>28</td>\n",
              "    </tr>\n",
              "    <tr>\n",
              "      <th>6</th>\n",
              "      <td>2016</td>\n",
              "      <td>46000</td>\n",
              "      <td>Delhi</td>\n",
              "      <td>29</td>\n",
              "    </tr>\n",
              "    <tr>\n",
              "      <th>7</th>\n",
              "      <td>2014</td>\n",
              "      <td>31000</td>\n",
              "      <td>Mumbai</td>\n",
              "      <td>24</td>\n",
              "    </tr>\n",
              "    <tr>\n",
              "      <th>8</th>\n",
              "      <td>2018</td>\n",
              "      <td>15000</td>\n",
              "      <td>Chennai</td>\n",
              "      <td>21</td>\n",
              "    </tr>\n",
              "    <tr>\n",
              "      <th>9</th>\n",
              "      <td>2019</td>\n",
              "      <td>12000</td>\n",
              "      <td>Ghaziabad</td>\n",
              "      <td>24</td>\n",
              "    </tr>\n",
              "  </tbody>\n",
              "</table>\n",
              "</div>"
            ],
            "text/plain": [
              "   Year  Kms Driven       City  Mileage\n",
              "0  2012       50000    Gurgaon       28\n",
              "1  2012       50000    Gurgaon       28\n",
              "2  2014       30000      Delhi       27\n",
              "3  2011       60000     Mumbai       25\n",
              "4  2015       25000      Delhi       26\n",
              "5  2012       10000     Mumbai       28\n",
              "6  2016       46000      Delhi       29\n",
              "7  2014       31000     Mumbai       24\n",
              "8  2018       15000    Chennai       21\n",
              "9  2019       12000  Ghaziabad       24"
            ]
          },
          "execution_count": 139,
          "metadata": {},
          "output_type": "execute_result"
        }
      ],
      "source": [
        "d"
      ]
    },
    {
      "cell_type": "code",
      "execution_count": null,
      "id": "f1df59db",
      "metadata": {
        "id": "f1df59db",
        "outputId": "9e5be5ed-df9e-45c6-c912-61e2bcfaaf20"
      },
      "outputs": [
        {
          "data": {
            "text/plain": [
              "0      Maruti\n",
              "1      Maruti\n",
              "2     Hyundai\n",
              "3        Tata\n",
              "4    Mahindra\n",
              "5      Maruti\n",
              "6     Hyundai\n",
              "7     Renault\n",
              "8        Tata\n",
              "9      Maruti\n",
              "Name: Brand, dtype: object"
            ]
          },
          "execution_count": 140,
          "metadata": {},
          "output_type": "execute_result"
        }
      ],
      "source": [
        "data.pop('Brand')"
      ]
    },
    {
      "cell_type": "code",
      "execution_count": null,
      "id": "8ce2ee21",
      "metadata": {
        "id": "8ce2ee21",
        "outputId": "fe6913e7-20cd-48f5-ccbc-436461aa9d48"
      },
      "outputs": [
        {
          "data": {
            "text/html": [
              "<div>\n",
              "<style scoped>\n",
              "    .dataframe tbody tr th:only-of-type {\n",
              "        vertical-align: middle;\n",
              "    }\n",
              "\n",
              "    .dataframe tbody tr th {\n",
              "        vertical-align: top;\n",
              "    }\n",
              "\n",
              "    .dataframe thead th {\n",
              "        text-align: right;\n",
              "    }\n",
              "</style>\n",
              "<table border=\"1\" class=\"dataframe\">\n",
              "  <thead>\n",
              "    <tr style=\"text-align: right;\">\n",
              "      <th></th>\n",
              "      <th>Year</th>\n",
              "      <th>Kms Driven</th>\n",
              "      <th>City</th>\n",
              "      <th>Mileage</th>\n",
              "    </tr>\n",
              "  </thead>\n",
              "  <tbody>\n",
              "    <tr>\n",
              "      <th>0</th>\n",
              "      <td>2012</td>\n",
              "      <td>50000</td>\n",
              "      <td>Gurgaon</td>\n",
              "      <td>28</td>\n",
              "    </tr>\n",
              "    <tr>\n",
              "      <th>1</th>\n",
              "      <td>2012</td>\n",
              "      <td>50000</td>\n",
              "      <td>Gurgaon</td>\n",
              "      <td>28</td>\n",
              "    </tr>\n",
              "    <tr>\n",
              "      <th>2</th>\n",
              "      <td>2014</td>\n",
              "      <td>30000</td>\n",
              "      <td>Delhi</td>\n",
              "      <td>27</td>\n",
              "    </tr>\n",
              "    <tr>\n",
              "      <th>3</th>\n",
              "      <td>2011</td>\n",
              "      <td>60000</td>\n",
              "      <td>Mumbai</td>\n",
              "      <td>25</td>\n",
              "    </tr>\n",
              "    <tr>\n",
              "      <th>4</th>\n",
              "      <td>2015</td>\n",
              "      <td>25000</td>\n",
              "      <td>Delhi</td>\n",
              "      <td>26</td>\n",
              "    </tr>\n",
              "    <tr>\n",
              "      <th>5</th>\n",
              "      <td>2012</td>\n",
              "      <td>10000</td>\n",
              "      <td>Mumbai</td>\n",
              "      <td>28</td>\n",
              "    </tr>\n",
              "    <tr>\n",
              "      <th>6</th>\n",
              "      <td>2016</td>\n",
              "      <td>46000</td>\n",
              "      <td>Delhi</td>\n",
              "      <td>29</td>\n",
              "    </tr>\n",
              "    <tr>\n",
              "      <th>7</th>\n",
              "      <td>2014</td>\n",
              "      <td>31000</td>\n",
              "      <td>Mumbai</td>\n",
              "      <td>24</td>\n",
              "    </tr>\n",
              "    <tr>\n",
              "      <th>8</th>\n",
              "      <td>2018</td>\n",
              "      <td>15000</td>\n",
              "      <td>Chennai</td>\n",
              "      <td>21</td>\n",
              "    </tr>\n",
              "    <tr>\n",
              "      <th>9</th>\n",
              "      <td>2019</td>\n",
              "      <td>12000</td>\n",
              "      <td>Ghaziabad</td>\n",
              "      <td>24</td>\n",
              "    </tr>\n",
              "  </tbody>\n",
              "</table>\n",
              "</div>"
            ],
            "text/plain": [
              "   Year  Kms Driven       City  Mileage\n",
              "0  2012       50000    Gurgaon       28\n",
              "1  2012       50000    Gurgaon       28\n",
              "2  2014       30000      Delhi       27\n",
              "3  2011       60000     Mumbai       25\n",
              "4  2015       25000      Delhi       26\n",
              "5  2012       10000     Mumbai       28\n",
              "6  2016       46000      Delhi       29\n",
              "7  2014       31000     Mumbai       24\n",
              "8  2018       15000    Chennai       21\n",
              "9  2019       12000  Ghaziabad       24"
            ]
          },
          "execution_count": 134,
          "metadata": {},
          "output_type": "execute_result"
        }
      ],
      "source": [
        "data"
      ]
    },
    {
      "cell_type": "code",
      "execution_count": null,
      "id": "0d9983c8",
      "metadata": {
        "id": "0d9983c8"
      },
      "outputs": [],
      "source": [
        "del data['City']"
      ]
    },
    {
      "cell_type": "code",
      "execution_count": null,
      "id": "4f3fe8d4",
      "metadata": {
        "id": "4f3fe8d4",
        "outputId": "ae3e503e-4a9e-4b44-c4b3-2dedc9d74b56"
      },
      "outputs": [
        {
          "data": {
            "text/html": [
              "<div>\n",
              "<style scoped>\n",
              "    .dataframe tbody tr th:only-of-type {\n",
              "        vertical-align: middle;\n",
              "    }\n",
              "\n",
              "    .dataframe tbody tr th {\n",
              "        vertical-align: top;\n",
              "    }\n",
              "\n",
              "    .dataframe thead th {\n",
              "        text-align: right;\n",
              "    }\n",
              "</style>\n",
              "<table border=\"1\" class=\"dataframe\">\n",
              "  <thead>\n",
              "    <tr style=\"text-align: right;\">\n",
              "      <th></th>\n",
              "      <th>Year</th>\n",
              "      <th>Kms Driven</th>\n",
              "      <th>Mileage</th>\n",
              "    </tr>\n",
              "  </thead>\n",
              "  <tbody>\n",
              "    <tr>\n",
              "      <th>0</th>\n",
              "      <td>2012</td>\n",
              "      <td>50000</td>\n",
              "      <td>28</td>\n",
              "    </tr>\n",
              "    <tr>\n",
              "      <th>1</th>\n",
              "      <td>2012</td>\n",
              "      <td>50000</td>\n",
              "      <td>28</td>\n",
              "    </tr>\n",
              "    <tr>\n",
              "      <th>2</th>\n",
              "      <td>2014</td>\n",
              "      <td>30000</td>\n",
              "      <td>27</td>\n",
              "    </tr>\n",
              "    <tr>\n",
              "      <th>3</th>\n",
              "      <td>2011</td>\n",
              "      <td>60000</td>\n",
              "      <td>25</td>\n",
              "    </tr>\n",
              "    <tr>\n",
              "      <th>4</th>\n",
              "      <td>2015</td>\n",
              "      <td>25000</td>\n",
              "      <td>26</td>\n",
              "    </tr>\n",
              "    <tr>\n",
              "      <th>5</th>\n",
              "      <td>2012</td>\n",
              "      <td>10000</td>\n",
              "      <td>28</td>\n",
              "    </tr>\n",
              "    <tr>\n",
              "      <th>6</th>\n",
              "      <td>2016</td>\n",
              "      <td>46000</td>\n",
              "      <td>29</td>\n",
              "    </tr>\n",
              "    <tr>\n",
              "      <th>7</th>\n",
              "      <td>2014</td>\n",
              "      <td>31000</td>\n",
              "      <td>24</td>\n",
              "    </tr>\n",
              "    <tr>\n",
              "      <th>8</th>\n",
              "      <td>2018</td>\n",
              "      <td>15000</td>\n",
              "      <td>21</td>\n",
              "    </tr>\n",
              "    <tr>\n",
              "      <th>9</th>\n",
              "      <td>2019</td>\n",
              "      <td>12000</td>\n",
              "      <td>24</td>\n",
              "    </tr>\n",
              "  </tbody>\n",
              "</table>\n",
              "</div>"
            ],
            "text/plain": [
              "   Year  Kms Driven  Mileage\n",
              "0  2012       50000       28\n",
              "1  2012       50000       28\n",
              "2  2014       30000       27\n",
              "3  2011       60000       25\n",
              "4  2015       25000       26\n",
              "5  2012       10000       28\n",
              "6  2016       46000       29\n",
              "7  2014       31000       24\n",
              "8  2018       15000       21\n",
              "9  2019       12000       24"
            ]
          },
          "execution_count": 142,
          "metadata": {},
          "output_type": "execute_result"
        }
      ],
      "source": [
        "data"
      ]
    },
    {
      "cell_type": "code",
      "execution_count": null,
      "id": "080c55c9",
      "metadata": {
        "id": "080c55c9",
        "outputId": "18c3131e-270f-4edf-8b85-7b4565bfbd68"
      },
      "outputs": [
        {
          "data": {
            "text/html": [
              "<div>\n",
              "<style scoped>\n",
              "    .dataframe tbody tr th:only-of-type {\n",
              "        vertical-align: middle;\n",
              "    }\n",
              "\n",
              "    .dataframe tbody tr th {\n",
              "        vertical-align: top;\n",
              "    }\n",
              "\n",
              "    .dataframe thead th {\n",
              "        text-align: right;\n",
              "    }\n",
              "</style>\n",
              "<table border=\"1\" class=\"dataframe\">\n",
              "  <thead>\n",
              "    <tr style=\"text-align: right;\">\n",
              "      <th></th>\n",
              "      <th>Year</th>\n",
              "      <th>Kms Driven</th>\n",
              "      <th>Mileage</th>\n",
              "    </tr>\n",
              "  </thead>\n",
              "  <tbody>\n",
              "    <tr>\n",
              "      <th>0</th>\n",
              "      <td>2012</td>\n",
              "      <td>50000</td>\n",
              "      <td>28</td>\n",
              "    </tr>\n",
              "    <tr>\n",
              "      <th>1</th>\n",
              "      <td>2012</td>\n",
              "      <td>50000</td>\n",
              "      <td>28</td>\n",
              "    </tr>\n",
              "    <tr>\n",
              "      <th>3</th>\n",
              "      <td>2011</td>\n",
              "      <td>60000</td>\n",
              "      <td>25</td>\n",
              "    </tr>\n",
              "    <tr>\n",
              "      <th>5</th>\n",
              "      <td>2012</td>\n",
              "      <td>10000</td>\n",
              "      <td>28</td>\n",
              "    </tr>\n",
              "    <tr>\n",
              "      <th>6</th>\n",
              "      <td>2016</td>\n",
              "      <td>46000</td>\n",
              "      <td>29</td>\n",
              "    </tr>\n",
              "    <tr>\n",
              "      <th>7</th>\n",
              "      <td>2014</td>\n",
              "      <td>31000</td>\n",
              "      <td>24</td>\n",
              "    </tr>\n",
              "    <tr>\n",
              "      <th>8</th>\n",
              "      <td>2018</td>\n",
              "      <td>15000</td>\n",
              "      <td>21</td>\n",
              "    </tr>\n",
              "    <tr>\n",
              "      <th>9</th>\n",
              "      <td>2019</td>\n",
              "      <td>12000</td>\n",
              "      <td>24</td>\n",
              "    </tr>\n",
              "  </tbody>\n",
              "</table>\n",
              "</div>"
            ],
            "text/plain": [
              "   Year  Kms Driven  Mileage\n",
              "0  2012       50000       28\n",
              "1  2012       50000       28\n",
              "3  2011       60000       25\n",
              "5  2012       10000       28\n",
              "6  2016       46000       29\n",
              "7  2014       31000       24\n",
              "8  2018       15000       21\n",
              "9  2019       12000       24"
            ]
          },
          "execution_count": 143,
          "metadata": {},
          "output_type": "execute_result"
        }
      ],
      "source": [
        "data.drop([2,4])  #2,4 is column 0 ie. index"
      ]
    },
    {
      "cell_type": "code",
      "execution_count": null,
      "id": "21f86877",
      "metadata": {
        "id": "21f86877",
        "outputId": "ac0f5c86-17cb-4451-b17c-4c2ab96c9d0f"
      },
      "outputs": [
        {
          "data": {
            "text/html": [
              "<div>\n",
              "<style scoped>\n",
              "    .dataframe tbody tr th:only-of-type {\n",
              "        vertical-align: middle;\n",
              "    }\n",
              "\n",
              "    .dataframe tbody tr th {\n",
              "        vertical-align: top;\n",
              "    }\n",
              "\n",
              "    .dataframe thead th {\n",
              "        text-align: right;\n",
              "    }\n",
              "</style>\n",
              "<table border=\"1\" class=\"dataframe\">\n",
              "  <thead>\n",
              "    <tr style=\"text-align: right;\">\n",
              "      <th></th>\n",
              "      <th>Year</th>\n",
              "      <th>Kms Driven</th>\n",
              "      <th>Mileage</th>\n",
              "    </tr>\n",
              "  </thead>\n",
              "  <tbody>\n",
              "    <tr>\n",
              "      <th>0</th>\n",
              "      <td>2012</td>\n",
              "      <td>50000</td>\n",
              "      <td>28</td>\n",
              "    </tr>\n",
              "    <tr>\n",
              "      <th>1</th>\n",
              "      <td>2012</td>\n",
              "      <td>50000</td>\n",
              "      <td>28</td>\n",
              "    </tr>\n",
              "    <tr>\n",
              "      <th>3</th>\n",
              "      <td>2011</td>\n",
              "      <td>60000</td>\n",
              "      <td>25</td>\n",
              "    </tr>\n",
              "    <tr>\n",
              "      <th>4</th>\n",
              "      <td>2015</td>\n",
              "      <td>25000</td>\n",
              "      <td>26</td>\n",
              "    </tr>\n",
              "    <tr>\n",
              "      <th>5</th>\n",
              "      <td>2012</td>\n",
              "      <td>10000</td>\n",
              "      <td>28</td>\n",
              "    </tr>\n",
              "    <tr>\n",
              "      <th>6</th>\n",
              "      <td>2016</td>\n",
              "      <td>46000</td>\n",
              "      <td>29</td>\n",
              "    </tr>\n",
              "    <tr>\n",
              "      <th>7</th>\n",
              "      <td>2014</td>\n",
              "      <td>31000</td>\n",
              "      <td>24</td>\n",
              "    </tr>\n",
              "    <tr>\n",
              "      <th>8</th>\n",
              "      <td>2018</td>\n",
              "      <td>15000</td>\n",
              "      <td>21</td>\n",
              "    </tr>\n",
              "    <tr>\n",
              "      <th>9</th>\n",
              "      <td>2019</td>\n",
              "      <td>12000</td>\n",
              "      <td>24</td>\n",
              "    </tr>\n",
              "  </tbody>\n",
              "</table>\n",
              "</div>"
            ],
            "text/plain": [
              "   Year  Kms Driven  Mileage\n",
              "0  2012       50000       28\n",
              "1  2012       50000       28\n",
              "3  2011       60000       25\n",
              "4  2015       25000       26\n",
              "5  2012       10000       28\n",
              "6  2016       46000       29\n",
              "7  2014       31000       24\n",
              "8  2018       15000       21\n",
              "9  2019       12000       24"
            ]
          },
          "execution_count": 144,
          "metadata": {},
          "output_type": "execute_result"
        }
      ],
      "source": [
        "data.drop(data.index[2:3])     #drop rows from one row to other"
      ]
    },
    {
      "cell_type": "code",
      "execution_count": null,
      "id": "6b04c9f0",
      "metadata": {
        "id": "6b04c9f0",
        "outputId": "cbd95c20-2e43-4c76-ab9a-5db3532ad3c2"
      },
      "outputs": [
        {
          "data": {
            "text/html": [
              "<div>\n",
              "<style scoped>\n",
              "    .dataframe tbody tr th:only-of-type {\n",
              "        vertical-align: middle;\n",
              "    }\n",
              "\n",
              "    .dataframe tbody tr th {\n",
              "        vertical-align: top;\n",
              "    }\n",
              "\n",
              "    .dataframe thead th {\n",
              "        text-align: right;\n",
              "    }\n",
              "</style>\n",
              "<table border=\"1\" class=\"dataframe\">\n",
              "  <thead>\n",
              "    <tr style=\"text-align: right;\">\n",
              "      <th></th>\n",
              "      <th>Kms Driven</th>\n",
              "      <th>Mileage</th>\n",
              "    </tr>\n",
              "    <tr>\n",
              "      <th>Year</th>\n",
              "      <th></th>\n",
              "      <th></th>\n",
              "    </tr>\n",
              "  </thead>\n",
              "  <tbody>\n",
              "    <tr>\n",
              "      <th>2012</th>\n",
              "      <td>50000</td>\n",
              "      <td>28</td>\n",
              "    </tr>\n",
              "    <tr>\n",
              "      <th>2012</th>\n",
              "      <td>50000</td>\n",
              "      <td>28</td>\n",
              "    </tr>\n",
              "    <tr>\n",
              "      <th>2014</th>\n",
              "      <td>30000</td>\n",
              "      <td>27</td>\n",
              "    </tr>\n",
              "    <tr>\n",
              "      <th>2011</th>\n",
              "      <td>60000</td>\n",
              "      <td>25</td>\n",
              "    </tr>\n",
              "    <tr>\n",
              "      <th>2015</th>\n",
              "      <td>25000</td>\n",
              "      <td>26</td>\n",
              "    </tr>\n",
              "    <tr>\n",
              "      <th>2012</th>\n",
              "      <td>10000</td>\n",
              "      <td>28</td>\n",
              "    </tr>\n",
              "    <tr>\n",
              "      <th>2016</th>\n",
              "      <td>46000</td>\n",
              "      <td>29</td>\n",
              "    </tr>\n",
              "    <tr>\n",
              "      <th>2014</th>\n",
              "      <td>31000</td>\n",
              "      <td>24</td>\n",
              "    </tr>\n",
              "    <tr>\n",
              "      <th>2018</th>\n",
              "      <td>15000</td>\n",
              "      <td>21</td>\n",
              "    </tr>\n",
              "    <tr>\n",
              "      <th>2019</th>\n",
              "      <td>12000</td>\n",
              "      <td>24</td>\n",
              "    </tr>\n",
              "  </tbody>\n",
              "</table>\n",
              "</div>"
            ],
            "text/plain": [
              "      Kms Driven  Mileage\n",
              "Year                     \n",
              "2012       50000       28\n",
              "2012       50000       28\n",
              "2014       30000       27\n",
              "2011       60000       25\n",
              "2015       25000       26\n",
              "2012       10000       28\n",
              "2016       46000       29\n",
              "2014       31000       24\n",
              "2018       15000       21\n",
              "2019       12000       24"
            ]
          },
          "execution_count": 145,
          "metadata": {},
          "output_type": "execute_result"
        }
      ],
      "source": [
        "data.set_index(\"Year\")"
      ]
    },
    {
      "cell_type": "code",
      "execution_count": null,
      "id": "072990eb",
      "metadata": {
        "id": "072990eb",
        "outputId": "d4f0f623-ecf0-4e42-9095-1eb7abad1951"
      },
      "outputs": [
        {
          "data": {
            "text/html": [
              "<div>\n",
              "<style scoped>\n",
              "    .dataframe tbody tr th:only-of-type {\n",
              "        vertical-align: middle;\n",
              "    }\n",
              "\n",
              "    .dataframe tbody tr th {\n",
              "        vertical-align: top;\n",
              "    }\n",
              "\n",
              "    .dataframe thead th {\n",
              "        text-align: right;\n",
              "    }\n",
              "</style>\n",
              "<table border=\"1\" class=\"dataframe\">\n",
              "  <thead>\n",
              "    <tr style=\"text-align: right;\">\n",
              "      <th></th>\n",
              "      <th>Year</th>\n",
              "      <th>Kms Driven</th>\n",
              "      <th>Mileage</th>\n",
              "    </tr>\n",
              "  </thead>\n",
              "  <tbody>\n",
              "    <tr>\n",
              "      <th>0</th>\n",
              "      <td>2012</td>\n",
              "      <td>50000</td>\n",
              "      <td>28</td>\n",
              "    </tr>\n",
              "    <tr>\n",
              "      <th>1</th>\n",
              "      <td>2012</td>\n",
              "      <td>50000</td>\n",
              "      <td>28</td>\n",
              "    </tr>\n",
              "    <tr>\n",
              "      <th>2</th>\n",
              "      <td>2014</td>\n",
              "      <td>30000</td>\n",
              "      <td>27</td>\n",
              "    </tr>\n",
              "    <tr>\n",
              "      <th>3</th>\n",
              "      <td>2011</td>\n",
              "      <td>60000</td>\n",
              "      <td>25</td>\n",
              "    </tr>\n",
              "    <tr>\n",
              "      <th>4</th>\n",
              "      <td>2015</td>\n",
              "      <td>25000</td>\n",
              "      <td>26</td>\n",
              "    </tr>\n",
              "    <tr>\n",
              "      <th>5</th>\n",
              "      <td>2012</td>\n",
              "      <td>10000</td>\n",
              "      <td>28</td>\n",
              "    </tr>\n",
              "    <tr>\n",
              "      <th>6</th>\n",
              "      <td>2016</td>\n",
              "      <td>46000</td>\n",
              "      <td>29</td>\n",
              "    </tr>\n",
              "    <tr>\n",
              "      <th>7</th>\n",
              "      <td>2014</td>\n",
              "      <td>31000</td>\n",
              "      <td>24</td>\n",
              "    </tr>\n",
              "    <tr>\n",
              "      <th>8</th>\n",
              "      <td>2018</td>\n",
              "      <td>15000</td>\n",
              "      <td>21</td>\n",
              "    </tr>\n",
              "  </tbody>\n",
              "</table>\n",
              "</div>"
            ],
            "text/plain": [
              "   Year  Kms Driven  Mileage\n",
              "0  2012       50000       28\n",
              "1  2012       50000       28\n",
              "2  2014       30000       27\n",
              "3  2011       60000       25\n",
              "4  2015       25000       26\n",
              "5  2012       10000       28\n",
              "6  2016       46000       29\n",
              "7  2014       31000       24\n",
              "8  2018       15000       21"
            ]
          },
          "execution_count": 146,
          "metadata": {},
          "output_type": "execute_result"
        }
      ],
      "source": [
        "l=[0,1,2,3,4,5,6,7,8]\n",
        "data.reindex(l)"
      ]
    },
    {
      "cell_type": "code",
      "execution_count": null,
      "id": "79e4cc45",
      "metadata": {
        "id": "79e4cc45",
        "outputId": "b42c28dd-3d7e-41d2-bd06-cd4df924e16b"
      },
      "outputs": [
        {
          "data": {
            "text/html": [
              "<div>\n",
              "<style scoped>\n",
              "    .dataframe tbody tr th:only-of-type {\n",
              "        vertical-align: middle;\n",
              "    }\n",
              "\n",
              "    .dataframe tbody tr th {\n",
              "        vertical-align: top;\n",
              "    }\n",
              "\n",
              "    .dataframe thead th {\n",
              "        text-align: right;\n",
              "    }\n",
              "</style>\n",
              "<table border=\"1\" class=\"dataframe\">\n",
              "  <thead>\n",
              "    <tr style=\"text-align: right;\">\n",
              "      <th></th>\n",
              "      <th>Year</th>\n",
              "      <th>Kms Driven</th>\n",
              "      <th>M</th>\n",
              "    </tr>\n",
              "  </thead>\n",
              "  <tbody>\n",
              "    <tr>\n",
              "      <th>0</th>\n",
              "      <td>2012</td>\n",
              "      <td>50000</td>\n",
              "      <td>28</td>\n",
              "    </tr>\n",
              "    <tr>\n",
              "      <th>1</th>\n",
              "      <td>2012</td>\n",
              "      <td>50000</td>\n",
              "      <td>28</td>\n",
              "    </tr>\n",
              "    <tr>\n",
              "      <th>2</th>\n",
              "      <td>2014</td>\n",
              "      <td>30000</td>\n",
              "      <td>27</td>\n",
              "    </tr>\n",
              "    <tr>\n",
              "      <th>3</th>\n",
              "      <td>2011</td>\n",
              "      <td>60000</td>\n",
              "      <td>25</td>\n",
              "    </tr>\n",
              "    <tr>\n",
              "      <th>4</th>\n",
              "      <td>2015</td>\n",
              "      <td>25000</td>\n",
              "      <td>26</td>\n",
              "    </tr>\n",
              "    <tr>\n",
              "      <th>5</th>\n",
              "      <td>2012</td>\n",
              "      <td>10000</td>\n",
              "      <td>28</td>\n",
              "    </tr>\n",
              "    <tr>\n",
              "      <th>6</th>\n",
              "      <td>2016</td>\n",
              "      <td>46000</td>\n",
              "      <td>29</td>\n",
              "    </tr>\n",
              "    <tr>\n",
              "      <th>7</th>\n",
              "      <td>2014</td>\n",
              "      <td>31000</td>\n",
              "      <td>24</td>\n",
              "    </tr>\n",
              "    <tr>\n",
              "      <th>8</th>\n",
              "      <td>2018</td>\n",
              "      <td>15000</td>\n",
              "      <td>21</td>\n",
              "    </tr>\n",
              "    <tr>\n",
              "      <th>9</th>\n",
              "      <td>2019</td>\n",
              "      <td>12000</td>\n",
              "      <td>24</td>\n",
              "    </tr>\n",
              "  </tbody>\n",
              "</table>\n",
              "</div>"
            ],
            "text/plain": [
              "   Year  Kms Driven   M\n",
              "0  2012       50000  28\n",
              "1  2012       50000  28\n",
              "2  2014       30000  27\n",
              "3  2011       60000  25\n",
              "4  2015       25000  26\n",
              "5  2012       10000  28\n",
              "6  2016       46000  29\n",
              "7  2014       31000  24\n",
              "8  2018       15000  21\n",
              "9  2019       12000  24"
            ]
          },
          "execution_count": 147,
          "metadata": {},
          "output_type": "execute_result"
        }
      ],
      "source": [
        "data.rename(columns={\"Mileage\":\"M\"})"
      ]
    },
    {
      "cell_type": "code",
      "execution_count": null,
      "id": "bbed2bb9",
      "metadata": {
        "id": "bbed2bb9"
      },
      "outputs": [],
      "source": [
        "df1=pd.read_csv(r\"C:\\Users\\Chetna\\Desktop\\Python velocity\\weather_data.csv\")"
      ]
    },
    {
      "cell_type": "code",
      "execution_count": null,
      "id": "edd7c4bf",
      "metadata": {
        "id": "edd7c4bf",
        "outputId": "951e68ab-6774-4969-905d-66ab9ff8f91f"
      },
      "outputs": [
        {
          "data": {
            "text/html": [
              "<div>\n",
              "<style scoped>\n",
              "    .dataframe tbody tr th:only-of-type {\n",
              "        vertical-align: middle;\n",
              "    }\n",
              "\n",
              "    .dataframe tbody tr th {\n",
              "        vertical-align: top;\n",
              "    }\n",
              "\n",
              "    .dataframe thead th {\n",
              "        text-align: right;\n",
              "    }\n",
              "</style>\n",
              "<table border=\"1\" class=\"dataframe\">\n",
              "  <thead>\n",
              "    <tr style=\"text-align: right;\">\n",
              "      <th></th>\n",
              "      <th>day</th>\n",
              "      <th>temperature</th>\n",
              "      <th>windspeed</th>\n",
              "      <th>event</th>\n",
              "    </tr>\n",
              "  </thead>\n",
              "  <tbody>\n",
              "    <tr>\n",
              "      <th>0</th>\n",
              "      <td>1/1/2017</td>\n",
              "      <td>32.0</td>\n",
              "      <td>6.0</td>\n",
              "      <td>Rain</td>\n",
              "    </tr>\n",
              "    <tr>\n",
              "      <th>1</th>\n",
              "      <td>1/4/2017</td>\n",
              "      <td>NaN</td>\n",
              "      <td>9.0</td>\n",
              "      <td>Sunny</td>\n",
              "    </tr>\n",
              "    <tr>\n",
              "      <th>2</th>\n",
              "      <td>1/5/2017</td>\n",
              "      <td>28.0</td>\n",
              "      <td>NaN</td>\n",
              "      <td>Snow</td>\n",
              "    </tr>\n",
              "    <tr>\n",
              "      <th>3</th>\n",
              "      <td>1/6/2017</td>\n",
              "      <td>NaN</td>\n",
              "      <td>7.0</td>\n",
              "      <td>NaN</td>\n",
              "    </tr>\n",
              "    <tr>\n",
              "      <th>4</th>\n",
              "      <td>1/7/2017</td>\n",
              "      <td>32.0</td>\n",
              "      <td>NaN</td>\n",
              "      <td>Rain</td>\n",
              "    </tr>\n",
              "    <tr>\n",
              "      <th>5</th>\n",
              "      <td>1/8/2017</td>\n",
              "      <td>NaN</td>\n",
              "      <td>NaN</td>\n",
              "      <td>Sunny</td>\n",
              "    </tr>\n",
              "    <tr>\n",
              "      <th>6</th>\n",
              "      <td>1/9/2017</td>\n",
              "      <td>NaN</td>\n",
              "      <td>NaN</td>\n",
              "      <td>NaN</td>\n",
              "    </tr>\n",
              "    <tr>\n",
              "      <th>7</th>\n",
              "      <td>1/10/2017</td>\n",
              "      <td>34.0</td>\n",
              "      <td>8.0</td>\n",
              "      <td>Cloudy</td>\n",
              "    </tr>\n",
              "    <tr>\n",
              "      <th>8</th>\n",
              "      <td>1/11/2017</td>\n",
              "      <td>40.0</td>\n",
              "      <td>12.0</td>\n",
              "      <td>Sunny</td>\n",
              "    </tr>\n",
              "  </tbody>\n",
              "</table>\n",
              "</div>"
            ],
            "text/plain": [
              "         day  temperature  windspeed   event\n",
              "0   1/1/2017         32.0        6.0    Rain\n",
              "1   1/4/2017          NaN        9.0   Sunny\n",
              "2   1/5/2017         28.0        NaN    Snow\n",
              "3   1/6/2017          NaN        7.0     NaN\n",
              "4   1/7/2017         32.0        NaN    Rain\n",
              "5   1/8/2017          NaN        NaN   Sunny\n",
              "6   1/9/2017          NaN        NaN     NaN\n",
              "7  1/10/2017         34.0        8.0  Cloudy\n",
              "8  1/11/2017         40.0       12.0   Sunny"
            ]
          },
          "execution_count": 149,
          "metadata": {},
          "output_type": "execute_result"
        }
      ],
      "source": [
        "df1"
      ]
    },
    {
      "cell_type": "code",
      "execution_count": null,
      "id": "d0fa8cdf",
      "metadata": {
        "id": "d0fa8cdf",
        "outputId": "df805c10-c04f-477e-8d5f-e2836edd0f9b"
      },
      "outputs": [
        {
          "data": {
            "text/html": [
              "<div>\n",
              "<style scoped>\n",
              "    .dataframe tbody tr th:only-of-type {\n",
              "        vertical-align: middle;\n",
              "    }\n",
              "\n",
              "    .dataframe tbody tr th {\n",
              "        vertical-align: top;\n",
              "    }\n",
              "\n",
              "    .dataframe thead th {\n",
              "        text-align: right;\n",
              "    }\n",
              "</style>\n",
              "<table border=\"1\" class=\"dataframe\">\n",
              "  <thead>\n",
              "    <tr style=\"text-align: right;\">\n",
              "      <th></th>\n",
              "      <th>day</th>\n",
              "      <th>windspeed</th>\n",
              "      <th>event</th>\n",
              "    </tr>\n",
              "  </thead>\n",
              "  <tbody>\n",
              "    <tr>\n",
              "      <th>0</th>\n",
              "      <td>1/1/2017</td>\n",
              "      <td>6.0</td>\n",
              "      <td>Rain</td>\n",
              "    </tr>\n",
              "    <tr>\n",
              "      <th>1</th>\n",
              "      <td>1/4/2017</td>\n",
              "      <td>9.0</td>\n",
              "      <td>Sunny</td>\n",
              "    </tr>\n",
              "    <tr>\n",
              "      <th>2</th>\n",
              "      <td>1/5/2017</td>\n",
              "      <td>NaN</td>\n",
              "      <td>Snow</td>\n",
              "    </tr>\n",
              "    <tr>\n",
              "      <th>3</th>\n",
              "      <td>1/6/2017</td>\n",
              "      <td>7.0</td>\n",
              "      <td>NaN</td>\n",
              "    </tr>\n",
              "    <tr>\n",
              "      <th>4</th>\n",
              "      <td>1/7/2017</td>\n",
              "      <td>NaN</td>\n",
              "      <td>Rain</td>\n",
              "    </tr>\n",
              "    <tr>\n",
              "      <th>5</th>\n",
              "      <td>1/8/2017</td>\n",
              "      <td>NaN</td>\n",
              "      <td>Sunny</td>\n",
              "    </tr>\n",
              "    <tr>\n",
              "      <th>6</th>\n",
              "      <td>1/9/2017</td>\n",
              "      <td>NaN</td>\n",
              "      <td>NaN</td>\n",
              "    </tr>\n",
              "    <tr>\n",
              "      <th>7</th>\n",
              "      <td>1/10/2017</td>\n",
              "      <td>8.0</td>\n",
              "      <td>Cloudy</td>\n",
              "    </tr>\n",
              "    <tr>\n",
              "      <th>8</th>\n",
              "      <td>1/11/2017</td>\n",
              "      <td>12.0</td>\n",
              "      <td>Sunny</td>\n",
              "    </tr>\n",
              "  </tbody>\n",
              "</table>\n",
              "</div>"
            ],
            "text/plain": [
              "         day  windspeed   event\n",
              "0   1/1/2017        6.0    Rain\n",
              "1   1/4/2017        9.0   Sunny\n",
              "2   1/5/2017        NaN    Snow\n",
              "3   1/6/2017        7.0     NaN\n",
              "4   1/7/2017        NaN    Rain\n",
              "5   1/8/2017        NaN   Sunny\n",
              "6   1/9/2017        NaN     NaN\n",
              "7  1/10/2017        8.0  Cloudy\n",
              "8  1/11/2017       12.0   Sunny"
            ]
          },
          "execution_count": 150,
          "metadata": {},
          "output_type": "execute_result"
        }
      ],
      "source": [
        "df1.drop(\"temperature\",axis=1)   # directly delete column since it has missing data"
      ]
    },
    {
      "cell_type": "code",
      "execution_count": null,
      "id": "aeee3cfd",
      "metadata": {
        "id": "aeee3cfd",
        "outputId": "a9e3ce41-11cf-4e01-f33e-8f0577589435"
      },
      "outputs": [
        {
          "name": "stdout",
          "output_type": "stream",
          "text": [
            "<class 'pandas.core.frame.DataFrame'>\n",
            "RangeIndex: 9 entries, 0 to 8\n",
            "Data columns (total 4 columns):\n",
            " #   Column       Non-Null Count  Dtype  \n",
            "---  ------       --------------  -----  \n",
            " 0   day          9 non-null      object \n",
            " 1   temperature  5 non-null      float64\n",
            " 2   windspeed    5 non-null      float64\n",
            " 3   event        7 non-null      object \n",
            "dtypes: float64(2), object(2)\n",
            "memory usage: 416.0+ bytes\n"
          ]
        }
      ],
      "source": [
        "df1.info()"
      ]
    },
    {
      "cell_type": "code",
      "execution_count": null,
      "id": "35cdc3b8",
      "metadata": {
        "id": "35cdc3b8",
        "outputId": "e72473cf-6949-49ee-9b37-eecff8674f0b"
      },
      "outputs": [
        {
          "data": {
            "text/html": [
              "<div>\n",
              "<style scoped>\n",
              "    .dataframe tbody tr th:only-of-type {\n",
              "        vertical-align: middle;\n",
              "    }\n",
              "\n",
              "    .dataframe tbody tr th {\n",
              "        vertical-align: top;\n",
              "    }\n",
              "\n",
              "    .dataframe thead th {\n",
              "        text-align: right;\n",
              "    }\n",
              "</style>\n",
              "<table border=\"1\" class=\"dataframe\">\n",
              "  <thead>\n",
              "    <tr style=\"text-align: right;\">\n",
              "      <th></th>\n",
              "      <th>day</th>\n",
              "      <th>temperature</th>\n",
              "      <th>windspeed</th>\n",
              "      <th>event</th>\n",
              "    </tr>\n",
              "  </thead>\n",
              "  <tbody>\n",
              "    <tr>\n",
              "      <th>0</th>\n",
              "      <td>1/1/2017</td>\n",
              "      <td>32.0</td>\n",
              "      <td>6.0</td>\n",
              "      <td>Rain</td>\n",
              "    </tr>\n",
              "    <tr>\n",
              "      <th>7</th>\n",
              "      <td>1/10/2017</td>\n",
              "      <td>34.0</td>\n",
              "      <td>8.0</td>\n",
              "      <td>Cloudy</td>\n",
              "    </tr>\n",
              "    <tr>\n",
              "      <th>8</th>\n",
              "      <td>1/11/2017</td>\n",
              "      <td>40.0</td>\n",
              "      <td>12.0</td>\n",
              "      <td>Sunny</td>\n",
              "    </tr>\n",
              "  </tbody>\n",
              "</table>\n",
              "</div>"
            ],
            "text/plain": [
              "         day  temperature  windspeed   event\n",
              "0   1/1/2017         32.0        6.0    Rain\n",
              "7  1/10/2017         34.0        8.0  Cloudy\n",
              "8  1/11/2017         40.0       12.0   Sunny"
            ]
          },
          "execution_count": 152,
          "metadata": {},
          "output_type": "execute_result"
        }
      ],
      "source": [
        "#drop rows with missing values\n",
        "df1.dropna(how=\"any\")"
      ]
    },
    {
      "cell_type": "code",
      "execution_count": null,
      "id": "6e3adccb",
      "metadata": {
        "id": "6e3adccb",
        "outputId": "4f0ce066-a777-40e9-c29a-e58098963441"
      },
      "outputs": [
        {
          "data": {
            "text/html": [
              "<div>\n",
              "<style scoped>\n",
              "    .dataframe tbody tr th:only-of-type {\n",
              "        vertical-align: middle;\n",
              "    }\n",
              "\n",
              "    .dataframe tbody tr th {\n",
              "        vertical-align: top;\n",
              "    }\n",
              "\n",
              "    .dataframe thead th {\n",
              "        text-align: right;\n",
              "    }\n",
              "</style>\n",
              "<table border=\"1\" class=\"dataframe\">\n",
              "  <thead>\n",
              "    <tr style=\"text-align: right;\">\n",
              "      <th></th>\n",
              "      <th>day</th>\n",
              "      <th>temperature</th>\n",
              "      <th>windspeed</th>\n",
              "      <th>event</th>\n",
              "    </tr>\n",
              "  </thead>\n",
              "  <tbody>\n",
              "    <tr>\n",
              "      <th>0</th>\n",
              "      <td>1/1/2017</td>\n",
              "      <td>32.0</td>\n",
              "      <td>6.0</td>\n",
              "      <td>Rain</td>\n",
              "    </tr>\n",
              "    <tr>\n",
              "      <th>1</th>\n",
              "      <td>1/4/2017</td>\n",
              "      <td>NaN</td>\n",
              "      <td>9.0</td>\n",
              "      <td>Sunny</td>\n",
              "    </tr>\n",
              "    <tr>\n",
              "      <th>2</th>\n",
              "      <td>1/5/2017</td>\n",
              "      <td>28.0</td>\n",
              "      <td>NaN</td>\n",
              "      <td>Snow</td>\n",
              "    </tr>\n",
              "    <tr>\n",
              "      <th>3</th>\n",
              "      <td>1/6/2017</td>\n",
              "      <td>NaN</td>\n",
              "      <td>7.0</td>\n",
              "      <td>NaN</td>\n",
              "    </tr>\n",
              "    <tr>\n",
              "      <th>4</th>\n",
              "      <td>1/7/2017</td>\n",
              "      <td>32.0</td>\n",
              "      <td>NaN</td>\n",
              "      <td>Rain</td>\n",
              "    </tr>\n",
              "    <tr>\n",
              "      <th>5</th>\n",
              "      <td>1/8/2017</td>\n",
              "      <td>NaN</td>\n",
              "      <td>NaN</td>\n",
              "      <td>Sunny</td>\n",
              "    </tr>\n",
              "    <tr>\n",
              "      <th>6</th>\n",
              "      <td>1/9/2017</td>\n",
              "      <td>NaN</td>\n",
              "      <td>NaN</td>\n",
              "      <td>NaN</td>\n",
              "    </tr>\n",
              "    <tr>\n",
              "      <th>7</th>\n",
              "      <td>1/10/2017</td>\n",
              "      <td>34.0</td>\n",
              "      <td>8.0</td>\n",
              "      <td>Cloudy</td>\n",
              "    </tr>\n",
              "    <tr>\n",
              "      <th>8</th>\n",
              "      <td>1/11/2017</td>\n",
              "      <td>40.0</td>\n",
              "      <td>12.0</td>\n",
              "      <td>Sunny</td>\n",
              "    </tr>\n",
              "  </tbody>\n",
              "</table>\n",
              "</div>"
            ],
            "text/plain": [
              "         day  temperature  windspeed   event\n",
              "0   1/1/2017         32.0        6.0    Rain\n",
              "1   1/4/2017          NaN        9.0   Sunny\n",
              "2   1/5/2017         28.0        NaN    Snow\n",
              "3   1/6/2017          NaN        7.0     NaN\n",
              "4   1/7/2017         32.0        NaN    Rain\n",
              "5   1/8/2017          NaN        NaN   Sunny\n",
              "6   1/9/2017          NaN        NaN     NaN\n",
              "7  1/10/2017         34.0        8.0  Cloudy\n",
              "8  1/11/2017         40.0       12.0   Sunny"
            ]
          },
          "execution_count": 154,
          "metadata": {},
          "output_type": "execute_result"
        }
      ],
      "source": [
        "df1.dropna(how=\"all\")"
      ]
    },
    {
      "cell_type": "code",
      "execution_count": null,
      "id": "4beeddc6",
      "metadata": {
        "id": "4beeddc6",
        "outputId": "1be7ddcb-03cb-40ef-b27b-9d97a8090c26"
      },
      "outputs": [
        {
          "data": {
            "text/html": [
              "<div>\n",
              "<style scoped>\n",
              "    .dataframe tbody tr th:only-of-type {\n",
              "        vertical-align: middle;\n",
              "    }\n",
              "\n",
              "    .dataframe tbody tr th {\n",
              "        vertical-align: top;\n",
              "    }\n",
              "\n",
              "    .dataframe thead th {\n",
              "        text-align: right;\n",
              "    }\n",
              "</style>\n",
              "<table border=\"1\" class=\"dataframe\">\n",
              "  <thead>\n",
              "    <tr style=\"text-align: right;\">\n",
              "      <th></th>\n",
              "      <th>day</th>\n",
              "      <th>temperature</th>\n",
              "      <th>windspeed</th>\n",
              "      <th>event</th>\n",
              "    </tr>\n",
              "  </thead>\n",
              "  <tbody>\n",
              "    <tr>\n",
              "      <th>0</th>\n",
              "      <td>1/1/2017</td>\n",
              "      <td>32.0</td>\n",
              "      <td>6.0</td>\n",
              "      <td>Rain</td>\n",
              "    </tr>\n",
              "    <tr>\n",
              "      <th>1</th>\n",
              "      <td>1/4/2017</td>\n",
              "      <td>0.0</td>\n",
              "      <td>9.0</td>\n",
              "      <td>Sunny</td>\n",
              "    </tr>\n",
              "    <tr>\n",
              "      <th>2</th>\n",
              "      <td>1/5/2017</td>\n",
              "      <td>28.0</td>\n",
              "      <td>0.0</td>\n",
              "      <td>Snow</td>\n",
              "    </tr>\n",
              "    <tr>\n",
              "      <th>3</th>\n",
              "      <td>1/6/2017</td>\n",
              "      <td>0.0</td>\n",
              "      <td>7.0</td>\n",
              "      <td>0</td>\n",
              "    </tr>\n",
              "    <tr>\n",
              "      <th>4</th>\n",
              "      <td>1/7/2017</td>\n",
              "      <td>32.0</td>\n",
              "      <td>0.0</td>\n",
              "      <td>Rain</td>\n",
              "    </tr>\n",
              "    <tr>\n",
              "      <th>5</th>\n",
              "      <td>1/8/2017</td>\n",
              "      <td>0.0</td>\n",
              "      <td>0.0</td>\n",
              "      <td>Sunny</td>\n",
              "    </tr>\n",
              "    <tr>\n",
              "      <th>6</th>\n",
              "      <td>1/9/2017</td>\n",
              "      <td>0.0</td>\n",
              "      <td>0.0</td>\n",
              "      <td>0</td>\n",
              "    </tr>\n",
              "    <tr>\n",
              "      <th>7</th>\n",
              "      <td>1/10/2017</td>\n",
              "      <td>34.0</td>\n",
              "      <td>8.0</td>\n",
              "      <td>Cloudy</td>\n",
              "    </tr>\n",
              "    <tr>\n",
              "      <th>8</th>\n",
              "      <td>1/11/2017</td>\n",
              "      <td>40.0</td>\n",
              "      <td>12.0</td>\n",
              "      <td>Sunny</td>\n",
              "    </tr>\n",
              "  </tbody>\n",
              "</table>\n",
              "</div>"
            ],
            "text/plain": [
              "         day  temperature  windspeed   event\n",
              "0   1/1/2017         32.0        6.0    Rain\n",
              "1   1/4/2017          0.0        9.0   Sunny\n",
              "2   1/5/2017         28.0        0.0    Snow\n",
              "3   1/6/2017          0.0        7.0       0\n",
              "4   1/7/2017         32.0        0.0    Rain\n",
              "5   1/8/2017          0.0        0.0   Sunny\n",
              "6   1/9/2017          0.0        0.0       0\n",
              "7  1/10/2017         34.0        8.0  Cloudy\n",
              "8  1/11/2017         40.0       12.0   Sunny"
            ]
          },
          "execution_count": 155,
          "metadata": {},
          "output_type": "execute_result"
        }
      ],
      "source": [
        "df1.fillna(0)"
      ]
    },
    {
      "cell_type": "code",
      "execution_count": null,
      "id": "06b8e52c",
      "metadata": {
        "id": "06b8e52c",
        "outputId": "c503b46a-60e4-4c4a-a008-3a2d59a72fd2"
      },
      "outputs": [
        {
          "data": {
            "text/html": [
              "<div>\n",
              "<style scoped>\n",
              "    .dataframe tbody tr th:only-of-type {\n",
              "        vertical-align: middle;\n",
              "    }\n",
              "\n",
              "    .dataframe tbody tr th {\n",
              "        vertical-align: top;\n",
              "    }\n",
              "\n",
              "    .dataframe thead th {\n",
              "        text-align: right;\n",
              "    }\n",
              "</style>\n",
              "<table border=\"1\" class=\"dataframe\">\n",
              "  <thead>\n",
              "    <tr style=\"text-align: right;\">\n",
              "      <th></th>\n",
              "      <th>day</th>\n",
              "      <th>temperature</th>\n",
              "      <th>windspeed</th>\n",
              "      <th>event</th>\n",
              "    </tr>\n",
              "  </thead>\n",
              "  <tbody>\n",
              "    <tr>\n",
              "      <th>0</th>\n",
              "      <td>1/1/2017</td>\n",
              "      <td>32.0</td>\n",
              "      <td>6.0</td>\n",
              "      <td>Rain</td>\n",
              "    </tr>\n",
              "    <tr>\n",
              "      <th>1</th>\n",
              "      <td>1/4/2017</td>\n",
              "      <td>nop</td>\n",
              "      <td>9.0</td>\n",
              "      <td>Sunny</td>\n",
              "    </tr>\n",
              "    <tr>\n",
              "      <th>2</th>\n",
              "      <td>1/5/2017</td>\n",
              "      <td>28.0</td>\n",
              "      <td>nop</td>\n",
              "      <td>Snow</td>\n",
              "    </tr>\n",
              "    <tr>\n",
              "      <th>3</th>\n",
              "      <td>1/6/2017</td>\n",
              "      <td>nop</td>\n",
              "      <td>7.0</td>\n",
              "      <td>nop</td>\n",
              "    </tr>\n",
              "    <tr>\n",
              "      <th>4</th>\n",
              "      <td>1/7/2017</td>\n",
              "      <td>32.0</td>\n",
              "      <td>nop</td>\n",
              "      <td>Rain</td>\n",
              "    </tr>\n",
              "    <tr>\n",
              "      <th>5</th>\n",
              "      <td>1/8/2017</td>\n",
              "      <td>nop</td>\n",
              "      <td>nop</td>\n",
              "      <td>Sunny</td>\n",
              "    </tr>\n",
              "    <tr>\n",
              "      <th>6</th>\n",
              "      <td>1/9/2017</td>\n",
              "      <td>nop</td>\n",
              "      <td>nop</td>\n",
              "      <td>nop</td>\n",
              "    </tr>\n",
              "    <tr>\n",
              "      <th>7</th>\n",
              "      <td>1/10/2017</td>\n",
              "      <td>34.0</td>\n",
              "      <td>8.0</td>\n",
              "      <td>Cloudy</td>\n",
              "    </tr>\n",
              "    <tr>\n",
              "      <th>8</th>\n",
              "      <td>1/11/2017</td>\n",
              "      <td>40.0</td>\n",
              "      <td>12.0</td>\n",
              "      <td>Sunny</td>\n",
              "    </tr>\n",
              "  </tbody>\n",
              "</table>\n",
              "</div>"
            ],
            "text/plain": [
              "         day temperature windspeed   event\n",
              "0   1/1/2017        32.0       6.0    Rain\n",
              "1   1/4/2017         nop       9.0   Sunny\n",
              "2   1/5/2017        28.0       nop    Snow\n",
              "3   1/6/2017         nop       7.0     nop\n",
              "4   1/7/2017        32.0       nop    Rain\n",
              "5   1/8/2017         nop       nop   Sunny\n",
              "6   1/9/2017         nop       nop     nop\n",
              "7  1/10/2017        34.0       8.0  Cloudy\n",
              "8  1/11/2017        40.0      12.0   Sunny"
            ]
          },
          "execution_count": 156,
          "metadata": {},
          "output_type": "execute_result"
        }
      ],
      "source": [
        "df1.fillna(\"nop\")"
      ]
    },
    {
      "cell_type": "code",
      "execution_count": null,
      "id": "c4f5e65e",
      "metadata": {
        "id": "c4f5e65e",
        "outputId": "513b9e89-4567-4a5c-d60f-f1b374ce742b"
      },
      "outputs": [
        {
          "data": {
            "text/html": [
              "<div>\n",
              "<style scoped>\n",
              "    .dataframe tbody tr th:only-of-type {\n",
              "        vertical-align: middle;\n",
              "    }\n",
              "\n",
              "    .dataframe tbody tr th {\n",
              "        vertical-align: top;\n",
              "    }\n",
              "\n",
              "    .dataframe thead th {\n",
              "        text-align: right;\n",
              "    }\n",
              "</style>\n",
              "<table border=\"1\" class=\"dataframe\">\n",
              "  <thead>\n",
              "    <tr style=\"text-align: right;\">\n",
              "      <th></th>\n",
              "      <th>day</th>\n",
              "      <th>temperature</th>\n",
              "      <th>windspeed</th>\n",
              "      <th>event</th>\n",
              "    </tr>\n",
              "  </thead>\n",
              "  <tbody>\n",
              "    <tr>\n",
              "      <th>0</th>\n",
              "      <td>1/1/2017</td>\n",
              "      <td>32.0</td>\n",
              "      <td>6.0</td>\n",
              "      <td>Rain</td>\n",
              "    </tr>\n",
              "    <tr>\n",
              "      <th>1</th>\n",
              "      <td>1/4/2017</td>\n",
              "      <td>33.2</td>\n",
              "      <td>9.0</td>\n",
              "      <td>Sunny</td>\n",
              "    </tr>\n",
              "    <tr>\n",
              "      <th>2</th>\n",
              "      <td>1/5/2017</td>\n",
              "      <td>28.0</td>\n",
              "      <td>33.2</td>\n",
              "      <td>Snow</td>\n",
              "    </tr>\n",
              "    <tr>\n",
              "      <th>3</th>\n",
              "      <td>1/6/2017</td>\n",
              "      <td>33.2</td>\n",
              "      <td>7.0</td>\n",
              "      <td>33.2</td>\n",
              "    </tr>\n",
              "    <tr>\n",
              "      <th>4</th>\n",
              "      <td>1/7/2017</td>\n",
              "      <td>32.0</td>\n",
              "      <td>33.2</td>\n",
              "      <td>Rain</td>\n",
              "    </tr>\n",
              "    <tr>\n",
              "      <th>5</th>\n",
              "      <td>1/8/2017</td>\n",
              "      <td>33.2</td>\n",
              "      <td>33.2</td>\n",
              "      <td>Sunny</td>\n",
              "    </tr>\n",
              "    <tr>\n",
              "      <th>6</th>\n",
              "      <td>1/9/2017</td>\n",
              "      <td>33.2</td>\n",
              "      <td>33.2</td>\n",
              "      <td>33.2</td>\n",
              "    </tr>\n",
              "    <tr>\n",
              "      <th>7</th>\n",
              "      <td>1/10/2017</td>\n",
              "      <td>34.0</td>\n",
              "      <td>8.0</td>\n",
              "      <td>Cloudy</td>\n",
              "    </tr>\n",
              "    <tr>\n",
              "      <th>8</th>\n",
              "      <td>1/11/2017</td>\n",
              "      <td>40.0</td>\n",
              "      <td>12.0</td>\n",
              "      <td>Sunny</td>\n",
              "    </tr>\n",
              "  </tbody>\n",
              "</table>\n",
              "</div>"
            ],
            "text/plain": [
              "         day  temperature  windspeed   event\n",
              "0   1/1/2017         32.0        6.0    Rain\n",
              "1   1/4/2017         33.2        9.0   Sunny\n",
              "2   1/5/2017         28.0       33.2    Snow\n",
              "3   1/6/2017         33.2        7.0    33.2\n",
              "4   1/7/2017         32.0       33.2    Rain\n",
              "5   1/8/2017         33.2       33.2   Sunny\n",
              "6   1/9/2017         33.2       33.2    33.2\n",
              "7  1/10/2017         34.0        8.0  Cloudy\n",
              "8  1/11/2017         40.0       12.0   Sunny"
            ]
          },
          "execution_count": 157,
          "metadata": {},
          "output_type": "execute_result"
        }
      ],
      "source": [
        "df1.fillna(df1['temperature'].mean())"
      ]
    },
    {
      "cell_type": "code",
      "execution_count": null,
      "id": "816eb2bb",
      "metadata": {
        "id": "816eb2bb",
        "outputId": "a3e2a978-c37b-4c41-c36a-7ff4fc9c5f55"
      },
      "outputs": [
        {
          "data": {
            "text/plain": [
              "0    32.0\n",
              "1    33.2\n",
              "2    28.0\n",
              "3    33.2\n",
              "4    32.0\n",
              "5    33.2\n",
              "6    33.2\n",
              "7    34.0\n",
              "8    40.0\n",
              "Name: temperature, dtype: float64"
            ]
          },
          "execution_count": 161,
          "metadata": {},
          "output_type": "execute_result"
        }
      ],
      "source": [
        "df1['temperature'].fillna(df1['temperature'].mean())"
      ]
    },
    {
      "cell_type": "code",
      "execution_count": null,
      "id": "1a96922e",
      "metadata": {
        "id": "1a96922e",
        "outputId": "0ebd845c-5c72-473e-9e52-99ebd4aa4b78"
      },
      "outputs": [
        {
          "data": {
            "text/html": [
              "<div>\n",
              "<style scoped>\n",
              "    .dataframe tbody tr th:only-of-type {\n",
              "        vertical-align: middle;\n",
              "    }\n",
              "\n",
              "    .dataframe tbody tr th {\n",
              "        vertical-align: top;\n",
              "    }\n",
              "\n",
              "    .dataframe thead th {\n",
              "        text-align: right;\n",
              "    }\n",
              "</style>\n",
              "<table border=\"1\" class=\"dataframe\">\n",
              "  <thead>\n",
              "    <tr style=\"text-align: right;\">\n",
              "      <th></th>\n",
              "      <th>day</th>\n",
              "      <th>temperature</th>\n",
              "      <th>windspeed</th>\n",
              "      <th>event</th>\n",
              "    </tr>\n",
              "  </thead>\n",
              "  <tbody>\n",
              "    <tr>\n",
              "      <th>0</th>\n",
              "      <td>1/1/2017</td>\n",
              "      <td>32.0</td>\n",
              "      <td>6.0</td>\n",
              "      <td>Rain</td>\n",
              "    </tr>\n",
              "    <tr>\n",
              "      <th>1</th>\n",
              "      <td>1/4/2017</td>\n",
              "      <td>0.0</td>\n",
              "      <td>9.0</td>\n",
              "      <td>Sunny</td>\n",
              "    </tr>\n",
              "    <tr>\n",
              "      <th>2</th>\n",
              "      <td>1/5/2017</td>\n",
              "      <td>28.0</td>\n",
              "      <td>1.0</td>\n",
              "      <td>Snow</td>\n",
              "    </tr>\n",
              "    <tr>\n",
              "      <th>3</th>\n",
              "      <td>1/6/2017</td>\n",
              "      <td>0.0</td>\n",
              "      <td>7.0</td>\n",
              "      <td>pop</td>\n",
              "    </tr>\n",
              "    <tr>\n",
              "      <th>4</th>\n",
              "      <td>1/7/2017</td>\n",
              "      <td>32.0</td>\n",
              "      <td>1.0</td>\n",
              "      <td>Rain</td>\n",
              "    </tr>\n",
              "    <tr>\n",
              "      <th>5</th>\n",
              "      <td>1/8/2017</td>\n",
              "      <td>0.0</td>\n",
              "      <td>1.0</td>\n",
              "      <td>Sunny</td>\n",
              "    </tr>\n",
              "    <tr>\n",
              "      <th>6</th>\n",
              "      <td>1/9/2017</td>\n",
              "      <td>0.0</td>\n",
              "      <td>1.0</td>\n",
              "      <td>pop</td>\n",
              "    </tr>\n",
              "    <tr>\n",
              "      <th>7</th>\n",
              "      <td>1/10/2017</td>\n",
              "      <td>34.0</td>\n",
              "      <td>8.0</td>\n",
              "      <td>Cloudy</td>\n",
              "    </tr>\n",
              "    <tr>\n",
              "      <th>8</th>\n",
              "      <td>1/11/2017</td>\n",
              "      <td>40.0</td>\n",
              "      <td>12.0</td>\n",
              "      <td>Sunny</td>\n",
              "    </tr>\n",
              "  </tbody>\n",
              "</table>\n",
              "</div>"
            ],
            "text/plain": [
              "         day  temperature  windspeed   event\n",
              "0   1/1/2017         32.0        6.0    Rain\n",
              "1   1/4/2017          0.0        9.0   Sunny\n",
              "2   1/5/2017         28.0        1.0    Snow\n",
              "3   1/6/2017          0.0        7.0     pop\n",
              "4   1/7/2017         32.0        1.0    Rain\n",
              "5   1/8/2017          0.0        1.0   Sunny\n",
              "6   1/9/2017          0.0        1.0     pop\n",
              "7  1/10/2017         34.0        8.0  Cloudy\n",
              "8  1/11/2017         40.0       12.0   Sunny"
            ]
          },
          "execution_count": 158,
          "metadata": {},
          "output_type": "execute_result"
        }
      ],
      "source": [
        "df1.fillna({'temperature':0,'windspeed':1,'event':'pop'})"
      ]
    },
    {
      "cell_type": "code",
      "execution_count": null,
      "id": "5ab8299b",
      "metadata": {
        "id": "5ab8299b",
        "outputId": "71c44f67-6482-4a82-ef04-8f863651d293"
      },
      "outputs": [
        {
          "data": {
            "text/html": [
              "<div>\n",
              "<style scoped>\n",
              "    .dataframe tbody tr th:only-of-type {\n",
              "        vertical-align: middle;\n",
              "    }\n",
              "\n",
              "    .dataframe tbody tr th {\n",
              "        vertical-align: top;\n",
              "    }\n",
              "\n",
              "    .dataframe thead th {\n",
              "        text-align: right;\n",
              "    }\n",
              "</style>\n",
              "<table border=\"1\" class=\"dataframe\">\n",
              "  <thead>\n",
              "    <tr style=\"text-align: right;\">\n",
              "      <th></th>\n",
              "      <th>day</th>\n",
              "      <th>temperature</th>\n",
              "      <th>windspeed</th>\n",
              "      <th>event</th>\n",
              "    </tr>\n",
              "  </thead>\n",
              "  <tbody>\n",
              "    <tr>\n",
              "      <th>0</th>\n",
              "      <td>1/1/2017</td>\n",
              "      <td>32.0</td>\n",
              "      <td>6.0</td>\n",
              "      <td>Rain</td>\n",
              "    </tr>\n",
              "    <tr>\n",
              "      <th>1</th>\n",
              "      <td>1/4/2017</td>\n",
              "      <td>28.0</td>\n",
              "      <td>9.0</td>\n",
              "      <td>Sunny</td>\n",
              "    </tr>\n",
              "    <tr>\n",
              "      <th>2</th>\n",
              "      <td>1/5/2017</td>\n",
              "      <td>28.0</td>\n",
              "      <td>7.0</td>\n",
              "      <td>Snow</td>\n",
              "    </tr>\n",
              "    <tr>\n",
              "      <th>3</th>\n",
              "      <td>1/6/2017</td>\n",
              "      <td>32.0</td>\n",
              "      <td>7.0</td>\n",
              "      <td>Rain</td>\n",
              "    </tr>\n",
              "    <tr>\n",
              "      <th>4</th>\n",
              "      <td>1/7/2017</td>\n",
              "      <td>32.0</td>\n",
              "      <td>8.0</td>\n",
              "      <td>Rain</td>\n",
              "    </tr>\n",
              "    <tr>\n",
              "      <th>5</th>\n",
              "      <td>1/8/2017</td>\n",
              "      <td>34.0</td>\n",
              "      <td>8.0</td>\n",
              "      <td>Sunny</td>\n",
              "    </tr>\n",
              "    <tr>\n",
              "      <th>6</th>\n",
              "      <td>1/9/2017</td>\n",
              "      <td>34.0</td>\n",
              "      <td>8.0</td>\n",
              "      <td>Cloudy</td>\n",
              "    </tr>\n",
              "    <tr>\n",
              "      <th>7</th>\n",
              "      <td>1/10/2017</td>\n",
              "      <td>34.0</td>\n",
              "      <td>8.0</td>\n",
              "      <td>Cloudy</td>\n",
              "    </tr>\n",
              "    <tr>\n",
              "      <th>8</th>\n",
              "      <td>1/11/2017</td>\n",
              "      <td>40.0</td>\n",
              "      <td>12.0</td>\n",
              "      <td>Sunny</td>\n",
              "    </tr>\n",
              "  </tbody>\n",
              "</table>\n",
              "</div>"
            ],
            "text/plain": [
              "         day  temperature  windspeed   event\n",
              "0   1/1/2017         32.0        6.0    Rain\n",
              "1   1/4/2017         28.0        9.0   Sunny\n",
              "2   1/5/2017         28.0        7.0    Snow\n",
              "3   1/6/2017         32.0        7.0    Rain\n",
              "4   1/7/2017         32.0        8.0    Rain\n",
              "5   1/8/2017         34.0        8.0   Sunny\n",
              "6   1/9/2017         34.0        8.0  Cloudy\n",
              "7  1/10/2017         34.0        8.0  Cloudy\n",
              "8  1/11/2017         40.0       12.0   Sunny"
            ]
          },
          "execution_count": 162,
          "metadata": {},
          "output_type": "execute_result"
        }
      ],
      "source": [
        "df1.fillna(method=\"bfill\")"
      ]
    },
    {
      "cell_type": "code",
      "execution_count": null,
      "id": "2954c440",
      "metadata": {
        "id": "2954c440",
        "outputId": "e61ecc76-880e-498e-e33a-adf27aeae783"
      },
      "outputs": [
        {
          "data": {
            "text/html": [
              "<div>\n",
              "<style scoped>\n",
              "    .dataframe tbody tr th:only-of-type {\n",
              "        vertical-align: middle;\n",
              "    }\n",
              "\n",
              "    .dataframe tbody tr th {\n",
              "        vertical-align: top;\n",
              "    }\n",
              "\n",
              "    .dataframe thead th {\n",
              "        text-align: right;\n",
              "    }\n",
              "</style>\n",
              "<table border=\"1\" class=\"dataframe\">\n",
              "  <thead>\n",
              "    <tr style=\"text-align: right;\">\n",
              "      <th></th>\n",
              "      <th>day</th>\n",
              "      <th>temperature</th>\n",
              "      <th>windspeed</th>\n",
              "      <th>event</th>\n",
              "    </tr>\n",
              "  </thead>\n",
              "  <tbody>\n",
              "    <tr>\n",
              "      <th>0</th>\n",
              "      <td>1/1/2017</td>\n",
              "      <td>32.0</td>\n",
              "      <td>6.0</td>\n",
              "      <td>Rain</td>\n",
              "    </tr>\n",
              "    <tr>\n",
              "      <th>1</th>\n",
              "      <td>1/4/2017</td>\n",
              "      <td>NaN</td>\n",
              "      <td>9.0</td>\n",
              "      <td>Sunny</td>\n",
              "    </tr>\n",
              "    <tr>\n",
              "      <th>2</th>\n",
              "      <td>1/5/2017</td>\n",
              "      <td>28.0</td>\n",
              "      <td>NaN</td>\n",
              "      <td>Snow</td>\n",
              "    </tr>\n",
              "    <tr>\n",
              "      <th>3</th>\n",
              "      <td>1/6/2017</td>\n",
              "      <td>NaN</td>\n",
              "      <td>7.0</td>\n",
              "      <td>NaN</td>\n",
              "    </tr>\n",
              "    <tr>\n",
              "      <th>4</th>\n",
              "      <td>1/7/2017</td>\n",
              "      <td>32.0</td>\n",
              "      <td>NaN</td>\n",
              "      <td>Rain</td>\n",
              "    </tr>\n",
              "    <tr>\n",
              "      <th>5</th>\n",
              "      <td>1/8/2017</td>\n",
              "      <td>NaN</td>\n",
              "      <td>NaN</td>\n",
              "      <td>Sunny</td>\n",
              "    </tr>\n",
              "    <tr>\n",
              "      <th>6</th>\n",
              "      <td>1/9/2017</td>\n",
              "      <td>NaN</td>\n",
              "      <td>NaN</td>\n",
              "      <td>NaN</td>\n",
              "    </tr>\n",
              "    <tr>\n",
              "      <th>7</th>\n",
              "      <td>1/10/2017</td>\n",
              "      <td>34.0</td>\n",
              "      <td>8.0</td>\n",
              "      <td>Cloudy</td>\n",
              "    </tr>\n",
              "    <tr>\n",
              "      <th>8</th>\n",
              "      <td>1/11/2017</td>\n",
              "      <td>40.0</td>\n",
              "      <td>12.0</td>\n",
              "      <td>Sunny</td>\n",
              "    </tr>\n",
              "  </tbody>\n",
              "</table>\n",
              "</div>"
            ],
            "text/plain": [
              "         day  temperature  windspeed   event\n",
              "0   1/1/2017         32.0        6.0    Rain\n",
              "1   1/4/2017          NaN        9.0   Sunny\n",
              "2   1/5/2017         28.0        NaN    Snow\n",
              "3   1/6/2017          NaN        7.0     NaN\n",
              "4   1/7/2017         32.0        NaN    Rain\n",
              "5   1/8/2017          NaN        NaN   Sunny\n",
              "6   1/9/2017          NaN        NaN     NaN\n",
              "7  1/10/2017         34.0        8.0  Cloudy\n",
              "8  1/11/2017         40.0       12.0   Sunny"
            ]
          },
          "execution_count": 163,
          "metadata": {},
          "output_type": "execute_result"
        }
      ],
      "source": [
        "df1"
      ]
    },
    {
      "cell_type": "code",
      "execution_count": null,
      "id": "980e1e53",
      "metadata": {
        "id": "980e1e53",
        "outputId": "d1045572-0961-46bb-890f-abfd557089ca"
      },
      "outputs": [
        {
          "data": {
            "text/html": [
              "<div>\n",
              "<style scoped>\n",
              "    .dataframe tbody tr th:only-of-type {\n",
              "        vertical-align: middle;\n",
              "    }\n",
              "\n",
              "    .dataframe tbody tr th {\n",
              "        vertical-align: top;\n",
              "    }\n",
              "\n",
              "    .dataframe thead th {\n",
              "        text-align: right;\n",
              "    }\n",
              "</style>\n",
              "<table border=\"1\" class=\"dataframe\">\n",
              "  <thead>\n",
              "    <tr style=\"text-align: right;\">\n",
              "      <th></th>\n",
              "      <th>day</th>\n",
              "      <th>temperature</th>\n",
              "      <th>windspeed</th>\n",
              "      <th>event</th>\n",
              "    </tr>\n",
              "  </thead>\n",
              "  <tbody>\n",
              "    <tr>\n",
              "      <th>0</th>\n",
              "      <td>1/1/2017</td>\n",
              "      <td>32.0</td>\n",
              "      <td>6.0</td>\n",
              "      <td>Rain</td>\n",
              "    </tr>\n",
              "    <tr>\n",
              "      <th>1</th>\n",
              "      <td>1/4/2017</td>\n",
              "      <td>32.0</td>\n",
              "      <td>9.0</td>\n",
              "      <td>Sunny</td>\n",
              "    </tr>\n",
              "    <tr>\n",
              "      <th>2</th>\n",
              "      <td>1/5/2017</td>\n",
              "      <td>28.0</td>\n",
              "      <td>9.0</td>\n",
              "      <td>Snow</td>\n",
              "    </tr>\n",
              "    <tr>\n",
              "      <th>3</th>\n",
              "      <td>1/6/2017</td>\n",
              "      <td>28.0</td>\n",
              "      <td>7.0</td>\n",
              "      <td>Snow</td>\n",
              "    </tr>\n",
              "    <tr>\n",
              "      <th>4</th>\n",
              "      <td>1/7/2017</td>\n",
              "      <td>32.0</td>\n",
              "      <td>7.0</td>\n",
              "      <td>Rain</td>\n",
              "    </tr>\n",
              "    <tr>\n",
              "      <th>5</th>\n",
              "      <td>1/8/2017</td>\n",
              "      <td>32.0</td>\n",
              "      <td>NaN</td>\n",
              "      <td>Sunny</td>\n",
              "    </tr>\n",
              "    <tr>\n",
              "      <th>6</th>\n",
              "      <td>1/9/2017</td>\n",
              "      <td>NaN</td>\n",
              "      <td>NaN</td>\n",
              "      <td>Sunny</td>\n",
              "    </tr>\n",
              "    <tr>\n",
              "      <th>7</th>\n",
              "      <td>1/10/2017</td>\n",
              "      <td>34.0</td>\n",
              "      <td>8.0</td>\n",
              "      <td>Cloudy</td>\n",
              "    </tr>\n",
              "    <tr>\n",
              "      <th>8</th>\n",
              "      <td>1/11/2017</td>\n",
              "      <td>40.0</td>\n",
              "      <td>12.0</td>\n",
              "      <td>Sunny</td>\n",
              "    </tr>\n",
              "  </tbody>\n",
              "</table>\n",
              "</div>"
            ],
            "text/plain": [
              "         day  temperature  windspeed   event\n",
              "0   1/1/2017         32.0        6.0    Rain\n",
              "1   1/4/2017         32.0        9.0   Sunny\n",
              "2   1/5/2017         28.0        9.0    Snow\n",
              "3   1/6/2017         28.0        7.0    Snow\n",
              "4   1/7/2017         32.0        7.0    Rain\n",
              "5   1/8/2017         32.0        NaN   Sunny\n",
              "6   1/9/2017          NaN        NaN   Sunny\n",
              "7  1/10/2017         34.0        8.0  Cloudy\n",
              "8  1/11/2017         40.0       12.0   Sunny"
            ]
          },
          "execution_count": 164,
          "metadata": {},
          "output_type": "execute_result"
        }
      ],
      "source": [
        "df1.fillna(method=\"ffill\",limit=1)"
      ]
    },
    {
      "cell_type": "code",
      "execution_count": null,
      "id": "edd51022",
      "metadata": {
        "id": "edd51022",
        "outputId": "006681b0-e7ca-4121-9d75-ea68130c5a8d"
      },
      "outputs": [
        {
          "data": {
            "text/html": [
              "<div>\n",
              "<style scoped>\n",
              "    .dataframe tbody tr th:only-of-type {\n",
              "        vertical-align: middle;\n",
              "    }\n",
              "\n",
              "    .dataframe tbody tr th {\n",
              "        vertical-align: top;\n",
              "    }\n",
              "\n",
              "    .dataframe thead th {\n",
              "        text-align: right;\n",
              "    }\n",
              "</style>\n",
              "<table border=\"1\" class=\"dataframe\">\n",
              "  <thead>\n",
              "    <tr style=\"text-align: right;\">\n",
              "      <th></th>\n",
              "      <th>score</th>\n",
              "      <th>student</th>\n",
              "    </tr>\n",
              "  </thead>\n",
              "  <tbody>\n",
              "    <tr>\n",
              "      <th>0</th>\n",
              "      <td>exceptional</td>\n",
              "      <td>rob</td>\n",
              "    </tr>\n",
              "    <tr>\n",
              "      <th>1</th>\n",
              "      <td>average</td>\n",
              "      <td>maya</td>\n",
              "    </tr>\n",
              "    <tr>\n",
              "      <th>2</th>\n",
              "      <td>good</td>\n",
              "      <td>parthiv</td>\n",
              "    </tr>\n",
              "    <tr>\n",
              "      <th>3</th>\n",
              "      <td>poor</td>\n",
              "      <td>tom</td>\n",
              "    </tr>\n",
              "    <tr>\n",
              "      <th>4</th>\n",
              "      <td>average</td>\n",
              "      <td>julian</td>\n",
              "    </tr>\n",
              "    <tr>\n",
              "      <th>5</th>\n",
              "      <td>exceptional</td>\n",
              "      <td>erica</td>\n",
              "    </tr>\n",
              "  </tbody>\n",
              "</table>\n",
              "</div>"
            ],
            "text/plain": [
              "         score  student\n",
              "0  exceptional      rob\n",
              "1      average     maya\n",
              "2         good  parthiv\n",
              "3         poor      tom\n",
              "4      average   julian\n",
              "5  exceptional    erica"
            ]
          },
          "execution_count": 165,
          "metadata": {},
          "output_type": "execute_result"
        }
      ],
      "source": [
        "df = pd.DataFrame({\n",
        "    'score': ['exceptional','average', 'good', 'poor', 'average', 'exceptional'],\n",
        "    'student': ['rob', 'maya', 'parthiv', 'tom', 'julian', 'erica']\n",
        "})\n",
        "df"
      ]
    },
    {
      "cell_type": "code",
      "execution_count": null,
      "id": "96a5a83d",
      "metadata": {
        "id": "96a5a83d",
        "outputId": "afe8734c-227a-4d48-a238-bc219d467c7e"
      },
      "outputs": [
        {
          "data": {
            "text/html": [
              "<div>\n",
              "<style scoped>\n",
              "    .dataframe tbody tr th:only-of-type {\n",
              "        vertical-align: middle;\n",
              "    }\n",
              "\n",
              "    .dataframe tbody tr th {\n",
              "        vertical-align: top;\n",
              "    }\n",
              "\n",
              "    .dataframe thead th {\n",
              "        text-align: right;\n",
              "    }\n",
              "</style>\n",
              "<table border=\"1\" class=\"dataframe\">\n",
              "  <thead>\n",
              "    <tr style=\"text-align: right;\">\n",
              "      <th></th>\n",
              "      <th>score</th>\n",
              "      <th>student</th>\n",
              "    </tr>\n",
              "  </thead>\n",
              "  <tbody>\n",
              "    <tr>\n",
              "      <th>0</th>\n",
              "      <td>1</td>\n",
              "      <td>rob</td>\n",
              "    </tr>\n",
              "    <tr>\n",
              "      <th>1</th>\n",
              "      <td>3</td>\n",
              "      <td>maya</td>\n",
              "    </tr>\n",
              "    <tr>\n",
              "      <th>2</th>\n",
              "      <td>2</td>\n",
              "      <td>parthiv</td>\n",
              "    </tr>\n",
              "    <tr>\n",
              "      <th>3</th>\n",
              "      <td>4</td>\n",
              "      <td>tom</td>\n",
              "    </tr>\n",
              "    <tr>\n",
              "      <th>4</th>\n",
              "      <td>3</td>\n",
              "      <td>julian</td>\n",
              "    </tr>\n",
              "    <tr>\n",
              "      <th>5</th>\n",
              "      <td>1</td>\n",
              "      <td>erica</td>\n",
              "    </tr>\n",
              "  </tbody>\n",
              "</table>\n",
              "</div>"
            ],
            "text/plain": [
              "   score  student\n",
              "0      1      rob\n",
              "1      3     maya\n",
              "2      2  parthiv\n",
              "3      4      tom\n",
              "4      3   julian\n",
              "5      1    erica"
            ]
          },
          "execution_count": 166,
          "metadata": {},
          "output_type": "execute_result"
        }
      ],
      "source": [
        "df1=df.replace([\"poor\",\"average\",\"good\",\"exceptional\"],[4,3,2,1])\n",
        "df1"
      ]
    },
    {
      "cell_type": "code",
      "execution_count": null,
      "id": "e0d0d2d2",
      "metadata": {
        "id": "e0d0d2d2"
      },
      "outputs": [],
      "source": []
    }
  ],
  "metadata": {
    "kernelspec": {
      "display_name": "Python 3",
      "language": "python",
      "name": "python3"
    },
    "language_info": {
      "codemirror_mode": {
        "name": "ipython",
        "version": 3
      },
      "file_extension": ".py",
      "mimetype": "text/x-python",
      "name": "python",
      "nbconvert_exporter": "python",
      "pygments_lexer": "ipython3",
      "version": "3.8.8"
    },
    "colab": {
      "provenance": []
    }
  },
  "nbformat": 4,
  "nbformat_minor": 5
}