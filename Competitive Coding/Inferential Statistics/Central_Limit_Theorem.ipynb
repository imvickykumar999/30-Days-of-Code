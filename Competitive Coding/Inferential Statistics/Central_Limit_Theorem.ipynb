{
  "nbformat": 4,
  "nbformat_minor": 0,
  "metadata": {
    "colab": {
      "provenance": []
    },
    "kernelspec": {
      "name": "python3",
      "display_name": "Python 3"
    },
    "language_info": {
      "name": "python"
    }
  },
  "cells": [
    {
      "cell_type": "markdown",
      "source": [
        "# Samples\n",
        "\n",
        "![ss](https://cdn.upgrad.com/UpGrad/temp/687eade2-b688-4d44-b170-ea8460b187e0/Table%201.png)"
      ],
      "metadata": {
        "id": "lssGhG2g8sKm"
      }
    },
    {
      "cell_type": "markdown",
      "source": [
        "Given\n",
        "------\n",
        "\n",
        "For an upcoming government project, you want to find the average height of the students in Class VIII of a given school. Instead of asking each student, suppose you took a few students as your sample and wrote the data down:\n",
        "\n",
        "<br>\n",
        "\n",
        "Roll Number | Height\n",
        "---- | ----\n",
        "8012\t| 121.92 cm\n",
        "8045 |\t133.21 cm\n",
        "8053\t| 141.34 cm\n",
        "8099\t| 126.23 cm\n",
        "8125 |\t175.74 cm\n"
      ],
      "metadata": {
        "id": "_o2IJws3Kzt8"
      }
    },
    {
      "cell_type": "code",
      "source": [
        "rn = {\n",
        "  8012 : 121.92,\n",
        "  8045 : 133.21,\n",
        "  8053 : 141.34,\n",
        "  8099 : 126.23,\n",
        "  8125 : 175.74\n",
        "}\n",
        "\n",
        "rn"
      ],
      "metadata": {
        "colab": {
          "base_uri": "https://localhost:8080/"
        },
        "id": "vdS8Z4_ROQ6d",
        "outputId": "ffa56768-ec64-4f72-f8aa-4c4d9c9bf5f8"
      },
      "execution_count": 1,
      "outputs": [
        {
          "output_type": "execute_result",
          "data": {
            "text/plain": [
              "{8012: 121.92, 8045: 133.21, 8053: 141.34, 8099: 126.23, 8125: 175.74}"
            ]
          },
          "metadata": {},
          "execution_count": 1
        }
      ]
    },
    {
      "cell_type": "markdown",
      "source": [
        "School Kids Sample\n",
        "---------\n",
        "\n",
        "What is the sample size for this sample?\n",
        "\n",
        "    5\n",
        "\n",
        "    40334\n",
        "\n",
        "    698.44\n",
        "\n",
        "    10\n",
        "\n",
        "-------------\n",
        "\n",
        "    5\n",
        "\n",
        "    ✓ Correct\n",
        "    Feedback:\n",
        "\n",
        "In this sample, you have data on 5 students.\n",
        "\n",
        "Hence, the sample size is equal to 5."
      ],
      "metadata": {
        "id": "k89hqXkWLGl7"
      }
    },
    {
      "cell_type": "code",
      "source": [
        "len(rn)"
      ],
      "metadata": {
        "colab": {
          "base_uri": "https://localhost:8080/"
        },
        "id": "_TKEqRllOnUk",
        "outputId": "c348b750-1799-40a3-e46a-d5f05bcf6cdd"
      },
      "execution_count": 2,
      "outputs": [
        {
          "output_type": "execute_result",
          "data": {
            "text/plain": [
              "5"
            ]
          },
          "metadata": {},
          "execution_count": 2
        }
      ]
    },
    {
      "cell_type": "markdown",
      "source": [
        "School Kids Sample\n",
        "------------\n",
        "\n",
        "What is the sample mean (\n",
        "¯\n",
        "X\n",
        ")?\n",
        "\n",
        "    133.21\n",
        "\n",
        "    139.69\n",
        "\n",
        "    146.76\n",
        "\n",
        "    141.34\n",
        "\n",
        "--------\n",
        "\n",
        "    139.69\n",
        "\n",
        "    ✓ Correct\n",
        "    Feedback:\n",
        "\n",
        "The sample mean (\n",
        "¯\n",
        "X\n",
        ")\n",
        "\n",
        "= (121.92 + 133.21 + 141.34 + 126.23 + 175.74) / 5\n",
        "\n",
        "    = 139.69"
      ],
      "metadata": {
        "id": "4RJIgEU5NoHY"
      }
    },
    {
      "cell_type": "code",
      "execution_count": 3,
      "metadata": {
        "id": "GP4keomr18Ey",
        "colab": {
          "base_uri": "https://localhost:8080/"
        },
        "outputId": "d52a6ff1-dec4-4567-b37b-ba4f717325f0"
      },
      "outputs": [
        {
          "output_type": "execute_result",
          "data": {
            "text/plain": [
              "139.69"
            ]
          },
          "metadata": {},
          "execution_count": 3
        }
      ],
      "source": [
        "rnv = rn.values()\n",
        "avg = sum(rnv) / len(rnv)\n",
        "\n",
        "round(avg, 2)"
      ]
    },
    {
      "cell_type": "markdown",
      "source": [
        "School Kids Sample\n",
        "-------\n",
        "\n",
        "What will be the sample's standard deviation (S)?\n",
        "\n",
        "    22.84\n",
        "\n",
        "    23.67\n",
        "\n",
        "    19.19\n",
        "\n",
        "    21.45\n",
        "\n",
        "--------\n",
        "\n",
        "    21.45\n",
        "\n",
        "    ✓ Correct\n",
        "    Feedback:\n",
        "\n",
        "We found in the previous question that the sample mean (\n",
        "¯\n",
        "X\n",
        ") = 139.69.\n",
        "\n",
        "Now, we can find\n",
        "∑\n",
        "(\n",
        "X\n",
        "i\n",
        "−\n",
        "¯\n",
        "X\n",
        ")\n",
        "2\n",
        ", which turns out to be 1841.26.\n",
        "\n",
        "Dividing this by n-1, i.e, 4, we get the value of S^2 as 460.315\n",
        "\n",
        "The value of S, thus, will be equal to √(460.315) = 21.45\n"
      ],
      "metadata": {
        "id": "OPUrGHODPhqh"
      }
    },
    {
      "cell_type": "code",
      "source": [
        "import numpy as np\n",
        "\n",
        "rnv = list(rn.values())\n",
        "rnv = np.array(rnv)\n",
        "rnv"
      ],
      "metadata": {
        "colab": {
          "base_uri": "https://localhost:8080/"
        },
        "id": "mzlvPCQ7QHRD",
        "outputId": "74b6ad5e-5c2b-4356-c846-e5a10b737933"
      },
      "execution_count": 4,
      "outputs": [
        {
          "output_type": "execute_result",
          "data": {
            "text/plain": [
              "array([121.92, 133.21, 141.34, 126.23, 175.74])"
            ]
          },
          "metadata": {},
          "execution_count": 4
        }
      ]
    },
    {
      "cell_type": "code",
      "source": [
        "avg = sum(rnv) / len(rnv)\n",
        "avg"
      ],
      "metadata": {
        "colab": {
          "base_uri": "https://localhost:8080/"
        },
        "id": "p5de9f8TQATv",
        "outputId": "37df3571-4dd6-4079-9317-d2e79b458cc4"
      },
      "execution_count": 5,
      "outputs": [
        {
          "output_type": "execute_result",
          "data": {
            "text/plain": [
              "139.68800000000002"
            ]
          },
          "metadata": {},
          "execution_count": 5
        }
      ]
    },
    {
      "cell_type": "code",
      "source": [
        "diff = (rnv - avg) ** 2\n",
        "diff"
      ],
      "metadata": {
        "colab": {
          "base_uri": "https://localhost:8080/"
        },
        "id": "hIkqYpF4QBfc",
        "outputId": "04e7aefd-017a-4a29-a48f-776c82122d3a"
      },
      "execution_count": 6,
      "outputs": [
        {
          "output_type": "execute_result",
          "data": {
            "text/plain": [
              "array([ 315.701824,   41.964484,    2.729104,  181.117764, 1299.746704])"
            ]
          },
          "metadata": {},
          "execution_count": 6
        }
      ]
    },
    {
      "cell_type": "code",
      "source": [
        "S = np.sum(diff) / (len(rn) - 1)\n",
        "S"
      ],
      "metadata": {
        "colab": {
          "base_uri": "https://localhost:8080/"
        },
        "id": "YSC2-rViQvD2",
        "outputId": "837b6353-18d4-4575-ee52-7c710e826106"
      },
      "execution_count": 7,
      "outputs": [
        {
          "output_type": "execute_result",
          "data": {
            "text/plain": [
              "460.31497000000013"
            ]
          },
          "metadata": {},
          "execution_count": 7
        }
      ]
    },
    {
      "cell_type": "code",
      "source": [
        "np.sqrt(S)"
      ],
      "metadata": {
        "colab": {
          "base_uri": "https://localhost:8080/"
        },
        "id": "gcdi-RueQ4kk",
        "outputId": "c9581f65-8f6e-4bfc-9c27-72d120a1681f"
      },
      "execution_count": 8,
      "outputs": [
        {
          "output_type": "execute_result",
          "data": {
            "text/plain": [
              "21.454952109012037"
            ]
          },
          "metadata": {},
          "execution_count": 8
        }
      ]
    },
    {
      "cell_type": "code",
      "source": [
        "def stdn_sample(d):\n",
        "  import numpy as np\n",
        "  x = list(d.values())\n",
        "  rnv = np.array(x)\n",
        "  avg = sum(rnv) / len(rnv)\n",
        "  diff = (rnv - avg) ** 2\n",
        "  S = np.sum(diff) / (len(d) - 1)\n",
        "  return np.sqrt(S)"
      ],
      "metadata": {
        "id": "60SqOCcBOrX-"
      },
      "execution_count": 9,
      "outputs": []
    },
    {
      "cell_type": "code",
      "source": [
        "# Ans.\n",
        "\n",
        "round(stdn_sample(rn), 2)"
      ],
      "metadata": {
        "colab": {
          "base_uri": "https://localhost:8080/"
        },
        "id": "2wNexvs-RT0T",
        "outputId": "709cb885-ad26-47ba-bb86-a04f3d2eaef0"
      },
      "execution_count": 10,
      "outputs": [
        {
          "output_type": "execute_result",
          "data": {
            "text/plain": [
              "21.45"
            ]
          },
          "metadata": {},
          "execution_count": 10
        }
      ]
    },
    {
      "cell_type": "markdown",
      "source": [
        "# Sampling Distributions\n",
        "\n",
        "The sampling distribution’s mean is denoted by μX, as it is the mean of the sampling means.\n",
        "\n",
        "Let’s see what it is for this sampling distribution."
      ],
      "metadata": {
        "id": "HRU43UNKTEcv"
      }
    },
    {
      "cell_type": "markdown",
      "source": [
        "Sampling Distribution\n",
        "----------\n",
        "\n",
        "What is μX for our sampling distribution?\n",
        "\n",
        "(The data for the 100 sample means is given in the CSV file upgrad_samples.csv).\n",
        "\n",
        "    2.812\n",
        "\n",
        "    2.014\n",
        "\n",
        "    2.348\n",
        "\n",
        "    2.686\n",
        "\n",
        "-----------\n",
        "\n",
        "    2.348\n",
        "\n",
        "    ✓ Correct\n",
        "    Feedback:\n",
        "\n",
        "The sampling distribution’s mean would be equal to the sum of all the sample means, divided by 100.\n",
        "\n",
        "This comes out to be 2.348"
      ],
      "metadata": {
        "id": "_TgvMbxG2LQC"
      }
    },
    {
      "cell_type": "code",
      "source": [
        "import pandas as pd\n",
        "\n",
        "df = pd.read_csv('Inferntial Statistics - UpGrad Samples.csv')\n",
        "df.head()"
      ],
      "metadata": {
        "id": "fJL9nrEeScJo",
        "colab": {
          "base_uri": "https://localhost:8080/",
          "height": 206
        },
        "outputId": "091c76e9-628d-49ad-88b2-aac99ccefe9b"
      },
      "execution_count": 11,
      "outputs": [
        {
          "output_type": "execute_result",
          "data": {
            "text/plain": [
              "   Sample No.  Sample Mean\n",
              "0           1          3.2\n",
              "1           2          2.6\n",
              "2           3          2.8\n",
              "3           4          2.0\n",
              "4           5          3.0"
            ],
            "text/html": [
              "\n",
              "  <div id=\"df-33c90ed5-3ec7-4d42-b116-32ed40147057\">\n",
              "    <div class=\"colab-df-container\">\n",
              "      <div>\n",
              "<style scoped>\n",
              "    .dataframe tbody tr th:only-of-type {\n",
              "        vertical-align: middle;\n",
              "    }\n",
              "\n",
              "    .dataframe tbody tr th {\n",
              "        vertical-align: top;\n",
              "    }\n",
              "\n",
              "    .dataframe thead th {\n",
              "        text-align: right;\n",
              "    }\n",
              "</style>\n",
              "<table border=\"1\" class=\"dataframe\">\n",
              "  <thead>\n",
              "    <tr style=\"text-align: right;\">\n",
              "      <th></th>\n",
              "      <th>Sample No.</th>\n",
              "      <th>Sample Mean</th>\n",
              "    </tr>\n",
              "  </thead>\n",
              "  <tbody>\n",
              "    <tr>\n",
              "      <th>0</th>\n",
              "      <td>1</td>\n",
              "      <td>3.2</td>\n",
              "    </tr>\n",
              "    <tr>\n",
              "      <th>1</th>\n",
              "      <td>2</td>\n",
              "      <td>2.6</td>\n",
              "    </tr>\n",
              "    <tr>\n",
              "      <th>2</th>\n",
              "      <td>3</td>\n",
              "      <td>2.8</td>\n",
              "    </tr>\n",
              "    <tr>\n",
              "      <th>3</th>\n",
              "      <td>4</td>\n",
              "      <td>2.0</td>\n",
              "    </tr>\n",
              "    <tr>\n",
              "      <th>4</th>\n",
              "      <td>5</td>\n",
              "      <td>3.0</td>\n",
              "    </tr>\n",
              "  </tbody>\n",
              "</table>\n",
              "</div>\n",
              "      <button class=\"colab-df-convert\" onclick=\"convertToInteractive('df-33c90ed5-3ec7-4d42-b116-32ed40147057')\"\n",
              "              title=\"Convert this dataframe to an interactive table.\"\n",
              "              style=\"display:none;\">\n",
              "        \n",
              "  <svg xmlns=\"http://www.w3.org/2000/svg\" height=\"24px\"viewBox=\"0 0 24 24\"\n",
              "       width=\"24px\">\n",
              "    <path d=\"M0 0h24v24H0V0z\" fill=\"none\"/>\n",
              "    <path d=\"M18.56 5.44l.94 2.06.94-2.06 2.06-.94-2.06-.94-.94-2.06-.94 2.06-2.06.94zm-11 1L8.5 8.5l.94-2.06 2.06-.94-2.06-.94L8.5 2.5l-.94 2.06-2.06.94zm10 10l.94 2.06.94-2.06 2.06-.94-2.06-.94-.94-2.06-.94 2.06-2.06.94z\"/><path d=\"M17.41 7.96l-1.37-1.37c-.4-.4-.92-.59-1.43-.59-.52 0-1.04.2-1.43.59L10.3 9.45l-7.72 7.72c-.78.78-.78 2.05 0 2.83L4 21.41c.39.39.9.59 1.41.59.51 0 1.02-.2 1.41-.59l7.78-7.78 2.81-2.81c.8-.78.8-2.07 0-2.86zM5.41 20L4 18.59l7.72-7.72 1.47 1.35L5.41 20z\"/>\n",
              "  </svg>\n",
              "      </button>\n",
              "      \n",
              "  <style>\n",
              "    .colab-df-container {\n",
              "      display:flex;\n",
              "      flex-wrap:wrap;\n",
              "      gap: 12px;\n",
              "    }\n",
              "\n",
              "    .colab-df-convert {\n",
              "      background-color: #E8F0FE;\n",
              "      border: none;\n",
              "      border-radius: 50%;\n",
              "      cursor: pointer;\n",
              "      display: none;\n",
              "      fill: #1967D2;\n",
              "      height: 32px;\n",
              "      padding: 0 0 0 0;\n",
              "      width: 32px;\n",
              "    }\n",
              "\n",
              "    .colab-df-convert:hover {\n",
              "      background-color: #E2EBFA;\n",
              "      box-shadow: 0px 1px 2px rgba(60, 64, 67, 0.3), 0px 1px 3px 1px rgba(60, 64, 67, 0.15);\n",
              "      fill: #174EA6;\n",
              "    }\n",
              "\n",
              "    [theme=dark] .colab-df-convert {\n",
              "      background-color: #3B4455;\n",
              "      fill: #D2E3FC;\n",
              "    }\n",
              "\n",
              "    [theme=dark] .colab-df-convert:hover {\n",
              "      background-color: #434B5C;\n",
              "      box-shadow: 0px 1px 3px 1px rgba(0, 0, 0, 0.15);\n",
              "      filter: drop-shadow(0px 1px 2px rgba(0, 0, 0, 0.3));\n",
              "      fill: #FFFFFF;\n",
              "    }\n",
              "  </style>\n",
              "\n",
              "      <script>\n",
              "        const buttonEl =\n",
              "          document.querySelector('#df-33c90ed5-3ec7-4d42-b116-32ed40147057 button.colab-df-convert');\n",
              "        buttonEl.style.display =\n",
              "          google.colab.kernel.accessAllowed ? 'block' : 'none';\n",
              "\n",
              "        async function convertToInteractive(key) {\n",
              "          const element = document.querySelector('#df-33c90ed5-3ec7-4d42-b116-32ed40147057');\n",
              "          const dataTable =\n",
              "            await google.colab.kernel.invokeFunction('convertToInteractive',\n",
              "                                                     [key], {});\n",
              "          if (!dataTable) return;\n",
              "\n",
              "          const docLinkHtml = 'Like what you see? Visit the ' +\n",
              "            '<a target=\"_blank\" href=https://colab.research.google.com/notebooks/data_table.ipynb>data table notebook</a>'\n",
              "            + ' to learn more about interactive tables.';\n",
              "          element.innerHTML = '';\n",
              "          dataTable['output_type'] = 'display_data';\n",
              "          await google.colab.output.renderOutput(dataTable, element);\n",
              "          const docLink = document.createElement('div');\n",
              "          docLink.innerHTML = docLinkHtml;\n",
              "          element.appendChild(docLink);\n",
              "        }\n",
              "      </script>\n",
              "    </div>\n",
              "  </div>\n",
              "  "
            ]
          },
          "metadata": {},
          "execution_count": 11
        }
      ]
    },
    {
      "cell_type": "code",
      "source": [
        "df.describe()"
      ],
      "metadata": {
        "colab": {
          "base_uri": "https://localhost:8080/",
          "height": 300
        },
        "id": "OivUpDZ93Xbn",
        "outputId": "05eee2a6-71c2-469f-99a8-80c25bee38ab"
      },
      "execution_count": 12,
      "outputs": [
        {
          "output_type": "execute_result",
          "data": {
            "text/plain": [
              "       Sample No.  Sample Mean\n",
              "count  100.000000   100.000000\n",
              "mean    50.500000     2.348000\n",
              "std     29.011492     0.426989\n",
              "min      1.000000     1.400000\n",
              "25%     25.750000     2.000000\n",
              "50%     50.500000     2.400000\n",
              "75%     75.250000     2.600000\n",
              "max    100.000000     3.200000"
            ],
            "text/html": [
              "\n",
              "  <div id=\"df-c4f94336-e829-4ef4-a8d2-01287d662e7b\">\n",
              "    <div class=\"colab-df-container\">\n",
              "      <div>\n",
              "<style scoped>\n",
              "    .dataframe tbody tr th:only-of-type {\n",
              "        vertical-align: middle;\n",
              "    }\n",
              "\n",
              "    .dataframe tbody tr th {\n",
              "        vertical-align: top;\n",
              "    }\n",
              "\n",
              "    .dataframe thead th {\n",
              "        text-align: right;\n",
              "    }\n",
              "</style>\n",
              "<table border=\"1\" class=\"dataframe\">\n",
              "  <thead>\n",
              "    <tr style=\"text-align: right;\">\n",
              "      <th></th>\n",
              "      <th>Sample No.</th>\n",
              "      <th>Sample Mean</th>\n",
              "    </tr>\n",
              "  </thead>\n",
              "  <tbody>\n",
              "    <tr>\n",
              "      <th>count</th>\n",
              "      <td>100.000000</td>\n",
              "      <td>100.000000</td>\n",
              "    </tr>\n",
              "    <tr>\n",
              "      <th>mean</th>\n",
              "      <td>50.500000</td>\n",
              "      <td>2.348000</td>\n",
              "    </tr>\n",
              "    <tr>\n",
              "      <th>std</th>\n",
              "      <td>29.011492</td>\n",
              "      <td>0.426989</td>\n",
              "    </tr>\n",
              "    <tr>\n",
              "      <th>min</th>\n",
              "      <td>1.000000</td>\n",
              "      <td>1.400000</td>\n",
              "    </tr>\n",
              "    <tr>\n",
              "      <th>25%</th>\n",
              "      <td>25.750000</td>\n",
              "      <td>2.000000</td>\n",
              "    </tr>\n",
              "    <tr>\n",
              "      <th>50%</th>\n",
              "      <td>50.500000</td>\n",
              "      <td>2.400000</td>\n",
              "    </tr>\n",
              "    <tr>\n",
              "      <th>75%</th>\n",
              "      <td>75.250000</td>\n",
              "      <td>2.600000</td>\n",
              "    </tr>\n",
              "    <tr>\n",
              "      <th>max</th>\n",
              "      <td>100.000000</td>\n",
              "      <td>3.200000</td>\n",
              "    </tr>\n",
              "  </tbody>\n",
              "</table>\n",
              "</div>\n",
              "      <button class=\"colab-df-convert\" onclick=\"convertToInteractive('df-c4f94336-e829-4ef4-a8d2-01287d662e7b')\"\n",
              "              title=\"Convert this dataframe to an interactive table.\"\n",
              "              style=\"display:none;\">\n",
              "        \n",
              "  <svg xmlns=\"http://www.w3.org/2000/svg\" height=\"24px\"viewBox=\"0 0 24 24\"\n",
              "       width=\"24px\">\n",
              "    <path d=\"M0 0h24v24H0V0z\" fill=\"none\"/>\n",
              "    <path d=\"M18.56 5.44l.94 2.06.94-2.06 2.06-.94-2.06-.94-.94-2.06-.94 2.06-2.06.94zm-11 1L8.5 8.5l.94-2.06 2.06-.94-2.06-.94L8.5 2.5l-.94 2.06-2.06.94zm10 10l.94 2.06.94-2.06 2.06-.94-2.06-.94-.94-2.06-.94 2.06-2.06.94z\"/><path d=\"M17.41 7.96l-1.37-1.37c-.4-.4-.92-.59-1.43-.59-.52 0-1.04.2-1.43.59L10.3 9.45l-7.72 7.72c-.78.78-.78 2.05 0 2.83L4 21.41c.39.39.9.59 1.41.59.51 0 1.02-.2 1.41-.59l7.78-7.78 2.81-2.81c.8-.78.8-2.07 0-2.86zM5.41 20L4 18.59l7.72-7.72 1.47 1.35L5.41 20z\"/>\n",
              "  </svg>\n",
              "      </button>\n",
              "      \n",
              "  <style>\n",
              "    .colab-df-container {\n",
              "      display:flex;\n",
              "      flex-wrap:wrap;\n",
              "      gap: 12px;\n",
              "    }\n",
              "\n",
              "    .colab-df-convert {\n",
              "      background-color: #E8F0FE;\n",
              "      border: none;\n",
              "      border-radius: 50%;\n",
              "      cursor: pointer;\n",
              "      display: none;\n",
              "      fill: #1967D2;\n",
              "      height: 32px;\n",
              "      padding: 0 0 0 0;\n",
              "      width: 32px;\n",
              "    }\n",
              "\n",
              "    .colab-df-convert:hover {\n",
              "      background-color: #E2EBFA;\n",
              "      box-shadow: 0px 1px 2px rgba(60, 64, 67, 0.3), 0px 1px 3px 1px rgba(60, 64, 67, 0.15);\n",
              "      fill: #174EA6;\n",
              "    }\n",
              "\n",
              "    [theme=dark] .colab-df-convert {\n",
              "      background-color: #3B4455;\n",
              "      fill: #D2E3FC;\n",
              "    }\n",
              "\n",
              "    [theme=dark] .colab-df-convert:hover {\n",
              "      background-color: #434B5C;\n",
              "      box-shadow: 0px 1px 3px 1px rgba(0, 0, 0, 0.15);\n",
              "      filter: drop-shadow(0px 1px 2px rgba(0, 0, 0, 0.3));\n",
              "      fill: #FFFFFF;\n",
              "    }\n",
              "  </style>\n",
              "\n",
              "      <script>\n",
              "        const buttonEl =\n",
              "          document.querySelector('#df-c4f94336-e829-4ef4-a8d2-01287d662e7b button.colab-df-convert');\n",
              "        buttonEl.style.display =\n",
              "          google.colab.kernel.accessAllowed ? 'block' : 'none';\n",
              "\n",
              "        async function convertToInteractive(key) {\n",
              "          const element = document.querySelector('#df-c4f94336-e829-4ef4-a8d2-01287d662e7b');\n",
              "          const dataTable =\n",
              "            await google.colab.kernel.invokeFunction('convertToInteractive',\n",
              "                                                     [key], {});\n",
              "          if (!dataTable) return;\n",
              "\n",
              "          const docLinkHtml = 'Like what you see? Visit the ' +\n",
              "            '<a target=\"_blank\" href=https://colab.research.google.com/notebooks/data_table.ipynb>data table notebook</a>'\n",
              "            + ' to learn more about interactive tables.';\n",
              "          element.innerHTML = '';\n",
              "          dataTable['output_type'] = 'display_data';\n",
              "          await google.colab.output.renderOutput(dataTable, element);\n",
              "          const docLink = document.createElement('div');\n",
              "          docLink.innerHTML = docLinkHtml;\n",
              "          element.appendChild(docLink);\n",
              "        }\n",
              "      </script>\n",
              "    </div>\n",
              "  </div>\n",
              "  "
            ]
          },
          "metadata": {},
          "execution_count": 12
        }
      ]
    },
    {
      "cell_type": "code",
      "source": [
        "df.mean()"
      ],
      "metadata": {
        "colab": {
          "base_uri": "https://localhost:8080/"
        },
        "id": "JDqjiMAi3Vr5",
        "outputId": "82b28e93-853f-40fd-e6af-6fbec5d21ccb"
      },
      "execution_count": 13,
      "outputs": [
        {
          "output_type": "execute_result",
          "data": {
            "text/plain": [
              "Sample No.     50.500\n",
              "Sample Mean     2.348\n",
              "dtype: float64"
            ]
          },
          "metadata": {},
          "execution_count": 13
        }
      ]
    },
    {
      "cell_type": "code",
      "source": [
        "df['Sample Mean'].mean()"
      ],
      "metadata": {
        "colab": {
          "base_uri": "https://localhost:8080/"
        },
        "id": "ra_QIc8p3b36",
        "outputId": "b0229d08-08d0-4350-d59a-80d8df736cca"
      },
      "execution_count": 14,
      "outputs": [
        {
          "output_type": "execute_result",
          "data": {
            "text/plain": [
              "2.3480000000000003"
            ]
          },
          "metadata": {},
          "execution_count": 14
        }
      ]
    },
    {
      "cell_type": "code",
      "source": [
        "mn = df.loc[:, 'Sample Mean'].mean()\n",
        "mn"
      ],
      "metadata": {
        "colab": {
          "base_uri": "https://localhost:8080/"
        },
        "id": "RYalNJY92ZEO",
        "outputId": "7e94b67f-0e6a-4bc3-c340-8cd38fb7e71e"
      },
      "execution_count": 15,
      "outputs": [
        {
          "output_type": "execute_result",
          "data": {
            "text/plain": [
              "2.3480000000000003"
            ]
          },
          "metadata": {},
          "execution_count": 15
        }
      ]
    },
    {
      "cell_type": "code",
      "source": [
        "# Ans.\n",
        "\n",
        "round(mn, 3)"
      ],
      "metadata": {
        "colab": {
          "base_uri": "https://localhost:8080/"
        },
        "id": "-w4YSLb33MQ2",
        "outputId": "b481e34f-c329-49d0-ad3c-8428cfc8e437"
      },
      "execution_count": 16,
      "outputs": [
        {
          "output_type": "execute_result",
          "data": {
            "text/plain": [
              "2.348"
            ]
          },
          "metadata": {},
          "execution_count": 16
        }
      ]
    },
    {
      "cell_type": "markdown",
      "source": [
        "Sampling Distribution\n",
        "-----------\n",
        "\n",
        "What is the standard deviation of our sampling distribution?\n",
        "\n",
        "(The data for the 100 sample means is given in the CSV file upgrad_samples.csv)\n",
        "\n",
        "    0.4248\n",
        "\n",
        "    0.4270\n",
        "\n",
        "    0.4512\n",
        "\n",
        "    0.3986\n",
        "\n",
        "------------\n",
        "\n",
        "    0.4248\n",
        "\n",
        "    ✓ Correct\n",
        "    Feedback:\n",
        "\n",
        "Using the mean from the previous question, you can find the standard deviation using the formula -\n",
        "\n",
        "(\n",
        "S\n",
        "t\n",
        "a\n",
        "n\n",
        "d\n",
        "a\n",
        "r\n",
        "d\n",
        "D\n",
        "e\n",
        "v\n",
        "i\n",
        "a\n",
        "t\n",
        "i\n",
        "o\n",
        "n\n",
        ")\n",
        "** 2\n",
        "=\n",
        "∑\n",
        "(\n",
        "X\n",
        "i\n",
        "−\n",
        "¯\n",
        "X\n",
        ")\n",
        "** 2\n",
        "/ n\n",
        "\n",
        "Note that you would `divide by n and not n-1` as you have the data for all 100 entries of the distribution and you don't need to sample the distribution.\n",
        "\n",
        "Now, using the formula, you get that the value of the standard deviation of the distribution is 0.4248"
      ],
      "metadata": {
        "id": "SlcRHU3T4g0b"
      }
    },
    {
      "cell_type": "code",
      "source": [
        "def stdn_un_sample(d):\n",
        "  import numpy as np\n",
        "  x = list(d.values())\n",
        "  rnv = np.array(x)\n",
        "  avg = sum(rnv) / len(rnv)\n",
        "  diff = (rnv - avg) ** 2\n",
        "  S = np.sum(diff) / len(d)\n",
        "  return np.sqrt(S)"
      ],
      "metadata": {
        "id": "CyJU-o-08j4Q"
      },
      "execution_count": 17,
      "outputs": []
    },
    {
      "cell_type": "code",
      "source": [
        "dv = dict(df.values)\n",
        "s = stdn_un_sample(dv)\n",
        "s"
      ],
      "metadata": {
        "colab": {
          "base_uri": "https://localhost:8080/"
        },
        "id": "B7HbbZ1t4ZEt",
        "outputId": "84a2c199-0c82-4ffa-fced-6f912dde8a64"
      },
      "execution_count": 18,
      "outputs": [
        {
          "output_type": "execute_result",
          "data": {
            "text/plain": [
              "0.4248482081873478"
            ]
          },
          "metadata": {},
          "execution_count": 18
        }
      ]
    },
    {
      "cell_type": "code",
      "source": [
        "# Ans.\n",
        "\n",
        "round(s, 4)"
      ],
      "metadata": {
        "colab": {
          "base_uri": "https://localhost:8080/"
        },
        "id": "dJJOkqMS5C_9",
        "outputId": "f818a08d-c9fc-4b23-8206-cc510cf016f2"
      },
      "execution_count": 19,
      "outputs": [
        {
          "output_type": "execute_result",
          "data": {
            "text/plain": [
              "0.4248"
            ]
          },
          "metadata": {},
          "execution_count": 19
        }
      ]
    },
    {
      "cell_type": "markdown",
      "source": [
        "# Properties of Sampling Distributions\n",
        "\n",
        "![ss](https://cdn.upgrad.com/UpGrad/temp/02ee8693-3687-4a08-863d-39f237f55658/Table%202.png)"
      ],
      "metadata": {
        "id": "G-DMny84_Yxq"
      }
    },
    {
      "cell_type": "markdown",
      "source": [
        "# Central Limit Theorem\n",
        "\n",
        "So, there are two important properties of a sampling distribution of the mean:\n",
        "\n",
        "- Sampling distribution’s mean (\n",
        "μ\n",
        "X\n",
        ") = Population mean (μ)\n",
        "\n",
        "- Sampling distribution’s standard deviation (Standard error) =\n",
        "σ /\n",
        "√\n",
        "n\n",
        ", where σ is the population’s standard deviation and n is the sample size\n",
        "\n",
        "- For n > 30, the sampling distribution becomes a normal distribution."
      ],
      "metadata": {
        "id": "0SPxPcifAnm-"
      }
    },
    {
      "cell_type": "markdown",
      "source": [
        "# Practice Questions - Part I"
      ],
      "metadata": {
        "id": "nFV1nXeevcbg"
      }
    },
    {
      "cell_type": "markdown",
      "source": [
        "Let’s say that you work for a news agency, which is conducting an exit poll for the MCD (Municipal Corporation of Delhi) elections.\n",
        "\n",
        "You have been tasked with predicting the winner for ward 75N (Ashok Vihar).\n",
        "\n",
        "You ask 100 randomly selected voters from this ward to name the party they had voted for.\n",
        "\n",
        "The data thus collected is as given in the following table.\n",
        "\n",
        "<br>\n",
        "<center>\n",
        "\n",
        "Contesting Party | Number of Voters\n",
        "--- | ---\n",
        "BJP | 58\n",
        "INC | 42\n",
        "\n",
        "</center>\n",
        "<br>\n",
        "\n",
        "From this sample, you have to estimate the percentage of voters that may have voted for BJP.\n",
        "\n",
        "So, you define X as the proportion of people that voted for BJP. Then, the frequency distribution for X would be as follows:\n",
        "\n",
        "<br>\n",
        "<center>\n",
        "\n",
        "X | Frequency\n",
        "--- | ---\n",
        "1 | 58\n",
        "0 | 42\n",
        "\n",
        "</center>\n",
        "<br>\n",
        "\n",
        "Now, you have to find the mean for X, which is equal to\n",
        "\n",
        "(0 + 0 + 0 + ... 42 times) + (1 + 1 + 1 + ... 58 times),\n",
        "\n",
        "divided by the total frequency, i.e., 100. So, the\n",
        "\n",
        "-----------\n",
        "\n",
        "`mean` = $\\frac{(0*42)+(1*58)}{100}$ = 0.58, or 58%\n",
        "\n",
        "----------\n",
        "\n",
        "Also, you would have to find the standard deviation for this sample of 100 voters.\n",
        "\n",
        "Since the mean is 0.58, the sample’s\n",
        "\n",
        "-----------\n",
        "\n",
        "`variance` = $\\frac{((0-0.58)^{2}*42)+((1-0.58)^{2}*58)}{100-1}$ = 0.2461.\n",
        "\n",
        "------------\n",
        "\n",
        "So, the standard deviation is equal to its square root,\n",
        "\n",
        "    i.e., 0.496, or 49.6%"
      ],
      "metadata": {
        "id": "-Nsff3CeIEms"
      }
    },
    {
      "cell_type": "code",
      "source": [
        "mn = (0 * 42 + 1 * 58) / 100\n",
        "mn, f'{round(mn * 100, 0)} %'"
      ],
      "metadata": {
        "colab": {
          "base_uri": "https://localhost:8080/"
        },
        "id": "7icaNC2UwYqQ",
        "outputId": "3b3c7a41-43b1-4dd6-faa2-c99cd35e5051"
      },
      "execution_count": 20,
      "outputs": [
        {
          "output_type": "execute_result",
          "data": {
            "text/plain": [
              "(0.58, '58.0 %')"
            ]
          },
          "metadata": {},
          "execution_count": 20
        }
      ]
    },
    {
      "cell_type": "code",
      "source": [
        "var = (((0 - 0.58)**2 * 42) + ((1 - 0.58)**2 * 58)) / (100 - 1)\n",
        "var"
      ],
      "metadata": {
        "colab": {
          "base_uri": "https://localhost:8080/"
        },
        "id": "F1tZsAcaxnf5",
        "outputId": "19e294a6-e16b-424e-fc15-cc042b709c6c"
      },
      "execution_count": 21,
      "outputs": [
        {
          "output_type": "execute_result",
          "data": {
            "text/plain": [
              "0.24606060606060606"
            ]
          },
          "metadata": {},
          "execution_count": 21
        }
      ]
    },
    {
      "cell_type": "code",
      "source": [
        "std = var ** (1/2)\n",
        "std, f'{round(std * 100, 1)} %'"
      ],
      "metadata": {
        "colab": {
          "base_uri": "https://localhost:8080/"
        },
        "id": "5i6JItaAyCff",
        "outputId": "ab0c3625-65bf-46d2-e9b8-c1cf9266e4e1"
      },
      "execution_count": 22,
      "outputs": [
        {
          "output_type": "execute_result",
          "data": {
            "text/plain": [
              "(0.4960449637488582, '49.6 %')"
            ]
          },
          "metadata": {},
          "execution_count": 22
        }
      ]
    },
    {
      "cell_type": "markdown",
      "source": [
        "Voter Sample\n",
        "-----------\n",
        "\n",
        "Now, let’s say you define Y as the proportion of people that voted for the INC party.\n",
        "\n",
        "Clearly, the mean of Y will be 0.42.\n",
        "\n",
        "What would be the standard deviation of Y?\n",
        "\n",
        "    24.61%\n",
        "\n",
        "    49.6%\n",
        "\n",
        "    50.4%\n",
        "\n",
        "    75.39%\n",
        "\n",
        "-----------\n",
        "\n",
        "    49.6%\n",
        "\n",
        "    ✓ Correct\n",
        "    Feedback:\n",
        "\n",
        "There would be 42 people for whom Y would be equal to 1, and 58 people for whom Y would be equal to 0.\n",
        "\n",
        "Hence, the sample’s\n",
        "\n",
        "`variance` = $\\frac{((1-0.42)^{2}*42)+((0-0.42)^{2}*58)}{100-1}$ = 0.2461.\n",
        "\n",
        "<br>\n",
        "<img src=\"https://latex.codecogs.com/svg.image?\\inline&space;\\huge&space;\\frac{((1-0.42)^{2}*42)&plus;((0-0.42)^{2}*58)}{100-1}\" title=\"https://latex.codecogs.com/svg.image?\\inline \\huge \\frac{((1-0.42)^{2}*42)+((0-0.42)^{2}*58)}{100-1}\" />\n",
        "\n",
        "So, the standard deviation is equal to its square root,\n",
        "\n",
        "    i.e. 0.496 or 49.6%"
      ],
      "metadata": {
        "id": "BHAe7YCfz9qn"
      }
    },
    {
      "cell_type": "code",
      "source": [
        "var = (((1 - 0.42)**2 * 42) + ((0 - 0.42)**2 * 58)) / (100 - 1)\n",
        "var"
      ],
      "metadata": {
        "colab": {
          "base_uri": "https://localhost:8080/"
        },
        "id": "bMnXnujQy1KQ",
        "outputId": "ec092854-d79a-4a9e-d66f-e4b4e005d05f"
      },
      "execution_count": 23,
      "outputs": [
        {
          "output_type": "execute_result",
          "data": {
            "text/plain": [
              "0.24606060606060606"
            ]
          },
          "metadata": {},
          "execution_count": 23
        }
      ]
    },
    {
      "cell_type": "code",
      "source": [
        "# Ans.\n",
        "\n",
        "f'{round(var ** (1/2) * 100, 1)} %'"
      ],
      "metadata": {
        "colab": {
          "base_uri": "https://localhost:8080/",
          "height": 36
        },
        "id": "vaTsL3XK0tuD",
        "outputId": "5cfd187d-bbdb-41a1-aeff-e79b5b5e08d2"
      },
      "execution_count": 24,
      "outputs": [
        {
          "output_type": "execute_result",
          "data": {
            "text/plain": [
              "'49.6 %'"
            ],
            "application/vnd.google.colaboratory.intrinsic+json": {
              "type": "string"
            }
          },
          "metadata": {},
          "execution_count": 24
        }
      ]
    },
    {
      "cell_type": "markdown",
      "source": [
        "Voter Sample\n",
        "---------\n",
        "\n",
        "Let’s say you actually took some more samples, each of size 100, and made a sampling distribution for X, the proportion of people that voted for BJP.\n",
        "\n",
        "The mean of this sampling distribution is μX = 0.50 and the standard error = 0.052\n",
        "\n",
        "So, for the whole survey population, i.e. all the voters in ward 75N, the proportion of people that voted for BJP is approximately equal to:\n",
        "\n",
        "    50%\n",
        "\n",
        "    55.8%\n",
        "\n",
        "    44.2%\n",
        "\n",
        "    10.2%\n",
        "\n",
        "---------\n",
        "\n",
        "    50%\n",
        "\n",
        "    ✓ Correct\n",
        "    Feedback:\n",
        "\n",
        "You have to find the mean for all the people or, in other words, the population mean.\n",
        "\n",
        "Using CLT, you can say that the mean of the sampling distribution = the population mean.\n",
        "\n",
        "As the question says that the sampling distribution’s mean = 0.5, the population mean also = 0.5 or 50%"
      ],
      "metadata": {
        "id": "GEbpnPIn58F9"
      }
    },
    {
      "cell_type": "markdown",
      "source": [
        "Voter Sample\n",
        "-------------\n",
        "\n",
        "Similarly, let’s say you made a sampling distribution for Y, the proportion of people that voted for INC.\n",
        "\n",
        "The mean of this sampling distribution is μX = 0.50 and the standard error is equal to 0.048.\n",
        "\n",
        "Now, for the whole survey population, i.e. all the voters in ward 75N, the standard deviation of Y is equal to:\n",
        "\n",
        "50%\n",
        "\n",
        "4.8%\n",
        "\n",
        "48%\n",
        "\n",
        "10.4%\n",
        "\n",
        "--------\n",
        "\n",
        "    48%\n",
        "\n",
        "    ✓ Correct\n",
        "    Feedback:\n",
        "\n",
        "You have to find the standard deviation for all people or, in other words, the population standard deviation σ.\n",
        "\n",
        "Using CLT, you can say that `(σ/√n) = SE`.\n",
        "\n",
        "Hence, (σ/√100) = 0.048, which gives σ = .48 or 48%"
      ],
      "metadata": {
        "id": "sOtSSOpiCWKH"
      }
    },
    {
      "cell_type": "code",
      "source": [
        "se = 0.048\n",
        "n = 100\n",
        "\n",
        "std = se * (n ** 0.5)\n",
        "std"
      ],
      "metadata": {
        "colab": {
          "base_uri": "https://localhost:8080/"
        },
        "id": "IN-4DbYrCNkr",
        "outputId": "c2bfb865-8831-402f-9ad5-e98f8eb32ae1"
      },
      "execution_count": 25,
      "outputs": [
        {
          "output_type": "execute_result",
          "data": {
            "text/plain": [
              "0.48"
            ]
          },
          "metadata": {},
          "execution_count": 25
        }
      ]
    },
    {
      "cell_type": "code",
      "source": [
        "f'{round(std * 100, 0)} %'"
      ],
      "metadata": {
        "colab": {
          "base_uri": "https://localhost:8080/",
          "height": 36
        },
        "id": "pt8KfeS8CviI",
        "outputId": "547c033a-c2a1-48d6-e6aa-fa54a78bafd5"
      },
      "execution_count": 26,
      "outputs": [
        {
          "output_type": "execute_result",
          "data": {
            "text/plain": [
              "'48.0 %'"
            ],
            "application/vnd.google.colaboratory.intrinsic+json": {
              "type": "string"
            }
          },
          "metadata": {},
          "execution_count": 26
        }
      ]
    },
    {
      "cell_type": "markdown",
      "source": [
        "# [Estimating Mean Using CLT](https://live-session-recording-service.s3.ap-south-1.amazonaws.com/production/173111/cl9qkCNpmrCHiFhP5RV869acqbX55y6S.mp4)\n",
        "\n",
        "You are doing sampling because you want to find the population mean, albeit in the form of an interval. The three steps to follow are as follows:\n",
        "\n",
        "First, take a sample of size n.\n",
        "\n",
        "Then, find the mean X and standard deviation S of this sample.\n",
        "\n",
        "Now, you can say that for a y% confidence level, the confidence interval for the population mean $\\mu$ is given by\n",
        "\n",
        "<center>\n",
        "\n",
        "($\\bar{X}-\\frac{Z^{*}S}{\\sqrt{n}}, \\bar{X}+\\frac{Z^{*}S}{\\sqrt{n}}$)\n",
        "\n",
        "<br>\n",
        "\n",
        "-------------\n",
        "\n",
        "### What is the difference between Z* and Z-score?\n",
        "\n",
        "![ss](https://cdn.upgrad.com/UpGrad/temp/9b189b5e-bd87-4b3d-8b5d-e33609321b01/Capture19.PNG)\n",
        "\n",
        "</center>\n",
        "\n",
        "Z-score is the value associated with a particular cumulative probability whereas Z* is the Z-score associated with a particular confidence level.\n",
        "\n",
        "`If someone asks, what is the Z-score associated with 0.95 or 95%  probability, you just have to look up the table and find the corresponding value associated with it`.\n",
        "\n",
        "In this case, it would come up as  1.65 (or 1.645 to be more exact).\n",
        "\n",
        "`However if someone asks you what is the Z* for 95% confidence level, then first you need to find the corresponding cumulative probability associated with that confidence level`.\n",
        "\n",
        "This can be easily calculated with the following formula: if y is the confidence level in percentage then the probability is given as y/100 +(1-y/100)/2.\n",
        "\n",
        "Thus for y=95, we have the probability as 95/100+(1-95/100)/2= 0.975.\n",
        "\n",
        "And the Z-score associated with 0.975 probability is 1.96.\n",
        "\n",
        "You can verify the rest of the values given above with this formula."
      ],
      "metadata": {
        "id": "swKO7wx7DSsD"
      }
    },
    {
      "cell_type": "markdown",
      "source": [
        "# Confidence Interval - Example"
      ],
      "metadata": {
        "id": "m19nTns0dCRy"
      }
    },
    {
      "cell_type": "code",
      "source": [
        "def con_int(n, x, s, z):\n",
        "  ci = (z * s) / (n ** 0.5)\n",
        "  return x - ci, x + ci"
      ],
      "metadata": {
        "id": "N7XOS8yFC1yq"
      },
      "execution_count": 27,
      "outputs": []
    },
    {
      "cell_type": "code",
      "source": [
        "# Given\n",
        "n = 100\n",
        "x = 2.3\n",
        "s = 0.3\n",
        "c = 0.99\n",
        "\n",
        "# z for c = 99% is 2.58\n",
        "z = 2.576\n",
        "\n",
        "con_int(n, x, s, z)"
      ],
      "metadata": {
        "colab": {
          "base_uri": "https://localhost:8080/"
        },
        "id": "L7OshT1QeKXI",
        "outputId": "847a0879-76f4-4d59-cee4-83d49a8e334b"
      },
      "execution_count": 28,
      "outputs": [
        {
          "output_type": "execute_result",
          "data": {
            "text/plain": [
              "(2.22272, 2.37728)"
            ]
          },
          "metadata": {},
          "execution_count": 28
        }
      ]
    },
    {
      "cell_type": "markdown",
      "source": [
        "Mean Estimation Using CLT\n",
        "---------\n",
        "\n",
        "Recall that 50.5% of the 10,000 people surveyed preferred feature B to feature A.\n",
        "\n",
        "So, if X = the proportion of people that prefer feature B to feature A, then, for this sample, $\\bar{X}$ = 0.505 (50.5%) and n = 10,000.\n",
        "\n",
        "In addition to this, you've been told that the sample’s standard deviation S = 0.2 (20%).\n",
        "\n",
        "For the above case, the 95% confidence interval is:\n",
        "\n",
        "    (50.11%, 50.89%)\n",
        "\n",
        "    (50.50%, 50.89%)\n",
        "\n",
        "    (50.11%, 50.50%)\n",
        "\n",
        "    (50.30%, 50.69%)\n",
        "\n",
        "----------\n",
        "\n",
        "    (50.11%, 50.89%)\n",
        "\n",
        "    ✓ Correct\n",
        "    Feedback:\n",
        "\n",
        "From the above, you have `X = 50.5%, S = 20% and n = 10,000`.\n",
        "\n",
        "The confidence interval is given by ($\\bar{X}-\\frac{Z^{*}S}{\\sqrt{n}}, \\bar{X}+\\frac{Z^{*}S}{\\sqrt{n}}$), where Z* is the Z score associated with 95% confidence level = 1.96.\n",
        "\n",
        "Hence, the 95% confidence interval would be 50.5 = (50.11% to 50.89%)"
      ],
      "metadata": {
        "id": "KmS76e1GoTvA"
      }
    },
    {
      "cell_type": "code",
      "source": [
        "# Given\n",
        "n = 10000\n",
        "x = 0.505\n",
        "s = 0.2\n",
        "c = 0.95\n",
        "\n",
        "# z for c = 95% is 1.96\n",
        "z = 1.96\n",
        "\n",
        "ci = con_int(n, x, s, z)\n",
        "ci"
      ],
      "metadata": {
        "colab": {
          "base_uri": "https://localhost:8080/"
        },
        "id": "JA06xCicqfSr",
        "outputId": "d28424f7-1ada-4dc2-d183-f60068626fac"
      },
      "execution_count": 29,
      "outputs": [
        {
          "output_type": "execute_result",
          "data": {
            "text/plain": [
              "(0.50108, 0.50892)"
            ]
          },
          "metadata": {},
          "execution_count": 29
        }
      ]
    },
    {
      "cell_type": "code",
      "source": [
        "a = f'{round(ci[0] * 100, 2)} %'\n",
        "b = f'{round(ci[1] * 100, 2)} %'\n",
        "\n",
        "a, b"
      ],
      "metadata": {
        "colab": {
          "base_uri": "https://localhost:8080/"
        },
        "id": "gADUjAcqtoyF",
        "outputId": "1fd4148a-6225-4e80-ca0c-dcfc7288b50e"
      },
      "execution_count": 30,
      "outputs": [
        {
          "output_type": "execute_result",
          "data": {
            "text/plain": [
              "('50.11 %', '50.89 %')"
            ]
          },
          "metadata": {},
          "execution_count": 30
        }
      ]
    },
    {
      "cell_type": "code",
      "source": [
        "f'{round(np.array(ci).mean() * 100, 1)} %'"
      ],
      "metadata": {
        "colab": {
          "base_uri": "https://localhost:8080/",
          "height": 36
        },
        "id": "_x0tL4U7rJEE",
        "outputId": "9a998b06-a483-4ac6-f4fb-65c35ad61f61"
      },
      "execution_count": 31,
      "outputs": [
        {
          "output_type": "execute_result",
          "data": {
            "text/plain": [
              "'50.5 %'"
            ],
            "application/vnd.google.colaboratory.intrinsic+json": {
              "type": "string"
            }
          },
          "metadata": {},
          "execution_count": 31
        }
      ]
    },
    {
      "cell_type": "markdown",
      "source": [
        "Mean Estimation Using CLT\n",
        "---------\n",
        "\n",
        "For the above case, the 99% confidence interval is:\n",
        "\n",
        "    (50.24%, 50.76%)\n",
        "\n",
        "    (49.98%,51.02%)\n",
        "\n",
        "    (50.06%, 50.94%)\n",
        "\n",
        "    (49.82%, 51.18%)\n",
        "\n",
        "-----------\n",
        "\n",
        "    (49.98%,51.02%)\n",
        "\n",
        "    ✓ Correct\n",
        "    Feedback:\n",
        "\n",
        "From the above, you have X= 50.5%, S = 20% and n = 10,000.\n",
        "\n",
        "The confidence interval is given by ($\\bar{X}-\\frac{Z^{*}S}{\\sqrt{n}}, \\bar{X}+\\frac{Z^{*}S}{\\sqrt{n}}$), where Z* is the Z score associated with 99% confidence level = 2.58.\n",
        "\n",
        "Hence, the 99% confidence interval would be 50.5 = (49.98% to 51.02%)."
      ],
      "metadata": {
        "id": "8UdttE7bqDn8"
      }
    },
    {
      "cell_type": "code",
      "source": [
        "# Given\n",
        "n = 10000\n",
        "x = 0.505\n",
        "s = 0.2\n",
        "c = 0.99\n",
        "\n",
        "# z for c = 99% is 2.58\n",
        "z = 2.58\n",
        "\n",
        "ci = con_int(n, x, s, z)\n",
        "ci"
      ],
      "metadata": {
        "colab": {
          "base_uri": "https://localhost:8080/"
        },
        "id": "T2U34zbSro0J",
        "outputId": "21c69da2-2348-4108-8aec-dbb12b74d270"
      },
      "execution_count": 32,
      "outputs": [
        {
          "output_type": "execute_result",
          "data": {
            "text/plain": [
              "(0.49984, 0.5101600000000001)"
            ]
          },
          "metadata": {},
          "execution_count": 32
        }
      ]
    },
    {
      "cell_type": "code",
      "source": [
        "a = f'{round(ci[0] * 100, 2)} %'\n",
        "b = f'{round(ci[1] * 100, 2)} %'\n",
        "\n",
        "a, b"
      ],
      "metadata": {
        "colab": {
          "base_uri": "https://localhost:8080/"
        },
        "id": "t2ge6yystlz_",
        "outputId": "ec3ff464-b320-4ea2-8704-f29f5f4b10ee"
      },
      "execution_count": 33,
      "outputs": [
        {
          "output_type": "execute_result",
          "data": {
            "text/plain": [
              "('49.98 %', '51.02 %')"
            ]
          },
          "metadata": {},
          "execution_count": 33
        }
      ]
    },
    {
      "cell_type": "code",
      "source": [
        "f'{round(np.array(ci).mean() * 100, 1)} %'"
      ],
      "metadata": {
        "id": "HxQyxLTEeRwG",
        "colab": {
          "base_uri": "https://localhost:8080/",
          "height": 36
        },
        "outputId": "bcfba8aa-6f92-43eb-f00c-99a3a75d1b54"
      },
      "execution_count": 34,
      "outputs": [
        {
          "output_type": "execute_result",
          "data": {
            "text/plain": [
              "'50.5 %'"
            ],
            "application/vnd.google.colaboratory.intrinsic+json": {
              "type": "string"
            }
          },
          "metadata": {},
          "execution_count": 34
        }
      ]
    },
    {
      "cell_type": "markdown",
      "source": [
        "Mean Estimation Using CLT\n",
        "-----------\n",
        "\n",
        "Now, you want to make the claim that more than 50% people prefer feature B over feature A.\n",
        "\n",
        "Which of the following statement/s about this claim is/are true?\n",
        "\n",
        "1. You can make this claim with 90% confidence\n",
        "\n",
        "2. You can make this claim with 95% confidence\n",
        "\n",
        "3. You can make this claim with 99% confidence\n",
        "\n",
        "\n",
        "    All of these statements are correct\n",
        "\n",
        "    Only statement 1 is correct\n",
        "\n",
        "    Only Statement 1 and 2 are correct\n",
        "\n",
        "-------------\n",
        "\n",
        "    Only Statement 1 and 2 are correct\n",
        "\n",
        "    ✓ Correct\n",
        "    Feedback:\n",
        "\n",
        "90% confidence interval for μ is (50.17%, 50.83%).\n",
        "\n",
        "Hence, with 90% confidence, you can say that more than 50% people prefer B over A.\n",
        "\n",
        "Similarly, since 95% confidence interval is (50.11%, 50.89%), you can say with 95% confidence that more than 50% people prefer B over A.\n",
        "\n",
        "However, the 99% confidence interval is (49.98%, 51.02%).\n",
        "\n",
        "Hence, at 99% confidence level, you cannot say for sure that more than 50% people prefer B over A."
      ],
      "metadata": {
        "id": "eR0eWstRsYYW"
      }
    },
    {
      "cell_type": "code",
      "source": [
        "# Given\n",
        "n = 10000\n",
        "x = 0.505\n",
        "s = 0.2\n",
        "c = 0.90\n",
        "\n",
        "# z for c = 90% is 1.65\n",
        "z = 1.65\n",
        "ci = con_int(n, x, s, z)\n",
        "\n",
        "a = f'{round(ci[0] * 100, 2)} %'\n",
        "b = f'{round(ci[1] * 100, 2)} %'\n",
        "c = f'{round(np.array(ci).mean() * 100, 1)} %'\n",
        "\n",
        "a, b, c"
      ],
      "metadata": {
        "colab": {
          "base_uri": "https://localhost:8080/"
        },
        "id": "FK4YJVzcr7q0",
        "outputId": "1b707589-951c-4af0-8d47-42b074deff00"
      },
      "execution_count": 35,
      "outputs": [
        {
          "output_type": "execute_result",
          "data": {
            "text/plain": [
              "('50.17 %', '50.83 %', '50.5 %')"
            ]
          },
          "metadata": {},
          "execution_count": 35
        }
      ]
    },
    {
      "cell_type": "markdown",
      "source": [
        "# Summary: Central Limit Theorem - Part II\n",
        "\n",
        "https://cdn.upgrad.com/UpGrad/temp/bb87fd1e-8472-4405-9d31-d6d8ba22d346/Lecture%20Notes%20-%20Inferential%20Statistics.pdf"
      ],
      "metadata": {
        "id": "U3Yb8meauGz0"
      }
    },
    {
      "cell_type": "markdown",
      "source": [
        "# Practice Questions - Part II\n",
        "\n",
        "Let’s say you work as a data analyst at a pharma company, which manufactures an antipyretic drug (in tablet form) with paracetamol as the active ingredient.\n",
        "\n",
        "The amount of paracetamol specified by the drug regulatory authorities is 500 mg with an allowed error of 10%.\n",
        "\n",
        "Anything below 450 mg would be a quality issue for your company, as the drug would become ineffective, while anything above 550 mg would lead to a serious regulatory issue.\n",
        "\n",
        "\n",
        "\n",
        "There are 10 identical manufacturing lines in the plant, each of which produces approximately 10,000 tablets per hour.\n",
        "\n",
        "\n",
        "\n",
        "You want to take some samples, measure the amount of paracetamol, and test if the manufacturing process is running successfully.\n",
        "\n",
        "You have the resources and time to take a sample of 100 tablets and measure the paracetamol content in each.\n",
        "\n",
        "\n",
        "\n",
        "For the 100 tablets that you took as a sample, you find that the mean paracetamol content is 530 mg and the standard deviation is 100 mg.\n",
        "\n",
        "\n",
        "Now you want to know what the average content is for all the tablets in the plant.\n",
        "\n",
        "You are thinking of reporting the average as a confidence interval, for which you are 95% confident.\n",
        "\n",
        "\n",
        "\n",
        "With this information, answer the questions given below."
      ],
      "metadata": {
        "id": "L-BKo71muQmu"
      }
    },
    {
      "cell_type": "markdown",
      "source": [
        "Paracetamol Content\n",
        "---------\n",
        "\n",
        "What is the MOE (margin of error) for 95% confidence level?\n",
        "\n",
        "    9.8 mg\n",
        "\n",
        "    19.6 mg\n",
        "\n",
        "    39.2 mg\n",
        "\n",
        "    49 mg\n",
        "\n",
        "--------\n",
        "\n",
        "    19.6 mg\n",
        "\n",
        "    ✓ Correct\n",
        "    Feedback:\n",
        "\n",
        "If X is the defined as the paracetamol content, then for this sample of X, sample mean X = 530 mg, sample standard deviation S = 100 mg and sample size n = 100.\n",
        "\n",
        "Also, for 95% confidence interval, Z* is 1.96.\n",
        "\n",
        "Now, you know that the `margin of error`\n",
        "\n",
        "=\n",
        "Z\n",
        "∗\n",
        "S /\n",
        "√\n",
        "n\n",
        "\n",
        "=\n",
        "1.96\n",
        "∗\n",
        "100 /\n",
        "√\n",
        "100\n",
        "\n",
        "= 19.6"
      ],
      "metadata": {
        "id": "iQGe2Wv3vTRE"
      }
    },
    {
      "cell_type": "code",
      "source": [
        "def moe(n, s, z):\n",
        "  return (z * s) / (n ** 0.5)"
      ],
      "metadata": {
        "id": "sI3awqphtCyb"
      },
      "execution_count": 36,
      "outputs": []
    },
    {
      "cell_type": "code",
      "source": [
        "# Given\n",
        "n = 100\n",
        "s = 100\n",
        "c = 0.95\n",
        "\n",
        "# z for c = 95% is 1.96\n",
        "z = 1.96\n",
        "\n",
        "m = moe(n, s, z)\n",
        "m"
      ],
      "metadata": {
        "colab": {
          "base_uri": "https://localhost:8080/"
        },
        "id": "sQt0G_U4wX_0",
        "outputId": "20ebb9f3-b02b-4ff4-d056-e4aebc11aba1"
      },
      "execution_count": 39,
      "outputs": [
        {
          "output_type": "execute_result",
          "data": {
            "text/plain": [
              "19.6"
            ]
          },
          "metadata": {},
          "execution_count": 39
        }
      ]
    },
    {
      "cell_type": "markdown",
      "source": [
        "Paracetamol Content\n",
        "----------\n",
        "\n",
        "What is the confidence interval for 95% confidence level?\n",
        "\n",
        "    510.4 to 530\n",
        "\n",
        "    530 to 549.6\n",
        "\n",
        "    510.4 to 549.6 ✓ Correct\n",
        "\n",
        "    512.1 to 547.9"
      ],
      "metadata": {
        "id": "27c6zGbQxBJ0"
      }
    },
    {
      "cell_type": "code",
      "source": [
        "# Given\n",
        "n = 100\n",
        "x = 530\n",
        "s = 100\n",
        "c = 0.95\n",
        "\n",
        "# z for c = 95% is 1.96\n",
        "z = 1.96\n",
        "\n",
        "ci = con_int(n, x, s, z)\n",
        "ci"
      ],
      "metadata": {
        "colab": {
          "base_uri": "https://localhost:8080/"
        },
        "id": "j9EB6ykKwwuW",
        "outputId": "a2ef4ea0-b7ee-4cc3-9653-42377d003a4a"
      },
      "execution_count": 41,
      "outputs": [
        {
          "output_type": "execute_result",
          "data": {
            "text/plain": [
              "(510.4, 549.6)"
            ]
          },
          "metadata": {},
          "execution_count": 41
        }
      ]
    },
    {
      "cell_type": "markdown",
      "source": [
        "Paracetamol Content\n",
        "---------\n",
        "\n",
        "What is the confidence interval for 90% confidence level?\n",
        "\n",
        "    514.7 to 545.3\n",
        "\n",
        "    511.3 to 548.7\n",
        "\n",
        "    513.5 to 546.5"
      ],
      "metadata": {
        "id": "97cKGYUVx4hH"
      }
    },
    {
      "cell_type": "code",
      "source": [
        "# Given\n",
        "n = 100\n",
        "x = 530\n",
        "s = 100\n",
        "c = 0.90\n",
        "\n",
        "# z for c = 90% is 1.65\n",
        "z = 1.65\n",
        "\n",
        "ci = con_int(n, x, s, z)\n",
        "ci"
      ],
      "metadata": {
        "colab": {
          "base_uri": "https://localhost:8080/"
        },
        "id": "vtKnUp71xmtH",
        "outputId": "abdbf487-ac34-491d-d191-800ed0bb48b0"
      },
      "execution_count": 42,
      "outputs": [
        {
          "output_type": "execute_result",
          "data": {
            "text/plain": [
              "(513.5, 546.5)"
            ]
          },
          "metadata": {},
          "execution_count": 42
        }
      ]
    },
    {
      "cell_type": "markdown",
      "source": [
        "Paracetamol Content\n",
        "----------\n",
        "\n",
        "Now, you claim that the tablet is fit to consume and effective, i.e., its Paracetamol content is less than 550 mg and more than 450 mg.\n",
        "\n",
        "Can you make this claim at -\n",
        "\n",
        "    95% confidence level?\n",
        "\n",
        "    90% confidence level?\n",
        "\n",
        "Why or why not? (Word Limit: 125)\n",
        "\n",
        "-----------\n",
        "\n",
        "At a 95% confidence level, we can make the claim because the wider range of acceptance allows for a higher level of certainty, whereas at a 90% confidence level, we cannot make the claim without a narrower range that provides a smaller margin of error."
      ],
      "metadata": {
        "id": "XywNFkD4yH_C"
      }
    },
    {
      "cell_type": "code",
      "source": [],
      "metadata": {
        "id": "WFAH7PINyD16"
      },
      "execution_count": null,
      "outputs": []
    }
  ]
}