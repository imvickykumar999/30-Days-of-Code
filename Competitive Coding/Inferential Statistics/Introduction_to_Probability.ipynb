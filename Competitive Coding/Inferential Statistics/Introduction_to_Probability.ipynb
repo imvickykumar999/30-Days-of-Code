{
  "nbformat": 4,
  "nbformat_minor": 0,
  "metadata": {
    "colab": {
      "provenance": []
    },
    "kernelspec": {
      "name": "python3",
      "display_name": "Python 3"
    },
    "language_info": {
      "name": "python"
    }
  },
  "cells": [
    {
      "cell_type": "markdown",
      "source": [
        "- https://www.calculatorsoup.com/calculators/discretemathematics/combinations.php\n",
        "\n",
        "- https://jovian.com/ashutoshgole18/module-8-inferential-statistics"
      ],
      "metadata": {
        "id": "piKomhcXga2j"
      }
    },
    {
      "cell_type": "code",
      "source": [
        "import random\n",
        "n = random.randint(1, 20)\n",
        "r = random.randint(1, n) # 0 < r <= n\n",
        "\n",
        "n, r"
      ],
      "metadata": {
        "colab": {
          "base_uri": "https://localhost:8080/"
        },
        "id": "AtMY_BKeEOL6",
        "outputId": "1c4e379b-25ca-4d4f-88a4-c2ced730226f"
      },
      "execution_count": 1,
      "outputs": [
        {
          "output_type": "execute_result",
          "data": {
            "text/plain": [
              "(10, 3)"
            ]
          },
          "metadata": {},
          "execution_count": 1
        }
      ]
    },
    {
      "cell_type": "code",
      "execution_count": 2,
      "metadata": {
        "id": "LJrnvcWQbgG1",
        "colab": {
          "base_uri": "https://localhost:8080/"
        },
        "outputId": "14310a5e-6a54-4211-d7a4-8ec1269a02ed"
      },
      "outputs": [
        {
          "output_type": "execute_result",
          "data": {
            "text/plain": [
              "(3628800, 6)"
            ]
          },
          "metadata": {},
          "execution_count": 2
        }
      ],
      "source": [
        "def fact(n):\n",
        "  if n <= 1:\n",
        "    return 1\n",
        "  else:\n",
        "    return n * fact(n-1)\n",
        "\n",
        "fact(n), fact(r)"
      ]
    },
    {
      "cell_type": "code",
      "source": [
        "def per(n, r):\n",
        "  return int(fact(n) / fact(n-r))\n",
        "\n",
        "per(n, r)"
      ],
      "metadata": {
        "id": "dfhcMecuffqn",
        "colab": {
          "base_uri": "https://localhost:8080/"
        },
        "outputId": "c7201fd1-0362-4b96-b0ae-4a6bcb33eb47"
      },
      "execution_count": 3,
      "outputs": [
        {
          "output_type": "execute_result",
          "data": {
            "text/plain": [
              "720"
            ]
          },
          "metadata": {},
          "execution_count": 3
        }
      ]
    },
    {
      "cell_type": "code",
      "source": [
        "def com(n, r):\n",
        "  return int(per(n, r) / fact(r))\n",
        "\n",
        "com(n, r)"
      ],
      "metadata": {
        "id": "rm0W_kJjfxHA",
        "colab": {
          "base_uri": "https://localhost:8080/"
        },
        "outputId": "af14f438-6af2-41cb-e251-bd9cdca40758"
      },
      "execution_count": 4,
      "outputs": [
        {
          "output_type": "execute_result",
          "data": {
            "text/plain": [
              "120"
            ]
          },
          "metadata": {},
          "execution_count": 4
        }
      ]
    },
    {
      "cell_type": "code",
      "source": [
        "def compute_lcm(x, y):\n",
        "   if x > y:\n",
        "       greater = x\n",
        "   else:\n",
        "       greater = y\n",
        "\n",
        "   while(True):\n",
        "       if((greater % x == 0) and (greater % y == 0)):\n",
        "           lcm = greater\n",
        "           break\n",
        "       greater += 1\n",
        "\n",
        "   return lcm\n",
        "\n",
        "compute_lcm(4, 3)"
      ],
      "metadata": {
        "colab": {
          "base_uri": "https://localhost:8080/"
        },
        "id": "NW3pgZuUPLfI",
        "outputId": "92914683-bdef-4995-c33c-26cbf7a324f3"
      },
      "execution_count": 5,
      "outputs": [
        {
          "output_type": "execute_result",
          "data": {
            "text/plain": [
              "12"
            ]
          },
          "metadata": {},
          "execution_count": 5
        }
      ]
    },
    {
      "cell_type": "code",
      "source": [
        "def ratio(e, s):\n",
        "  lcm = compute_lcm(e, s) \n",
        "  hcf = (s*e) / lcm\n",
        "  return f'{int(e/hcf)} / {int(s/hcf)}'\n",
        "\n",
        "ratio(8, 52)"
      ],
      "metadata": {
        "id": "z-WL0aFIicqh",
        "colab": {
          "base_uri": "https://localhost:8080/",
          "height": 36
        },
        "outputId": "4ecae70b-87c4-4806-fbee-7eb200ed7a43"
      },
      "execution_count": 6,
      "outputs": [
        {
          "output_type": "execute_result",
          "data": {
            "text/plain": [
              "'2 / 13'"
            ],
            "application/vnd.google.colaboratory.intrinsic+json": {
              "type": "string"
            }
          },
          "metadata": {},
          "execution_count": 6
        }
      ]
    },
    {
      "cell_type": "code",
      "source": [
        "def dec_rat(n):\n",
        "  s = str(n).split('.')\n",
        "  a = int(s[0] + s[1])\n",
        "  b = len(s[1])\n",
        "  c = 10 ** b\n",
        "  return ratio(a, c)"
      ],
      "metadata": {
        "id": "p4P8Xwadmq22"
      },
      "execution_count": 7,
      "outputs": []
    },
    {
      "cell_type": "code",
      "source": [
        "from fractions import Fraction\n",
        "y = Fraction(2, 4)\n",
        "y"
      ],
      "metadata": {
        "colab": {
          "base_uri": "https://localhost:8080/"
        },
        "id": "6SYzoUH7-kd_",
        "outputId": "64584b50-8551-4162-c91d-7e00bb331774"
      },
      "execution_count": 8,
      "outputs": [
        {
          "output_type": "execute_result",
          "data": {
            "text/plain": [
              "Fraction(1, 2)"
            ]
          },
          "metadata": {},
          "execution_count": 8
        }
      ]
    },
    {
      "cell_type": "markdown",
      "source": [
        "# Important results"
      ],
      "metadata": {
        "id": "VEQ5R1tXDd90"
      }
    },
    {
      "cell_type": "code",
      "source": [
        "com(n, r = 0)"
      ],
      "metadata": {
        "colab": {
          "base_uri": "https://localhost:8080/"
        },
        "id": "sN6ioOWADcWD",
        "outputId": "6ecd34b8-95a4-442f-8208-a2456c97849e"
      },
      "execution_count": 9,
      "outputs": [
        {
          "output_type": "execute_result",
          "data": {
            "text/plain": [
              "1"
            ]
          },
          "metadata": {},
          "execution_count": 9
        }
      ]
    },
    {
      "cell_type": "code",
      "source": [
        "com(n, n)"
      ],
      "metadata": {
        "colab": {
          "base_uri": "https://localhost:8080/"
        },
        "id": "R5fdf2YQEG0H",
        "outputId": "5d89cfb0-6367-4430-c4a5-17384f5687da"
      },
      "execution_count": 10,
      "outputs": [
        {
          "output_type": "execute_result",
          "data": {
            "text/plain": [
              "1"
            ]
          },
          "metadata": {},
          "execution_count": 10
        }
      ]
    },
    {
      "cell_type": "code",
      "source": [
        "a = com(n, r)\n",
        "b = com(n, n-r)\n",
        "\n",
        "a, b, a == b"
      ],
      "metadata": {
        "colab": {
          "base_uri": "https://localhost:8080/"
        },
        "id": "GAKU7wqFEdww",
        "outputId": "f44676c2-11a3-4f94-9f3b-870be1a566e5"
      },
      "execution_count": 11,
      "outputs": [
        {
          "output_type": "execute_result",
          "data": {
            "text/plain": [
              "(120, 120, True)"
            ]
          },
          "metadata": {},
          "execution_count": 11
        }
      ]
    },
    {
      "cell_type": "code",
      "source": [
        "a = r * com(n, r)\n",
        "b = n * (com(n-1, r-1))\n",
        "\n",
        "a, b, a == b"
      ],
      "metadata": {
        "colab": {
          "base_uri": "https://localhost:8080/"
        },
        "id": "91xlISMqEwF5",
        "outputId": "a5697e19-2a42-4b6a-be4f-d3510e761644"
      },
      "execution_count": 12,
      "outputs": [
        {
          "output_type": "execute_result",
          "data": {
            "text/plain": [
              "(360, 360, True)"
            ]
          },
          "metadata": {},
          "execution_count": 12
        }
      ]
    },
    {
      "cell_type": "code",
      "source": [
        "a = com(n, r) + com(n, r-1)\n",
        "b = com(n+1, r)\n",
        "\n",
        "a, b, a == b"
      ],
      "metadata": {
        "colab": {
          "base_uri": "https://localhost:8080/"
        },
        "id": "wkmnKyTtE4cv",
        "outputId": "2a015788-7cc2-4448-d866-52c0aff90549"
      },
      "execution_count": 13,
      "outputs": [
        {
          "output_type": "execute_result",
          "data": {
            "text/plain": [
              "(165, 165, True)"
            ]
          },
          "metadata": {},
          "execution_count": 13
        }
      ]
    },
    {
      "cell_type": "code",
      "source": [
        "com(n, 0) == com(n, n) == 1"
      ],
      "metadata": {
        "colab": {
          "base_uri": "https://localhost:8080/"
        },
        "id": "vpvrfkKdGG8A",
        "outputId": "0f9141a5-951a-4ca1-dba8-86e4e2fddc7a"
      },
      "execution_count": 14,
      "outputs": [
        {
          "output_type": "execute_result",
          "data": {
            "text/plain": [
              "True"
            ]
          },
          "metadata": {},
          "execution_count": 14
        }
      ]
    },
    {
      "cell_type": "code",
      "source": [
        "com(n, 1) == com(n, n-1) == n"
      ],
      "metadata": {
        "colab": {
          "base_uri": "https://localhost:8080/"
        },
        "id": "DtwZ4JGkGSSm",
        "outputId": "066f687a-9803-4a4a-ea0a-62e13407a7e7"
      },
      "execution_count": 15,
      "outputs": [
        {
          "output_type": "execute_result",
          "data": {
            "text/plain": [
              "True"
            ]
          },
          "metadata": {},
          "execution_count": 15
        }
      ]
    },
    {
      "cell_type": "code",
      "source": [
        "a = com(n, r)\n",
        "b = per(n, r) / fact(r)\n",
        "\n",
        "a, b, a == b"
      ],
      "metadata": {
        "colab": {
          "base_uri": "https://localhost:8080/"
        },
        "id": "Ms2MmX-TGkxO",
        "outputId": "f217c2f8-a3d8-40af-d61f-a062fb5eb11e"
      },
      "execution_count": 16,
      "outputs": [
        {
          "output_type": "execute_result",
          "data": {
            "text/plain": [
              "(120, 120.0, True)"
            ]
          },
          "metadata": {},
          "execution_count": 16
        }
      ]
    },
    {
      "cell_type": "markdown",
      "source": [
        "Permutations\n",
        "-------\n",
        "\n",
        "Permutations: Find the number of ways in which the letters of the word ‘MOSAIC’ can be rearranged to form different six-letter words.\n",
        "\n",
        "    30\n",
        "\n",
        "    100\n",
        "\n",
        "    720\n",
        "\n",
        "    320\n",
        "\n",
        "----------\n",
        "\n",
        "    720\n",
        "\n",
        "    ✓ Correct\n",
        "    Feedback:\n",
        "\n",
        "The word `MOSAIC` contains `six` letters with which we need to form six-letter words. \n",
        "\n",
        "Therefore, the formula that you would be using is `n!`. \n",
        "\n",
        "Since n = 6 here, from the permutation formula, we have \n",
        "\n",
        "    n! = 6*5*4*3*2*1 = 720."
      ],
      "metadata": {
        "id": "Jmv2WPQDb_ml"
      }
    },
    {
      "cell_type": "code",
      "source": [
        "# Ans.\n",
        "fact(6)"
      ],
      "metadata": {
        "colab": {
          "base_uri": "https://localhost:8080/"
        },
        "id": "SoWYqmHYctci",
        "outputId": "61ea393b-5297-4112-e64c-d3b84e540e30"
      },
      "execution_count": 17,
      "outputs": [
        {
          "output_type": "execute_result",
          "data": {
            "text/plain": [
              "720"
            ]
          },
          "metadata": {},
          "execution_count": 17
        }
      ]
    },
    {
      "cell_type": "code",
      "source": [
        "per(6, 6)"
      ],
      "metadata": {
        "colab": {
          "base_uri": "https://localhost:8080/"
        },
        "id": "55iOjgqtf-Bw",
        "outputId": "ec341914-3a13-4793-8c6c-ebc128abea3f"
      },
      "execution_count": 18,
      "outputs": [
        {
          "output_type": "execute_result",
          "data": {
            "text/plain": [
              "720"
            ]
          },
          "metadata": {},
          "execution_count": 18
        }
      ]
    },
    {
      "cell_type": "markdown",
      "source": [
        "Permutations\n",
        "-------\n",
        "\n",
        "Again, using the letters of the word ‘MOSAIC’, can you find out how many three-letter words can be formed?\n",
        "\n",
        "    100\n",
        "\n",
        "    300\n",
        "\n",
        "    130\n",
        "\n",
        "    120\n",
        "\n",
        "--------------\n",
        "\n",
        "    120\n",
        "\n",
        "    ✓ Correct\n",
        "    Feedback:\n",
        "\n",
        "The word '`MOSAIC`' contains `six` letters with which we need to form `three-letter` words. \n",
        "\n",
        "Therefore, the formula that you would be using is n!/(n-r)!. \n",
        "\n",
        "Since n = 6 and r = 3 here, from the permutation formula, we have \n",
        "\n",
        "    n!/(n-r)! = 6!/3! = 720/6 = 120."
      ],
      "metadata": {
        "id": "UWf7blQidj0Y"
      }
    },
    {
      "cell_type": "code",
      "source": [
        "6*5*4"
      ],
      "metadata": {
        "colab": {
          "base_uri": "https://localhost:8080/"
        },
        "id": "uAQquVYec0Xj",
        "outputId": "41236aa0-7675-44f9-f582-0074dd077767"
      },
      "execution_count": 19,
      "outputs": [
        {
          "output_type": "execute_result",
          "data": {
            "text/plain": [
              "120"
            ]
          },
          "metadata": {},
          "execution_count": 19
        }
      ]
    },
    {
      "cell_type": "code",
      "source": [
        "per(6, 3)"
      ],
      "metadata": {
        "colab": {
          "base_uri": "https://localhost:8080/"
        },
        "id": "LLZp5w_4gD6J",
        "outputId": "276b9270-4457-421a-94e4-262025700467"
      },
      "execution_count": 20,
      "outputs": [
        {
          "output_type": "execute_result",
          "data": {
            "text/plain": [
              "120"
            ]
          },
          "metadata": {},
          "execution_count": 20
        }
      ]
    },
    {
      "cell_type": "code",
      "source": [
        "# Ans.\n",
        "fact(6) / fact(6-3)"
      ],
      "metadata": {
        "colab": {
          "base_uri": "https://localhost:8080/"
        },
        "id": "R0x_ml1RduJ0",
        "outputId": "bff70cd1-a2fa-4ed1-a1f0-e91744fbb864"
      },
      "execution_count": 21,
      "outputs": [
        {
          "output_type": "execute_result",
          "data": {
            "text/plain": [
              "120.0"
            ]
          },
          "metadata": {},
          "execution_count": 21
        }
      ]
    },
    {
      "cell_type": "markdown",
      "source": [
        "Combinations\n",
        "--------\n",
        "\n",
        "In the case of combinations, you need not take the order into account while finding the number of ways to arrange a group of objects.\n",
        "\n",
        "------------------\n",
        "\n",
        "Combinations: \n",
        "\n",
        "Suppose you have a list of 10 customers who have given a bad rating to your product. \n",
        "\n",
        "Now, you need to randomly pick three customers so that you can interview them and take their feedback. \n",
        "\n",
        "In how many ways can you choose three customers from the given set of 10?\n",
        "\n",
        "    120\n",
        "\n",
        "    100\n",
        "\n",
        "    300\n",
        "\n",
        "    400\n",
        "\n",
        "---------\n",
        "\n",
        "    120\n",
        "\n",
        "    ✓ Correct\n",
        "    Feedback:\n",
        "\n",
        "The formula for combinations is n!/(r! (n-r)!). \n",
        "\n",
        "In the given problem, n = 10 and r = 3. \n",
        "\n",
        "Substituting the value in the formula, you get \n",
        "\n",
        "    (10)!/3! 7! = 120."
      ],
      "metadata": {
        "id": "V3IaLrQHeeVn"
      }
    },
    {
      "cell_type": "code",
      "source": [
        "# Ans.\n",
        "com(10, 3)"
      ],
      "metadata": {
        "colab": {
          "base_uri": "https://localhost:8080/"
        },
        "id": "UDOjYasreIp3",
        "outputId": "62445e13-0713-48b2-96be-d4255b518a7b"
      },
      "execution_count": 22,
      "outputs": [
        {
          "output_type": "execute_result",
          "data": {
            "text/plain": [
              "120"
            ]
          },
          "metadata": {},
          "execution_count": 22
        }
      ]
    },
    {
      "cell_type": "markdown",
      "source": [
        "Combinations\n",
        "-------\n",
        "\n",
        "In a group of 6 boys and 4 girls, four children are to be selected. \n",
        "\n",
        "In how many different ways can they be selected?\n",
        "\n",
        "    210\n",
        "\n",
        "    100\n",
        "\n",
        "    110\n",
        "\n",
        "    140\n",
        "\n",
        "-----------\n",
        "\n",
        "    210\n",
        "\n",
        "    ✓ Correct\n",
        "    Feedback:\n",
        "\n",
        "Yes that's the correct answer, there are a total of 10 children (6+4) and we want to select four of them, therefore this is a combination problem.\n",
        " \n",
        "    10!/ [4! * (10-4)!] = 210"
      ],
      "metadata": {
        "id": "YsWWBEiZhQjv"
      }
    },
    {
      "cell_type": "code",
      "source": [
        "# Ans.\n",
        "com(6+4, 4)"
      ],
      "metadata": {
        "colab": {
          "base_uri": "https://localhost:8080/"
        },
        "id": "oiXILligg9rJ",
        "outputId": "659e00fd-2e49-4856-9b69-ffcd4ea47ae6"
      },
      "execution_count": 23,
      "outputs": [
        {
          "output_type": "execute_result",
          "data": {
            "text/plain": [
              "210"
            ]
          },
          "metadata": {},
          "execution_count": 23
        }
      ]
    },
    {
      "cell_type": "markdown",
      "source": [
        "Sample space: \n",
        "-----------\n",
        "\n",
        "A sample space is nothing but the list of all possible outcomes of a random experiment. \n",
        "\n",
        "It is denoted by S = {all the possible outcomes}. \n",
        "\n",
        "For example, in the coin toss example, the sample space is S = {H, T}, where H = heads and T = tails.\n",
        "\n",
        "Event: \n",
        "----------\n",
        "\n",
        "It is a subset, i.e., a part of the sample space that you want to be true for your probability experiment. \n",
        "\n",
        "For example, if in a coin toss you want heads to be the desired outcome, then the event becomes {H}. \n",
        "\n",
        "As you can see clearly, {H} is a part of {H, T}."
      ],
      "metadata": {
        "id": "wqdwndXIN8uO"
      }
    },
    {
      "cell_type": "markdown",
      "source": [
        "Concepts of probability\n",
        "-----------\n",
        "\n",
        "Let's say you have a box containing five cards with the letters 'B', 'R', 'E', 'A' and 'D' written on them. \n",
        "\n",
        "Now, you are asked to pick a card randomly from the box, and each time you pick a card, you note down the letter written on it and keep the card outside the box. \n",
        "\n",
        "You continued this process five times until no cards were left in the box. \n",
        "\n",
        "What is the probability that you picked the letters in the same sequence as the word 'BREAD'?\n",
        "\n",
        "    1/24\n",
        "\n",
        "    3/24\n",
        "\n",
        "    1/120\n",
        "\n",
        "    1/90\n",
        "\n",
        "------------\n",
        "\n",
        "    1/120\n",
        "\n",
        "    ✓ Correct\n",
        "    Feedback:\n",
        "\n",
        "For calculating the probability, you first need to find the number of outcomes in the sample space, \n",
        "\n",
        "i.e., the number of ways in which you can pick five letters from the box. \n",
        "\n",
        "This is a case of permutation since the order is of importance for forming a word. \n",
        "\n",
        "Therefore, the total number of outcomes in the sample space is \n",
        "\n",
        "    5! = 120\n",
        "\n",
        "The event here would be the outcome where you pick the cards in the exact sequence 'BREAD'. \n",
        "\n",
        "Hence, the total number of outcomes in the event would be 1. \n",
        "\n",
        "Since, probability = (Total number of outcomes in the event) / (Total number of outcomes in sample space), this value comes out to be 1/120.\n"
      ],
      "metadata": {
        "id": "WrEnxJwzLgPX"
      }
    },
    {
      "cell_type": "code",
      "source": [
        "s = fact(5)\n",
        "s # sample space"
      ],
      "metadata": {
        "id": "9mjdUk2rhiCn",
        "colab": {
          "base_uri": "https://localhost:8080/"
        },
        "outputId": "4ed31d98-bb5d-4f69-8206-e396f89fb035"
      },
      "execution_count": 24,
      "outputs": [
        {
          "output_type": "execute_result",
          "data": {
            "text/plain": [
              "120"
            ]
          },
          "metadata": {},
          "execution_count": 24
        }
      ]
    },
    {
      "cell_type": "code",
      "source": [
        "e = 1\n",
        "e # event"
      ],
      "metadata": {
        "colab": {
          "base_uri": "https://localhost:8080/"
        },
        "id": "dYm_mBy8NrJ8",
        "outputId": "234dfdf6-5f3a-4b7b-bd24-1b9fd53802f9"
      },
      "execution_count": 25,
      "outputs": [
        {
          "output_type": "execute_result",
          "data": {
            "text/plain": [
              "1"
            ]
          },
          "metadata": {},
          "execution_count": 25
        }
      ]
    },
    {
      "cell_type": "code",
      "source": [
        "lcm = compute_lcm(e, s) \n",
        "lcm"
      ],
      "metadata": {
        "colab": {
          "base_uri": "https://localhost:8080/"
        },
        "id": "qup5gbAfTcZ0",
        "outputId": "5f01215d-51d5-4930-ccc9-3c28ba4dc36d"
      },
      "execution_count": 26,
      "outputs": [
        {
          "output_type": "execute_result",
          "data": {
            "text/plain": [
              "120"
            ]
          },
          "metadata": {},
          "execution_count": 26
        }
      ]
    },
    {
      "cell_type": "code",
      "source": [
        "hcf = (s*e) / lcm\n",
        "hcf"
      ],
      "metadata": {
        "colab": {
          "base_uri": "https://localhost:8080/"
        },
        "id": "oiE2dabdTfah",
        "outputId": "36f33ec1-7862-41ab-89ed-bce6512500ac"
      },
      "execution_count": 27,
      "outputs": [
        {
          "output_type": "execute_result",
          "data": {
            "text/plain": [
              "1.0"
            ]
          },
          "metadata": {},
          "execution_count": 27
        }
      ]
    },
    {
      "cell_type": "code",
      "source": [
        "f'{e/hcf} / {s/hcf}'"
      ],
      "metadata": {
        "colab": {
          "base_uri": "https://localhost:8080/",
          "height": 36
        },
        "id": "XQJ9Hz8jL9pq",
        "outputId": "3ed183f1-c16a-4bca-9792-0ad879774184"
      },
      "execution_count": 28,
      "outputs": [
        {
          "output_type": "execute_result",
          "data": {
            "text/plain": [
              "'1.0 / 120.0'"
            ],
            "application/vnd.google.colaboratory.intrinsic+json": {
              "type": "string"
            }
          },
          "metadata": {},
          "execution_count": 28
        }
      ]
    },
    {
      "cell_type": "code",
      "source": [
        "ratio(e, s)"
      ],
      "metadata": {
        "colab": {
          "base_uri": "https://localhost:8080/",
          "height": 36
        },
        "id": "byxxO3cUTkSh",
        "outputId": "96dd4612-7b19-4e54-9ca3-713924fc7f16"
      },
      "execution_count": 29,
      "outputs": [
        {
          "output_type": "execute_result",
          "data": {
            "text/plain": [
              "'1 / 120'"
            ],
            "application/vnd.google.colaboratory.intrinsic+json": {
              "type": "string"
            }
          },
          "metadata": {},
          "execution_count": 29
        }
      ]
    },
    {
      "cell_type": "markdown",
      "source": [
        "Properties of probability\n",
        "-----------\n",
        "\n",
        "Which of the following options cannot be the probability of a particular event in any scenario?\n",
        "\n",
        "    -0.2\n",
        "\n",
        "    1.4\n",
        "\n",
        "    0.1\n",
        "\n",
        "    Both -0.2 and 1.4\n",
        "\n",
        "----------\n",
        "\n",
        "    Both -0.2 and 1.4\n",
        "\n",
        "    ✓ Correct\n",
        "    Feedback:\n",
        "\n",
        "Recall the rules of probability. \n",
        "\n",
        "It states that the probability of any event must lie between 0 and 1. \n",
        "\n",
        "Both -0.2 and 1.4 do not lie in this range. \n",
        "\n",
        "Hence, this is the correct option."
      ],
      "metadata": {
        "id": "BxHFycb5MzW7"
      }
    },
    {
      "cell_type": "markdown",
      "source": [
        "Probability\n",
        "-----------\n",
        "\n",
        "Two dice are thrown simultaneously. \n",
        "\n",
        "What is the probability that they will display two numbers whose product is even?\n",
        "\n",
        "    1/2\n",
        "\n",
        "    1/9\n",
        "\n",
        "    7/16\n",
        "\n",
        "    3/4\n",
        "\n",
        "-----------\n",
        "\n",
        "    3/4\n",
        "\n",
        "    ✓ Correct\n",
        "    Feedback:\n",
        "\n",
        "Yes that’s the right answer. \n",
        "\n",
        "The total number of favourable outcomes is 27: \n",
        "\n",
        "{(1, 2), (1, 4), (1, 6), (2, 1), (2, 2), (2, 3), (2, 4), (2, 5), (2, 6), (3, 2), (3, 4), (3, 6), (4, 1), (4, 2), (4, 3), (4, 4), (4, 5), (4, 6), (5, 2), (5, 4), (5, 6), (6, 1), (6, 2), (6, 3), (6, 4), (6, 5), and (6, 6)}. \n",
        "\n",
        "    So the probability becomes = 27/36 = 3/4"
      ],
      "metadata": {
        "id": "m18CdURHNOvN"
      }
    },
    {
      "cell_type": "code",
      "source": [
        "s = 6*6\n",
        "s"
      ],
      "metadata": {
        "colab": {
          "base_uri": "https://localhost:8080/"
        },
        "id": "su4yT9K0MG0O",
        "outputId": "4ce262d1-bc05-4c80-e154-2a5233cf90a1"
      },
      "execution_count": 30,
      "outputs": [
        {
          "output_type": "execute_result",
          "data": {
            "text/plain": [
              "36"
            ]
          },
          "metadata": {},
          "execution_count": 30
        }
      ]
    },
    {
      "cell_type": "code",
      "source": [
        "e = 6*3 + 3*3\n",
        "e # (6 any and 3 even) or (3 even and 3 even)"
      ],
      "metadata": {
        "colab": {
          "base_uri": "https://localhost:8080/"
        },
        "id": "tvyvdnKAOQvt",
        "outputId": "90b10dbd-bfcf-4d28-8777-c31f2d3dc51c"
      },
      "execution_count": 31,
      "outputs": [
        {
          "output_type": "execute_result",
          "data": {
            "text/plain": [
              "27"
            ]
          },
          "metadata": {},
          "execution_count": 31
        }
      ]
    },
    {
      "cell_type": "code",
      "source": [
        "lcm = compute_lcm(e, s) \n",
        "lcm"
      ],
      "metadata": {
        "colab": {
          "base_uri": "https://localhost:8080/"
        },
        "id": "vA2-lLqJSEfX",
        "outputId": "dbac28f9-10de-41c3-80ac-a85b810c9f40"
      },
      "execution_count": 32,
      "outputs": [
        {
          "output_type": "execute_result",
          "data": {
            "text/plain": [
              "108"
            ]
          },
          "metadata": {},
          "execution_count": 32
        }
      ]
    },
    {
      "cell_type": "code",
      "source": [
        "hcf = (s*e) / lcm\n",
        "hcf"
      ],
      "metadata": {
        "colab": {
          "base_uri": "https://localhost:8080/"
        },
        "id": "p5apx67NOdx4",
        "outputId": "3e393680-7114-406e-a626-b2dbbe5289ab"
      },
      "execution_count": 33,
      "outputs": [
        {
          "output_type": "execute_result",
          "data": {
            "text/plain": [
              "9.0"
            ]
          },
          "metadata": {},
          "execution_count": 33
        }
      ]
    },
    {
      "cell_type": "code",
      "source": [
        "f'{e/hcf} / {s/hcf}'"
      ],
      "metadata": {
        "colab": {
          "base_uri": "https://localhost:8080/",
          "height": 36
        },
        "id": "fR5gAsSuPWLl",
        "outputId": "76656f33-472c-4cc6-8ebe-c60ee2d2f756"
      },
      "execution_count": 34,
      "outputs": [
        {
          "output_type": "execute_result",
          "data": {
            "text/plain": [
              "'3.0 / 4.0'"
            ],
            "application/vnd.google.colaboratory.intrinsic+json": {
              "type": "string"
            }
          },
          "metadata": {},
          "execution_count": 34
        }
      ]
    },
    {
      "cell_type": "code",
      "source": [
        "ratio(e, s)"
      ],
      "metadata": {
        "colab": {
          "base_uri": "https://localhost:8080/",
          "height": 36
        },
        "id": "zQIe2HWFTvIm",
        "outputId": "f6168842-231d-4dfc-a71f-6e9446f5fb36"
      },
      "execution_count": 35,
      "outputs": [
        {
          "output_type": "execute_result",
          "data": {
            "text/plain": [
              "'3 / 4'"
            ],
            "application/vnd.google.colaboratory.intrinsic+json": {
              "type": "string"
            }
          },
          "metadata": {},
          "execution_count": 35
        }
      ]
    },
    {
      "cell_type": "markdown",
      "source": [
        "Probability\n",
        "-------------\n",
        "\n",
        "Mr. Lee has two children; the first one is a boy. \n",
        "\n",
        "What is the probability that the second child is a girl?\n",
        "\n",
        "    1/2\n",
        "\n",
        "    3/4\n",
        "\n",
        "    1/3\n",
        "\n",
        "    4/9\n",
        "\n",
        "--------\n",
        "\n",
        "    1/2\n",
        "\n",
        "    ✓ Correct\n",
        "    Feedback:\n",
        "\n",
        "Yes that’s the right answer, the total number of favourable outcomes is one, and the total number of outcomes is two. \n",
        "\n",
        "    Thus, the probability P = 1/2.\n"
      ],
      "metadata": {
        "id": "W5nyHUgod77b"
      }
    },
    {
      "cell_type": "markdown",
      "source": [
        "Properties of Probability\n",
        "----------\n",
        "\n",
        "Assume that for a particular experiment there are five possible outcomes. \n",
        "\n",
        "Now the probabilities of the first three outcomes are given as 0.1, 0.2 and 0.3, respectively. \n",
        "\n",
        "You don't know the exact probabilities of the last two outcomes, but you do know that the probability of the fifth outcome is three times the probability of the fourth outcome. \n",
        "\n",
        "Can you use the rules of probability to find the probabilities of the fourth and fifth outcomes?\n",
        "\n",
        "    0.1 and 0.3\n",
        "\n",
        "    0.12 and 0.4\n",
        "\n",
        "    0.2 and 0.6\n",
        "\n",
        "    0.3 and 0.9\n",
        "\n",
        "------------\n",
        "\n",
        "    0.1 and 0.3\n",
        "\n",
        "    ✓ Correct\n",
        "    Feedback:\n",
        "\n",
        "Take the probability of the fourth outcome as x. \n",
        "\n",
        "Thus, as per the question, the probability of the fifth outcome would be 3x. \n",
        "\n",
        "Now, the total probability of all the outcomes \n",
        "\n",
        "    = 0.1+ 0.2 +0.3 + x +3x = 0.6 + 4x. \n",
        "\n",
        "Now from the rules of probability, we have that the sum of all the probabilities for a particular experiment turns out to be 1. \n",
        "\n",
        "Thus, we can write, 0.6 + 4x = 1, solving which we get x = 0.1. \n",
        "\n",
        "Thus, the probability of the fourth outcome is 0.1 and that of the fifth outcome is 0.3."
      ],
      "metadata": {
        "id": "h_-Q4SROfaS6"
      }
    },
    {
      "cell_type": "code",
      "source": [
        "# 0.1 + 0.2 + 0.3 + x + 3*x = 1\n",
        "# 4*x = 1 - 0.6 = 0.4\n",
        "# x = 4 / 40 = 1 / 10\n",
        "\n",
        "1/10, 3/10"
      ],
      "metadata": {
        "colab": {
          "base_uri": "https://localhost:8080/"
        },
        "id": "rvvApmUGPphL",
        "outputId": "d058ee09-2efa-4f62-d942-c64292dcdaed"
      },
      "execution_count": 36,
      "outputs": [
        {
          "output_type": "execute_result",
          "data": {
            "text/plain": [
              "(0.1, 0.3)"
            ]
          },
          "metadata": {},
          "execution_count": 36
        }
      ]
    },
    {
      "cell_type": "code",
      "source": [
        "from sympy.solvers import solve\n",
        "from sympy import Symbol\n",
        "\n",
        "x = Symbol('x')\n",
        "x"
      ],
      "metadata": {
        "colab": {
          "base_uri": "https://localhost:8080/",
          "height": 39
        },
        "id": "zsZWMND2eafQ",
        "outputId": "92ed560e-e5df-4487-b36c-406f08134e08"
      },
      "execution_count": 37,
      "outputs": [
        {
          "output_type": "execute_result",
          "data": {
            "text/plain": [
              "x"
            ],
            "text/latex": "$\\displaystyle x$"
          },
          "metadata": {},
          "execution_count": 37
        }
      ]
    },
    {
      "cell_type": "code",
      "source": [
        "# ?solve\n",
        "y = solve(0.1 + 0.2 + 0.3 + x + 3*x - 1)\n",
        "y"
      ],
      "metadata": {
        "colab": {
          "base_uri": "https://localhost:8080/"
        },
        "id": "7JThAbAMg03u",
        "outputId": "24398a9d-21ae-454b-b6a6-02d3f191ddd3"
      },
      "execution_count": 38,
      "outputs": [
        {
          "output_type": "execute_result",
          "data": {
            "text/plain": [
              "[0.100000000000000]"
            ]
          },
          "metadata": {},
          "execution_count": 38
        }
      ]
    },
    {
      "cell_type": "code",
      "source": [
        "y = round(y[0], 1)\n",
        "y, 3*y"
      ],
      "metadata": {
        "colab": {
          "base_uri": "https://localhost:8080/"
        },
        "id": "GxiXn6ZkhtAE",
        "outputId": "c33162c1-8e66-4014-a50b-c3e94c90bd41"
      },
      "execution_count": 39,
      "outputs": [
        {
          "output_type": "execute_result",
          "data": {
            "text/plain": [
              "(0.1, 0.3)"
            ]
          },
          "metadata": {},
          "execution_count": 39
        }
      ]
    },
    {
      "cell_type": "markdown",
      "source": [
        "Types of events\n",
        "-------------\n",
        "\n",
        "Consider the following statements and choose the correct option.\n",
        "\n",
        "`Statement 1:` \n",
        "\n",
        "Event A denotes the scenario where the marketing campaign leads to more than 500 subscribers, whereas event B denotes the scenario where the marketing campaign leads to less than 200 subscribers.\n",
        "\n",
        "`Statement 2:` \n",
        "\n",
        "Event A denotes the scenario where the marketing campaign leads to less than 500 subscribers, whereas event B denotes the scenario where the marketing campaign gets more than 500 subscribers.\n",
        "\n",
        "    In statement 1, the events are disjoint, whereas, \n",
        "    in statement 2, the events are independent. \n",
        "\n",
        "    In statement 1, the events are independent, whereas, \n",
        "    in statement 2, the events are disjoint. \n",
        "\n",
        "    Both statements denote events which are disjoint. \n",
        "\n",
        "    Both statements denote events which are independent. \n",
        "\n",
        "-----------\n",
        "\n",
        "    Both statements denote events which are disjoint. \n",
        "\n",
        "    ✓ Correct\n",
        "    Feedback:\n",
        "\n",
        "Two events are considered independent when one event has no effect on the other. \n",
        "\n",
        "Two events are considered disjoint if both of them cannot occur simultaneously.\n",
        "\n",
        "If you go through statement 1, you can clearly see that the events are disjoint, since the subscribers cannot be more than 500 and less than 200 at the same time. \n",
        "\n",
        "Similarly, in the second statement, the events are again disjoint, since the number of subscribers cannot be both more than 500 and less than 500 at the same time.\n"
      ],
      "metadata": {
        "id": "ekawBZ_0rKW1"
      }
    },
    {
      "cell_type": "markdown",
      "source": [
        "Complement Rule of Probability\n",
        "----------\n",
        "\n",
        "Let A denote the event 'The campaign leads to more than 500 subscribers'. \n",
        "\n",
        "What would be its complementary event?\n",
        "\n",
        "    The campaign would lead to less than 200 subscribers.\n",
        "\n",
        "    The campaign would lead to more than 200 subscribers.\n",
        "\n",
        "    The campaign would lead to less than or equal to 500 subscribers.\n",
        "\n",
        "    The campaign would lead to more than or equal to 500 subscribers.\n",
        "\n",
        "------------\n",
        "\n",
        "    The campaign would lead to less than or equal to 500 subscribers.\n",
        "\n",
        "    ✓ Correct\n",
        "    Feedback:\n",
        "\n",
        "The complement of event A is essentially the negation of the given scenario. \n",
        "\n",
        "A denotes the situation where the number of subscribers is more than 500 and hence A' would denote the situation where the number of subscribers is not more than 500, \n",
        "\n",
        "    i.e., it is less than or equal to 500."
      ],
      "metadata": {
        "id": "yqnQEXxUuQGB"
      }
    },
    {
      "cell_type": "markdown",
      "source": [
        "Probability Values\n",
        "-----------\n",
        "\n",
        "Let's say Box8 has planned another similar marketing campaign called 'XYZ' in the next quarter in Bengaluru. \n",
        "\n",
        "Now the analyst has found out that the probability of the current marketing campaign \"ABC\" to get more than 500 subscribers is 0.9. \n",
        "\n",
        "Is it possible to calculate the probability that the \"XYZ\" campaign in Bengaluru would also get more than 500 subscribers based on this value of 0.9?\n",
        "\n",
        "    No\n",
        "\n",
        "    Yes\n",
        "\n",
        "-------------\n",
        "\n",
        "    No\n",
        "\n",
        "    ✓ Correct\n",
        "    Feedback:\n",
        "\n",
        "Observe that both the events in question are independent in nature. \n",
        "\n",
        "Hence, you can't predict one's probability based on the other event. \n",
        "\n",
        "    Therefore the answer is No."
      ],
      "metadata": {
        "id": "AogDYfOKupES"
      }
    },
    {
      "cell_type": "markdown",
      "source": [
        "Addition rule\n",
        "------------\n",
        "\n",
        "A and B are two candidates applying for the job role of an analyst at a leading analytics firm in Delhi. \n",
        "\n",
        "They have cleared all the previous rounds and are now set for the final interview after which only one of them will be selected for the job. \n",
        "\n",
        "Candidate A has a probability of 0.3 of getting the job and candidate B has a probability of 0.25 of getting the job. \n",
        "\n",
        "Now, what is the probability that one of the two gets the job?\n",
        "\n",
        "    0.40\n",
        "\n",
        "    0.45\n",
        "\n",
        "    0.55\n",
        "\n",
        "    0.75\n",
        "\n",
        "-------------\n",
        "\n",
        "    0.55\n",
        "\n",
        "    ✓ Correct\n",
        "    Feedback:\n",
        "\n",
        "Here P(A) = 0.3 and P(B) = 0.25. \n",
        "\n",
        "You need to find P(A⋃B). \n",
        "\n",
        "Also, observe that P(A) and P(B) are disjoint, i.e., both of them cannot get the job simultaneously. \n",
        "\n",
        "Now, P(A⋃B) = P(A)+P(B)-P(A⋂B). \n",
        "\n",
        "Since, the events are disjoint, P(A⋂B) = 0."
      ],
      "metadata": {
        "id": "Gr9YhVoJQnxn"
      }
    },
    {
      "cell_type": "markdown",
      "source": [
        "Probability\n",
        "----------\n",
        "\n",
        "A few cards are numbered from 1 to 20 and are mixed up. \n",
        "\n",
        "One card is then drawn at random. \n",
        "\n",
        "What is the probability that this card has a number that is a multiple of four or nine?\n",
        "\n",
        "    1/5\n",
        "\n",
        "    7/20\n",
        "\n",
        "    3/5\n",
        "\n",
        "    9/20\n",
        "\n",
        "\n",
        "\n",
        "---\n",
        "\n",
        "    7/20\n",
        "\n",
        "    ✓ Correct\n",
        "    Feedback:\n",
        "\n",
        "Yes that’s the right answer. \n",
        "\n",
        "Addition rule is to be applied, P(A⋃B) = P(A)+P(B) − P(A⋂B) where\n",
        "\n",
        "    A - Event where the number is divisible by 4\n",
        "    B -  Event where the number is divisible by 9\n",
        "\n",
        "Since there are no numbers between 1 to 20 that are divisible by both 4 and 9 \n",
        "\n",
        "    P(A⋂B) becomes 0.\n",
        "\n",
        "P(A) = 5/20 and P(B) = 2/20\n",
        "\n",
        "So the probability, \n",
        "\n",
        "    P(A⋃B) = 5/20 + 2/20 = 7/20."
      ],
      "metadata": {
        "id": "eFVs2NoIRJjr"
      }
    },
    {
      "cell_type": "markdown",
      "source": [
        "Probability\n",
        "--------\n",
        "\n",
        "If a card is chosen from a standard deck of cards, what is the probability of it being a five or a seven?\n",
        "\n",
        "    1/13\n",
        "\n",
        "    2/13\n",
        "\n",
        "    7/16\n",
        "\n",
        "    9/11\n",
        "\n",
        "----------\n",
        "\n",
        "    2/13\n",
        "\n",
        "    ✓ Correct\n",
        "    Feedback:\n",
        "\n",
        "Yes that’s the right answer. \n",
        "\n",
        "Addition rule is to be applied, P(A⋃B) = P(A)+P(B) − P(A⋂B) where\n",
        "\n",
        "    A - Event where the card contains the number five\n",
        "    B -  Event where the card contains the number seven\n",
        "\n",
        "Since there are no card that contains numbers both five and seven,\n",
        "\n",
        "    P(A⋂B) becomes 0.\n",
        "\n",
        "P(A) = 4/52 and P(B) = 4/52\n",
        "\n",
        "So the probability, \n",
        "\n",
        "    P(A⋃B) = 4/52 + 4/52 = 8/52 = 2/13\n"
      ],
      "metadata": {
        "id": "ZnFFJy48S3A1"
      }
    },
    {
      "cell_type": "code",
      "source": [
        "e, s = 4 + 4, 52\n",
        "ratio(e, s)"
      ],
      "metadata": {
        "colab": {
          "base_uri": "https://localhost:8080/",
          "height": 36
        },
        "id": "9XVdq1IiSYHq",
        "outputId": "0e4ab605-5477-4c46-dc9c-d01f7e3f33f6"
      },
      "execution_count": 40,
      "outputs": [
        {
          "output_type": "execute_result",
          "data": {
            "text/plain": [
              "'2 / 13'"
            ],
            "application/vnd.google.colaboratory.intrinsic+json": {
              "type": "string"
            }
          },
          "metadata": {},
          "execution_count": 40
        }
      ]
    },
    {
      "cell_type": "markdown",
      "source": [
        "Addition vs Multiplication\n",
        "-----------\n",
        "\n",
        "Consider the following two statements and choose the correct option.\n",
        "\n",
        "\n",
        "`Statement 1:` \n",
        "\n",
        "The probability of Rahul playing in today's match is 0.25, whereas that of Bumrah is 0.35. \n",
        "\n",
        "You need to find the probability that either of them will play in today's match.\n",
        "\n",
        "\n",
        "`Statement 2:` \n",
        "\n",
        "The probability of Rahul playing in today's match is 0.25, whereas that of Bumrah is 0.35. \n",
        "\n",
        "You need to find the probability that both of them will play in today's match.\n",
        "\n",
        "    Statement 1 uses the multiplication rule, \n",
        "    whereas statement 2 uses the addition rule to \n",
        "    find the probability that is being asked.\n",
        "\n",
        "    Statement 1 uses the addition rule, \n",
        "    whereas statement 2 uses the multiplication rule to \n",
        "    find the probability that is being asked.\n",
        "\n",
        "    Both of them use the addition rule to \n",
        "    find the probability that is being asked.\n",
        "\n",
        "    Both of them use the multiplication rule to \n",
        "    find the probability that is being asked.\n",
        "\n",
        "----------\n",
        "\n",
        "    Statement 1 uses the addition rule, whereas \n",
        "    statement 2 uses the multiplication rule to \n",
        "    find the probability that is being asked.\n",
        "\n",
        "    ✓ Correct\n",
        "    Feedback:\n",
        "\n",
        "Observe that in the first statement `either` of the events can occur. \n",
        "\n",
        "So, there is an 'OR' involved here. \n",
        "\n",
        "That is, you need to find P('Rahul' OR 'Bumrah'). \n",
        "\n",
        "In the second statement, however, both the events are occurring simultaneously.\n",
        "\n",
        "Hence, there is an 'AND' involved here, i.e., you need to find P('Rahul' AND 'Bumrah'). \n",
        "\n",
        "Therefore, in the first statement, you will be using the addition rule to find the probability, \n",
        "\n",
        "whereas in the second statement, you will use the multiplication rule."
      ],
      "metadata": {
        "id": "3iWXg-4FU-2D"
      }
    },
    {
      "cell_type": "markdown",
      "source": [
        "Addition and Multiplication Rules\n",
        "---------\n",
        "\n",
        "Now, what is the probability that either Rahul or Bumrah will play in today's match, given that their individual probabilities of playing are 0.25 and 0.35, respectively? \n",
        "\n",
        "Also, it is mentioned that both the events are not dependent on each other. \n",
        "\n",
        "    0.69\n",
        "\n",
        "    0.51\n",
        "\n",
        "    0.56\n",
        "\n",
        "    0.009\n",
        "\n",
        "---------\n",
        "\n",
        "    0.51\n",
        "\n",
        "    ✓ Correct\n",
        "    Feedback:\n",
        "\n",
        "Let 'A' denote the event that Rahul plays in the match and 'B' denote the event that Bumrah plays in the match. \n",
        "\n",
        "It is given that P(A) = 0.25 and P(B) = 0.35. \n",
        "\n",
        "    Also, it is given that A and B are independent. \n",
        "\n",
        "You need to find P(A⋃B). \n",
        "\n",
        "Now, this is given by the formula P(A⋃B) = P(A) + P(B) - P(A⋂B). \n",
        "\n",
        "    Now,\n",
        "    P(A) = 0.25\n",
        "    P(B) = 0.35\n",
        "\n",
        "P(A⋂B) = P(A and B) = P(A)*P(B) \n",
        "\n",
        "= 0.25*0.35 = 0.0875 \n",
        "\n",
        "(since A and B are independent)\n",
        "\n",
        "Therefore, the final probability is \n",
        "\n",
        "    0.25 + 0.35 - 0.0875 = 0.5125 ~ 0.51."
      ],
      "metadata": {
        "id": "xKk3BD-uY9Pw"
      }
    },
    {
      "cell_type": "markdown",
      "source": [
        "    Probability of event A or B\n",
        "\n",
        "P(A U B) = P(A) + P(B) - P(A ⋂ B)\n",
        "\n",
        "    for dependent event,\n",
        "\n",
        "P(A ⋂ B) = 0\n",
        "\n",
        "    for independent event,\n",
        "    \n",
        "P(A ⋂ B) = P(A) * P(B)"
      ],
      "metadata": {
        "id": "cxlSjpbvam1B"
      }
    },
    {
      "cell_type": "code",
      "source": [
        "0.25 + 0.35 - 0.25 * 0.35"
      ],
      "metadata": {
        "colab": {
          "base_uri": "https://localhost:8080/"
        },
        "id": "g8J8430daLvI",
        "outputId": "f7c640e2-504c-4895-a1e3-2b34afbf3ada"
      },
      "execution_count": 41,
      "outputs": [
        {
          "output_type": "execute_result",
          "data": {
            "text/plain": [
              "0.5125"
            ]
          },
          "metadata": {},
          "execution_count": 41
        }
      ]
    },
    {
      "cell_type": "markdown",
      "source": [
        "Addition and Multiplication Rules\n",
        "-----------\n",
        "\n",
        "A bag contains six balls: three black ones and three red ones. \n",
        "\n",
        "You take out a ball from the bag, note its colour and put it back in the bag. \n",
        "\n",
        "You then draw another ball from the bag and note down its colour. \n",
        "\n",
        "What is the probability that balls of the same colour were drawn twice?\n",
        "\n",
        "    1/2\n",
        "\n",
        "    1/4\n",
        "\n",
        "    1/6\n",
        "\n",
        "    9/10\n",
        "\n",
        "----------------\n",
        "\n",
        "    1/2\n",
        "\n",
        "    ✓ Correct\n",
        "    Feedback:\n",
        "\n",
        "Yes that’s the right answer. \n",
        "\n",
        "We have to use both addition and multiplication rule,\n",
        "\n",
        "P(A⋃B) = P(A) + P(B) − P(A⋂B) where\n",
        "\n",
        "    A - Event where both the balls drawn are black balls\n",
        "    B -  Event where both the balls drawn are red balls\n",
        "\n",
        "\n",
        "In this case we can observe that events are disjoint \n",
        "\n",
        "    and hence P(A⋂B) = 0\n",
        "\n",
        "Now to calculate  event A  we use multiplication rule, \n",
        "\n",
        "as both the balls have to be black, \n",
        "\n",
        "    so P(A) = P(black ball) * P(black ball) \n",
        "\n",
        "P(A) = 3/6 * 3/6 = 1/4\n",
        "\n",
        "    and P(B) = P(red ball) * P(red ball) \n",
        "\n",
        "P(B) = 3/6 * 3/6 = 1/4\n",
        "\n",
        "So the probability, P(A⋃B) \n",
        "\n",
        "    = 1/4  + 1/4 = 2/4 = 1/2"
      ],
      "metadata": {
        "id": "53jiDtGscNLl"
      }
    },
    {
      "cell_type": "code",
      "source": [
        "0.5 * 0.5 + 0.5 * 0.5 - 0"
      ],
      "metadata": {
        "colab": {
          "base_uri": "https://localhost:8080/"
        },
        "id": "2pQhDevbaYTG",
        "outputId": "5cfa5f16-217a-4192-d9d7-43b7204e068b"
      },
      "execution_count": 42,
      "outputs": [
        {
          "output_type": "execute_result",
          "data": {
            "text/plain": [
              "0.5"
            ]
          },
          "metadata": {},
          "execution_count": 42
        }
      ]
    },
    {
      "cell_type": "code",
      "source": [
        "ratio(5, 10)"
      ],
      "metadata": {
        "colab": {
          "base_uri": "https://localhost:8080/",
          "height": 36
        },
        "id": "qGt0NOt-ckrr",
        "outputId": "cbbd7658-a6e3-4dc9-98c1-16d1197fd486"
      },
      "execution_count": 43,
      "outputs": [
        {
          "output_type": "execute_result",
          "data": {
            "text/plain": [
              "'1 / 2'"
            ],
            "application/vnd.google.colaboratory.intrinsic+json": {
              "type": "string"
            }
          },
          "metadata": {},
          "execution_count": 43
        }
      ]
    },
    {
      "cell_type": "markdown",
      "source": [
        "# Practice Questions"
      ],
      "metadata": {
        "id": "SeYfjikpdTJO"
      }
    },
    {
      "cell_type": "markdown",
      "source": [
        "Permutations and Combinations\n",
        "------\n",
        "\n",
        "Given below are two statements\n",
        "\n",
        "`Statement 1:` \n",
        "\n",
        "You need to choose five bowlers from a given roster of seven bowlers for the next cricket match.\n",
        "\n",
        "`Statement 2:` \n",
        "\n",
        "You want to find the number of ways in which you can arrange your seven family members on seven seats for a family photograph.\n",
        "\n",
        "Choose the correct option:\n",
        "\n",
        "    The first statement uses permutation, \n",
        "    whereas the second statement uses combination.\n",
        "\n",
        "    Both the statements use permutation.\n",
        "\n",
        "    The first statement uses combination, \n",
        "    whereas the second statement uses permutation.\n",
        "\n",
        "    Both the statements use combinations.\n",
        "\n",
        "------------\n",
        "\n",
        "\n",
        "    The first statement uses combination, \n",
        "    whereas the second statement uses permutation.\n",
        "\n",
        "    ✓ Correct\n",
        "    Feedback:\n",
        "\n",
        "The first statement asks you to choose something, whereas the second statement asks you to order something.\n",
        "\n",
        "Hence, the first statement uses combination, whereas the second statement uses permutation."
      ],
      "metadata": {
        "id": "6Lqq4aEhdYy4"
      }
    },
    {
      "cell_type": "markdown",
      "source": [
        "Permutations and Combinations\n",
        "--------\n",
        "\n",
        "You have a list of seven letters, of which three are vowels (A, I and E) and four are consonants (B, C, D and F). \n",
        "\n",
        "You need to use these letters to make four-letter words in such a way that they should contain exactly `two vowels` from the given three `and` exactly `two consonants` from the given four. \n",
        "\n",
        "How many such words can be formed?\n",
        "\n",
        "    576\n",
        "\n",
        "    432\n",
        "\n",
        "    459\n",
        "\n",
        "    600\n",
        "\n",
        "------\n",
        "\n",
        "    432\n",
        "\n",
        "    ✓ Correct\n",
        "    Feedback:\n",
        "\n",
        "You can choose two vowels from the given three vowels in \n",
        "\n",
        "    3!/(2!*1!) = 3 ways. \n",
        "\n",
        "Similarly, you can choose two consonants from the given four consonants in \n",
        "\n",
        "    4!/(2!2!) = 6 ways. \n",
        "\n",
        "Since these two events are independent, you have 3*6 = 18 combinations of four unique letters. \n",
        "\n",
        "Now, you can arrange each of the 18 combinations in 4! ways. \n",
        "\n",
        "Thus, the total number of words that can be formed are \n",
        "\n",
        "    18*4! = 18*24 = 432."
      ],
      "metadata": {
        "id": "L2zCvgZOeEvx"
      }
    },
    {
      "cell_type": "code",
      "source": [
        "com(3, 2) * com(4, 2) * fact(4)"
      ],
      "metadata": {
        "colab": {
          "base_uri": "https://localhost:8080/"
        },
        "id": "ANQmILckdWSt",
        "outputId": "ddf6fb00-c92a-48d5-9534-7a2ca1fd9cda"
      },
      "execution_count": 44,
      "outputs": [
        {
          "output_type": "execute_result",
          "data": {
            "text/plain": [
              "432"
            ]
          },
          "metadata": {},
          "execution_count": 44
        }
      ]
    },
    {
      "cell_type": "markdown",
      "source": [
        "Properties of Probability\n",
        "-----------\n",
        "\n",
        "In a random experiment, there were a total of three outcomes. \n",
        "\n",
        "Now, the probability of the second and third outcomes came out to be twice that of the first outcome. \n",
        "\n",
        "Therefore, the sum of the probabilities of the first and second outcomes comes out to be ____.\n",
        "\n",
        "    0.4\n",
        "\n",
        "    0.6\n",
        "\n",
        "    0.9\n",
        "\n",
        "    0.76\n",
        "\n",
        "--------\n",
        "\n",
        "    0.6\n",
        "\n",
        "    ✓ Correct\n",
        "    Feedback:\n",
        "\n",
        "Let the first outcome have a probability of x. \n",
        "\n",
        "Therefore, the second and third outcomes have a probability of 2x each. \n",
        "\n",
        "Using the total sum rule of probability, we have \n",
        "\n",
        "    x + 2x + 2x = 1\n",
        "\n",
        "    5x = 1\n",
        "\n",
        "    x = 0.2\n",
        "\n",
        "Therefore, the sum of the first and second probabilities comes out to be \n",
        "\n",
        "    0.2 + 0.4 = 0.6"
      ],
      "metadata": {
        "id": "EJ5e-ppEgOcC"
      }
    },
    {
      "cell_type": "code",
      "source": [
        "# x + 2*x + 2*x = 1\n",
        "\n",
        "y = solve(x + 2*x + 2*x - 1)\n",
        "y"
      ],
      "metadata": {
        "colab": {
          "base_uri": "https://localhost:8080/"
        },
        "id": "ux2Jba4xexKZ",
        "outputId": "e65d4a67-82a8-4e6b-be5d-b04dd15f97c0"
      },
      "execution_count": 45,
      "outputs": [
        {
          "output_type": "execute_result",
          "data": {
            "text/plain": [
              "[1/5]"
            ]
          },
          "metadata": {},
          "execution_count": 45
        }
      ]
    },
    {
      "cell_type": "code",
      "source": [
        "x + 2*x"
      ],
      "metadata": {
        "colab": {
          "base_uri": "https://localhost:8080/",
          "height": 39
        },
        "id": "Z8qIqOAQhOCp",
        "outputId": "f30eac64-6c54-4c1e-ec9a-798921ca8a38"
      },
      "execution_count": 46,
      "outputs": [
        {
          "output_type": "execute_result",
          "data": {
            "text/plain": [
              "3*x"
            ],
            "text/latex": "$\\displaystyle 3 x$"
          },
          "metadata": {},
          "execution_count": 46
        }
      ]
    },
    {
      "cell_type": "code",
      "source": [
        "z = y[0] + 2*y[0]\n",
        "z"
      ],
      "metadata": {
        "colab": {
          "base_uri": "https://localhost:8080/",
          "height": 51
        },
        "id": "wqnmd_A-gp3g",
        "outputId": "78aee27f-c02a-46ad-dc90-350384b388ec"
      },
      "execution_count": 47,
      "outputs": [
        {
          "output_type": "execute_result",
          "data": {
            "text/plain": [
              "3/5"
            ],
            "text/latex": "$\\displaystyle \\frac{3}{5}$"
          },
          "metadata": {},
          "execution_count": 47
        }
      ]
    },
    {
      "cell_type": "code",
      "source": [
        "type(z)"
      ],
      "metadata": {
        "colab": {
          "base_uri": "https://localhost:8080/"
        },
        "id": "DGvkkdKghLOI",
        "outputId": "11a354e4-dacc-473d-8887-bd5efe5f10d3"
      },
      "execution_count": 48,
      "outputs": [
        {
          "output_type": "execute_result",
          "data": {
            "text/plain": [
              "sympy.core.numbers.Rational"
            ]
          },
          "metadata": {},
          "execution_count": 48
        }
      ]
    },
    {
      "cell_type": "code",
      "source": [
        "float(z)"
      ],
      "metadata": {
        "colab": {
          "base_uri": "https://localhost:8080/"
        },
        "id": "j4Qd08s3gy-f",
        "outputId": "0d3f0aa5-b1d4-4aef-edf9-432eccc97067"
      },
      "execution_count": 49,
      "outputs": [
        {
          "output_type": "execute_result",
          "data": {
            "text/plain": [
              "0.6"
            ]
          },
          "metadata": {},
          "execution_count": 49
        }
      ]
    },
    {
      "cell_type": "markdown",
      "source": [
        "Rules of Probability\n",
        "-------------\n",
        "\n",
        "A college has been offering two finance programs, AGFM and BGFM, to its students for the last five years. \n",
        "\n",
        "From past historical data, it has been found that the probability of a student joining the AGFM program is 0.4 and the probability of a student joining the BGFM program is 0.475. \n",
        "\n",
        "Now, if a student joins one program, he/she cannot obviously enrol for the next program. \n",
        "\n",
        "So, what is the probability that a student enrols in either of the programs?\n",
        "\n",
        "    0.625\n",
        "\n",
        "    0.875\n",
        "\n",
        "    0.568\n",
        "\n",
        "    0.889\n",
        "\n",
        "-------------\n",
        "\n",
        "    0.875\n",
        "\n",
        "    ✓ Correct\n",
        "    Feedback:\n",
        "\n",
        "Note that we are calculating P(AGFM or BGFM). \n",
        "\n",
        "Hence, we are going to use the addition rule of probability. \n",
        "\n",
        "Now, it is given that \n",
        "\n",
        "    P(AGFM) = 0.4 and P(BGFM) = 0.475\n",
        "\n",
        "Also, it has been mentioned that both the enrolment events are `disjoint`.\n",
        "\n",
        "    Therefore, P(AGFM and BGFM) = 0. \n",
        "\n",
        "Therefore, by the addition rule, we have \n",
        "\n",
        "    P(AGFM or BGFM) = 0.4 + 0.475 = 0.875"
      ],
      "metadata": {
        "id": "JcALl2_2iLZq"
      }
    },
    {
      "cell_type": "markdown",
      "source": [
        "Probability\n",
        "--------\n",
        "\n",
        "A jar contains four marbles: three red ones and one white one. \n",
        "\n",
        "Two marbles are drawn but are replaced after each draw. \n",
        "\n",
        "What is the probability that marbles of the same colour are drawn twice?\n",
        "\n",
        "    5/8\n",
        "\n",
        "    1/2\n",
        "\n",
        "    1/3\n",
        "\n",
        "    4/5\n",
        "\n",
        "-------------\n",
        "\n",
        "    5/8\n",
        "\n",
        "    ✓ Correct\n",
        "    Feedback:\n",
        "\n",
        "Yes that’s the right answer. Addition rule is to be applied, \n",
        "\n",
        "    P(A⋃B) = P(A)+P(B) − P(A⋂B) where\n",
        "\n",
        "    A - Event where both the marbles drawn are red marbles\n",
        "    B -  Event where both the marbles drawn are white marbles\n",
        "\n",
        "In this case we can observe that events are disjoint \n",
        "\n",
        "    and hence P(A⋂B) = 0\n",
        "\n",
        "Now to calculate event A we use the multiplication rule, \n",
        "\n",
        "as both the marbles have to be red , \n",
        "\n",
        "    so P(A) = P(red marble) * P(red marble) \n",
        "\n",
        "P(A) = 3/4 * 3/4 = 9/16\n",
        "\n",
        "    and P(B) = P(white marble) * P(white marble) \n",
        "\n",
        "P(B) = 1/4 * 1/4 = 1/16\n",
        "\n",
        "So the probability, \n",
        "\n",
        "    P(A⋃B) = 9/16  + 1/16 = 5/8."
      ],
      "metadata": {
        "id": "Xfexj2Sjjg7X"
      }
    },
    {
      "cell_type": "code",
      "source": [
        "z = Fraction(3/4 * 3/4) + Fraction(1/4 * 1/4)\n",
        "str(z)"
      ],
      "metadata": {
        "colab": {
          "base_uri": "https://localhost:8080/",
          "height": 36
        },
        "id": "L_UBp37tk-VS",
        "outputId": "a152ad2f-fd21-4704-86c0-8211098f2059"
      },
      "execution_count": 55,
      "outputs": [
        {
          "output_type": "execute_result",
          "data": {
            "text/plain": [
              "'5/8'"
            ],
            "application/vnd.google.colaboratory.intrinsic+json": {
              "type": "string"
            }
          },
          "metadata": {},
          "execution_count": 55
        }
      ]
    },
    {
      "cell_type": "code",
      "source": [
        "dec_rat(3/4 * 3/4 + 1/4 * 1/4)"
      ],
      "metadata": {
        "colab": {
          "base_uri": "https://localhost:8080/",
          "height": 36
        },
        "id": "7aPifx9T9lYa",
        "outputId": "4b6e462c-47af-45f0-a00b-6e0c4f4b73f4"
      },
      "execution_count": 54,
      "outputs": [
        {
          "output_type": "execute_result",
          "data": {
            "text/plain": [
              "'5 / 8'"
            ],
            "application/vnd.google.colaboratory.intrinsic+json": {
              "type": "string"
            }
          },
          "metadata": {},
          "execution_count": 54
        }
      ]
    },
    {
      "cell_type": "markdown",
      "source": [
        "Probability\n",
        "-----------\n",
        "\n",
        "A number is selected at random from the first thirty natural numbers. \n",
        "\n",
        "What is the chance that it is a multiple of either three or thirteen?\n",
        "\n",
        "    2/5\n",
        "\n",
        "    1/4\n",
        "\n",
        "    6/7\n",
        "\n",
        "    11/18\n",
        "\n",
        "-------\n",
        "\n",
        "    2/5\n",
        "\n",
        "    ✓ Correct\n",
        "    Feedback:\n",
        "\n",
        "Yes that’s the right answer. \n",
        "\n",
        "Addition rule is to be applied, \n",
        "\n",
        "    P(A⋃B) = P(A)+P(B) − P(A⋂B) where\n",
        "\n",
        "    A - Event where the number is divisible by 3\n",
        "    B -  Event where the number is divisible by 13\n",
        "\n",
        "Since there are no numbers between 1 to 30 that are divisible by both 3 and 13 \n",
        "\n",
        "    P(A⋂B) becomes 0.\n",
        "\n",
        "P(A) = 10/30 and \n",
        "\n",
        "P(B) = 2/30\n",
        "\n",
        "So the probability, \n",
        "\n",
        "    P(A⋃B) = 10/30 + 2/30 = 2/5."
      ],
      "metadata": {
        "id": "BN7iES9e_WN6"
      }
    },
    {
      "cell_type": "code",
      "source": [
        "e = 30//3\n",
        "s = 30//13\n",
        "\n",
        "e, s"
      ],
      "metadata": {
        "colab": {
          "base_uri": "https://localhost:8080/"
        },
        "id": "NLUGjnjL_EU4",
        "outputId": "bd7c712b-2101-4571-8b36-335348031301"
      },
      "execution_count": 63,
      "outputs": [
        {
          "output_type": "execute_result",
          "data": {
            "text/plain": [
              "(10, 2)"
            ]
          },
          "metadata": {},
          "execution_count": 63
        }
      ]
    },
    {
      "cell_type": "code",
      "source": [
        "ratio(e + s, 30)"
      ],
      "metadata": {
        "colab": {
          "base_uri": "https://localhost:8080/",
          "height": 36
        },
        "id": "6x-LC74y_4eP",
        "outputId": "fa0dfe64-ea79-44cf-e525-4c9eb8c31522"
      },
      "execution_count": 64,
      "outputs": [
        {
          "output_type": "execute_result",
          "data": {
            "text/plain": [
              "'2 / 5'"
            ],
            "application/vnd.google.colaboratory.intrinsic+json": {
              "type": "string"
            }
          },
          "metadata": {},
          "execution_count": 64
        }
      ]
    },
    {
      "cell_type": "markdown",
      "source": [
        "Probability\n",
        "------------\n",
        "\n",
        "In a throw of dice, what is the probability of getting a number greater than five?\n",
        "\n",
        "    5/6\n",
        "\n",
        "    1/3\n",
        "\n",
        "    1/6\n",
        "\n",
        "    1/2\n",
        "\n",
        "------------\n",
        "\n",
        "    1/6\n",
        "\n",
        "    ✓ Correct\n",
        "    Feedback:\n",
        "\n",
        "Yes that's the correct answer. \n",
        "\n",
        "The number of favourable outcomes is one. \n",
        "\n",
        "As six is the only number greater than five, \n",
        "\n",
        "and the total number of outcomes are six (1,2,3,4,5,6) \n",
        "\n",
        "    so the probability becomes 1/6."
      ],
      "metadata": {
        "id": "6zL-5ApxBbdD"
      }
    },
    {
      "cell_type": "code",
      "source": [
        "ratio(1, 6)"
      ],
      "metadata": {
        "colab": {
          "base_uri": "https://localhost:8080/",
          "height": 36
        },
        "id": "2d1oGysBBN5y",
        "outputId": "5212e797-7162-4b4e-96cb-c6b7209d5725"
      },
      "execution_count": 66,
      "outputs": [
        {
          "output_type": "execute_result",
          "data": {
            "text/plain": [
              "'1 / 6'"
            ],
            "application/vnd.google.colaboratory.intrinsic+json": {
              "type": "string"
            }
          },
          "metadata": {},
          "execution_count": 66
        }
      ]
    },
    {
      "cell_type": "markdown",
      "source": [
        "Probability\n",
        "------------\n",
        "\n",
        "A bag contains `seven red` balls and `eleven green` balls. \n",
        "\n",
        "If a ball is drawn out at random from it, what is the probability that it is red?\n",
        "\n",
        "    7/18\n",
        "\n",
        "    4/11\n",
        "\n",
        "    3/7\n",
        "\n",
        "    11/18\n",
        "\n",
        "------\n",
        "\n",
        "    7/18\n",
        "\n",
        "    ✓ Correct\n",
        "    Feedback:\n",
        "\n",
        "Yes that’s the right answer. \n",
        "\n",
        "The total number of favourable outcomes is the total number of red balls which is 7 and \n",
        "\n",
        "the total number of outcomes is 18 (7 red + 11 green balls). \n",
        "\n",
        "    Thus, P = 7/18."
      ],
      "metadata": {
        "id": "vvn-3o4qCb0Z"
      }
    },
    {
      "cell_type": "code",
      "source": [
        "ratio(7, 7 + 11)"
      ],
      "metadata": {
        "colab": {
          "base_uri": "https://localhost:8080/",
          "height": 36
        },
        "id": "qw3fIS68B9_E",
        "outputId": "ecf94d46-dd2f-4666-e49a-a36f6596d1b3"
      },
      "execution_count": 70,
      "outputs": [
        {
          "output_type": "execute_result",
          "data": {
            "text/plain": [
              "'7 / 18'"
            ],
            "application/vnd.google.colaboratory.intrinsic+json": {
              "type": "string"
            }
          },
          "metadata": {},
          "execution_count": 70
        }
      ]
    },
    {
      "cell_type": "code",
      "source": [],
      "metadata": {
        "id": "9KGZAJ-CCwd5"
      },
      "execution_count": null,
      "outputs": []
    }
  ]
}