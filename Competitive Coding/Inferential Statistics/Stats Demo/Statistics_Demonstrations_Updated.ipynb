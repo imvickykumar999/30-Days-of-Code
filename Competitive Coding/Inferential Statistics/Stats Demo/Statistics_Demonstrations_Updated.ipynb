{
  "cells": [
    {
      "cell_type": "markdown",
      "metadata": {
        "id": "nW0kbOxKUrRn"
      },
      "source": [
        "## Statistics Demonstrations\n",
        "\n",
        "https://jovian.com/ashutoshgole18/module-8-inferential-statistics/v/11#C212"
      ]
    },
    {
      "cell_type": "markdown",
      "metadata": {
        "id": "tEh7CiZRUrR1"
      },
      "source": [
        "- Distributions (Binomial and Normal)\n",
        "- Random Numbers\n",
        "- Combinations"
      ]
    },
    {
      "cell_type": "code",
      "execution_count": 1,
      "metadata": {
        "id": "RuhSo0l_UrR3"
      },
      "outputs": [],
      "source": [
        "#Importing the libraries\n",
        "import numpy as np\n",
        "#Introducing the scipy.stats library\n",
        "import scipy.stats as ss"
      ]
    },
    {
      "cell_type": "markdown",
      "metadata": {
        "id": "i_Bnf9-6UrR6"
      },
      "source": [
        "### Distributions"
      ]
    },
    {
      "cell_type": "markdown",
      "metadata": {
        "id": "772PruhyUrR7"
      },
      "source": [
        "##### 1. Binomial Distribution"
      ]
    },
    {
      "cell_type": "markdown",
      "metadata": {
        "id": "ZGLdygHwUrR8"
      },
      "source": [
        "A `binomial distribution` is utilised when the following conditions are met"
      ]
    },
    {
      "cell_type": "markdown",
      "metadata": {
        "id": "NAEH4p8fUrR9"
      },
      "source": [
        "- Total number of trials is fixed at **n**\n",
        "\n",
        "- Each trial is binary, i.e., has only two possible outcomes - success or failure\n",
        "\n",
        "- Probability of success is same in all trials, denoted by **p**"
      ]
    },
    {
      "cell_type": "markdown",
      "metadata": {
        "id": "_16fXNcyUrR_"
      },
      "source": [
        "Now if you want to find the probability of **r** successes or `P(X = r)`, then you can use the following formula"
      ]
    },
    {
      "cell_type": "markdown",
      "metadata": {
        "id": "fYp9-eEOUrSB"
      },
      "source": [
        "![Binomial Probability Formula](https://github.com/imvickykumar999/GitHub-Drive/blob/main/images/binom.JPG?raw=true)"
      ]
    },
    {
      "cell_type": "code",
      "execution_count": 2,
      "metadata": {
        "id": "rgtLTE34UrSD"
      },
      "outputs": [],
      "source": [
        "#Calculating probabilites\n",
        "#P (X = r)\n",
        "n = 10\n",
        "p = 0.4\n",
        "r = 4"
      ]
    },
    {
      "cell_type": "code",
      "execution_count": 3,
      "metadata": {
        "colab": {
          "base_uri": "https://localhost:8080/"
        },
        "id": "r7HIGpPWUrSE",
        "outputId": "a929f72c-024e-4f08-855a-1738c61de924"
      },
      "outputs": [
        {
          "output_type": "stream",
          "name": "stdout",
          "text": [
            "Help on method pmf in module scipy.stats._distn_infrastructure:\n",
            "\n",
            "pmf(k, *args, **kwds) method of scipy.stats._discrete_distns.binom_gen instance\n",
            "    Probability mass function at k of the given RV.\n",
            "    \n",
            "    Parameters\n",
            "    ----------\n",
            "    k : array_like\n",
            "        Quantiles.\n",
            "    arg1, arg2, arg3,... : array_like\n",
            "        The shape parameter(s) for the distribution (see docstring of the\n",
            "        instance object for more information)\n",
            "    loc : array_like, optional\n",
            "        Location parameter (default=0).\n",
            "    \n",
            "    Returns\n",
            "    -------\n",
            "    pmf : array_like\n",
            "        Probability mass function evaluated at k\n",
            "\n"
          ]
        }
      ],
      "source": [
        "#To calculate the probability we'll use the binom.pmf\n",
        "# ?ss.binom.pmf\n",
        "\n",
        "help(ss.binom.pmf)"
      ]
    },
    {
      "cell_type": "code",
      "execution_count": 4,
      "metadata": {
        "colab": {
          "base_uri": "https://localhost:8080/"
        },
        "id": "yemfrkMeUrSE",
        "outputId": "44879a83-b927-4a30-9940-235bd411bb07"
      },
      "outputs": [
        {
          "output_type": "execute_result",
          "data": {
            "text/plain": [
              "0.25082265599999987"
            ]
          },
          "metadata": {},
          "execution_count": 4
        }
      ],
      "source": [
        "ss.binom.pmf(r,n,p)"
      ]
    },
    {
      "cell_type": "code",
      "execution_count": 5,
      "metadata": {
        "id": "WL9Ir4uOUrSG",
        "outputId": "f7fe2d41-e894-4235-dabb-8211b0b9b67e",
        "colab": {
          "base_uri": "https://localhost:8080/"
        }
      },
      "outputs": [
        {
          "output_type": "execute_result",
          "data": {
            "text/plain": [
              "0.251"
            ]
          },
          "metadata": {},
          "execution_count": 5
        }
      ],
      "source": [
        "#round the values\n",
        "np.round(ss.binom.pmf(r,n,p),3)"
      ]
    },
    {
      "cell_type": "code",
      "execution_count": 6,
      "metadata": {
        "id": "-AxFUc00UrSJ"
      },
      "outputs": [],
      "source": [
        "#Calculating Probabilites\n",
        "# P(X < = r)\n",
        "#Use the binom.cdf function\n",
        "?ss.binom.cdf"
      ]
    },
    {
      "cell_type": "code",
      "execution_count": 7,
      "metadata": {
        "id": "PE6-SZ78UrSK",
        "outputId": "66d7b146-6b29-4c89-f5f8-2ce23ce4c35f",
        "colab": {
          "base_uri": "https://localhost:8080/"
        }
      },
      "outputs": [
        {
          "output_type": "execute_result",
          "data": {
            "text/plain": [
              "0.633"
            ]
          },
          "metadata": {},
          "execution_count": 7
        }
      ],
      "source": [
        "#Calculating the probabilities\n",
        "np.round(ss.binom.cdf(r,n,p),3)"
      ]
    },
    {
      "cell_type": "markdown",
      "metadata": {
        "id": "jLWesB2sUrSM"
      },
      "source": [
        "###### 2. Normal Distribution"
      ]
    },
    {
      "cell_type": "markdown",
      "metadata": {
        "id": "G0rYPMe7UrSM"
      },
      "source": [
        "![Normal Distribution](https://github.com/imvickykumar999/GitHub-Drive/blob/main/images/normd.jpg?raw=true)"
      ]
    },
    {
      "cell_type": "markdown",
      "metadata": {
        "id": "JLfsM6s1UrSM"
      },
      "source": [
        "Let's say you're given a normal distribution with\n",
        "\n",
        "- mean = M\n",
        "- standard deviation = sd\n",
        "\n",
        "Now you are given a value **x** and you want to compute P(X<=**x**)"
      ]
    },
    {
      "cell_type": "code",
      "execution_count": 8,
      "metadata": {
        "id": "iE9vpeSdUrSN"
      },
      "outputs": [],
      "source": [
        "M = 60\n",
        "sd = 10\n",
        "x = 40"
      ]
    },
    {
      "cell_type": "code",
      "execution_count": 9,
      "metadata": {
        "id": "2lrPkRwVUrSN"
      },
      "outputs": [],
      "source": [
        "#To compute P(X<=x) we use the ss.norm.cdf function\n",
        "?ss.norm.cdf"
      ]
    },
    {
      "cell_type": "code",
      "execution_count": 10,
      "metadata": {
        "id": "9Ov-Zue1UrSO",
        "outputId": "e20eabdf-f462-4f6e-bab6-210a3145cf03",
        "colab": {
          "base_uri": "https://localhost:8080/"
        }
      },
      "outputs": [
        {
          "output_type": "execute_result",
          "data": {
            "text/plain": [
              "0.022750131948179195"
            ]
          },
          "metadata": {},
          "execution_count": 10
        }
      ],
      "source": [
        "ss.norm.cdf(x,M,sd)"
      ]
    },
    {
      "cell_type": "code",
      "execution_count": 11,
      "metadata": {
        "id": "fUZbVoDOUrSP",
        "outputId": "af3bc8de-acd7-477c-f753-e963a38457ad",
        "colab": {
          "base_uri": "https://localhost:8080/"
        }
      },
      "outputs": [
        {
          "output_type": "execute_result",
          "data": {
            "text/plain": [
              "0.022750131948179195"
            ]
          },
          "metadata": {},
          "execution_count": 11
        }
      ],
      "source": [
        "ss.norm(60,10).cdf(40)"
      ]
    },
    {
      "cell_type": "code",
      "execution_count": 12,
      "metadata": {
        "id": "zKP7wLDuUrSQ",
        "outputId": "b31b5fd0-0bf0-41c3-9b8e-386aa396c895",
        "colab": {
          "base_uri": "https://localhost:8080/"
        }
      },
      "outputs": [
        {
          "output_type": "execute_result",
          "data": {
            "text/plain": [
              "0.9544997361036416"
            ]
          },
          "metadata": {},
          "execution_count": 12
        }
      ],
      "source": [
        "ss.norm.cdf(80,60,10) - ss.norm.cdf(40,60,10)"
      ]
    },
    {
      "cell_type": "markdown",
      "metadata": {
        "id": "TC5IuHAyUrSQ"
      },
      "source": [
        "### Random Numbers"
      ]
    },
    {
      "cell_type": "code",
      "execution_count": 13,
      "metadata": {
        "id": "oFyMde0RUrSR"
      },
      "outputs": [],
      "source": [
        "#Generate random numbers belonging to a particular distribution"
      ]
    },
    {
      "cell_type": "code",
      "execution_count": 14,
      "metadata": {
        "id": "XbpOF1-EUrSR"
      },
      "outputs": [],
      "source": [
        "?np.random"
      ]
    },
    {
      "cell_type": "markdown",
      "metadata": {
        "id": "7lCBQm-ZUrSR"
      },
      "source": [
        "##### 1. Binomial Distribution"
      ]
    },
    {
      "cell_type": "markdown",
      "metadata": {
        "id": "hGXTCk6mUrSR"
      },
      "source": [
        "For binomial distribution, given the value of **n** (the number of trials) and **p** ( the probability of success for each trial) we can generate random sequence of  possible number of successes **r** when we run this experiment multiple times."
      ]
    },
    {
      "cell_type": "code",
      "execution_count": 15,
      "metadata": {
        "id": "yq5O3SaBUrSS"
      },
      "outputs": [],
      "source": [
        "?np.random.binomial"
      ]
    },
    {
      "cell_type": "code",
      "execution_count": 16,
      "metadata": {
        "id": "Au3Ef6KXUrSS"
      },
      "outputs": [],
      "source": [
        "#Generate 10 random numbers from the binomial distribution with n = 10 and p = 0.4\n",
        "n = 10\n",
        "p = 0.4\n",
        "size = 10"
      ]
    },
    {
      "cell_type": "code",
      "execution_count": 17,
      "metadata": {
        "scrolled": true,
        "id": "hvRX0uDwUrSS",
        "outputId": "4833f3e9-2aa7-46bd-e6cb-961ce9fd218d",
        "colab": {
          "base_uri": "https://localhost:8080/"
        }
      },
      "outputs": [
        {
          "output_type": "execute_result",
          "data": {
            "text/plain": [
              "array([4, 6, 4, 3, 5, 5, 6, 5, 4, 6])"
            ]
          },
          "metadata": {},
          "execution_count": 17
        }
      ],
      "source": [
        "#We'll use np.random.binomial\n",
        "np.random.binomial(n,p,size)"
      ]
    },
    {
      "cell_type": "markdown",
      "metadata": {
        "id": "4-DTsDQdUrSS"
      },
      "source": [
        "###### 2. Normal Distribution"
      ]
    },
    {
      "cell_type": "markdown",
      "metadata": {
        "id": "66bdYomJUrST"
      },
      "source": [
        "For normal distribution, given the value of mean (**M**) and standard deviation (**sd**) we can generate random sequence of values belonging to this distribution"
      ]
    },
    {
      "cell_type": "code",
      "execution_count": 18,
      "metadata": {
        "id": "nC79uO18UrST"
      },
      "outputs": [],
      "source": [
        "?np.random.normal"
      ]
    },
    {
      "cell_type": "code",
      "execution_count": 19,
      "metadata": {
        "id": "dAsKCYaVUrST"
      },
      "outputs": [],
      "source": [
        "#Generate 10 random numbers from the normal distribution with M = 60 and sd = 10\n",
        "M = 60\n",
        "sd  = 10"
      ]
    },
    {
      "cell_type": "code",
      "execution_count": 20,
      "metadata": {
        "scrolled": true,
        "id": "tu_EjZbzUrSU",
        "outputId": "ae4b8a5b-2e21-4617-f35c-0605248d3ca6",
        "colab": {
          "base_uri": "https://localhost:8080/"
        }
      },
      "outputs": [
        {
          "output_type": "execute_result",
          "data": {
            "text/plain": [
              "array([67.02186976, 60.86012496, 57.62198677, 58.73471379, 77.24533408,\n",
              "       44.13004597, 56.45634152, 59.19033407, 68.53643742, 68.44313413])"
            ]
          },
          "metadata": {},
          "execution_count": 20
        }
      ],
      "source": [
        "np.random.normal(M,sd,10)"
      ]
    },
    {
      "cell_type": "markdown",
      "metadata": {
        "id": "7v_0u9IlUrSU"
      },
      "source": [
        "###### Seed"
      ]
    },
    {
      "cell_type": "markdown",
      "metadata": {
        "id": "64ZDd0_rUrSU"
      },
      "source": [
        "In order to fix the output we can set the `seed` value"
      ]
    },
    {
      "cell_type": "code",
      "execution_count": 21,
      "metadata": {
        "id": "X5PKWNbOUrSU"
      },
      "outputs": [],
      "source": [
        "?np.random.seed"
      ]
    },
    {
      "cell_type": "code",
      "execution_count": 22,
      "metadata": {
        "id": "Iyh0HCUNUrSW"
      },
      "outputs": [],
      "source": [
        "seed = 100\n",
        "np.random.seed(seed)"
      ]
    },
    {
      "cell_type": "code",
      "execution_count": 23,
      "metadata": {
        "scrolled": true,
        "id": "U-NOtJ2FUrSW",
        "outputId": "4a276123-a246-40f5-d6c3-4da2c148ce87",
        "colab": {
          "base_uri": "https://localhost:8080/"
        }
      },
      "outputs": [
        {
          "output_type": "execute_result",
          "data": {
            "text/plain": [
              "array([42.50234527, 63.42680403, 71.53035803, 57.47563963, 69.81320787,\n",
              "       65.14218841, 62.21179669, 49.29956669, 58.10504169, 62.55001444])"
            ]
          },
          "metadata": {},
          "execution_count": 23
        }
      ],
      "source": [
        "np.random.normal(M,sd,10)"
      ]
    },
    {
      "cell_type": "code",
      "execution_count": 24,
      "metadata": {
        "id": "uYn5Ej5-UrSW",
        "outputId": "e9194361-c19d-41a2-bf69-c4b7eb3389ab",
        "colab": {
          "base_uri": "https://localhost:8080/"
        }
      },
      "outputs": [
        {
          "output_type": "execute_result",
          "data": {
            "text/plain": [
              "array([55.41973014, 64.35163488, 54.1640495 , 68.16847072, 66.72720806,\n",
              "       58.95588857, 54.68719623, 70.29732685, 55.61864377, 48.81681754])"
            ]
          },
          "metadata": {},
          "execution_count": 24
        }
      ],
      "source": [
        "np.random.normal(M,sd,10)"
      ]
    },
    {
      "cell_type": "markdown",
      "metadata": {
        "id": "4eq6VC2HUrSX"
      },
      "source": [
        "The seed has to be initialised each time you run the code to get the same output"
      ]
    },
    {
      "cell_type": "markdown",
      "metadata": {
        "id": "eP1ezh4nUrSY"
      },
      "source": [
        "### Combinations"
      ]
    },
    {
      "cell_type": "markdown",
      "metadata": {
        "id": "IPWVepW5UrSZ"
      },
      "source": [
        "Given a list containing **n** number of objects, we can find all the combinations of size **r**"
      ]
    },
    {
      "cell_type": "code",
      "execution_count": 25,
      "metadata": {
        "id": "WqKmFgvLUrSZ"
      },
      "outputs": [],
      "source": [
        "from itertools import combinations"
      ]
    },
    {
      "cell_type": "code",
      "execution_count": 26,
      "metadata": {
        "id": "pboKypH_UrSZ"
      },
      "outputs": [],
      "source": [
        "?combinations"
      ]
    },
    {
      "cell_type": "code",
      "execution_count": 27,
      "metadata": {
        "id": "9SjwE4ZVUrSZ"
      },
      "outputs": [],
      "source": [
        "alpha = 'ABCD'"
      ]
    },
    {
      "cell_type": "code",
      "execution_count": 28,
      "metadata": {
        "id": "ZBUZy056UrSa"
      },
      "outputs": [],
      "source": [
        "p = combinations(alpha,2)"
      ]
    },
    {
      "cell_type": "code",
      "execution_count": 29,
      "metadata": {
        "id": "XosrtduYUrSa",
        "outputId": "5f1d597b-7e9d-4717-b636-3f6f0704c969",
        "colab": {
          "base_uri": "https://localhost:8080/"
        }
      },
      "outputs": [
        {
          "output_type": "execute_result",
          "data": {
            "text/plain": [
              "<itertools.combinations at 0x7f97d0ee1bc0>"
            ]
          },
          "metadata": {},
          "execution_count": 29
        }
      ],
      "source": [
        "p"
      ]
    },
    {
      "cell_type": "code",
      "execution_count": 30,
      "metadata": {
        "id": "AgYtPmogUrSa",
        "outputId": "6ee470ed-f19c-4a06-bc8a-168f6332fa56",
        "colab": {
          "base_uri": "https://localhost:8080/"
        }
      },
      "outputs": [
        {
          "output_type": "execute_result",
          "data": {
            "text/plain": [
              "[('A', 'B'), ('A', 'C'), ('A', 'D'), ('B', 'C'), ('B', 'D'), ('C', 'D')]"
            ]
          },
          "metadata": {},
          "execution_count": 30
        }
      ],
      "source": [
        "#To print the combinations\n",
        "list(p)"
      ]
    },
    {
      "cell_type": "code",
      "execution_count": 31,
      "metadata": {
        "id": "-spUk_jlUrSb"
      },
      "outputs": [],
      "source": [
        "alpha = ['A','B','C','D']"
      ]
    },
    {
      "cell_type": "code",
      "execution_count": 32,
      "metadata": {
        "id": "n-Lw7FwhUrSb"
      },
      "outputs": [],
      "source": [
        "p = combinations(alpha,2)"
      ]
    },
    {
      "cell_type": "code",
      "execution_count": 33,
      "metadata": {
        "id": "Mxu6FR-nUrSc",
        "outputId": "ed2101f5-d568-4ffe-b2db-3f5bb23b8342",
        "colab": {
          "base_uri": "https://localhost:8080/"
        }
      },
      "outputs": [
        {
          "output_type": "execute_result",
          "data": {
            "text/plain": [
              "[('A', 'B'), ('A', 'C'), ('A', 'D'), ('B', 'C'), ('B', 'D'), ('C', 'D')]"
            ]
          },
          "metadata": {},
          "execution_count": 33
        }
      ],
      "source": [
        "list(p)"
      ]
    },
    {
      "cell_type": "code",
      "execution_count": 34,
      "metadata": {
        "scrolled": false,
        "id": "cG2E7s1XUrSc",
        "outputId": "e782aa1c-fd41-44fb-c7aa-dbc14e4077e6",
        "colab": {
          "base_uri": "https://localhost:8080/"
        }
      },
      "outputs": [
        {
          "output_type": "execute_result",
          "data": {
            "text/plain": [
              "[1, 2, 3]"
            ]
          },
          "metadata": {},
          "execution_count": 34
        }
      ],
      "source": [
        "num = [1,2,3]\n",
        "num"
      ]
    },
    {
      "cell_type": "code",
      "execution_count": 35,
      "metadata": {
        "id": "f47JvhrpUrSd",
        "outputId": "19736bb9-63b2-41fa-b4ac-d43acac778e2",
        "colab": {
          "base_uri": "https://localhost:8080/"
        }
      },
      "outputs": [
        {
          "output_type": "execute_result",
          "data": {
            "text/plain": [
              "[(1, 2), (1, 3), (2, 3)]"
            ]
          },
          "metadata": {},
          "execution_count": 35
        }
      ],
      "source": [
        "list(combinations(num,2))"
      ]
    },
    {
      "cell_type": "code",
      "execution_count": 36,
      "metadata": {
        "id": "XNAL1OW2UrSd",
        "outputId": "2a67b4fb-db28-4468-a963-2604de0c5b95",
        "colab": {
          "base_uri": "https://localhost:8080/"
        }
      },
      "outputs": [
        {
          "output_type": "stream",
          "name": "stdout",
          "text": [
            "(1, 2)\n",
            "(2, 3)\n"
          ]
        }
      ],
      "source": [
        "for c in combinations(num,2):\n",
        "    if 2 in c:\n",
        "        print(c)"
      ]
    },
    {
      "cell_type": "code",
      "execution_count": 37,
      "metadata": {
        "id": "qJ51jTQ_UrSe",
        "outputId": "87ef72cd-b34f-4740-f91d-dbde000b6044",
        "colab": {
          "base_uri": "https://localhost:8080/"
        }
      },
      "outputs": [
        {
          "output_type": "stream",
          "name": "stdout",
          "text": [
            "('A', 'B')\n",
            "('A', 'C')\n",
            "('A', 'D')\n"
          ]
        }
      ],
      "source": [
        "for c in combinations(alpha,2):\n",
        "    if 'A' in c:\n",
        "        print(c)"
      ]
    },
    {
      "cell_type": "code",
      "execution_count": 37,
      "metadata": {
        "id": "Ko7ylWm1UrSf"
      },
      "outputs": [],
      "source": []
    }
  ],
  "metadata": {
    "kernelspec": {
      "display_name": "Python 3",
      "language": "python",
      "name": "python3"
    },
    "language_info": {
      "codemirror_mode": {
        "name": "ipython",
        "version": 3
      },
      "file_extension": ".py",
      "mimetype": "text/x-python",
      "name": "python",
      "nbconvert_exporter": "python",
      "pygments_lexer": "ipython3",
      "version": "3.7.3"
    },
    "colab": {
      "provenance": []
    }
  },
  "nbformat": 4,
  "nbformat_minor": 0
}