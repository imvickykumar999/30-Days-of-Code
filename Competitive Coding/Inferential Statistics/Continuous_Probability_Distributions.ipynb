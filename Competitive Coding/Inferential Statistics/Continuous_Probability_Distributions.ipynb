{
  "nbformat": 4,
  "nbformat_minor": 0,
  "metadata": {
    "colab": {
      "provenance": []
    },
    "kernelspec": {
      "name": "python3",
      "display_name": "Python 3"
    },
    "language_info": {
      "name": "python"
    }
  },
  "cells": [
    {
      "cell_type": "markdown",
      "source": [
        "# Probability Density Functions - I"
      ],
      "metadata": {
        "id": "pX5VsmXyDdYU"
      }
    },
    {
      "cell_type": "markdown",
      "source": [
        "Employee Commute Time\n",
        "----------\n",
        "\n",
        "What would be the approximate probability that an employee’s daily commute time to work is exactly 35 minutes?\n",
        "\n",
        "[You’re not expected to know the right answer at this point. This question is given just to get you thinking in the right direction.]\n",
        "\n",
        "    Approximately 0%\n",
        "\n",
        "    Approximately (35/30)%\n",
        "\n",
        "    Insufficient information — I need the probability distribution\n",
        "\n",
        "------------\n",
        "\n",
        "    Approximately 0%\n",
        "\n",
        "    ✓ Correct\n",
        "    Feedback:\n",
        "\n",
        "Since time is a continuous variable, the number of possible values is endless. \n",
        "\n",
        "An employee could have a commute time equal to 34.99, 35 or 35.01 minutes. \n",
        "\n",
        "So, there will be at most 1 or 2 employees with a commute time of 35 minutes, resulting in a very low probability."
      ],
      "metadata": {
        "id": "RWCEgHyIIL3d"
      }
    },
    {
      "cell_type": "markdown",
      "source": [
        "Cumulative Probability of Continuous Distributions\n",
        "---------\n",
        "\n",
        "Recall that, in the above video, we talked about a fictional company with 3,000 employees in a local office. \n",
        "\n",
        "Now, let’s say you went to that office, and asked those 3,000 employees to play our upGrad red ball game (from the previous sessions 1 and 2). \n",
        "\n",
        "Based on the data on these 3,000 people, if you create the probability distribution for X, then the values of \n",
        "\n",
        "    P(X=0), P(X=1), P(X=2), P(X=3) and P(X=4) \n",
        "\n",
        "would all be:\n",
        "\n",
        "[X = number of red balls drawn by a player after playing the game once]\n",
        "\n",
        "    zero\n",
        "\n",
        "    non-zero\n",
        "\n",
        "----------\n",
        "\n",
        "    non-zero\n",
        "\n",
        "    ✓ Correct\n",
        "    Feedback:\n",
        "\n",
        "The probabilities mentioned will not be zero. \n",
        "\n",
        "It doesn’t matter whether the number of people playing the game is 75 or 3,000. \n",
        "\n",
        "X is not a continuous variable, and there are only 5 possible values of X. \n",
        "\n",
        "So, the probability of somebody drawing, say 3 red balls is much higher than zero."
      ],
      "metadata": {
        "id": "hnEZLKRVDak7"
      }
    },
    {
      "cell_type": "markdown",
      "source": [
        "# Probability Density Functions - II"
      ],
      "metadata": {
        "id": "SRgHBVMWELqm"
      }
    },
    {
      "cell_type": "markdown",
      "source": [
        "Uniform Distribution\n",
        "--------\n",
        "\n",
        "In a uniform PDF, all the possible values have the same probability density. \n",
        "\n",
        "The figure below shows such a uniform PDF, where the possible values are 0 to 10.\n",
        "\n",
        "![ss](https://cdn.upgrad.com/UpGrad/temp/67ce3125-4eca-4ffa-906d-2256707c3ded/Graphic_6_1.png)\n",
        "\n",
        "For this graph, what is the value of the probability density from \n",
        "\n",
        "X = 0 to X = 10?\n",
        "\n",
        "    Ans. 0.1\n",
        "\n",
        "----------\n",
        "\n",
        "Clearly, this area is the area of a rectangle with length 10 and unknown height h. \n",
        "\n",
        "Hence, you can say that `10 * h = 1`, which gives us h = 0.1. \n",
        "\n",
        "So, the value of the PDF for all values between 0 and 10 is 0.1"
      ],
      "metadata": {
        "id": "O_xPCRVXEjzY"
      }
    },
    {
      "cell_type": "markdown",
      "source": [
        "Uniform Distribution\n",
        "----------\n",
        "\n",
        "For the uniform PDF from the previous question, find the cumulative probability for X = 0.5\n",
        "\n",
        "![ss](https://cdn.upgrad.com/UpGrad/temp/df989c40-a823-4498-a0bd-efa34063000b/Graphic_6_2.png)\n",
        "\n",
        "    Ans. 0.05\n",
        "\n",
        "------------\n",
        "\n",
        "The cumulative probability for X = 0.5 is equal to the area under the curve between X = 0, \n",
        "\n",
        "the lowest possible value, and X = 0.5\n",
        "\n",
        "    This area = 0.1 * 0.5 = 0.05"
      ],
      "metadata": {
        "id": "O2VMvRvOFPv4"
      }
    },
    {
      "cell_type": "markdown",
      "source": [
        "#PDF and CDF for a Uniformly Distributed Variable\n",
        "\n",
        "![ss](https://cdn.upgrad.com/UpGrad/temp/2041b75f-958c-4e05-a7fd-a266e8faae70/Graphic_4.png)"
      ],
      "metadata": {
        "id": "3kwWPS_eU9CJ"
      }
    },
    {
      "cell_type": "markdown",
      "source": [
        "Cumulative Probability of Continuous Variables\n",
        "-------------\n",
        "\n",
        "Suppose you work at a sports analysis company and you want to analyse the effect a bowler’s height has on his/her performance. \n",
        "\n",
        "So, you create a list of all 5 `wicket hauls` (occurs when a bowler takes five or more wickets in a single innings) in the last decade. \n",
        "\n",
        "Based on this data, they created a cumulative probability distribution for X, where X = height of the bowler who took the 5 wicket haul.\n",
        "\n",
        "Now, based on the data, you conclude that the cumulative probability, F(175.3 cm) = 0.3\n",
        "\n",
        "In this case, which of the following statements is correct?\n",
        "\n",
        "1. P(X < 175.3 cm) = 0.3\n",
        "\n",
        "2. P(X <= 175.3 cm) = 0.3\n",
        "\n",
        "    (Remember that height is a continuous variable.)\n",
        "\n",
        "\n",
        "    Only statement 1 is correct\n",
        "\n",
        "    Only statement 2 is correct\n",
        "\n",
        "    Both statements 1 and 2 are correct\n",
        "\n",
        "------------\n",
        "\n",
        "    Both statements 1 and 2 are correct\n",
        "\n",
        "    ✓ Correct\n",
        "    Feedback:\n",
        "\n",
        "You can say that \n",
        "\n",
        "    P(X ≤ 175.3 cm) = P(X < 175.3 cm) + P(X = 175.3 cm). \n",
        "\n",
        "Now, since X is a continuous variable, you know that the probability of getting an exact value is `zero`. \n",
        "\n",
        "Hence, `P(X=175.3 cm) = 0`, which means that \n",
        "\n",
        "    P(X ≤ 175.3 cm) = P(X < 175.3 cm) + 0"
      ],
      "metadata": {
        "id": "7lYnhRi3Gdgw"
      }
    },
    {
      "cell_type": "markdown",
      "source": [
        "# Normal Distribution\n",
        "\n",
        "Probability density function: the normal distribution. \n",
        "\n",
        "You saw that it is symmetric, and its `mean, median and mode lie at the centre`.\n",
        "\n",
        "![ss](https://cdn.upgrad.com/UpGrad/temp/7e133cdc-c257-42ee-8456-3b9c78d9832d/Capture12.PNG)\n",
        "\n",
        "You also learnt the 1-2-3 rule, which states that there is a:\n",
        "\n",
        "- 68% probability of the variable lying within 1 standard deviation of the mean,\n",
        "\n",
        "- 95% probability of the variable lying within 2 standard deviations of the mean, and\n",
        "\n",
        "- 99.7% probability of the variable lying within 3 standard deviations of the mean."
      ],
      "metadata": {
        "id": "OvCc4mziI8nG"
      }
    },
    {
      "cell_type": "markdown",
      "source": [
        "Probability of Normal Random Variables\n",
        "---------\n",
        "\n",
        "Let’s say that you have to find the cumulative probability for a random variable X which is normally distributed.\n",
        "\n",
        "You do not know what the value of X is or, for that matter, what the value of µ and σ is. \n",
        "\n",
        "You only know that X = µ + σ. Can you find the cumulative probability, i.e. the probability of the variable being less than µ + σ?\n",
        "\n",
        "    Yes\n",
        "\n",
        "    No\n",
        "\n",
        "--------\n",
        "\n",
        "    Yes\n",
        "\n",
        "    ✓ Correct\n",
        "    Feedback:\n",
        "\n",
        "You can still find the cumulative probability. \n",
        "\n",
        "If the variable is normally distributed, then it doesn’t matter what the value of µ and σ is, there is a 34% probability that X lies between µ and µ + σ, \n",
        "\n",
        "    i.e. P(µ < X < µ + σ = 34%)\n",
        "\n",
        "Similarly, there is a 50% probability that X is less than µ, \n",
        "\n",
        "    i.e. P(X < µ = 50%)\n",
        "\n",
        "Again, this would happen regardless of what the value of µ and σ is. \n",
        "\n",
        "Hence, you can say that `P(X < µ + σ) = 68/2 + 50 =  84%` for every normal variable, no matter what the value of µ and σ is."
      ],
      "metadata": {
        "id": "jzR-14Y-L3YP"
      }
    },
    {
      "cell_type": "code",
      "source": [
        "68/2 + 50"
      ],
      "metadata": {
        "colab": {
          "base_uri": "https://localhost:8080/"
        },
        "id": "lqXfxz-aLfKg",
        "outputId": "c04fc66c-8d99-486a-800b-b43f5523c6c7"
      },
      "execution_count": 1,
      "outputs": [
        {
          "output_type": "execute_result",
          "data": {
            "text/plain": [
              "84.0"
            ]
          },
          "metadata": {},
          "execution_count": 1
        }
      ]
    },
    {
      "cell_type": "markdown",
      "source": [
        "# Standard Normal Distribution\n",
        "\n",
        "https://www.z-table.com/\n",
        "\n",
        "    Z = (X - μ)/σ\n",
        "\n",
        "The intersection of row '`0.6`' and column '`0.08`', i.e., `0.7517`, is your answer.\n",
        "\n",
        "<img src=\"https://cdn1.byjus.com/wp-content/uploads/2020/11/Z-Score-Table-1.png\" width=\"100%\">\n",
        "\n",
        "<img src=\"https://cdn1.byjus.com/wp-content/uploads/2020/11/Z-Score-Table-2.png\" width=\"100%\">\n",
        "\n",
        "<img src=\"https://cdn1.byjus.com/wp-content/uploads/2017/09/word-image2.png\" width=100%>\n",
        "\n",
        "<img src=\"https://cdn1.byjus.com/wp-content/uploads/2017/09/word-image3.png\" width=100%>\n",
        "\n",
        "-------\n",
        "\n",
        "https://byjus.com/maths/z-score-table/"
      ],
      "metadata": {
        "id": "wonJippKNLCw"
      }
    },
    {
      "cell_type": "markdown",
      "source": [
        "Standardised Random Variable\n",
        "-------\n",
        "\n",
        "A normally distributed random variable X is converted to Z. \n",
        "\n",
        "    Find P(-2<Z<3)\n",
        "\n",
        "(Report the answer as a number rounded to two digits after the decimal point.)"
      ],
      "metadata": {
        "id": "RUII6-y-OODp"
      }
    },
    {
      "cell_type": "code",
      "source": [
        "# Ans.\n",
        "\n",
        "round((99.7/2 + 95/2) / 100, 2)"
      ],
      "metadata": {
        "colab": {
          "base_uri": "https://localhost:8080/"
        },
        "id": "aGJ7-1HgM1WV",
        "outputId": "43959bdf-0033-411c-f55d-b25ffb6b3a8b"
      },
      "execution_count": 2,
      "outputs": [
        {
          "output_type": "execute_result",
          "data": {
            "text/plain": [
              "0.97"
            ]
          },
          "metadata": {},
          "execution_count": 2
        }
      ]
    },
    {
      "cell_type": "markdown",
      "source": [
        "Normal Variables\n",
        "----------\n",
        "\n",
        "What is the probability of a normally distributed random variable lying `within` 1.65 standard deviations of the mean?\n",
        "\n",
        "    95%\n",
        "\n",
        "    90%\n",
        "\n",
        "    85%\n",
        "\n",
        "    80%\n",
        "\n",
        "------\n",
        "\n",
        "    90%\n",
        "\n",
        "    ✓ Correct\n",
        "    Feedback:\n",
        "\n",
        "You have to find the probability of the variable lying between \n",
        "\n",
        "    μ-1.65σ and μ+1.65σ\n",
        "\n",
        "    P(μ-1.65σ < X < μ+1.65σ)\n",
        "\n",
        "In terms of Z, this becomes `P(-1.65 < Z < +1.65)`\n",
        "\n",
        "This would be equal to `P(1.65) - P(-1.65)` \n",
        "\n",
        "    = 0.95 - 0.05 = 0.90"
      ],
      "metadata": {
        "id": "-bI35Z30OpRa"
      }
    },
    {
      "cell_type": "code",
      "source": [
        "f'{round((0.9505 - 0.0495) * 100)} %'"
      ],
      "metadata": {
        "colab": {
          "base_uri": "https://localhost:8080/",
          "height": 36
        },
        "id": "ZPGnMj-kNo-E",
        "outputId": "58ded134-77a4-4609-e518-1ac7fc7befb8"
      },
      "execution_count": 3,
      "outputs": [
        {
          "output_type": "execute_result",
          "data": {
            "text/plain": [
              "'90 %'"
            ],
            "application/vnd.google.colaboratory.intrinsic+json": {
              "type": "string"
            }
          },
          "metadata": {},
          "execution_count": 3
        }
      ]
    },
    {
      "cell_type": "markdown",
      "source": [
        "# Practice Questions\n",
        "\n",
        "Let’s say you work as an analyst at a pharma company, which manufactures an antipyretic drug (tablet form) with paracetamol as the active ingredient. \n",
        "\n",
        "The amount of paracetamol specified by the drug regulatory authorities is 500 mg with a permissible error of 10%. \n",
        "\n",
        "Anything below 450 mg would be a quality issue for your company, as the drug will be ineffective, while any amount above 550 mg would lead to a serious regulatory issue."
      ],
      "metadata": {
        "id": "4I4jFlo9VXjj"
      }
    },
    {
      "cell_type": "markdown",
      "source": [
        "Cumulative Probability Distributions\n",
        "------\n",
        "\n",
        "The regulatory authority selects a random tablet from Batch Z2. \n",
        "\n",
        "Based on previous knowledge, you know that Batch Z2 has a mean paracetamol level of 510 mg, and its standard deviation is 20 mg.\n",
        "\n",
        "What is the probability that the tablet that has been selected by the authority has a paracetamol level below 550 mg?\n",
        "\n",
        "    48%\n",
        "\n",
        "    95%\n",
        "\n",
        "    98%\n",
        "\n",
        "    93%\n",
        "\n",
        "--------\n",
        "\n",
        "    98%\n",
        "\n",
        "    ✓ Correct\n",
        "    Feedback:\n",
        "\n",
        "Let’s define X as the amount of paracetamol in the selected tablet. \n",
        "\n",
        "Now, X is a normally distributed random variable, \n",
        "\n",
        "with mean `μ = 510 mg` and standard deviation `σ = 20 mg`. \n",
        "\n",
        "Now, you have to find the probability of X being less than 550, \n",
        "\n",
        "    i.e. P(X < 550)\n",
        "\n",
        "Converting this to Z, you get P(X < 550) \n",
        "\n",
        "    = P(Z < {550 - 510} / 20) = P(Z < 2) \n",
        "\n",
        "    = 0.977, or 97.7%"
      ],
      "metadata": {
        "id": "7tCVTrsHWpoa"
      }
    },
    {
      "cell_type": "code",
      "source": [
        "μ = 510\n",
        "σ = 20\n",
        "x = 550\n",
        "\n",
        "z = (x - μ) / σ\n",
        "z"
      ],
      "metadata": {
        "colab": {
          "base_uri": "https://localhost:8080/"
        },
        "id": "H8AGpQ90RR8Q",
        "outputId": "92e0e2c6-137a-415b-efe8-4f9468f83318"
      },
      "execution_count": 4,
      "outputs": [
        {
          "output_type": "execute_result",
          "data": {
            "text/plain": [
              "2.0"
            ]
          },
          "metadata": {},
          "execution_count": 4
        }
      ]
    },
    {
      "cell_type": "markdown",
      "source": [
        "# [From Z Table](#scrollTo=wonJippKNLCw)"
      ],
      "metadata": {
        "id": "8naWIqx90fgi"
      }
    },
    {
      "cell_type": "code",
      "source": [
        "# for z < 2\n",
        "\n",
        "t = 0.9772\n",
        "t, f'{round(t * 100, 1)} %'"
      ],
      "metadata": {
        "colab": {
          "base_uri": "https://localhost:8080/"
        },
        "id": "KFFBLMaLZQA2",
        "outputId": "555ede10-0089-4a39-dca5-21f1949d2eeb"
      },
      "execution_count": 5,
      "outputs": [
        {
          "output_type": "execute_result",
          "data": {
            "text/plain": [
              "(0.9772, '97.7 %')"
            ]
          },
          "metadata": {},
          "execution_count": 5
        }
      ]
    },
    {
      "cell_type": "markdown",
      "source": [
        "Continuous Probability Distributions\n",
        "---------\n",
        "\n",
        "Now, the company’s QC (Quality Control) department comes and selects a tablet at random from Batch Z2. \n",
        "\n",
        "It is interested in finding if the paracetamol level is above 450 mg or not.\n",
        "\n",
        "What is the probability that the tablet selected by QC has a paracetamol level above 450 mg?\n",
        "\n",
        "    99.87%\n",
        "\n",
        "    99.74%\n",
        "\n",
        "    49.87%\n",
        "\n",
        "    99.61%\n",
        "\n",
        "------------\n",
        "\n",
        "    99.87%\n",
        "\n",
        "    ✓ Correct\n",
        "    Feedback:\n",
        "\n",
        "Let’s define X as the amount of paracetamol in the selected tablet. \n",
        "\n",
        "Now, X is a normally distributed random variable, with mean `μ = 510 mg` and standard deviation `σ = 20 mg`. \n",
        "\n",
        "Now, you have to find the probability of X being `more than 450`, \n",
        "\n",
        "    i.e. P(X > 450)\n",
        "\n",
        "Converting this to Z, you get `P(X > 450)` \n",
        "\n",
        "    = P(Z>{450-510}/20) \n",
        "\n",
        "    = P(Z>-3) = 1 - P(Z<-3) \n",
        "\n",
        "    = 0.9987, or 99.87%"
      ],
      "metadata": {
        "id": "L5u6RVSTbXXm"
      }
    },
    {
      "cell_type": "code",
      "source": [
        "μ = 510\n",
        "σ = 20\n",
        "x = 450\n",
        "\n",
        "z = (x - μ) / σ\n",
        "z"
      ],
      "metadata": {
        "colab": {
          "base_uri": "https://localhost:8080/"
        },
        "id": "1vecmrmvbCJh",
        "outputId": "3dbe7609-8b5b-44f5-e93a-0b15ebdb73a1"
      },
      "execution_count": 6,
      "outputs": [
        {
          "output_type": "execute_result",
          "data": {
            "text/plain": [
              "-3.0"
            ]
          },
          "metadata": {},
          "execution_count": 6
        }
      ]
    },
    {
      "cell_type": "markdown",
      "source": [
        "# [From Z Table](#scrollTo=wonJippKNLCw)"
      ],
      "metadata": {
        "id": "FwFIFgjN0Vlp"
      }
    },
    {
      "cell_type": "code",
      "source": [
        "# for z < -3\n",
        "\n",
        "t = 0.0013\n",
        "f'{100 - round(t * 100, 2)} %'"
      ],
      "metadata": {
        "colab": {
          "base_uri": "https://localhost:8080/",
          "height": 36
        },
        "id": "URCBUWwJxuOq",
        "outputId": "0ddf863d-1419-4d7e-9ff7-671029d191b0"
      },
      "execution_count": 7,
      "outputs": [
        {
          "output_type": "execute_result",
          "data": {
            "text/plain": [
              "'99.87 %'"
            ],
            "application/vnd.google.colaboratory.intrinsic+json": {
              "type": "string"
            }
          },
          "metadata": {},
          "execution_count": 7
        }
      ]
    },
    {
      "cell_type": "markdown",
      "source": [
        "Continuous Probability Distributions\n",
        "------------\n",
        "\n",
        "Now, let’s say that QC decides to sample one more tablet. \n",
        "\n",
        "This time, it selects a tablet from Batch Y4. \n",
        "\n",
        "Based on previous knowledge, you know that Batch Y4 has a mean paracetamol level of 505 mg, and its standard deviation is 25 mg. \n",
        "\n",
        "This time, QC wants to check both the upper limit and the lower limit for the paracetamol level.\n",
        "\n",
        "What is the probability that the tablet selected by QC has a paracetamol level between 450 mg and 550 mg?\n",
        "\n",
        "    91%\n",
        "\n",
        "    93%\n",
        "\n",
        "    95%\n",
        "\n",
        "    97%\n",
        "\n",
        "------------\n",
        "\n",
        "    95%\n",
        "\n",
        "    ✓ Correct\n",
        "    Feedback:\n",
        "\n",
        "Let’s define X as the amount of paracetamol in the selected tablet. \n",
        "\n",
        "Now, X is a normally distributed random variable, with mean `μ = 505 mg` and standard deviation `σ = 25 mg`. \n",
        "\n",
        "Now, you have to find the probability of X being more than 450 and less than 550, i.e. P(450 < X < 550). \n",
        "\n",
        "Converting this to Z, you get `P(450 < X < 550)` \n",
        "\n",
        "    = P({450-505}/25 < Z < {550-505}/25) \n",
        "\n",
        "    = P(-2.2 < Z < 1.8) = P(Z < 1.8) - P(Z  < -2.2) \n",
        "\n",
        "    = 0.9641 - 0.0139 \n",
        "\n",
        "    = 0.9502, or 95%"
      ],
      "metadata": {
        "id": "4QRbR6Pves5G"
      }
    },
    {
      "cell_type": "code",
      "source": [
        "μ, σ = 505, 25\n",
        "x1, x2 = 450, 550\n",
        "\n",
        "z1 = (x1 - μ) / σ\n",
        "z2 = (x2 - μ) / σ\n",
        "\n",
        "z1, z2"
      ],
      "metadata": {
        "id": "eSUqHrCWdlv3",
        "colab": {
          "base_uri": "https://localhost:8080/"
        },
        "outputId": "7188f996-d5ee-410b-a697-115d84f266c0"
      },
      "execution_count": 8,
      "outputs": [
        {
          "output_type": "execute_result",
          "data": {
            "text/plain": [
              "(-2.2, 1.8)"
            ]
          },
          "metadata": {},
          "execution_count": 8
        }
      ]
    },
    {
      "cell_type": "markdown",
      "source": [
        "# [From Z Table](#scrollTo=wonJippKNLCw)"
      ],
      "metadata": {
        "id": "2P-LyJaA0ClE"
      }
    },
    {
      "cell_type": "code",
      "source": [
        "pz1 = 0.0132\n",
        "pz2 = 0.9641\n",
        "\n",
        "t = pz2 - pz1\n",
        "t"
      ],
      "metadata": {
        "colab": {
          "base_uri": "https://localhost:8080/"
        },
        "id": "wqqccOYEzOYP",
        "outputId": "05255ca9-e879-44b8-b1ca-89c1e3228c0f"
      },
      "execution_count": 9,
      "outputs": [
        {
          "output_type": "execute_result",
          "data": {
            "text/plain": [
              "0.9509"
            ]
          },
          "metadata": {},
          "execution_count": 9
        }
      ]
    },
    {
      "cell_type": "code",
      "source": [
        "# Ans.\n",
        "\n",
        "f'{round(t * 100, 0)} %'"
      ],
      "metadata": {
        "colab": {
          "base_uri": "https://localhost:8080/",
          "height": 36
        },
        "id": "CioKRTinzixM",
        "outputId": "8ee3ed75-2b5f-4b37-dbf6-953a03e53f04"
      },
      "execution_count": 10,
      "outputs": [
        {
          "output_type": "execute_result",
          "data": {
            "text/plain": [
              "'95.0 %'"
            ],
            "application/vnd.google.colaboratory.intrinsic+json": {
              "type": "string"
            }
          },
          "metadata": {},
          "execution_count": 10
        }
      ]
    },
    {
      "cell_type": "code",
      "source": [],
      "metadata": {
        "id": "1-uIhr9yzt_i"
      },
      "execution_count": 10,
      "outputs": []
    }
  ]
}