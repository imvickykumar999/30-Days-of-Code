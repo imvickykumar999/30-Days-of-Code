{
  "nbformat": 4,
  "nbformat_minor": 0,
  "metadata": {
    "colab": {
      "provenance": []
    },
    "kernelspec": {
      "name": "python3",
      "display_name": "Python 3"
    },
    "language_info": {
      "name": "python"
    }
  },
  "cells": [
    {
      "cell_type": "markdown",
      "source": [
        "# Probability Distributions - II"
      ],
      "metadata": {
        "id": "S2dyprifvPTi"
      }
    },
    {
      "cell_type": "markdown",
      "source": [
        "Probability Distributions\n",
        "------------\n",
        "\n",
        "Which of the following probability distributions is/are NOT valid, complete probability distribution(s)?\n",
        "\n",
        "![ss](https://upww.screenrec.com/images/f_ag0HyMOrSq1ABnGmc3UbjNIu9zi7wP4D.png)\n",
        "\n",
        "\n",
        "    Only Table A is an invalid distribution\n",
        "\n",
        "    Only Table B is an invalid distribution\n",
        "\n",
        "    Only Table C is an invalid distribution\n",
        "\n",
        "------------\n",
        "\n",
        "    Only Table C is an invalid distribution\n",
        "\n",
        "    ✓ Correct\n",
        "    Feedback:\n",
        "\n",
        "This is not a valid distribution. \n",
        "\n",
        "P(X = 0) has been given as -0.05. \n",
        "\n",
        "However, there is no such thing as a negative probability. \n",
        "\n",
        "Also, the total probability is 1.1, which does not make sense. \n",
        "\n",
        "The total of all probabilities in a probability distribution should be equal to 1."
      ],
      "metadata": {
        "id": "lXwgS_KRv54X"
      }
    },
    {
      "cell_type": "markdown",
      "source": [
        "E\n",
        "V\n",
        "(\n",
        "X\n",
        ")\n",
        "=\n",
        "x\n",
        "1\n",
        "∗\n",
        "P\n",
        "(\n",
        "X\n",
        "=\n",
        "x\n",
        "1\n",
        ")\n",
        "+\n",
        "x\n",
        "2\n",
        "∗\n",
        "P\n",
        "(\n",
        "X\n",
        "=\n",
        "x\n",
        "2\n",
        ")\n",
        "+\n",
        "x\n",
        "3\n",
        "∗\n",
        "P\n",
        "(\n",
        "X\n",
        "=\n",
        "x\n",
        "3\n",
        ")\n",
        "+\n",
        ".\n",
        ".\n",
        ".\n",
        ".\n",
        ".\n",
        ".\n",
        ".\n",
        ".\n",
        ".\n",
        ".\n",
        ".\n",
        "+\n",
        "x\n",
        "n\n",
        "∗\n",
        "P\n",
        "(\n",
        "X\n",
        "=\n",
        "x\n",
        "n\n",
        ")"
      ],
      "metadata": {
        "id": "ku5QmzxsyRY-"
      }
    },
    {
      "cell_type": "markdown",
      "source": [
        "Expected Value\n",
        "------------\n",
        "\n",
        "Now, can you calculate the expected value of X (where X is the money won by the player after playing the game once)?\n",
        "\n",
        "| X (Money won after playing once)\t| Probability |\n",
        "|                ---                |    ----     |\n",
        "|               +150\t              |   0.133     |\n",
        "|                -10\t              |   0.867     |\n",
        " \n",
        "\n",
        "You can use this probability distribution to find the answer."
      ],
      "metadata": {
        "id": "yHZcIkzOUYCd"
      }
    },
    {
      "cell_type": "code",
      "source": [
        "ev = 150 * 0.133 + (-10) * 0.867\n",
        "ev, ev < 0"
      ],
      "metadata": {
        "colab": {
          "base_uri": "https://localhost:8080/"
        },
        "id": "PjQ51rHSVCfl",
        "outputId": "eb89dfd7-c285-4eed-fbd1-3a5728c6fc21"
      },
      "execution_count": 1,
      "outputs": [
        {
          "output_type": "execute_result",
          "data": {
            "text/plain": [
              "(11.280000000000003, False)"
            ]
          },
          "metadata": {},
          "execution_count": 1
        }
      ]
    },
    {
      "cell_type": "markdown",
      "source": [
        "Expected Value of Player's Winnings\n",
        "---------------\n",
        "\n",
        "So, the expected value of a player’s winnings is positive, but we want to make it negative. \n",
        "\n",
        "Which of the following changes to the game would make the expected value negative?\n",
        "\n",
        "    Increase the penalty to ₹25\n",
        "\n",
        "    Decrease the prize money to ₹90\n",
        "\n",
        "------------\n",
        "\n",
        "    Increase the penalty to ₹25\n",
        "    ✓ Correct\n",
        "    Feedback:\n",
        "\n",
        "Keeping the prize money as ₹150 and increasing the penalty to ₹25 would make the expected value \n",
        "\n",
        "    (0.133 * 150) + (0.867 * -25) = -1.725, \n",
        "\n",
        "which is a negative value. "
      ],
      "metadata": {
        "id": "V_78bSB0TyXo"
      }
    },
    {
      "cell_type": "code",
      "source": [
        "ev = 0.133 * 90 + 0.867 * (-10)\n",
        "ev, ev < 0"
      ],
      "metadata": {
        "colab": {
          "base_uri": "https://localhost:8080/"
        },
        "id": "zk5mbspAVUZv",
        "outputId": "5797147a-aa22-466e-aef7-67ad888400b1"
      },
      "execution_count": 2,
      "outputs": [
        {
          "output_type": "execute_result",
          "data": {
            "text/plain": [
              "(3.3000000000000007, False)"
            ]
          },
          "metadata": {},
          "execution_count": 2
        }
      ]
    },
    {
      "cell_type": "code",
      "execution_count": 3,
      "metadata": {
        "id": "uCehNjK-vH5C",
        "colab": {
          "base_uri": "https://localhost:8080/"
        },
        "outputId": "0fcea107-a289-4840-a3dc-ef7ab779b9f3"
      },
      "outputs": [
        {
          "output_type": "execute_result",
          "data": {
            "text/plain": [
              "(-1.7249999999999979, True)"
            ]
          },
          "metadata": {},
          "execution_count": 3
        }
      ],
      "source": [
        "ev = 0.133 * 150 + 0.867 * (-25)\n",
        "ev, ev < 0"
      ]
    },
    {
      "cell_type": "markdown",
      "source": [
        "Expected Value of Player's Winnings\n",
        "--------\n",
        "\n",
        "Suppose we change the game’s rules to the following:\n",
        "\n",
        "|      Outcome     \t| Prize|\n",
        "|      -------      | ---- |\n",
        "| 4 red balls\t      | +150 |\n",
        "| 4 blue balls      | -150 |\n",
        "| Any other outcome | -10  |\n",
        "\n",
        "What will be the expected value now for X (the amount of money won by a player after playing the game once)?\n",
        "\n",
        "    -2.5\n",
        "\n",
        "    -5\n",
        "\n",
        "    +2.5\n",
        "\n",
        "    +7.5\n",
        "\n",
        "----------------\n",
        "\n",
        "    +7.5\n",
        "    ✓ Correct\n",
        "    Feedback:\n",
        "\n",
        "Recall that the expected value of a random variable is given by \n",
        "\n",
        "x1\n",
        " *P(X= \n",
        "x1\n",
        " ) + \n",
        "x2\n",
        "*P(X=\n",
        "x2\n",
        ") + \n",
        "x3\n",
        "*P(X=\n",
        "x3\n",
        ") + ……. + \n",
        "xn\n",
        "*P(X=\n",
        "xn\n",
        "), where \n",
        "x1\n",
        ", \n",
        "x2\n",
        ", \n",
        "x3\n",
        " ….. \n",
        "xn\n",
        "\n",
        "are all the different possible values of X. \n",
        "\n",
        "So, the expected value here would be \n",
        "\n",
        "    150*P(X = 150) + (-150)*P(X = -150) + (-10)*P(X = -10). \n",
        "\n",
        "Now, P(X = 150) = P(getting 4 red balls) = 0.133. \n",
        "\n",
        "Also, P(X = -150) = P(getting 4 blue balls) = 0.027 and \n",
        "\n",
        "P(X = -10) = P(getting 1, 2 or 3 red balls) = 0.840. \n",
        "\n",
        "Putting in those values, we get \n",
        "\n",
        "EV(X) = (150*0.133) + (-150*0.027) + (-10*0.840) = +7.5"
      ],
      "metadata": {
        "id": "YLcaXeClV0ba"
      }
    },
    {
      "cell_type": "code",
      "source": [
        "ev = (150 * 0.133) + (-150 * 0.027) + (-10 * 0.840)\n",
        "ev, ev < 0"
      ],
      "metadata": {
        "colab": {
          "base_uri": "https://localhost:8080/"
        },
        "id": "NvgTRgR8boXw",
        "outputId": "0aaaf6fb-7bd0-4462-cd19-7cacb97cdd4c"
      },
      "execution_count": 4,
      "outputs": [
        {
          "output_type": "execute_result",
          "data": {
            "text/plain": [
              "(7.500000000000002, False)"
            ]
          },
          "metadata": {},
          "execution_count": 4
        }
      ]
    },
    {
      "cell_type": "markdown",
      "source": [
        "Expected Return\n",
        "-----------\n",
        "\n",
        "| X (Net Revenue of Project, in ₹ Crore) | P(x) |\n",
        "|  ------------------------------------- | ---- |\n",
        "| -305                                   | 0.1  | \n",
        "|  +15                                   | 0.7  |\n",
        "|  +95                                   | 0.2  |\n",
        "\n",
        "Find the expected value of X if its probability distribution is as given in the table above. \n",
        "\n",
        "(Answer in terms of crores.)\n",
        "\n",
        "-------------\n",
        "\n",
        "The expected value of X, which is also called the expected return, is equal to:\n",
        "\n",
        "    (-305) * P(X = -305) + (+15) * P(X = +15) + (+95) * P(X = +95) \n",
        "    = (-305) * 0.1 + (+15) * 0.7 + (+95) * 0.2 \n",
        "    = -₹1 crore.\n",
        "\n",
        "So, the expected return of the project is -₹1 crore. Hence, we can conclude that the project is not worth investing in."
      ],
      "metadata": {
        "id": "4Kl0RZg1ecIM"
      }
    },
    {
      "cell_type": "code",
      "source": [
        "ev = -305 * 0.1 + 15 * 0.7 + 95 * 0.2\n",
        "ev"
      ],
      "metadata": {
        "colab": {
          "base_uri": "https://localhost:8080/"
        },
        "id": "ilVOxMnteKR3",
        "outputId": "f4c28f28-960d-4fb7-866a-79b447d270bb"
      },
      "execution_count": 5,
      "outputs": [
        {
          "output_type": "execute_result",
          "data": {
            "text/plain": [
              "-1.0"
            ]
          },
          "metadata": {},
          "execution_count": 5
        }
      ]
    },
    {
      "cell_type": "markdown",
      "source": [
        "# Practice Questions"
      ],
      "metadata": {
        "id": "ZptPjQ0mhXWM"
      }
    },
    {
      "cell_type": "markdown",
      "source": [
        "Expected Loss\n",
        "----------\n",
        "\n",
        "Now, to find the expected loss, the bank has created the following table. \n",
        "\n",
        "As you already know, the probability of customer 1 being a defaulter is 0.007 \n",
        "\n",
        "and that of the customer not being a defaulter is 0.993. \n",
        "\n",
        "Now, in the case of default, what would be the value of X, \n",
        "\n",
        "i.e. the money lost by the bank?\n",
        "\n",
        "<br>\n",
        "\n",
        "Defaulter/Non-defaulter\t |  Probability  |\tX (Money Lost by Bank) \n",
        "--- | ---- | ----\n",
        "Defaulter\t| 0.007 |\t-\n",
        "Non-defaulter\t| 0.993 |\t0\n",
        "\n",
        "<br>\n",
        "\n",
        "    ₹2.3 lakh\n",
        "\n",
        "    ₹9.2 lakh\n",
        "\n",
        "    ₹11.5 lakh\n",
        "\n",
        "    ₹57.5 lakh\n",
        "\n",
        "----------\n",
        "\n",
        "    ₹9.2 lakh\n",
        "\n",
        "    ✓ Correct\n",
        "    Feedback:\n",
        "\n",
        "The amount recovered would be equal to 20% of 11.5 lakh, \n",
        "\n",
        "    i.e. ₹2.3 lakh. \n",
        "\n",
        "However, X is defined as the money lost by the bank. \n",
        "\n",
        "So, the amount lost would be equal to the total money exposed, \n",
        "\n",
        "i.e. ₹11.5 lakh, minus the money recovered, \n",
        "\n",
        "    i.e. ₹2.3 lakh. \n",
        "\n",
        "That would mean that the money lost \n",
        "\n",
        "    = 11.5 - 2.3 = ₹9.2 lakh"
      ],
      "metadata": {
        "id": "TW7tBJeaheMx"
      }
    },
    {
      "cell_type": "code",
      "source": [
        "import pandas as pd\n",
        "df = pd.read_csv('Inferential Statistics - Student Loan.csv')\n",
        "df.iloc[:1, :3].head()"
      ],
      "metadata": {
        "colab": {
          "base_uri": "https://localhost:8080/",
          "height": 81
        },
        "id": "x9nBmkoDmlfZ",
        "outputId": "0892fa55-0630-4aed-dbe3-c631520ba4d2"
      },
      "execution_count": 6,
      "outputs": [
        {
          "output_type": "execute_result",
          "data": {
            "text/plain": [
              "   Customer No.  Exposure at Default (in lakh Rs.) Recovery (%)\n",
              "0             1                               11.5       20.00%"
            ],
            "text/html": [
              "\n",
              "  <div id=\"df-b47b72b8-ddb4-47ac-a4e9-dabc86ade121\">\n",
              "    <div class=\"colab-df-container\">\n",
              "      <div>\n",
              "<style scoped>\n",
              "    .dataframe tbody tr th:only-of-type {\n",
              "        vertical-align: middle;\n",
              "    }\n",
              "\n",
              "    .dataframe tbody tr th {\n",
              "        vertical-align: top;\n",
              "    }\n",
              "\n",
              "    .dataframe thead th {\n",
              "        text-align: right;\n",
              "    }\n",
              "</style>\n",
              "<table border=\"1\" class=\"dataframe\">\n",
              "  <thead>\n",
              "    <tr style=\"text-align: right;\">\n",
              "      <th></th>\n",
              "      <th>Customer No.</th>\n",
              "      <th>Exposure at Default (in lakh Rs.)</th>\n",
              "      <th>Recovery (%)</th>\n",
              "    </tr>\n",
              "  </thead>\n",
              "  <tbody>\n",
              "    <tr>\n",
              "      <th>0</th>\n",
              "      <td>1</td>\n",
              "      <td>11.5</td>\n",
              "      <td>20.00%</td>\n",
              "    </tr>\n",
              "  </tbody>\n",
              "</table>\n",
              "</div>\n",
              "      <button class=\"colab-df-convert\" onclick=\"convertToInteractive('df-b47b72b8-ddb4-47ac-a4e9-dabc86ade121')\"\n",
              "              title=\"Convert this dataframe to an interactive table.\"\n",
              "              style=\"display:none;\">\n",
              "        \n",
              "  <svg xmlns=\"http://www.w3.org/2000/svg\" height=\"24px\"viewBox=\"0 0 24 24\"\n",
              "       width=\"24px\">\n",
              "    <path d=\"M0 0h24v24H0V0z\" fill=\"none\"/>\n",
              "    <path d=\"M18.56 5.44l.94 2.06.94-2.06 2.06-.94-2.06-.94-.94-2.06-.94 2.06-2.06.94zm-11 1L8.5 8.5l.94-2.06 2.06-.94-2.06-.94L8.5 2.5l-.94 2.06-2.06.94zm10 10l.94 2.06.94-2.06 2.06-.94-2.06-.94-.94-2.06-.94 2.06-2.06.94z\"/><path d=\"M17.41 7.96l-1.37-1.37c-.4-.4-.92-.59-1.43-.59-.52 0-1.04.2-1.43.59L10.3 9.45l-7.72 7.72c-.78.78-.78 2.05 0 2.83L4 21.41c.39.39.9.59 1.41.59.51 0 1.02-.2 1.41-.59l7.78-7.78 2.81-2.81c.8-.78.8-2.07 0-2.86zM5.41 20L4 18.59l7.72-7.72 1.47 1.35L5.41 20z\"/>\n",
              "  </svg>\n",
              "      </button>\n",
              "      \n",
              "  <style>\n",
              "    .colab-df-container {\n",
              "      display:flex;\n",
              "      flex-wrap:wrap;\n",
              "      gap: 12px;\n",
              "    }\n",
              "\n",
              "    .colab-df-convert {\n",
              "      background-color: #E8F0FE;\n",
              "      border: none;\n",
              "      border-radius: 50%;\n",
              "      cursor: pointer;\n",
              "      display: none;\n",
              "      fill: #1967D2;\n",
              "      height: 32px;\n",
              "      padding: 0 0 0 0;\n",
              "      width: 32px;\n",
              "    }\n",
              "\n",
              "    .colab-df-convert:hover {\n",
              "      background-color: #E2EBFA;\n",
              "      box-shadow: 0px 1px 2px rgba(60, 64, 67, 0.3), 0px 1px 3px 1px rgba(60, 64, 67, 0.15);\n",
              "      fill: #174EA6;\n",
              "    }\n",
              "\n",
              "    [theme=dark] .colab-df-convert {\n",
              "      background-color: #3B4455;\n",
              "      fill: #D2E3FC;\n",
              "    }\n",
              "\n",
              "    [theme=dark] .colab-df-convert:hover {\n",
              "      background-color: #434B5C;\n",
              "      box-shadow: 0px 1px 3px 1px rgba(0, 0, 0, 0.15);\n",
              "      filter: drop-shadow(0px 1px 2px rgba(0, 0, 0, 0.3));\n",
              "      fill: #FFFFFF;\n",
              "    }\n",
              "  </style>\n",
              "\n",
              "      <script>\n",
              "        const buttonEl =\n",
              "          document.querySelector('#df-b47b72b8-ddb4-47ac-a4e9-dabc86ade121 button.colab-df-convert');\n",
              "        buttonEl.style.display =\n",
              "          google.colab.kernel.accessAllowed ? 'block' : 'none';\n",
              "\n",
              "        async function convertToInteractive(key) {\n",
              "          const element = document.querySelector('#df-b47b72b8-ddb4-47ac-a4e9-dabc86ade121');\n",
              "          const dataTable =\n",
              "            await google.colab.kernel.invokeFunction('convertToInteractive',\n",
              "                                                     [key], {});\n",
              "          if (!dataTable) return;\n",
              "\n",
              "          const docLinkHtml = 'Like what you see? Visit the ' +\n",
              "            '<a target=\"_blank\" href=https://colab.research.google.com/notebooks/data_table.ipynb>data table notebook</a>'\n",
              "            + ' to learn more about interactive tables.';\n",
              "          element.innerHTML = '';\n",
              "          dataTable['output_type'] = 'display_data';\n",
              "          await google.colab.output.renderOutput(dataTable, element);\n",
              "          const docLink = document.createElement('div');\n",
              "          docLink.innerHTML = docLinkHtml;\n",
              "          element.appendChild(docLink);\n",
              "        }\n",
              "      </script>\n",
              "    </div>\n",
              "  </div>\n",
              "  "
            ]
          },
          "metadata": {},
          "execution_count": 6
        }
      ]
    },
    {
      "cell_type": "code",
      "source": [
        "'''\n",
        "if 20% is recovery for customer 1,\n",
        "then 80% of 11.5 lakh will be lost.\n",
        "'''\n",
        "\n",
        "11.5 * 80/100"
      ],
      "metadata": {
        "colab": {
          "base_uri": "https://localhost:8080/"
        },
        "id": "PUhErWv1fR_O",
        "outputId": "d66bcd7e-d11c-47d4-b9e7-0e2b0475e433"
      },
      "execution_count": 7,
      "outputs": [
        {
          "output_type": "execute_result",
          "data": {
            "text/plain": [
              "9.2"
            ]
          },
          "metadata": {},
          "execution_count": 7
        }
      ]
    },
    {
      "cell_type": "markdown",
      "source": [
        "Expected Loss\n",
        "-----------\n",
        "\n",
        "Now, the bank has the following data -\n",
        "\n",
        "<br>\n",
        "\n",
        "| Defaulter/Non-defaulter\t | Probability |  X (Money Lost by Bank) |\n",
        "| ---- | ---- | --- |\n",
        "| Defaulter\t| 0.007\t | ₹9.2 lakh |\n",
        "| Non-defaulter\t| 0.993 |\t0 |\n",
        "\n",
        "<br>\n",
        "\n",
        "What would be the expected loss (expected value of the money lost by the bank)?\n",
        "\n",
        "    ₹6440\n",
        "\n",
        "    ₹9.2 lakh\n",
        "\n",
        "    ₹9,200\n",
        "\n",
        "    ₹6.44 lakh\n",
        "\n",
        "----------\n",
        "\n",
        "    ₹6440\n",
        "    ✓ Correct\n",
        "    Feedback:\n",
        "\n",
        "The random variable X has two possible values, \n",
        "\n",
        "9.2 lakh for when the customer defaults, \n",
        "\n",
        "and 0 for when the customer doesn’t. \n",
        "\n",
        "So, the Expected value \n",
        "\n",
        "    = 9.2 lakh*P(X = 9.2 lakh) + 0*P(X=0) \n",
        "    = 9,20,000*(0.007) + 0*(0.993) \n",
        "    = 6,440"
      ],
      "metadata": {
        "id": "KX-sqvho6shm"
      }
    },
    {
      "cell_type": "code",
      "source": [
        "el = 0.007 * 9200000 + 0.993 * 0\n",
        "el"
      ],
      "metadata": {
        "id": "AwdASxQdmFHZ",
        "colab": {
          "base_uri": "https://localhost:8080/"
        },
        "outputId": "ea85a6cc-f7c5-4d02-a91b-5de764ef4a79"
      },
      "execution_count": 8,
      "outputs": [
        {
          "output_type": "execute_result",
          "data": {
            "text/plain": [
              "64400.0"
            ]
          },
          "metadata": {},
          "execution_count": 8
        }
      ]
    },
    {
      "cell_type": "markdown",
      "source": [
        "Expected Loss\n",
        "----------\n",
        "\n",
        "[Doubt](https://learn.upgrad.com/course/4460/segment/34999/214307/657371/3330715)\n",
        "\n",
        "So, in general, what would be the expected loss?\n",
        "\n",
        "    PD * EAD * R\n",
        "\n",
        "    PD * EAD * (1-R)\n",
        "\n",
        "    (1-PD) * EAD * R\n",
        "\n",
        "----------------\n",
        "\n",
        "- Exposure at default (`EAD`) is the total money owed by the customer in case of default.\n",
        "\n",
        "- Recovery (`R`) is the percentage of the exposed money that the bank would be able to recover.\n",
        "\n",
        "  - For example, in the example above, the bank would recover 20% of the exposed money, i.e., 20% * 11.5 = ₹2.3 lakh.\n",
        "\n",
        "- Probability of default (`PD`) is the probability that the customer will default. This is calculated for each customer using a number of factors such as family income, university attended, etc.\n",
        "\n",
        "\n",
        "    PD * EAD * (1-R)\n",
        "\n",
        "    ✓ Correct\n",
        "    Feedback:\n",
        "\n",
        "X can take two values. \n",
        "\n",
        "When the customer defaults, \n",
        "\n",
        "    X = EAD - (EAD*R) = EAD*(1-R). \n",
        "\n",
        "When she/he doesn’t, `X = 0`. \n",
        "\n",
        "So, the Expected value \n",
        "\n",
        "    = EAD(1-R)*P(X = EAD(1-R)) + 0*P(X=0) \n",
        "    = EAD*(1-R)*PD + 0"
      ],
      "metadata": {
        "id": "d9Zx9ozSAkK6"
      }
    },
    {
      "cell_type": "markdown",
      "source": [
        "Expected Loss\n",
        "---------\n",
        "\n",
        "Now, the bank wants to find the total expected loss. \n",
        "\n",
        "This is done by calculating the expected losses for each of the 10,000 customers and then adding them up.\n",
        "\n",
        "The data for all the customers of the bank is given in the file \n",
        "\n",
        "    Inferential Statistics - Student Loan.csv\n",
        "\n",
        "What would be the value of the total expected loss?\n",
        "\n",
        "    ₹1.25 crores\n",
        "\n",
        "    ₹4.93 crores\n",
        "\n",
        "    ₹6.18 crores\n",
        "\n",
        "    ₹3.09 crores\n",
        "\n",
        "-----------\n",
        "\n",
        "    ₹4.93 crores\n",
        "\n",
        "    ✓ Correct\n",
        "    Feedback:\n",
        "\n",
        "As you saw in the previous question, expected loss because of the first customer is ₹6,440. \n",
        "\n",
        "In general, it is given by `PD * EAD * (1-R)` for each customer. \n",
        "\n",
        "Using R or Excel, you can find the expected loss for each customer using this formula. \n",
        "\n",
        "Adding up all of these 10,000 customers' expected losses, we get that \n",
        "\n",
        "the total expected loss \n",
        "\n",
        "    = ₹4.93 crores"
      ],
      "metadata": {
        "id": "Buzw1lh2rSKw"
      }
    },
    {
      "cell_type": "code",
      "source": [
        "df['Recovery (%)'] = df['Recovery (%)'].apply(lambda x : float(x.replace('%', '')))\n",
        "df.head()"
      ],
      "metadata": {
        "colab": {
          "base_uri": "https://localhost:8080/",
          "height": 285
        },
        "id": "-2LsUytMLuAf",
        "outputId": "0274e8cb-c6f9-471c-8793-7ddf13ce9e3a"
      },
      "execution_count": 9,
      "outputs": [
        {
          "output_type": "execute_result",
          "data": {
            "text/plain": [
              "   Customer No.  Exposure at Default (in lakh Rs.)  Recovery (%)  \\\n",
              "0             1                              11.50         20.00   \n",
              "1             2                               0.24          5.10   \n",
              "2             3                               0.04         24.86   \n",
              "3             4                              13.81          2.29   \n",
              "4             5                              19.84          3.47   \n",
              "\n",
              "   Probability of Default  Unnamed: 4  Unnamed: 5  \n",
              "0                  0.0070         NaN         NaN  \n",
              "1                  0.0033         NaN         NaN  \n",
              "2                  0.0022         NaN         NaN  \n",
              "3                  0.0066         NaN         NaN  \n",
              "4                  0.0020         NaN         NaN  "
            ],
            "text/html": [
              "\n",
              "  <div id=\"df-55e74fb1-8211-441e-b73c-3ff7d0c50cf9\">\n",
              "    <div class=\"colab-df-container\">\n",
              "      <div>\n",
              "<style scoped>\n",
              "    .dataframe tbody tr th:only-of-type {\n",
              "        vertical-align: middle;\n",
              "    }\n",
              "\n",
              "    .dataframe tbody tr th {\n",
              "        vertical-align: top;\n",
              "    }\n",
              "\n",
              "    .dataframe thead th {\n",
              "        text-align: right;\n",
              "    }\n",
              "</style>\n",
              "<table border=\"1\" class=\"dataframe\">\n",
              "  <thead>\n",
              "    <tr style=\"text-align: right;\">\n",
              "      <th></th>\n",
              "      <th>Customer No.</th>\n",
              "      <th>Exposure at Default (in lakh Rs.)</th>\n",
              "      <th>Recovery (%)</th>\n",
              "      <th>Probability of Default</th>\n",
              "      <th>Unnamed: 4</th>\n",
              "      <th>Unnamed: 5</th>\n",
              "    </tr>\n",
              "  </thead>\n",
              "  <tbody>\n",
              "    <tr>\n",
              "      <th>0</th>\n",
              "      <td>1</td>\n",
              "      <td>11.50</td>\n",
              "      <td>20.00</td>\n",
              "      <td>0.0070</td>\n",
              "      <td>NaN</td>\n",
              "      <td>NaN</td>\n",
              "    </tr>\n",
              "    <tr>\n",
              "      <th>1</th>\n",
              "      <td>2</td>\n",
              "      <td>0.24</td>\n",
              "      <td>5.10</td>\n",
              "      <td>0.0033</td>\n",
              "      <td>NaN</td>\n",
              "      <td>NaN</td>\n",
              "    </tr>\n",
              "    <tr>\n",
              "      <th>2</th>\n",
              "      <td>3</td>\n",
              "      <td>0.04</td>\n",
              "      <td>24.86</td>\n",
              "      <td>0.0022</td>\n",
              "      <td>NaN</td>\n",
              "      <td>NaN</td>\n",
              "    </tr>\n",
              "    <tr>\n",
              "      <th>3</th>\n",
              "      <td>4</td>\n",
              "      <td>13.81</td>\n",
              "      <td>2.29</td>\n",
              "      <td>0.0066</td>\n",
              "      <td>NaN</td>\n",
              "      <td>NaN</td>\n",
              "    </tr>\n",
              "    <tr>\n",
              "      <th>4</th>\n",
              "      <td>5</td>\n",
              "      <td>19.84</td>\n",
              "      <td>3.47</td>\n",
              "      <td>0.0020</td>\n",
              "      <td>NaN</td>\n",
              "      <td>NaN</td>\n",
              "    </tr>\n",
              "  </tbody>\n",
              "</table>\n",
              "</div>\n",
              "      <button class=\"colab-df-convert\" onclick=\"convertToInteractive('df-55e74fb1-8211-441e-b73c-3ff7d0c50cf9')\"\n",
              "              title=\"Convert this dataframe to an interactive table.\"\n",
              "              style=\"display:none;\">\n",
              "        \n",
              "  <svg xmlns=\"http://www.w3.org/2000/svg\" height=\"24px\"viewBox=\"0 0 24 24\"\n",
              "       width=\"24px\">\n",
              "    <path d=\"M0 0h24v24H0V0z\" fill=\"none\"/>\n",
              "    <path d=\"M18.56 5.44l.94 2.06.94-2.06 2.06-.94-2.06-.94-.94-2.06-.94 2.06-2.06.94zm-11 1L8.5 8.5l.94-2.06 2.06-.94-2.06-.94L8.5 2.5l-.94 2.06-2.06.94zm10 10l.94 2.06.94-2.06 2.06-.94-2.06-.94-.94-2.06-.94 2.06-2.06.94z\"/><path d=\"M17.41 7.96l-1.37-1.37c-.4-.4-.92-.59-1.43-.59-.52 0-1.04.2-1.43.59L10.3 9.45l-7.72 7.72c-.78.78-.78 2.05 0 2.83L4 21.41c.39.39.9.59 1.41.59.51 0 1.02-.2 1.41-.59l7.78-7.78 2.81-2.81c.8-.78.8-2.07 0-2.86zM5.41 20L4 18.59l7.72-7.72 1.47 1.35L5.41 20z\"/>\n",
              "  </svg>\n",
              "      </button>\n",
              "      \n",
              "  <style>\n",
              "    .colab-df-container {\n",
              "      display:flex;\n",
              "      flex-wrap:wrap;\n",
              "      gap: 12px;\n",
              "    }\n",
              "\n",
              "    .colab-df-convert {\n",
              "      background-color: #E8F0FE;\n",
              "      border: none;\n",
              "      border-radius: 50%;\n",
              "      cursor: pointer;\n",
              "      display: none;\n",
              "      fill: #1967D2;\n",
              "      height: 32px;\n",
              "      padding: 0 0 0 0;\n",
              "      width: 32px;\n",
              "    }\n",
              "\n",
              "    .colab-df-convert:hover {\n",
              "      background-color: #E2EBFA;\n",
              "      box-shadow: 0px 1px 2px rgba(60, 64, 67, 0.3), 0px 1px 3px 1px rgba(60, 64, 67, 0.15);\n",
              "      fill: #174EA6;\n",
              "    }\n",
              "\n",
              "    [theme=dark] .colab-df-convert {\n",
              "      background-color: #3B4455;\n",
              "      fill: #D2E3FC;\n",
              "    }\n",
              "\n",
              "    [theme=dark] .colab-df-convert:hover {\n",
              "      background-color: #434B5C;\n",
              "      box-shadow: 0px 1px 3px 1px rgba(0, 0, 0, 0.15);\n",
              "      filter: drop-shadow(0px 1px 2px rgba(0, 0, 0, 0.3));\n",
              "      fill: #FFFFFF;\n",
              "    }\n",
              "  </style>\n",
              "\n",
              "      <script>\n",
              "        const buttonEl =\n",
              "          document.querySelector('#df-55e74fb1-8211-441e-b73c-3ff7d0c50cf9 button.colab-df-convert');\n",
              "        buttonEl.style.display =\n",
              "          google.colab.kernel.accessAllowed ? 'block' : 'none';\n",
              "\n",
              "        async function convertToInteractive(key) {\n",
              "          const element = document.querySelector('#df-55e74fb1-8211-441e-b73c-3ff7d0c50cf9');\n",
              "          const dataTable =\n",
              "            await google.colab.kernel.invokeFunction('convertToInteractive',\n",
              "                                                     [key], {});\n",
              "          if (!dataTable) return;\n",
              "\n",
              "          const docLinkHtml = 'Like what you see? Visit the ' +\n",
              "            '<a target=\"_blank\" href=https://colab.research.google.com/notebooks/data_table.ipynb>data table notebook</a>'\n",
              "            + ' to learn more about interactive tables.';\n",
              "          element.innerHTML = '';\n",
              "          dataTable['output_type'] = 'display_data';\n",
              "          await google.colab.output.renderOutput(dataTable, element);\n",
              "          const docLink = document.createElement('div');\n",
              "          docLink.innerHTML = docLinkHtml;\n",
              "          element.appendChild(docLink);\n",
              "        }\n",
              "      </script>\n",
              "    </div>\n",
              "  </div>\n",
              "  "
            ]
          },
          "metadata": {},
          "execution_count": 9
        }
      ]
    },
    {
      "cell_type": "code",
      "source": [
        "el = df['Probability of Default'] * df['Exposure at Default (in lakh Rs.)'] * (1 - df['Recovery (%)'] / 100)\n",
        "df['Expected Loss (in Rs.)'] = el * 10**5\n",
        "df.head()"
      ],
      "metadata": {
        "id": "-oJYiU627kod",
        "colab": {
          "base_uri": "https://localhost:8080/",
          "height": 285
        },
        "outputId": "741a7f17-9237-4b27-a34e-73a5375fc27c"
      },
      "execution_count": 10,
      "outputs": [
        {
          "output_type": "execute_result",
          "data": {
            "text/plain": [
              "   Customer No.  Exposure at Default (in lakh Rs.)  Recovery (%)  \\\n",
              "0             1                              11.50         20.00   \n",
              "1             2                               0.24          5.10   \n",
              "2             3                               0.04         24.86   \n",
              "3             4                              13.81          2.29   \n",
              "4             5                              19.84          3.47   \n",
              "\n",
              "   Probability of Default  Unnamed: 4  Unnamed: 5  Expected Loss (in Rs.)  \n",
              "0                  0.0070         NaN         NaN              6440.00000  \n",
              "1                  0.0033         NaN         NaN                75.16080  \n",
              "2                  0.0022         NaN         NaN                 6.61232  \n",
              "3                  0.0066         NaN         NaN              8905.87566  \n",
              "4                  0.0020         NaN         NaN              3830.31040  "
            ],
            "text/html": [
              "\n",
              "  <div id=\"df-07297ff1-f815-4aaa-8ffa-56c064eae0b7\">\n",
              "    <div class=\"colab-df-container\">\n",
              "      <div>\n",
              "<style scoped>\n",
              "    .dataframe tbody tr th:only-of-type {\n",
              "        vertical-align: middle;\n",
              "    }\n",
              "\n",
              "    .dataframe tbody tr th {\n",
              "        vertical-align: top;\n",
              "    }\n",
              "\n",
              "    .dataframe thead th {\n",
              "        text-align: right;\n",
              "    }\n",
              "</style>\n",
              "<table border=\"1\" class=\"dataframe\">\n",
              "  <thead>\n",
              "    <tr style=\"text-align: right;\">\n",
              "      <th></th>\n",
              "      <th>Customer No.</th>\n",
              "      <th>Exposure at Default (in lakh Rs.)</th>\n",
              "      <th>Recovery (%)</th>\n",
              "      <th>Probability of Default</th>\n",
              "      <th>Unnamed: 4</th>\n",
              "      <th>Unnamed: 5</th>\n",
              "      <th>Expected Loss (in Rs.)</th>\n",
              "    </tr>\n",
              "  </thead>\n",
              "  <tbody>\n",
              "    <tr>\n",
              "      <th>0</th>\n",
              "      <td>1</td>\n",
              "      <td>11.50</td>\n",
              "      <td>20.00</td>\n",
              "      <td>0.0070</td>\n",
              "      <td>NaN</td>\n",
              "      <td>NaN</td>\n",
              "      <td>6440.00000</td>\n",
              "    </tr>\n",
              "    <tr>\n",
              "      <th>1</th>\n",
              "      <td>2</td>\n",
              "      <td>0.24</td>\n",
              "      <td>5.10</td>\n",
              "      <td>0.0033</td>\n",
              "      <td>NaN</td>\n",
              "      <td>NaN</td>\n",
              "      <td>75.16080</td>\n",
              "    </tr>\n",
              "    <tr>\n",
              "      <th>2</th>\n",
              "      <td>3</td>\n",
              "      <td>0.04</td>\n",
              "      <td>24.86</td>\n",
              "      <td>0.0022</td>\n",
              "      <td>NaN</td>\n",
              "      <td>NaN</td>\n",
              "      <td>6.61232</td>\n",
              "    </tr>\n",
              "    <tr>\n",
              "      <th>3</th>\n",
              "      <td>4</td>\n",
              "      <td>13.81</td>\n",
              "      <td>2.29</td>\n",
              "      <td>0.0066</td>\n",
              "      <td>NaN</td>\n",
              "      <td>NaN</td>\n",
              "      <td>8905.87566</td>\n",
              "    </tr>\n",
              "    <tr>\n",
              "      <th>4</th>\n",
              "      <td>5</td>\n",
              "      <td>19.84</td>\n",
              "      <td>3.47</td>\n",
              "      <td>0.0020</td>\n",
              "      <td>NaN</td>\n",
              "      <td>NaN</td>\n",
              "      <td>3830.31040</td>\n",
              "    </tr>\n",
              "  </tbody>\n",
              "</table>\n",
              "</div>\n",
              "      <button class=\"colab-df-convert\" onclick=\"convertToInteractive('df-07297ff1-f815-4aaa-8ffa-56c064eae0b7')\"\n",
              "              title=\"Convert this dataframe to an interactive table.\"\n",
              "              style=\"display:none;\">\n",
              "        \n",
              "  <svg xmlns=\"http://www.w3.org/2000/svg\" height=\"24px\"viewBox=\"0 0 24 24\"\n",
              "       width=\"24px\">\n",
              "    <path d=\"M0 0h24v24H0V0z\" fill=\"none\"/>\n",
              "    <path d=\"M18.56 5.44l.94 2.06.94-2.06 2.06-.94-2.06-.94-.94-2.06-.94 2.06-2.06.94zm-11 1L8.5 8.5l.94-2.06 2.06-.94-2.06-.94L8.5 2.5l-.94 2.06-2.06.94zm10 10l.94 2.06.94-2.06 2.06-.94-2.06-.94-.94-2.06-.94 2.06-2.06.94z\"/><path d=\"M17.41 7.96l-1.37-1.37c-.4-.4-.92-.59-1.43-.59-.52 0-1.04.2-1.43.59L10.3 9.45l-7.72 7.72c-.78.78-.78 2.05 0 2.83L4 21.41c.39.39.9.59 1.41.59.51 0 1.02-.2 1.41-.59l7.78-7.78 2.81-2.81c.8-.78.8-2.07 0-2.86zM5.41 20L4 18.59l7.72-7.72 1.47 1.35L5.41 20z\"/>\n",
              "  </svg>\n",
              "      </button>\n",
              "      \n",
              "  <style>\n",
              "    .colab-df-container {\n",
              "      display:flex;\n",
              "      flex-wrap:wrap;\n",
              "      gap: 12px;\n",
              "    }\n",
              "\n",
              "    .colab-df-convert {\n",
              "      background-color: #E8F0FE;\n",
              "      border: none;\n",
              "      border-radius: 50%;\n",
              "      cursor: pointer;\n",
              "      display: none;\n",
              "      fill: #1967D2;\n",
              "      height: 32px;\n",
              "      padding: 0 0 0 0;\n",
              "      width: 32px;\n",
              "    }\n",
              "\n",
              "    .colab-df-convert:hover {\n",
              "      background-color: #E2EBFA;\n",
              "      box-shadow: 0px 1px 2px rgba(60, 64, 67, 0.3), 0px 1px 3px 1px rgba(60, 64, 67, 0.15);\n",
              "      fill: #174EA6;\n",
              "    }\n",
              "\n",
              "    [theme=dark] .colab-df-convert {\n",
              "      background-color: #3B4455;\n",
              "      fill: #D2E3FC;\n",
              "    }\n",
              "\n",
              "    [theme=dark] .colab-df-convert:hover {\n",
              "      background-color: #434B5C;\n",
              "      box-shadow: 0px 1px 3px 1px rgba(0, 0, 0, 0.15);\n",
              "      filter: drop-shadow(0px 1px 2px rgba(0, 0, 0, 0.3));\n",
              "      fill: #FFFFFF;\n",
              "    }\n",
              "  </style>\n",
              "\n",
              "      <script>\n",
              "        const buttonEl =\n",
              "          document.querySelector('#df-07297ff1-f815-4aaa-8ffa-56c064eae0b7 button.colab-df-convert');\n",
              "        buttonEl.style.display =\n",
              "          google.colab.kernel.accessAllowed ? 'block' : 'none';\n",
              "\n",
              "        async function convertToInteractive(key) {\n",
              "          const element = document.querySelector('#df-07297ff1-f815-4aaa-8ffa-56c064eae0b7');\n",
              "          const dataTable =\n",
              "            await google.colab.kernel.invokeFunction('convertToInteractive',\n",
              "                                                     [key], {});\n",
              "          if (!dataTable) return;\n",
              "\n",
              "          const docLinkHtml = 'Like what you see? Visit the ' +\n",
              "            '<a target=\"_blank\" href=https://colab.research.google.com/notebooks/data_table.ipynb>data table notebook</a>'\n",
              "            + ' to learn more about interactive tables.';\n",
              "          element.innerHTML = '';\n",
              "          dataTable['output_type'] = 'display_data';\n",
              "          await google.colab.output.renderOutput(dataTable, element);\n",
              "          const docLink = document.createElement('div');\n",
              "          docLink.innerHTML = docLinkHtml;\n",
              "          element.appendChild(docLink);\n",
              "        }\n",
              "      </script>\n",
              "    </div>\n",
              "  </div>\n",
              "  "
            ]
          },
          "metadata": {},
          "execution_count": 10
        }
      ]
    },
    {
      "cell_type": "code",
      "source": [
        "total_expected_loss = df['Expected Loss (in Rs.)'].sum() / 10**7\n",
        "total_expected_loss"
      ],
      "metadata": {
        "id": "eP-7vgvmLGIw",
        "colab": {
          "base_uri": "https://localhost:8080/"
        },
        "outputId": "e40ba8c4-4b0a-419f-8443-f4690be5fdd2"
      },
      "execution_count": 11,
      "outputs": [
        {
          "output_type": "execute_result",
          "data": {
            "text/plain": [
              "4.933913144062"
            ]
          },
          "metadata": {},
          "execution_count": 11
        }
      ]
    },
    {
      "cell_type": "code",
      "source": [
        "# Ans.\n",
        "f'Total expected loss = ₹ {(total_expected_loss).round(2)} crores'"
      ],
      "metadata": {
        "colab": {
          "base_uri": "https://localhost:8080/",
          "height": 36
        },
        "id": "-Xe4WNTLq6Wv",
        "outputId": "8c6f8c54-f578-48ed-e37b-7bae27522c49"
      },
      "execution_count": 12,
      "outputs": [
        {
          "output_type": "execute_result",
          "data": {
            "text/plain": [
              "'Total expected loss = ₹ 4.93 crores'"
            ],
            "application/vnd.google.colaboratory.intrinsic+json": {
              "type": "string"
            }
          },
          "metadata": {},
          "execution_count": 12
        }
      ]
    },
    {
      "cell_type": "code",
      "source": [
        "df['Unnamed: 4'].isnull().sum(), df['Unnamed: 5'].isnull().sum(), df.shape[0]"
      ],
      "metadata": {
        "id": "HOIWTdAgr1b9",
        "colab": {
          "base_uri": "https://localhost:8080/"
        },
        "outputId": "ea3214fe-45f8-4259-9f5d-d9ef09f5aea4"
      },
      "execution_count": 13,
      "outputs": [
        {
          "output_type": "execute_result",
          "data": {
            "text/plain": [
              "(10000, 10000, 10000)"
            ]
          },
          "metadata": {},
          "execution_count": 13
        }
      ]
    },
    {
      "cell_type": "code",
      "source": [
        "df.drop(['Unnamed: 4', 'Unnamed: 5'], axis = 1, inplace = True)\n",
        "df.head()"
      ],
      "metadata": {
        "colab": {
          "base_uri": "https://localhost:8080/",
          "height": 267
        },
        "id": "JwasLglI_bt3",
        "outputId": "a0aa5bf8-c30a-465a-d7c1-71f907a90f9b"
      },
      "execution_count": 14,
      "outputs": [
        {
          "output_type": "execute_result",
          "data": {
            "text/plain": [
              "   Customer No.  Exposure at Default (in lakh Rs.)  Recovery (%)  \\\n",
              "0             1                              11.50         20.00   \n",
              "1             2                               0.24          5.10   \n",
              "2             3                               0.04         24.86   \n",
              "3             4                              13.81          2.29   \n",
              "4             5                              19.84          3.47   \n",
              "\n",
              "   Probability of Default  Expected Loss (in Rs.)  \n",
              "0                  0.0070              6440.00000  \n",
              "1                  0.0033                75.16080  \n",
              "2                  0.0022                 6.61232  \n",
              "3                  0.0066              8905.87566  \n",
              "4                  0.0020              3830.31040  "
            ],
            "text/html": [
              "\n",
              "  <div id=\"df-63992c43-4794-4d75-a56a-30dc5a776cd0\">\n",
              "    <div class=\"colab-df-container\">\n",
              "      <div>\n",
              "<style scoped>\n",
              "    .dataframe tbody tr th:only-of-type {\n",
              "        vertical-align: middle;\n",
              "    }\n",
              "\n",
              "    .dataframe tbody tr th {\n",
              "        vertical-align: top;\n",
              "    }\n",
              "\n",
              "    .dataframe thead th {\n",
              "        text-align: right;\n",
              "    }\n",
              "</style>\n",
              "<table border=\"1\" class=\"dataframe\">\n",
              "  <thead>\n",
              "    <tr style=\"text-align: right;\">\n",
              "      <th></th>\n",
              "      <th>Customer No.</th>\n",
              "      <th>Exposure at Default (in lakh Rs.)</th>\n",
              "      <th>Recovery (%)</th>\n",
              "      <th>Probability of Default</th>\n",
              "      <th>Expected Loss (in Rs.)</th>\n",
              "    </tr>\n",
              "  </thead>\n",
              "  <tbody>\n",
              "    <tr>\n",
              "      <th>0</th>\n",
              "      <td>1</td>\n",
              "      <td>11.50</td>\n",
              "      <td>20.00</td>\n",
              "      <td>0.0070</td>\n",
              "      <td>6440.00000</td>\n",
              "    </tr>\n",
              "    <tr>\n",
              "      <th>1</th>\n",
              "      <td>2</td>\n",
              "      <td>0.24</td>\n",
              "      <td>5.10</td>\n",
              "      <td>0.0033</td>\n",
              "      <td>75.16080</td>\n",
              "    </tr>\n",
              "    <tr>\n",
              "      <th>2</th>\n",
              "      <td>3</td>\n",
              "      <td>0.04</td>\n",
              "      <td>24.86</td>\n",
              "      <td>0.0022</td>\n",
              "      <td>6.61232</td>\n",
              "    </tr>\n",
              "    <tr>\n",
              "      <th>3</th>\n",
              "      <td>4</td>\n",
              "      <td>13.81</td>\n",
              "      <td>2.29</td>\n",
              "      <td>0.0066</td>\n",
              "      <td>8905.87566</td>\n",
              "    </tr>\n",
              "    <tr>\n",
              "      <th>4</th>\n",
              "      <td>5</td>\n",
              "      <td>19.84</td>\n",
              "      <td>3.47</td>\n",
              "      <td>0.0020</td>\n",
              "      <td>3830.31040</td>\n",
              "    </tr>\n",
              "  </tbody>\n",
              "</table>\n",
              "</div>\n",
              "      <button class=\"colab-df-convert\" onclick=\"convertToInteractive('df-63992c43-4794-4d75-a56a-30dc5a776cd0')\"\n",
              "              title=\"Convert this dataframe to an interactive table.\"\n",
              "              style=\"display:none;\">\n",
              "        \n",
              "  <svg xmlns=\"http://www.w3.org/2000/svg\" height=\"24px\"viewBox=\"0 0 24 24\"\n",
              "       width=\"24px\">\n",
              "    <path d=\"M0 0h24v24H0V0z\" fill=\"none\"/>\n",
              "    <path d=\"M18.56 5.44l.94 2.06.94-2.06 2.06-.94-2.06-.94-.94-2.06-.94 2.06-2.06.94zm-11 1L8.5 8.5l.94-2.06 2.06-.94-2.06-.94L8.5 2.5l-.94 2.06-2.06.94zm10 10l.94 2.06.94-2.06 2.06-.94-2.06-.94-.94-2.06-.94 2.06-2.06.94z\"/><path d=\"M17.41 7.96l-1.37-1.37c-.4-.4-.92-.59-1.43-.59-.52 0-1.04.2-1.43.59L10.3 9.45l-7.72 7.72c-.78.78-.78 2.05 0 2.83L4 21.41c.39.39.9.59 1.41.59.51 0 1.02-.2 1.41-.59l7.78-7.78 2.81-2.81c.8-.78.8-2.07 0-2.86zM5.41 20L4 18.59l7.72-7.72 1.47 1.35L5.41 20z\"/>\n",
              "  </svg>\n",
              "      </button>\n",
              "      \n",
              "  <style>\n",
              "    .colab-df-container {\n",
              "      display:flex;\n",
              "      flex-wrap:wrap;\n",
              "      gap: 12px;\n",
              "    }\n",
              "\n",
              "    .colab-df-convert {\n",
              "      background-color: #E8F0FE;\n",
              "      border: none;\n",
              "      border-radius: 50%;\n",
              "      cursor: pointer;\n",
              "      display: none;\n",
              "      fill: #1967D2;\n",
              "      height: 32px;\n",
              "      padding: 0 0 0 0;\n",
              "      width: 32px;\n",
              "    }\n",
              "\n",
              "    .colab-df-convert:hover {\n",
              "      background-color: #E2EBFA;\n",
              "      box-shadow: 0px 1px 2px rgba(60, 64, 67, 0.3), 0px 1px 3px 1px rgba(60, 64, 67, 0.15);\n",
              "      fill: #174EA6;\n",
              "    }\n",
              "\n",
              "    [theme=dark] .colab-df-convert {\n",
              "      background-color: #3B4455;\n",
              "      fill: #D2E3FC;\n",
              "    }\n",
              "\n",
              "    [theme=dark] .colab-df-convert:hover {\n",
              "      background-color: #434B5C;\n",
              "      box-shadow: 0px 1px 3px 1px rgba(0, 0, 0, 0.15);\n",
              "      filter: drop-shadow(0px 1px 2px rgba(0, 0, 0, 0.3));\n",
              "      fill: #FFFFFF;\n",
              "    }\n",
              "  </style>\n",
              "\n",
              "      <script>\n",
              "        const buttonEl =\n",
              "          document.querySelector('#df-63992c43-4794-4d75-a56a-30dc5a776cd0 button.colab-df-convert');\n",
              "        buttonEl.style.display =\n",
              "          google.colab.kernel.accessAllowed ? 'block' : 'none';\n",
              "\n",
              "        async function convertToInteractive(key) {\n",
              "          const element = document.querySelector('#df-63992c43-4794-4d75-a56a-30dc5a776cd0');\n",
              "          const dataTable =\n",
              "            await google.colab.kernel.invokeFunction('convertToInteractive',\n",
              "                                                     [key], {});\n",
              "          if (!dataTable) return;\n",
              "\n",
              "          const docLinkHtml = 'Like what you see? Visit the ' +\n",
              "            '<a target=\"_blank\" href=https://colab.research.google.com/notebooks/data_table.ipynb>data table notebook</a>'\n",
              "            + ' to learn more about interactive tables.';\n",
              "          element.innerHTML = '';\n",
              "          dataTable['output_type'] = 'display_data';\n",
              "          await google.colab.output.renderOutput(dataTable, element);\n",
              "          const docLink = document.createElement('div');\n",
              "          docLink.innerHTML = docLinkHtml;\n",
              "          element.appendChild(docLink);\n",
              "        }\n",
              "      </script>\n",
              "    </div>\n",
              "  </div>\n",
              "  "
            ]
          },
          "metadata": {},
          "execution_count": 14
        }
      ]
    },
    {
      "cell_type": "code",
      "source": [
        "df.to_csv('Student Loan - Expected Loss.csv', index=False)"
      ],
      "metadata": {
        "id": "EuCkV5gI_zep"
      },
      "execution_count": 15,
      "outputs": []
    },
    {
      "cell_type": "code",
      "source": [],
      "metadata": {
        "id": "mOKZruRVAbqs"
      },
      "execution_count": 15,
      "outputs": []
    }
  ]
}