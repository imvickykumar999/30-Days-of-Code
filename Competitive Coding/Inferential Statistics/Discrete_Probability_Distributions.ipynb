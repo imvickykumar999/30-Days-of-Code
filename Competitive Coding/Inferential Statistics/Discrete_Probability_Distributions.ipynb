{
  "nbformat": 4,
  "nbformat_minor": 0,
  "metadata": {
    "colab": {
      "provenance": []
    },
    "kernelspec": {
      "name": "python3",
      "display_name": "Python 3"
    },
    "language_info": {
      "name": "python"
    }
  },
  "cells": [
    {
      "cell_type": "markdown",
      "source": [
        "# Probability Without Experiment - I"
      ],
      "metadata": {
        "id": "UJPHBvWH5CmE"
      }
    },
    {
      "cell_type": "code",
      "execution_count": 1,
      "metadata": {
        "id": "PmRJX1zR452u"
      },
      "outputs": [],
      "source": [
        "def fact(n):\n",
        "  if n <= 1:\n",
        "    return 1\n",
        "  else:\n",
        "    return n * fact(n-1)"
      ]
    },
    {
      "cell_type": "code",
      "source": [
        "def per(n, r):\n",
        "  return int(fact(n) / fact(n-r))"
      ],
      "metadata": {
        "id": "snpq6lzQ5975"
      },
      "execution_count": 2,
      "outputs": []
    },
    {
      "cell_type": "code",
      "source": [
        "def com(n, r):\n",
        "  return int(per(n, r) / fact(r))"
      ],
      "metadata": {
        "id": "Ar5FiJNd6A9F"
      },
      "execution_count": 3,
      "outputs": []
    },
    {
      "cell_type": "code",
      "source": [
        "def px(n, r, p):\n",
        "  return com(n, r) * (p**r) * (1 - p)**(n - r)"
      ],
      "metadata": {
        "id": "qbnjVRzHPri-"
      },
      "execution_count": 4,
      "outputs": []
    },
    {
      "cell_type": "markdown",
      "source": [
        "Probability Without Experiment\n",
        "------------\n",
        "\n",
        "What is the probability that you would get this combination of balls after 4 trials? \n",
        "\n",
        "    One trial = taking out a ball, \n",
        "    noting its colour, and \n",
        "    putting it back in the bag.\n",
        "\n",
        "Note that the bag contains 2 blue and 3 red balls.\n",
        "\n",
        "![ss](https://images.upgrad.com/dc1dc2c5-666e-46ad-8420-47c3955e5c90-pasted%20image%200.png)\n",
        "\n",
        "    i.e., the combination Blue-Red-Red-Red.\n",
        "\n",
        "You’re not expected to know the right answer at this point. \n",
        "\n",
        "This question is given just to get you thinking in the right direction.\n",
        "\n",
        "    0.4*0.4*0.4*0.4\n",
        "\n",
        "    0.6*0.6*0.6*0.6\n",
        "\n",
        "    0.4*0.6*0.6*0.6\n",
        "\n",
        "    0.4*0.4*0.6*0.6\n",
        "\n",
        "---------\n",
        "\n",
        "    0.4 * 0.6 * 0.6 * 0.6\n",
        "\n",
        "    ✓ Correct\n",
        "    Feedback:\n",
        "\n",
        "The probability of getting a `blue ball` in 1 trial is `0.4`\n",
        "\n",
        "The probability of getting a `red ball`, as you saw earlier, is `0.6`\n",
        "\n",
        "Now, if you use the multiplication rule of probability to find the probability for the given combination, you’ll get: \n",
        "\n",
        "P(blue ball in first trial) * P(red ball in second trial) * P(red ball in third trial) * P(red ball in fourth trial) \n",
        "\n",
        "    = 0.4 * 0.6 * 0.6 * 0.6 = 0.0864"
      ],
      "metadata": {
        "id": "gStBuf2t5IXu"
      }
    },
    {
      "cell_type": "code",
      "source": [
        "2/5, 3/5"
      ],
      "metadata": {
        "colab": {
          "base_uri": "https://localhost:8080/"
        },
        "id": "LvkT5meb9G2l",
        "outputId": "1a7e65fd-b250-4259-e386-d13fdcaa69c8"
      },
      "execution_count": 5,
      "outputs": [
        {
          "output_type": "execute_result",
          "data": {
            "text/plain": [
              "(0.4, 0.6)"
            ]
          },
          "metadata": {},
          "execution_count": 5
        }
      ]
    },
    {
      "cell_type": "code",
      "source": [
        "2/5 * 3/5 * 3/5 * 3/5"
      ],
      "metadata": {
        "colab": {
          "base_uri": "https://localhost:8080/"
        },
        "id": "AHqNo-O86K1k",
        "outputId": "7be34577-be77-484d-af23-2c9d3ee190d1"
      },
      "execution_count": 6,
      "outputs": [
        {
          "output_type": "execute_result",
          "data": {
            "text/plain": [
              "0.08640000000000003"
            ]
          },
          "metadata": {},
          "execution_count": 6
        }
      ]
    },
    {
      "cell_type": "markdown",
      "source": [
        "Probability Without Experiment\n",
        "---------\n",
        "\n",
        "What is the probability that you will get 3 red balls after 4 trials? \n",
        "\n",
        "(One trial = taking out a ball, noting its colour, and putting it back in the bag.)\n",
        "\n",
        "You’re not expected to know the right answer at this point. \n",
        "\n",
        "This question is given just to get you thinking in the right direction.\n",
        "\n",
        "    0.4*0.6*0.6*0.6\n",
        "\n",
        "    2*(0.4*0.6*0.6*0.6)\n",
        "\n",
        "    3*(0.4*0.6*0.6*0.6)\n",
        "\n",
        "    4*(0.4*0.6*0.6*0.6)\n",
        "\n",
        "----------\n",
        "\n",
        "    4 * (0.4 * 0.6 * 0.6 * 0.6)\n",
        "\n",
        "    ✓ Correct\n",
        "    Feedback:\n",
        "\n",
        "Recall that there are four combinations in which you could get three red balls. \n",
        "\n",
        "All these four combinations have the same probability, i.e. 0.4*0.6*0.6*0.6. \n",
        "\n",
        "So, the total probability of getting 3 red balls is 4*(0.4*0.6*0.6*0.6)."
      ],
      "metadata": {
        "id": "8NzXyS6r9U2d"
      }
    },
    {
      "cell_type": "code",
      "source": [
        "(2/5 * 3/5 * 3/5 * 3/5) + (2/5 * 3/5 * 3/5 * 3/5) + (2/5 * 3/5 * 3/5 * 3/5) + (2/5 * 3/5 * 3/5 * 3/5)"
      ],
      "metadata": {
        "colab": {
          "base_uri": "https://localhost:8080/"
        },
        "id": "DknJzzHS8xhJ",
        "outputId": "d621f106-6768-4911-d9c4-9ffdc56668d1"
      },
      "execution_count": 7,
      "outputs": [
        {
          "output_type": "execute_result",
          "data": {
            "text/plain": [
              "0.34560000000000013"
            ]
          },
          "metadata": {},
          "execution_count": 7
        }
      ]
    },
    {
      "cell_type": "code",
      "source": [
        "4 * (2/5 * 3/5 * 3/5 * 3/5)"
      ],
      "metadata": {
        "colab": {
          "base_uri": "https://localhost:8080/"
        },
        "id": "iAWpXIYs-FXh",
        "outputId": "25cf0d0a-a87c-43d9-c989-4d2ba09a7424"
      },
      "execution_count": 8,
      "outputs": [
        {
          "output_type": "execute_result",
          "data": {
            "text/plain": [
              "0.34560000000000013"
            ]
          },
          "metadata": {},
          "execution_count": 8
        }
      ]
    },
    {
      "cell_type": "markdown",
      "source": [
        "Probability Without Experiment\n",
        "------------\n",
        "\n",
        "What is the probability that you would get the combination of balls shown below after 4 trials? \n",
        "\n",
        "(One trial = taking out a ball, noting its colour, and putting it back in the bag).\n",
        " \n",
        "![ss](https://images.upgrad.com/42330c5c-adc3-4056-aa0a-b421224600bf-image1.png)\n",
        "\n",
        "Note that we have changed the contents of the bag — now it has 4 red balls and 1 blue ball.\n",
        "\n",
        "    0.4 * 0.6 * 0.6 * 0.6\n",
        "\n",
        "    0.2 * 0.2 * 0.2 * 0.2\n",
        "\n",
        "    0.8 * 0.8 * 0.8 * 0.8\n",
        "\n",
        "    0.2 * 0.8 * 0.8 * 0.8\n",
        "\n",
        "--------------\n",
        "\n",
        "    0.2 * 0.8 * 0.8 * 0.8\n",
        "\n",
        "    ✓ Correct\n",
        "    Feedback:\n",
        "\n",
        "Since there are 4 red balls and 1 blue ball in the bag now, the probability of getting a `blue ball in 1 trial is 0.2`\n",
        "\n",
        "The probability of getting a `red ball is 0.8` \n",
        "\n",
        "Now, if you use the multiplication rule of probability to find the probability for the given combination, you’ll get: \n",
        "\n",
        "P(blue ball in first trial)*P(red ball in second trial)*P(red ball in third trial)*P(red ball in fourth trial) \n",
        "\n",
        "    = 0.2 * 0.8 * 0.8 * 0.8 = 0.1024"
      ],
      "metadata": {
        "id": "6s3hyrClLIgv"
      }
    },
    {
      "cell_type": "code",
      "source": [
        "1/5, 4/5"
      ],
      "metadata": {
        "colab": {
          "base_uri": "https://localhost:8080/"
        },
        "id": "FBpFVYwKMT0k",
        "outputId": "c1ac2097-7ec3-4e94-dbe1-7c274f6c838a"
      },
      "execution_count": 9,
      "outputs": [
        {
          "output_type": "execute_result",
          "data": {
            "text/plain": [
              "(0.2, 0.8)"
            ]
          },
          "metadata": {},
          "execution_count": 9
        }
      ]
    },
    {
      "cell_type": "code",
      "source": [
        "1/5 * (4/5)**3"
      ],
      "metadata": {
        "id": "FojsbS78-KE3",
        "colab": {
          "base_uri": "https://localhost:8080/"
        },
        "outputId": "0a2284d9-08dd-4096-9911-32c12a29f4f9"
      },
      "execution_count": 10,
      "outputs": [
        {
          "output_type": "execute_result",
          "data": {
            "text/plain": [
              "0.10240000000000003"
            ]
          },
          "metadata": {},
          "execution_count": 10
        }
      ]
    },
    {
      "cell_type": "code",
      "source": [
        "0.2 * 0.8 * 0.8 * 0.8"
      ],
      "metadata": {
        "colab": {
          "base_uri": "https://localhost:8080/"
        },
        "id": "B99SGRhnMY4z",
        "outputId": "c8e81f03-73bf-46a0-a995-5a31086c831e"
      },
      "execution_count": 11,
      "outputs": [
        {
          "output_type": "execute_result",
          "data": {
            "text/plain": [
              "0.10240000000000003"
            ]
          },
          "metadata": {},
          "execution_count": 11
        }
      ]
    },
    {
      "cell_type": "markdown",
      "source": [
        "Probability Without Experiment\n",
        "----------\n",
        "\n",
        "What is the probability that you would get exactly 3 red balls after 4 trials?\n",
        "\n",
        "(One trial = taking out a ball, noting its colour, and putting it back in the bag.)\n",
        "\n",
        "    0.2 * 0.8 * 0.8 * 0.8\n",
        "\n",
        "    2 * (0.2 * 0.8 * 0.8 * 0.8)\n",
        "\n",
        "    3 * (0.2 * 0.8 * 0.8 * 0.8)\n",
        "\n",
        "    4 * (0.2 * 0.8 * 0.8 * 0.8)\n",
        "\n",
        "---------\n",
        "\n",
        "    4 * (0.2 * 0.8 * 0.8 * 0.8)\n",
        "\n",
        "    ✓ Correct\n",
        "    Feedback:\n",
        "\n",
        "Recall that there are four combinations in which you could get three red balls. \n",
        "\n",
        "All these four combinations have the same probability, \n",
        "\n",
        "    i.e. 0.2 * 0.8 * 0.8 * 0.8\n",
        "\n",
        "So, the total probability of getting 3 red balls is \n",
        "\n",
        "    4 * (0.2 * 0.8 * 0.8 * 0.8)"
      ],
      "metadata": {
        "id": "I8f15somMgGM"
      }
    },
    {
      "cell_type": "code",
      "source": [
        "f'4 * ({1/5} * {4/5} * {4/5} * {4/5})'"
      ],
      "metadata": {
        "colab": {
          "base_uri": "https://localhost:8080/",
          "height": 36
        },
        "id": "1XR5_znbMZSv",
        "outputId": "fe20a2f6-848c-453b-dfcf-1ac8fd06a86f"
      },
      "execution_count": 12,
      "outputs": [
        {
          "output_type": "execute_result",
          "data": {
            "text/plain": [
              "'4 * (0.2 * 0.8 * 0.8 * 0.8)'"
            ],
            "application/vnd.google.colaboratory.intrinsic+json": {
              "type": "string"
            }
          },
          "metadata": {},
          "execution_count": 12
        }
      ]
    },
    {
      "cell_type": "markdown",
      "source": [
        "# Binomial Distribution\n",
        "\n",
        "P ( X = r ) = n C r * ( p ) ** r * ( 1 − p ) ** (n − r)"
      ],
      "metadata": {
        "id": "P9BPnGvOVgQb"
      }
    },
    {
      "cell_type": "markdown",
      "source": [
        "Generalised Probability\n",
        "------------\n",
        "\n",
        "What is the probability that you would get 4 red balls after 4 trials \n",
        "\n",
        "(One trial = taking out a ball, noting its colour, and putting it back in the bag), \n",
        "\n",
        "if the probability of getting a red ball in one trial is equal to p?\n",
        "\n",
        "    4*p\n",
        "\n",
        "    p**4\n",
        "\n",
        "    4p**3\n",
        "\n",
        "    p**3 * (1−p)\n",
        "\n",
        "----------\n",
        "\n",
        "    p**4\n",
        "\n",
        "    ✓ Correct\n",
        "    Feedback:\n",
        "\n",
        "You know that the probability of getting a red ball in one trial is equal to p. \n",
        "\n",
        "Now, for getting 4 red balls in 4 trials, \n",
        "\n",
        "you would want to get a red ball in the first trial, \n",
        "\n",
        "another one in the second trial, yet another one in the third trial, \n",
        "\n",
        "and one final red ball in the fourth trial. \n",
        "\n",
        "Hence, the probability would be equal to \n",
        "\n",
        "    p*p*p*p = p^4"
      ],
      "metadata": {
        "id": "-knJQ5ZzWORx"
      }
    },
    {
      "cell_type": "markdown",
      "source": [
        "Generalised Probability\n",
        "-----------\n",
        "\n",
        "Now, let’s say you draw a ball from the bag, note its colour, and put it back in the bag. \n",
        "\n",
        "Let’s say you perform this activity n times. \n",
        "\n",
        "What is the probability that you would get a red ball r times out of n? \n",
        "\n",
        "In other words, what will be P(X=r)? \n",
        "\n",
        "(Word Limit: 150)\n",
        "\n",
        "    [Hint: You will need to know the number of combinations \n",
        "    in which you could get r red balls and n-r blue balls.]\n",
        "\n",
        "    [You’re not expected to know the right answer at this point. \n",
        "    This question is given just to get you thinking in the right direction.]\n",
        "\n",
        "----------\n",
        "\n",
        "Suggested Answer\n",
        "-------\n",
        "\n",
        "The number of combinations in which you could get r red balls and n-r blue balls is equal to nCr\n",
        "\n",
        "So, the final probability will be ​\n",
        "\n",
        "P ( X = r ) = n C r * ( p ) ** r * ( 1 − p ) ** (n − r)"
      ],
      "metadata": {
        "id": "terMpwbtlW9K"
      }
    },
    {
      "cell_type": "markdown",
      "source": [
        "Binomial Distribution\n",
        "--------\n",
        "\n",
        "A student attempts a test with 10 multiple choice questions, where each question has 4 possible options. \n",
        "\n",
        "She does not know the correct answer to any of the questions and just randomly selects one of the 4 options for each of them. \n",
        "\n",
        "The probability that she would still get 3 questions correct is:\n",
        "\n",
        "10\n",
        "C\n",
        "3\n",
        "(\n",
        "1\n",
        "/\n",
        "4\n",
        ")\n",
        "10\n",
        "\n",
        "10\n",
        "C\n",
        "3\n",
        "(\n",
        "3\n",
        "/\n",
        "4\n",
        ")\n",
        "3\n",
        "(\n",
        "1\n",
        "/\n",
        "4\n",
        ")\n",
        "7\n",
        "\n",
        "10\n",
        "C\n",
        "3\n",
        "(\n",
        "1\n",
        "/\n",
        "4\n",
        ")\n",
        "3\n",
        "(\n",
        "3\n",
        "/\n",
        "4\n",
        ")\n",
        "7\n",
        "\n",
        "\n",
        "Binomial probability cannot be used here\n",
        "\n",
        "------------\n",
        "\n",
        "10\n",
        "C\n",
        "3\n",
        "(\n",
        "1\n",
        "/\n",
        "4\n",
        ")\n",
        "3\n",
        "(\n",
        "3\n",
        "/\n",
        "4\n",
        ")\n",
        "7\n",
        "\n",
        "    ✓ Correct\n",
        "    Feedback:\n",
        "\n",
        "There are a total of 4 options. \n",
        "\n",
        "Hence, the probability that the student would randomly select the correct option is 1 / 4. \n",
        "\n",
        "    Hence, p = 1 / 4\n",
        "\n",
        "Now, the probability of getting 3 out of 10 questions correct can be found by using the binomial probability for n = 10, r = 3. \n",
        "\n",
        "Hence, the probability = \n",
        "\n",
        "10\n",
        "C\n",
        "3\n",
        "(\n",
        "1\n",
        "/\n",
        "4\n",
        ")\n",
        "3\n",
        "(\n",
        "3\n",
        "/\n",
        "4\n",
        ")\n",
        "7\n",
        "\n",
        "    = 0.25"
      ],
      "metadata": {
        "id": "76PMh7oUrgeB"
      }
    },
    {
      "cell_type": "code",
      "source": [
        "com(10, 3) * ((1/4) ** 3) * (1 - 1/4) ** (10 - 3)"
      ],
      "metadata": {
        "colab": {
          "base_uri": "https://localhost:8080/"
        },
        "id": "LOHEcdZVm3uT",
        "outputId": "8b18141a-2c17-4dc1-a7e1-b04ce1cf7ec7"
      },
      "execution_count": 13,
      "outputs": [
        {
          "output_type": "execute_result",
          "data": {
            "text/plain": [
              "0.25028228759765625"
            ]
          },
          "metadata": {},
          "execution_count": 13
        }
      ]
    },
    {
      "cell_type": "code",
      "source": [
        "n, r, p = 10, 3, 1/4\n",
        "px(n, r, p)"
      ],
      "metadata": {
        "colab": {
          "base_uri": "https://localhost:8080/"
        },
        "id": "SLjRMbnFQWhq",
        "outputId": "331615c0-b45e-404d-99dd-78893e55ecdf"
      },
      "execution_count": 14,
      "outputs": [
        {
          "output_type": "execute_result",
          "data": {
            "text/plain": [
              "0.25028228759765625"
            ]
          },
          "metadata": {},
          "execution_count": 14
        }
      ]
    },
    {
      "cell_type": "markdown",
      "source": [
        "Binomial Distribution\n",
        "---------\n",
        "\n",
        "Now, the test is modified by adding 5 true and false questions to the set of 10 MCQs. \n",
        "\n",
        "The student does not know the answer to the new questions either and randomly selects true or false for each of them too.\n",
        "\n",
        "Now, according to `binomial distribution`, the probability that she would still get 5 of the 15 questions \n",
        "\n",
        "(5 true/false Qs, and 10 MCQs with 4 options) correct is:\n",
        "\n",
        "------------\n",
        "\n",
        "15\n",
        "C\n",
        "5\n",
        "(\n",
        "1\n",
        "/\n",
        "4\n",
        ")\n",
        "5\n",
        "(\n",
        "3\n",
        "/\n",
        "4\n",
        ")\n",
        "10\n",
        "\n",
        "15\n",
        "C\n",
        "5\n",
        "(\n",
        "1\n",
        "/\n",
        "2\n",
        ")\n",
        "5\n",
        "(\n",
        "1\n",
        "/\n",
        "2\n",
        ")\n",
        "10\n",
        "\n",
        "15\n",
        "C\n",
        "5\n",
        "(\n",
        "1\n",
        "/\n",
        "4\n",
        ")\n",
        "3\n",
        "(\n",
        "1\n",
        "/\n",
        "2\n",
        ")\n",
        "2\n",
        "(\n",
        "3\n",
        "/\n",
        "4\n",
        ")\n",
        "10\n",
        "\n",
        "Binomial probability cannot be used here\n",
        "\n",
        "---------------\n",
        "\n",
        "    Binomial probability cannot be used here\n",
        "\n",
        "    ✓ Correct\n",
        "    Feedback:\n",
        "\n",
        "For 10 of the questions (MCQs), the probability of success is p = 1 / 4. \n",
        "\n",
        "However, for the remaining 5 questions (T/F questions), the probability of success is p = 1 / 2. \n",
        "\n",
        "Hence, you `cannot use binomial probability` here, as the probability of success is not the same in all the trials.\n",
        "\n",
        "<br>\n",
        "\n",
        "[![ss](https://upww.screenrec.com/images/f_YzlRXyZbIVhNOen6AtvSJsdfqkQp0129.png)](https://webspace.maths.qmul.ac.uk/i.goldsheid/MTH5118/Notes6-09.pdf)"
      ],
      "metadata": {
        "id": "iPOW7bVNsyRJ"
      }
    },
    {
      "cell_type": "markdown",
      "source": [
        "\"Less than\" Probability\n",
        "----------\n",
        "\n",
        "Recall the UpGrad game with the red and blue balls? \n",
        "\n",
        "For this game, can you find the probability of getting 3 or fewer red balls i.e. P(X<3)?\n",
        "\n",
        "The original probability distribution is given here -\n",
        "\n",
        "<br>\n",
        "\n",
        "x (Number of Red Balls) |\tP(x)\n",
        "--- | ---\n",
        "0\t| 0.0256\n",
        "1\t| 0.1536\n",
        "2\t| 0.3456\n",
        "3\t| 0.3456\n",
        "4\t| 0.1296\n",
        "\n",
        "<br>\n",
        "\n",
        "    0.8704\n",
        "\n",
        "    0.1296\n",
        "\n",
        "    0.7408\n",
        "\n",
        "-------\n",
        "\n",
        "    0.8704\n",
        "\n",
        "    ✓ Correct\n",
        "    Feedback:\n",
        "\n",
        "P(X<=3) = the probability of gettingless than or equal to 3 red balls, \n",
        "\n",
        "i.e. 0, 1, 2, or 3 red balls. \n",
        "\n",
        "So, the required probability \n",
        "\n",
        "    = P(X=0) + P(X=1) + P(X=2) + P(X=3)\n",
        "\n",
        "which evaluates to `0.0256 + 0.1536 + 0.3456 + 0.3456 = 0.8704`"
      ],
      "metadata": {
        "id": "ktfwsPEAuaeb"
      }
    },
    {
      "cell_type": "code",
      "source": [
        "0.0256 + 0.1536 + 0.3456 + 0.3456"
      ],
      "metadata": {
        "colab": {
          "base_uri": "https://localhost:8080/"
        },
        "id": "rCQPiXrdrBn-",
        "outputId": "d18510f5-bf2f-4b70-bd89-d5322dd92112"
      },
      "execution_count": 15,
      "outputs": [
        {
          "output_type": "execute_result",
          "data": {
            "text/plain": [
              "0.8704000000000001"
            ]
          },
          "metadata": {},
          "execution_count": 15
        }
      ]
    },
    {
      "cell_type": "markdown",
      "source": [
        "Cumulative Probability\n",
        "---------\n",
        "\n",
        "Let’s define X as the number of wickets Ishant Sharma would take in the next T20 match he plays. \n",
        "\n",
        "Also, the following is an incomplete table for cumulative probability based on previous experience:\n",
        "\n",
        "<br>\n",
        "\n",
        "x(Number of wickets taken by Ishant Sharma in a T20 Match)\t|  F(x)  \n",
        "---- | ----\n",
        "0\t| 0.35\n",
        "1\t| 0.55\n",
        "2\t| 0.75\n",
        " \n",
        "<br>\n",
        "\n",
        "What is the probability that he would take more than 2 wickets in the next  T20 match he plays?\n",
        "\n",
        "    0.75\n",
        "\n",
        "    0.25\n",
        "\n",
        "    0.5\n",
        "\n",
        "    1\n",
        "\n",
        "---------\n",
        "\n",
        "    0.25\n",
        "\n",
        "    ✓ Correct\n",
        "    Feedback:\n",
        "\n",
        "You know that F(2) i.e. P(X<=2) is 0.75\n",
        "\n",
        "Now, you have to find the probability of X being higher than 2, i.e. P(X>2). \n",
        "\n",
        "Notice that the sum of P(X<=2) and P(X>2) would be equal to 1, because their sum will cover all possible outcomes. \n",
        "\n",
        "Hence, `P(X<=2) + P(X>2) = 1`, which gives 0.75 + P(X>2) = 1. \n",
        "\n",
        "Hence, P(X>2) = 0.25"
      ],
      "metadata": {
        "id": "WxFzdmlUzQfY"
      }
    },
    {
      "cell_type": "code",
      "source": [
        "1 - 0.75"
      ],
      "metadata": {
        "colab": {
          "base_uri": "https://localhost:8080/"
        },
        "id": "bjxzOV37uTct",
        "outputId": "04e2f1f7-2b6f-41cf-b412-1996ccdc65a1"
      },
      "execution_count": 16,
      "outputs": [
        {
          "output_type": "execute_result",
          "data": {
            "text/plain": [
              "0.25"
            ]
          },
          "metadata": {},
          "execution_count": 16
        }
      ]
    },
    {
      "cell_type": "markdown",
      "source": [
        "# Practice Questions"
      ],
      "metadata": {
        "id": "lciW-A2m0ktN"
      }
    },
    {
      "cell_type": "code",
      "source": [
        "import pandas as pd\n",
        "df = pd.read_excel('Expected Value for Binomial Distribution.xlsx', \n",
        "      index_col = False,\n",
        "      skiprows=1, \n",
        ")\n",
        "\n",
        "df1 = df.iloc[:, [1, 2, 3]]\n",
        "df1"
      ],
      "metadata": {
        "id": "FVa-nXnbztun",
        "colab": {
          "base_uri": "https://localhost:8080/",
          "height": 394
        },
        "outputId": "90e277f4-62a9-4a9b-e0dc-9947c2478054"
      },
      "execution_count": 17,
      "outputs": [
        {
          "output_type": "execute_result",
          "data": {
            "text/plain": [
              "     r        P(X=r)      r*P(X=r)\n",
              "0    0  5.987369e-01  0.000000e+00\n",
              "1    1  3.151247e-01  3.151247e-01\n",
              "2    2  7.463480e-02  1.492696e-01\n",
              "3    3  1.047506e-02  3.142518e-02\n",
              "4    4  9.648081e-04  3.859232e-03\n",
              "5    5  6.093525e-05  3.046762e-04\n",
              "6    6  2.672599e-06  1.603559e-05\n",
              "7    7  8.037891e-08  5.626523e-07\n",
              "8    8  1.586426e-09  1.269141e-08\n",
              "9    9  1.855469e-11  1.669922e-10\n",
              "10  10  9.765625e-14  9.765625e-13"
            ],
            "text/html": [
              "\n",
              "  <div id=\"df-234abd3a-22b3-48c4-911d-4a8ca9dbe407\">\n",
              "    <div class=\"colab-df-container\">\n",
              "      <div>\n",
              "<style scoped>\n",
              "    .dataframe tbody tr th:only-of-type {\n",
              "        vertical-align: middle;\n",
              "    }\n",
              "\n",
              "    .dataframe tbody tr th {\n",
              "        vertical-align: top;\n",
              "    }\n",
              "\n",
              "    .dataframe thead th {\n",
              "        text-align: right;\n",
              "    }\n",
              "</style>\n",
              "<table border=\"1\" class=\"dataframe\">\n",
              "  <thead>\n",
              "    <tr style=\"text-align: right;\">\n",
              "      <th></th>\n",
              "      <th>r</th>\n",
              "      <th>P(X=r)</th>\n",
              "      <th>r*P(X=r)</th>\n",
              "    </tr>\n",
              "  </thead>\n",
              "  <tbody>\n",
              "    <tr>\n",
              "      <th>0</th>\n",
              "      <td>0</td>\n",
              "      <td>5.987369e-01</td>\n",
              "      <td>0.000000e+00</td>\n",
              "    </tr>\n",
              "    <tr>\n",
              "      <th>1</th>\n",
              "      <td>1</td>\n",
              "      <td>3.151247e-01</td>\n",
              "      <td>3.151247e-01</td>\n",
              "    </tr>\n",
              "    <tr>\n",
              "      <th>2</th>\n",
              "      <td>2</td>\n",
              "      <td>7.463480e-02</td>\n",
              "      <td>1.492696e-01</td>\n",
              "    </tr>\n",
              "    <tr>\n",
              "      <th>3</th>\n",
              "      <td>3</td>\n",
              "      <td>1.047506e-02</td>\n",
              "      <td>3.142518e-02</td>\n",
              "    </tr>\n",
              "    <tr>\n",
              "      <th>4</th>\n",
              "      <td>4</td>\n",
              "      <td>9.648081e-04</td>\n",
              "      <td>3.859232e-03</td>\n",
              "    </tr>\n",
              "    <tr>\n",
              "      <th>5</th>\n",
              "      <td>5</td>\n",
              "      <td>6.093525e-05</td>\n",
              "      <td>3.046762e-04</td>\n",
              "    </tr>\n",
              "    <tr>\n",
              "      <th>6</th>\n",
              "      <td>6</td>\n",
              "      <td>2.672599e-06</td>\n",
              "      <td>1.603559e-05</td>\n",
              "    </tr>\n",
              "    <tr>\n",
              "      <th>7</th>\n",
              "      <td>7</td>\n",
              "      <td>8.037891e-08</td>\n",
              "      <td>5.626523e-07</td>\n",
              "    </tr>\n",
              "    <tr>\n",
              "      <th>8</th>\n",
              "      <td>8</td>\n",
              "      <td>1.586426e-09</td>\n",
              "      <td>1.269141e-08</td>\n",
              "    </tr>\n",
              "    <tr>\n",
              "      <th>9</th>\n",
              "      <td>9</td>\n",
              "      <td>1.855469e-11</td>\n",
              "      <td>1.669922e-10</td>\n",
              "    </tr>\n",
              "    <tr>\n",
              "      <th>10</th>\n",
              "      <td>10</td>\n",
              "      <td>9.765625e-14</td>\n",
              "      <td>9.765625e-13</td>\n",
              "    </tr>\n",
              "  </tbody>\n",
              "</table>\n",
              "</div>\n",
              "      <button class=\"colab-df-convert\" onclick=\"convertToInteractive('df-234abd3a-22b3-48c4-911d-4a8ca9dbe407')\"\n",
              "              title=\"Convert this dataframe to an interactive table.\"\n",
              "              style=\"display:none;\">\n",
              "        \n",
              "  <svg xmlns=\"http://www.w3.org/2000/svg\" height=\"24px\"viewBox=\"0 0 24 24\"\n",
              "       width=\"24px\">\n",
              "    <path d=\"M0 0h24v24H0V0z\" fill=\"none\"/>\n",
              "    <path d=\"M18.56 5.44l.94 2.06.94-2.06 2.06-.94-2.06-.94-.94-2.06-.94 2.06-2.06.94zm-11 1L8.5 8.5l.94-2.06 2.06-.94-2.06-.94L8.5 2.5l-.94 2.06-2.06.94zm10 10l.94 2.06.94-2.06 2.06-.94-2.06-.94-.94-2.06-.94 2.06-2.06.94z\"/><path d=\"M17.41 7.96l-1.37-1.37c-.4-.4-.92-.59-1.43-.59-.52 0-1.04.2-1.43.59L10.3 9.45l-7.72 7.72c-.78.78-.78 2.05 0 2.83L4 21.41c.39.39.9.59 1.41.59.51 0 1.02-.2 1.41-.59l7.78-7.78 2.81-2.81c.8-.78.8-2.07 0-2.86zM5.41 20L4 18.59l7.72-7.72 1.47 1.35L5.41 20z\"/>\n",
              "  </svg>\n",
              "      </button>\n",
              "      \n",
              "  <style>\n",
              "    .colab-df-container {\n",
              "      display:flex;\n",
              "      flex-wrap:wrap;\n",
              "      gap: 12px;\n",
              "    }\n",
              "\n",
              "    .colab-df-convert {\n",
              "      background-color: #E8F0FE;\n",
              "      border: none;\n",
              "      border-radius: 50%;\n",
              "      cursor: pointer;\n",
              "      display: none;\n",
              "      fill: #1967D2;\n",
              "      height: 32px;\n",
              "      padding: 0 0 0 0;\n",
              "      width: 32px;\n",
              "    }\n",
              "\n",
              "    .colab-df-convert:hover {\n",
              "      background-color: #E2EBFA;\n",
              "      box-shadow: 0px 1px 2px rgba(60, 64, 67, 0.3), 0px 1px 3px 1px rgba(60, 64, 67, 0.15);\n",
              "      fill: #174EA6;\n",
              "    }\n",
              "\n",
              "    [theme=dark] .colab-df-convert {\n",
              "      background-color: #3B4455;\n",
              "      fill: #D2E3FC;\n",
              "    }\n",
              "\n",
              "    [theme=dark] .colab-df-convert:hover {\n",
              "      background-color: #434B5C;\n",
              "      box-shadow: 0px 1px 3px 1px rgba(0, 0, 0, 0.15);\n",
              "      filter: drop-shadow(0px 1px 2px rgba(0, 0, 0, 0.3));\n",
              "      fill: #FFFFFF;\n",
              "    }\n",
              "  </style>\n",
              "\n",
              "      <script>\n",
              "        const buttonEl =\n",
              "          document.querySelector('#df-234abd3a-22b3-48c4-911d-4a8ca9dbe407 button.colab-df-convert');\n",
              "        buttonEl.style.display =\n",
              "          google.colab.kernel.accessAllowed ? 'block' : 'none';\n",
              "\n",
              "        async function convertToInteractive(key) {\n",
              "          const element = document.querySelector('#df-234abd3a-22b3-48c4-911d-4a8ca9dbe407');\n",
              "          const dataTable =\n",
              "            await google.colab.kernel.invokeFunction('convertToInteractive',\n",
              "                                                     [key], {});\n",
              "          if (!dataTable) return;\n",
              "\n",
              "          const docLinkHtml = 'Like what you see? Visit the ' +\n",
              "            '<a target=\"_blank\" href=https://colab.research.google.com/notebooks/data_table.ipynb>data table notebook</a>'\n",
              "            + ' to learn more about interactive tables.';\n",
              "          element.innerHTML = '';\n",
              "          dataTable['output_type'] = 'display_data';\n",
              "          await google.colab.output.renderOutput(dataTable, element);\n",
              "          const docLink = document.createElement('div');\n",
              "          docLink.innerHTML = docLinkHtml;\n",
              "          element.appendChild(docLink);\n",
              "        }\n",
              "      </script>\n",
              "    </div>\n",
              "  </div>\n",
              "  "
            ]
          },
          "metadata": {},
          "execution_count": 17
        }
      ]
    },
    {
      "cell_type": "code",
      "source": [
        "df2 = df.iloc[[0, 2], [5, 6]]\n",
        "df2.reset_index(drop=True, inplace=True)\n",
        "df2"
      ],
      "metadata": {
        "colab": {
          "base_uri": "https://localhost:8080/",
          "height": 112
        },
        "id": "oTuLeufNLqCq",
        "outputId": "a0ba2ba7-6b9c-4de9-e016-6a2f6b2924f8"
      },
      "execution_count": 18,
      "outputs": [
        {
          "output_type": "execute_result",
          "data": {
            "text/plain": [
              "             n    10\n",
              "0            p  0.05\n",
              "1  ∑(r*P(X=r))  0.50"
            ],
            "text/html": [
              "\n",
              "  <div id=\"df-b27ca360-70cc-4d29-8b15-2acc1075ebc9\">\n",
              "    <div class=\"colab-df-container\">\n",
              "      <div>\n",
              "<style scoped>\n",
              "    .dataframe tbody tr th:only-of-type {\n",
              "        vertical-align: middle;\n",
              "    }\n",
              "\n",
              "    .dataframe tbody tr th {\n",
              "        vertical-align: top;\n",
              "    }\n",
              "\n",
              "    .dataframe thead th {\n",
              "        text-align: right;\n",
              "    }\n",
              "</style>\n",
              "<table border=\"1\" class=\"dataframe\">\n",
              "  <thead>\n",
              "    <tr style=\"text-align: right;\">\n",
              "      <th></th>\n",
              "      <th>n</th>\n",
              "      <th>10</th>\n",
              "    </tr>\n",
              "  </thead>\n",
              "  <tbody>\n",
              "    <tr>\n",
              "      <th>0</th>\n",
              "      <td>p</td>\n",
              "      <td>0.05</td>\n",
              "    </tr>\n",
              "    <tr>\n",
              "      <th>1</th>\n",
              "      <td>∑(r*P(X=r))</td>\n",
              "      <td>0.50</td>\n",
              "    </tr>\n",
              "  </tbody>\n",
              "</table>\n",
              "</div>\n",
              "      <button class=\"colab-df-convert\" onclick=\"convertToInteractive('df-b27ca360-70cc-4d29-8b15-2acc1075ebc9')\"\n",
              "              title=\"Convert this dataframe to an interactive table.\"\n",
              "              style=\"display:none;\">\n",
              "        \n",
              "  <svg xmlns=\"http://www.w3.org/2000/svg\" height=\"24px\"viewBox=\"0 0 24 24\"\n",
              "       width=\"24px\">\n",
              "    <path d=\"M0 0h24v24H0V0z\" fill=\"none\"/>\n",
              "    <path d=\"M18.56 5.44l.94 2.06.94-2.06 2.06-.94-2.06-.94-.94-2.06-.94 2.06-2.06.94zm-11 1L8.5 8.5l.94-2.06 2.06-.94-2.06-.94L8.5 2.5l-.94 2.06-2.06.94zm10 10l.94 2.06.94-2.06 2.06-.94-2.06-.94-.94-2.06-.94 2.06-2.06.94z\"/><path d=\"M17.41 7.96l-1.37-1.37c-.4-.4-.92-.59-1.43-.59-.52 0-1.04.2-1.43.59L10.3 9.45l-7.72 7.72c-.78.78-.78 2.05 0 2.83L4 21.41c.39.39.9.59 1.41.59.51 0 1.02-.2 1.41-.59l7.78-7.78 2.81-2.81c.8-.78.8-2.07 0-2.86zM5.41 20L4 18.59l7.72-7.72 1.47 1.35L5.41 20z\"/>\n",
              "  </svg>\n",
              "      </button>\n",
              "      \n",
              "  <style>\n",
              "    .colab-df-container {\n",
              "      display:flex;\n",
              "      flex-wrap:wrap;\n",
              "      gap: 12px;\n",
              "    }\n",
              "\n",
              "    .colab-df-convert {\n",
              "      background-color: #E8F0FE;\n",
              "      border: none;\n",
              "      border-radius: 50%;\n",
              "      cursor: pointer;\n",
              "      display: none;\n",
              "      fill: #1967D2;\n",
              "      height: 32px;\n",
              "      padding: 0 0 0 0;\n",
              "      width: 32px;\n",
              "    }\n",
              "\n",
              "    .colab-df-convert:hover {\n",
              "      background-color: #E2EBFA;\n",
              "      box-shadow: 0px 1px 2px rgba(60, 64, 67, 0.3), 0px 1px 3px 1px rgba(60, 64, 67, 0.15);\n",
              "      fill: #174EA6;\n",
              "    }\n",
              "\n",
              "    [theme=dark] .colab-df-convert {\n",
              "      background-color: #3B4455;\n",
              "      fill: #D2E3FC;\n",
              "    }\n",
              "\n",
              "    [theme=dark] .colab-df-convert:hover {\n",
              "      background-color: #434B5C;\n",
              "      box-shadow: 0px 1px 3px 1px rgba(0, 0, 0, 0.15);\n",
              "      filter: drop-shadow(0px 1px 2px rgba(0, 0, 0, 0.3));\n",
              "      fill: #FFFFFF;\n",
              "    }\n",
              "  </style>\n",
              "\n",
              "      <script>\n",
              "        const buttonEl =\n",
              "          document.querySelector('#df-b27ca360-70cc-4d29-8b15-2acc1075ebc9 button.colab-df-convert');\n",
              "        buttonEl.style.display =\n",
              "          google.colab.kernel.accessAllowed ? 'block' : 'none';\n",
              "\n",
              "        async function convertToInteractive(key) {\n",
              "          const element = document.querySelector('#df-b27ca360-70cc-4d29-8b15-2acc1075ebc9');\n",
              "          const dataTable =\n",
              "            await google.colab.kernel.invokeFunction('convertToInteractive',\n",
              "                                                     [key], {});\n",
              "          if (!dataTable) return;\n",
              "\n",
              "          const docLinkHtml = 'Like what you see? Visit the ' +\n",
              "            '<a target=\"_blank\" href=https://colab.research.google.com/notebooks/data_table.ipynb>data table notebook</a>'\n",
              "            + ' to learn more about interactive tables.';\n",
              "          element.innerHTML = '';\n",
              "          dataTable['output_type'] = 'display_data';\n",
              "          await google.colab.output.renderOutput(dataTable, element);\n",
              "          const docLink = document.createElement('div');\n",
              "          docLink.innerHTML = docLinkHtml;\n",
              "          element.appendChild(docLink);\n",
              "        }\n",
              "      </script>\n",
              "    </div>\n",
              "  </div>\n",
              "  "
            ]
          },
          "metadata": {},
          "execution_count": 18
        }
      ]
    },
    {
      "cell_type": "markdown",
      "source": [
        "Discrete Probability Distributions\n",
        "----------\n",
        "\n",
        "Suppose you take 10 random pasta packets from the market and get them tested for their lead content. \n",
        "\n",
        "It just so happens that you have picked out packets from a very defective batch, and there is a `5% (or 0.05)` probability that any pasta packet you select is going to be defective.\n",
        "\n",
        "----------\n",
        "\n",
        "What is the probability that 2 of the 10 packets tested would turn out to be defective?\n",
        "\n",
        "    1.66%\n",
        "\n",
        "    7.46%\n",
        "\n",
        "    10%\n",
        "\n",
        "    15.92%\n",
        "\n",
        "------------\n",
        "\n",
        "    7.46%\n",
        "\n",
        "    ✓ Correct\n",
        "    Feedback:\n",
        "\n",
        "Let’s define X as the number of pasta packets found to be defective after testing 10 packets. \n",
        "\n",
        "Then, X would follow a binomial distribution with n = 10 and p = 0.05 (Given), the probability of finding a defective packet. \n",
        "\n",
        "Now, the probability asked in the question becomes \n",
        "\n",
        "P\n",
        "(\n",
        "X\n",
        "=\n",
        "2\n",
        ")\n",
        "=\n",
        "10\n",
        "C\n",
        "2\n",
        "(\n",
        "0.05\n",
        ")\n",
        "2\n",
        "(\n",
        "0.95\n",
        ")\n",
        "8\n",
        "\n",
        "\n",
        "    = 0.0746, or 07.46%"
      ],
      "metadata": {
        "id": "lCmwlyj6O7Td"
      }
    },
    {
      "cell_type": "code",
      "source": [
        "n, r, p = 10, 2, 0.05\n",
        "x = px(n, r, p)\n",
        "x"
      ],
      "metadata": {
        "colab": {
          "base_uri": "https://localhost:8080/"
        },
        "id": "a5RY1ye9NyAb",
        "outputId": "034e5298-e68c-4541-b8c0-f1082a0a0196"
      },
      "execution_count": 19,
      "outputs": [
        {
          "output_type": "execute_result",
          "data": {
            "text/plain": [
              "0.07463479852001952"
            ]
          },
          "metadata": {},
          "execution_count": 19
        }
      ]
    },
    {
      "cell_type": "code",
      "source": [
        "# Ans.\n",
        "\n",
        "f'{round(x * 100, 2)} %'"
      ],
      "metadata": {
        "colab": {
          "base_uri": "https://localhost:8080/",
          "height": 36
        },
        "id": "hfBVQkQUOj-O",
        "outputId": "58f3b180-041b-4648-af3e-3073dbd4196a"
      },
      "execution_count": 20,
      "outputs": [
        {
          "output_type": "execute_result",
          "data": {
            "text/plain": [
              "'7.46 %'"
            ],
            "application/vnd.google.colaboratory.intrinsic+json": {
              "type": "string"
            }
          },
          "metadata": {},
          "execution_count": 20
        }
      ]
    },
    {
      "cell_type": "markdown",
      "source": [
        "Discrete Probability Distributions\n",
        "---------\n",
        "\n",
        "What is the probability that, after testing these 10 packets, not more than 2 packets would turn out to be defective?\n",
        "\n",
        "    98.84%\n",
        "\n",
        "    75.42%\n",
        "\n",
        "    82.68%\n",
        "\n",
        "    90.65%\n",
        "\n",
        "---------\n",
        "\n",
        "    98.84%\n",
        "\n",
        "    ✓ Correct\n",
        "    Feedback:\n",
        "\n",
        "If X is defined as the number of pasta packets found to be defective after testing 10 packets, then X would follow a binomial distribution with n = 10 and p = 0.05\n",
        "\n",
        "So, the probability asked in the question becomes \n",
        "\n",
        "P(X<=2) = P(X=0) + P(X=1) + P(X=2) \n",
        "\n",
        "= \n",
        "10\n",
        "C\n",
        "0\n",
        "(\n",
        "0.95\n",
        ")\n",
        "10\n",
        "+\n",
        "10\n",
        "C\n",
        "1\n",
        "(\n",
        "0.05\n",
        ")\n",
        "1\n",
        "(\n",
        "0.95\n",
        ")\n",
        "9\n",
        "+\n",
        "10\n",
        "C\n",
        "2\n",
        "(\n",
        "0.05\n",
        ")\n",
        "2\n",
        "(\n",
        "0.95\n",
        ")\n",
        "8\n",
        "\n",
        " = 0.5987 + 0.3151 + 0.0746 \n",
        " \n",
        "    = 0.9884, or 98.84%"
      ],
      "metadata": {
        "id": "hnbtF56LnwmW"
      }
    },
    {
      "cell_type": "code",
      "source": [
        "n, p = 10, 0.05\n",
        "s = 0\n",
        "\n",
        "for l in range(3):\n",
        "  s += px(n, l, p)\n",
        "\n",
        "s"
      ],
      "metadata": {
        "id": "jEaCpNjeQxgF",
        "colab": {
          "base_uri": "https://localhost:8080/"
        },
        "outputId": "7d569a91-c9b9-417e-8590-15298386ac48"
      },
      "execution_count": 21,
      "outputs": [
        {
          "output_type": "execute_result",
          "data": {
            "text/plain": [
              "0.9884964426207028"
            ]
          },
          "metadata": {},
          "execution_count": 21
        }
      ]
    },
    {
      "cell_type": "code",
      "source": [
        "# Ans.\n",
        "\n",
        "f'{round(s * 100, 3)} %'"
      ],
      "metadata": {
        "colab": {
          "base_uri": "https://localhost:8080/",
          "height": 36
        },
        "id": "-_2wZwEBsLj9",
        "outputId": "75360a57-a636-4ddd-f2cc-e6c2908bf0be"
      },
      "execution_count": 22,
      "outputs": [
        {
          "output_type": "execute_result",
          "data": {
            "text/plain": [
              "'98.85 %'"
            ],
            "application/vnd.google.colaboratory.intrinsic+json": {
              "type": "string"
            }
          },
          "metadata": {},
          "execution_count": 22
        }
      ]
    },
    {
      "cell_type": "markdown",
      "source": [
        "Discrete Probability Distributions\n",
        "----------\n",
        "\n",
        "Let’s define X as the number of packets found to be defective after the 10 packets have been tested. \n",
        "\n",
        "What will be the expected value of X?\n",
        "\n",
        "(Hint: You can Use Excel or R for the calculations for this part. \n",
        "\n",
        "Use \"COMBIN(n,r)\" in Excel and \"choose(n,r)\" in R to find \n",
        "n\n",
        "C\n",
        "r\n",
        ")\n",
        "\n",
        "\n",
        "    1\n",
        "\n",
        "    0.5\n",
        "\n",
        "    55\n",
        "\n",
        "    2\n",
        "\n",
        "-------\n",
        "\n",
        "    0.5\n",
        "\n",
        "    ✓ Correct\n",
        "    Feedback:\n",
        "\n",
        "If X is defined as the number of pasta packets found to be defective after testing 10 packets, \n",
        "\n",
        "then X would follow a binomial distribution with n = 10 and p = 0.05\n",
        "\n",
        "Now, you want to find the expected value, which would be equal to \n",
        "\n",
        "EV(X) = 0*P(X=0) + 1*P(X=1) + 2*P(X=2) + 3*P(X=3) + 4*P(X=4) + 5*P(X=5) + 6*P(X=6) + 7*P(X=7) + 8*P(X=8) + 9*P(X=9) + 10*P(X=10).\n",
        "\n",
        "Using a spreadsheet to calculate the individual probabilities, you can find that the expected value EV(X) = 0.5"
      ],
      "metadata": {
        "id": "qTz9mXftwuzI"
      }
    },
    {
      "cell_type": "code",
      "source": [
        "n, p = 10, 0.05\n",
        "s = 0\n",
        "\n",
        "for l in range(n + 1):\n",
        "  s += l * px(n, l, p)\n",
        "\n",
        "s"
      ],
      "metadata": {
        "colab": {
          "base_uri": "https://localhost:8080/"
        },
        "id": "aoc_iG1GwPzz",
        "outputId": "bf1c5723-d831-4ccb-9c68-cc3ae572477c"
      },
      "execution_count": 23,
      "outputs": [
        {
          "output_type": "execute_result",
          "data": {
            "text/plain": [
              "0.4999999999999998"
            ]
          },
          "metadata": {},
          "execution_count": 23
        }
      ]
    },
    {
      "cell_type": "code",
      "source": [
        "# Ans.\n",
        "\n",
        "round(s, 1)"
      ],
      "metadata": {
        "colab": {
          "base_uri": "https://localhost:8080/"
        },
        "id": "bzeTMESsy4GQ",
        "outputId": "034683d3-fd1c-427f-e127-5cad8d8928f3"
      },
      "execution_count": 24,
      "outputs": [
        {
          "output_type": "execute_result",
          "data": {
            "text/plain": [
              "0.5"
            ]
          },
          "metadata": {},
          "execution_count": 24
        }
      ]
    },
    {
      "cell_type": "markdown",
      "source": [
        "# Comprehension: Expected Value\n",
        "\n",
        "E\n",
        "[\n",
        "X\n",
        "]\n",
        "=\n",
        "∑\n",
        "(\n",
        "X\n",
        "×\n",
        "P\n",
        "(\n",
        "X\n",
        ")\n",
        ")"
      ],
      "metadata": {
        "id": "ss0lUqfVzmfx"
      }
    },
    {
      "cell_type": "markdown",
      "source": [
        "Expected Value\n",
        "--------\n",
        "\n",
        "Suppose you’re conducting an experiment by tossing two coins simultaneously. \n",
        "\n",
        "You then note down the number of tails in each toss. \n",
        "\n",
        "How many tails can you expect on average in each experiment on average?\n",
        "\n",
        "`Note`: Round off your answer to 2 decimal places. \n",
        "\n",
        "If your answer if 1.333333, write 1.33 in the box.\n",
        "\n",
        "    Ans. 1\n",
        "\n",
        "--------------\n",
        "\n",
        "`Solution :`\n",
        "\n",
        "When two coins are tossed,the sample space is\n",
        "\n",
        "    S = (H,H),(H,T),(T,H),(T,T)\n",
        "\n",
        "Let H be the number of tails that occur.\n",
        "\n",
        "The random variable H take values of 0,1,2\n",
        "\n",
        "H=0 when no tails occur.or 2 heads occur\n",
        "\n",
        "    P(H=0)=1/4\n",
        "\n",
        "H=1 when only one tail occurs, when (H,T) or (T,H) occurs\n",
        "\n",
        "    P(H=1)=1/2\n",
        "\n",
        "H=2, when only two tails occur.when (T,T) occurs\n",
        "\n",
        "    P(H=2)=1/4\n",
        "\n",
        "Now, we can calculate the expected value of the number of tails:\n",
        "\n",
        "    E(number of tails) = 0*(1/4) + 1*(1/2) + 2*(1/4)\n",
        "    = 0 + 1/2 + 1/2 = 1    "
      ],
      "metadata": {
        "id": "j9OzNc0az6JG"
      }
    },
    {
      "cell_type": "markdown",
      "source": [
        "Expected Value\n",
        "--------\n",
        "\n",
        "Suppose you go to a shoe-shop to buy a pair of shoes. \n",
        "\n",
        "There are 50 pairs of shoes in the shop in-total. \n",
        "\n",
        "Every time you ask the shopkeeper to show you a pair of shoes, he draws 3 pair of shoes randomly from his stock of 50 pairs. \n",
        "\n",
        "If you don’t like any of the pairs, he places all the 3 of them back and then draws 3 pairs again, randomly. \n",
        "\n",
        "`Out of all the 50 pairs, 7 pairs of shoes are defected`. (means p = 7/50)\n",
        "\n",
        "What is the expected number of defective shoes in a given trial?\n",
        "\n",
        "`Note`: Round off your final answer to 2 decimal places. \n",
        "\n",
        "If your answer if 1.333333, write 1.33 in the box.\n",
        "\n",
        "    Ans. 0.42\n",
        "    \n",
        "--------------\n",
        "\n",
        "`Solution`:\n",
        "\n",
        "Let X be defective shoes,\n",
        "\n",
        "    X = {0,1,2,3}\n",
        "\n",
        "    P(X) = {\n",
        "      (3C0) * (7/50)**0 * (43/50)**3, \n",
        "      (3C1) * (7/50)**1 * (43/50)**2, \n",
        "      (3C2) * (7/50)**2 * (43/50)**1, \n",
        "      (3C3) * (7/50)**3 * (43/50)**0\n",
        "    }\n",
        "\n",
        "Put the above terminal in the formula \n",
        "\n",
        "    E[X] = ∑X * P(X) to get 0.42"
      ],
      "metadata": {
        "id": "5N7B9eQW4_xJ"
      }
    },
    {
      "cell_type": "code",
      "source": [
        "n, p = 3, 7/50\n",
        "s = 0\n",
        "\n",
        "for l in range(n + 1):\n",
        "  s += l * px(n, l, p)\n",
        "\n",
        "s"
      ],
      "metadata": {
        "id": "BkrFyDM36AZ2",
        "colab": {
          "base_uri": "https://localhost:8080/"
        },
        "outputId": "26801975-c34f-49e5-f380-c0f4897bada1"
      },
      "execution_count": 25,
      "outputs": [
        {
          "output_type": "execute_result",
          "data": {
            "text/plain": [
              "0.42000000000000004"
            ]
          },
          "metadata": {},
          "execution_count": 25
        }
      ]
    },
    {
      "cell_type": "code",
      "source": [
        "# Ans.\n",
        "\n",
        "round(s, 2)"
      ],
      "metadata": {
        "colab": {
          "base_uri": "https://localhost:8080/"
        },
        "id": "tdX_GVixZG_G",
        "outputId": "1e88db35-b9b4-47ab-83d3-b2a436c0a320"
      },
      "execution_count": 26,
      "outputs": [
        {
          "output_type": "execute_result",
          "data": {
            "text/plain": [
              "0.42"
            ]
          },
          "metadata": {},
          "execution_count": 26
        }
      ]
    },
    {
      "cell_type": "markdown",
      "source": [
        "Expected Value\n",
        "---------\n",
        "\n",
        "Suppose you’re playing a game using two dice. \n",
        "\n",
        "Upon throwing the two dice simultaneously, if their sum equals 4, then you get 1000 rupees. \n",
        "\n",
        "If their sum is anything other than 4, you lose 100 rupees. \n",
        "\n",
        "What is the expected earning/loss in this game?\n",
        "\n",
        "`Note`:\n",
        "\n",
        "1. Round off your final answer to 2 decimal places. \n",
        "\n",
        "    If your answer if 1.333333, write 1.33 in the box.\n",
        "\n",
        "2. If the expectation is a loss, make sure you write a negative number. \n",
        "\n",
        "    For instance, -2.5 is a valid answer\n",
        "\n",
        "---------\n",
        "\n",
        "`Solution`:\n",
        "\n",
        "    Sum = 4 when, \n",
        "    Dice show : (1, 3), (2, 2), (3, 1)\n",
        "    p = 3/36\n",
        "\n",
        "    X = {+1000, -100}\n",
        "    P(X) = {3/36, 33/36}\n",
        "\n",
        "    EX = 1000 * 3/36 + (-100) * (1 - 3/36)\n",
        "       = -8.333333333333329\n",
        "\n",
        "If you use the expected value formula, you'll get `-8.33` as the answer."
      ],
      "metadata": {
        "id": "Cd_ftWoIbEBZ"
      }
    },
    {
      "cell_type": "code",
      "source": [
        "s = 0\n",
        "x = [+1000, -100]\n",
        "y = [3/36, 33/36]\n",
        "\n",
        "for i, j in zip(x, y):\n",
        "  s += i * j\n",
        "\n",
        "s"
      ],
      "metadata": {
        "colab": {
          "base_uri": "https://localhost:8080/"
        },
        "id": "KIbX_eQnZhl4",
        "outputId": "1912f985-2b3f-4fb9-9234-5bea371fecb9"
      },
      "execution_count": 27,
      "outputs": [
        {
          "output_type": "execute_result",
          "data": {
            "text/plain": [
              "-8.333333333333329"
            ]
          },
          "metadata": {},
          "execution_count": 27
        }
      ]
    },
    {
      "cell_type": "code",
      "source": [
        "# Ans.\n",
        "\n",
        "round(s, 2)"
      ],
      "metadata": {
        "colab": {
          "base_uri": "https://localhost:8080/"
        },
        "id": "TPaG3MCncmBG",
        "outputId": "8385f4db-18ec-4ac4-d58d-9f37f7a829c8"
      },
      "execution_count": 28,
      "outputs": [
        {
          "output_type": "execute_result",
          "data": {
            "text/plain": [
              "-8.33"
            ]
          },
          "metadata": {},
          "execution_count": 28
        }
      ]
    },
    {
      "cell_type": "markdown",
      "source": [
        "Expected Value\n",
        "-----------\n",
        "\n",
        "Rahul wants to play a poker game. \n",
        "\n",
        "The entry charge for the game is a non-refundable INR 2000 and probability that Rahul wins a poker game is 3%. \n",
        "\n",
        "The prize money is INR 50000. \n",
        "\n",
        "If Rahul wins, he gets the prize money. \n",
        "\n",
        "If he loses, he gets nothing. \n",
        "\n",
        "What's his expected earning/loss per game?\n",
        "\n",
        "`Note`:\n",
        "\n",
        "1. Round off your final answer to 2 decimal places. \n",
        "\n",
        "    If your answer if 1.333333, write 1.33 in the box.\n",
        "\n",
        "2. If the expectation is a loss, make sure you write a negative number. \n",
        "\n",
        "    For instance, -2.5 is a valid answer.\n",
        "\n",
        "--------------\n",
        "\n"
      ],
      "metadata": {
        "id": "0nLqLwZxdvZM"
      }
    },
    {
      "cell_type": "code",
      "source": [
        "s = 0\n",
        "e = 2000\n",
        "x = [50000, 0]\n",
        "y = [3/100, 1 - 3/100]\n",
        "\n",
        "for i, j in zip(x, y):\n",
        "  s += i * j\n",
        "\n",
        "s"
      ],
      "metadata": {
        "colab": {
          "base_uri": "https://localhost:8080/"
        },
        "id": "TVMkVAK7dnZZ",
        "outputId": "fe3c2db9-4bcb-4570-83ff-94938de4e187"
      },
      "execution_count": 29,
      "outputs": [
        {
          "output_type": "execute_result",
          "data": {
            "text/plain": [
              "1500.0"
            ]
          },
          "metadata": {},
          "execution_count": 29
        }
      ]
    },
    {
      "cell_type": "code",
      "source": [
        "# Ans.\n",
        "\n",
        "ev = s - e\n",
        "ev"
      ],
      "metadata": {
        "colab": {
          "base_uri": "https://localhost:8080/"
        },
        "id": "WWknYYQXeIwc",
        "outputId": "f954ce45-18ec-442a-f249-28e30536b984"
      },
      "execution_count": 30,
      "outputs": [
        {
          "output_type": "execute_result",
          "data": {
            "text/plain": [
              "-500.0"
            ]
          },
          "metadata": {},
          "execution_count": 30
        }
      ]
    },
    {
      "cell_type": "markdown",
      "source": [
        "Expected Value\n",
        "-----------\n",
        "\n",
        "This question is a continuation of the previous question. \n",
        "\n",
        "Based on the expected value of the previous question, which of the following is a possibility for Rahul?\n",
        "\n",
        "`Note`: Multiple answers might be correct.\n",
        "\n",
        "-------------\n",
        "\n",
        "Rahul wins INR 50,000 prize money in the first game.\n",
        "\n",
        "    ✓ Correct\n",
        "    Feedback:\n",
        "\n",
        "    If Rahul wins the poker, he'll get INR 50,000. \n",
        "    So this is possible.\n",
        "\n",
        "-------------\n",
        "\n",
        "Rahul loses all the first 100 games.\n",
        "\n",
        "    ✓ Correct\n",
        "    Feedback:\n",
        "\n",
        "    This is also possible. \n",
        "    However, the possibility of this happening is really small.\n",
        "\n",
        "-------------------\n",
        "\n",
        "Rahul loses INR 500 rupees in the first game."
      ],
      "metadata": {
        "id": "iw7-dI5QfBwG"
      }
    },
    {
      "cell_type": "code",
      "source": [],
      "metadata": {
        "id": "ZE_Y9Pfbe-7n"
      },
      "execution_count": 30,
      "outputs": []
    }
  ]
}