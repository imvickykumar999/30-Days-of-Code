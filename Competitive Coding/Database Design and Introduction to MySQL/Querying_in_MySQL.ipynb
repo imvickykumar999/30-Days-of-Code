{
  "nbformat": 4,
  "nbformat_minor": 0,
  "metadata": {
    "colab": {
      "provenance": []
    },
    "kernelspec": {
      "name": "python3",
      "display_name": "Python 3"
    },
    "language_info": {
      "name": "python"
    }
  },
  "cells": [
    {
      "cell_type": "markdown",
      "source": [
        "# SQL Statements and Operators"
      ],
      "metadata": {
        "id": "S9ncGBVSA3K7"
      }
    },
    {
      "cell_type": "markdown",
      "source": [
        "Corporate Customers from Maharashtra\n",
        "----------\n",
        "\n",
        "What is the query that you would write in order to find out the number of corporate customers that belong to Maharashtra?\n",
        "\n",
        "--------\n",
        "\n",
        "`Suggested Answer`\n",
        "\n",
        "    select count(*)\n",
        "\n",
        "    from cust_dimen\n",
        "\n",
        "    where State = 'Maharashtra' and Customer_Segment = 'Corporate';"
      ],
      "metadata": {
        "id": "0Z2JsAC5KrHh"
      }
    },
    {
      "cell_type": "markdown",
      "source": [
        "LIKE Operator\n",
        "----------\n",
        "\n",
        "Write a query to display the cities in the 'cust_dimen' table that begin with the letter 'K'.\n",
        "\n",
        "---------\n",
        "\n",
        "`Suggested Answer`\n",
        "\n",
        "    select City\n",
        "\n",
        "    from cust_dimen\n",
        "\n",
        "    where City like 'K%';\n",
        "\n",
        "Note that using '%K' instead would return cities having names ending with 'K'.\n",
        "\n",
        "--------"
      ],
      "metadata": {
        "id": "b1Sr82ItL2wx"
      }
    },
    {
      "cell_type": "markdown",
      "source": [
        "Additional Resources:\n",
        "-------\n",
        "\n",
        "[SQL Operators](https://www.w3schools.com/sql/sql_operators.asp) is an excellent resource where you can have a quick glance at the various operators that are supported in SQL."
      ],
      "metadata": {
        "id": "srVzOX40LKwT"
      }
    },
    {
      "cell_type": "markdown",
      "source": [
        "Pattern Matching\n",
        "--------\n",
        "\n",
        "What would be the output of the following query?\n",
        "\n",
        "`select * from employee where first_name like \"%ee%\";`\n",
        "\n",
        "---------\n",
        "\n",
        "    It will display the details of all the employees whose name contains ‘ee’.\n",
        "\n",
        "    ✓ Correct\n",
        "    Feedback:\n",
        "\n",
        "Correct. The % character can replace any number of preceding and trailing characters.\n",
        "\n",
        "-----\n",
        "\n",
        "    It will display the details of all the employees whose names both begin and end with ‘e’.\n",
        "\n",
        "----------\n",
        "\n",
        "    It will display the details of all the employees whose names only begin with ‘ee’.\n",
        "\n",
        "-------\n",
        "\n",
        "    It will display the details of all the employees whose names only end with ‘ee’.\n",
        "\n",
        "--------"
      ],
      "metadata": {
        "id": "4mdU6PBsMRx0"
      }
    },
    {
      "cell_type": "markdown",
      "source": [
        "Reading the Documentation\n",
        "-----------\n",
        "\n",
        "Refer to the MySQL documentation online and answer the following question:\n",
        "\n",
        "Which of the following wildcards are supported in SQL?\n",
        "\n",
        "    % only\n",
        "\n",
        "    _ (underscore) only\n",
        "\n",
        "    * only\n",
        "\n",
        "    Both % and _ (underscore)\n",
        "\n",
        "--------\n",
        "\n",
        "    Both % and _ (underscore)\n",
        "\n",
        "    ✓ Correct\n",
        "    Feedback:\n",
        "\n",
        "Correct. % is a multi-character wildcard, whereas _ is a single-character wildcard.\n",
        "\n",
        "For example, using \"_r%\" would return the words with the second character as r, followed by zero or more characters at the end."
      ],
      "metadata": {
        "id": "4s26tI5uMzwI"
      }
    },
    {
      "cell_type": "markdown",
      "source": [
        "Operators\n",
        "--------\n",
        "\n",
        "With SQL, how do you select all the records from a table named ‘employees’\n",
        "\n",
        "where the ‘LastName’ is alphabetically between (and includes) ‘Joshi’ and ‘Sharma’?\n",
        "\n",
        "    select * from employees where LastName > ‘Joshi’ and LastName < ‘Sharma’;\n",
        "\n",
        "    select * from employees where LastName between ‘Joshi’ and ‘Sharma’;\n",
        "\n",
        "    Both of the above\n",
        "\n",
        "    None of the above\n",
        "\n",
        "--------\n",
        "\n",
        "    select * from employees where LastName between ‘Joshi’ and ‘Sharma’;\n",
        "\n",
        "    ✓ Correct\n",
        "    Feedback:\n",
        "\n",
        "This query will return employees who have Joshi and Sharma as surnames, along with all the surnames that are in-between `alphabetically`."
      ],
      "metadata": {
        "id": "PmTERG9ZM-Wo"
      }
    },
    {
      "cell_type": "markdown",
      "source": [
        "Operators\n",
        "------\n",
        "\n",
        "Which of the queries given below would return the same output? More than one option may be correct.\n",
        "\n",
        "---------\n",
        "\n",
        "    select * from employees where EmpID in (2,3,4, 5);\n",
        "\n",
        "    ✓ Correct\n",
        "    Feedback:\n",
        "\n",
        "Correct. This query will return the details of the employees with employee ids 2, 3, 4 and 5.\n",
        "\n",
        "-----------\n",
        "\n",
        "    select * from employees where EmpID between 2 and 5;\n",
        "\n",
        "    ✓ Correct\n",
        "    Feedback:\n",
        "\n",
        "Correct. This query will return the details of the employees with employee ids 2, 3, 4 and 5.\n",
        "\n",
        "----------\n",
        "\n",
        "    select * from employees where EmpID >= 2 and EmpID <= 5;\n",
        "\n",
        "    ✓ Correct\n",
        "    Feedback:\n",
        "\n",
        "Correct. This query will return the details of the employees with employee ids 2, 3, 4 and 5.\n",
        "\n",
        "----------\n",
        "\n",
        "    select * from employees where EmpID > 2 and EmpID < 5;\n",
        "\n",
        "---------"
      ],
      "metadata": {
        "id": "L6hpT-9SNRl_"
      }
    },
    {
      "cell_type": "markdown",
      "source": [
        "Basic Select\n",
        "-----\n",
        "\n",
        "**Description**\n",
        "\n",
        "Consider the following table employees containing the following columns:\n",
        "\n",
        "**Employees**\n",
        "\n",
        "![ss](https://media-doselect.s3.amazonaws.com/generic/OqNgkRAgJpJMpzxNJZMXNdYXR/Employee_Table.PNG)\n",
        "\n",
        "Write a query to determine the first names of all employees.\n",
        "\n",
        "`Execution Time Limit : 15 seconds`\n",
        "\n",
        "------\n",
        "\n",
        "    use upgrad;\n",
        "\n",
        "    select firstName\n",
        "    from employees;"
      ],
      "metadata": {
        "id": "9MW6ZAVYNghR"
      }
    },
    {
      "cell_type": "markdown",
      "source": [
        "# Aggregate Functions"
      ],
      "metadata": {
        "id": "fLzD1MPzN95P"
      }
    },
    {
      "cell_type": "markdown",
      "source": [
        "Aggregate Functions\n",
        "---------\n",
        "\n",
        "Which of the following are `not` aggregate functions in MySQL?\n",
        "\n",
        "Multiple options can be correct.\n",
        "\n",
        "---------\n",
        "\n",
        "    min()\n",
        "\n",
        "---------\n",
        "\n",
        "    mean()\n",
        "\n",
        "    ✓ Correct\n",
        "    Feedback:\n",
        "\n",
        "Correct. avg() is the function that is used to calculate the average of a set of values.\n",
        "\n",
        "--------\n",
        "\n",
        "    max()\n",
        "\n",
        "---------\n",
        "\n",
        "    mode()\n",
        "\n",
        "    ✓ Correct\n",
        "    Feedback:\n",
        "\n",
        "Correct. MySQL does not have built-in functions for calculating the median or mode.\n",
        "\n",
        "-------"
      ],
      "metadata": {
        "id": "SbI7vKAmZdhN"
      }
    },
    {
      "cell_type": "markdown",
      "source": [
        "Count Querying\n",
        "------\n",
        "\n",
        "**Description**\n",
        "\n",
        "Consider the employees table having the following columns.\n",
        "\n",
        "**`Employees`**\n",
        "\n",
        "![ss](https://media-doselect.s3.amazonaws.com/generic/E4Yb5B1yQ0QaK72GPjb2y7XNV/Employee_Table.PNG)\n",
        "\n",
        "Write a query to retrieve the total number of employees, do the aliasing of count as totalEmployees.\n",
        "\n",
        "------\n",
        "\n",
        "    use upgrad;\n",
        "\n",
        "    select count(*) as totalEmployees\n",
        "    from employees;"
      ],
      "metadata": {
        "id": "x9Ghe_vWZ0ew"
      }
    },
    {
      "cell_type": "markdown",
      "source": [
        "# Ordering"
      ],
      "metadata": {
        "id": "-ToLH6-ed3z-"
      }
    },
    {
      "cell_type": "markdown",
      "source": [
        "Ordering Based on Multiple Columns\n",
        "-------\n",
        "\n",
        "You can order your results based on multiple columns as well.\n",
        "\n",
        "An example of such a query would be:\n",
        "\n",
        "    select customer_name\n",
        "\n",
        "    from customers\n",
        "\n",
        "    order by state, customer_name;\n",
        "\n",
        "Here, the output (customer names) would be ordered in alphabetical order of the states.\n",
        "\n",
        "If two or more states have the same name, then the customers would be arranged in alphabetical order of their names.\n",
        "\n",
        "Give another example of a query where you may need to order your output based on multiple attributes of a table.\n",
        "\n",
        "---------------\n",
        "\n",
        "`Suggested Answer`\n",
        "\n",
        "    select student_id\n",
        "\n",
        "    from students\n",
        "\n",
        "    order by state, marks;"
      ],
      "metadata": {
        "id": "e6zxosrHeZ6c"
      }
    },
    {
      "cell_type": "markdown",
      "source": [
        "Basic Ordering\n",
        "-------\n",
        "\n",
        "**Description**\n",
        "\n",
        "Given an employees table with the following columns:\n",
        "\n",
        "**`Employees`**\n",
        "\n",
        "![ss](https://media-doselect.s3.amazonaws.com/generic/wQ0p1kzZXXGqzyKxpXZPG5ZAN/Employee_Table.PNG)\n",
        "\n",
        "Write a query to retrieve the list of first names of employees in the alphabetical order.\n",
        "\n",
        "----------\n",
        "\n",
        "    use upgrad;\n",
        "\n",
        "    select firstName\n",
        "    from employees\n",
        "    order by firstName;"
      ],
      "metadata": {
        "id": "ZQA3xteJfNt6"
      }
    },
    {
      "cell_type": "markdown",
      "source": [
        "# The Having Clause"
      ],
      "metadata": {
        "id": "wOXyeeLZff1O"
      }
    },
    {
      "cell_type": "markdown",
      "source": [
        "The '`having`' clause is typically used when you have to apply a filter condition on an '`aggregated value`'.\n",
        "\n",
        "This is because the '`where`' clause is applied `before aggregation` takes place and, thus, it is not useful when you want to apply a filter on an aggregated value.\n",
        "\n",
        "In other words, the 'having' clause is `equivalent` to a 'where' clause after the 'group by' clause has been executed but before the 'select' clause is executed.\n",
        "\n",
        "It is important to not get confused between the 'having' and 'where' clauses.\n",
        "\n",
        "-------\n",
        "\n",
        "*For example*, if you want to display the list of all the employees whose salary >= 30,000,\n",
        "\n",
        "then you can use the 'where' clause, since there is no aggregation taking place in this query.\n",
        "\n",
        "But if you want to display the list of all the employees whose salary <= the average salary,\n",
        "\n",
        "where avg() is the aggregation function, then you will have to use the 'having' clause.\n",
        "\n",
        "    select prod_id, sum(order_quantity)\n",
        "    from market_fact_full\n",
        "    group by prod_id\n",
        "    having sum(order_quantity) > 20000\n",
        "    order by sum(order_quantity) desc;\n",
        "\n",
        "    select prod_id, sum(order_quantity)\n",
        "    from market_fact_full\n",
        "    group by prod_id\n",
        "    order by sum(order_quantity)\n",
        "    limit 3;"
      ],
      "metadata": {
        "id": "aIkoVxoiYHbg"
      }
    },
    {
      "cell_type": "markdown",
      "source": [
        "Keywords in SQL\n",
        "----------\n",
        "\n",
        "Arrange the keywords below in order of their occurrence in a query:\n",
        "\n",
        "1. group by\n",
        "2. order by\n",
        "3. select\n",
        "4. where\n",
        "5. from\n",
        "6. limit\n",
        "7. having\n",
        "\n",
        "\n",
        "    3 - 5 - 4 - 1 - 2 - 7 - 6\n",
        "\n",
        "    3 - 5 - 1 - 4 - 2 - 6 - 7\n",
        "\n",
        "    3 - 5 - 4 - 1 - 7 - 2 - 6\n",
        "\n",
        "    5 - 4 - 1 - 7 - 3 - 2 - 6\n",
        "\n",
        "------\n",
        "\n",
        "    3 - 5 - 4 - 1 - 7 - 2 - 6\n",
        "\n",
        "    ✓ Correct\n",
        "    Feedback:\n",
        "\n",
        "This is the correct order in which the clauses are written in a query.\n",
        "\n",
        "- select\n",
        "- from\n",
        "- where\n",
        "- group by\n",
        "- having\n",
        "- order by\n",
        "- limit"
      ],
      "metadata": {
        "id": "Sbf7dzVnZkO3"
      }
    },
    {
      "cell_type": "markdown",
      "source": [
        "# String and Date–Time Functions"
      ],
      "metadata": {
        "id": "XM63VxjGal4m"
      }
    },
    {
      "cell_type": "markdown",
      "source": [
        "String Manipulation\n",
        "------\n",
        "\n",
        "Assume that an employee named Diane Murphy has an employee number of 1002 in a dataset.\n",
        "\n",
        "What would the output of the following set of commands?\n",
        "\n",
        "    SELECT CONCAT(REVERSE(firstName) , '  ', UPPER(lastName))\n",
        "    FROM employees\n",
        "    WHERE employeeNumber=1002;\n",
        "\n",
        "----------\n",
        "\n",
        "    Diane MURPHY\n",
        "\n",
        "    Enaid Murphy\n",
        "\n",
        "    enaiD MURPHY\n",
        "\n",
        "    enaiDMURPHY\n",
        "\n",
        "----\n",
        "\n",
        "    enaiD MURPHY\n",
        "\n",
        "    ✓ Correct\n",
        "    Feedback:\n",
        "\n",
        "Correct. reverse() reverses the string and upper() converts the string to uppercase."
      ],
      "metadata": {
        "id": "WoizXLv7dLZG"
      }
    },
    {
      "cell_type": "markdown",
      "source": [
        "Math Functions\n",
        "----------\n",
        "\n",
        "- abs() – Returns the absolute value of a number\n",
        "- ceil() – Returns the smallest integer value greater than or equal to the input number\n",
        "- floor() – Returns the largest integer value not greater than the argument\n",
        "- round() – Rounds a number to a specified number of decimal places\n",
        "- rand() – Returns a random floating-point value between 0 and 1\n",
        "- pow(a, b) – Returns the value a^b\n",
        "\n",
        "Given the above math functions used in MySQL, what would the query given below return?\n",
        "\n",
        "`select ceil(rand() * 6);`\n",
        "\n",
        "\n",
        "    A random floating-point value from 0 to 6.\n",
        "\n",
        "    A random floating-point value from 1 to 6.\n",
        "\n",
        "    A random integer from 0 to 6.\n",
        "\n",
        "    A random integer from 1 to 6.\n",
        "\n",
        "---------\n",
        "\n",
        "    A random integer from 0 to 6.\n",
        "\n",
        "    ✓ Correct\n",
        "    Feedback:\n",
        "\n",
        "Correct. The query will return all the integers from 0 to 6 since the ceil() function is being used.\n"
      ],
      "metadata": {
        "id": "Yrfdo7WAeHh2"
      }
    },
    {
      "cell_type": "code",
      "source": [
        "!pip install \"SQLAlchemy<1.4\""
      ],
      "metadata": {
        "colab": {
          "base_uri": "https://localhost:8080/"
        },
        "id": "FGeUP2bHfTRo",
        "outputId": "8a97fac5-7912-49f9-a9b5-3fd8d9b11889"
      },
      "execution_count": 1,
      "outputs": [
        {
          "output_type": "stream",
          "name": "stdout",
          "text": [
            "Looking in indexes: https://pypi.org/simple, https://us-python.pkg.dev/colab-wheels/public/simple/\n",
            "Requirement already satisfied: SQLAlchemy<1.4 in /usr/local/lib/python3.10/dist-packages (1.3.24)\n"
          ]
        }
      ]
    },
    {
      "cell_type": "code",
      "source": [
        "%load_ext sql"
      ],
      "metadata": {
        "id": "yYlRqcrheone"
      },
      "execution_count": 2,
      "outputs": []
    },
    {
      "cell_type": "code",
      "source": [
        "%%sql\n",
        "\n",
        "sqlite:///query.db"
      ],
      "metadata": {
        "id": "_yI62MrsfOtf"
      },
      "execution_count": 3,
      "outputs": []
    },
    {
      "cell_type": "code",
      "source": [
        "%%sql\n",
        "\n",
        "select ceil(rand() * 6);"
      ],
      "metadata": {
        "id": "Vilb3bpId4fh",
        "colab": {
          "base_uri": "https://localhost:8080/"
        },
        "outputId": "64d02580-adad-4ca0-be8c-a064a2560013"
      },
      "execution_count": 4,
      "outputs": [
        {
          "output_type": "stream",
          "name": "stdout",
          "text": [
            " * sqlite:///query.db\n",
            "(sqlite3.OperationalError) no such function: ceil\n",
            "[SQL: select ceil(rand() * 6);]\n",
            "(Background on this error at: http://sqlalche.me/e/13/e3q8)\n"
          ]
        }
      ]
    },
    {
      "cell_type": "markdown",
      "source": [
        "Basic String Functions\n",
        "------\n",
        "\n",
        "**Description**\n",
        "\n",
        "Given an employees table with the following columns:\n",
        "\n",
        "**`Employees`**\n",
        "\n",
        "![ss](https://media-doselect.s3.amazonaws.com/generic/wQ0p1kzZXXGqzyKxpXZPG5ZAN/Employee_Table.PNG)\n",
        "\n",
        "Write a query to retrieve the full names of all the employees along with their employee numbers.\n",
        "\n",
        "**`Sample Output`**\n",
        "\n",
        "![ss](https://media-doselect.s3.amazonaws.com/generic/W8weknkbvNOVrbnPEG2EvB5ww/Capture.PNG)\n",
        "\n",
        "--------\n",
        "\n",
        "    use upgrad;\n",
        "\n",
        "    select employeeNumber, concat(firstName, ' ', lastName) as fullName\n",
        "    from employees;"
      ],
      "metadata": {
        "id": "6TYdq4mjft73"
      }
    },
    {
      "cell_type": "markdown",
      "source": [
        "# Regular Expressions\n",
        "\n",
        "**Additional Resources**:\n",
        "\n",
        "You can refer to this [MySQL | Regular expressions (Regexp) link](https://www.geeksforgeeks.org/mysql-regular-expressions-regexp/) to get an idea about some of the pattern matching that can be achieved using regular expressions."
      ],
      "metadata": {
        "id": "nrOJFJMngQYe"
      }
    },
    {
      "cell_type": "markdown",
      "source": [
        "SQL Queries\n",
        "------\n",
        "\n",
        "Which of the following keyword(s) can be used in a query to obtain the details of all the cars that have the substring toy in their brand names?\n",
        "\n",
        "------------\n",
        "\n",
        "    like\n",
        "\n",
        "    ✓ Correct\n",
        "    Feedback:\n",
        "\n",
        "Correct. The query used can be:\n",
        "\n",
        "`select * from cars where name like '%toy%';`\n",
        "\n",
        "------------\n",
        "\n",
        "    regexp\n",
        "\n",
        "    ✓ Correct\n",
        "    Feedback:\n",
        "\n",
        "Correct. The query used can be:\n",
        "\n",
        "`select * from cars where name regexp 'toy';`\n",
        "\n",
        "---------\n",
        "\n",
        "    substring()\n",
        "\n",
        "-----------\n",
        "\n",
        "    substr()\n",
        "\n",
        "---------"
      ],
      "metadata": {
        "id": "_-7AzNmphqwI"
      }
    },
    {
      "cell_type": "markdown",
      "source": [
        "Basic Regex\n",
        "-----------\n",
        "\n",
        "**Description**\n",
        "\n",
        "Given a table named employees with the following columns:\n",
        "\n",
        "**`Employees`**\n",
        "\n",
        "![ss](https://media-doselect.s3.amazonaws.com/generic/QBE8NJxXpNeLo4wg5XwL4GpdG/Employee_Table.PNG)\n",
        "\n",
        "Write a query to retrieve the employee numbers and first names of all employees having the substring **on** in their first names.\n",
        "\n",
        "**`Sample Output`**\n",
        "\n",
        "![ss](https://media-doselect.s3.amazonaws.com/generic/Kn53MWOOdkN9Vn0NnxwONvxMv/Capture.PNG)\n",
        "\n",
        "----------\n",
        "\n",
        "    use upgrad;\n",
        "\n",
        "    select employeeNumber, firstName\n",
        "    from employees\n",
        "    where firstName regexp 'on';"
      ],
      "metadata": {
        "id": "jhA_Fdl8h86a"
      }
    },
    {
      "cell_type": "markdown",
      "source": [
        "# Nested Queries"
      ],
      "metadata": {
        "id": "a1L5sn_XiS_Y"
      }
    },
    {
      "cell_type": "markdown",
      "source": [
        "Subqueries\n",
        "----------\n",
        "\n",
        "Which of the following statements about subqueries is true?\n",
        "\n",
        "    They are executed after the main query is executed.\n",
        "\n",
        "    They are executed in parallel with the main query.\n",
        "\n",
        "    They are optionally executed after the main query,\n",
        "    as and when the user requires.\n",
        "\n",
        "    They are executed before the main query is executed.\n",
        "\n",
        "---------------\n",
        "\n",
        "    They are executed before the main query is executed.\n",
        "\n",
        "    ✓ Correct\n",
        "    Feedback:\n",
        "\n",
        "Correct. The subquery always is executed `before` the execution of the main query.\n",
        "\n",
        "The result of the `subquery is used as input` for the outer query."
      ],
      "metadata": {
        "id": "nmA3EaP8joUF"
      }
    },
    {
      "cell_type": "markdown",
      "source": [
        "Clauses Used in Subqueries\n",
        "-----------\n",
        "\n",
        "Which of the following clauses is mandatory in a subquery?\n",
        "\n",
        "One or more than one option may be correct.\n",
        "\n",
        "    SELECT\n",
        "\n",
        "    WHERE\n",
        "\n",
        "    GROUP BY\n",
        "\n",
        "    ORDER BY\n",
        "\n",
        "    None of the above.\n",
        "\n",
        "----------\n",
        "\n",
        "    SELECT\n",
        "\n",
        "    ✓ Correct\n",
        "    Feedback:\n",
        "\n",
        "A subquery is just like any other query, which has to start with a SELECT clause.\n",
        "\n",
        "It is contained within an outer query."
      ],
      "metadata": {
        "id": "bZ8Z36jAkNQa"
      }
    },
    {
      "cell_type": "markdown",
      "source": [
        "Subqueries\n",
        "----------\n",
        "\n",
        "**Description**\n",
        "\n",
        "Given a table named customers with the following columns:\n",
        "\n",
        "![ss](https://media-doselect.s3.amazonaws.com/generic/P4ZVwM0eLjNo3RJEGQRAeNaZ8/Customers.PNG)\n",
        "\n",
        "Write a query to retrieve the names of all customers who have a credit limit greater than what `La Rochelle Gifts` has.\n",
        "\n",
        "------\n",
        "\n",
        "    use upgrad;\n",
        "\n",
        "    select customerName\n",
        "    from customers\n",
        "    where creditLimit >\n",
        "      (\n",
        "        select creditLimit\n",
        "        from customers\n",
        "        where customerName = 'La Rochelle Gifts'\n",
        "      )\n",
        "    order by creditLimit;"
      ],
      "metadata": {
        "id": "xKIa3X7y3Mea"
      }
    },
    {
      "cell_type": "markdown",
      "source": [
        "## Common Table Expression (CTE)"
      ],
      "metadata": {
        "id": "-1BI3uYI4Gmx"
      }
    },
    {
      "cell_type": "markdown",
      "source": [
        "CTEs\n",
        "-----\n",
        "\n",
        "If you need to reference the same data set multiple times, then a CTE is not the choice.\n",
        "\n",
        "    True\n",
        "\n",
        "    False\n",
        "\n",
        "-------\n",
        "\n",
        "    False\n",
        "\n",
        "    ✓ Correct\n",
        "    Feedback:\n",
        "\n",
        "Correct. A CTE is used mostly for referencing the same table to get a subset of the values that it contains."
      ],
      "metadata": {
        "id": "vR7jjkoj4YJM"
      }
    },
    {
      "cell_type": "markdown",
      "source": [
        "CTEs vs Derived Tables\n",
        "---------\n",
        "\n",
        "A derived table is basically a subquery, except it is always in the FROM clause of an SQL statement.\n",
        "\n",
        "Given this information, is the following statement true or false?\n",
        "\n",
        "`Common Table Expressions is another name for derived tables.`\n",
        "\n",
        "    True\n",
        "\n",
        "    False\n",
        "\n",
        "--------\n",
        "\n",
        "    False\n",
        "\n",
        "    ✓ Correct\n",
        "    Feedback:\n",
        "\n",
        "Common Table Expressions are different in the sense that they are created using the ‘with’ clause,\n",
        "\n",
        "as opposed to a derived table, which is a part of the ‘select’ statement."
      ],
      "metadata": {
        "id": "c59lxfQu4r3L"
      }
    },
    {
      "cell_type": "markdown",
      "source": [
        "# Summary\n",
        "\n",
        "- Relational, arithmetic and logical operators\n",
        "- Aggregate functions\n",
        "- Regular expressions\n",
        "- Nested queries\n",
        "- Common Table Expressions\n",
        "- Views\n",
        "- Advantages of views over CTEs"
      ],
      "metadata": {
        "id": "NgFk4Tjr5w5e"
      }
    },
    {
      "cell_type": "code",
      "source": [],
      "metadata": {
        "id": "0lXJUZQSfMC6"
      },
      "execution_count": 4,
      "outputs": []
    }
  ]
}