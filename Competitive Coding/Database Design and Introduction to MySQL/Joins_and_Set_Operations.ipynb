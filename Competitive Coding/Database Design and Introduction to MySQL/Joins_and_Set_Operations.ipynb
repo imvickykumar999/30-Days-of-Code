{
  "nbformat": 4,
  "nbformat_minor": 0,
  "metadata": {
    "colab": {
      "provenance": []
    },
    "kernelspec": {
      "name": "python3",
      "display_name": "Python 3"
    },
    "language_info": {
      "name": "python"
    }
  },
  "cells": [
    {
      "cell_type": "markdown",
      "source": [
        "# Introduction\n",
        "\n",
        "In this session\n",
        "-------\n",
        "\n",
        "You will learn the basics of set theory. The basic set operations are as follows:\n",
        "\n",
        "- Union\n",
        "- Intersection\n",
        "- Difference\n",
        "\n",
        "You will also learn about various types of joins, such as follows:\n",
        "\n",
        "- Inner join\n",
        "- Left join\n",
        "- Right join"
      ],
      "metadata": {
        "id": "4gJL3_tV7diN"
      }
    },
    {
      "cell_type": "markdown",
      "source": [
        "# Set Theory\n",
        "\n",
        "Consider two sets **A and B** containing `even numbers` and `prime numbers`, respectively.\n",
        "\n",
        "For ease of understanding, let's consider only values less than 10.\n",
        "\n",
        "Therefore, the sets will be\n",
        "\n",
        "    A = { 2, 4, 6, 8 } and B = { 2, 3, 5, 7 }"
      ],
      "metadata": {
        "id": "ShIC1JzR8EdT"
      }
    },
    {
      "cell_type": "code",
      "execution_count": 2,
      "metadata": {
        "colab": {
          "base_uri": "https://localhost:8080/"
        },
        "id": "CN8hUCDM6FKE",
        "outputId": "2c93a281-f137-4580-ec7b-712b141259e5"
      },
      "outputs": [
        {
          "output_type": "execute_result",
          "data": {
            "text/plain": [
              "({2, 4, 6, 8}, {2, 3, 5, 7})"
            ]
          },
          "metadata": {},
          "execution_count": 2
        }
      ],
      "source": [
        "A = { 2, 4, 6, 8 }\n",
        "B = { 2, 3, 5, 7 }\n",
        "\n",
        "A, B"
      ]
    },
    {
      "cell_type": "code",
      "source": [
        "#A ∪ B = { 2, 3, 4, 5, 6, 7, 8 }\n",
        "A | B"
      ],
      "metadata": {
        "colab": {
          "base_uri": "https://localhost:8080/"
        },
        "id": "cUuaxZMB8Zvj",
        "outputId": "a57a1123-df1f-4e79-84dc-73abce8e3b9e"
      },
      "execution_count": 3,
      "outputs": [
        {
          "output_type": "execute_result",
          "data": {
            "text/plain": [
              "{2, 3, 4, 5, 6, 7, 8}"
            ]
          },
          "metadata": {},
          "execution_count": 3
        }
      ]
    },
    {
      "cell_type": "code",
      "source": [
        "# A ∩ B = { 2 }\n",
        "A & B"
      ],
      "metadata": {
        "colab": {
          "base_uri": "https://localhost:8080/"
        },
        "id": "edkSNXEE8qgn",
        "outputId": "ded5e79a-75ae-4980-e900-9ab2b47f92d1"
      },
      "execution_count": 4,
      "outputs": [
        {
          "output_type": "execute_result",
          "data": {
            "text/plain": [
              "{2}"
            ]
          },
          "metadata": {},
          "execution_count": 4
        }
      ]
    },
    {
      "cell_type": "code",
      "source": [
        "# A - B = { 4, 6, 8 }\n",
        "A - B"
      ],
      "metadata": {
        "colab": {
          "base_uri": "https://localhost:8080/"
        },
        "id": "DPCmdpLb8sEc",
        "outputId": "e73ece1e-ec19-4d94-94b9-e4794ede39b6"
      },
      "execution_count": 5,
      "outputs": [
        {
          "output_type": "execute_result",
          "data": {
            "text/plain": [
              "{4, 6, 8}"
            ]
          },
          "metadata": {},
          "execution_count": 5
        }
      ]
    },
    {
      "cell_type": "markdown",
      "source": [
        "Set Theory\n",
        "-----\n",
        "\n",
        "Write the value of B - A from the example in the text given above.\n",
        "\n",
        "----------\n",
        "\n",
        "`Suggested Answer`\n",
        "\n",
        "{ 3, 5, 7 }"
      ],
      "metadata": {
        "id": "9m9jM5jB88hJ"
      }
    },
    {
      "cell_type": "code",
      "source": [
        "B - A"
      ],
      "metadata": {
        "colab": {
          "base_uri": "https://localhost:8080/"
        },
        "id": "Ed3Dl4kJ85tA",
        "outputId": "1eaad275-9453-43a6-d195-9234d19d65e5"
      },
      "execution_count": 6,
      "outputs": [
        {
          "output_type": "execute_result",
          "data": {
            "text/plain": [
              "{3, 5, 7}"
            ]
          },
          "metadata": {},
          "execution_count": 6
        }
      ]
    },
    {
      "cell_type": "markdown",
      "source": [
        "Set Theory\n",
        "------\n",
        "\n",
        "In a class of 50 students, 10 enrolled in both English and Hindi.\n",
        "\n",
        "32 enrolled in English in total.\n",
        "\n",
        "If the students of the class enrolled in at least one of the two subjects,\n",
        "\n",
        "then how many students enrolled in only Hindi and not English?\n",
        "\n",
        "You can use a Venn Diagram to solve this question.\n",
        "\n",
        "Go through the link given below carefully, especially the first example problem.\n",
        "\n",
        "https://brilliant.org/wiki/venn-diagram/\n",
        "\n",
        "    22\n",
        "\n",
        "    18\n",
        "\n",
        "    28\n",
        "\n",
        "    42\n",
        "\n",
        "---------\n",
        "\n",
        "    18\n",
        "\n",
        "    ✓ Correct\n",
        "    Feedback:\n",
        "\n",
        "Denote the set of students who enrolled in English and Hindi by E and H, respectively.\n",
        "\n",
        "The number of elements in E = 32.\n",
        "\n",
        "So, the number of elements in H - E\n",
        "\n",
        "    = Total number of elements - Number of elements in E\n",
        "    = 50 - 32 = 18"
      ],
      "metadata": {
        "id": "jHbSGqiA9Hlz"
      }
    },
    {
      "cell_type": "markdown",
      "source": [
        "Set Theory\n",
        "-------\n",
        "\n",
        "Fill in the blank.\n",
        "\n",
        "If A and B are two sets, then A  ∩ (B  ∪ A) equals _____.\n",
        "\n",
        "    A\n",
        "\n",
        "    B\n",
        "\n",
        "    A - B\n",
        "\n",
        "    None of the above.\n",
        "\n",
        "---------\n",
        "\n",
        "    A\n",
        "\n",
        "    ✓ Correct\n",
        "    Feedback:\n",
        "\n",
        "B ∪ A means all the elements in the Venn Diagram are included.\n",
        "\n",
        "A  ∩ (B  ∪ A) would mean all elements that are common to A and the entire set of A ∪ B.\n",
        "\n",
        "This would result in just A."
      ],
      "metadata": {
        "id": "JuUvmla8-YoG"
      }
    },
    {
      "cell_type": "markdown",
      "source": [
        "# SQL Joins\n",
        "\n",
        "![ss](https://i.stack.imgur.com/UI25E.jpg)"
      ],
      "metadata": {
        "id": "1lqOYKWjD7JE"
      }
    },
    {
      "cell_type": "markdown",
      "source": [
        "Joins in a Star Schema\n",
        "------\n",
        "\n",
        "What is the maximum number of tables that can be joined in a star schema in a single query?\n",
        "\n",
        "    2\n",
        "\n",
        "    3\n",
        "\n",
        "    4\n",
        "\n",
        "    There is no such limit\n",
        "\n",
        "----------\n",
        "\n",
        "    3\n",
        "\n",
        "    ✓ Correct\n",
        "    Feedback:\n",
        "\n",
        "Correct. If you look at the ERD for the market fact schema,\n",
        "\n",
        "you can see that the dimension tables do not connect to any table other than the central fact table.\n",
        "\n",
        "The same is applicable for any other star schema."
      ],
      "metadata": {
        "id": "oJUbmhhvEgPG"
      }
    },
    {
      "cell_type": "markdown",
      "source": [
        "Types of Joins\n",
        "--------\n",
        "\n",
        "Consider the two tables given below.\n",
        "\n",
        "<center>\n",
        "\n",
        "**`Employees`**\n",
        "\n",
        "![ss](https://images.upgrad.com/1634e3f7-73b5-45fd-bd0c-399c5447e4f9-Employees.PNG)\n",
        "\n",
        "**`Departments`**\n",
        "\n",
        "![ss](https://images.upgrad.com/c646995c-e298-4e27-9e9f-f48869477723-Departments.PNG)\n",
        "\n",
        "</center>\n",
        "\n",
        "Which query would you write to retrieve all employees from the Employees table along with the respective departments that can be obtained from the Departments table?\n",
        "\n",
        "----------\n",
        "\n",
        "    select last_name, dept_name\n",
        "\n",
        "    from employees e\n",
        "\n",
        "    left join departments d\n",
        "\n",
        "    on e.dept_id = d.dept_id;\n",
        "\n",
        "`✓ Correct`\n",
        "\n",
        "**Feedback:**\n",
        "\n",
        "This query would return all values from the Employees table and only matching values from the Departments table.\n",
        "\n",
        "This is what is required as mentioned in the question.\n",
        "\n",
        "-----------\n",
        "\n",
        "    select last_name, dept_name\n",
        "\n",
        "    from employees e\n",
        "\n",
        "    right join departments d\n",
        "\n",
        "    on e.dept_id = d.dept_id;\n",
        "\n",
        "----------\n",
        "\n",
        "    select last_name, dept_name\n",
        "\n",
        "    from employees e\n",
        "\n",
        "    inner join departments d\n",
        "\n",
        "    on e.dept_id = d.dept_id;\n",
        "\n",
        "--------\n",
        "\n",
        "    None of the above\n",
        "\n",
        "---------"
      ],
      "metadata": {
        "id": "byKIizzoEtYr"
      }
    },
    {
      "cell_type": "markdown",
      "source": [
        "# Types of Joins: A Demonstration"
      ],
      "metadata": {
        "id": "42cbXRYIFZvb"
      }
    },
    {
      "cell_type": "markdown",
      "source": [
        "Examples of Multi-Joins\n",
        "--------\n",
        "\n",
        "Can you think of an example where you would need to use a multi-join,\n",
        "\n",
        "i.e., query data from more than two tables at once?\n",
        "\n",
        "-----\n",
        "\n",
        "`Suggested Answer`\n",
        "\n",
        "Consider three tables:\n",
        "\n",
        "1. Vehicles table containing the columns vehicle id, colour id and customer id\n",
        "2. Colours table containing the columns colour id and colour (black, white etc.)\n",
        "3. Customers table containing the columns customer id and customer name\n",
        "\n",
        "You would need to write a query using multi-joins to know which vehicle is owned by which customer as well as which colour that vehicle is."
      ],
      "metadata": {
        "id": "CZCOoy53F4qj"
      }
    },
    {
      "cell_type": "markdown",
      "source": [
        "'On' vs 'Using' Keyword\n",
        "-------\n",
        "\n",
        "State whether the following statement is true or false.\n",
        "\n",
        "Every SQL statement containing a 'join' keyword can be rewritten with a 'using' keyword.\n",
        "\n",
        "    True\n",
        "\n",
        "    False\n",
        "\n",
        "---------\n",
        "\n",
        "    False\n",
        "\n",
        "    ✓ Correct\n",
        "    Feedback:\n",
        "\n",
        "The 'using' keyword can be used in a query to join two tables only when the common column in the two tables has the same name in both tables."
      ],
      "metadata": {
        "id": "yd-UI2EFIaSw"
      }
    },
    {
      "cell_type": "markdown",
      "source": [
        "Shorten the Clause\n",
        "--------\n",
        "\n",
        "You just saw the clause *City = 'Delhi' or City = 'Patna'* in a query.\n",
        "\n",
        "Can you think of a shorter way of rewriting this clause?\n",
        "\n",
        "---------\n",
        "\n",
        "`Suggested Answer`\n",
        "\n",
        "You can rewrite the clause as City in ('Delhi', 'Patna').\n",
        "\n",
        "The in keyword comes in handy when you have multiple or clauses in a single query."
      ],
      "metadata": {
        "id": "wwRZquBnJPYZ"
      }
    },
    {
      "cell_type": "markdown",
      "source": [
        "Explain the Query\n",
        "-----\n",
        "\n",
        "Explain in your own words what the following query is trying to achieve.\n",
        "\n",
        "    select Customer_Name, sum(Order_Quantity) as No_Of_Orders\n",
        "    from cust_dimen c\n",
        "    inner join market_fact_full m\n",
        "    on c.cust_id = m.cust_id\n",
        "    group by Customer_Name\n",
        "    order by No_Of_Orders desc\n",
        "    limit 1;\n",
        "\n",
        "----------\n",
        "\n",
        "`Suggested Answer`\n",
        "\n",
        "By writing the above query, you are listing each customer with his/her number of orders.\n",
        "\n",
        "An inner join is used because the two columns are located in different tables, and you need all the matching values.\n",
        "\n",
        "The table aliasing is done to understand whether the common column (cust_id) is referenced from the cust_dimen or market_fact_full table.\n",
        "\n",
        "The grouping of customers is done because a customer may feature multiple times in the table.\n",
        "\n",
        "Then they are ordered in descending order of the number of orders.\n",
        "\n",
        "Finally, only the topmost value is displayed using the limit keyword to determine the customer who placed the most number of orders."
      ],
      "metadata": {
        "id": "ILLlr3rAJfzQ"
      }
    },
    {
      "cell_type": "markdown",
      "source": [
        "Types of Joins\n",
        "-----\n",
        "\n",
        "**Description**\n",
        "\n",
        "Given a table named customers and a table named orders with the following columns:\n",
        "\n",
        "<center>\n",
        "\n",
        "![ss](https://media-doselect.s3.amazonaws.com/generic/0wR1ZKYKEd9pqMp1WYXz4ORgK/Customers.PNG)\n",
        "\n",
        "![ss](https://media-doselect.s3.amazonaws.com/generic/8vzoaArYoGG3jLgp3Q1d8NM7/Orders.PNG)\n",
        "\n",
        "</center>\n",
        "\n",
        "Write a query to list the names of all customers who have placed at least one order.\n",
        "\n",
        "**Sample Output**\n",
        "\n",
        "    customerName\n",
        "\n",
        "    Atelier graphique\n",
        "\n",
        "------\n",
        "\n",
        "    use upgrad;\n",
        "\n",
        "    select distinct customerName\n",
        "    from customers c inner join orders o\n",
        "    on c.customerNumber = o.customerNumber"
      ],
      "metadata": {
        "id": "EXXbhW9nIk1r"
      }
    },
    {
      "cell_type": "markdown",
      "source": [
        "# Outer Joins: A Demonstration"
      ],
      "metadata": {
        "id": "8yN3V02nKBqn"
      }
    },
    {
      "cell_type": "markdown",
      "source": [
        "Outer Joins vs Inner Joins\n",
        "----\n",
        "\n",
        "You just saw an example where an outer join would be preferred to an inner join.\n",
        "\n",
        "Can you think of another such scenario?\n",
        "\n",
        "---------\n",
        "\n",
        "`Suggested Answer`\n",
        "\n",
        "Consider a table 'Loans' containing information about loans, including the loan type, principal amount and the rate of interest.\n",
        "\n",
        "Now, consider another table 'Applicants' that contains the following details:\n",
        "\n",
        "the applicant name, address and loan_id.\n",
        "\n",
        "Loan_id would be assigned null if a customer has applied for a loan but it has not been sanctioned yet.\n",
        "\n",
        "It would be better to use an outer join in this case so that you can get information on even those applicants who still have not got their loan approved."
      ],
      "metadata": {
        "id": "F2n49H_dKiEH"
      }
    },
    {
      "cell_type": "markdown",
      "source": [
        "Inner vs. Outer Join\n",
        "------\n",
        "\n",
        "What is the difference between an inner join and an outer join operation?\n",
        "\n",
        "    There is no difference.\n",
        "\n",
        "    An inner join preserves a few values that are otherwise lost in an outer join.\n",
        "\n",
        "    An outer join preserves a few values that are otherwise lost in an inner join.\n",
        "\n",
        "    An outer join can be used only on outer queries,\n",
        "    whereas an inner join operation can be used in subqueries.\n",
        "\n",
        "---------\n",
        "\n",
        "    An outer join preserves a few values that are otherwise lost in an inner join.\n",
        "\n",
        "    ✓ Correct\n",
        "    Feedback:\n",
        "\n",
        "An outer join returns null if the corresponding column in the second table does not have matching values.\n",
        "\n",
        "An inner join does not return non-matching values altogether."
      ],
      "metadata": {
        "id": "91giZAFvJ_CA"
      }
    },
    {
      "cell_type": "markdown",
      "source": [
        "# Views with Joins\n",
        "\n",
        "Views with joins are especially useful if you need to store data from multiple columns in a single place for ready reference."
      ],
      "metadata": {
        "id": "KPMuL2CSLYHu"
      }
    },
    {
      "cell_type": "markdown",
      "source": [
        "# Set Operations with SQL\n",
        "\n",
        "*Two tables are **union-compatible** if*:\n",
        "\n",
        "1. They have the same number of attributes, and\n",
        "2. The attribute types are compatible, i.e., the corresponding attributes have the same data type."
      ],
      "metadata": {
        "id": "mQhIuIWRLgcx"
      }
    },
    {
      "cell_type": "markdown",
      "source": [
        "Union vs Union all\n",
        "--------\n",
        "\n",
        "State whether the following statement is true or false.\n",
        "\n",
        "It is preferable to use '`union all`' instead of '`union`' in a query.\n",
        "\n",
        "    True\n",
        "\n",
        "    False\n",
        "\n",
        "--------\n",
        "\n",
        "    False\n",
        "\n",
        "    ✓ Correct\n",
        "    Feedback:\n",
        "\n",
        "Using union eliminates duplicate values in the result set, making it easier to look at and analyse the resulting output.\n",
        "\n",
        "    \"Union all\" returns all values including duplicates."
      ],
      "metadata": {
        "id": "pEAV-5hZMGkn"
      }
    },
    {
      "cell_type": "markdown",
      "source": [
        "## Practice Questions"
      ],
      "metadata": {
        "id": "GvqdV-NLMqq5"
      }
    },
    {
      "cell_type": "markdown",
      "source": [
        "Joins\n",
        "------\n",
        "\n",
        "What will be the output of the following query?\n",
        "\n",
        "    select id, col_1, col_2\n",
        "    from table_1 a\n",
        "    inner join table_2 b\n",
        "    using(id)\n",
        "    inner join table_3 c\n",
        "    using(id_2)\n",
        "\n",
        " --------\n",
        "\n",
        "    This query will throw an error message.\n",
        "\n",
        "    This query will perform the inner join of table_1 and table_3 only.\n",
        "\n",
        "    This query will perform an inner join of table_1 and table_2 on ‘id’\n",
        "    and then perform an inner join on ‘id_2’ with table_3.\n",
        "\n",
        "    This query will perform an inner join of table_2 and table_3 on ‘id_2’\n",
        "    and then perform an inner join on ‘id’ with table_1.\n",
        "\n",
        "--------\n",
        "\n",
        "    This query will perform an inner join of table_1 and table_2 on ‘id’\n",
        "    and then perform an inner join on ‘id_2’ with table_3.\n",
        "\n",
        "    ✓ Correct\n",
        "    Feedback:\n",
        "\n",
        "This statement is correct.\n",
        "\n",
        "This command will perform an inner join of table_1 and table_2 on ‘id’\n",
        "\n",
        "and then perform an inner join on ‘id_2’ with table_3."
      ],
      "metadata": {
        "id": "bmXOAnNGMvsO"
      }
    },
    {
      "cell_type": "markdown",
      "source": [
        "Joins\n",
        "----\n",
        "\n",
        "You have been given the following two tables `‘Transactions’` and `‘Company’`.\n",
        "\n",
        "<center>\n",
        "\n",
        "**`Transactions`**\n",
        "\n",
        "![ss](https://images.upgrad.com/44817ce1-4833-41f8-90cd-c88431be393a-img62.PNG)\n",
        "\n",
        "**`Company`**\n",
        "\n",
        "![ss](https://images.upgrad.com/bdbf28f9-2bf3-422a-81a0-dbbf57eb1be2-img63.PNG)\n",
        "\n",
        "</center>\n",
        "\n",
        "If you perform an inner join on these two tables on ‘Company_id’,\n",
        "\n",
        "then how many rows will the resulting table contain?\n",
        "\n",
        "    4\n",
        "\n",
        "    3\n",
        "\n",
        "    2\n",
        "\n",
        "    5\n",
        "\n",
        "--------\n",
        "\n",
        "    3\n",
        "\n",
        "    ✓ Correct\n",
        "    Feedback:\n",
        "\n",
        "When you perform the inner join on these tables, the three rows of the ‘Transactions’ table,\n",
        "\n",
        "in which the ‘Company_id’ is equal to B, B and E, will appear."
      ],
      "metadata": {
        "id": "SIGeMgntNHNw"
      }
    },
    {
      "cell_type": "markdown",
      "source": [
        "Joins\n",
        "-------\n",
        "\n",
        "You have been given the following three tables `‘Transactions’`, `Company’` and `‘Headquarter’`.\n",
        "\n",
        "<center>\n",
        "\n",
        "**`Transactions`**\n",
        "\n",
        "![ss](https://images.upgrad.com/fa8165b1-a15a-45b2-bee0-874b2e6248af-img64.PNG)\n",
        "\n",
        "**`Headquarter`**\n",
        "\n",
        "![ss](https://images.upgrad.com/7e57e4cb-0827-4959-8633-684de126028a-img65.PNG)\n",
        "\n",
        "**`Company`**\n",
        "\n",
        "![ss](https://images.upgrad.com/a40bb455-f475-4d19-82d6-443262bbd8ab-img66.PNG)\n",
        "\n",
        "</center>\n",
        "\n",
        "Suppose you want to get the company name corresponding to the highest amount paid in the `‘Transactions’` table.\n",
        "\n",
        "Which method will be the most efficient to perform such an operation?\n",
        "\n",
        "--------\n",
        "\n",
        "- Perform the operation in three steps:\n",
        "\n",
        "  - First, get the ‘Company_Headquarter_id’ corresponding to the highest amount\n",
        "    from the ‘Transactions’ table.\n",
        "\n",
        "  - Then, find the ‘Company_id’ from the ‘Headquarter’ table that corresponds\n",
        "    to the ‘Company_headquarter_id’ obtained from the previous step.\n",
        "\n",
        "  - Perform the operation on the ‘Company’ table to get the ‘Company_name’.\n",
        "\n",
        "-------\n",
        "\n",
        "- Perform a nested query operation among the three tables.\n",
        "\n",
        "----------\n",
        "\n",
        "- Inner join the three tables and query for the\n",
        "  maximum amount in the inner joined table directly.\n",
        "\n",
        "---------\n",
        "\n",
        "    Inner join the three tables and query for the\n",
        "    maximum amount in the inner joined table directly.\n",
        "\n",
        "    ✓ Correct\n",
        "    Feedback:\n",
        "\n",
        "Performing inner joins on the three tables and querying the company name corresponding to the highest amount will be the most efficient to perform such a task."
      ],
      "metadata": {
        "id": "mmnBfYr2Nwvm"
      }
    },
    {
      "cell_type": "markdown",
      "source": [
        "Joins\n",
        "-------\n",
        "\n",
        "Suppose you have been given the following two tables `‘Customers’` and `‘Orders’`.\n",
        "\n",
        "<center>\n",
        "\n",
        "**`Customers`**\n",
        "\n",
        "![ss](https://images.upgrad.com/526257cb-c72f-4ab7-8f94-9f6d7e2afff5-img54.PNG)\n",
        "\n",
        "**`Orders`**\n",
        "\n",
        "![ss](https://images.upgrad.com/2f88bd43-f7b0-42e2-a686-be32a83cde45-img55.PNG)\n",
        "\n",
        "</center>\n",
        "\n",
        "These two tables are to be joined on the `‘dept_no’` key.\n",
        "\n",
        "Match each join type with the resulting table.\n",
        "\n",
        "![ss](https://images.upgrad.com/4eb5ba93-8d3c-47bf-88f1-4033fee7132c-img67.PNG)\n",
        "\n",
        "Select the correct option from below.\n",
        "\n",
        "    A-2, B-1, C-4, D-5, E-3\n",
        "\n",
        "    A-1, B-3, C-2, D-5, E-4\n",
        "\n",
        "    A-4, B-3, C-1, D-2, E-5\n",
        "\n",
        "    A-5, B-3, C-1, D-2, E-4\n",
        "\n",
        "-------\n",
        "\n",
        "    A-5, B-3, C-1, D-2, E-4\n",
        "\n",
        "    ✓ Correct\n",
        "    Feedback:\n",
        "\n",
        "*Understand the Venn diagram and answer this question.*"
      ],
      "metadata": {
        "id": "zxcUsp0zOr3e"
      }
    },
    {
      "cell_type": "markdown",
      "source": [
        "Summary\n",
        "-----\n",
        "\n",
        "You learnt the following topics in this session:\n",
        "\n",
        "- Some basic set operations such as union, intersection and difference\n",
        "- Types of joins: inner joins, left joins and right joins\n",
        "- Writing simple and complex queries involving multiple joins and views\n",
        "- Using 'union' and 'union all' in queries"
      ],
      "metadata": {
        "id": "knWtOsEbPls1"
      }
    },
    {
      "cell_type": "code",
      "source": [],
      "metadata": {
        "id": "DJ8YGqem9Cm-"
      },
      "execution_count": null,
      "outputs": []
    }
  ]
}