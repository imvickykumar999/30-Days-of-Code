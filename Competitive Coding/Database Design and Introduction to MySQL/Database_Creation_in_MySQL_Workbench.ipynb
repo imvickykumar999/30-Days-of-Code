{
  "nbformat": 4,
  "nbformat_minor": 0,
  "metadata": {
    "colab": {
      "provenance": []
    },
    "kernelspec": {
      "name": "python3",
      "display_name": "Python 3"
    },
    "language_info": {
      "name": "python"
    }
  },
  "cells": [
    {
      "cell_type": "markdown",
      "source": [
        "# Introduction to DDL and DML Statements\n",
        "\n",
        "- ## [MySQL Installation Guide](https://cdn.upgrad.com/uploads/production/60901e07-0dc3-4aec-8ab5-520c0ddcebac/MySQL+Workbench+Installation.pdf)"
      ],
      "metadata": {
        "id": "RtKkPBE6BzAw"
      }
    },
    {
      "cell_type": "code",
      "source": [
        "# https://github.com/catherinedevlin/ipython-sql/issues/191#issuecomment-824885235\n",
        "\n",
        "!pip install \"SQLAlchemy<1.4\""
      ],
      "metadata": {
        "colab": {
          "base_uri": "https://localhost:8080/"
        },
        "id": "5Uw2F2xft47C",
        "outputId": "95584800-aee4-4341-906c-91bb1c442c7f"
      },
      "execution_count": null,
      "outputs": [
        {
          "output_type": "stream",
          "name": "stdout",
          "text": [
            "Looking in indexes: https://pypi.org/simple, https://us-python.pkg.dev/colab-wheels/public/simple/\n",
            "Requirement already satisfied: SQLAlchemy<1.4 in /usr/local/lib/python3.10/dist-packages (1.3.24)\n"
          ]
        }
      ]
    },
    {
      "cell_type": "code",
      "source": [
        "%load_ext sql\n",
        "# %reload_ext sql"
      ],
      "metadata": {
        "id": "596YoDhUwXUI"
      },
      "execution_count": null,
      "outputs": []
    },
    {
      "cell_type": "code",
      "source": [
        "%%sql\n",
        "\n",
        "sqlite:///vicks.db"
      ],
      "metadata": {
        "id": "GZK9n_nDtZSM"
      },
      "execution_count": null,
      "outputs": []
    },
    {
      "cell_type": "markdown",
      "source": [
        "SQL Command Types\n",
        "---------\n",
        "\n",
        "Which of the following command type(s) is/are available in SQL?\n",
        "\n",
        "    Data Modification Language\n",
        "\n",
        "    Data Definition Language\n",
        "\n",
        "    Data Manipulation Language\n",
        "\n",
        "    None of the above\n",
        "\n",
        "----------\n",
        "\n",
        "    Data Definition Language\n",
        "\n",
        "    ✓ Correct\n",
        "    Feedback:\n",
        "\n",
        "Correct. DDL is a category of SQL commands.\n",
        "\n",
        "    Data Manipulation Language\n",
        "\n",
        "    ✓ Correct\n",
        "    Feedback:\n",
        "\n",
        "Correct. DML is a category of SQL commands."
      ],
      "metadata": {
        "id": "3lYUSm12wK-8"
      }
    },
    {
      "cell_type": "markdown",
      "source": [
        "# DDL Statements: A Demonstration\n",
        "\n",
        "- create database `database_name`\n",
        "- use `database_name`"
      ],
      "metadata": {
        "id": "t5gcSLF7wodc"
      }
    },
    {
      "cell_type": "markdown",
      "source": [
        "DDL Statements\n",
        "----------\n",
        "\n",
        "DDL statements perform operations on which of the following database objects?\n",
        "\n",
        "----------\n",
        "\n",
        "Rows\n",
        "\n",
        "\n",
        "Columns\n",
        "\n",
        "\n",
        "    Tables\n",
        "\n",
        "    ✓ Correct\n",
        "    Feedback:\n",
        "    Correct. DDL statements are used to create, modify and drop tables.\n",
        "\n",
        "\n",
        "None of the above"
      ],
      "metadata": {
        "id": "5OzIo7nwnUO9"
      }
    },
    {
      "cell_type": "markdown",
      "source": [
        "Create a Table\n",
        "---------\n",
        "\n",
        "You are asked to compile data and analyse India's performance in the 2019 Cricket World Cup.\n",
        "\n",
        "The first step that you would perform is to create a table with some columns with appropriate data types.\n",
        "\n",
        "Write a query to create a table named 'India' with columns with the following data types:\n",
        "\n",
        "    Matches_played – INT\n",
        "\n",
        "    Matches_won – INT\n",
        "\n",
        "    Matches_lost – INT\n",
        "\n",
        "    Net_run_rate – DECIMAL(4,3)\n",
        "\n",
        "    Points – INT\n",
        "\n",
        "------------\n",
        "\n",
        "    create table India (\n",
        "\n",
        "      Matches_played int,\n",
        "\n",
        "      Matches_won int,\n",
        "\n",
        "      Matches_lost int,\n",
        "\n",
        "      Net_run_rate decimal(4,3),\n",
        "\n",
        "      Points int\n",
        "\n",
        "    );\n",
        "\n",
        "`Note`: The net run rate has the format decimal(4,3).\n",
        "\n",
        "So, a value for the same can be 1.234.\n",
        "\n",
        "In decimal(4,3), 4 is the total number of digits, while 3 is the total number of digits after the decimal point.\n",
        "\n",
        "This is the SQL standard specification."
      ],
      "metadata": {
        "id": "JZOsFu2ineMc"
      }
    },
    {
      "cell_type": "code",
      "source": [
        "%%sql\n",
        "\n",
        "create table India (\n",
        "  Matches_played int,\n",
        "  Matches_won int,\n",
        "  Matches_lost int,\n",
        "  Net_run_rate decimal(4,3),\n",
        "  Points int\n",
        ");"
      ],
      "metadata": {
        "colab": {
          "base_uri": "https://localhost:8080/"
        },
        "id": "14HQqHGY5KCl",
        "outputId": "ed33172a-9745-41eb-82fe-b3830bab709f"
      },
      "execution_count": null,
      "outputs": [
        {
          "output_type": "stream",
          "name": "stdout",
          "text": [
            " * sqlite:///vicks.db\n",
            "Done.\n"
          ]
        },
        {
          "output_type": "execute_result",
          "data": {
            "text/plain": [
              "[]"
            ]
          },
          "metadata": {},
          "execution_count": 4
        }
      ]
    },
    {
      "cell_type": "code",
      "source": [
        "%%sql\n",
        "\n",
        "insert into India\n",
        "\n",
        "(Matches_played, Matches_won, Matches_lost, Net_run_rate, Points)\n",
        "\n",
        "values (10, 7, 3, 50.3, 100), (20, 15, 5, 60.7, 200);"
      ],
      "metadata": {
        "colab": {
          "base_uri": "https://localhost:8080/"
        },
        "id": "CgTFhQ6yu3D2",
        "outputId": "8745eb95-c0c8-47f8-b4b9-1490ec3f35dc"
      },
      "execution_count": null,
      "outputs": [
        {
          "output_type": "stream",
          "name": "stdout",
          "text": [
            " * sqlite:///vicks.db\n",
            "2 rows affected.\n"
          ]
        },
        {
          "output_type": "execute_result",
          "data": {
            "text/plain": [
              "[]"
            ]
          },
          "metadata": {},
          "execution_count": 5
        }
      ]
    },
    {
      "cell_type": "code",
      "source": [
        "%%sql\n",
        "\n",
        "select * from India;"
      ],
      "metadata": {
        "colab": {
          "base_uri": "https://localhost:8080/",
          "height": 116
        },
        "id": "h8FTIO9j5PDF",
        "outputId": "96d4a9b5-300e-4596-d41f-4270e43e16a5"
      },
      "execution_count": null,
      "outputs": [
        {
          "output_type": "stream",
          "name": "stdout",
          "text": [
            " * sqlite:///vicks.db\n",
            "Done.\n"
          ]
        },
        {
          "output_type": "execute_result",
          "data": {
            "text/plain": [
              "[(10, 7, 3, 50.3, 100), (20, 15, 5, 60.7, 200)]"
            ],
            "text/html": [
              "<table>\n",
              "    <tr>\n",
              "        <th>Matches_played</th>\n",
              "        <th>Matches_won</th>\n",
              "        <th>Matches_lost</th>\n",
              "        <th>Net_run_rate</th>\n",
              "        <th>Points</th>\n",
              "    </tr>\n",
              "    <tr>\n",
              "        <td>10</td>\n",
              "        <td>7</td>\n",
              "        <td>3</td>\n",
              "        <td>50.3</td>\n",
              "        <td>100</td>\n",
              "    </tr>\n",
              "    <tr>\n",
              "        <td>20</td>\n",
              "        <td>15</td>\n",
              "        <td>5</td>\n",
              "        <td>60.7</td>\n",
              "        <td>200</td>\n",
              "    </tr>\n",
              "</table>"
            ]
          },
          "metadata": {},
          "execution_count": 6
        }
      ]
    },
    {
      "cell_type": "markdown",
      "source": [
        "# DML Statements: A Demonstration"
      ],
      "metadata": {
        "id": "mYqdMr0UnKH3"
      }
    },
    {
      "cell_type": "markdown",
      "source": [
        "DML Statements\n",
        "-------\n",
        "\n",
        "DML statements are used for:\n",
        "\n",
        "-----------\n",
        "\n",
        "    Deleting the data in a database\n",
        "\n",
        "    ✓ Correct\n",
        "    Feedback:\n",
        "\n",
        "----------\n",
        "\n",
        "Correct. DELETE is the DML statement used for this operation.\n",
        "\n",
        "\n",
        "    Inserting data into a database\n",
        "\n",
        "    ✓ Correct\n",
        "    Feedback:\n",
        "\n",
        "Correct. INSERT is the DML statement used for this operation.\n",
        "\n",
        "-----------\n",
        "\n",
        "Renaming a database\n",
        "\n",
        "----------\n",
        "\n",
        "Creating a table in a database"
      ],
      "metadata": {
        "id": "Jiy8MMqmtPM_"
      }
    },
    {
      "cell_type": "markdown",
      "source": [
        "Writing an INSERT Statement\n",
        "-------\n",
        "\n",
        "Suppose you have an empty table named '`Wrestlers`',\n",
        "\n",
        "which contains the following columns: Name, Wrestler_Rank, Height, Weight, Age.\n",
        "\n",
        "Write a query to add the following values to this table:\n",
        "\n",
        "- (Undertaker, 1, 208, 136, 54)\n",
        "- (Kane, 2, 213, 147, 52)\n",
        "\n",
        "--------\n",
        "\n",
        "    insert into Wrestlers (Name, Wrestler_Rank, Height, Weight, Age)\n",
        "\n",
        "    values ('Undertaker', 1, 208, 136, 54), ('Kane', 2, 213, 147, 52);"
      ],
      "metadata": {
        "id": "RA8FiNHeteW6"
      }
    },
    {
      "cell_type": "code",
      "source": [
        "%%sql\n",
        "\n",
        "create table Wrestlers (\n",
        "  Name varchar(20),\n",
        "  Wrestler_Rank int,\n",
        "  Height int,\n",
        "  Weight int,\n",
        "  Age int\n",
        ");"
      ],
      "metadata": {
        "colab": {
          "base_uri": "https://localhost:8080/"
        },
        "id": "Rv6lUoTBwff9",
        "outputId": "ce7709af-5e86-4631-c91d-9a972a1e515b"
      },
      "execution_count": null,
      "outputs": [
        {
          "output_type": "stream",
          "name": "stdout",
          "text": [
            " * sqlite:///vicks.db\n",
            "Done.\n"
          ]
        },
        {
          "output_type": "execute_result",
          "data": {
            "text/plain": [
              "[]"
            ]
          },
          "metadata": {},
          "execution_count": 7
        }
      ]
    },
    {
      "cell_type": "code",
      "source": [
        "%%sql\n",
        "\n",
        "insert into Wrestlers (Name, Wrestler_Rank, Height, Weight, Age)\n",
        "\n",
        "values ('Undertaker', 1, 208, 136, 54), ('Kane', 2, 213, 147, 52);"
      ],
      "metadata": {
        "id": "GLuTJG-E53I_",
        "colab": {
          "base_uri": "https://localhost:8080/"
        },
        "outputId": "b284fe12-38f1-4281-8b55-c1736321fbdb"
      },
      "execution_count": null,
      "outputs": [
        {
          "output_type": "stream",
          "name": "stdout",
          "text": [
            " * sqlite:///vicks.db\n",
            "2 rows affected.\n"
          ]
        },
        {
          "output_type": "execute_result",
          "data": {
            "text/plain": [
              "[]"
            ]
          },
          "metadata": {},
          "execution_count": 8
        }
      ]
    },
    {
      "cell_type": "code",
      "source": [
        "%%sql\n",
        "\n",
        "select * from Wrestlers;"
      ],
      "metadata": {
        "colab": {
          "base_uri": "https://localhost:8080/",
          "height": 116
        },
        "id": "IgWnfgGctqur",
        "outputId": "f7d77005-65ca-43a2-ef39-8606dd601b09"
      },
      "execution_count": null,
      "outputs": [
        {
          "output_type": "stream",
          "name": "stdout",
          "text": [
            " * sqlite:///vicks.db\n",
            "Done.\n"
          ]
        },
        {
          "output_type": "execute_result",
          "data": {
            "text/plain": [
              "[('Undertaker', 1, 208, 136, 54), ('Kane', 2, 213, 147, 52)]"
            ],
            "text/html": [
              "<table>\n",
              "    <tr>\n",
              "        <th>Name</th>\n",
              "        <th>Wrestler_Rank</th>\n",
              "        <th>Height</th>\n",
              "        <th>Weight</th>\n",
              "        <th>Age</th>\n",
              "    </tr>\n",
              "    <tr>\n",
              "        <td>Undertaker</td>\n",
              "        <td>1</td>\n",
              "        <td>208</td>\n",
              "        <td>136</td>\n",
              "        <td>54</td>\n",
              "    </tr>\n",
              "    <tr>\n",
              "        <td>Kane</td>\n",
              "        <td>2</td>\n",
              "        <td>213</td>\n",
              "        <td>147</td>\n",
              "        <td>52</td>\n",
              "    </tr>\n",
              "</table>"
            ]
          },
          "metadata": {},
          "execution_count": 9
        }
      ]
    },
    {
      "cell_type": "markdown",
      "source": [
        "Modifying a Column\n",
        "--------\n",
        "\n",
        "Look at the table below.\n",
        "\n",
        "It contains data about litre-wise petrol costs in some Indian cities.\n",
        "\n",
        "**`Petrol_prices`**\n",
        "\n",
        "![ss](https://images.upgrad.com/c8411243-979d-4a56-a1f8-5bf649710801-Capture.PNG)\n",
        "\n",
        "Arun is a data analyst at Bharat Petroleum.\n",
        "\n",
        "He mistakenly named the second column as Petrol_Quantity and set its data type as integer.\n",
        "\n",
        "Imagine that you are one of his teammates.\n",
        "\n",
        "Write the correct query to help Arun out.\n",
        "\n",
        "-------\n",
        "\n",
        "`Suggested Answer`\n",
        "\n",
        "    alter table Petrol_prices\n",
        "\n",
        "    change Petrol_Quantity Petrol_Price decimal(4,2);"
      ],
      "metadata": {
        "id": "-633DwsG6sgM"
      }
    },
    {
      "cell_type": "markdown",
      "source": [
        "# Practice Exercise – DDL and DML Statements"
      ],
      "metadata": {
        "id": "s52LGr7ZAAXR"
      }
    },
    {
      "cell_type": "markdown",
      "source": [
        "DDL and DML Statements\n",
        "--------\n",
        "\n",
        "Consider the following statements:\n",
        "\n",
        "1. CREATE\n",
        "2. INSERT\n",
        "3. UPDATE\n",
        "4. DELETE\n",
        "5. ALTER\n",
        "6. DROP\n",
        "7. TRUNCATE\n",
        "8. RENAME\n",
        "\n",
        "Based on the types of DDL/DML statements, select the correct answers from the options given below.\n",
        "\n",
        "Multiple options may be correct.\n",
        "\n",
        "-------\n",
        "\n",
        "    CREATE, UPDATE, DELETE and DROP are DDL statements.\n",
        "\n",
        "--------\n",
        "\n",
        "    SELECT, UPDATE, ALTER, DROP and RENAME are DML statements.\n",
        "\n",
        "---------\n",
        "\n",
        "    CREATE, ALTER, DROP, RENAME and TRUNCATE are DDL statements.\n",
        "\n",
        "    ✓ Correct\n",
        "    Feedback:\n",
        "\n",
        "Correct. These keywords are part of DDL as they help with defining the schema or the database.\n",
        "\n",
        "However, DML keywords are those keywords that help with manipulating the data in the rows of a table.\n",
        "\n",
        "----------\n",
        "\n",
        "    SELECT, INSERT, UPDATE and DELETE are DML statements.\n",
        "\n",
        "    ✓ Correct\n",
        "    Feedback:\n",
        "\n",
        "Correct. These keywords are part of DDL as they help with defining the schema or the database.\n",
        "\n",
        "However, DML keywords are those keywords that help with manipulating the data in the rows of a table.\n",
        "\n",
        "----------"
      ],
      "metadata": {
        "id": "k43s-Fbe80kC"
      }
    },
    {
      "cell_type": "markdown",
      "source": [
        "DDL and DML Statements\n",
        "-------\n",
        "\n",
        "What is the difference between the 'DROP' and 'TRUNCATE' commands?\n",
        "\n",
        "--------\n",
        "\n",
        "‘TRUNCATE’ removes a table completely from the database, and you cannot retrieve this table.\n",
        "\n",
        "All the integrity constraints are removed.\n",
        "\n",
        "On the other hand, ‘DROP’ only drops the table rows; it does not delete the schema of the table from the database.\n",
        "\n",
        "-----\n",
        "\n",
        "`‘DROP’` removes a table completely from the database, and you cannot retrieve this table.\n",
        "\n",
        "All the integrity constraints are removed.\n",
        "\n",
        "On the other hand, ‘TRUNCATE’ only drops the table rows; it does not delete the schema of the table from the database.\n",
        "\n",
        "    ✓ Correct\n",
        "    Feedback:\n",
        "\n",
        "    This statement is correct.\n",
        "\n",
        "-----\n",
        "\n",
        "The table remains in the database when you use the ‘DROP’ command, but all of its rows will disappear.\n",
        "\n",
        "---------\n",
        "\n",
        "A table is deleted completely from the database when you use the ‘TRUNCATE’ command.\n",
        "\n",
        "If you want to get this table, then you will need to create it again from scratch using the 'create table' command.\n",
        "\n",
        "----------"
      ],
      "metadata": {
        "id": "Oy4MbVNF9n_a"
      }
    },
    {
      "cell_type": "markdown",
      "source": [
        "DDL and DML Statements\n",
        "----------\n",
        "\n",
        "Suppose you want to create a table named '`mobile_phone`', which contains the following columns:\n",
        "\n",
        "- Mobile_phone_ID, which is of integer type\n",
        "- Camera, which is of string type\n",
        "- RAM, which is of integer type\n",
        "- Memory, which is of string type\n",
        "\n",
        "The **primary key** of this table is '*Mobile_phone_ID*'.\n",
        "\n",
        "What would be the correct SQL query to create such a table?\n",
        "\n",
        "Also, identify the type of operation, i.e., whether it is a DDL statement or a DML statement.\n",
        "\n",
        "--------\n",
        "\n",
        "It is a DML statement.\n",
        "\n",
        "    create table mobile_phone (\n",
        "\n",
        "        Mobile_phone_ID int(11) NOT NULL,\n",
        "\n",
        "        Camera varchar(12),\n",
        "\n",
        "        RAM int(11),\n",
        "\n",
        "        Memory varchar(12)\n",
        "\n",
        "        );\n",
        "\n",
        "------------\n",
        "\n",
        "It is a DDL statement.\n",
        "\n",
        "    create table mobile_phone (\n",
        "\n",
        "        Mobile_phone_ID int(11) NOT NULL,\n",
        "\n",
        "        Camera varchar(12),\n",
        "\n",
        "        RAM int(11),\n",
        "\n",
        "        Memory varchar(12)\n",
        "\n",
        "        );\n",
        "\n",
        "----------\n",
        "\n",
        "It is a DML statement.\n",
        "\n",
        "    create table mobile_phone (\n",
        "\n",
        "        Mobile_phone_ID int(11) NOT NULL,\n",
        "\n",
        "        Camera varchar(12),\n",
        "\n",
        "        RAM int(11),\n",
        "\n",
        "        Memory varchar(12),\n",
        "\n",
        "        Primary Key (Mobile_phone_ID)\n",
        "\n",
        "        );\n",
        "\n",
        "-------------\n",
        "\n",
        "`✓ Correct` It is a DDL statement.\n",
        "\n",
        "    create table mobile_phone (\n",
        "\n",
        "        Mobile_phone_ID int(11) NOT NULL,\n",
        "\n",
        "        Camera varchar(12),\n",
        "\n",
        "        RAM int(11),\n",
        "\n",
        "        Memory varchar(12),\n",
        "\n",
        "        Primary Key (Mobile_phone_ID)\n",
        "\n",
        "        );\n",
        "\n",
        "`Feedback`:\n",
        "\n",
        "This is the correct method to create a table with the primary key.\n",
        "\n",
        "-----------"
      ],
      "metadata": {
        "id": "QGn57OJQ-JM6"
      }
    },
    {
      "cell_type": "code",
      "source": [
        "%%sql\n",
        "\n",
        "create table mobile_phone (\n",
        "\n",
        "     Mobile_phone_ID int(11) NOT NULL,\n",
        "\n",
        "     Camera varchar(12),\n",
        "\n",
        "     RAM int(11),\n",
        "\n",
        "     Memory varchar(12),\n",
        "\n",
        "     Primary Key (Mobile_phone_ID)\n",
        "\n",
        "     );"
      ],
      "metadata": {
        "colab": {
          "base_uri": "https://localhost:8080/"
        },
        "id": "b7cNI8ru-7Xa",
        "outputId": "8b5d07dd-928a-4cea-9911-90dfb587c9b7"
      },
      "execution_count": null,
      "outputs": [
        {
          "output_type": "stream",
          "name": "stdout",
          "text": [
            " * sqlite:///vicks.db\n",
            "Done.\n"
          ]
        },
        {
          "output_type": "execute_result",
          "data": {
            "text/plain": [
              "[]"
            ]
          },
          "metadata": {},
          "execution_count": 10
        }
      ]
    },
    {
      "cell_type": "code",
      "source": [
        "%%sql select * from mobile_phone"
      ],
      "metadata": {
        "colab": {
          "base_uri": "https://localhost:8080/",
          "height": 74
        },
        "id": "RGTWUDMn1oOQ",
        "outputId": "2cd353aa-8936-47b3-fe88-42511e5fc9a4"
      },
      "execution_count": null,
      "outputs": [
        {
          "output_type": "stream",
          "name": "stdout",
          "text": [
            " * sqlite:///vicks.db\n",
            "Done.\n"
          ]
        },
        {
          "output_type": "execute_result",
          "data": {
            "text/plain": [
              "[]"
            ],
            "text/html": [
              "<table>\n",
              "    <tr>\n",
              "        <th>Mobile_phone_ID</th>\n",
              "        <th>Camera</th>\n",
              "        <th>RAM</th>\n",
              "        <th>Memory</th>\n",
              "    </tr>\n",
              "</table>"
            ]
          },
          "metadata": {},
          "execution_count": 11
        }
      ]
    },
    {
      "cell_type": "markdown",
      "source": [
        "DDL and DML Statements\n",
        "------\n",
        "\n",
        "Suppose you want to add a new column, 'price', with ‘float’ as the data type, in the table '`mobile_phone`'.\n",
        "\n",
        "What is the correct query to add this new column?\n",
        "\n",
        "------------\n",
        "\n",
        "    ALTER 'mobile_phone' ADD COLUMN 'price' float(24)\n",
        "\n",
        "--------------\n",
        "\n",
        "    ADD COLUMN 'price' float(24) IN TABLE 'mobile_phone'\n",
        "\n",
        "--------\n",
        "\n",
        "    ALTER TABLE 'mobile_phone' ADD COLUMN 'price' float(24)\n",
        "\n",
        "    ✓ Correct\n",
        "    Feedback:\n",
        "\n",
        "This command is correct.\n",
        "\n",
        "Run the query in the MySQL Workbench.\n",
        "\n",
        "-------------\n",
        "\n",
        "    ADD COLUMN 'price' float(24) IN 'mobile_phone'\n",
        "\n",
        "--------"
      ],
      "metadata": {
        "id": "xVjLCrzc_InK"
      }
    },
    {
      "cell_type": "code",
      "source": [
        "%%sql ALTER TABLE 'mobile_phone' ADD COLUMN 'price' float(24)"
      ],
      "metadata": {
        "colab": {
          "base_uri": "https://localhost:8080/"
        },
        "id": "EwQCVCsV_BTh",
        "outputId": "820804b0-f2f4-4cd4-d9f9-2de46273651b"
      },
      "execution_count": null,
      "outputs": [
        {
          "output_type": "stream",
          "name": "stdout",
          "text": [
            " * sqlite:///vicks.db\n",
            "Done.\n"
          ]
        },
        {
          "output_type": "execute_result",
          "data": {
            "text/plain": [
              "[]"
            ]
          },
          "metadata": {},
          "execution_count": 12
        }
      ]
    },
    {
      "cell_type": "code",
      "source": [
        "%%sql select * from mobile_phone"
      ],
      "metadata": {
        "colab": {
          "base_uri": "https://localhost:8080/",
          "height": 74
        },
        "id": "-3tk1_o5_awk",
        "outputId": "e8c2cac7-57ce-4596-e2fc-8caeb1fef887"
      },
      "execution_count": null,
      "outputs": [
        {
          "output_type": "stream",
          "name": "stdout",
          "text": [
            " * sqlite:///vicks.db\n",
            "Done.\n"
          ]
        },
        {
          "output_type": "execute_result",
          "data": {
            "text/plain": [
              "[]"
            ],
            "text/html": [
              "<table>\n",
              "    <tr>\n",
              "        <th>Mobile_phone_ID</th>\n",
              "        <th>Camera</th>\n",
              "        <th>RAM</th>\n",
              "        <th>Memory</th>\n",
              "        <th>price</th>\n",
              "    </tr>\n",
              "</table>"
            ]
          },
          "metadata": {},
          "execution_count": 13
        }
      ]
    },
    {
      "cell_type": "markdown",
      "source": [
        "DDL and DML Statements\n",
        "---------\n",
        "\n",
        "Suppose you want to update the value of ‘Camera’ to 15MP, where RAM = 8.\n",
        "\n",
        "What would be the correct query to perform such an operation?\n",
        "\n",
        "----------\n",
        "\n",
        "    update mobile_phone\n",
        "    set Camera= '15MP'\n",
        "    where RAM= 8;\n",
        "\n",
        "    ✓ Correct\n",
        "    Feedback:\n",
        "\n",
        "This is the correct query to perform such an operation.\n",
        "\n",
        "--------\n",
        "\n",
        "    alter mobile_phone\n",
        "    set Camera= '15MP'\n",
        "    where RAM= 8;\n",
        "\n",
        "----------\n",
        "\n",
        "    insert Camera= '15MP'\n",
        "    where RAM= 8;\n",
        "    in table mobile_phone\n",
        "\n",
        "----------\n",
        "\n",
        "    update mobile_phone\n",
        "    set Camera= '15MP'\n",
        "    where RAM= '8';\n",
        "\n",
        "-------"
      ],
      "metadata": {
        "id": "WKWmjfS9_rHC"
      }
    },
    {
      "cell_type": "code",
      "source": [
        "%%sql\n",
        "\n",
        "update mobile_phone\n",
        "set Camera= '15MP'\n",
        "where RAM= 8;"
      ],
      "metadata": {
        "colab": {
          "base_uri": "https://localhost:8080/"
        },
        "id": "p3DizpGQ_dyH",
        "outputId": "16dd4a6d-7f40-4635-bc0e-46f04f7dfb51"
      },
      "execution_count": null,
      "outputs": [
        {
          "output_type": "stream",
          "name": "stdout",
          "text": [
            " * sqlite:///vicks.db\n",
            "0 rows affected.\n"
          ]
        },
        {
          "output_type": "execute_result",
          "data": {
            "text/plain": [
              "[]"
            ]
          },
          "metadata": {},
          "execution_count": 14
        }
      ]
    },
    {
      "cell_type": "markdown",
      "source": [
        "#Summary\n",
        "\n",
        "**DDL** (*Data Definition Language*) and **DML** (*Data Manipulation Language*) statements in MySQL\n",
        "\n",
        "    The DDL statements are:\n",
        "\n",
        "- CREATE\n",
        "- ALTER\n",
        "- DROP\n",
        "\n",
        "\n",
        "    The DML statements are:\n",
        "\n",
        "- INSERT\n",
        "- UPDATE\n",
        "- DELETE\n",
        "- SELECT\n",
        "\n",
        "<br>\n",
        "\n",
        "While `Data Definition Language` statements are used to `alter the structure` of a database,\n",
        "\n",
        "`Data Manipulation Language` statements are used to `change the data itself` that is present inside the database."
      ],
      "metadata": {
        "id": "Eb3AlbhTALuZ"
      }
    },
    {
      "cell_type": "code",
      "source": [],
      "metadata": {
        "id": "Seqyflp8Znof"
      },
      "execution_count": null,
      "outputs": []
    }
  ]
}