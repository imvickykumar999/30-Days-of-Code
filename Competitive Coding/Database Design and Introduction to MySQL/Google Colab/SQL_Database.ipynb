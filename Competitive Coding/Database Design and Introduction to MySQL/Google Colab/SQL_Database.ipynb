{
  "nbformat": 4,
  "nbformat_minor": 0,
  "metadata": {
    "colab": {
      "provenance": []
    },
    "kernelspec": {
      "name": "python3",
      "display_name": "Python 3"
    },
    "language_info": {
      "name": "python"
    }
  },
  "cells": [
    {
      "cell_type": "markdown",
      "source": [
        "# [SQL Database](https://www.w3schools.com/sql/sql_create_db.asp)"
      ],
      "metadata": {
        "id": "lZ2RTJX_MQ7v"
      }
    },
    {
      "cell_type": "code",
      "execution_count": 1,
      "metadata": {
        "colab": {
          "base_uri": "https://localhost:8080/"
        },
        "id": "CdsDRFTvMKXz",
        "outputId": "447c542a-b740-4a98-8620-70ab62f6a2f1"
      },
      "outputs": [
        {
          "output_type": "stream",
          "name": "stdout",
          "text": [
            "Looking in indexes: https://pypi.org/simple, https://us-python.pkg.dev/colab-wheels/public/simple/\n",
            "Collecting SQLAlchemy<1.4\n",
            "  Downloading SQLAlchemy-1.3.24.tar.gz (6.4 MB)\n",
            "\u001b[2K     \u001b[90m━━━━━━━━━━━━━━━━━━━━━━━━━━━━━━━━━━━━━━━━\u001b[0m \u001b[32m6.4/6.4 MB\u001b[0m \u001b[31m49.6 MB/s\u001b[0m eta \u001b[36m0:00:00\u001b[0m\n",
            "\u001b[?25h  Preparing metadata (setup.py) ... \u001b[?25l\u001b[?25hdone\n",
            "Building wheels for collected packages: SQLAlchemy\n",
            "  Building wheel for SQLAlchemy (setup.py) ... \u001b[?25l\u001b[?25hdone\n",
            "  Created wheel for SQLAlchemy: filename=SQLAlchemy-1.3.24-cp310-cp310-linux_x86_64.whl size=1268261 sha256=1d4fb7e39a410c14f734837eaffa2ec0174fb7f55e368b5e6ad790d869bdce04\n",
            "  Stored in directory: /root/.cache/pip/wheels/27/51/b3/3481e88d5a5ba95dd4aafedc9316774d941c4ba61cfb93add8\n",
            "Successfully built SQLAlchemy\n",
            "Installing collected packages: SQLAlchemy\n",
            "  Attempting uninstall: SQLAlchemy\n",
            "    Found existing installation: SQLAlchemy 2.0.10\n",
            "    Uninstalling SQLAlchemy-2.0.10:\n",
            "      Successfully uninstalled SQLAlchemy-2.0.10\n",
            "Successfully installed SQLAlchemy-1.3.24\n"
          ]
        }
      ],
      "source": [
        "!pip install \"SQLAlchemy<1.4\""
      ]
    },
    {
      "cell_type": "code",
      "source": [
        "%load_ext sql"
      ],
      "metadata": {
        "id": "6rStdIysMvp-"
      },
      "execution_count": 2,
      "outputs": []
    },
    {
      "cell_type": "markdown",
      "source": [
        "    CREATE DATABASE testDB;\n",
        "\n",
        "    DROP DATABASE testDB;\n",
        "\n",
        "    BACKUP DATABASE databasename\n",
        "    TO DISK = 'filepath'\n",
        "    WITH DIFFERENTIAL;"
      ],
      "metadata": {
        "id": "1BZnRwGINnsI"
      }
    },
    {
      "cell_type": "code",
      "source": [
        "%%sql\n",
        "\n",
        "sqlite:///testDB.db"
      ],
      "metadata": {
        "id": "hvckDIVUMybV"
      },
      "execution_count": 3,
      "outputs": []
    },
    {
      "cell_type": "code",
      "source": [
        "%%sql\n",
        "\n",
        "CREATE TABLE Persons (\n",
        "    PersonID int,\n",
        "    LastName varchar(255),\n",
        "    FirstName varchar(255),\n",
        "    Address varchar(255),\n",
        "    City varchar(255)\n",
        ");"
      ],
      "metadata": {
        "colab": {
          "base_uri": "https://localhost:8080/"
        },
        "id": "F1feCEFsOI2j",
        "outputId": "fe0e82b0-9236-4bd1-987c-3d43d504c669"
      },
      "execution_count": 7,
      "outputs": [
        {
          "output_type": "stream",
          "name": "stdout",
          "text": [
            " * sqlite:///testDB.db\n",
            "Done.\n"
          ]
        },
        {
          "output_type": "execute_result",
          "data": {
            "text/plain": [
              "[]"
            ]
          },
          "metadata": {},
          "execution_count": 7
        }
      ]
    },
    {
      "cell_type": "code",
      "source": [
        "%%sql\n",
        "\n",
        "CREATE TABLE TestTable AS\n",
        "SELECT PersonID, FirstName\n",
        "FROM Persons;"
      ],
      "metadata": {
        "colab": {
          "base_uri": "https://localhost:8080/"
        },
        "id": "yXKFEsdSOQ-g",
        "outputId": "91908c18-f944-4da6-fee8-90c75fc5d1ff"
      },
      "execution_count": 11,
      "outputs": [
        {
          "output_type": "stream",
          "name": "stdout",
          "text": [
            " * sqlite:///testDB.db\n",
            "Done.\n"
          ]
        },
        {
          "output_type": "execute_result",
          "data": {
            "text/plain": [
              "[]"
            ]
          },
          "metadata": {},
          "execution_count": 11
        }
      ]
    },
    {
      "cell_type": "code",
      "source": [
        "%%sql\n",
        "\n",
        "DROP TABLE TestTable;"
      ],
      "metadata": {
        "colab": {
          "base_uri": "https://localhost:8080/"
        },
        "id": "0ZwbzkXUOybV",
        "outputId": "8d1edfce-9ac9-4faa-e815-a5bc70f05f83"
      },
      "execution_count": 9,
      "outputs": [
        {
          "output_type": "stream",
          "name": "stdout",
          "text": [
            " * sqlite:///testDB.db\n",
            "Done.\n"
          ]
        },
        {
          "output_type": "execute_result",
          "data": {
            "text/plain": [
              "[]"
            ]
          },
          "metadata": {},
          "execution_count": 9
        }
      ]
    },
    {
      "cell_type": "markdown",
      "source": [
        "    TRUNCATE TABLE TestTable;\n",
        "\n",
        "    ALTER TABLE Persons\n",
        "    DROP COLUMN Email;"
      ],
      "metadata": {
        "id": "yXk_ZxZBPvv4"
      }
    },
    {
      "cell_type": "code",
      "source": [
        "%%sql select * from Persons;"
      ],
      "metadata": {
        "colab": {
          "base_uri": "https://localhost:8080/",
          "height": 74
        },
        "id": "MPB1ZA3NQEyl",
        "outputId": "abd603a5-2357-4bf8-e21d-d392db96722b"
      },
      "execution_count": 13,
      "outputs": [
        {
          "output_type": "stream",
          "name": "stdout",
          "text": [
            " * sqlite:///testDB.db\n",
            "Done.\n"
          ]
        },
        {
          "output_type": "execute_result",
          "data": {
            "text/plain": [
              "[]"
            ],
            "text/html": [
              "<table>\n",
              "    <tr>\n",
              "        <th>PersonID</th>\n",
              "        <th>LastName</th>\n",
              "        <th>FirstName</th>\n",
              "        <th>Address</th>\n",
              "        <th>City</th>\n",
              "    </tr>\n",
              "</table>"
            ]
          },
          "metadata": {},
          "execution_count": 13
        }
      ]
    },
    {
      "cell_type": "code",
      "source": [
        "%%sql\n",
        "\n",
        "ALTER TABLE Persons\n",
        "ADD Email varchar(255);"
      ],
      "metadata": {
        "colab": {
          "base_uri": "https://localhost:8080/"
        },
        "id": "I5hNEzDDPklr",
        "outputId": "a4f6152e-7390-4247-add7-56e6300914a5"
      },
      "execution_count": 14,
      "outputs": [
        {
          "output_type": "stream",
          "name": "stdout",
          "text": [
            " * sqlite:///testDB.db\n",
            "Done.\n"
          ]
        },
        {
          "output_type": "execute_result",
          "data": {
            "text/plain": [
              "[]"
            ]
          },
          "metadata": {},
          "execution_count": 14
        }
      ]
    },
    {
      "cell_type": "code",
      "source": [
        "%%sql select * from Persons;"
      ],
      "metadata": {
        "colab": {
          "base_uri": "https://localhost:8080/",
          "height": 74
        },
        "id": "ebWrQ5XYQHxX",
        "outputId": "4e6868f2-b2a6-40cc-9fb6-b5b0b67378bd"
      },
      "execution_count": 15,
      "outputs": [
        {
          "output_type": "stream",
          "name": "stdout",
          "text": [
            " * sqlite:///testDB.db\n",
            "Done.\n"
          ]
        },
        {
          "output_type": "execute_result",
          "data": {
            "text/plain": [
              "[]"
            ],
            "text/html": [
              "<table>\n",
              "    <tr>\n",
              "        <th>PersonID</th>\n",
              "        <th>LastName</th>\n",
              "        <th>FirstName</th>\n",
              "        <th>Address</th>\n",
              "        <th>City</th>\n",
              "        <th>Email</th>\n",
              "    </tr>\n",
              "</table>"
            ]
          },
          "metadata": {},
          "execution_count": 15
        }
      ]
    },
    {
      "cell_type": "code",
      "source": [
        "%%sql\n",
        "\n",
        "ALTER TABLE Persons\n",
        "ADD DateOfBirth date;"
      ],
      "metadata": {
        "colab": {
          "base_uri": "https://localhost:8080/"
        },
        "id": "Cwo7A3R1QXMv",
        "outputId": "ac749428-cd1c-4224-e432-8edad4a32b4e"
      },
      "execution_count": 19,
      "outputs": [
        {
          "output_type": "stream",
          "name": "stdout",
          "text": [
            " * sqlite:///testDB.db\n",
            "Done.\n"
          ]
        },
        {
          "output_type": "execute_result",
          "data": {
            "text/plain": [
              "[]"
            ]
          },
          "metadata": {},
          "execution_count": 19
        }
      ]
    },
    {
      "cell_type": "code",
      "source": [
        "%%sql select * from Persons;"
      ],
      "metadata": {
        "colab": {
          "base_uri": "https://localhost:8080/",
          "height": 74
        },
        "id": "NijjzlOjREDk",
        "outputId": "8a92e6d9-1c20-4c74-d686-5846b80622fb"
      },
      "execution_count": 20,
      "outputs": [
        {
          "output_type": "stream",
          "name": "stdout",
          "text": [
            " * sqlite:///testDB.db\n",
            "Done.\n"
          ]
        },
        {
          "output_type": "execute_result",
          "data": {
            "text/plain": [
              "[]"
            ],
            "text/html": [
              "<table>\n",
              "    <tr>\n",
              "        <th>PersonID</th>\n",
              "        <th>LastName</th>\n",
              "        <th>FirstName</th>\n",
              "        <th>Address</th>\n",
              "        <th>City</th>\n",
              "        <th>Email</th>\n",
              "        <th>DateOfBirth</th>\n",
              "    </tr>\n",
              "</table>"
            ]
          },
          "metadata": {},
          "execution_count": 20
        }
      ]
    },
    {
      "cell_type": "markdown",
      "source": [
        "    ALTER TABLE Customers\n",
        "    ALTER COLUMN Age int NOT NULL;"
      ],
      "metadata": {
        "id": "TbGFDMeNSuAp"
      }
    },
    {
      "cell_type": "code",
      "source": [
        "%%sql\n",
        "\n",
        "CREATE TABLE Humans (\n",
        "    ID int NOT NULL,\n",
        "    LastName varchar(255) NOT NULL,\n",
        "    FirstName varchar(255),\n",
        "    Age int,\n",
        "    CONSTRAINT UC_Person UNIQUE (ID,LastName)\n",
        ");"
      ],
      "metadata": {
        "colab": {
          "base_uri": "https://localhost:8080/"
        },
        "id": "f2GqptuTSodT",
        "outputId": "370c5e40-2891-4fc2-ae89-4762baccb6a6"
      },
      "execution_count": 27,
      "outputs": [
        {
          "output_type": "stream",
          "name": "stdout",
          "text": [
            " * sqlite:///testDB.db\n",
            "Done.\n"
          ]
        },
        {
          "output_type": "execute_result",
          "data": {
            "text/plain": [
              "[]"
            ]
          },
          "metadata": {},
          "execution_count": 27
        }
      ]
    },
    {
      "cell_type": "code",
      "source": [
        "%%sql\n",
        "\n",
        "CREATE TABLE Creatures (\n",
        "    ID int NOT NULL,\n",
        "    LastName varchar(255) NOT NULL,\n",
        "    FirstName varchar(255),\n",
        "    Age int,\n",
        "    PRIMARY KEY (ID)\n",
        ");"
      ],
      "metadata": {
        "colab": {
          "base_uri": "https://localhost:8080/"
        },
        "id": "3r2VQBvaS-ll",
        "outputId": "645df720-938c-4e39-ea8b-b75f1f2c3fe6"
      },
      "execution_count": 28,
      "outputs": [
        {
          "output_type": "stream",
          "name": "stdout",
          "text": [
            " * sqlite:///testDB.db\n",
            "Done.\n"
          ]
        },
        {
          "output_type": "execute_result",
          "data": {
            "text/plain": [
              "[]"
            ]
          },
          "metadata": {},
          "execution_count": 28
        }
      ]
    },
    {
      "cell_type": "code",
      "source": [
        "%%sql\n",
        "\n",
        "CREATE TABLE Orders (\n",
        "    OrderID int NOT NULL,\n",
        "    OrderNumber int NOT NULL,\n",
        "    PersonID int,\n",
        "    PRIMARY KEY (OrderID),\n",
        "    FOREIGN KEY (PersonID) REFERENCES Persons(PersonID)\n",
        ");"
      ],
      "metadata": {
        "colab": {
          "base_uri": "https://localhost:8080/"
        },
        "id": "L_zdPegrTLXX",
        "outputId": "4d81df69-ce4a-42d3-ecc7-0403b8bdc02f"
      },
      "execution_count": 29,
      "outputs": [
        {
          "output_type": "stream",
          "name": "stdout",
          "text": [
            " * sqlite:///testDB.db\n",
            "Done.\n"
          ]
        },
        {
          "output_type": "execute_result",
          "data": {
            "text/plain": [
              "[]"
            ]
          },
          "metadata": {},
          "execution_count": 29
        }
      ]
    },
    {
      "cell_type": "code",
      "source": [
        "%%sql\n",
        "\n",
        "CREATE TABLE Customers (\n",
        "    ID int NOT NULL,\n",
        "    LastName varchar(255) NOT NULL,\n",
        "    FirstName varchar(255) NOT NULL,\n",
        "    Age int\n",
        ");"
      ],
      "metadata": {
        "colab": {
          "base_uri": "https://localhost:8080/"
        },
        "id": "yweFLoO1R3Zc",
        "outputId": "f775b96e-4bb0-485d-a3b9-b0a463d462c4"
      },
      "execution_count": 24,
      "outputs": [
        {
          "output_type": "stream",
          "name": "stdout",
          "text": [
            " * sqlite:///testDB.db\n",
            "Done.\n"
          ]
        },
        {
          "output_type": "execute_result",
          "data": {
            "text/plain": [
              "[]"
            ]
          },
          "metadata": {},
          "execution_count": 24
        }
      ]
    },
    {
      "cell_type": "code",
      "source": [
        "%%sql\n",
        "\n",
        "INSERT INTO Customers\n",
        "(ID, LastName, FirstName, Age)\n",
        "\n",
        "VALUES (1, 'Skagen', 'Stavanger', 27);"
      ],
      "metadata": {
        "colab": {
          "base_uri": "https://localhost:8080/"
        },
        "id": "bokBSxZbTluI",
        "outputId": "4b5d92ca-47e6-45d2-d6b9-12e6cedf116b"
      },
      "execution_count": 32,
      "outputs": [
        {
          "output_type": "stream",
          "name": "stdout",
          "text": [
            " * sqlite:///testDB.db\n",
            "1 rows affected.\n"
          ]
        },
        {
          "output_type": "execute_result",
          "data": {
            "text/plain": [
              "[]"
            ]
          },
          "metadata": {},
          "execution_count": 32
        }
      ]
    },
    {
      "cell_type": "code",
      "source": [
        "%%sql select * from Customers;"
      ],
      "metadata": {
        "colab": {
          "base_uri": "https://localhost:8080/",
          "height": 95
        },
        "id": "OVtcon73TuxW",
        "outputId": "fa6e7249-0c95-4aba-d3de-6c9db21f3315"
      },
      "execution_count": 33,
      "outputs": [
        {
          "output_type": "stream",
          "name": "stdout",
          "text": [
            " * sqlite:///testDB.db\n",
            "Done.\n"
          ]
        },
        {
          "output_type": "execute_result",
          "data": {
            "text/plain": [
              "[(1, 'Skagen', 'Stavanger', 27)]"
            ],
            "text/html": [
              "<table>\n",
              "    <tr>\n",
              "        <th>ID</th>\n",
              "        <th>LastName</th>\n",
              "        <th>FirstName</th>\n",
              "        <th>Age</th>\n",
              "    </tr>\n",
              "    <tr>\n",
              "        <td>1</td>\n",
              "        <td>Skagen</td>\n",
              "        <td>Stavanger</td>\n",
              "        <td>27</td>\n",
              "    </tr>\n",
              "</table>"
            ]
          },
          "metadata": {},
          "execution_count": 33
        }
      ]
    },
    {
      "cell_type": "code",
      "source": [
        "%%sql\n",
        "\n",
        "INSERT INTO Customers\n",
        "(ID, LastName, FirstName, Age)\n",
        "\n",
        "VALUES\n",
        "(2, 'Kumar', 'Vicky', 24),\n",
        "(3, 'Jangid', 'Sagar', NULL);"
      ],
      "metadata": {
        "colab": {
          "base_uri": "https://localhost:8080/"
        },
        "id": "fWuaU0tZVfoY",
        "outputId": "e7ea56dd-b09d-4395-93e4-fd6f1d10301f"
      },
      "execution_count": 36,
      "outputs": [
        {
          "output_type": "stream",
          "name": "stdout",
          "text": [
            " * sqlite:///testDB.db\n",
            "2 rows affected.\n"
          ]
        },
        {
          "output_type": "execute_result",
          "data": {
            "text/plain": [
              "[]"
            ]
          },
          "metadata": {},
          "execution_count": 36
        }
      ]
    },
    {
      "cell_type": "code",
      "source": [
        "%%sql\n",
        "\n",
        "SELECT ID, LastName, FirstName\n",
        "FROM Customers\n",
        "WHERE Age IS NULL;"
      ],
      "metadata": {
        "colab": {
          "base_uri": "https://localhost:8080/",
          "height": 95
        },
        "id": "Tc0RdCKqUQiA",
        "outputId": "3ec0c7ae-814e-4cc2-e84a-a3f8c1330bd5"
      },
      "execution_count": 37,
      "outputs": [
        {
          "output_type": "stream",
          "name": "stdout",
          "text": [
            " * sqlite:///testDB.db\n",
            "Done.\n"
          ]
        },
        {
          "output_type": "execute_result",
          "data": {
            "text/plain": [
              "[(3, 'Jangid', 'Sagar')]"
            ],
            "text/html": [
              "<table>\n",
              "    <tr>\n",
              "        <th>ID</th>\n",
              "        <th>LastName</th>\n",
              "        <th>FirstName</th>\n",
              "    </tr>\n",
              "    <tr>\n",
              "        <td>3</td>\n",
              "        <td>Jangid</td>\n",
              "        <td>Sagar</td>\n",
              "    </tr>\n",
              "</table>"
            ]
          },
          "metadata": {},
          "execution_count": 37
        }
      ]
    },
    {
      "cell_type": "code",
      "source": [
        "%%sql\n",
        "\n",
        "UPDATE Customers\n",
        "SET LastName = 'Singh', Age = 25\n",
        "WHERE ID = 2;"
      ],
      "metadata": {
        "colab": {
          "base_uri": "https://localhost:8080/"
        },
        "id": "603Hk3aBVNSr",
        "outputId": "a8deedad-63bb-4209-fcc6-144e819aefa1"
      },
      "execution_count": 38,
      "outputs": [
        {
          "output_type": "stream",
          "name": "stdout",
          "text": [
            " * sqlite:///testDB.db\n",
            "1 rows affected.\n"
          ]
        },
        {
          "output_type": "execute_result",
          "data": {
            "text/plain": [
              "[]"
            ]
          },
          "metadata": {},
          "execution_count": 38
        }
      ]
    },
    {
      "cell_type": "code",
      "source": [
        "%%sql select * from Customers;"
      ],
      "metadata": {
        "colab": {
          "base_uri": "https://localhost:8080/",
          "height": 137
        },
        "id": "xPuBhDMVWh9_",
        "outputId": "259a246d-5da0-4a7f-f99f-ff098d83a658"
      },
      "execution_count": 39,
      "outputs": [
        {
          "output_type": "stream",
          "name": "stdout",
          "text": [
            " * sqlite:///testDB.db\n",
            "Done.\n"
          ]
        },
        {
          "output_type": "execute_result",
          "data": {
            "text/plain": [
              "[(1, 'Skagen', 'Stavanger', 27),\n",
              " (2, 'Singh', 'Vicky', 25),\n",
              " (3, 'Jangid', 'Sagar', None)]"
            ],
            "text/html": [
              "<table>\n",
              "    <tr>\n",
              "        <th>ID</th>\n",
              "        <th>LastName</th>\n",
              "        <th>FirstName</th>\n",
              "        <th>Age</th>\n",
              "    </tr>\n",
              "    <tr>\n",
              "        <td>1</td>\n",
              "        <td>Skagen</td>\n",
              "        <td>Stavanger</td>\n",
              "        <td>27</td>\n",
              "    </tr>\n",
              "    <tr>\n",
              "        <td>2</td>\n",
              "        <td>Singh</td>\n",
              "        <td>Vicky</td>\n",
              "        <td>25</td>\n",
              "    </tr>\n",
              "    <tr>\n",
              "        <td>3</td>\n",
              "        <td>Jangid</td>\n",
              "        <td>Sagar</td>\n",
              "        <td>None</td>\n",
              "    </tr>\n",
              "</table>"
            ]
          },
          "metadata": {},
          "execution_count": 39
        }
      ]
    },
    {
      "cell_type": "code",
      "source": [
        "%%sql\n",
        "\n",
        "DELETE FROM Customers WHERE FirstName = 'Stavanger';"
      ],
      "metadata": {
        "colab": {
          "base_uri": "https://localhost:8080/"
        },
        "id": "_OY2YnC2Wkgv",
        "outputId": "e72005d7-a563-45d7-bfe1-c99fa0a53ac5"
      },
      "execution_count": 40,
      "outputs": [
        {
          "output_type": "stream",
          "name": "stdout",
          "text": [
            " * sqlite:///testDB.db\n",
            "1 rows affected.\n"
          ]
        },
        {
          "output_type": "execute_result",
          "data": {
            "text/plain": [
              "[]"
            ]
          },
          "metadata": {},
          "execution_count": 40
        }
      ]
    },
    {
      "cell_type": "code",
      "source": [
        "%%sql select * from Customers;"
      ],
      "metadata": {
        "colab": {
          "base_uri": "https://localhost:8080/",
          "height": 116
        },
        "id": "LU5bO5NkXAH0",
        "outputId": "7ffb140a-3480-4b62-a36c-ea89c31ed005"
      },
      "execution_count": 41,
      "outputs": [
        {
          "output_type": "stream",
          "name": "stdout",
          "text": [
            " * sqlite:///testDB.db\n",
            "Done.\n"
          ]
        },
        {
          "output_type": "execute_result",
          "data": {
            "text/plain": [
              "[(2, 'Singh', 'Vicky', 25), (3, 'Jangid', 'Sagar', None)]"
            ],
            "text/html": [
              "<table>\n",
              "    <tr>\n",
              "        <th>ID</th>\n",
              "        <th>LastName</th>\n",
              "        <th>FirstName</th>\n",
              "        <th>Age</th>\n",
              "    </tr>\n",
              "    <tr>\n",
              "        <td>2</td>\n",
              "        <td>Singh</td>\n",
              "        <td>Vicky</td>\n",
              "        <td>25</td>\n",
              "    </tr>\n",
              "    <tr>\n",
              "        <td>3</td>\n",
              "        <td>Jangid</td>\n",
              "        <td>Sagar</td>\n",
              "        <td>None</td>\n",
              "    </tr>\n",
              "</table>"
            ]
          },
          "metadata": {},
          "execution_count": 41
        }
      ]
    },
    {
      "cell_type": "code",
      "source": [
        "%%sql\n",
        "\n",
        "SELECT * FROM Customers\n",
        "LIMIT 2;"
      ],
      "metadata": {
        "colab": {
          "base_uri": "https://localhost:8080/",
          "height": 116
        },
        "id": "RFaNQ6zLXC9D",
        "outputId": "041ef3ab-22cd-4a1b-d0ec-f098066c1ef5"
      },
      "execution_count": 46,
      "outputs": [
        {
          "output_type": "stream",
          "name": "stdout",
          "text": [
            " * sqlite:///testDB.db\n",
            "Done.\n"
          ]
        },
        {
          "output_type": "execute_result",
          "data": {
            "text/plain": [
              "[(2, 'Singh', 'Vicky', 25), (3, 'Jangid', 'Sagar', None)]"
            ],
            "text/html": [
              "<table>\n",
              "    <tr>\n",
              "        <th>ID</th>\n",
              "        <th>LastName</th>\n",
              "        <th>FirstName</th>\n",
              "        <th>Age</th>\n",
              "    </tr>\n",
              "    <tr>\n",
              "        <td>2</td>\n",
              "        <td>Singh</td>\n",
              "        <td>Vicky</td>\n",
              "        <td>25</td>\n",
              "    </tr>\n",
              "    <tr>\n",
              "        <td>3</td>\n",
              "        <td>Jangid</td>\n",
              "        <td>Sagar</td>\n",
              "        <td>None</td>\n",
              "    </tr>\n",
              "</table>"
            ]
          },
          "metadata": {},
          "execution_count": 46
        }
      ]
    },
    {
      "cell_type": "code",
      "source": [
        "%%sql\n",
        "\n",
        "CREATE TABLE Janta (\n",
        "    ID int NOT NULL,\n",
        "    LastName varchar(255) NOT NULL,\n",
        "    FirstName varchar(255),\n",
        "    Age int,\n",
        "    CHECK (Age>=18)\n",
        ");"
      ],
      "metadata": {
        "colab": {
          "base_uri": "https://localhost:8080/"
        },
        "id": "AnRz_eUlXrn6",
        "outputId": "4213debb-c1ea-48e5-c21b-b54bac924493"
      },
      "execution_count": 50,
      "outputs": [
        {
          "output_type": "stream",
          "name": "stdout",
          "text": [
            " * sqlite:///testDB.db\n",
            "Done.\n"
          ]
        },
        {
          "output_type": "execute_result",
          "data": {
            "text/plain": [
              "[]"
            ]
          },
          "metadata": {},
          "execution_count": 50
        }
      ]
    },
    {
      "cell_type": "markdown",
      "source": [
        "# SQL Views\n",
        "\n",
        "    SQL CREATE VIEW Statement\n",
        "\n",
        "In SQL, a view is a `virtual table` based on the result-set of an SQL statement.\n",
        "\n",
        "A view contains rows and columns, just like a real table.\n",
        "\n",
        "The fields in a view are fields from one or more real tables in the database.\n",
        "\n",
        "You can add SQL statements and functions to a view and present the data as if the data were coming from one single table.\n",
        "\n",
        "A view is created with the **`CREATE VIEW`** statement."
      ],
      "metadata": {
        "id": "LSXe4u2TbsN5"
      }
    },
    {
      "cell_type": "code",
      "source": [
        "%%sql\n",
        "\n",
        "CREATE VIEW [Indian Customers] AS\n",
        "SELECT LastName, FirstName\n",
        "FROM Customers\n",
        "WHERE Age = 25;"
      ],
      "metadata": {
        "colab": {
          "base_uri": "https://localhost:8080/"
        },
        "id": "WRbshUr-bfG-",
        "outputId": "aceeca32-7153-409e-a843-cac250b53e4d"
      },
      "execution_count": 52,
      "outputs": [
        {
          "output_type": "stream",
          "name": "stdout",
          "text": [
            " * sqlite:///testDB.db\n",
            "Done.\n"
          ]
        },
        {
          "output_type": "execute_result",
          "data": {
            "text/plain": [
              "[]"
            ]
          },
          "metadata": {},
          "execution_count": 52
        }
      ]
    },
    {
      "cell_type": "code",
      "source": [
        "%%sql SELECT * FROM [Indian Customers];"
      ],
      "metadata": {
        "colab": {
          "base_uri": "https://localhost:8080/",
          "height": 95
        },
        "id": "w1xQcosEcTYa",
        "outputId": "0f820957-32b0-4ffa-e9ca-1985069daead"
      },
      "execution_count": 54,
      "outputs": [
        {
          "output_type": "stream",
          "name": "stdout",
          "text": [
            " * sqlite:///testDB.db\n",
            "Done.\n"
          ]
        },
        {
          "output_type": "execute_result",
          "data": {
            "text/plain": [
              "[('Singh', 'Vicky')]"
            ],
            "text/html": [
              "<table>\n",
              "    <tr>\n",
              "        <th>LastName</th>\n",
              "        <th>FirstName</th>\n",
              "    </tr>\n",
              "    <tr>\n",
              "        <td>Singh</td>\n",
              "        <td>Vicky</td>\n",
              "    </tr>\n",
              "</table>"
            ]
          },
          "metadata": {},
          "execution_count": 54
        }
      ]
    },
    {
      "cell_type": "markdown",
      "source": [
        "    CREATE OR REPLACE VIEW [Brazil Customers] AS\n",
        "    SELECT CustomerName, ContactName, City\n",
        "    FROM Customers\n",
        "    WHERE Country = 'Brazil';"
      ],
      "metadata": {
        "id": "C-ZednsMdQ0j"
      }
    },
    {
      "cell_type": "code",
      "source": [],
      "metadata": {
        "id": "Y5v11-jdcWJg"
      },
      "execution_count": null,
      "outputs": []
    }
  ]
}