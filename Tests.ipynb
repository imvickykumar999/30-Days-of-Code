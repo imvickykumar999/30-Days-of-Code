{
 "cells": [
  {
   "cell_type": "code",
   "execution_count": 1,
   "metadata": {},
   "outputs": [
    {
     "name": "stdout",
     "output_type": "stream",
     "text": [
      "54321\n",
      "4321\n",
      "321\n",
      "21\n",
      "1\n"
     ]
    }
   ],
   "source": [
    "for i in range(5, 0, -1):\n",
    "    for j in range(i, 0, -1):\n",
    "        print(j, end='')\n",
    "    print()"
   ]
  },
  {
   "cell_type": "code",
   "execution_count": 2,
   "metadata": {},
   "outputs": [
    {
     "data": {
      "text/plain": [
       "[5, 4, 3, 2, 1]"
      ]
     },
     "execution_count": 2,
     "metadata": {},
     "output_type": "execute_result"
    }
   ],
   "source": [
    "list(range(5, 0, -1))"
   ]
  },
  {
   "cell_type": "code",
   "execution_count": 3,
   "metadata": {},
   "outputs": [],
   "source": [
    "a=[1,2,3]"
   ]
  },
  {
   "cell_type": "code",
   "execution_count": 4,
   "metadata": {},
   "outputs": [
    {
     "name": "stdout",
     "output_type": "stream",
     "text": [
      "3\n",
      "4 6\n",
      "First\n",
      "6 2\n",
      "Second\n",
      "8 8\n",
      "Any\n"
     ]
    }
   ],
   "source": [
    "# https://www.codechef.com/problems/CABS?tab=statement\n",
    "\n",
    "t = int(input())\n",
    "\n",
    "for i in range(t):\n",
    "    a,b = map(int, input().split())\n",
    "    if a<b:\n",
    "        print('First')\n",
    "    elif a==b:\n",
    "        print('Any')\n",
    "    else:\n",
    "        print('Second')"
   ]
  },
  {
   "cell_type": "code",
   "execution_count": 5,
   "metadata": {},
   "outputs": [
    {
     "name": "stdout",
     "output_type": "stream",
     "text": [
      "3\n",
      "3 4 5\n",
      "No\n",
      "5 3 3\n",
      "No\n",
      "5 9 6\n",
      "Yes\n"
     ]
    }
   ],
   "source": [
    "# https://www.codechef.com/viewsolution/84614055\n",
    "\n",
    "# cook your dish here\n",
    "t = int(input())\n",
    "\n",
    "for i in range(t):\n",
    "    x,y,a = map(int, input().split())\n",
    "    if x <= a < y:\n",
    "        print('Yes')\n",
    "    else:\n",
    "        print('No')"
   ]
  },
  {
   "cell_type": "code",
   "execution_count": 3,
   "metadata": {},
   "outputs": [
    {
     "data": {
      "text/plain": [
       "[1, 5]"
      ]
     },
     "execution_count": 3,
     "metadata": {},
     "output_type": "execute_result"
    }
   ],
   "source": [
    "# https://www.youtube.com/watch?v=nPfYzW8L4ZI&list=PL1YS4hYJip07A-YteNUR8qTeA_wHQarDX&index=7\n",
    "\n",
    "a1 = [1,2,3,4,5]\n",
    "a2 = [1,2,5,7,9]\n",
    "a3 = [1,3,4,5,8]\n",
    "\n",
    "list(set(a1)&set(a2)&set(a3))"
   ]
  },
  {
   "cell_type": "code",
   "execution_count": 65,
   "metadata": {},
   "outputs": [
    {
     "data": {
      "text/plain": [
       "6"
      ]
     },
     "execution_count": 65,
     "metadata": {},
     "output_type": "execute_result"
    }
   ],
   "source": [
    "# https://www.hackerrank.com/challenges/sock-merchant/problem?h_l=interview&isFullScreen=true&playlist_slugs%5B%5D=interview-preparation-kit&playlist_slugs%5B%5D=warmup\n",
    "\n",
    "def find_pairs(n, ar, res=0):\n",
    "    for i in list(set(ar)):\n",
    "        pairs = ar.count(i)\n",
    "        res += pairs-pairs%2\n",
    "    return res//2\n",
    "\n",
    "ar = [6, 5, 2, 3, 5, 2, 2, 1, 1, 5, 1, 3, 3, 3, 5]\n",
    "n = len(ar)\n",
    "find_pairs(n, ar)"
   ]
  },
  {
   "cell_type": "code",
   "execution_count": null,
   "metadata": {},
   "outputs": [],
   "source": []
  },
  {
   "cell_type": "code",
   "execution_count": 45,
   "metadata": {},
   "outputs": [
    {
     "name": "stdout",
     "output_type": "stream",
     "text": [
      "6 5 2 3 5 2 2 1 1 5 1 3 3 3 5\n"
     ]
    },
    {
     "data": {
      "text/plain": [
       "[6, 5, 2, 3, 5, 2, 2, 1, 1, 5, 1, 3, 3, 3, 5]"
      ]
     },
     "execution_count": 45,
     "metadata": {},
     "output_type": "execute_result"
    }
   ],
   "source": [
    "ar = list(map(int, input().rstrip().split()))\n",
    "ar"
   ]
  },
  {
   "cell_type": "code",
   "execution_count": 46,
   "metadata": {},
   "outputs": [
    {
     "data": {
      "text/plain": [
       "15"
      ]
     },
     "execution_count": 46,
     "metadata": {},
     "output_type": "execute_result"
    }
   ],
   "source": [
    "n = len(ar)\n",
    "n"
   ]
  },
  {
   "cell_type": "code",
   "execution_count": 47,
   "metadata": {},
   "outputs": [
    {
     "data": {
      "text/plain": [
       "7"
      ]
     },
     "execution_count": 47,
     "metadata": {},
     "output_type": "execute_result"
    }
   ],
   "source": [
    "find_pairs()"
   ]
  },
  {
   "cell_type": "code",
   "execution_count": 40,
   "metadata": {},
   "outputs": [
    {
     "data": {
      "text/plain": [
       "4"
      ]
     },
     "execution_count": 40,
     "metadata": {},
     "output_type": "execute_result"
    }
   ],
   "source": [
    "def sockMerchant(socks):\n",
    "    sock_count = {}\n",
    "    for sock in socks:\n",
    "        if sock in sock_count:\n",
    "            sock_count[sock] += 1\n",
    "        else:\n",
    "            sock_count[sock] = 1\n",
    "\n",
    "    num_pairs = 0\n",
    "    for count in sock_count.values():\n",
    "        num_pairs += count // 2\n",
    "\n",
    "    return num_pairs\n",
    "\n",
    "sockMerchant([1, 1, 3, 1, 2, 1, 3, 3, 3, 3])"
   ]
  },
  {
   "cell_type": "code",
   "execution_count": null,
   "metadata": {},
   "outputs": [],
   "source": []
  }
 ],
 "metadata": {
  "kernelspec": {
   "display_name": "Python 3 (ipykernel)",
   "language": "python",
   "name": "python3"
  },
  "language_info": {
   "codemirror_mode": {
    "name": "ipython",
    "version": 3
   },
   "file_extension": ".py",
   "mimetype": "text/x-python",
   "name": "python",
   "nbconvert_exporter": "python",
   "pygments_lexer": "ipython3",
   "version": "3.9.13"
  }
 },
 "nbformat": 4,
 "nbformat_minor": 4
}
